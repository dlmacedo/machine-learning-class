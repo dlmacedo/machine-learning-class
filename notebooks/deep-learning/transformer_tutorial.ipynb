{
  "nbformat": 4,
  "nbformat_minor": 0,
  "metadata": {
    "kernelspec": {
      "name": "python3",
      "display_name": "Python 3"
    },
    "language_info": {
      "codemirror_mode": {
        "name": "ipython",
        "version": 3
      },
      "file_extension": ".py",
      "mimetype": "text/x-python",
      "name": "python",
      "nbconvert_exporter": "python",
      "pygments_lexer": "ipython3",
      "version": "3.6.8"
    },
    "colab": {
      "name": "transformer_tutorial.ipynb",
      "provenance": [],
      "include_colab_link": true
    },
    "accelerator": "GPU"
  },
  "cells": [
    {
      "cell_type": "markdown",
      "metadata": {
        "id": "view-in-github",
        "colab_type": "text"
      },
      "source": [
        "<a href=\"https://colab.research.google.com/github/dlmacedo/ml-dl-notebooks/blob/master/notebooks/deep-learning/transformer_tutorial.ipynb\" target=\"_parent\"><img src=\"https://colab.research.google.com/assets/colab-badge.svg\" alt=\"Open In Colab\"/></a>"
      ]
    },
    {
      "cell_type": "code",
      "metadata": {
        "id": "hdQ6tU7FrNQN",
        "colab_type": "code",
        "colab": {}
      },
      "source": [
        "#!pip install torch==1.2.0\n",
        "%matplotlib inline"
      ],
      "execution_count": 0,
      "outputs": []
    },
    {
      "cell_type": "markdown",
      "metadata": {
        "id": "zlSm64WSrNQV",
        "colab_type": "text"
      },
      "source": [
        "nn.Transformer Tutorial\n",
        "=======================\n",
        "\n",
        "This is a tutorial to show how to implement nn.Transformer <https://pytorch.org/docs/master/nn.html?highlight=nn%20transformer#torch.nn.Transformer> module.\n",
        "\n",
        "PyTorch 1.2 release includes a standard transformer module based on the\n",
        "paper Attention is All You\n",
        "Need <https://arxiv.org/pdf/1706.03762.pdf>. The transformer model\n",
        "has been proved to be superior in quality for many sequence-to-sequence\n",
        "problems while being more parallelizable. The ``nn.Transformer`` module\n",
        "relies entirely on an attention mechanism (another module recently\n",
        "implemented as nn.MultiheadAttention <https://pytorch.org/docs/master/nn.html?highlight=multiheadattention#torch.nn.MultiheadAttention>) to draw global dependencies\n",
        "between input and output. The ``nn.Transformer`` module is now highly\n",
        "modularized such that a single component (like nn.TransformerEncoder <https://pytorch.org/docs/master/nn.html?highlight=nn%20transformerencoder#torch.nn.TransformerEncoder> in this tutorial) can be easily adapted/composed.\n",
        "\n",
        "<img src=\"https://pytorch.org/tutorials/_images/transformer_architecture.jpg\" width=\"600\" alt=\"transformer\">\n"
      ]
    },
    {
      "cell_type": "markdown",
      "metadata": {
        "id": "53OJQ75QrNQW",
        "colab_type": "text"
      },
      "source": [
        "Define the model\n",
        "----------------\n",
        "\n",
        "\n"
      ]
    },
    {
      "cell_type": "markdown",
      "metadata": {
        "id": "QYWULC4-rNQY",
        "colab_type": "text"
      },
      "source": [
        "In this tutorial, we train ``nn.TransformerEncoder`` model on a\n",
        "language modeling task. The language modeling task is to assign a\n",
        "probability for the likelihood of a given word (or a sequence of words)\n",
        "to follow a sequence of words. A sequence of tokens are passed to the embedding\n",
        "layer first, followed by a positional encoding layer to account for the order\n",
        "of the word (see the next paragraph for more details). The\n",
        "``nn.TransformerEncoder`` consists of multiple layers of\n",
        "nn.TransformerEncoderLayer <https://pytorch.org/docs/master/nn.html?highlight=transformerencoderlayer#torch.nn.TransformerEncoderLayer>. Along with the input sequence, a square\n",
        "attention mask is required because the self-attention layers in\n",
        "``nn.TransformerEncoder`` are only allowed to attend the earlier positions in\n",
        "the sequence. For the language modeling task, any tokens on the future\n",
        "positions should be masked. To have the actual words, the output\n",
        "of ``nn.TransformerEncoder`` model is sent to the final Linear\n",
        "layer, which is followed by a log-Softmax function.\n",
        "\n",
        "\n"
      ]
    },
    {
      "cell_type": "code",
      "metadata": {
        "id": "tSK0VrDcrNQZ",
        "colab_type": "code",
        "colab": {}
      },
      "source": [
        "import math\n",
        "import torch\n",
        "import torch.nn as nn\n",
        "import torch.nn.functional as F\n",
        "\n",
        "class TransformerModel(nn.Module):\n",
        "\n",
        "    def __init__(self, ntoken, ninp, nhead, nhid, nlayers, dropout=0.5):\n",
        "        super(TransformerModel, self).__init__()\n",
        "        from torch.nn import TransformerEncoder, TransformerEncoderLayer\n",
        "        self.model_type = 'Transformer'\n",
        "        self.src_mask = None\n",
        "        self.pos_encoder = PositionalEncoding(ninp, dropout)\n",
        "        encoder_layers = TransformerEncoderLayer(ninp, nhead, nhid, dropout)\n",
        "        self.transformer_encoder = TransformerEncoder(encoder_layers, nlayers)\n",
        "        self.encoder = nn.Embedding(ntoken, ninp)\n",
        "        self.ninp = ninp\n",
        "        self.decoder = nn.Linear(ninp, ntoken)\n",
        "\n",
        "        self.init_weights()\n",
        "\n",
        "    def _generate_square_subsequent_mask(self, sz):\n",
        "        mask = (torch.triu(torch.ones(sz, sz)) == 1).transpose(0, 1)\n",
        "        mask = mask.float().masked_fill(mask == 0, float('-inf')).masked_fill(mask == 1, float(0.0))\n",
        "        return mask\n",
        "\n",
        "    def init_weights(self):\n",
        "        initrange = 0.1\n",
        "        self.encoder.weight.data.uniform_(-initrange, initrange)\n",
        "        self.decoder.bias.data.zero_()\n",
        "        self.decoder.weight.data.uniform_(-initrange, initrange)\n",
        "\n",
        "    def forward(self, src):\n",
        "        if self.src_mask is None or self.src_mask.size(0) != len(src):\n",
        "            device = src.device\n",
        "            mask = self._generate_square_subsequent_mask(len(src)).to(device)\n",
        "            self.src_mask = mask\n",
        "\n",
        "        src = self.encoder(src) * math.sqrt(self.ninp)\n",
        "        src = self.pos_encoder(src)\n",
        "        output = self.transformer_encoder(src, self.src_mask)\n",
        "        output = self.decoder(output)\n",
        "        return F.log_softmax(output, dim=-1)"
      ],
      "execution_count": 0,
      "outputs": []
    },
    {
      "cell_type": "markdown",
      "metadata": {
        "id": "Jwv9jjnYrNQe",
        "colab_type": "text"
      },
      "source": [
        "``PositionalEncoding`` module injects some information about the\n",
        "relative or absolute position of the tokens in the sequence. The\n",
        "positional encodings have the same dimension as the embeddings so that\n",
        "the two can be summed. Here, we use ``sine`` and ``cosine`` functions of\n",
        "different frequencies.\n",
        "\n",
        "\n"
      ]
    },
    {
      "cell_type": "code",
      "metadata": {
        "id": "mssGvt7CrNQf",
        "colab_type": "code",
        "colab": {}
      },
      "source": [
        "class PositionalEncoding(nn.Module):\n",
        "\n",
        "    def __init__(self, d_model, dropout=0.1, max_len=5000):\n",
        "        super(PositionalEncoding, self).__init__()\n",
        "        self.dropout = nn.Dropout(p=dropout)\n",
        "\n",
        "        pe = torch.zeros(max_len, d_model)\n",
        "        position = torch.arange(0, max_len, dtype=torch.float).unsqueeze(1)\n",
        "        div_term = torch.exp(torch.arange(0, d_model, 2).float() * (-math.log(10000.0) / d_model))\n",
        "        pe[:, 0::2] = torch.sin(position * div_term)\n",
        "        pe[:, 1::2] = torch.cos(position * div_term)\n",
        "        pe = pe.unsqueeze(0).transpose(0, 1)\n",
        "        self.register_buffer('pe', pe)\n",
        "\n",
        "    def forward(self, x):\n",
        "        x = x + self.pe[:x.size(0), :]\n",
        "        return self.dropout(x)"
      ],
      "execution_count": 0,
      "outputs": []
    },
    {
      "cell_type": "markdown",
      "metadata": {
        "id": "epotnZyTrNQk",
        "colab_type": "text"
      },
      "source": [
        "Load and batch data\n",
        "-------------------\n",
        "\n",
        "\n"
      ]
    },
    {
      "cell_type": "markdown",
      "metadata": {
        "id": "z6oewrmkrNQk",
        "colab_type": "text"
      },
      "source": [
        "The training process uses Wikitext-2 dataset from ``torchtext``. The\n",
        "vocab object is built based on the train dataset and is used to numericalize \n",
        "tokens into tensors. Starting from sequential data, the ``batchify()``\n",
        "function arranges the dataset into columns. For instance, with the\n",
        "alphabet as the sequence and a batch size of 4, we have the following\n",
        "arrangement:\n",
        "\n",
        "┌ A   G   M   S   ┐\n",
        "\n",
        "│ B   H   N   T   │\n",
        "\n",
        "│ C   I   O   U   |\n",
        "\n",
        "│ D   J   P   V   |\n",
        "\n",
        "│ E   K   Q   W   |\n",
        "\n",
        "└ F   L   R   X   ┘\n",
        "\n",
        "These columns are treated as independent by the model, which means that\n",
        "the dependence of ``G`` and ``F`` can not be learned, but allows more\n",
        "efficient batch processing.\n",
        "\n",
        "\n"
      ]
    },
    {
      "cell_type": "code",
      "metadata": {
        "id": "uqY078QRrNQl",
        "colab_type": "code",
        "colab": {
          "base_uri": "https://localhost:8080/",
          "height": 69
        },
        "outputId": "837c842f-03af-4c18-9f5f-4d9038280a48"
      },
      "source": [
        "import torchtext\n",
        "from torchtext.data.utils import get_tokenizer\n",
        "TEXT = torchtext.data.Field(tokenize=get_tokenizer(\"spacy\"),\n",
        "                            init_token='<sos>',\n",
        "                            eos_token='<eos>',\n",
        "                            lower=True)\n",
        "train_txt, val_txt, test_txt = torchtext.datasets.WikiText2.splits(TEXT)\n",
        "TEXT.build_vocab(train_txt)\n",
        "device = torch.device(\"cuda\" if torch.cuda.is_available() else \"cpu\")\n",
        "\n",
        "def batchify(data, bsz):\n",
        "    data = TEXT.numericalize([data.examples[0].text])\n",
        "    # Divide the dataset into bsz parts.\n",
        "    nbatch = data.size(0) // bsz\n",
        "    # Trim off any extra elements that wouldn't cleanly fit (remainders).\n",
        "    data = data.narrow(0, 0, nbatch * bsz)\n",
        "    # Evenly divide the data across the bsz batches.\n",
        "    data = data.view(bsz, -1).t().contiguous()\n",
        "    return data.to(device)\n",
        "\n",
        "batch_size = 20\n",
        "eval_batch_size = 10\n",
        "train_data = batchify(train_txt, batch_size)\n",
        "val_data = batchify(val_txt, eval_batch_size)\n",
        "test_data = batchify(test_txt, eval_batch_size)"
      ],
      "execution_count": 4,
      "outputs": [
        {
          "output_type": "stream",
          "text": [
            "downloading wikitext-2-v1.zip\n"
          ],
          "name": "stdout"
        },
        {
          "output_type": "stream",
          "text": [
            "wikitext-2-v1.zip: 100%|██████████| 4.48M/4.48M [00:01<00:00, 2.62MB/s]\n"
          ],
          "name": "stderr"
        },
        {
          "output_type": "stream",
          "text": [
            "extracting\n"
          ],
          "name": "stdout"
        }
      ]
    },
    {
      "cell_type": "markdown",
      "metadata": {
        "id": "sAaDZ5PKrNQo",
        "colab_type": "text"
      },
      "source": [
        "Functions to generate input and target sequence\n",
        "-----------------------------------------------\n"
      ]
    },
    {
      "cell_type": "markdown",
      "metadata": {
        "id": "b0bgKXMqrNQp",
        "colab_type": "text"
      },
      "source": [
        "``get_batch()`` function generates the input and target sequence for\n",
        "the transformer model. It subdivides the source data into chunks of\n",
        "length ``bptt``. For the language modeling task, the model needs the\n",
        "following words as ``Target``. For example, with a ``bptt`` value of 2,\n",
        "we’d get the following two Variables for ``i`` = 0:\n",
        "\n",
        "<img src=\"https://pytorch.org/tutorials/_images/transformer_input_target.png\" width=\"600\" alt=\"transformer\">\n",
        "\n",
        "It should be noted that the chunks are along dimension 0, consistent\n",
        "with the ``S`` dimension in the Transformer model. The batch dimension\n",
        "``N`` is along dimension 1.\n",
        "\n"
      ]
    },
    {
      "cell_type": "code",
      "metadata": {
        "id": "k5Kl8ymErNQq",
        "colab_type": "code",
        "colab": {}
      },
      "source": [
        "bptt = 35\n",
        "def get_batch(source, i):\n",
        "    seq_len = min(bptt, len(source) - 1 - i)\n",
        "    data = source[i:i+seq_len]\n",
        "    target = source[i+1:i+1+seq_len].view(-1)\n",
        "    return data, target"
      ],
      "execution_count": 0,
      "outputs": []
    },
    {
      "cell_type": "markdown",
      "metadata": {
        "id": "2fLcy02TrNQt",
        "colab_type": "text"
      },
      "source": [
        "Initiate an instance\n",
        "--------------------\n",
        "\n",
        "\n"
      ]
    },
    {
      "cell_type": "markdown",
      "metadata": {
        "id": "aqoaANxSrNQt",
        "colab_type": "text"
      },
      "source": [
        "The model is set up with the hyperparameter below. The vocab size is\n",
        "equal to the length of the vocab object.\n",
        "\n",
        "\n"
      ]
    },
    {
      "cell_type": "code",
      "metadata": {
        "id": "65weQTylrNQv",
        "colab_type": "code",
        "colab": {}
      },
      "source": [
        "ntokens = len(TEXT.vocab.stoi) # the size of vocabulary\n",
        "emsize = 200 # embedding dimension\n",
        "nhid = 200 # the dimension of the feedforward network model in nn.TransformerEncoder\n",
        "nlayers = 2 # the number of nn.TransformerEncoderLayer in nn.TransformerEncoder\n",
        "nhead = 2 # the number of heads in the multiheadattention models \n",
        "dropout = 0.2 # the dropout value\n",
        "model = TransformerModel(ntokens, emsize, nhead, nhid, nlayers, dropout).to(device)"
      ],
      "execution_count": 0,
      "outputs": []
    },
    {
      "cell_type": "markdown",
      "metadata": {
        "id": "IaTxBHYsrNQy",
        "colab_type": "text"
      },
      "source": [
        "Run the model\n",
        "-------------\n",
        "\n",
        "\n"
      ]
    },
    {
      "cell_type": "markdown",
      "metadata": {
        "id": "ZvzwvT-UrNQz",
        "colab_type": "text"
      },
      "source": [
        "CrossEntropyLoss <https://pytorch.org/docs/master/nn.html?highlight=crossentropyloss#torch.nn.CrossEntropyLoss> is applied to track the loss and SGD <https://pytorch.org/docs/master/optim.html?highlight=sgd#torch.optim.SGD> implements stochastic gradient descent method as the optimizer. The initial learning rate is set to 5.0. StepLR <https://pytorch.org/docs/master/optim.html?highlight=steplr#torch.optim.lr_scheduler.StepLR> is\n",
        "applied to adjust the learn rate through epochs. During the\n",
        "training, we use\n",
        "nn.utils.clip_grad_norm_ <https://pytorch.org/docs/master/nn.html?highlight=nn%20utils%20clip_grad_norm#torch.nn.utils.clip_grad_norm_> function to scale all the gradient together to prevent exploding.\n"
      ]
    },
    {
      "cell_type": "code",
      "metadata": {
        "id": "xJh_NL0vrNQ1",
        "colab_type": "code",
        "colab": {}
      },
      "source": [
        "criterion = nn.CrossEntropyLoss()\n",
        "lr = 5.0 # learning rate\n",
        "optimizer = torch.optim.SGD(model.parameters(), lr=lr)\n",
        "scheduler = torch.optim.lr_scheduler.StepLR(optimizer, 1.0, gamma=0.95)\n",
        "\n",
        "import time\n",
        "def train():\n",
        "    model.train() # Turn on the train mode\n",
        "    total_loss = 0.\n",
        "    start_time = time.time()\n",
        "    ntokens = len(TEXT.vocab.stoi)\n",
        "    for batch, i in enumerate(range(0, train_data.size(0) - 1, bptt)):\n",
        "        data, targets = get_batch(train_data, i)\n",
        "        optimizer.zero_grad()\n",
        "        output = model(data)\n",
        "        loss = criterion(output.view(-1, ntokens), targets)\n",
        "        loss.backward()\n",
        "        torch.nn.utils.clip_grad_norm_(model.parameters(), 0.5)\n",
        "        optimizer.step()\n",
        "\n",
        "        total_loss += loss.item()\n",
        "        log_interval = 200\n",
        "        if batch % log_interval == 0 and batch > 0:\n",
        "            cur_loss = total_loss / log_interval\n",
        "            elapsed = time.time() - start_time\n",
        "            print('| epoch {:3d} | {:5d}/{:5d} batches | '\n",
        "                  'lr {:02.2f} | ms/batch {:5.2f} | '\n",
        "                  'loss {:5.2f} | ppl {:8.2f}'.format(\n",
        "                    epoch, batch, len(train_data) // bptt, scheduler.get_lr()[0],\n",
        "                    elapsed * 1000 / log_interval,\n",
        "                    cur_loss, math.exp(cur_loss)))\n",
        "            total_loss = 0\n",
        "            start_time = time.time()\n",
        "\n",
        "def evaluate(eval_model, data_source):\n",
        "    eval_model.eval() # Turn on the evaluation mode\n",
        "    total_loss = 0.\n",
        "    ntokens = len(TEXT.vocab.stoi)\n",
        "    with torch.no_grad():\n",
        "        for i in range(0, data_source.size(0) - 1, bptt):\n",
        "            data, targets = get_batch(data_source, i)\n",
        "            output = eval_model(data)\n",
        "            output_flat = output.view(-1, ntokens)\n",
        "            total_loss += len(data) * criterion(output_flat, targets).item()\n",
        "    return total_loss / (len(data_source) - 1)"
      ],
      "execution_count": 0,
      "outputs": []
    },
    {
      "cell_type": "markdown",
      "metadata": {
        "id": "2UFuHH2XrNQ3",
        "colab_type": "text"
      },
      "source": [
        "Loop over epochs. Save the model if the validation loss is the best \n",
        "we've seen so far. Adjust the learning rate after each epoch.\n",
        "\n"
      ]
    },
    {
      "cell_type": "code",
      "metadata": {
        "id": "RsiihLx3rNQ5",
        "colab_type": "code",
        "colab": {
          "base_uri": "https://localhost:8080/",
          "height": 953
        },
        "outputId": "ac1fb209-547f-434f-fdea-e3a42e2c50dd"
      },
      "source": [
        "best_val_loss = float(\"inf\")\n",
        "epochs = 3 # The number of epochs\n",
        "best_model = None\n",
        "\n",
        "for epoch in range(1, epochs + 1):\n",
        "    epoch_start_time = time.time()\n",
        "    train()\n",
        "    val_loss = evaluate(model, val_data)\n",
        "    print('-' * 89)\n",
        "    print('| end of epoch {:3d} | time: {:5.2f}s | valid loss {:5.2f} | '\n",
        "          'valid ppl {:8.2f}'.format(epoch, (time.time() - epoch_start_time),\n",
        "                                     val_loss, math.exp(val_loss)))\n",
        "    print('-' * 89)\n",
        "    \n",
        "    if val_loss < best_val_loss:\n",
        "        best_val_loss = val_loss\n",
        "        best_model = model\n",
        "\n",
        "    scheduler.step()"
      ],
      "execution_count": 8,
      "outputs": [
        {
          "output_type": "stream",
          "text": [
            "| epoch   1 |   200/ 3195 batches | lr 5.00 | ms/batch 21.26 | loss  7.31 | ppl  1499.47\n",
            "| epoch   1 |   400/ 3195 batches | lr 5.00 | ms/batch 20.31 | loss  6.26 | ppl   521.25\n",
            "| epoch   1 |   600/ 3195 batches | lr 5.00 | ms/batch 20.50 | loss  5.97 | ppl   391.02\n",
            "| epoch   1 |   800/ 3195 batches | lr 5.00 | ms/batch 20.44 | loss  5.79 | ppl   327.12\n",
            "| epoch   1 |  1000/ 3195 batches | lr 5.00 | ms/batch 20.41 | loss  5.81 | ppl   334.11\n",
            "| epoch   1 |  1200/ 3195 batches | lr 5.00 | ms/batch 20.71 | loss  5.74 | ppl   312.06\n",
            "| epoch   1 |  1400/ 3195 batches | lr 5.00 | ms/batch 20.81 | loss  5.70 | ppl   299.57\n",
            "| epoch   1 |  1600/ 3195 batches | lr 5.00 | ms/batch 20.96 | loss  5.60 | ppl   271.63\n",
            "| epoch   1 |  1800/ 3195 batches | lr 5.00 | ms/batch 20.94 | loss  5.62 | ppl   276.39\n",
            "| epoch   1 |  2000/ 3195 batches | lr 5.00 | ms/batch 21.03 | loss  5.63 | ppl   278.02\n",
            "| epoch   1 |  2200/ 3195 batches | lr 5.00 | ms/batch 21.22 | loss  5.56 | ppl   260.42\n",
            "| epoch   1 |  2400/ 3195 batches | lr 5.00 | ms/batch 21.17 | loss  5.45 | ppl   232.76\n",
            "| epoch   1 |  2600/ 3195 batches | lr 5.00 | ms/batch 21.38 | loss  5.54 | ppl   253.75\n",
            "| epoch   1 |  2800/ 3195 batches | lr 5.00 | ms/batch 21.42 | loss  5.52 | ppl   249.64\n",
            "| epoch   1 |  3000/ 3195 batches | lr 5.00 | ms/batch 21.61 | loss  5.42 | ppl   225.04\n",
            "-----------------------------------------------------------------------------------------\n",
            "| end of epoch   1 | time: 70.61s | valid loss  5.18 | valid ppl   178.50\n",
            "-----------------------------------------------------------------------------------------\n",
            "| epoch   2 |   200/ 3195 batches | lr 4.75 | ms/batch 21.89 | loss  5.38 | ppl   216.06\n",
            "| epoch   2 |   400/ 3195 batches | lr 4.75 | ms/batch 21.64 | loss  5.36 | ppl   212.72\n",
            "| epoch   2 |   600/ 3195 batches | lr 4.75 | ms/batch 21.59 | loss  5.25 | ppl   191.36\n",
            "| epoch   2 |   800/ 3195 batches | lr 4.75 | ms/batch 21.63 | loss  5.23 | ppl   185.89\n",
            "| epoch   2 |  1000/ 3195 batches | lr 4.75 | ms/batch 21.52 | loss  5.31 | ppl   202.24\n",
            "| epoch   2 |  1200/ 3195 batches | lr 4.75 | ms/batch 21.50 | loss  5.29 | ppl   197.48\n",
            "| epoch   2 |  1400/ 3195 batches | lr 4.75 | ms/batch 21.32 | loss  5.30 | ppl   199.46\n",
            "| epoch   2 |  1600/ 3195 batches | lr 4.75 | ms/batch 21.28 | loss  5.23 | ppl   186.14\n",
            "| epoch   2 |  1800/ 3195 batches | lr 4.75 | ms/batch 21.22 | loss  5.27 | ppl   193.98\n",
            "| epoch   2 |  2000/ 3195 batches | lr 4.75 | ms/batch 21.24 | loss  5.30 | ppl   200.36\n",
            "| epoch   2 |  2200/ 3195 batches | lr 4.75 | ms/batch 21.21 | loss  5.25 | ppl   191.18\n",
            "| epoch   2 |  2400/ 3195 batches | lr 4.75 | ms/batch 21.20 | loss  5.15 | ppl   171.71\n",
            "| epoch   2 |  2600/ 3195 batches | lr 4.75 | ms/batch 21.22 | loss  5.23 | ppl   187.57\n",
            "| epoch   2 |  2800/ 3195 batches | lr 4.75 | ms/batch 21.25 | loss  5.23 | ppl   187.27\n",
            "| epoch   2 |  3000/ 3195 batches | lr 4.75 | ms/batch 21.25 | loss  5.15 | ppl   171.64\n",
            "-----------------------------------------------------------------------------------------\n",
            "| end of epoch   2 | time: 71.91s | valid loss  5.03 | valid ppl   153.24\n",
            "-----------------------------------------------------------------------------------------\n",
            "| epoch   3 |   200/ 3195 batches | lr 4.51 | ms/batch 21.40 | loss  5.14 | ppl   170.68\n",
            "| epoch   3 |   400/ 3195 batches | lr 4.51 | ms/batch 21.37 | loss  5.14 | ppl   171.04\n",
            "| epoch   3 |   600/ 3195 batches | lr 4.51 | ms/batch 21.43 | loss  5.04 | ppl   153.72\n",
            "| epoch   3 |   800/ 3195 batches | lr 4.51 | ms/batch 21.48 | loss  5.02 | ppl   151.19\n",
            "| epoch   3 |  1000/ 3195 batches | lr 4.51 | ms/batch 21.42 | loss  5.11 | ppl   166.08\n",
            "| epoch   3 |  1200/ 3195 batches | lr 4.51 | ms/batch 21.37 | loss  5.09 | ppl   161.78\n",
            "| epoch   3 |  1400/ 3195 batches | lr 4.51 | ms/batch 21.38 | loss  5.11 | ppl   165.41\n",
            "| epoch   3 |  1600/ 3195 batches | lr 4.51 | ms/batch 21.43 | loss  5.04 | ppl   154.00\n",
            "| epoch   3 |  1800/ 3195 batches | lr 4.51 | ms/batch 21.33 | loss  5.09 | ppl   162.51\n",
            "| epoch   3 |  2000/ 3195 batches | lr 4.51 | ms/batch 21.31 | loss  5.12 | ppl   168.03\n",
            "| epoch   3 |  2200/ 3195 batches | lr 4.51 | ms/batch 21.30 | loss  5.07 | ppl   159.81\n",
            "| epoch   3 |  2400/ 3195 batches | lr 4.51 | ms/batch 21.32 | loss  4.96 | ppl   142.68\n",
            "| epoch   3 |  2600/ 3195 batches | lr 4.51 | ms/batch 21.28 | loss  5.06 | ppl   157.77\n",
            "| epoch   3 |  2800/ 3195 batches | lr 4.51 | ms/batch 21.35 | loss  5.06 | ppl   157.14\n",
            "| epoch   3 |  3000/ 3195 batches | lr 4.51 | ms/batch 21.33 | loss  4.98 | ppl   145.84\n",
            "-----------------------------------------------------------------------------------------\n",
            "| end of epoch   3 | time: 71.79s | valid loss  5.01 | valid ppl   149.63\n",
            "-----------------------------------------------------------------------------------------\n"
          ],
          "name": "stdout"
        }
      ]
    },
    {
      "cell_type": "markdown",
      "metadata": {
        "id": "9HJTXbztrNQ7",
        "colab_type": "text"
      },
      "source": [
        "Evaluate the model with the test dataset\n",
        "-------------------------------------\n",
        "\n",
        "Apply the best model to check the result with the test dataset.\n",
        "\n"
      ]
    },
    {
      "cell_type": "code",
      "metadata": {
        "id": "w7BML-iArNQ8",
        "colab_type": "code",
        "colab": {
          "base_uri": "https://localhost:8080/",
          "height": 69
        },
        "outputId": "ebbf1add-ca6f-49d4-c628-88e9fce69bcb"
      },
      "source": [
        "test_loss = evaluate(best_model, test_data)\n",
        "print('=' * 89)\n",
        "print('| End of training | test loss {:5.2f} | test ppl {:8.2f}'.format(\n",
        "    test_loss, math.exp(test_loss)))\n",
        "print('=' * 89)"
      ],
      "execution_count": 9,
      "outputs": [
        {
          "output_type": "stream",
          "text": [
            "=========================================================================================\n",
            "| End of training | test loss  4.86 | test ppl   128.50\n",
            "=========================================================================================\n"
          ],
          "name": "stdout"
        }
      ]
    }
  ]
}