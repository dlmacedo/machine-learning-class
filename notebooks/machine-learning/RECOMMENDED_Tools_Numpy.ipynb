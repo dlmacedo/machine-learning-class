{
  "nbformat": 4,
  "nbformat_minor": 0,
  "metadata": {
    "kernelspec": {
      "name": "python3",
      "display_name": "Python 3"
    },
    "toc": {
      "toc_cell": false,
      "toc_number_sections": true,
      "toc_section_display": "block",
      "toc_threshold": 6,
      "toc_window_display": false
    },
    "toc_position": {
      "height": "677px",
      "left": "1195.02px",
      "right": "20px",
      "top": "78px",
      "width": "238px"
    },
    "colab": {
      "name": "RECOMMENDED_Tools_Numpy.ipynb",
      "provenance": [],
      "include_colab_link": true
    }
  },
  "cells": [
    {
      "cell_type": "markdown",
      "metadata": {
        "id": "view-in-github",
        "colab_type": "text"
      },
      "source": [
        "<a href=\"https://colab.research.google.com/github/dlmacedo/ml-dl-notebooks/blob/master/notebooks/machine-learning/RECOMMENDED_Tools_Numpy.ipynb\" target=\"_parent\"><img src=\"https://colab.research.google.com/assets/colab-badge.svg\" alt=\"Open In Colab\"/></a>"
      ]
    },
    {
      "cell_type": "markdown",
      "metadata": {
        "id": "bf3GUsZm2Q7k",
        "colab_type": "text"
      },
      "source": [
        "**Tools - NumPy**\n",
        "\n",
        "*NumPy is the fundamental library for scientific computing with Python. NumPy is centered around a powerful N-dimensional array object, and it also contains useful linear algebra, Fourier transform, and random number functions.*\n",
        "\n",
        "# Creating arrays\n",
        "First let's make sure that this notebook works both in python 2 and 3:"
      ]
    },
    {
      "cell_type": "code",
      "metadata": {
        "id": "I8GshyJ62Q7o",
        "colab_type": "code",
        "colab": {}
      },
      "source": [
        "from __future__ import division, print_function, unicode_literals"
      ],
      "execution_count": 0,
      "outputs": []
    },
    {
      "cell_type": "markdown",
      "metadata": {
        "id": "YJ1VjVaL2Q7u",
        "colab_type": "text"
      },
      "source": [
        "Now let's import `numpy`. Most people import it as `np`:"
      ]
    },
    {
      "cell_type": "code",
      "metadata": {
        "id": "PsgJk65w2Q7w",
        "colab_type": "code",
        "colab": {}
      },
      "source": [
        "import numpy as np"
      ],
      "execution_count": 0,
      "outputs": []
    },
    {
      "cell_type": "markdown",
      "metadata": {
        "id": "Z9zML46D2Q70",
        "colab_type": "text"
      },
      "source": [
        "## `np.zeros`"
      ]
    },
    {
      "cell_type": "markdown",
      "metadata": {
        "id": "WGuhGjJO2Q71",
        "colab_type": "text"
      },
      "source": [
        "The `zeros` function creates an array containing any number of zeros:"
      ]
    },
    {
      "cell_type": "code",
      "metadata": {
        "id": "8Ofijx8j2Q73",
        "colab_type": "code",
        "colab": {
          "base_uri": "https://localhost:8080/",
          "height": 35
        },
        "outputId": "d5debec5-91a1-4e06-be53-a38d661bec29"
      },
      "source": [
        "np.zeros(5)"
      ],
      "execution_count": 3,
      "outputs": [
        {
          "output_type": "execute_result",
          "data": {
            "text/plain": [
              "array([0., 0., 0., 0., 0.])"
            ]
          },
          "metadata": {
            "tags": []
          },
          "execution_count": 3
        }
      ]
    },
    {
      "cell_type": "markdown",
      "metadata": {
        "id": "vPTy5NBm2Q78",
        "colab_type": "text"
      },
      "source": [
        "It's just as easy to create a 2D array (ie. a matrix) by providing a tuple with the desired number of rows and columns. For example, here's a 3x4 matrix:"
      ]
    },
    {
      "cell_type": "code",
      "metadata": {
        "id": "0fYN0H722Q79",
        "colab_type": "code",
        "colab": {
          "base_uri": "https://localhost:8080/",
          "height": 69
        },
        "outputId": "f54b57e6-972f-49e0-82d9-a71dce52e6a9"
      },
      "source": [
        "np.zeros((3,4))"
      ],
      "execution_count": 4,
      "outputs": [
        {
          "output_type": "execute_result",
          "data": {
            "text/plain": [
              "array([[0., 0., 0., 0.],\n",
              "       [0., 0., 0., 0.],\n",
              "       [0., 0., 0., 0.]])"
            ]
          },
          "metadata": {
            "tags": []
          },
          "execution_count": 4
        }
      ]
    },
    {
      "cell_type": "markdown",
      "metadata": {
        "id": "sbJVT55M2Q8A",
        "colab_type": "text"
      },
      "source": [
        "## Some vocabulary\n",
        "\n",
        "* In NumPy, each dimension is called an **axis**.\n",
        "* The number of axes is called the **rank**.\n",
        "    * For example, the above 3x4 matrix is an array of rank 2 (it is 2-dimensional).\n",
        "    * The first axis has length 3, the second has length 4.\n",
        "* An array's list of axis lengths is called the **shape** of the array.\n",
        "    * For example, the above matrix's shape is `(3, 4)`.\n",
        "    * The rank is equal to the shape's length.\n",
        "* The **size** of an array is the total number of elements, which is the product of all axis lengths (eg. 3*4=12)"
      ]
    },
    {
      "cell_type": "code",
      "metadata": {
        "id": "pfnUv-dG2Q8B",
        "colab_type": "code",
        "colab": {
          "base_uri": "https://localhost:8080/",
          "height": 69
        },
        "outputId": "4f0a730d-01a8-43c9-8ecf-2cf19502056d"
      },
      "source": [
        "a = np.zeros((3,4))\n",
        "a"
      ],
      "execution_count": 5,
      "outputs": [
        {
          "output_type": "execute_result",
          "data": {
            "text/plain": [
              "array([[0., 0., 0., 0.],\n",
              "       [0., 0., 0., 0.],\n",
              "       [0., 0., 0., 0.]])"
            ]
          },
          "metadata": {
            "tags": []
          },
          "execution_count": 5
        }
      ]
    },
    {
      "cell_type": "code",
      "metadata": {
        "id": "1Cjzud6w2Q8E",
        "colab_type": "code",
        "colab": {
          "base_uri": "https://localhost:8080/",
          "height": 35
        },
        "outputId": "dac9ea82-90cc-4fa4-aff1-94902b2d1585"
      },
      "source": [
        "a.shape"
      ],
      "execution_count": 6,
      "outputs": [
        {
          "output_type": "execute_result",
          "data": {
            "text/plain": [
              "(3, 4)"
            ]
          },
          "metadata": {
            "tags": []
          },
          "execution_count": 6
        }
      ]
    },
    {
      "cell_type": "code",
      "metadata": {
        "id": "cSz4XxZC2Q8I",
        "colab_type": "code",
        "colab": {
          "base_uri": "https://localhost:8080/",
          "height": 35
        },
        "outputId": "10514080-45fc-492f-8595-943b40ed22f3"
      },
      "source": [
        "a.ndim  # equal to len(a.shape)"
      ],
      "execution_count": 7,
      "outputs": [
        {
          "output_type": "execute_result",
          "data": {
            "text/plain": [
              "2"
            ]
          },
          "metadata": {
            "tags": []
          },
          "execution_count": 7
        }
      ]
    },
    {
      "cell_type": "code",
      "metadata": {
        "id": "NPwGyHNM2Q8L",
        "colab_type": "code",
        "colab": {
          "base_uri": "https://localhost:8080/",
          "height": 35
        },
        "outputId": "b4d590a8-48e6-4c9e-d387-f50e53c0bb21"
      },
      "source": [
        "a.size"
      ],
      "execution_count": 8,
      "outputs": [
        {
          "output_type": "execute_result",
          "data": {
            "text/plain": [
              "12"
            ]
          },
          "metadata": {
            "tags": []
          },
          "execution_count": 8
        }
      ]
    },
    {
      "cell_type": "markdown",
      "metadata": {
        "id": "AJEbjlgX2Q8N",
        "colab_type": "text"
      },
      "source": [
        "## N-dimensional arrays\n",
        "You can also create an N-dimensional array of arbitrary rank. For example, here's a 3D array (rank=3), with shape `(2,3,4)`:"
      ]
    },
    {
      "cell_type": "code",
      "metadata": {
        "id": "0jws_Q6P2Q8O",
        "colab_type": "code",
        "colab": {
          "base_uri": "https://localhost:8080/",
          "height": 139
        },
        "outputId": "eed3ad2f-5e5d-4b34-8e1d-e552d5300f4c"
      },
      "source": [
        "np.zeros((2,3,4))"
      ],
      "execution_count": 9,
      "outputs": [
        {
          "output_type": "execute_result",
          "data": {
            "text/plain": [
              "array([[[0., 0., 0., 0.],\n",
              "        [0., 0., 0., 0.],\n",
              "        [0., 0., 0., 0.]],\n",
              "\n",
              "       [[0., 0., 0., 0.],\n",
              "        [0., 0., 0., 0.],\n",
              "        [0., 0., 0., 0.]]])"
            ]
          },
          "metadata": {
            "tags": []
          },
          "execution_count": 9
        }
      ]
    },
    {
      "cell_type": "markdown",
      "metadata": {
        "id": "96wmio3q2Q8S",
        "colab_type": "text"
      },
      "source": [
        "## Array type\n",
        "NumPy arrays have the type `ndarray`s:"
      ]
    },
    {
      "cell_type": "code",
      "metadata": {
        "id": "-6YxiYby2Q8T",
        "colab_type": "code",
        "colab": {
          "base_uri": "https://localhost:8080/",
          "height": 35
        },
        "outputId": "19586993-23a2-4050-92e9-24c325bc29cd"
      },
      "source": [
        "type(np.zeros((3,4)))"
      ],
      "execution_count": 10,
      "outputs": [
        {
          "output_type": "execute_result",
          "data": {
            "text/plain": [
              "numpy.ndarray"
            ]
          },
          "metadata": {
            "tags": []
          },
          "execution_count": 10
        }
      ]
    },
    {
      "cell_type": "markdown",
      "metadata": {
        "id": "LL7tTqKV2Q8W",
        "colab_type": "text"
      },
      "source": [
        "## `np.ones`\n",
        "Many other NumPy functions create `ndarrays`.\n",
        "\n",
        "Here's a 3x4 matrix full of ones:"
      ]
    },
    {
      "cell_type": "code",
      "metadata": {
        "id": "2a7EqUHI2Q8X",
        "colab_type": "code",
        "colab": {
          "base_uri": "https://localhost:8080/",
          "height": 69
        },
        "outputId": "e46d2958-ead1-4ade-8495-9d2c02b951c3"
      },
      "source": [
        "np.ones((3,4))"
      ],
      "execution_count": 11,
      "outputs": [
        {
          "output_type": "execute_result",
          "data": {
            "text/plain": [
              "array([[1., 1., 1., 1.],\n",
              "       [1., 1., 1., 1.],\n",
              "       [1., 1., 1., 1.]])"
            ]
          },
          "metadata": {
            "tags": []
          },
          "execution_count": 11
        }
      ]
    },
    {
      "cell_type": "markdown",
      "metadata": {
        "id": "1imlZ1qQ2Q8a",
        "colab_type": "text"
      },
      "source": [
        "## `np.full`\n",
        "Creates an array of the given shape initialized with the given value. Here's a 3x4 matrix full of `π`."
      ]
    },
    {
      "cell_type": "code",
      "metadata": {
        "id": "PG2ud6Vs2Q8b",
        "colab_type": "code",
        "colab": {
          "base_uri": "https://localhost:8080/",
          "height": 69
        },
        "outputId": "a66e7487-9b18-40de-e48b-81c7b262bd0a"
      },
      "source": [
        "np.full((3,4), np.pi)"
      ],
      "execution_count": 12,
      "outputs": [
        {
          "output_type": "execute_result",
          "data": {
            "text/plain": [
              "array([[3.14159265, 3.14159265, 3.14159265, 3.14159265],\n",
              "       [3.14159265, 3.14159265, 3.14159265, 3.14159265],\n",
              "       [3.14159265, 3.14159265, 3.14159265, 3.14159265]])"
            ]
          },
          "metadata": {
            "tags": []
          },
          "execution_count": 12
        }
      ]
    },
    {
      "cell_type": "markdown",
      "metadata": {
        "id": "K13MvQIM2Q8e",
        "colab_type": "text"
      },
      "source": [
        "## `np.empty`\n",
        "An uninitialized 2x3 array (its content is not predictable, as it is whatever is in memory at that point):"
      ]
    },
    {
      "cell_type": "code",
      "metadata": {
        "scrolled": true,
        "id": "q9lvuWi72Q8f",
        "colab_type": "code",
        "colab": {
          "base_uri": "https://localhost:8080/",
          "height": 52
        },
        "outputId": "7a217588-4a3a-40ad-f4c2-bf04364c914f"
      },
      "source": [
        "np.empty((2,3))"
      ],
      "execution_count": 13,
      "outputs": [
        {
          "output_type": "execute_result",
          "data": {
            "text/plain": [
              "array([[3.0424697e-316, 0.0000000e+000, 0.0000000e+000],\n",
              "       [0.0000000e+000, 0.0000000e+000, 0.0000000e+000]])"
            ]
          },
          "metadata": {
            "tags": []
          },
          "execution_count": 13
        }
      ]
    },
    {
      "cell_type": "markdown",
      "metadata": {
        "id": "0n0BRXhL2Q8j",
        "colab_type": "text"
      },
      "source": [
        "## np.array\n",
        "Of course you can initialize an `ndarray` using a regular python array. Just call the `array` function:"
      ]
    },
    {
      "cell_type": "code",
      "metadata": {
        "id": "I1k6UQPN2Q8k",
        "colab_type": "code",
        "colab": {
          "base_uri": "https://localhost:8080/",
          "height": 52
        },
        "outputId": "c3dc9054-5216-436e-f866-a9b62ab33cfe"
      },
      "source": [
        "np.array([[1,2,3,4], [10, 20, 30, 40]])"
      ],
      "execution_count": 14,
      "outputs": [
        {
          "output_type": "execute_result",
          "data": {
            "text/plain": [
              "array([[ 1,  2,  3,  4],\n",
              "       [10, 20, 30, 40]])"
            ]
          },
          "metadata": {
            "tags": []
          },
          "execution_count": 14
        }
      ]
    },
    {
      "cell_type": "markdown",
      "metadata": {
        "id": "s3Wgurim2Q8n",
        "colab_type": "text"
      },
      "source": [
        "## `np.arange`\n",
        "You can create an `ndarray` using NumPy's `range` function, which is similar to python's built-in `range` function:"
      ]
    },
    {
      "cell_type": "code",
      "metadata": {
        "scrolled": true,
        "id": "tfDq1qYx2Q8p",
        "colab_type": "code",
        "colab": {
          "base_uri": "https://localhost:8080/",
          "height": 35
        },
        "outputId": "20df552a-d605-40f6-a76c-eea2b4dc1ea7"
      },
      "source": [
        "np.arange(1, 5)"
      ],
      "execution_count": 15,
      "outputs": [
        {
          "output_type": "execute_result",
          "data": {
            "text/plain": [
              "array([1, 2, 3, 4])"
            ]
          },
          "metadata": {
            "tags": []
          },
          "execution_count": 15
        }
      ]
    },
    {
      "cell_type": "markdown",
      "metadata": {
        "id": "phWwBlGf2Q8s",
        "colab_type": "text"
      },
      "source": [
        "It also works with floats:"
      ]
    },
    {
      "cell_type": "code",
      "metadata": {
        "id": "vutaXret2Q8s",
        "colab_type": "code",
        "colab": {
          "base_uri": "https://localhost:8080/",
          "height": 35
        },
        "outputId": "6e92a516-3a6a-40b3-b8c3-bf81f4b349c9"
      },
      "source": [
        "np.arange(1.0, 5.0)"
      ],
      "execution_count": 16,
      "outputs": [
        {
          "output_type": "execute_result",
          "data": {
            "text/plain": [
              "array([1., 2., 3., 4.])"
            ]
          },
          "metadata": {
            "tags": []
          },
          "execution_count": 16
        }
      ]
    },
    {
      "cell_type": "markdown",
      "metadata": {
        "id": "lhpZblb32Q8y",
        "colab_type": "text"
      },
      "source": [
        "Of course you can provide a step parameter:"
      ]
    },
    {
      "cell_type": "code",
      "metadata": {
        "id": "kDjoS-Dw2Q80",
        "colab_type": "code",
        "colab": {
          "base_uri": "https://localhost:8080/",
          "height": 35
        },
        "outputId": "87cc9d7c-e427-4e64-fec6-1be5a2d805fc"
      },
      "source": [
        "np.arange(1, 5, 0.5)"
      ],
      "execution_count": 17,
      "outputs": [
        {
          "output_type": "execute_result",
          "data": {
            "text/plain": [
              "array([1. , 1.5, 2. , 2.5, 3. , 3.5, 4. , 4.5])"
            ]
          },
          "metadata": {
            "tags": []
          },
          "execution_count": 17
        }
      ]
    },
    {
      "cell_type": "markdown",
      "metadata": {
        "id": "qdJsxMRn2Q88",
        "colab_type": "text"
      },
      "source": [
        "However, when dealing with floats, the exact number of elements in the array is not always predictible. For example, consider this:"
      ]
    },
    {
      "cell_type": "code",
      "metadata": {
        "id": "wYST8yuK2Q89",
        "colab_type": "code",
        "colab": {
          "base_uri": "https://localhost:8080/",
          "height": 69
        },
        "outputId": "4215a776-dd2f-4174-94b1-cb8e1840a6ea"
      },
      "source": [
        "print(np.arange(0, 5/3, 1/3)) # depending on floating point errors, the max value is 4/3 or 5/3.\n",
        "print(np.arange(0, 5/3, 0.333333333))\n",
        "print(np.arange(0, 5/3, 0.333333334))\n"
      ],
      "execution_count": 18,
      "outputs": [
        {
          "output_type": "stream",
          "text": [
            "[0.         0.33333333 0.66666667 1.         1.33333333 1.66666667]\n",
            "[0.         0.33333333 0.66666667 1.         1.33333333 1.66666667]\n",
            "[0.         0.33333333 0.66666667 1.         1.33333334]\n"
          ],
          "name": "stdout"
        }
      ]
    },
    {
      "cell_type": "markdown",
      "metadata": {
        "id": "GIpmidPq2Q9A",
        "colab_type": "text"
      },
      "source": [
        "## `np.linspace`\n",
        "For this reason, it is generally preferable to use the `linspace` function instead of `arange` when working with floats. The `linspace` function returns an array containing a specific number of points evenly distributed between two values (note that the maximum value is *included*, contrary to `arange`):"
      ]
    },
    {
      "cell_type": "code",
      "metadata": {
        "id": "2lLLz3xU2Q9B",
        "colab_type": "code",
        "colab": {
          "base_uri": "https://localhost:8080/",
          "height": 35
        },
        "outputId": "0c98852e-359a-4d4f-aaa9-8687a7d99c93"
      },
      "source": [
        "print(np.linspace(0, 5/3, 6))"
      ],
      "execution_count": 19,
      "outputs": [
        {
          "output_type": "stream",
          "text": [
            "[0.         0.33333333 0.66666667 1.         1.33333333 1.66666667]\n"
          ],
          "name": "stdout"
        }
      ]
    },
    {
      "cell_type": "markdown",
      "metadata": {
        "id": "wpnejaim2Q9F",
        "colab_type": "text"
      },
      "source": [
        "## `np.rand` and `np.randn`\n",
        "A number of functions are available in NumPy's `random` module to create `ndarray`s initialized with random values.\n",
        "For example, here is a 3x4 matrix initialized with random floats between 0 and 1 (uniform distribution):"
      ]
    },
    {
      "cell_type": "code",
      "metadata": {
        "id": "m--o8Lri2Q9G",
        "colab_type": "code",
        "colab": {
          "base_uri": "https://localhost:8080/",
          "height": 69
        },
        "outputId": "c0d87014-297c-4396-eae3-ed79a19d74b1"
      },
      "source": [
        "np.random.rand(3,4)"
      ],
      "execution_count": 20,
      "outputs": [
        {
          "output_type": "execute_result",
          "data": {
            "text/plain": [
              "array([[0.28270665, 0.12672137, 0.54159647, 0.39915905],\n",
              "       [0.06080199, 0.01231669, 0.7323398 , 0.5797154 ],\n",
              "       [0.50240517, 0.81307287, 0.59491931, 0.87393279]])"
            ]
          },
          "metadata": {
            "tags": []
          },
          "execution_count": 20
        }
      ]
    },
    {
      "cell_type": "markdown",
      "metadata": {
        "id": "O3ftNPRL2Q9K",
        "colab_type": "text"
      },
      "source": [
        "Here's a 3x4 matrix containing random floats sampled from a univariate [normal distribution](https://en.wikipedia.org/wiki/Normal_distribution) (Gaussian distribution) of mean 0 and variance 1:"
      ]
    },
    {
      "cell_type": "code",
      "metadata": {
        "id": "k0faHB912Q9L",
        "colab_type": "code",
        "colab": {
          "base_uri": "https://localhost:8080/",
          "height": 69
        },
        "outputId": "e28867c2-1f19-49a9-84e0-4314335fef3d"
      },
      "source": [
        "np.random.randn(3,4)"
      ],
      "execution_count": 21,
      "outputs": [
        {
          "output_type": "execute_result",
          "data": {
            "text/plain": [
              "array([[ 0.43314837, -1.47843923, -0.2334481 ,  1.17611169],\n",
              "       [-0.37378443, -0.40876362,  0.44661454,  1.02360653],\n",
              "       [ 0.68208763, -0.06205525,  0.74948349,  0.58500609]])"
            ]
          },
          "metadata": {
            "tags": []
          },
          "execution_count": 21
        }
      ]
    },
    {
      "cell_type": "code",
      "metadata": {
        "scrolled": false,
        "id": "UnylWIps2Q9O",
        "colab_type": "code",
        "colab": {}
      },
      "source": [
        "%matplotlib inline\n",
        "import matplotlib.pyplot as plt"
      ],
      "execution_count": 0,
      "outputs": []
    },
    {
      "cell_type": "code",
      "metadata": {
        "id": "MQrDoOt92Q9Q",
        "colab_type": "code",
        "colab": {
          "base_uri": "https://localhost:8080/",
          "height": 399
        },
        "outputId": "8952c320-d56b-4dad-b94a-9bc6a9e1428b"
      },
      "source": [
        "plt.hist(np.random.rand(100000), normed=True, bins=100, histtype=\"step\", color=\"blue\", label=\"rand\")\n",
        "plt.hist(np.random.randn(100000), normed=True, bins=100, histtype=\"step\", color=\"red\", label=\"randn\")\n",
        "plt.axis([-2.5, 2.5, 0, 1.1])\n",
        "plt.legend(loc = \"upper left\")\n",
        "plt.title(\"Random distributions\")\n",
        "plt.xlabel(\"Value\")\n",
        "plt.ylabel(\"Density\")\n",
        "plt.show()"
      ],
      "execution_count": 23,
      "outputs": [
        {
          "output_type": "stream",
          "text": [
            "/usr/local/lib/python3.6/dist-packages/ipykernel_launcher.py:1: MatplotlibDeprecationWarning: \n",
            "The 'normed' kwarg was deprecated in Matplotlib 2.1 and will be removed in 3.1. Use 'density' instead.\n",
            "  \"\"\"Entry point for launching an IPython kernel.\n",
            "/usr/local/lib/python3.6/dist-packages/ipykernel_launcher.py:2: MatplotlibDeprecationWarning: \n",
            "The 'normed' kwarg was deprecated in Matplotlib 2.1 and will be removed in 3.1. Use 'density' instead.\n",
            "  \n"
          ],
          "name": "stderr"
        },
        {
          "output_type": "display_data",
          "data": {
            "image/png": "[encoded data removed]",
            "text/plain": [
              "<Figure size 432x288 with 1 Axes>"
            ]
          },
          "metadata": {
            "tags": []
          }
        }
      ]
    },
    {
      "cell_type": "markdown",
      "metadata": {
        "id": "7EY5i5uU2Q9T",
        "colab_type": "text"
      },
      "source": [
        "## np.fromfunction\n",
        "You can also initialize an `ndarray` using a function:"
      ]
    },
    {
      "cell_type": "code",
      "metadata": {
        "id": "qr4LXh1H2Q9U",
        "colab_type": "code",
        "colab": {
          "base_uri": "https://localhost:8080/",
          "height": 156
        },
        "outputId": "c71ac438-cd21-4f33-913f-161b31b80bb6"
      },
      "source": [
        "def my_function(z, y, x):\n",
        "    return x * y + z\n",
        "\n",
        "np.fromfunction(my_function, (3, 2, 10))"
      ],
      "execution_count": 24,
      "outputs": [
        {
          "output_type": "execute_result",
          "data": {
            "text/plain": [
              "array([[[ 0.,  0.,  0.,  0.,  0.,  0.,  0.,  0.,  0.,  0.],\n",
              "        [ 0.,  1.,  2.,  3.,  4.,  5.,  6.,  7.,  8.,  9.]],\n",
              "\n",
              "       [[ 1.,  1.,  1.,  1.,  1.,  1.,  1.,  1.,  1.,  1.],\n",
              "        [ 1.,  2.,  3.,  4.,  5.,  6.,  7.,  8.,  9., 10.]],\n",
              "\n",
              "       [[ 2.,  2.,  2.,  2.,  2.,  2.,  2.,  2.,  2.,  2.],\n",
              "        [ 2.,  3.,  4.,  5.,  6.,  7.,  8.,  9., 10., 11.]]])"
            ]
          },
          "metadata": {
            "tags": []
          },
          "execution_count": 24
        }
      ]
    },
    {
      "cell_type": "markdown",
      "metadata": {
        "id": "Cp1ZMmcc2Q9X",
        "colab_type": "text"
      },
      "source": [
        "NumPy first creates three `ndarrays` (one per dimension), each of shape `(2, 10)`. Each array has values equal to the coordinate along a specific axis. For example, all elements in the `z` array are equal to their z-coordinate:\n",
        "\n",
        "    [[[ 0.  0.  0.  0.  0.  0.  0.  0.  0.  0.]\n",
        "      [ 0.  0.  0.  0.  0.  0.  0.  0.  0.  0.]]\n",
        "    \n",
        "     [[ 1.  1.  1.  1.  1.  1.  1.  1.  1.  1.]\n",
        "      [ 1.  1.  1.  1.  1.  1.  1.  1.  1.  1.]]\n",
        "    \n",
        "     [[ 2.  2.  2.  2.  2.  2.  2.  2.  2.  2.]\n",
        "      [ 2.  2.  2.  2.  2.  2.  2.  2.  2.  2.]]]\n",
        "\n",
        "So the terms x, y and z in the expression `x * y + z` above are in fact `ndarray`s (we will discuss arithmetic operations on arrays below).  The point is that the function `my_function` is only called *once*, instead of once per element. This makes initialization very efficient."
      ]
    },
    {
      "cell_type": "markdown",
      "metadata": {
        "id": "2cj2MzlF2Q9Y",
        "colab_type": "text"
      },
      "source": [
        "# Array data\n",
        "## `dtype`\n",
        "NumPy's `ndarray`s are also efficient in part because all their elements must have the same type (usually numbers).\n",
        "You can check what the data type is by looking at the `dtype` attribute:"
      ]
    },
    {
      "cell_type": "code",
      "metadata": {
        "scrolled": true,
        "id": "eDbcrabj2Q9Z",
        "colab_type": "code",
        "colab": {
          "base_uri": "https://localhost:8080/",
          "height": 35
        },
        "outputId": "6826051c-7b49-4a38-8c96-3e7089a7dfa8"
      },
      "source": [
        "c = np.arange(1, 5)\n",
        "print(c.dtype, c)"
      ],
      "execution_count": 25,
      "outputs": [
        {
          "output_type": "stream",
          "text": [
            "int64 [1 2 3 4]\n"
          ],
          "name": "stdout"
        }
      ]
    },
    {
      "cell_type": "code",
      "metadata": {
        "id": "-iuPjQZM2Q9c",
        "colab_type": "code",
        "colab": {
          "base_uri": "https://localhost:8080/",
          "height": 35
        },
        "outputId": "fd79f926-8eca-4d30-e59a-8ad22b80e063"
      },
      "source": [
        "c = np.arange(1.0, 5.0)\n",
        "print(c.dtype, c)"
      ],
      "execution_count": 26,
      "outputs": [
        {
          "output_type": "stream",
          "text": [
            "float64 [1. 2. 3. 4.]\n"
          ],
          "name": "stdout"
        }
      ]
    },
    {
      "cell_type": "markdown",
      "metadata": {
        "id": "iAqsb6Ap2Q9f",
        "colab_type": "text"
      },
      "source": [
        "Instead of letting NumPy guess what data type to use, you can set it explicitly when creating an array by setting the `dtype` parameter:"
      ]
    },
    {
      "cell_type": "code",
      "metadata": {
        "id": "MVpxp3Xy2Q9g",
        "colab_type": "code",
        "colab": {
          "base_uri": "https://localhost:8080/",
          "height": 35
        },
        "outputId": "bfdedeb3-9a5e-4b86-b120-eac55a58ee05"
      },
      "source": [
        "d = np.arange(1, 5, dtype=np.complex64)\n",
        "print(d.dtype, d)"
      ],
      "execution_count": 27,
      "outputs": [
        {
          "output_type": "stream",
          "text": [
            "complex64 [1.+0.j 2.+0.j 3.+0.j 4.+0.j]\n"
          ],
          "name": "stdout"
        }
      ]
    },
    {
      "cell_type": "markdown",
      "metadata": {
        "id": "1HgBgEk_2Q9k",
        "colab_type": "text"
      },
      "source": [
        "Available data types include `int8`, `int16`, `int32`, `int64`, `uint8`|`16`|`32`|`64`, `float16`|`32`|`64` and `complex64`|`128`. Check out [the documentation](http://docs.scipy.org/doc/numpy-1.10.1/user/basics.types.html) for the full list.\n",
        "\n",
        "## `itemsize`\n",
        "The `itemsize` attribute returns the size (in bytes) of each item:"
      ]
    },
    {
      "cell_type": "code",
      "metadata": {
        "id": "MFcE-TEV2Q9l",
        "colab_type": "code",
        "colab": {
          "base_uri": "https://localhost:8080/",
          "height": 35
        },
        "outputId": "ef3b1374-633d-46f7-f38d-14f229127be5"
      },
      "source": [
        "e = np.arange(1, 5, dtype=np.complex64)\n",
        "e.itemsize"
      ],
      "execution_count": 28,
      "outputs": [
        {
          "output_type": "execute_result",
          "data": {
            "text/plain": [
              "8"
            ]
          },
          "metadata": {
            "tags": []
          },
          "execution_count": 28
        }
      ]
    },
    {
      "cell_type": "markdown",
      "metadata": {
        "id": "HP_jO8Me2Q9n",
        "colab_type": "text"
      },
      "source": [
        "## `data` buffer\n",
        "An array's data is actually stored in memory as a flat (one dimensional) byte buffer. It is available *via* the `data` attribute (you will rarely need it, though)."
      ]
    },
    {
      "cell_type": "code",
      "metadata": {
        "scrolled": false,
        "id": "udPQx7Jc2Q9o",
        "colab_type": "code",
        "colab": {
          "base_uri": "https://localhost:8080/",
          "height": 35
        },
        "outputId": "5f9e3cb4-addc-4d6b-b67a-12d204a102b8"
      },
      "source": [
        "f = np.array([[1,2],[1000, 2000]], dtype=np.int32)\n",
        "f.data"
      ],
      "execution_count": 29,
      "outputs": [
        {
          "output_type": "execute_result",
          "data": {
            "text/plain": [
              "<memory at 0x7fefb2daac18>"
            ]
          },
          "metadata": {
            "tags": []
          },
          "execution_count": 29
        }
      ]
    },
    {
      "cell_type": "markdown",
      "metadata": {
        "id": "8LJPIrcE2Q9q",
        "colab_type": "text"
      },
      "source": [
        "In python 2, `f.data` is a buffer. In python 3, it is a memoryview."
      ]
    },
    {
      "cell_type": "code",
      "metadata": {
        "id": "fJnW5hdc2Q9r",
        "colab_type": "code",
        "colab": {
          "base_uri": "https://localhost:8080/",
          "height": 35
        },
        "outputId": "3049b230-509e-4e6e-e6cc-001d08a0f7b9"
      },
      "source": [
        "if (hasattr(f.data, \"tobytes\")):\n",
        "    data_bytes = f.data.tobytes() # python 3\n",
        "else:\n",
        "    data_bytes = memoryview(f.data).tobytes() # python 2\n",
        "\n",
        "data_bytes"
      ],
      "execution_count": 30,
      "outputs": [
        {
          "output_type": "execute_result",
          "data": {
            "text/plain": [
              "b'\\x01\\x00\\x00\\x00\\x02\\x00\\x00\\x00\\xe8\\x03\\x00\\x00\\xd0\\x07\\x00\\x00'"
            ]
          },
          "metadata": {
            "tags": []
          },
          "execution_count": 30
        }
      ]
    },
    {
      "cell_type": "markdown",
      "metadata": {
        "id": "0bOrmzh92Q9t",
        "colab_type": "text"
      },
      "source": [
        "Several `ndarrays` can share the same data buffer, meaning that modifying one will also modify the others. We will see an example in a minute."
      ]
    },
    {
      "cell_type": "markdown",
      "metadata": {
        "id": "NOk7O5W42Q9t",
        "colab_type": "text"
      },
      "source": [
        "# Reshaping an array\n",
        "## In place\n",
        "Changing the shape of an `ndarray` is as simple as setting its `shape` attribute. However, the array's size must remain the same."
      ]
    },
    {
      "cell_type": "code",
      "metadata": {
        "id": "h9znrPMd2Q9u",
        "colab_type": "code",
        "colab": {
          "base_uri": "https://localhost:8080/",
          "height": 52
        },
        "outputId": "e927be10-bfc3-4bc7-e041-1502bd7b4aef"
      },
      "source": [
        "g = np.arange(24)\n",
        "print(g)\n",
        "print(\"Rank:\", g.ndim)"
      ],
      "execution_count": 31,
      "outputs": [
        {
          "output_type": "stream",
          "text": [
            "[ 0  1  2  3  4  5  6  7  8  9 10 11 12 13 14 15 16 17 18 19 20 21 22 23]\n",
            "Rank: 1\n"
          ],
          "name": "stdout"
        }
      ]
    },
    {
      "cell_type": "code",
      "metadata": {
        "id": "bqogD1UF2Q9w",
        "colab_type": "code",
        "colab": {
          "base_uri": "https://localhost:8080/",
          "height": 139
        },
        "outputId": "ea7713f5-4c8a-4e39-bd5b-ccedd79f7232"
      },
      "source": [
        "g.shape = (6, 4)\n",
        "print(g)\n",
        "print(\"Rank:\", g.ndim)"
      ],
      "execution_count": 32,
      "outputs": [
        {
          "output_type": "stream",
          "text": [
            "[[ 0  1  2  3]\n",
            " [ 4  5  6  7]\n",
            " [ 8  9 10 11]\n",
            " [12 13 14 15]\n",
            " [16 17 18 19]\n",
            " [20 21 22 23]]\n",
            "Rank: 2\n"
          ],
          "name": "stdout"
        }
      ]
    },
    {
      "cell_type": "code",
      "metadata": {
        "scrolled": true,
        "id": "--TmU36J2Q9y",
        "colab_type": "code",
        "colab": {
          "base_uri": "https://localhost:8080/",
          "height": 156
        },
        "outputId": "40c52048-5d0d-4822-b463-fde2718f3798"
      },
      "source": [
        "g.shape = (2, 3, 4)\n",
        "print(g)\n",
        "print(\"Rank:\", g.ndim)"
      ],
      "execution_count": 33,
      "outputs": [
        {
          "output_type": "stream",
          "text": [
            "[[[ 0  1  2  3]\n",
            "  [ 4  5  6  7]\n",
            "  [ 8  9 10 11]]\n",
            "\n",
            " [[12 13 14 15]\n",
            "  [16 17 18 19]\n",
            "  [20 21 22 23]]]\n",
            "Rank: 3\n"
          ],
          "name": "stdout"
        }
      ]
    },
    {
      "cell_type": "markdown",
      "metadata": {
        "id": "4-w5fa-P2Q92",
        "colab_type": "text"
      },
      "source": [
        "## `reshape`\n",
        "The `reshape` function returns a new `ndarray` object pointing at the *same* data. This means that modifying one array will also modify the other."
      ]
    },
    {
      "cell_type": "code",
      "metadata": {
        "scrolled": true,
        "id": "GtT5IAII2Q92",
        "colab_type": "code",
        "colab": {
          "base_uri": "https://localhost:8080/",
          "height": 104
        },
        "outputId": "9c512c30-6001-4abd-8ed6-408d73de59ac"
      },
      "source": [
        "g2 = g.reshape(4,6)\n",
        "print(g2)\n",
        "print(\"Rank:\", g2.ndim)"
      ],
      "execution_count": 34,
      "outputs": [
        {
          "output_type": "stream",
          "text": [
            "[[ 0  1  2  3  4  5]\n",
            " [ 6  7  8  9 10 11]\n",
            " [12 13 14 15 16 17]\n",
            " [18 19 20 21 22 23]]\n",
            "Rank: 2\n"
          ],
          "name": "stdout"
        }
      ]
    },
    {
      "cell_type": "markdown",
      "metadata": {
        "id": "6fh7UcgN2Q96",
        "colab_type": "text"
      },
      "source": [
        "Set item at row 1, col 2 to 999 (more about indexing below)."
      ]
    },
    {
      "cell_type": "code",
      "metadata": {
        "id": "ps2wH1s22Q97",
        "colab_type": "code",
        "colab": {
          "base_uri": "https://localhost:8080/",
          "height": 87
        },
        "outputId": "e080ab43-f991-4950-cd1a-9bcc03ad6f03"
      },
      "source": [
        "g2[1, 2] = 999\n",
        "g2"
      ],
      "execution_count": 35,
      "outputs": [
        {
          "output_type": "execute_result",
          "data": {
            "text/plain": [
              "array([[  0,   1,   2,   3,   4,   5],\n",
              "       [  6,   7, 999,   9,  10,  11],\n",
              "       [ 12,  13,  14,  15,  16,  17],\n",
              "       [ 18,  19,  20,  21,  22,  23]])"
            ]
          },
          "metadata": {
            "tags": []
          },
          "execution_count": 35
        }
      ]
    },
    {
      "cell_type": "markdown",
      "metadata": {
        "id": "kZuD7mXI2Q99",
        "colab_type": "text"
      },
      "source": [
        "The corresponding element in `g` has been modified."
      ]
    },
    {
      "cell_type": "code",
      "metadata": {
        "id": "6pH_Zdz52Q9-",
        "colab_type": "code",
        "colab": {
          "base_uri": "https://localhost:8080/",
          "height": 139
        },
        "outputId": "005bc5f4-896f-4430-9b11-cba575fc1882"
      },
      "source": [
        "g"
      ],
      "execution_count": 36,
      "outputs": [
        {
          "output_type": "execute_result",
          "data": {
            "text/plain": [
              "array([[[  0,   1,   2,   3],\n",
              "        [  4,   5,   6,   7],\n",
              "        [999,   9,  10,  11]],\n",
              "\n",
              "       [[ 12,  13,  14,  15],\n",
              "        [ 16,  17,  18,  19],\n",
              "        [ 20,  21,  22,  23]]])"
            ]
          },
          "metadata": {
            "tags": []
          },
          "execution_count": 36
        }
      ]
    },
    {
      "cell_type": "markdown",
      "metadata": {
        "id": "rm4IhOam2Q-A",
        "colab_type": "text"
      },
      "source": [
        "## `ravel`\n",
        "Finally, the `ravel` function returns a new one-dimensional `ndarray` that also points to the same data:"
      ]
    },
    {
      "cell_type": "code",
      "metadata": {
        "id": "WXytrOOn2Q-B",
        "colab_type": "code",
        "colab": {
          "base_uri": "https://localhost:8080/",
          "height": 52
        },
        "outputId": "4e48c5b6-5ddd-4f87-a8e4-2126a24b0a0b"
      },
      "source": [
        "g.ravel()"
      ],
      "execution_count": 37,
      "outputs": [
        {
          "output_type": "execute_result",
          "data": {
            "text/plain": [
              "array([  0,   1,   2,   3,   4,   5,   6,   7, 999,   9,  10,  11,  12,\n",
              "        13,  14,  15,  16,  17,  18,  19,  20,  21,  22,  23])"
            ]
          },
          "metadata": {
            "tags": []
          },
          "execution_count": 37
        }
      ]
    },
    {
      "cell_type": "markdown",
      "metadata": {
        "id": "56zsn0le2Q-D",
        "colab_type": "text"
      },
      "source": [
        "# Arithmetic operations\n",
        "All the usual arithmetic operators (`+`, `-`, `*`, `/`, `//`, `**`, etc.) can be used with `ndarray`s. They apply *elementwise*:"
      ]
    },
    {
      "cell_type": "code",
      "metadata": {
        "scrolled": false,
        "id": "0UhwgBAO2Q-D",
        "colab_type": "code",
        "colab": {
          "base_uri": "https://localhost:8080/",
          "height": 139
        },
        "outputId": "4fe8f0d3-00e9-4585-8d29-bc1da10197fd"
      },
      "source": [
        "a = np.array([14, 23, 32, 41])\n",
        "b = np.array([5,  4,  3,  2])\n",
        "print(\"a + b  =\", a + b)\n",
        "print(\"a - b  =\", a - b)\n",
        "print(\"a * b  =\", a * b)\n",
        "print(\"a / b  =\", a / b)\n",
        "print(\"a // b  =\", a // b)\n",
        "print(\"a % b  =\", a % b)\n",
        "print(\"a ** b =\", a ** b)"
      ],
      "execution_count": 38,
      "outputs": [
        {
          "output_type": "stream",
          "text": [
            "a + b  = [19 27 35 43]\n",
            "a - b  = [ 9 19 29 39]\n",
            "a * b  = [70 92 96 82]\n",
            "a / b  = [ 2.8         5.75       10.66666667 20.5       ]\n",
            "a // b  = [ 2  5 10 20]\n",
            "a % b  = [4 3 2 1]\n",
            "a ** b = [537824 279841  32768   1681]\n"
          ],
          "name": "stdout"
        }
      ]
    },
    {
      "cell_type": "markdown",
      "metadata": {
        "id": "z1fbV4tk2Q-I",
        "colab_type": "text"
      },
      "source": [
        "Note that the multiplication is *not* a matrix multiplication. We will discuss matrix operations below.\n",
        "\n",
        "The arrays must have the same shape. If they do not, NumPy will apply the *broadcasting rules*."
      ]
    },
    {
      "cell_type": "markdown",
      "metadata": {
        "id": "ZNiD6-Ub2Q-I",
        "colab_type": "text"
      },
      "source": [
        "# Broadcasting"
      ]
    },
    {
      "cell_type": "markdown",
      "metadata": {
        "id": "G2GTRd4W2Q-J",
        "colab_type": "text"
      },
      "source": [
        "In general, when NumPy expects arrays of the same shape but finds that this is not the case, it applies the so-called *broadcasting* rules:\n",
        "\n",
        "## First rule\n",
        "*If the arrays do not have the same rank, then a 1 will be prepended to the smaller ranking arrays until their ranks match.*"
      ]
    },
    {
      "cell_type": "code",
      "metadata": {
        "id": "Ak_zbum_2Q-K",
        "colab_type": "code",
        "colab": {
          "base_uri": "https://localhost:8080/",
          "height": 35
        },
        "outputId": "031413c3-7754-446f-9e5b-a52d0c53d53f"
      },
      "source": [
        "h = np.arange(5).reshape(1, 1, 5)\n",
        "h"
      ],
      "execution_count": 39,
      "outputs": [
        {
          "output_type": "execute_result",
          "data": {
            "text/plain": [
              "array([[[0, 1, 2, 3, 4]]])"
            ]
          },
          "metadata": {
            "tags": []
          },
          "execution_count": 39
        }
      ]
    },
    {
      "cell_type": "markdown",
      "metadata": {
        "id": "o4siSgK62Q-L",
        "colab_type": "text"
      },
      "source": [
        "Now let's try to add a 1D array of shape `(5,)` to this 3D array of shape `(1,1,5)`. Applying the first rule of broadcasting!"
      ]
    },
    {
      "cell_type": "code",
      "metadata": {
        "id": "Mvyb7hjA2Q-M",
        "colab_type": "code",
        "colab": {
          "base_uri": "https://localhost:8080/",
          "height": 35
        },
        "outputId": "4671a979-c5ab-494c-cef1-bba3a8729a08"
      },
      "source": [
        "h + [10, 20, 30, 40, 50]  # same as: h + [[[10, 20, 30, 40, 50]]]"
      ],
      "execution_count": 40,
      "outputs": [
        {
          "output_type": "execute_result",
          "data": {
            "text/plain": [
              "array([[[10, 21, 32, 43, 54]]])"
            ]
          },
          "metadata": {
            "tags": []
          },
          "execution_count": 40
        }
      ]
    },
    {
      "cell_type": "markdown",
      "metadata": {
        "id": "ko1Conax2Q-O",
        "colab_type": "text"
      },
      "source": [
        "## Second rule\n",
        "*Arrays with a 1 along a particular dimension act as if they had the size of the array with the largest shape along that dimension. The value of the array element is repeated along that dimension.*"
      ]
    },
    {
      "cell_type": "code",
      "metadata": {
        "id": "wjkx84SK2Q-P",
        "colab_type": "code",
        "colab": {
          "base_uri": "https://localhost:8080/",
          "height": 52
        },
        "outputId": "50ce7f55-a4c5-49a1-8c46-2cc557f83d64"
      },
      "source": [
        "k = np.arange(6).reshape(2, 3)\n",
        "k"
      ],
      "execution_count": 41,
      "outputs": [
        {
          "output_type": "execute_result",
          "data": {
            "text/plain": [
              "array([[0, 1, 2],\n",
              "       [3, 4, 5]])"
            ]
          },
          "metadata": {
            "tags": []
          },
          "execution_count": 41
        }
      ]
    },
    {
      "cell_type": "markdown",
      "metadata": {
        "id": "um6ZmjET2Q-R",
        "colab_type": "text"
      },
      "source": [
        "Let's try to add a 2D array of shape `(2,1)` to this 2D `ndarray` of shape `(2, 3)`. NumPy will apply the second rule of broadcasting:"
      ]
    },
    {
      "cell_type": "code",
      "metadata": {
        "id": "KIJtAQqp2Q-S",
        "colab_type": "code",
        "colab": {
          "base_uri": "https://localhost:8080/",
          "height": 52
        },
        "outputId": "8a52289e-a499-49d7-b6c4-849280ec26fa"
      },
      "source": [
        "k + [[100], [200]]  # same as: k + [[100, 100, 100], [200, 200, 200]]"
      ],
      "execution_count": 42,
      "outputs": [
        {
          "output_type": "execute_result",
          "data": {
            "text/plain": [
              "array([[100, 101, 102],\n",
              "       [203, 204, 205]])"
            ]
          },
          "metadata": {
            "tags": []
          },
          "execution_count": 42
        }
      ]
    },
    {
      "cell_type": "markdown",
      "metadata": {
        "id": "3zzuKBtl2Q-U",
        "colab_type": "text"
      },
      "source": [
        "Combining rules 1 & 2, we can do this:"
      ]
    },
    {
      "cell_type": "code",
      "metadata": {
        "id": "VHD-GtGK2Q-V",
        "colab_type": "code",
        "colab": {
          "base_uri": "https://localhost:8080/",
          "height": 52
        },
        "outputId": "0d2d3b92-bba0-4e85-c14e-6ba0e089339e"
      },
      "source": [
        "k + [100, 200, 300]  # after rule 1: [[100, 200, 300]], and after rule 2: [[100, 200, 300], [100, 200, 300]]"
      ],
      "execution_count": 43,
      "outputs": [
        {
          "output_type": "execute_result",
          "data": {
            "text/plain": [
              "array([[100, 201, 302],\n",
              "       [103, 204, 305]])"
            ]
          },
          "metadata": {
            "tags": []
          },
          "execution_count": 43
        }
      ]
    },
    {
      "cell_type": "markdown",
      "metadata": {
        "id": "HSBLtpPs2Q-Y",
        "colab_type": "text"
      },
      "source": [
        "And also, very simply:"
      ]
    },
    {
      "cell_type": "code",
      "metadata": {
        "id": "4qH6DuBg2Q-Z",
        "colab_type": "code",
        "colab": {
          "base_uri": "https://localhost:8080/",
          "height": 52
        },
        "outputId": "0d65a1cb-d34d-442d-baab-7861be4cbd9c"
      },
      "source": [
        "k + 1000  # same as: k + [[1000, 1000, 1000], [1000, 1000, 1000]]"
      ],
      "execution_count": 44,
      "outputs": [
        {
          "output_type": "execute_result",
          "data": {
            "text/plain": [
              "array([[1000, 1001, 1002],\n",
              "       [1003, 1004, 1005]])"
            ]
          },
          "metadata": {
            "tags": []
          },
          "execution_count": 44
        }
      ]
    },
    {
      "cell_type": "markdown",
      "metadata": {
        "id": "J6s5jzv02Q-b",
        "colab_type": "text"
      },
      "source": [
        "## Third rule\n",
        "*After rules 1 & 2, the sizes of all arrays must match.*"
      ]
    },
    {
      "cell_type": "code",
      "metadata": {
        "id": "OBsywpOF2Q-c",
        "colab_type": "code",
        "colab": {
          "base_uri": "https://localhost:8080/",
          "height": 35
        },
        "outputId": "9f1b83f9-79eb-40be-e448-586590a5dbbc"
      },
      "source": [
        "try:\n",
        "    k + [33, 44]\n",
        "except ValueError as e:\n",
        "    print(e)"
      ],
      "execution_count": 45,
      "outputs": [
        {
          "output_type": "stream",
          "text": [
            "operands could not be broadcast together with shapes (2,3) (2,) \n"
          ],
          "name": "stdout"
        }
      ]
    },
    {
      "cell_type": "markdown",
      "metadata": {
        "id": "Q7qBO7hM2Q-e",
        "colab_type": "text"
      },
      "source": [
        "Broadcasting rules are used in many NumPy operations, not just arithmetic operations, as we will see below.\n",
        "For more details about broadcasting, check out [the documentation](https://docs.scipy.org/doc/numpy-dev/user/basics.broadcasting.html)."
      ]
    },
    {
      "cell_type": "markdown",
      "metadata": {
        "id": "sT1wYD-q2Q-e",
        "colab_type": "text"
      },
      "source": [
        "## Upcasting\n",
        "When trying to combine arrays with different `dtype`s, NumPy will *upcast* to a type capable of handling all possible values (regardless of what the *actual* values are)."
      ]
    },
    {
      "cell_type": "code",
      "metadata": {
        "id": "Yud5hqiA2Q-f",
        "colab_type": "code",
        "colab": {
          "base_uri": "https://localhost:8080/",
          "height": 35
        },
        "outputId": "cc7b04b8-7389-4442-ac9c-de69563483e9"
      },
      "source": [
        "k1 = np.arange(0, 5, dtype=np.uint8)\n",
        "print(k1.dtype, k1)"
      ],
      "execution_count": 46,
      "outputs": [
        {
          "output_type": "stream",
          "text": [
            "uint8 [0 1 2 3 4]\n"
          ],
          "name": "stdout"
        }
      ]
    },
    {
      "cell_type": "code",
      "metadata": {
        "id": "TEeieePQ2Q-h",
        "colab_type": "code",
        "colab": {
          "base_uri": "https://localhost:8080/",
          "height": 35
        },
        "outputId": "ecf4d35c-41ee-4e0a-9126-7e9d020711fb"
      },
      "source": [
        "k2 = k1 + np.array([5, 6, 7, 8, 9], dtype=np.int8)\n",
        "print(k2.dtype, k2)"
      ],
      "execution_count": 47,
      "outputs": [
        {
          "output_type": "stream",
          "text": [
            "int16 [ 5  7  9 11 13]\n"
          ],
          "name": "stdout"
        }
      ]
    },
    {
      "cell_type": "markdown",
      "metadata": {
        "id": "xXfxZt_t2Q-k",
        "colab_type": "text"
      },
      "source": [
        "Note that `int16` is required to represent all *possible* `int8` and `uint8` values (from -128 to 255), even though in this case a uint8 would have sufficed."
      ]
    },
    {
      "cell_type": "code",
      "metadata": {
        "id": "YEh7Zh1W2Q-k",
        "colab_type": "code",
        "colab": {
          "base_uri": "https://localhost:8080/",
          "height": 35
        },
        "outputId": "3e1a01c1-0c58-4398-936c-34b5c4a5c7ba"
      },
      "source": [
        "k3 = k1 + 1.5\n",
        "print(k3.dtype, k3)"
      ],
      "execution_count": 48,
      "outputs": [
        {
          "output_type": "stream",
          "text": [
            "float64 [1.5 2.5 3.5 4.5 5.5]\n"
          ],
          "name": "stdout"
        }
      ]
    },
    {
      "cell_type": "markdown",
      "metadata": {
        "id": "3PVfsxUK2Q-p",
        "colab_type": "text"
      },
      "source": [
        "# Conditional operators"
      ]
    },
    {
      "cell_type": "markdown",
      "metadata": {
        "id": "5L45jKZI2Q-p",
        "colab_type": "text"
      },
      "source": [
        "The conditional operators also apply elementwise:"
      ]
    },
    {
      "cell_type": "code",
      "metadata": {
        "id": "kqCiFMFB2Q-q",
        "colab_type": "code",
        "colab": {
          "base_uri": "https://localhost:8080/",
          "height": 35
        },
        "outputId": "778ac24d-ea1f-45a9-fb35-fe7c4a3decbd"
      },
      "source": [
        "m = np.array([20, -5, 30, 40])\n",
        "m < [15, 16, 35, 36]"
      ],
      "execution_count": 49,
      "outputs": [
        {
          "output_type": "execute_result",
          "data": {
            "text/plain": [
              "array([False,  True,  True, False])"
            ]
          },
          "metadata": {
            "tags": []
          },
          "execution_count": 49
        }
      ]
    },
    {
      "cell_type": "markdown",
      "metadata": {
        "id": "AK1oW2U82Q-t",
        "colab_type": "text"
      },
      "source": [
        "And using broadcasting:"
      ]
    },
    {
      "cell_type": "code",
      "metadata": {
        "id": "Fh68_x2h2Q-t",
        "colab_type": "code",
        "colab": {
          "base_uri": "https://localhost:8080/",
          "height": 35
        },
        "outputId": "1a3ab409-0c97-44c3-ab67-46b13f3b2705"
      },
      "source": [
        "m < 25  # equivalent to m < [25, 25, 25, 25]"
      ],
      "execution_count": 50,
      "outputs": [
        {
          "output_type": "execute_result",
          "data": {
            "text/plain": [
              "array([ True,  True, False, False])"
            ]
          },
          "metadata": {
            "tags": []
          },
          "execution_count": 50
        }
      ]
    },
    {
      "cell_type": "markdown",
      "metadata": {
        "id": "4oyyR5MQ2Q-v",
        "colab_type": "text"
      },
      "source": [
        "This is most useful in conjunction with boolean indexing (discussed below)."
      ]
    },
    {
      "cell_type": "code",
      "metadata": {
        "id": "2Ntyc5bA2Q-w",
        "colab_type": "code",
        "colab": {
          "base_uri": "https://localhost:8080/",
          "height": 35
        },
        "outputId": "8eaf487c-e61e-4be3-b83a-94b6845b03c1"
      },
      "source": [
        "m[m < 25]"
      ],
      "execution_count": 51,
      "outputs": [
        {
          "output_type": "execute_result",
          "data": {
            "text/plain": [
              "array([20, -5])"
            ]
          },
          "metadata": {
            "tags": []
          },
          "execution_count": 51
        }
      ]
    },
    {
      "cell_type": "markdown",
      "metadata": {
        "id": "6K7N7XTu2Q-y",
        "colab_type": "text"
      },
      "source": [
        "# Mathematical and statistical functions"
      ]
    },
    {
      "cell_type": "markdown",
      "metadata": {
        "id": "sMcOS85J2Q-z",
        "colab_type": "text"
      },
      "source": [
        "Many mathematical and statistical functions are available for `ndarray`s.\n",
        "\n",
        "## `ndarray` methods\n",
        "Some functions are simply `ndarray` methods, for example:"
      ]
    },
    {
      "cell_type": "code",
      "metadata": {
        "id": "1W4N-BvI2Q-2",
        "colab_type": "code",
        "colab": {
          "base_uri": "https://localhost:8080/",
          "height": 69
        },
        "outputId": "e4aa5691-4984-4c78-9bb8-001dbc5f942c"
      },
      "source": [
        "a = np.array([[-2.5, 3.1, 7], [10, 11, 12]])\n",
        "print(a)\n",
        "print(\"mean =\", a.mean())"
      ],
      "execution_count": 52,
      "outputs": [
        {
          "output_type": "stream",
          "text": [
            "[[-2.5  3.1  7. ]\n",
            " [10.  11.  12. ]]\n",
            "mean = 6.766666666666667\n"
          ],
          "name": "stdout"
        }
      ]
    },
    {
      "cell_type": "markdown",
      "metadata": {
        "id": "ne1LaD802Q-5",
        "colab_type": "text"
      },
      "source": [
        "Note that this computes the mean of all elements in the `ndarray`, regardless of its shape.\n",
        "\n",
        "Here are a few more useful `ndarray` methods:"
      ]
    },
    {
      "cell_type": "code",
      "metadata": {
        "id": "6I_0Z6AC2Q-5",
        "colab_type": "code",
        "colab": {
          "base_uri": "https://localhost:8080/",
          "height": 121
        },
        "outputId": "5b3c6150-3ac3-4c6f-8e67-5c53dabf8155"
      },
      "source": [
        "for func in (a.min, a.max, a.sum, a.prod, a.std, a.var):\n",
        "    print(func.__name__, \"=\", func())"
      ],
      "execution_count": 53,
      "outputs": [
        {
          "output_type": "stream",
          "text": [
            "min = -2.5\n",
            "max = 12.0\n",
            "sum = 40.6\n",
            "prod = -71610.0\n",
            "std = 5.084835843520964\n",
            "var = 25.855555555555554\n"
          ],
          "name": "stdout"
        }
      ]
    },
    {
      "cell_type": "markdown",
      "metadata": {
        "id": "cPSFtddc2Q-8",
        "colab_type": "text"
      },
      "source": [
        "These functions accept an optional argument `axis` which lets you ask for the operation to be performed on elements along the given axis. For example:"
      ]
    },
    {
      "cell_type": "code",
      "metadata": {
        "id": "-3E4APT02Q_B",
        "colab_type": "code",
        "colab": {
          "base_uri": "https://localhost:8080/",
          "height": 139
        },
        "outputId": "83ac8448-7b0e-4816-af76-e95c0fc3d9e9"
      },
      "source": [
        "c=np.arange(24).reshape(2,3,4)\n",
        "c"
      ],
      "execution_count": 54,
      "outputs": [
        {
          "output_type": "execute_result",
          "data": {
            "text/plain": [
              "array([[[ 0,  1,  2,  3],\n",
              "        [ 4,  5,  6,  7],\n",
              "        [ 8,  9, 10, 11]],\n",
              "\n",
              "       [[12, 13, 14, 15],\n",
              "        [16, 17, 18, 19],\n",
              "        [20, 21, 22, 23]]])"
            ]
          },
          "metadata": {
            "tags": []
          },
          "execution_count": 54
        }
      ]
    },
    {
      "cell_type": "code",
      "metadata": {
        "id": "rIaw4Ghc2Q_D",
        "colab_type": "code",
        "colab": {
          "base_uri": "https://localhost:8080/",
          "height": 69
        },
        "outputId": "ad1dd710-3a52-402d-b1d4-1d6abdd17b40"
      },
      "source": [
        "c.sum(axis=0)  # sum across matrices"
      ],
      "execution_count": 55,
      "outputs": [
        {
          "output_type": "execute_result",
          "data": {
            "text/plain": [
              "array([[12, 14, 16, 18],\n",
              "       [20, 22, 24, 26],\n",
              "       [28, 30, 32, 34]])"
            ]
          },
          "metadata": {
            "tags": []
          },
          "execution_count": 55
        }
      ]
    },
    {
      "cell_type": "code",
      "metadata": {
        "id": "3fDSEwrE2Q_F",
        "colab_type": "code",
        "colab": {
          "base_uri": "https://localhost:8080/",
          "height": 52
        },
        "outputId": "0a4fa87b-26dc-49c8-ec39-f0e507ed1977"
      },
      "source": [
        "c.sum(axis=1)  # sum across rows"
      ],
      "execution_count": 56,
      "outputs": [
        {
          "output_type": "execute_result",
          "data": {
            "text/plain": [
              "array([[12, 15, 18, 21],\n",
              "       [48, 51, 54, 57]])"
            ]
          },
          "metadata": {
            "tags": []
          },
          "execution_count": 56
        }
      ]
    },
    {
      "cell_type": "markdown",
      "metadata": {
        "id": "GgQ3kXZ72Q_H",
        "colab_type": "text"
      },
      "source": [
        "You can also sum over multiple axes:"
      ]
    },
    {
      "cell_type": "code",
      "metadata": {
        "id": "JN1zHUM42Q_H",
        "colab_type": "code",
        "colab": {
          "base_uri": "https://localhost:8080/",
          "height": 35
        },
        "outputId": "1881e639-5c79-4828-f07b-d903034356d9"
      },
      "source": [
        "c.sum(axis=(0,2))  # sum across matrices and columns"
      ],
      "execution_count": 57,
      "outputs": [
        {
          "output_type": "execute_result",
          "data": {
            "text/plain": [
              "array([ 60,  92, 124])"
            ]
          },
          "metadata": {
            "tags": []
          },
          "execution_count": 57
        }
      ]
    },
    {
      "cell_type": "code",
      "metadata": {
        "id": "KYkVBZSi2Q_K",
        "colab_type": "code",
        "colab": {
          "base_uri": "https://localhost:8080/",
          "height": 35
        },
        "outputId": "0d5deefe-6bd6-4e8a-a16c-53288460ec20"
      },
      "source": [
        "0+1+2+3 + 12+13+14+15, 4+5+6+7 + 16+17+18+19, 8+9+10+11 + 20+21+22+23"
      ],
      "execution_count": 58,
      "outputs": [
        {
          "output_type": "execute_result",
          "data": {
            "text/plain": [
              "(60, 92, 124)"
            ]
          },
          "metadata": {
            "tags": []
          },
          "execution_count": 58
        }
      ]
    },
    {
      "cell_type": "markdown",
      "metadata": {
        "id": "9nZ07rvI2Q_O",
        "colab_type": "text"
      },
      "source": [
        "## Universal functions\n",
        "NumPy also provides fast elementwise functions called *universal functions*, or **ufunc**. They are vectorized wrappers of simple functions. For example `square` returns a new `ndarray` which is a copy of the original `ndarray` except that each element is squared:"
      ]
    },
    {
      "cell_type": "code",
      "metadata": {
        "id": "hQm1eHNy2Q_P",
        "colab_type": "code",
        "colab": {
          "base_uri": "https://localhost:8080/",
          "height": 52
        },
        "outputId": "0af02895-f6cd-4815-9367-048d78f01d4f"
      },
      "source": [
        "a = np.array([[-2.5, 3.1, 7], [10, 11, 12]])\n",
        "np.square(a)"
      ],
      "execution_count": 59,
      "outputs": [
        {
          "output_type": "execute_result",
          "data": {
            "text/plain": [
              "array([[  6.25,   9.61,  49.  ],\n",
              "       [100.  , 121.  , 144.  ]])"
            ]
          },
          "metadata": {
            "tags": []
          },
          "execution_count": 59
        }
      ]
    },
    {
      "cell_type": "markdown",
      "metadata": {
        "id": "Vkzdre9I2Q_S",
        "colab_type": "text"
      },
      "source": [
        "Here are a few more useful unary ufuncs:"
      ]
    },
    {
      "cell_type": "code",
      "metadata": {
        "id": "NqLHR1Li2Q_T",
        "colab_type": "code",
        "colab": {
          "base_uri": "https://localhost:8080/",
          "height": 780
        },
        "outputId": "9aa256e3-3eea-44c6-a427-942efc03cd34"
      },
      "source": [
        "print(\"Original ndarray\")\n",
        "print(a)\n",
        "for func in (np.abs, np.sqrt, np.exp, np.log, np.sign, np.ceil, np.modf, np.isnan, np.cos):\n",
        "    print(\"\\n\", func.__name__)\n",
        "    print(func(a))"
      ],
      "execution_count": 60,
      "outputs": [
        {
          "output_type": "stream",
          "text": [
            "Original ndarray\n",
            "[[-2.5  3.1  7. ]\n",
            " [10.  11.  12. ]]\n",
            "\n",
            " absolute\n",
            "[[ 2.5  3.1  7. ]\n",
            " [10.  11.  12. ]]\n",
            "\n",
            " sqrt\n",
            "[[       nan 1.76068169 2.64575131]\n",
            " [3.16227766 3.31662479 3.46410162]]\n",
            "\n",
            " exp\n",
            "[[8.20849986e-02 2.21979513e+01 1.09663316e+03]\n",
            " [2.20264658e+04 5.98741417e+04 1.62754791e+05]]\n",
            "\n",
            " log\n",
            "[[       nan 1.13140211 1.94591015]\n",
            " [2.30258509 2.39789527 2.48490665]]\n",
            "\n",
            " sign\n",
            "[[-1.  1.  1.]\n",
            " [ 1.  1.  1.]]\n",
            "\n",
            " ceil\n",
            "[[-2.  4.  7.]\n",
            " [10. 11. 12.]]\n",
            "\n",
            " modf\n",
            "(array([[-0.5,  0.1,  0. ],\n",
            "       [ 0. ,  0. ,  0. ]]), array([[-2.,  3.,  7.],\n",
            "       [10., 11., 12.]]))\n",
            "\n",
            " isnan\n",
            "[[False False False]\n",
            " [False False False]]\n",
            "\n",
            " cos\n",
            "[[-0.80114362 -0.99913515  0.75390225]\n",
            " [-0.83907153  0.0044257   0.84385396]]\n"
          ],
          "name": "stdout"
        },
        {
          "output_type": "stream",
          "text": [
            "/usr/local/lib/python3.6/dist-packages/ipykernel_launcher.py:5: RuntimeWarning: invalid value encountered in sqrt\n",
            "  \"\"\"\n",
            "/usr/local/lib/python3.6/dist-packages/ipykernel_launcher.py:5: RuntimeWarning: invalid value encountered in log\n",
            "  \"\"\"\n"
          ],
          "name": "stderr"
        }
      ]
    },
    {
      "cell_type": "markdown",
      "metadata": {
        "id": "nRH4OiHv2Q_W",
        "colab_type": "text"
      },
      "source": [
        "## Binary ufuncs\n",
        "There are also many binary ufuncs, that apply elementwise on two `ndarray`s.  Broadcasting rules are applied if the arrays do not have the same shape:"
      ]
    },
    {
      "cell_type": "code",
      "metadata": {
        "id": "uli54dBC2Q_X",
        "colab_type": "code",
        "colab": {
          "base_uri": "https://localhost:8080/",
          "height": 35
        },
        "outputId": "193e2d3b-bfa3-4b81-a581-da81050f0daf"
      },
      "source": [
        "a = np.array([1, -2, 3, 4])\n",
        "b = np.array([2, 8, -1, 7])\n",
        "np.add(a, b)  # equivalent to a + b"
      ],
      "execution_count": 61,
      "outputs": [
        {
          "output_type": "execute_result",
          "data": {
            "text/plain": [
              "array([ 3,  6,  2, 11])"
            ]
          },
          "metadata": {
            "tags": []
          },
          "execution_count": 61
        }
      ]
    },
    {
      "cell_type": "code",
      "metadata": {
        "id": "GFFdQg5s2Q_Y",
        "colab_type": "code",
        "colab": {
          "base_uri": "https://localhost:8080/",
          "height": 35
        },
        "outputId": "e4090d6e-0711-4a1e-8be4-8ad95ffe5c34"
      },
      "source": [
        "np.greater(a, b)  # equivalent to a > b"
      ],
      "execution_count": 62,
      "outputs": [
        {
          "output_type": "execute_result",
          "data": {
            "text/plain": [
              "array([False, False,  True, False])"
            ]
          },
          "metadata": {
            "tags": []
          },
          "execution_count": 62
        }
      ]
    },
    {
      "cell_type": "code",
      "metadata": {
        "id": "dVjNSqDr2Q_b",
        "colab_type": "code",
        "colab": {
          "base_uri": "https://localhost:8080/",
          "height": 35
        },
        "outputId": "238d3012-6057-4818-cb08-cc18cbb51d17"
      },
      "source": [
        "np.maximum(a, b)"
      ],
      "execution_count": 63,
      "outputs": [
        {
          "output_type": "execute_result",
          "data": {
            "text/plain": [
              "array([2, 8, 3, 7])"
            ]
          },
          "metadata": {
            "tags": []
          },
          "execution_count": 63
        }
      ]
    },
    {
      "cell_type": "code",
      "metadata": {
        "id": "e96XwGSD2Q_f",
        "colab_type": "code",
        "colab": {
          "base_uri": "https://localhost:8080/",
          "height": 35
        },
        "outputId": "04993b22-451c-4d65-aa12-b4c24efb64b7"
      },
      "source": [
        "np.copysign(a, b)"
      ],
      "execution_count": 64,
      "outputs": [
        {
          "output_type": "execute_result",
          "data": {
            "text/plain": [
              "array([ 1.,  2., -3.,  4.])"
            ]
          },
          "metadata": {
            "tags": []
          },
          "execution_count": 64
        }
      ]
    },
    {
      "cell_type": "markdown",
      "metadata": {
        "id": "rWeUjzSn2Q_h",
        "colab_type": "text"
      },
      "source": [
        "# Array indexing\n",
        "## One-dimensional arrays\n",
        "One-dimensional NumPy arrays can be accessed more or less like regular python arrays:"
      ]
    },
    {
      "cell_type": "code",
      "metadata": {
        "id": "A18lYs3A2Q_h",
        "colab_type": "code",
        "colab": {
          "base_uri": "https://localhost:8080/",
          "height": 35
        },
        "outputId": "b8eb84da-02e8-479e-ae0b-9b74c8119ca4"
      },
      "source": [
        "a = np.array([1, 5, 3, 19, 13, 7, 3])\n",
        "a[3]"
      ],
      "execution_count": 65,
      "outputs": [
        {
          "output_type": "execute_result",
          "data": {
            "text/plain": [
              "19"
            ]
          },
          "metadata": {
            "tags": []
          },
          "execution_count": 65
        }
      ]
    },
    {
      "cell_type": "code",
      "metadata": {
        "id": "103Z2bYC2Q_j",
        "colab_type": "code",
        "colab": {
          "base_uri": "https://localhost:8080/",
          "height": 35
        },
        "outputId": "f8c9d78f-31d5-4309-fcc9-92caee993140"
      },
      "source": [
        "a[2:5]"
      ],
      "execution_count": 66,
      "outputs": [
        {
          "output_type": "execute_result",
          "data": {
            "text/plain": [
              "array([ 3, 19, 13])"
            ]
          },
          "metadata": {
            "tags": []
          },
          "execution_count": 66
        }
      ]
    },
    {
      "cell_type": "code",
      "metadata": {
        "id": "4NjdQEz52Q_l",
        "colab_type": "code",
        "colab": {
          "base_uri": "https://localhost:8080/",
          "height": 35
        },
        "outputId": "34dc74a3-c68a-4e61-e6c5-400fddc1ff29"
      },
      "source": [
        "a[2:-1]"
      ],
      "execution_count": 67,
      "outputs": [
        {
          "output_type": "execute_result",
          "data": {
            "text/plain": [
              "array([ 3, 19, 13,  7])"
            ]
          },
          "metadata": {
            "tags": []
          },
          "execution_count": 67
        }
      ]
    },
    {
      "cell_type": "code",
      "metadata": {
        "id": "wNFpMpHn2Q_n",
        "colab_type": "code",
        "colab": {
          "base_uri": "https://localhost:8080/",
          "height": 35
        },
        "outputId": "7e831b52-2395-4c2b-d661-b3f37e469ed5"
      },
      "source": [
        "a[:2]"
      ],
      "execution_count": 68,
      "outputs": [
        {
          "output_type": "execute_result",
          "data": {
            "text/plain": [
              "array([1, 5])"
            ]
          },
          "metadata": {
            "tags": []
          },
          "execution_count": 68
        }
      ]
    },
    {
      "cell_type": "code",
      "metadata": {
        "id": "Q4dQ-vwI2Q_p",
        "colab_type": "code",
        "colab": {
          "base_uri": "https://localhost:8080/",
          "height": 35
        },
        "outputId": "24791cf7-d73d-4a60-c235-ff02db1de6dc"
      },
      "source": [
        "a[2::2]"
      ],
      "execution_count": 69,
      "outputs": [
        {
          "output_type": "execute_result",
          "data": {
            "text/plain": [
              "array([ 3, 13,  3])"
            ]
          },
          "metadata": {
            "tags": []
          },
          "execution_count": 69
        }
      ]
    },
    {
      "cell_type": "code",
      "metadata": {
        "id": "q6MzH3pe2Q_r",
        "colab_type": "code",
        "colab": {
          "base_uri": "https://localhost:8080/",
          "height": 35
        },
        "outputId": "b31014e7-ad54-4137-da05-2d5d552b7305"
      },
      "source": [
        "a[::-1]"
      ],
      "execution_count": 70,
      "outputs": [
        {
          "output_type": "execute_result",
          "data": {
            "text/plain": [
              "array([ 3,  7, 13, 19,  3,  5,  1])"
            ]
          },
          "metadata": {
            "tags": []
          },
          "execution_count": 70
        }
      ]
    },
    {
      "cell_type": "markdown",
      "metadata": {
        "id": "-0pBLmHC2Q_t",
        "colab_type": "text"
      },
      "source": [
        "Of course, you can modify elements:"
      ]
    },
    {
      "cell_type": "code",
      "metadata": {
        "id": "RBZ9Y5yc2Q_u",
        "colab_type": "code",
        "colab": {
          "base_uri": "https://localhost:8080/",
          "height": 35
        },
        "outputId": "83df8df2-048f-4aac-a0fa-f6e9d9568197"
      },
      "source": [
        "a[3]=999\n",
        "a"
      ],
      "execution_count": 71,
      "outputs": [
        {
          "output_type": "execute_result",
          "data": {
            "text/plain": [
              "array([  1,   5,   3, 999,  13,   7,   3])"
            ]
          },
          "metadata": {
            "tags": []
          },
          "execution_count": 71
        }
      ]
    },
    {
      "cell_type": "markdown",
      "metadata": {
        "id": "bx8tsTC42Q_w",
        "colab_type": "text"
      },
      "source": [
        "You can also modify an `ndarray` slice:"
      ]
    },
    {
      "cell_type": "code",
      "metadata": {
        "id": "vbDqOyC62Q_w",
        "colab_type": "code",
        "colab": {
          "base_uri": "https://localhost:8080/",
          "height": 35
        },
        "outputId": "20decd9c-aee9-43f2-f1c2-b7df75403bdc"
      },
      "source": [
        "a[2:5] = [997, 998, 999]\n",
        "a"
      ],
      "execution_count": 72,
      "outputs": [
        {
          "output_type": "execute_result",
          "data": {
            "text/plain": [
              "array([  1,   5, 997, 998, 999,   7,   3])"
            ]
          },
          "metadata": {
            "tags": []
          },
          "execution_count": 72
        }
      ]
    },
    {
      "cell_type": "markdown",
      "metadata": {
        "id": "kUOYEhMr2Q_1",
        "colab_type": "text"
      },
      "source": [
        "## Differences with regular python arrays\n",
        "Contrary to regular python arrays, if you assign a single value to an `ndarray` slice, it is copied across the whole slice, thanks to broadcasting rules discussed above."
      ]
    },
    {
      "cell_type": "code",
      "metadata": {
        "id": "NZiL92Ca2Q_2",
        "colab_type": "code",
        "colab": {
          "base_uri": "https://localhost:8080/",
          "height": 35
        },
        "outputId": "b4c2376f-9e34-4b3d-e5d9-48077c9d8ec4"
      },
      "source": [
        "a[2:5] = -1\n",
        "a"
      ],
      "execution_count": 73,
      "outputs": [
        {
          "output_type": "execute_result",
          "data": {
            "text/plain": [
              "array([ 1,  5, -1, -1, -1,  7,  3])"
            ]
          },
          "metadata": {
            "tags": []
          },
          "execution_count": 73
        }
      ]
    },
    {
      "cell_type": "markdown",
      "metadata": {
        "id": "KT6QYbfo2Q_6",
        "colab_type": "text"
      },
      "source": [
        "Also, you cannot grow or shrink `ndarray`s this way:"
      ]
    },
    {
      "cell_type": "code",
      "metadata": {
        "scrolled": false,
        "id": "FxfnWvvz2Q_8",
        "colab_type": "code",
        "colab": {
          "base_uri": "https://localhost:8080/",
          "height": 35
        },
        "outputId": "2feeedb0-f7bb-42c4-d42b-c7d14a6825ba"
      },
      "source": [
        "try:\n",
        "    a[2:5] = [1,2,3,4,5,6]  # too long\n",
        "except ValueError as e:\n",
        "    print(e)"
      ],
      "execution_count": 74,
      "outputs": [
        {
          "output_type": "stream",
          "text": [
            "cannot copy sequence with size 6 to array axis with dimension 3\n"
          ],
          "name": "stdout"
        }
      ]
    },
    {
      "cell_type": "markdown",
      "metadata": {
        "id": "nL8scF652RAA",
        "colab_type": "text"
      },
      "source": [
        "You cannot delete elements either:"
      ]
    },
    {
      "cell_type": "code",
      "metadata": {
        "id": "gSBo7xLN2RAB",
        "colab_type": "code",
        "colab": {
          "base_uri": "https://localhost:8080/",
          "height": 35
        },
        "outputId": "5313916a-b825-4051-af55-bfaa3c2f0a02"
      },
      "source": [
        "try:\n",
        "    del a[2:5]\n",
        "except ValueError as e:\n",
        "    print(e)"
      ],
      "execution_count": 75,
      "outputs": [
        {
          "output_type": "stream",
          "text": [
            "cannot delete array elements\n"
          ],
          "name": "stdout"
        }
      ]
    },
    {
      "cell_type": "markdown",
      "metadata": {
        "id": "XPLqzCs_2RAC",
        "colab_type": "text"
      },
      "source": [
        "Last but not least, `ndarray` **slices are actually *views*** on the same data buffer. This means that if you create a slice and modify it, you are actually going to modify the original `ndarray` as well!"
      ]
    },
    {
      "cell_type": "code",
      "metadata": {
        "id": "_NSSnnLx2RAD",
        "colab_type": "code",
        "colab": {
          "base_uri": "https://localhost:8080/",
          "height": 35
        },
        "outputId": "56a910d8-cdfa-4b66-8b4a-99441b20360e"
      },
      "source": [
        "a_slice = a[2:6]\n",
        "a_slice[1] = 1000\n",
        "a  # the original array was modified!"
      ],
      "execution_count": 76,
      "outputs": [
        {
          "output_type": "execute_result",
          "data": {
            "text/plain": [
              "array([   1,    5,   -1, 1000,   -1,    7,    3])"
            ]
          },
          "metadata": {
            "tags": []
          },
          "execution_count": 76
        }
      ]
    },
    {
      "cell_type": "code",
      "metadata": {
        "id": "dGHYfLZK2RAF",
        "colab_type": "code",
        "colab": {
          "base_uri": "https://localhost:8080/",
          "height": 35
        },
        "outputId": "4bc6bc89-8bbc-446d-f95e-780a4cb711b4"
      },
      "source": [
        "a[3] = 2000\n",
        "a_slice  # similarly, modifying the original array modifies the slice!"
      ],
      "execution_count": 77,
      "outputs": [
        {
          "output_type": "execute_result",
          "data": {
            "text/plain": [
              "array([  -1, 2000,   -1,    7])"
            ]
          },
          "metadata": {
            "tags": []
          },
          "execution_count": 77
        }
      ]
    },
    {
      "cell_type": "markdown",
      "metadata": {
        "id": "mYt_-sXA2RAH",
        "colab_type": "text"
      },
      "source": [
        "If you want a copy of the data, you need to use the `copy` method:"
      ]
    },
    {
      "cell_type": "code",
      "metadata": {
        "id": "DGGMixeq2RAH",
        "colab_type": "code",
        "colab": {
          "base_uri": "https://localhost:8080/",
          "height": 35
        },
        "outputId": "cfa10d32-2438-46ab-b5f5-a0d31674b165"
      },
      "source": [
        "another_slice = a[2:6].copy()\n",
        "another_slice[1] = 3000\n",
        "a  # the original array is untouched"
      ],
      "execution_count": 78,
      "outputs": [
        {
          "output_type": "execute_result",
          "data": {
            "text/plain": [
              "array([   1,    5,   -1, 2000,   -1,    7,    3])"
            ]
          },
          "metadata": {
            "tags": []
          },
          "execution_count": 78
        }
      ]
    },
    {
      "cell_type": "code",
      "metadata": {
        "id": "ORvrvmqc2RAJ",
        "colab_type": "code",
        "colab": {
          "base_uri": "https://localhost:8080/",
          "height": 35
        },
        "outputId": "cace1a37-61dd-4a2e-b6de-9b8cb8fc0df0"
      },
      "source": [
        "a[3] = 4000\n",
        "another_slice  # similary, modifying the original array does not affect the slice copy"
      ],
      "execution_count": 79,
      "outputs": [
        {
          "output_type": "execute_result",
          "data": {
            "text/plain": [
              "array([  -1, 3000,   -1,    7])"
            ]
          },
          "metadata": {
            "tags": []
          },
          "execution_count": 79
        }
      ]
    },
    {
      "cell_type": "markdown",
      "metadata": {
        "id": "Dhb4FUK02RAK",
        "colab_type": "text"
      },
      "source": [
        "## Multi-dimensional arrays\n",
        "Multi-dimensional arrays can be accessed in a similar way by providing an index or slice for each axis, separated by commas:"
      ]
    },
    {
      "cell_type": "code",
      "metadata": {
        "id": "bS7Ta-aK2RAL",
        "colab_type": "code",
        "colab": {
          "base_uri": "https://localhost:8080/",
          "height": 87
        },
        "outputId": "0440ca76-4115-4ccb-b7c0-42c008bb6d91"
      },
      "source": [
        "b = np.arange(48).reshape(4, 12)\n",
        "b"
      ],
      "execution_count": 80,
      "outputs": [
        {
          "output_type": "execute_result",
          "data": {
            "text/plain": [
              "array([[ 0,  1,  2,  3,  4,  5,  6,  7,  8,  9, 10, 11],\n",
              "       [12, 13, 14, 15, 16, 17, 18, 19, 20, 21, 22, 23],\n",
              "       [24, 25, 26, 27, 28, 29, 30, 31, 32, 33, 34, 35],\n",
              "       [36, 37, 38, 39, 40, 41, 42, 43, 44, 45, 46, 47]])"
            ]
          },
          "metadata": {
            "tags": []
          },
          "execution_count": 80
        }
      ]
    },
    {
      "cell_type": "code",
      "metadata": {
        "id": "81LKOFum2RAM",
        "colab_type": "code",
        "colab": {
          "base_uri": "https://localhost:8080/",
          "height": 35
        },
        "outputId": "3327b2dc-e83e-40fe-a72b-6de55acf1a11"
      },
      "source": [
        "b[1, 2]  # row 1, col 2"
      ],
      "execution_count": 81,
      "outputs": [
        {
          "output_type": "execute_result",
          "data": {
            "text/plain": [
              "14"
            ]
          },
          "metadata": {
            "tags": []
          },
          "execution_count": 81
        }
      ]
    },
    {
      "cell_type": "code",
      "metadata": {
        "id": "HofeC2tm2RAN",
        "colab_type": "code",
        "colab": {
          "base_uri": "https://localhost:8080/",
          "height": 35
        },
        "outputId": "16b6d4a3-83ae-4190-8b89-c16891289625"
      },
      "source": [
        "b[1, :]  # row 1, all columns"
      ],
      "execution_count": 82,
      "outputs": [
        {
          "output_type": "execute_result",
          "data": {
            "text/plain": [
              "array([12, 13, 14, 15, 16, 17, 18, 19, 20, 21, 22, 23])"
            ]
          },
          "metadata": {
            "tags": []
          },
          "execution_count": 82
        }
      ]
    },
    {
      "cell_type": "code",
      "metadata": {
        "id": "t2jrC84P2RAO",
        "colab_type": "code",
        "colab": {
          "base_uri": "https://localhost:8080/",
          "height": 35
        },
        "outputId": "91d018c3-c3b2-4cf1-dfdd-b79dce05d060"
      },
      "source": [
        "b[:, 1]  # all rows, column 1"
      ],
      "execution_count": 83,
      "outputs": [
        {
          "output_type": "execute_result",
          "data": {
            "text/plain": [
              "array([ 1, 13, 25, 37])"
            ]
          },
          "metadata": {
            "tags": []
          },
          "execution_count": 83
        }
      ]
    },
    {
      "cell_type": "markdown",
      "metadata": {
        "id": "soOUTUeV2RAQ",
        "colab_type": "text"
      },
      "source": [
        "**Caution**: note the subtle difference between these two expressions: "
      ]
    },
    {
      "cell_type": "code",
      "metadata": {
        "scrolled": true,
        "id": "WZkgFn_12RAQ",
        "colab_type": "code",
        "colab": {
          "base_uri": "https://localhost:8080/",
          "height": 35
        },
        "outputId": "369d7750-ffca-4be7-9652-14d7c9aa8ffe"
      },
      "source": [
        "b[1, :]"
      ],
      "execution_count": 84,
      "outputs": [
        {
          "output_type": "execute_result",
          "data": {
            "text/plain": [
              "array([12, 13, 14, 15, 16, 17, 18, 19, 20, 21, 22, 23])"
            ]
          },
          "metadata": {
            "tags": []
          },
          "execution_count": 84
        }
      ]
    },
    {
      "cell_type": "code",
      "metadata": {
        "id": "jMGWvarS2RAR",
        "colab_type": "code",
        "colab": {
          "base_uri": "https://localhost:8080/",
          "height": 35
        },
        "outputId": "be3521d9-fd55-4a8f-9329-c87612cc1666"
      },
      "source": [
        "b[1:2, :]"
      ],
      "execution_count": 85,
      "outputs": [
        {
          "output_type": "execute_result",
          "data": {
            "text/plain": [
              "array([[12, 13, 14, 15, 16, 17, 18, 19, 20, 21, 22, 23]])"
            ]
          },
          "metadata": {
            "tags": []
          },
          "execution_count": 85
        }
      ]
    },
    {
      "cell_type": "markdown",
      "metadata": {
        "id": "nZnN1Bzx2RAT",
        "colab_type": "text"
      },
      "source": [
        "The first expression returns row 1 as a 1D array of shape `(12,)`, while the second returns that same row as a 2D array of shape `(1, 12)`."
      ]
    },
    {
      "cell_type": "markdown",
      "metadata": {
        "id": "sIOCjYXL2RAU",
        "colab_type": "text"
      },
      "source": [
        "## Fancy indexing\n",
        "You may also specify a list of indices that you are interested in. This is referred to as *fancy indexing*."
      ]
    },
    {
      "cell_type": "code",
      "metadata": {
        "scrolled": true,
        "id": "X-q9ju0B2RAU",
        "colab_type": "code",
        "colab": {
          "base_uri": "https://localhost:8080/",
          "height": 52
        },
        "outputId": "2a697142-7244-4627-c43f-0e7972859d89"
      },
      "source": [
        "b[(0,2), 2:5]  # rows 0 and 2, columns 2 to 4 (5-1)"
      ],
      "execution_count": 86,
      "outputs": [
        {
          "output_type": "execute_result",
          "data": {
            "text/plain": [
              "array([[ 2,  3,  4],\n",
              "       [26, 27, 28]])"
            ]
          },
          "metadata": {
            "tags": []
          },
          "execution_count": 86
        }
      ]
    },
    {
      "cell_type": "code",
      "metadata": {
        "id": "QCfYRp3N2RAV",
        "colab_type": "code",
        "colab": {
          "base_uri": "https://localhost:8080/",
          "height": 87
        },
        "outputId": "531aec09-5608-4805-bedb-18e94c000f27"
      },
      "source": [
        "b[:, (-1, 2, -1)]  # all rows, columns -1 (last), 2 and -1 (again, and in this order)"
      ],
      "execution_count": 87,
      "outputs": [
        {
          "output_type": "execute_result",
          "data": {
            "text/plain": [
              "array([[11,  2, 11],\n",
              "       [23, 14, 23],\n",
              "       [35, 26, 35],\n",
              "       [47, 38, 47]])"
            ]
          },
          "metadata": {
            "tags": []
          },
          "execution_count": 87
        }
      ]
    },
    {
      "cell_type": "markdown",
      "metadata": {
        "id": "nVnnYcxr2RAX",
        "colab_type": "text"
      },
      "source": [
        "If you provide multiple index arrays, you get a 1D `ndarray` containing the values of the elements at the specified coordinates."
      ]
    },
    {
      "cell_type": "code",
      "metadata": {
        "id": "xJqJomI12RAX",
        "colab_type": "code",
        "colab": {
          "base_uri": "https://localhost:8080/",
          "height": 35
        },
        "outputId": "b6c1301a-5fc4-4786-bbd1-9b600952854f"
      },
      "source": [
        "b[(-1, 2, -1, 2), (5, 9, 1, 9)]  # returns a 1D array with b[-1, 5], b[2, 9], b[-1, 1] and b[2, 9] (again)"
      ],
      "execution_count": 88,
      "outputs": [
        {
          "output_type": "execute_result",
          "data": {
            "text/plain": [
              "array([41, 33, 37, 33])"
            ]
          },
          "metadata": {
            "tags": []
          },
          "execution_count": 88
        }
      ]
    },
    {
      "cell_type": "markdown",
      "metadata": {
        "id": "WKxkxRQy2RAZ",
        "colab_type": "text"
      },
      "source": [
        "## Higher dimensions\n",
        "Everything works just as well with higher dimensional arrays, but it's useful to look at a few examples:"
      ]
    },
    {
      "cell_type": "code",
      "metadata": {
        "id": "6FPsPW2M2RAZ",
        "colab_type": "code",
        "colab": {
          "base_uri": "https://localhost:8080/",
          "height": 208
        },
        "outputId": "20df7376-fa6a-41fe-e16f-0714833ef1f5"
      },
      "source": [
        "c = b.reshape(4,2,6)\n",
        "c"
      ],
      "execution_count": 89,
      "outputs": [
        {
          "output_type": "execute_result",
          "data": {
            "text/plain": [
              "array([[[ 0,  1,  2,  3,  4,  5],\n",
              "        [ 6,  7,  8,  9, 10, 11]],\n",
              "\n",
              "       [[12, 13, 14, 15, 16, 17],\n",
              "        [18, 19, 20, 21, 22, 23]],\n",
              "\n",
              "       [[24, 25, 26, 27, 28, 29],\n",
              "        [30, 31, 32, 33, 34, 35]],\n",
              "\n",
              "       [[36, 37, 38, 39, 40, 41],\n",
              "        [42, 43, 44, 45, 46, 47]]])"
            ]
          },
          "metadata": {
            "tags": []
          },
          "execution_count": 89
        }
      ]
    },
    {
      "cell_type": "code",
      "metadata": {
        "id": "USqyFi6i2RAa",
        "colab_type": "code",
        "colab": {
          "base_uri": "https://localhost:8080/",
          "height": 35
        },
        "outputId": "b4258069-7df7-4fd3-e439-0eb23d1625ee"
      },
      "source": [
        "c[2, 1, 4]  # matrix 2, row 1, col 4"
      ],
      "execution_count": 90,
      "outputs": [
        {
          "output_type": "execute_result",
          "data": {
            "text/plain": [
              "34"
            ]
          },
          "metadata": {
            "tags": []
          },
          "execution_count": 90
        }
      ]
    },
    {
      "cell_type": "code",
      "metadata": {
        "id": "KHa4eLhn2RAc",
        "colab_type": "code",
        "colab": {
          "base_uri": "https://localhost:8080/",
          "height": 35
        },
        "outputId": "06047b08-84cd-4778-bdad-ccb42ad7b4e5"
      },
      "source": [
        "c[2, :, 3]  # matrix 2, all rows, col 3"
      ],
      "execution_count": 91,
      "outputs": [
        {
          "output_type": "execute_result",
          "data": {
            "text/plain": [
              "array([27, 33])"
            ]
          },
          "metadata": {
            "tags": []
          },
          "execution_count": 91
        }
      ]
    },
    {
      "cell_type": "markdown",
      "metadata": {
        "id": "NLNdwlWv2RAe",
        "colab_type": "text"
      },
      "source": [
        "If you omit coordinates for some axes, then all elements in these axes are returned:"
      ]
    },
    {
      "cell_type": "code",
      "metadata": {
        "id": "budW8lsa2RAf",
        "colab_type": "code",
        "colab": {
          "base_uri": "https://localhost:8080/",
          "height": 35
        },
        "outputId": "36851f0b-fa4a-4ee9-f10e-f7722c7b29b1"
      },
      "source": [
        "c[2, 1]  # Return matrix 2, row 1, all columns.  This is equivalent to c[2, 1, :]"
      ],
      "execution_count": 92,
      "outputs": [
        {
          "output_type": "execute_result",
          "data": {
            "text/plain": [
              "array([30, 31, 32, 33, 34, 35])"
            ]
          },
          "metadata": {
            "tags": []
          },
          "execution_count": 92
        }
      ]
    },
    {
      "cell_type": "markdown",
      "metadata": {
        "id": "genPnaDS2RAj",
        "colab_type": "text"
      },
      "source": [
        "## Ellipsis (`...`)\n",
        "You may also write an ellipsis (`...`) to ask that all non-specified axes be entirely included."
      ]
    },
    {
      "cell_type": "code",
      "metadata": {
        "id": "altIlSRw2RAn",
        "colab_type": "code",
        "colab": {
          "base_uri": "https://localhost:8080/",
          "height": 52
        },
        "outputId": "d640870e-96ea-4074-a2d1-e90f86fa31fc"
      },
      "source": [
        "c[2, ...]  #  matrix 2, all rows, all columns.  This is equivalent to c[2, :, :]"
      ],
      "execution_count": 93,
      "outputs": [
        {
          "output_type": "execute_result",
          "data": {
            "text/plain": [
              "array([[24, 25, 26, 27, 28, 29],\n",
              "       [30, 31, 32, 33, 34, 35]])"
            ]
          },
          "metadata": {
            "tags": []
          },
          "execution_count": 93
        }
      ]
    },
    {
      "cell_type": "code",
      "metadata": {
        "id": "G1ylXfco2RAr",
        "colab_type": "code",
        "colab": {
          "base_uri": "https://localhost:8080/",
          "height": 35
        },
        "outputId": "badbf4c3-a2a7-43c1-a1dd-662c08e88607"
      },
      "source": [
        "c[2, 1, ...]  # matrix 2, row 1, all columns.  This is equivalent to c[2, 1, :]"
      ],
      "execution_count": 94,
      "outputs": [
        {
          "output_type": "execute_result",
          "data": {
            "text/plain": [
              "array([30, 31, 32, 33, 34, 35])"
            ]
          },
          "metadata": {
            "tags": []
          },
          "execution_count": 94
        }
      ]
    },
    {
      "cell_type": "code",
      "metadata": {
        "id": "U6YH2NWl2RAs",
        "colab_type": "code",
        "colab": {
          "base_uri": "https://localhost:8080/",
          "height": 35
        },
        "outputId": "b2252e6a-c202-4fdc-b991-fcf0216123e4"
      },
      "source": [
        "c[2, ..., 3]  # matrix 2, all rows, column 3.  This is equivalent to c[2, :, 3]"
      ],
      "execution_count": 95,
      "outputs": [
        {
          "output_type": "execute_result",
          "data": {
            "text/plain": [
              "array([27, 33])"
            ]
          },
          "metadata": {
            "tags": []
          },
          "execution_count": 95
        }
      ]
    },
    {
      "cell_type": "code",
      "metadata": {
        "scrolled": false,
        "id": "nUJww8eS2RAu",
        "colab_type": "code",
        "colab": {
          "base_uri": "https://localhost:8080/",
          "height": 87
        },
        "outputId": "2072b462-a690-4f54-c25f-e4e8285ab68d"
      },
      "source": [
        "c[..., 3]  # all matrices, all rows, column 3.  This is equivalent to c[:, :, 3]"
      ],
      "execution_count": 96,
      "outputs": [
        {
          "output_type": "execute_result",
          "data": {
            "text/plain": [
              "array([[ 3,  9],\n",
              "       [15, 21],\n",
              "       [27, 33],\n",
              "       [39, 45]])"
            ]
          },
          "metadata": {
            "tags": []
          },
          "execution_count": 96
        }
      ]
    },
    {
      "cell_type": "markdown",
      "metadata": {
        "id": "Hxu5-WoD2RAv",
        "colab_type": "text"
      },
      "source": [
        "## Boolean indexing\n",
        "You can also provide an `ndarray` of boolean values on one axis to specify the indices that you want to access."
      ]
    },
    {
      "cell_type": "code",
      "metadata": {
        "id": "mIXkKS5t2RAw",
        "colab_type": "code",
        "colab": {
          "base_uri": "https://localhost:8080/",
          "height": 87
        },
        "outputId": "bb853d7c-201d-4592-fac2-83f794cc7a13"
      },
      "source": [
        "b = np.arange(48).reshape(4, 12)\n",
        "b"
      ],
      "execution_count": 97,
      "outputs": [
        {
          "output_type": "execute_result",
          "data": {
            "text/plain": [
              "array([[ 0,  1,  2,  3,  4,  5,  6,  7,  8,  9, 10, 11],\n",
              "       [12, 13, 14, 15, 16, 17, 18, 19, 20, 21, 22, 23],\n",
              "       [24, 25, 26, 27, 28, 29, 30, 31, 32, 33, 34, 35],\n",
              "       [36, 37, 38, 39, 40, 41, 42, 43, 44, 45, 46, 47]])"
            ]
          },
          "metadata": {
            "tags": []
          },
          "execution_count": 97
        }
      ]
    },
    {
      "cell_type": "code",
      "metadata": {
        "id": "n9NHd7BC2RAy",
        "colab_type": "code",
        "colab": {
          "base_uri": "https://localhost:8080/",
          "height": 52
        },
        "outputId": "d26d5132-d31e-430a-da03-7579fd77ce36"
      },
      "source": [
        "rows_on = np.array([True, False, True, False])\n",
        "b[rows_on, :]  # Rows 0 and 2, all columns. Equivalent to b[(0, 2), :]"
      ],
      "execution_count": 98,
      "outputs": [
        {
          "output_type": "execute_result",
          "data": {
            "text/plain": [
              "array([[ 0,  1,  2,  3,  4,  5,  6,  7,  8,  9, 10, 11],\n",
              "       [24, 25, 26, 27, 28, 29, 30, 31, 32, 33, 34, 35]])"
            ]
          },
          "metadata": {
            "tags": []
          },
          "execution_count": 98
        }
      ]
    },
    {
      "cell_type": "code",
      "metadata": {
        "id": "bVs5ZcFq2RAz",
        "colab_type": "code",
        "colab": {
          "base_uri": "https://localhost:8080/",
          "height": 87
        },
        "outputId": "6edc8f6e-1ba4-44da-bf52-46b32c1407ba"
      },
      "source": [
        "cols_on = np.array([False, True, False] * 4)\n",
        "b[:, cols_on]  # All rows, columns 1, 4, 7 and 10"
      ],
      "execution_count": 99,
      "outputs": [
        {
          "output_type": "execute_result",
          "data": {
            "text/plain": [
              "array([[ 1,  4,  7, 10],\n",
              "       [13, 16, 19, 22],\n",
              "       [25, 28, 31, 34],\n",
              "       [37, 40, 43, 46]])"
            ]
          },
          "metadata": {
            "tags": []
          },
          "execution_count": 99
        }
      ]
    },
    {
      "cell_type": "markdown",
      "metadata": {
        "id": "w7PBlpAe2RA0",
        "colab_type": "text"
      },
      "source": [
        "## `np.ix_`\n",
        "You cannot use boolean indexing this way on multiple axes, but you can work around this by using the `ix_` function:"
      ]
    },
    {
      "cell_type": "code",
      "metadata": {
        "id": "NNaTU2R32RA1",
        "colab_type": "code",
        "colab": {
          "base_uri": "https://localhost:8080/",
          "height": 52
        },
        "outputId": "c27e631d-caa5-4d30-dfbc-47b26bd53060"
      },
      "source": [
        "b[np.ix_(rows_on, cols_on)]"
      ],
      "execution_count": 100,
      "outputs": [
        {
          "output_type": "execute_result",
          "data": {
            "text/plain": [
              "array([[ 1,  4,  7, 10],\n",
              "       [25, 28, 31, 34]])"
            ]
          },
          "metadata": {
            "tags": []
          },
          "execution_count": 100
        }
      ]
    },
    {
      "cell_type": "code",
      "metadata": {
        "id": "-T5ls_-R2RA2",
        "colab_type": "code",
        "colab": {
          "base_uri": "https://localhost:8080/",
          "height": 52
        },
        "outputId": "fd3d0a0d-d082-409a-d308-9dfd9899a7ba"
      },
      "source": [
        "np.ix_(rows_on, cols_on)"
      ],
      "execution_count": 101,
      "outputs": [
        {
          "output_type": "execute_result",
          "data": {
            "text/plain": [
              "(array([[0],\n",
              "        [2]]), array([[ 1,  4,  7, 10]]))"
            ]
          },
          "metadata": {
            "tags": []
          },
          "execution_count": 101
        }
      ]
    },
    {
      "cell_type": "markdown",
      "metadata": {
        "id": "gGzqHalp2RA4",
        "colab_type": "text"
      },
      "source": [
        "If you use a boolean array that has the same shape as the `ndarray`, then you get in return a 1D array containing all the values that have `True` at their coordinate. This is generally used along with conditional operators:"
      ]
    },
    {
      "cell_type": "code",
      "metadata": {
        "id": "yJa6FgeU2RA5",
        "colab_type": "code",
        "colab": {
          "base_uri": "https://localhost:8080/",
          "height": 35
        },
        "outputId": "970be730-2029-4647-8b7f-501e84788bb7"
      },
      "source": [
        "b[b % 3 == 1]"
      ],
      "execution_count": 102,
      "outputs": [
        {
          "output_type": "execute_result",
          "data": {
            "text/plain": [
              "array([ 1,  4,  7, 10, 13, 16, 19, 22, 25, 28, 31, 34, 37, 40, 43, 46])"
            ]
          },
          "metadata": {
            "tags": []
          },
          "execution_count": 102
        }
      ]
    },
    {
      "cell_type": "markdown",
      "metadata": {
        "id": "NAmiReqt2RA6",
        "colab_type": "text"
      },
      "source": [
        "# Iterating\n",
        "Iterating over `ndarray`s is very similar to iterating over regular python arrays. Note that iterating over multidimensional arrays is done with respect to the first axis."
      ]
    },
    {
      "cell_type": "code",
      "metadata": {
        "id": "6pLIcl2E2RA6",
        "colab_type": "code",
        "colab": {
          "base_uri": "https://localhost:8080/",
          "height": 139
        },
        "outputId": "4a0206c1-94a0-45ee-b08b-8e559d9e9cd6"
      },
      "source": [
        "c = np.arange(24).reshape(2, 3, 4)  # A 3D array (composed of two 3x4 matrices)\n",
        "c"
      ],
      "execution_count": 103,
      "outputs": [
        {
          "output_type": "execute_result",
          "data": {
            "text/plain": [
              "array([[[ 0,  1,  2,  3],\n",
              "        [ 4,  5,  6,  7],\n",
              "        [ 8,  9, 10, 11]],\n",
              "\n",
              "       [[12, 13, 14, 15],\n",
              "        [16, 17, 18, 19],\n",
              "        [20, 21, 22, 23]]])"
            ]
          },
          "metadata": {
            "tags": []
          },
          "execution_count": 103
        }
      ]
    },
    {
      "cell_type": "code",
      "metadata": {
        "id": "peBUELmJ2RA7",
        "colab_type": "code",
        "colab": {
          "base_uri": "https://localhost:8080/",
          "height": 156
        },
        "outputId": "3e4e7bea-fd80-4e99-ca8f-41aa87f146c4"
      },
      "source": [
        "for m in c:\n",
        "    print(\"Item:\")\n",
        "    print(m)"
      ],
      "execution_count": 104,
      "outputs": [
        {
          "output_type": "stream",
          "text": [
            "Item:\n",
            "[[ 0  1  2  3]\n",
            " [ 4  5  6  7]\n",
            " [ 8  9 10 11]]\n",
            "Item:\n",
            "[[12 13 14 15]\n",
            " [16 17 18 19]\n",
            " [20 21 22 23]]\n"
          ],
          "name": "stdout"
        }
      ]
    },
    {
      "cell_type": "code",
      "metadata": {
        "id": "MgFiRWre2RA9",
        "colab_type": "code",
        "colab": {
          "base_uri": "https://localhost:8080/",
          "height": 156
        },
        "outputId": "b160808b-974e-4939-a267-e1c3d9ed1974"
      },
      "source": [
        "for i in range(len(c)):  # Note that len(c) == c.shape[0]\n",
        "    print(\"Item:\")\n",
        "    print(c[i])"
      ],
      "execution_count": 105,
      "outputs": [
        {
          "output_type": "stream",
          "text": [
            "Item:\n",
            "[[ 0  1  2  3]\n",
            " [ 4  5  6  7]\n",
            " [ 8  9 10 11]]\n",
            "Item:\n",
            "[[12 13 14 15]\n",
            " [16 17 18 19]\n",
            " [20 21 22 23]]\n"
          ],
          "name": "stdout"
        }
      ]
    },
    {
      "cell_type": "markdown",
      "metadata": {
        "id": "_g9Ui4ck2RA-",
        "colab_type": "text"
      },
      "source": [
        "If you want to iterate on *all* elements in the `ndarray`, simply iterate over the `flat` attribute:"
      ]
    },
    {
      "cell_type": "code",
      "metadata": {
        "id": "aPNx1t8U2RA-",
        "colab_type": "code",
        "colab": {
          "base_uri": "https://localhost:8080/",
          "height": 433
        },
        "outputId": "fe63b62f-9099-4a2f-ef0d-9705adfd4d6e"
      },
      "source": [
        "for i in c.flat:\n",
        "    print(\"Item:\", i)"
      ],
      "execution_count": 106,
      "outputs": [
        {
          "output_type": "stream",
          "text": [
            "Item: 0\n",
            "Item: 1\n",
            "Item: 2\n",
            "Item: 3\n",
            "Item: 4\n",
            "Item: 5\n",
            "Item: 6\n",
            "Item: 7\n",
            "Item: 8\n",
            "Item: 9\n",
            "Item: 10\n",
            "Item: 11\n",
            "Item: 12\n",
            "Item: 13\n",
            "Item: 14\n",
            "Item: 15\n",
            "Item: 16\n",
            "Item: 17\n",
            "Item: 18\n",
            "Item: 19\n",
            "Item: 20\n",
            "Item: 21\n",
            "Item: 22\n",
            "Item: 23\n"
          ],
          "name": "stdout"
        }
      ]
    },
    {
      "cell_type": "markdown",
      "metadata": {
        "id": "kSCW8h8P2RA_",
        "colab_type": "text"
      },
      "source": [
        "# Stacking arrays\n",
        "It is often useful to stack together different arrays. NumPy offers several functions to do just that. Let's start by creating a few arrays."
      ]
    },
    {
      "cell_type": "code",
      "metadata": {
        "id": "FmFLGXyh2RA_",
        "colab_type": "code",
        "colab": {
          "base_uri": "https://localhost:8080/",
          "height": 69
        },
        "outputId": "3611f12e-0df0-4b5c-fd01-574298e15ce0"
      },
      "source": [
        "q1 = np.full((3,4), 1.0)\n",
        "q1"
      ],
      "execution_count": 107,
      "outputs": [
        {
          "output_type": "execute_result",
          "data": {
            "text/plain": [
              "array([[1., 1., 1., 1.],\n",
              "       [1., 1., 1., 1.],\n",
              "       [1., 1., 1., 1.]])"
            ]
          },
          "metadata": {
            "tags": []
          },
          "execution_count": 107
        }
      ]
    },
    {
      "cell_type": "code",
      "metadata": {
        "id": "eZdYOUe72RBA",
        "colab_type": "code",
        "colab": {
          "base_uri": "https://localhost:8080/",
          "height": 87
        },
        "outputId": "59ed96bc-79b1-4086-9464-22d6736e6364"
      },
      "source": [
        "q2 = np.full((4,4), 2.0)\n",
        "q2"
      ],
      "execution_count": 108,
      "outputs": [
        {
          "output_type": "execute_result",
          "data": {
            "text/plain": [
              "array([[2., 2., 2., 2.],\n",
              "       [2., 2., 2., 2.],\n",
              "       [2., 2., 2., 2.],\n",
              "       [2., 2., 2., 2.]])"
            ]
          },
          "metadata": {
            "tags": []
          },
          "execution_count": 108
        }
      ]
    },
    {
      "cell_type": "code",
      "metadata": {
        "id": "Tm04fOCW2RBC",
        "colab_type": "code",
        "colab": {
          "base_uri": "https://localhost:8080/",
          "height": 69
        },
        "outputId": "ea54c31b-db97-4374-df34-f9b9da35d5e7"
      },
      "source": [
        "q3 = np.full((3,4), 3.0)\n",
        "q3"
      ],
      "execution_count": 109,
      "outputs": [
        {
          "output_type": "execute_result",
          "data": {
            "text/plain": [
              "array([[3., 3., 3., 3.],\n",
              "       [3., 3., 3., 3.],\n",
              "       [3., 3., 3., 3.]])"
            ]
          },
          "metadata": {
            "tags": []
          },
          "execution_count": 109
        }
      ]
    },
    {
      "cell_type": "markdown",
      "metadata": {
        "id": "eT84FjFF2RBD",
        "colab_type": "text"
      },
      "source": [
        "## `vstack`\n",
        "Now let's stack them vertically using `vstack`:"
      ]
    },
    {
      "cell_type": "code",
      "metadata": {
        "id": "kYgw6Ynl2RBD",
        "colab_type": "code",
        "colab": {
          "base_uri": "https://localhost:8080/",
          "height": 191
        },
        "outputId": "b2dc4e81-5ace-48c1-f968-a625526eff37"
      },
      "source": [
        "q4 = np.vstack((q1, q2, q3))\n",
        "q4"
      ],
      "execution_count": 110,
      "outputs": [
        {
          "output_type": "execute_result",
          "data": {
            "text/plain": [
              "array([[1., 1., 1., 1.],\n",
              "       [1., 1., 1., 1.],\n",
              "       [1., 1., 1., 1.],\n",
              "       [2., 2., 2., 2.],\n",
              "       [2., 2., 2., 2.],\n",
              "       [2., 2., 2., 2.],\n",
              "       [2., 2., 2., 2.],\n",
              "       [3., 3., 3., 3.],\n",
              "       [3., 3., 3., 3.],\n",
              "       [3., 3., 3., 3.]])"
            ]
          },
          "metadata": {
            "tags": []
          },
          "execution_count": 110
        }
      ]
    },
    {
      "cell_type": "code",
      "metadata": {
        "id": "YdFAquZF2RBE",
        "colab_type": "code",
        "colab": {
          "base_uri": "https://localhost:8080/",
          "height": 35
        },
        "outputId": "3ea088df-f5ba-408c-a7b2-d3b5ad7f3f8f"
      },
      "source": [
        "q4.shape"
      ],
      "execution_count": 111,
      "outputs": [
        {
          "output_type": "execute_result",
          "data": {
            "text/plain": [
              "(10, 4)"
            ]
          },
          "metadata": {
            "tags": []
          },
          "execution_count": 111
        }
      ]
    },
    {
      "cell_type": "markdown",
      "metadata": {
        "id": "xcleGZwV2RBF",
        "colab_type": "text"
      },
      "source": [
        "This was possible because q1, q2 and q3 all have the same shape (except for the vertical axis, but that's ok since we are stacking on that axis).\n",
        "\n",
        "## `hstack`\n",
        "We can also stack arrays horizontally using `hstack`:"
      ]
    },
    {
      "cell_type": "code",
      "metadata": {
        "id": "hDGcuv_L2RBG",
        "colab_type": "code",
        "colab": {
          "base_uri": "https://localhost:8080/",
          "height": 69
        },
        "outputId": "ee8c2dc8-244f-4643-f139-190e4fccef69"
      },
      "source": [
        "q5 = np.hstack((q1, q3))\n",
        "q5"
      ],
      "execution_count": 112,
      "outputs": [
        {
          "output_type": "execute_result",
          "data": {
            "text/plain": [
              "array([[1., 1., 1., 1., 3., 3., 3., 3.],\n",
              "       [1., 1., 1., 1., 3., 3., 3., 3.],\n",
              "       [1., 1., 1., 1., 3., 3., 3., 3.]])"
            ]
          },
          "metadata": {
            "tags": []
          },
          "execution_count": 112
        }
      ]
    },
    {
      "cell_type": "code",
      "metadata": {
        "id": "Zi8qsrH62RBI",
        "colab_type": "code",
        "colab": {
          "base_uri": "https://localhost:8080/",
          "height": 35
        },
        "outputId": "3cbf06f4-e7a2-4459-c987-54aa4644175d"
      },
      "source": [
        "q5.shape"
      ],
      "execution_count": 113,
      "outputs": [
        {
          "output_type": "execute_result",
          "data": {
            "text/plain": [
              "(3, 8)"
            ]
          },
          "metadata": {
            "tags": []
          },
          "execution_count": 113
        }
      ]
    },
    {
      "cell_type": "markdown",
      "metadata": {
        "id": "_nZSzYdt2RBK",
        "colab_type": "text"
      },
      "source": [
        "This is possible because q1 and q3 both have 3 rows. But since q2 has 4 rows, it cannot be stacked horizontally with q1 and q3:"
      ]
    },
    {
      "cell_type": "code",
      "metadata": {
        "id": "KpjusDNN2RBK",
        "colab_type": "code",
        "colab": {
          "base_uri": "https://localhost:8080/",
          "height": 55
        },
        "outputId": "4bbf2166-aa3c-402b-c566-17d4abbad9dc"
      },
      "source": [
        "try:\n",
        "    q5 = np.hstack((q1, q2, q3))\n",
        "except ValueError as e:\n",
        "    print(e)"
      ],
      "execution_count": 114,
      "outputs": [
        {
          "output_type": "stream",
          "text": [
            "all the input array dimensions for the concatenation axis must match exactly, but along dimension 0, the array at index 0 has size 3 and the array at index 1 has size 4\n"
          ],
          "name": "stdout"
        }
      ]
    },
    {
      "cell_type": "markdown",
      "metadata": {
        "id": "qHsF6L452RBL",
        "colab_type": "text"
      },
      "source": [
        "## `concatenate`\n",
        "The `concatenate` function stacks arrays along any given existing axis."
      ]
    },
    {
      "cell_type": "code",
      "metadata": {
        "id": "RfjoFpDA2RBL",
        "colab_type": "code",
        "colab": {
          "base_uri": "https://localhost:8080/",
          "height": 191
        },
        "outputId": "1734d1b0-265a-4f45-e2d4-ba87d69a8b92"
      },
      "source": [
        "q7 = np.concatenate((q1, q2, q3), axis=0)  # Equivalent to vstack\n",
        "q7"
      ],
      "execution_count": 115,
      "outputs": [
        {
          "output_type": "execute_result",
          "data": {
            "text/plain": [
              "array([[1., 1., 1., 1.],\n",
              "       [1., 1., 1., 1.],\n",
              "       [1., 1., 1., 1.],\n",
              "       [2., 2., 2., 2.],\n",
              "       [2., 2., 2., 2.],\n",
              "       [2., 2., 2., 2.],\n",
              "       [2., 2., 2., 2.],\n",
              "       [3., 3., 3., 3.],\n",
              "       [3., 3., 3., 3.],\n",
              "       [3., 3., 3., 3.]])"
            ]
          },
          "metadata": {
            "tags": []
          },
          "execution_count": 115
        }
      ]
    },
    {
      "cell_type": "code",
      "metadata": {
        "id": "SsJ8TGZ12RBM",
        "colab_type": "code",
        "colab": {
          "base_uri": "https://localhost:8080/",
          "height": 35
        },
        "outputId": "630e8537-5cf1-426a-df4c-61170cda3f67"
      },
      "source": [
        "q7.shape"
      ],
      "execution_count": 116,
      "outputs": [
        {
          "output_type": "execute_result",
          "data": {
            "text/plain": [
              "(10, 4)"
            ]
          },
          "metadata": {
            "tags": []
          },
          "execution_count": 116
        }
      ]
    },
    {
      "cell_type": "markdown",
      "metadata": {
        "id": "UeFRA4GT2RBN",
        "colab_type": "text"
      },
      "source": [
        "As you might guess, `hstack` is equivalent to calling `concatenate` with `axis=1`."
      ]
    },
    {
      "cell_type": "markdown",
      "metadata": {
        "id": "Ocsq4TpF2RBO",
        "colab_type": "text"
      },
      "source": [
        "## `stack`\n",
        "The `stack` function stacks arrays along a new axis. All arrays have to have the same shape."
      ]
    },
    {
      "cell_type": "code",
      "metadata": {
        "id": "iZsIXgT_2RBO",
        "colab_type": "code",
        "colab": {
          "base_uri": "https://localhost:8080/",
          "height": 139
        },
        "outputId": "8f886ec9-7419-46ba-bcee-a26f95e63960"
      },
      "source": [
        "q8 = np.stack((q1, q3))\n",
        "q8"
      ],
      "execution_count": 117,
      "outputs": [
        {
          "output_type": "execute_result",
          "data": {
            "text/plain": [
              "array([[[1., 1., 1., 1.],\n",
              "        [1., 1., 1., 1.],\n",
              "        [1., 1., 1., 1.]],\n",
              "\n",
              "       [[3., 3., 3., 3.],\n",
              "        [3., 3., 3., 3.],\n",
              "        [3., 3., 3., 3.]]])"
            ]
          },
          "metadata": {
            "tags": []
          },
          "execution_count": 117
        }
      ]
    },
    {
      "cell_type": "code",
      "metadata": {
        "id": "fKKHq-zK2RBP",
        "colab_type": "code",
        "colab": {
          "base_uri": "https://localhost:8080/",
          "height": 35
        },
        "outputId": "4409d4c2-0551-40b3-de6a-23999ac50547"
      },
      "source": [
        "q8.shape"
      ],
      "execution_count": 118,
      "outputs": [
        {
          "output_type": "execute_result",
          "data": {
            "text/plain": [
              "(2, 3, 4)"
            ]
          },
          "metadata": {
            "tags": []
          },
          "execution_count": 118
        }
      ]
    },
    {
      "cell_type": "markdown",
      "metadata": {
        "id": "16_M9zNB2RBR",
        "colab_type": "text"
      },
      "source": [
        "# Splitting arrays\n",
        "Splitting is the opposite of stacking. For example, let's use the `vsplit` function to split a matrix vertically.\n",
        "\n",
        "First let's create a 6x4 matrix:"
      ]
    },
    {
      "cell_type": "code",
      "metadata": {
        "id": "jadcscYN2RBS",
        "colab_type": "code",
        "colab": {
          "base_uri": "https://localhost:8080/",
          "height": 121
        },
        "outputId": "c9e9d6da-1c69-43be-832f-f29a0550a904"
      },
      "source": [
        "r = np.arange(24).reshape(6,4)\n",
        "r"
      ],
      "execution_count": 119,
      "outputs": [
        {
          "output_type": "execute_result",
          "data": {
            "text/plain": [
              "array([[ 0,  1,  2,  3],\n",
              "       [ 4,  5,  6,  7],\n",
              "       [ 8,  9, 10, 11],\n",
              "       [12, 13, 14, 15],\n",
              "       [16, 17, 18, 19],\n",
              "       [20, 21, 22, 23]])"
            ]
          },
          "metadata": {
            "tags": []
          },
          "execution_count": 119
        }
      ]
    },
    {
      "cell_type": "markdown",
      "metadata": {
        "id": "F_FxRJuU2RBW",
        "colab_type": "text"
      },
      "source": [
        "Now let's split it in three equal parts, vertically:"
      ]
    },
    {
      "cell_type": "code",
      "metadata": {
        "id": "o0H1tH-m2RBW",
        "colab_type": "code",
        "colab": {
          "base_uri": "https://localhost:8080/",
          "height": 52
        },
        "outputId": "ed70ee57-144f-47bb-bda5-095df4d91d13"
      },
      "source": [
        "r1, r2, r3 = np.vsplit(r, 3)\n",
        "r1"
      ],
      "execution_count": 120,
      "outputs": [
        {
          "output_type": "execute_result",
          "data": {
            "text/plain": [
              "array([[0, 1, 2, 3],\n",
              "       [4, 5, 6, 7]])"
            ]
          },
          "metadata": {
            "tags": []
          },
          "execution_count": 120
        }
      ]
    },
    {
      "cell_type": "code",
      "metadata": {
        "id": "8vZW_upe2RBZ",
        "colab_type": "code",
        "colab": {
          "base_uri": "https://localhost:8080/",
          "height": 52
        },
        "outputId": "eb561cb8-7d8a-4235-e5d4-b8bf1a00e8de"
      },
      "source": [
        "r2"
      ],
      "execution_count": 121,
      "outputs": [
        {
          "output_type": "execute_result",
          "data": {
            "text/plain": [
              "array([[ 8,  9, 10, 11],\n",
              "       [12, 13, 14, 15]])"
            ]
          },
          "metadata": {
            "tags": []
          },
          "execution_count": 121
        }
      ]
    },
    {
      "cell_type": "code",
      "metadata": {
        "id": "r6KOzuR22RBd",
        "colab_type": "code",
        "colab": {
          "base_uri": "https://localhost:8080/",
          "height": 52
        },
        "outputId": "bfd77ca5-2160-492f-f307-1e3cd9e27132"
      },
      "source": [
        "r3"
      ],
      "execution_count": 122,
      "outputs": [
        {
          "output_type": "execute_result",
          "data": {
            "text/plain": [
              "array([[16, 17, 18, 19],\n",
              "       [20, 21, 22, 23]])"
            ]
          },
          "metadata": {
            "tags": []
          },
          "execution_count": 122
        }
      ]
    },
    {
      "cell_type": "markdown",
      "metadata": {
        "id": "FyCLCfyh2RBf",
        "colab_type": "text"
      },
      "source": [
        "There is also a `split` function which splits an array along any given axis. Calling `vsplit` is equivalent to calling `split` with `axis=0`. There is also an `hsplit` function, equivalent to calling `split` with `axis=1`:"
      ]
    },
    {
      "cell_type": "code",
      "metadata": {
        "id": "XR_h59rN2RBf",
        "colab_type": "code",
        "colab": {
          "base_uri": "https://localhost:8080/",
          "height": 121
        },
        "outputId": "89d3e387-c86c-42a0-9798-df2a0e9105ee"
      },
      "source": [
        "r4, r5 = np.hsplit(r, 2)\n",
        "r4"
      ],
      "execution_count": 123,
      "outputs": [
        {
          "output_type": "execute_result",
          "data": {
            "text/plain": [
              "array([[ 0,  1],\n",
              "       [ 4,  5],\n",
              "       [ 8,  9],\n",
              "       [12, 13],\n",
              "       [16, 17],\n",
              "       [20, 21]])"
            ]
          },
          "metadata": {
            "tags": []
          },
          "execution_count": 123
        }
      ]
    },
    {
      "cell_type": "code",
      "metadata": {
        "id": "llVrkcm-2RBl",
        "colab_type": "code",
        "colab": {
          "base_uri": "https://localhost:8080/",
          "height": 121
        },
        "outputId": "f4ca912b-ac78-4466-ec34-0ad091404f3c"
      },
      "source": [
        "r5"
      ],
      "execution_count": 124,
      "outputs": [
        {
          "output_type": "execute_result",
          "data": {
            "text/plain": [
              "array([[ 2,  3],\n",
              "       [ 6,  7],\n",
              "       [10, 11],\n",
              "       [14, 15],\n",
              "       [18, 19],\n",
              "       [22, 23]])"
            ]
          },
          "metadata": {
            "tags": []
          },
          "execution_count": 124
        }
      ]
    },
    {
      "cell_type": "markdown",
      "metadata": {
        "id": "cyVJtG7G2RBo",
        "colab_type": "text"
      },
      "source": [
        "# Transposing arrays\n",
        "The `transpose` method creates a new view on an `ndarray`'s data, with axes permuted in the given order.\n",
        "\n",
        "For example, let's create a 3D array:"
      ]
    },
    {
      "cell_type": "code",
      "metadata": {
        "id": "GuHmOBCD2RBo",
        "colab_type": "code",
        "colab": {
          "base_uri": "https://localhost:8080/",
          "height": 208
        },
        "outputId": "7fd65ef9-d497-4a8d-bf2c-0a911772de03"
      },
      "source": [
        "t = np.arange(24).reshape(4,2,3)\n",
        "t"
      ],
      "execution_count": 125,
      "outputs": [
        {
          "output_type": "execute_result",
          "data": {
            "text/plain": [
              "array([[[ 0,  1,  2],\n",
              "        [ 3,  4,  5]],\n",
              "\n",
              "       [[ 6,  7,  8],\n",
              "        [ 9, 10, 11]],\n",
              "\n",
              "       [[12, 13, 14],\n",
              "        [15, 16, 17]],\n",
              "\n",
              "       [[18, 19, 20],\n",
              "        [21, 22, 23]]])"
            ]
          },
          "metadata": {
            "tags": []
          },
          "execution_count": 125
        }
      ]
    },
    {
      "cell_type": "markdown",
      "metadata": {
        "id": "nfib6BRC2RBq",
        "colab_type": "text"
      },
      "source": [
        "Now let's create an `ndarray` such that the axes `0, 1, 2` (depth, height, width) are re-ordered to `1, 2, 0` (depth→width, height→depth, width→height):"
      ]
    },
    {
      "cell_type": "code",
      "metadata": {
        "id": "qihRAy8a2RBq",
        "colab_type": "code",
        "colab": {
          "base_uri": "https://localhost:8080/",
          "height": 139
        },
        "outputId": "2793fe87-8a4c-413a-f306-1e7d4983a088"
      },
      "source": [
        "t1 = t.transpose((1,2,0))\n",
        "t1"
      ],
      "execution_count": 126,
      "outputs": [
        {
          "output_type": "execute_result",
          "data": {
            "text/plain": [
              "array([[[ 0,  6, 12, 18],\n",
              "        [ 1,  7, 13, 19],\n",
              "        [ 2,  8, 14, 20]],\n",
              "\n",
              "       [[ 3,  9, 15, 21],\n",
              "        [ 4, 10, 16, 22],\n",
              "        [ 5, 11, 17, 23]]])"
            ]
          },
          "metadata": {
            "tags": []
          },
          "execution_count": 126
        }
      ]
    },
    {
      "cell_type": "code",
      "metadata": {
        "id": "V9t2ItWN2RBs",
        "colab_type": "code",
        "colab": {
          "base_uri": "https://localhost:8080/",
          "height": 35
        },
        "outputId": "d954d4ab-878a-4051-e783-c0444cc7072e"
      },
      "source": [
        "t1.shape"
      ],
      "execution_count": 127,
      "outputs": [
        {
          "output_type": "execute_result",
          "data": {
            "text/plain": [
              "(2, 3, 4)"
            ]
          },
          "metadata": {
            "tags": []
          },
          "execution_count": 127
        }
      ]
    },
    {
      "cell_type": "markdown",
      "metadata": {
        "id": "dKeYIPP82RBt",
        "colab_type": "text"
      },
      "source": [
        "By default, `transpose` reverses the order of the dimensions:"
      ]
    },
    {
      "cell_type": "code",
      "metadata": {
        "id": "8LY4-CfZ2RBu",
        "colab_type": "code",
        "colab": {
          "base_uri": "https://localhost:8080/",
          "height": 156
        },
        "outputId": "e0722b2b-b0a9-4db3-9d8e-fa3af0c2bf6a"
      },
      "source": [
        "t2 = t.transpose()  # equivalent to t.transpose((2, 1, 0))\n",
        "t2"
      ],
      "execution_count": 128,
      "outputs": [
        {
          "output_type": "execute_result",
          "data": {
            "text/plain": [
              "array([[[ 0,  6, 12, 18],\n",
              "        [ 3,  9, 15, 21]],\n",
              "\n",
              "       [[ 1,  7, 13, 19],\n",
              "        [ 4, 10, 16, 22]],\n",
              "\n",
              "       [[ 2,  8, 14, 20],\n",
              "        [ 5, 11, 17, 23]]])"
            ]
          },
          "metadata": {
            "tags": []
          },
          "execution_count": 128
        }
      ]
    },
    {
      "cell_type": "code",
      "metadata": {
        "id": "ZbKM4_9P2RBu",
        "colab_type": "code",
        "colab": {
          "base_uri": "https://localhost:8080/",
          "height": 35
        },
        "outputId": "ef21f184-6d13-4adc-9561-a1fd9420cf39"
      },
      "source": [
        "t2.shape"
      ],
      "execution_count": 129,
      "outputs": [
        {
          "output_type": "execute_result",
          "data": {
            "text/plain": [
              "(3, 2, 4)"
            ]
          },
          "metadata": {
            "tags": []
          },
          "execution_count": 129
        }
      ]
    },
    {
      "cell_type": "markdown",
      "metadata": {
        "id": "EvTtbiIT2RBw",
        "colab_type": "text"
      },
      "source": [
        "NumPy provides a convenience function `swapaxes` to swap two axes. For example, let's create a new view of `t` with depth and height swapped:"
      ]
    },
    {
      "cell_type": "code",
      "metadata": {
        "id": "J8PWRYgJ2RBw",
        "colab_type": "code",
        "colab": {
          "base_uri": "https://localhost:8080/",
          "height": 173
        },
        "outputId": "76258495-2407-46aa-eb78-06946ff33ac4"
      },
      "source": [
        "t3 = t.swapaxes(0,1)  # equivalent to t.transpose((1, 0, 2))\n",
        "t3"
      ],
      "execution_count": 130,
      "outputs": [
        {
          "output_type": "execute_result",
          "data": {
            "text/plain": [
              "array([[[ 0,  1,  2],\n",
              "        [ 6,  7,  8],\n",
              "        [12, 13, 14],\n",
              "        [18, 19, 20]],\n",
              "\n",
              "       [[ 3,  4,  5],\n",
              "        [ 9, 10, 11],\n",
              "        [15, 16, 17],\n",
              "        [21, 22, 23]]])"
            ]
          },
          "metadata": {
            "tags": []
          },
          "execution_count": 130
        }
      ]
    },
    {
      "cell_type": "code",
      "metadata": {
        "id": "xUbH3VZy2RBx",
        "colab_type": "code",
        "colab": {
          "base_uri": "https://localhost:8080/",
          "height": 35
        },
        "outputId": "ab8dd27e-dbe7-4211-992e-d43e2a25ade7"
      },
      "source": [
        "t3.shape"
      ],
      "execution_count": 131,
      "outputs": [
        {
          "output_type": "execute_result",
          "data": {
            "text/plain": [
              "(2, 4, 3)"
            ]
          },
          "metadata": {
            "tags": []
          },
          "execution_count": 131
        }
      ]
    },
    {
      "cell_type": "markdown",
      "metadata": {
        "id": "yOXP7DAy2RBy",
        "colab_type": "text"
      },
      "source": [
        "# Linear algebra\n",
        "NumPy 2D arrays can be used to represent matrices efficiently in python. We will just quickly go through some of the main matrix operations available.\n",
        "\n",
        "## Matrix transpose\n",
        "The `T` attribute is equivalent to calling `transpose()` when the rank is ≥2:"
      ]
    },
    {
      "cell_type": "code",
      "metadata": {
        "id": "NMO9eS3S2RBy",
        "colab_type": "code",
        "colab": {
          "base_uri": "https://localhost:8080/",
          "height": 52
        },
        "outputId": "bc954fd2-f803-425e-cfea-65da37375c76"
      },
      "source": [
        "m1 = np.arange(10).reshape(2,5)\n",
        "m1"
      ],
      "execution_count": 132,
      "outputs": [
        {
          "output_type": "execute_result",
          "data": {
            "text/plain": [
              "array([[0, 1, 2, 3, 4],\n",
              "       [5, 6, 7, 8, 9]])"
            ]
          },
          "metadata": {
            "tags": []
          },
          "execution_count": 132
        }
      ]
    },
    {
      "cell_type": "code",
      "metadata": {
        "id": "Ceo56AI32RB1",
        "colab_type": "code",
        "colab": {
          "base_uri": "https://localhost:8080/",
          "height": 104
        },
        "outputId": "83115187-20b5-48e7-f119-30f74c593fe7"
      },
      "source": [
        "m1.T"
      ],
      "execution_count": 133,
      "outputs": [
        {
          "output_type": "execute_result",
          "data": {
            "text/plain": [
              "array([[0, 5],\n",
              "       [1, 6],\n",
              "       [2, 7],\n",
              "       [3, 8],\n",
              "       [4, 9]])"
            ]
          },
          "metadata": {
            "tags": []
          },
          "execution_count": 133
        }
      ]
    },
    {
      "cell_type": "markdown",
      "metadata": {
        "id": "M_8hf9gG2RB2",
        "colab_type": "text"
      },
      "source": [
        "The `T` attribute has no effect on rank 0 (empty) or rank 1 arrays:"
      ]
    },
    {
      "cell_type": "code",
      "metadata": {
        "scrolled": true,
        "id": "Tcj2m-AH2RB2",
        "colab_type": "code",
        "colab": {
          "base_uri": "https://localhost:8080/",
          "height": 35
        },
        "outputId": "9cdfd936-844c-4f47-8bb9-95e42852895a"
      },
      "source": [
        "m2 = np.arange(5)\n",
        "m2"
      ],
      "execution_count": 134,
      "outputs": [
        {
          "output_type": "execute_result",
          "data": {
            "text/plain": [
              "array([0, 1, 2, 3, 4])"
            ]
          },
          "metadata": {
            "tags": []
          },
          "execution_count": 134
        }
      ]
    },
    {
      "cell_type": "code",
      "metadata": {
        "scrolled": true,
        "id": "xgxJv7Za2RB3",
        "colab_type": "code",
        "colab": {
          "base_uri": "https://localhost:8080/",
          "height": 35
        },
        "outputId": "ebb51ed0-76ec-4220-bb5f-91f2ccbe9b93"
      },
      "source": [
        "m2.T"
      ],
      "execution_count": 135,
      "outputs": [
        {
          "output_type": "execute_result",
          "data": {
            "text/plain": [
              "array([0, 1, 2, 3, 4])"
            ]
          },
          "metadata": {
            "tags": []
          },
          "execution_count": 135
        }
      ]
    },
    {
      "cell_type": "markdown",
      "metadata": {
        "id": "Ojddc9v52RB3",
        "colab_type": "text"
      },
      "source": [
        "We can get the desired transposition by first reshaping the 1D array to a single-row matrix (2D):"
      ]
    },
    {
      "cell_type": "code",
      "metadata": {
        "id": "tn7E2p0m2RB4",
        "colab_type": "code",
        "colab": {
          "base_uri": "https://localhost:8080/",
          "height": 35
        },
        "outputId": "1d91f44c-068b-4047-a715-d82b4235af25"
      },
      "source": [
        "m2r = m2.reshape(1,5)\n",
        "m2r"
      ],
      "execution_count": 136,
      "outputs": [
        {
          "output_type": "execute_result",
          "data": {
            "text/plain": [
              "array([[0, 1, 2, 3, 4]])"
            ]
          },
          "metadata": {
            "tags": []
          },
          "execution_count": 136
        }
      ]
    },
    {
      "cell_type": "code",
      "metadata": {
        "id": "cq-j5o0Y2RB4",
        "colab_type": "code",
        "colab": {
          "base_uri": "https://localhost:8080/",
          "height": 104
        },
        "outputId": "eba670f5-73b5-4336-ed39-cfeab754348f"
      },
      "source": [
        "m2r.T"
      ],
      "execution_count": 137,
      "outputs": [
        {
          "output_type": "execute_result",
          "data": {
            "text/plain": [
              "array([[0],\n",
              "       [1],\n",
              "       [2],\n",
              "       [3],\n",
              "       [4]])"
            ]
          },
          "metadata": {
            "tags": []
          },
          "execution_count": 137
        }
      ]
    },
    {
      "cell_type": "markdown",
      "metadata": {
        "id": "l7xajXaC2RB9",
        "colab_type": "text"
      },
      "source": [
        "## Matrix dot product\n",
        "Let's create two matrices and execute a matrix [dot product](https://en.wikipedia.org/wiki/Dot_product) using the `dot` method."
      ]
    },
    {
      "cell_type": "code",
      "metadata": {
        "id": "gS8ioTUr2RB9",
        "colab_type": "code",
        "colab": {
          "base_uri": "https://localhost:8080/",
          "height": 52
        },
        "outputId": "4611a052-04af-4999-df62-06684309ef51"
      },
      "source": [
        "n1 = np.arange(10).reshape(2, 5)\n",
        "n1"
      ],
      "execution_count": 138,
      "outputs": [
        {
          "output_type": "execute_result",
          "data": {
            "text/plain": [
              "array([[0, 1, 2, 3, 4],\n",
              "       [5, 6, 7, 8, 9]])"
            ]
          },
          "metadata": {
            "tags": []
          },
          "execution_count": 138
        }
      ]
    },
    {
      "cell_type": "code",
      "metadata": {
        "id": "9iYf3CES2RB-",
        "colab_type": "code",
        "colab": {
          "base_uri": "https://localhost:8080/",
          "height": 104
        },
        "outputId": "9abf9487-0cc0-4c80-ca99-71d5c8437409"
      },
      "source": [
        "n2 = np.arange(15).reshape(5,3)\n",
        "n2"
      ],
      "execution_count": 139,
      "outputs": [
        {
          "output_type": "execute_result",
          "data": {
            "text/plain": [
              "array([[ 0,  1,  2],\n",
              "       [ 3,  4,  5],\n",
              "       [ 6,  7,  8],\n",
              "       [ 9, 10, 11],\n",
              "       [12, 13, 14]])"
            ]
          },
          "metadata": {
            "tags": []
          },
          "execution_count": 139
        }
      ]
    },
    {
      "cell_type": "code",
      "metadata": {
        "id": "XpLvHAcR2RB_",
        "colab_type": "code",
        "colab": {
          "base_uri": "https://localhost:8080/",
          "height": 52
        },
        "outputId": "b437273f-c4d1-470f-a1bc-68e477f6b6d0"
      },
      "source": [
        "n1.dot(n2)"
      ],
      "execution_count": 140,
      "outputs": [
        {
          "output_type": "execute_result",
          "data": {
            "text/plain": [
              "array([[ 90, 100, 110],\n",
              "       [240, 275, 310]])"
            ]
          },
          "metadata": {
            "tags": []
          },
          "execution_count": 140
        }
      ]
    },
    {
      "cell_type": "markdown",
      "metadata": {
        "id": "uNIaX1HW2RCA",
        "colab_type": "text"
      },
      "source": [
        "**Caution**: as mentionned previously, `n1*n2` is *not* a dot product, it is an elementwise product."
      ]
    },
    {
      "cell_type": "markdown",
      "metadata": {
        "id": "1cn3a9OK2RCA",
        "colab_type": "text"
      },
      "source": [
        "## Matrix inverse and pseudo-inverse\n",
        "Many of the linear algebra functions are available in the `numpy.linalg` module, in particular the `inv` function to compute a square matrix's inverse:"
      ]
    },
    {
      "cell_type": "code",
      "metadata": {
        "id": "RRNXDjRg2RCB",
        "colab_type": "code",
        "colab": {
          "base_uri": "https://localhost:8080/",
          "height": 69
        },
        "outputId": "7c7cef42-eec5-4f02-a32a-5bd31be78e94"
      },
      "source": [
        "import numpy.linalg as linalg\n",
        "\n",
        "m3 = np.array([[1,2,3],[5,7,11],[21,29,31]])\n",
        "m3"
      ],
      "execution_count": 141,
      "outputs": [
        {
          "output_type": "execute_result",
          "data": {
            "text/plain": [
              "array([[ 1,  2,  3],\n",
              "       [ 5,  7, 11],\n",
              "       [21, 29, 31]])"
            ]
          },
          "metadata": {
            "tags": []
          },
          "execution_count": 141
        }
      ]
    },
    {
      "cell_type": "code",
      "metadata": {
        "id": "nYEFEIiJ2RCC",
        "colab_type": "code",
        "colab": {
          "base_uri": "https://localhost:8080/",
          "height": 69
        },
        "outputId": "062ac5d7-b316-4444-8d4a-00389566835b"
      },
      "source": [
        "linalg.inv(m3)"
      ],
      "execution_count": 142,
      "outputs": [
        {
          "output_type": "execute_result",
          "data": {
            "text/plain": [
              "array([[-2.31818182,  0.56818182,  0.02272727],\n",
              "       [ 1.72727273, -0.72727273,  0.09090909],\n",
              "       [-0.04545455,  0.29545455, -0.06818182]])"
            ]
          },
          "metadata": {
            "tags": []
          },
          "execution_count": 142
        }
      ]
    },
    {
      "cell_type": "markdown",
      "metadata": {
        "id": "y5--0H__2RCE",
        "colab_type": "text"
      },
      "source": [
        "You can also compute the [pseudoinverse](https://en.wikipedia.org/wiki/Moore%E2%80%93Penrose_pseudoinverse) using `pinv`:"
      ]
    },
    {
      "cell_type": "code",
      "metadata": {
        "id": "sYFKzjNP2RCF",
        "colab_type": "code",
        "colab": {
          "base_uri": "https://localhost:8080/",
          "height": 69
        },
        "outputId": "0fced835-99cd-475d-e880-a525054f908e"
      },
      "source": [
        "linalg.pinv(m3)"
      ],
      "execution_count": 143,
      "outputs": [
        {
          "output_type": "execute_result",
          "data": {
            "text/plain": [
              "array([[-2.31818182,  0.56818182,  0.02272727],\n",
              "       [ 1.72727273, -0.72727273,  0.09090909],\n",
              "       [-0.04545455,  0.29545455, -0.06818182]])"
            ]
          },
          "metadata": {
            "tags": []
          },
          "execution_count": 143
        }
      ]
    },
    {
      "cell_type": "markdown",
      "metadata": {
        "id": "-Q2wRce72RCG",
        "colab_type": "text"
      },
      "source": [
        "## Identity matrix\n",
        "The product of a matrix by its inverse returns the identiy matrix (with small floating point errors):"
      ]
    },
    {
      "cell_type": "code",
      "metadata": {
        "id": "Inc-t2OV2RCG",
        "colab_type": "code",
        "colab": {
          "base_uri": "https://localhost:8080/",
          "height": 69
        },
        "outputId": "4ed097f9-ad7d-482f-924e-33f05be9ff86"
      },
      "source": [
        "m3.dot(linalg.inv(m3))"
      ],
      "execution_count": 144,
      "outputs": [
        {
          "output_type": "execute_result",
          "data": {
            "text/plain": [
              "array([[ 1.00000000e+00, -1.66533454e-16,  0.00000000e+00],\n",
              "       [ 6.31439345e-16,  1.00000000e+00, -1.38777878e-16],\n",
              "       [ 5.21110932e-15, -2.38697950e-15,  1.00000000e+00]])"
            ]
          },
          "metadata": {
            "tags": []
          },
          "execution_count": 144
        }
      ]
    },
    {
      "cell_type": "markdown",
      "metadata": {
        "id": "Ns1hM3GC2RCH",
        "colab_type": "text"
      },
      "source": [
        "You can create an identity matrix of size NxN by calling `eye`:"
      ]
    },
    {
      "cell_type": "code",
      "metadata": {
        "id": "fnJf_rzW2RCH",
        "colab_type": "code",
        "colab": {
          "base_uri": "https://localhost:8080/",
          "height": 69
        },
        "outputId": "8e6bb592-f36e-4ca0-e1bd-6afc96108f9e"
      },
      "source": [
        "np.eye(3)"
      ],
      "execution_count": 145,
      "outputs": [
        {
          "output_type": "execute_result",
          "data": {
            "text/plain": [
              "array([[1., 0., 0.],\n",
              "       [0., 1., 0.],\n",
              "       [0., 0., 1.]])"
            ]
          },
          "metadata": {
            "tags": []
          },
          "execution_count": 145
        }
      ]
    },
    {
      "cell_type": "markdown",
      "metadata": {
        "id": "PdqcxLFY2RCJ",
        "colab_type": "text"
      },
      "source": [
        "## QR decomposition\n",
        "The `qr` function computes the [QR decomposition](https://en.wikipedia.org/wiki/QR_decomposition) of a matrix:"
      ]
    },
    {
      "cell_type": "code",
      "metadata": {
        "id": "dzMG3VHz2RCK",
        "colab_type": "code",
        "colab": {
          "base_uri": "https://localhost:8080/",
          "height": 69
        },
        "outputId": "a01340e4-24d4-48e1-88e4-641a1681bda3"
      },
      "source": [
        "q, r = linalg.qr(m3)\n",
        "q"
      ],
      "execution_count": 146,
      "outputs": [
        {
          "output_type": "execute_result",
          "data": {
            "text/plain": [
              "array([[-0.04627448,  0.98786672,  0.14824986],\n",
              "       [-0.23137241,  0.13377362, -0.96362411],\n",
              "       [-0.97176411, -0.07889213,  0.22237479]])"
            ]
          },
          "metadata": {
            "tags": []
          },
          "execution_count": 146
        }
      ]
    },
    {
      "cell_type": "code",
      "metadata": {
        "id": "pXorqZNx2RCL",
        "colab_type": "code",
        "colab": {
          "base_uri": "https://localhost:8080/",
          "height": 69
        },
        "outputId": "1d259e63-aa72-48d7-821d-25ef09cf24a0"
      },
      "source": [
        "r"
      ],
      "execution_count": 147,
      "outputs": [
        {
          "output_type": "execute_result",
          "data": {
            "text/plain": [
              "array([[-21.61018278, -29.89331494, -32.80860727],\n",
              "       [  0.        ,   0.62427688,   1.9894538 ],\n",
              "       [  0.        ,   0.        ,  -3.26149699]])"
            ]
          },
          "metadata": {
            "tags": []
          },
          "execution_count": 147
        }
      ]
    },
    {
      "cell_type": "code",
      "metadata": {
        "id": "zX9lQZBS2RCM",
        "colab_type": "code",
        "colab": {
          "base_uri": "https://localhost:8080/",
          "height": 69
        },
        "outputId": "a5a0d027-e481-469c-96e0-9b3b4a00770d"
      },
      "source": [
        "q.dot(r)  # q.r equals m3"
      ],
      "execution_count": 148,
      "outputs": [
        {
          "output_type": "execute_result",
          "data": {
            "text/plain": [
              "array([[ 1.,  2.,  3.],\n",
              "       [ 5.,  7., 11.],\n",
              "       [21., 29., 31.]])"
            ]
          },
          "metadata": {
            "tags": []
          },
          "execution_count": 148
        }
      ]
    },
    {
      "cell_type": "markdown",
      "metadata": {
        "id": "UsLc8ELZ2RCQ",
        "colab_type": "text"
      },
      "source": [
        "## Determinant\n",
        "The `det` function computes the [matrix determinant](https://en.wikipedia.org/wiki/Determinant):"
      ]
    },
    {
      "cell_type": "code",
      "metadata": {
        "id": "2TcjAV872RCQ",
        "colab_type": "code",
        "colab": {
          "base_uri": "https://localhost:8080/",
          "height": 35
        },
        "outputId": "63c290a2-c973-499f-8482-0050552809be"
      },
      "source": [
        "linalg.det(m3)  # Computes the matrix determinant"
      ],
      "execution_count": 149,
      "outputs": [
        {
          "output_type": "execute_result",
          "data": {
            "text/plain": [
              "43.99999999999997"
            ]
          },
          "metadata": {
            "tags": []
          },
          "execution_count": 149
        }
      ]
    },
    {
      "cell_type": "markdown",
      "metadata": {
        "id": "2BEjuhNj2RCS",
        "colab_type": "text"
      },
      "source": [
        "## Eigenvalues and eigenvectors\n",
        "The `eig` function computes the [eigenvalues and eigenvectors](https://en.wikipedia.org/wiki/Eigenvalues_and_eigenvectors) of a square matrix:"
      ]
    },
    {
      "cell_type": "code",
      "metadata": {
        "id": "uVyksYAn2RCS",
        "colab_type": "code",
        "colab": {
          "base_uri": "https://localhost:8080/",
          "height": 35
        },
        "outputId": "4419395f-be0b-489e-b3d8-032a0b02fdcf"
      },
      "source": [
        "eigenvalues, eigenvectors = linalg.eig(m3)\n",
        "eigenvalues # λ"
      ],
      "execution_count": 150,
      "outputs": [
        {
          "output_type": "execute_result",
          "data": {
            "text/plain": [
              "array([42.26600592, -0.35798416, -2.90802176])"
            ]
          },
          "metadata": {
            "tags": []
          },
          "execution_count": 150
        }
      ]
    },
    {
      "cell_type": "code",
      "metadata": {
        "id": "15o4PVR42RCV",
        "colab_type": "code",
        "colab": {
          "base_uri": "https://localhost:8080/",
          "height": 69
        },
        "outputId": "35001b78-6c51-4b97-ede2-fff088f9ad0b"
      },
      "source": [
        "eigenvectors # v"
      ],
      "execution_count": 151,
      "outputs": [
        {
          "output_type": "execute_result",
          "data": {
            "text/plain": [
              "array([[-0.08381182, -0.76283526, -0.18913107],\n",
              "       [-0.3075286 ,  0.64133975, -0.6853186 ],\n",
              "       [-0.94784057, -0.08225377,  0.70325518]])"
            ]
          },
          "metadata": {
            "tags": []
          },
          "execution_count": 151
        }
      ]
    },
    {
      "cell_type": "code",
      "metadata": {
        "id": "U2buVWob2RCW",
        "colab_type": "code",
        "colab": {
          "base_uri": "https://localhost:8080/",
          "height": 69
        },
        "outputId": "627582f1-336b-4b5c-f606-93ae9404231e"
      },
      "source": [
        "m3.dot(eigenvectors) - eigenvalues * eigenvectors  # m3.v - λ*v = 0"
      ],
      "execution_count": 152,
      "outputs": [
        {
          "output_type": "execute_result",
          "data": {
            "text/plain": [
              "array([[ 6.66133815e-15,  1.66533454e-15, -3.10862447e-15],\n",
              "       [ 7.10542736e-15,  5.16253706e-15, -5.32907052e-15],\n",
              "       [ 3.55271368e-14,  4.94743135e-15, -9.76996262e-15]])"
            ]
          },
          "metadata": {
            "tags": []
          },
          "execution_count": 152
        }
      ]
    },
    {
      "cell_type": "markdown",
      "metadata": {
        "id": "dKI0JocQ2RCX",
        "colab_type": "text"
      },
      "source": [
        "## Singular Value Decomposition\n",
        "The `svd` function takes a matrix and returns its [singular value decomposition](https://en.wikipedia.org/wiki/Singular_value_decomposition):"
      ]
    },
    {
      "cell_type": "code",
      "metadata": {
        "id": "D88vb5bo2RCX",
        "colab_type": "code",
        "colab": {
          "base_uri": "https://localhost:8080/",
          "height": 87
        },
        "outputId": "6e56c376-2bdb-49d2-b3ea-3ffa55d5462d"
      },
      "source": [
        "m4 = np.array([[1,0,0,0,2], [0,0,3,0,0], [0,0,0,0,0], [0,2,0,0,0]])\n",
        "m4"
      ],
      "execution_count": 153,
      "outputs": [
        {
          "output_type": "execute_result",
          "data": {
            "text/plain": [
              "array([[1, 0, 0, 0, 2],\n",
              "       [0, 0, 3, 0, 0],\n",
              "       [0, 0, 0, 0, 0],\n",
              "       [0, 2, 0, 0, 0]])"
            ]
          },
          "metadata": {
            "tags": []
          },
          "execution_count": 153
        }
      ]
    },
    {
      "cell_type": "code",
      "metadata": {
        "id": "ydXEj-Lp2RCY",
        "colab_type": "code",
        "colab": {
          "base_uri": "https://localhost:8080/",
          "height": 87
        },
        "outputId": "9abbed5d-f618-4007-9e69-650b2b0f9622"
      },
      "source": [
        "U, S_diag, V = linalg.svd(m4)\n",
        "U"
      ],
      "execution_count": 154,
      "outputs": [
        {
          "output_type": "execute_result",
          "data": {
            "text/plain": [
              "array([[ 0.,  1.,  0.,  0.],\n",
              "       [ 1.,  0.,  0.,  0.],\n",
              "       [ 0.,  0.,  0., -1.],\n",
              "       [ 0.,  0.,  1.,  0.]])"
            ]
          },
          "metadata": {
            "tags": []
          },
          "execution_count": 154
        }
      ]
    },
    {
      "cell_type": "code",
      "metadata": {
        "id": "T2NC_LgU2RCZ",
        "colab_type": "code",
        "colab": {
          "base_uri": "https://localhost:8080/",
          "height": 35
        },
        "outputId": "ff711dec-48c0-46ff-ba75-39e207aa669a"
      },
      "source": [
        "S_diag"
      ],
      "execution_count": 155,
      "outputs": [
        {
          "output_type": "execute_result",
          "data": {
            "text/plain": [
              "array([3.        , 2.23606798, 2.        , 0.        ])"
            ]
          },
          "metadata": {
            "tags": []
          },
          "execution_count": 155
        }
      ]
    },
    {
      "cell_type": "markdown",
      "metadata": {
        "id": "TdEPEPQ22RCa",
        "colab_type": "text"
      },
      "source": [
        "The `svd` function just returns the values in the diagonal of Σ, but we want the full Σ matrix, so let's create it:"
      ]
    },
    {
      "cell_type": "code",
      "metadata": {
        "id": "vYqJ1VD_2RCa",
        "colab_type": "code",
        "colab": {
          "base_uri": "https://localhost:8080/",
          "height": 87
        },
        "outputId": "411f9f3c-1645-4b6d-8eed-02ecd9c23fbf"
      },
      "source": [
        "S = np.zeros((4, 5))\n",
        "S[np.diag_indices(4)] = S_diag\n",
        "S  # Σ"
      ],
      "execution_count": 156,
      "outputs": [
        {
          "output_type": "execute_result",
          "data": {
            "text/plain": [
              "array([[3.        , 0.        , 0.        , 0.        , 0.        ],\n",
              "       [0.        , 2.23606798, 0.        , 0.        , 0.        ],\n",
              "       [0.        , 0.        , 2.        , 0.        , 0.        ],\n",
              "       [0.        , 0.        , 0.        , 0.        , 0.        ]])"
            ]
          },
          "metadata": {
            "tags": []
          },
          "execution_count": 156
        }
      ]
    },
    {
      "cell_type": "code",
      "metadata": {
        "id": "S0g5afcg2RCb",
        "colab_type": "code",
        "colab": {
          "base_uri": "https://localhost:8080/",
          "height": 104
        },
        "outputId": "33ba4ee5-893e-4734-dde7-e0e08b557bcb"
      },
      "source": [
        "V"
      ],
      "execution_count": 157,
      "outputs": [
        {
          "output_type": "execute_result",
          "data": {
            "text/plain": [
              "array([[-0.        ,  0.        ,  1.        , -0.        ,  0.        ],\n",
              "       [ 0.4472136 ,  0.        ,  0.        ,  0.        ,  0.89442719],\n",
              "       [-0.        ,  1.        ,  0.        , -0.        ,  0.        ],\n",
              "       [ 0.        ,  0.        ,  0.        ,  1.        ,  0.        ],\n",
              "       [-0.89442719,  0.        ,  0.        ,  0.        ,  0.4472136 ]])"
            ]
          },
          "metadata": {
            "tags": []
          },
          "execution_count": 157
        }
      ]
    },
    {
      "cell_type": "code",
      "metadata": {
        "id": "7wTVEzUL2RCc",
        "colab_type": "code",
        "colab": {
          "base_uri": "https://localhost:8080/",
          "height": 87
        },
        "outputId": "3081c603-8fb6-49f5-d9f4-cecc30cedb1d"
      },
      "source": [
        "U.dot(S).dot(V) # U.Σ.V == m4"
      ],
      "execution_count": 158,
      "outputs": [
        {
          "output_type": "execute_result",
          "data": {
            "text/plain": [
              "array([[1., 0., 0., 0., 2.],\n",
              "       [0., 0., 3., 0., 0.],\n",
              "       [0., 0., 0., 0., 0.],\n",
              "       [0., 2., 0., 0., 0.]])"
            ]
          },
          "metadata": {
            "tags": []
          },
          "execution_count": 158
        }
      ]
    },
    {
      "cell_type": "markdown",
      "metadata": {
        "id": "3zjM4Wi12RCd",
        "colab_type": "text"
      },
      "source": [
        "## Diagonal and trace"
      ]
    },
    {
      "cell_type": "code",
      "metadata": {
        "id": "N-Uw9pAk2RCd",
        "colab_type": "code",
        "colab": {
          "base_uri": "https://localhost:8080/",
          "height": 35
        },
        "outputId": "07ba6801-5bda-4c48-a0bb-5b39acbad125"
      },
      "source": [
        "np.diag(m3)  # the values in the diagonal of m3 (top left to bottom right)"
      ],
      "execution_count": 159,
      "outputs": [
        {
          "output_type": "execute_result",
          "data": {
            "text/plain": [
              "array([ 1,  7, 31])"
            ]
          },
          "metadata": {
            "tags": []
          },
          "execution_count": 159
        }
      ]
    },
    {
      "cell_type": "code",
      "metadata": {
        "id": "6LB5OsG82RCh",
        "colab_type": "code",
        "colab": {
          "base_uri": "https://localhost:8080/",
          "height": 35
        },
        "outputId": "32dc5975-eb59-4c56-964f-dc45b5877467"
      },
      "source": [
        "np.trace(m3)  # equivalent to np.diag(m3).sum()"
      ],
      "execution_count": 160,
      "outputs": [
        {
          "output_type": "execute_result",
          "data": {
            "text/plain": [
              "39"
            ]
          },
          "metadata": {
            "tags": []
          },
          "execution_count": 160
        }
      ]
    },
    {
      "cell_type": "markdown",
      "metadata": {
        "id": "9F_1TRw12RCi",
        "colab_type": "text"
      },
      "source": [
        "## Solving a system of linear scalar equations"
      ]
    },
    {
      "cell_type": "markdown",
      "metadata": {
        "id": "Mkd08WvX2RCi",
        "colab_type": "text"
      },
      "source": [
        "The `solve` function solves a system of linear scalar equations, such as:\n",
        "\n",
        "* $2x + 6y = 6$\n",
        "* $5x + 3y = -9$"
      ]
    },
    {
      "cell_type": "code",
      "metadata": {
        "id": "ahbyDUH72RCm",
        "colab_type": "code",
        "colab": {
          "base_uri": "https://localhost:8080/",
          "height": 35
        },
        "outputId": "0622186a-1f69-477d-dce3-06343ebe644b"
      },
      "source": [
        "coeffs  = np.array([[2, 6], [5, 3]])\n",
        "depvars = np.array([6, -9])\n",
        "solution = linalg.solve(coeffs, depvars)\n",
        "solution"
      ],
      "execution_count": 161,
      "outputs": [
        {
          "output_type": "execute_result",
          "data": {
            "text/plain": [
              "array([-3.,  2.])"
            ]
          },
          "metadata": {
            "tags": []
          },
          "execution_count": 161
        }
      ]
    },
    {
      "cell_type": "markdown",
      "metadata": {
        "id": "uDBeJm3N2RCp",
        "colab_type": "text"
      },
      "source": [
        "Let's check the solution:"
      ]
    },
    {
      "cell_type": "code",
      "metadata": {
        "id": "qoPeHenF2RCp",
        "colab_type": "code",
        "colab": {
          "base_uri": "https://localhost:8080/",
          "height": 35
        },
        "outputId": "aac44212-1953-473d-ab98-2d20dce3dee9"
      },
      "source": [
        "coeffs.dot(solution), depvars  # yep, it's the same"
      ],
      "execution_count": 162,
      "outputs": [
        {
          "output_type": "execute_result",
          "data": {
            "text/plain": [
              "(array([ 6., -9.]), array([ 6, -9]))"
            ]
          },
          "metadata": {
            "tags": []
          },
          "execution_count": 162
        }
      ]
    },
    {
      "cell_type": "markdown",
      "metadata": {
        "id": "4qdD8OK32RCr",
        "colab_type": "text"
      },
      "source": [
        "Looks good! Another way to check the solution:"
      ]
    },
    {
      "cell_type": "code",
      "metadata": {
        "scrolled": true,
        "id": "ru67wfmP2RCr",
        "colab_type": "code",
        "colab": {
          "base_uri": "https://localhost:8080/",
          "height": 35
        },
        "outputId": "32fa099b-cbea-4f8f-8926-7f6af7141961"
      },
      "source": [
        "np.allclose(coeffs.dot(solution), depvars)"
      ],
      "execution_count": 163,
      "outputs": [
        {
          "output_type": "execute_result",
          "data": {
            "text/plain": [
              "True"
            ]
          },
          "metadata": {
            "tags": []
          },
          "execution_count": 163
        }
      ]
    },
    {
      "cell_type": "markdown",
      "metadata": {
        "id": "CcFIc_rp2RCs",
        "colab_type": "text"
      },
      "source": [
        "# Vectorization\n",
        "Instead of executing operations on individual array items, one at a time, your code is much more efficient if you try to stick to array operations. This is called *vectorization*. This way, you can benefit from NumPy's many optimizations.\n",
        "\n",
        "For example, let's say we want to generate a 768x1024 array based on the formula $sin(xy/40.5)$. A **bad** option would be to do the math in python using nested loops:"
      ]
    },
    {
      "cell_type": "code",
      "metadata": {
        "id": "8nS73PGM2RCs",
        "colab_type": "code",
        "colab": {}
      },
      "source": [
        "import math\n",
        "data = np.empty((768, 1024))\n",
        "for y in range(768):\n",
        "    for x in range(1024):\n",
        "        data[y, x] = math.sin(x*y/40.5)  # BAD! Very inefficient."
      ],
      "execution_count": 0,
      "outputs": []
    },
    {
      "cell_type": "markdown",
      "metadata": {
        "id": "x9Hjbjqc2RCt",
        "colab_type": "text"
      },
      "source": [
        "Sure, this works, but it's terribly inefficient since the loops are taking place in pure python. Let's vectorize this algorithm. First, we will use NumPy's `meshgrid` function which generates coordinate matrices from coordinate vectors."
      ]
    },
    {
      "cell_type": "code",
      "metadata": {
        "id": "tQuCZ5Aj2RCt",
        "colab_type": "code",
        "colab": {
          "base_uri": "https://localhost:8080/",
          "height": 139
        },
        "outputId": "61ef0365-5479-4c26-dea7-5666cc720d50"
      },
      "source": [
        "x_coords = np.arange(0, 1024)  # [0, 1, 2, ..., 1023]\n",
        "y_coords = np.arange(0, 768)   # [0, 1, 2, ..., 767]\n",
        "X, Y = np.meshgrid(x_coords, y_coords)\n",
        "X"
      ],
      "execution_count": 165,
      "outputs": [
        {
          "output_type": "execute_result",
          "data": {
            "text/plain": [
              "array([[   0,    1,    2, ..., 1021, 1022, 1023],\n",
              "       [   0,    1,    2, ..., 1021, 1022, 1023],\n",
              "       [   0,    1,    2, ..., 1021, 1022, 1023],\n",
              "       ...,\n",
              "       [   0,    1,    2, ..., 1021, 1022, 1023],\n",
              "       [   0,    1,    2, ..., 1021, 1022, 1023],\n",
              "       [   0,    1,    2, ..., 1021, 1022, 1023]])"
            ]
          },
          "metadata": {
            "tags": []
          },
          "execution_count": 165
        }
      ]
    },
    {
      "cell_type": "code",
      "metadata": {
        "id": "3bHuuTiu2RCu",
        "colab_type": "code",
        "colab": {
          "base_uri": "https://localhost:8080/",
          "height": 139
        },
        "outputId": "1f10d908-5ec3-40d2-c456-fbf438b7b2ba"
      },
      "source": [
        "Y"
      ],
      "execution_count": 166,
      "outputs": [
        {
          "output_type": "execute_result",
          "data": {
            "text/plain": [
              "array([[  0,   0,   0, ...,   0,   0,   0],\n",
              "       [  1,   1,   1, ...,   1,   1,   1],\n",
              "       [  2,   2,   2, ...,   2,   2,   2],\n",
              "       ...,\n",
              "       [765, 765, 765, ..., 765, 765, 765],\n",
              "       [766, 766, 766, ..., 766, 766, 766],\n",
              "       [767, 767, 767, ..., 767, 767, 767]])"
            ]
          },
          "metadata": {
            "tags": []
          },
          "execution_count": 166
        }
      ]
    },
    {
      "cell_type": "markdown",
      "metadata": {
        "id": "m_QezPz22RCv",
        "colab_type": "text"
      },
      "source": [
        "As you can see, both `X` and `Y` are 768x1024 arrays, and all values in `X` correspond to the horizontal coordinate, while all values in `Y` correspond to the the vertical coordinate.\n",
        "\n",
        "Now we can simply compute the result using array operations:"
      ]
    },
    {
      "cell_type": "code",
      "metadata": {
        "id": "u-_VRLex2RCv",
        "colab_type": "code",
        "colab": {}
      },
      "source": [
        "data = np.sin(X*Y/40.5)"
      ],
      "execution_count": 0,
      "outputs": []
    },
    {
      "cell_type": "code",
      "metadata": {
        "id": "uC3j5-Nz2RCx",
        "colab_type": "code",
        "colab": {
          "base_uri": "https://localhost:8080/",
          "height": 345
        },
        "outputId": "7423730a-6ae8-467d-cd45-a303f13003d0"
      },
      "source": [
        "import matplotlib.pyplot as plt\n",
        "import matplotlib.cm as cm\n",
        "fig = plt.figure(1, figsize=(7, 6))\n",
        "plt.imshow(data, cmap=cm.hot, interpolation=\"bicubic\")\n",
        "plt.show()"
      ],
      "execution_count": 168,
      "outputs": [
        {
          "output_type": "display_data",
          "data": {
            "image/png": "[encoded data removed]",
            "text/plain": [
              "<Figure size 504x432 with 1 Axes>"
            ]
          },
          "metadata": {
            "tags": []
          }
        }
      ]
    },
    {
      "cell_type": "markdown",
      "metadata": {
        "id": "ud5WdOPb2RCx",
        "colab_type": "text"
      },
      "source": [
        "# Saving and loading\n",
        "NumPy makes it easy to save and load `ndarray`s in binary or text format.\n",
        "\n",
        "## Binary `.npy` format\n",
        "Let's create a random array and save it."
      ]
    },
    {
      "cell_type": "code",
      "metadata": {
        "scrolled": true,
        "id": "iqKVGpjL2RCy",
        "colab_type": "code",
        "colab": {
          "base_uri": "https://localhost:8080/",
          "height": 52
        },
        "outputId": "47a7b80d-b7c0-4ced-fb0e-6450a88987bb"
      },
      "source": [
        "a = np.random.rand(2,3)\n",
        "a"
      ],
      "execution_count": 169,
      "outputs": [
        {
          "output_type": "execute_result",
          "data": {
            "text/plain": [
              "array([[0.3768568 , 0.1721227 , 0.22539115],\n",
              "       [0.78802942, 0.74108847, 0.63506857]])"
            ]
          },
          "metadata": {
            "tags": []
          },
          "execution_count": 169
        }
      ]
    },
    {
      "cell_type": "code",
      "metadata": {
        "id": "ASuayRZg2RCz",
        "colab_type": "code",
        "colab": {}
      },
      "source": [
        "np.save(\"my_array\", a)"
      ],
      "execution_count": 0,
      "outputs": []
    },
    {
      "cell_type": "markdown",
      "metadata": {
        "id": "yznF0LHg2RC0",
        "colab_type": "text"
      },
      "source": [
        "Done! Since the file name contains no file extension was provided, NumPy automatically added `.npy`. Let's take a peek at the file content:"
      ]
    },
    {
      "cell_type": "code",
      "metadata": {
        "id": "ofo4h1YO2RC1",
        "colab_type": "code",
        "colab": {
          "base_uri": "https://localhost:8080/",
          "height": 55
        },
        "outputId": "85afa725-90a4-4d58-ed77-4b8eed0c9c42"
      },
      "source": [
        "with open(\"my_array.npy\", \"rb\") as f:\n",
        "    content = f.read()\n",
        "\n",
        "content"
      ],
      "execution_count": 171,
      "outputs": [
        {
          "output_type": "execute_result",
          "data": {
            "text/plain": [
              "b\"\\x93NUMPY\\x01\\x00v\\x00{'descr': '<f8', 'fortran_order': False, 'shape': (2, 3), }                                                          \\n:\\xcdw\\xf6k\\x1e\\xd8?\\xe8[\\x16\\xe5\\x1d\\x08\\xc6?L\\xa8e\\x00\\x9e\\xd9\\xcc?\\xf5\\xe1\\xbe{\\x897\\xe9?\\xd8b\\xd4,\\xff\\xb6\\xe7?\\xaeo\\xfbT{R\\xe4?\""
            ]
          },
          "metadata": {
            "tags": []
          },
          "execution_count": 171
        }
      ]
    },
    {
      "cell_type": "markdown",
      "metadata": {
        "id": "tlMmXmqT2RC2",
        "colab_type": "text"
      },
      "source": [
        "To load this file into a NumPy array, simply call `load`:"
      ]
    },
    {
      "cell_type": "code",
      "metadata": {
        "id": "2R87BPqo2RC2",
        "colab_type": "code",
        "colab": {
          "base_uri": "https://localhost:8080/",
          "height": 52
        },
        "outputId": "f407bef2-0d44-409f-a918-623ef8801a1b"
      },
      "source": [
        "a_loaded = np.load(\"my_array.npy\")\n",
        "a_loaded"
      ],
      "execution_count": 172,
      "outputs": [
        {
          "output_type": "execute_result",
          "data": {
            "text/plain": [
              "array([[0.3768568 , 0.1721227 , 0.22539115],\n",
              "       [0.78802942, 0.74108847, 0.63506857]])"
            ]
          },
          "metadata": {
            "tags": []
          },
          "execution_count": 172
        }
      ]
    },
    {
      "cell_type": "markdown",
      "metadata": {
        "id": "y7HmtAcq2RC3",
        "colab_type": "text"
      },
      "source": [
        "## Text format\n",
        "Let's try saving the array in text format:"
      ]
    },
    {
      "cell_type": "code",
      "metadata": {
        "id": "r6judYJK2RC3",
        "colab_type": "code",
        "colab": {}
      },
      "source": [
        "np.savetxt(\"my_array.csv\", a)"
      ],
      "execution_count": 0,
      "outputs": []
    },
    {
      "cell_type": "markdown",
      "metadata": {
        "id": "3PKxwkAM2RC4",
        "colab_type": "text"
      },
      "source": [
        "Now let's look at the file content:"
      ]
    },
    {
      "cell_type": "code",
      "metadata": {
        "id": "tYQnxb5x2RC4",
        "colab_type": "code",
        "colab": {
          "base_uri": "https://localhost:8080/",
          "height": 69
        },
        "outputId": "e77c8abc-ef1d-44aa-977d-04464e7b9a4c"
      },
      "source": [
        "with open(\"my_array.csv\", \"rt\") as f:\n",
        "    print(f.read())"
      ],
      "execution_count": 174,
      "outputs": [
        {
          "output_type": "stream",
          "text": [
            "3.768567950166531455e-01 1.721227043715025662e-01 2.253911497057877744e-01\n",
            "7.880294243723812153e-01 7.410884738520406856e-01 6.350685748870910086e-01\n",
            "\n"
          ],
          "name": "stdout"
        }
      ]
    },
    {
      "cell_type": "markdown",
      "metadata": {
        "id": "iIfzLO_j2RC5",
        "colab_type": "text"
      },
      "source": [
        "This is a CSV file with tabs as delimiters. You can set a different delimiter:"
      ]
    },
    {
      "cell_type": "code",
      "metadata": {
        "id": "_BA03-8Y2RC5",
        "colab_type": "code",
        "colab": {}
      },
      "source": [
        "np.savetxt(\"my_array.csv\", a, delimiter=\",\")"
      ],
      "execution_count": 0,
      "outputs": []
    },
    {
      "cell_type": "markdown",
      "metadata": {
        "id": "FEZnsIvC2RC6",
        "colab_type": "text"
      },
      "source": [
        "To load this file, just use `loadtxt`:"
      ]
    },
    {
      "cell_type": "code",
      "metadata": {
        "id": "o_4EAVoh2RC6",
        "colab_type": "code",
        "colab": {
          "base_uri": "https://localhost:8080/",
          "height": 52
        },
        "outputId": "593f78c0-8838-47e8-ecfd-33811f69bac0"
      },
      "source": [
        "a_loaded = np.loadtxt(\"my_array.csv\", delimiter=\",\")\n",
        "a_loaded"
      ],
      "execution_count": 176,
      "outputs": [
        {
          "output_type": "execute_result",
          "data": {
            "text/plain": [
              "array([[0.3768568 , 0.1721227 , 0.22539115],\n",
              "       [0.78802942, 0.74108847, 0.63506857]])"
            ]
          },
          "metadata": {
            "tags": []
          },
          "execution_count": 176
        }
      ]
    },
    {
      "cell_type": "markdown",
      "metadata": {
        "id": "qbb1hc9u2RC7",
        "colab_type": "text"
      },
      "source": [
        "## Zipped `.npz` format\n",
        "It is also possible to save multiple arrays in one zipped file:"
      ]
    },
    {
      "cell_type": "code",
      "metadata": {
        "id": "m92zp5Jr2RC7",
        "colab_type": "code",
        "colab": {
          "base_uri": "https://localhost:8080/",
          "height": 139
        },
        "outputId": "1dec09a2-b048-4c23-a824-1284c425db74"
      },
      "source": [
        "b = np.arange(24, dtype=np.uint8).reshape(2, 3, 4)\n",
        "b"
      ],
      "execution_count": 177,
      "outputs": [
        {
          "output_type": "execute_result",
          "data": {
            "text/plain": [
              "array([[[ 0,  1,  2,  3],\n",
              "        [ 4,  5,  6,  7],\n",
              "        [ 8,  9, 10, 11]],\n",
              "\n",
              "       [[12, 13, 14, 15],\n",
              "        [16, 17, 18, 19],\n",
              "        [20, 21, 22, 23]]], dtype=uint8)"
            ]
          },
          "metadata": {
            "tags": []
          },
          "execution_count": 177
        }
      ]
    },
    {
      "cell_type": "code",
      "metadata": {
        "id": "0w5CutSn2RC8",
        "colab_type": "code",
        "colab": {}
      },
      "source": [
        "np.savez(\"my_arrays\", my_a=a, my_b=b)"
      ],
      "execution_count": 0,
      "outputs": []
    },
    {
      "cell_type": "markdown",
      "metadata": {
        "id": "yDrVvyN-2RC8",
        "colab_type": "text"
      },
      "source": [
        "Again, let's take a peek at the file content. Note that the `.npz` file extension was automatically added."
      ]
    },
    {
      "cell_type": "code",
      "metadata": {
        "id": "cbVTpfCG2RC9",
        "colab_type": "code",
        "colab": {
          "base_uri": "https://localhost:8080/",
          "height": 55
        },
        "outputId": "d28cf415-3b48-411a-d36c-fef308f0d336"
      },
      "source": [
        "with open(\"my_arrays.npz\", \"rb\") as f:\n",
        "    content = f.read()\n",
        "\n",
        "repr(content)[:180] + \"[...]\""
      ],
      "execution_count": 179,
      "outputs": [
        {
          "output_type": "execute_result",
          "data": {
            "text/plain": [
              "'b\"PK\\\\x03\\\\x04\\\\x14\\\\x00\\\\x00\\\\x00\\\\x00\\\\x00\\\\x00\\\\x00!\\\\x00<6\\\\xfb\\\\xca\\\\xb0\\\\x00\\\\x00\\\\x00\\\\xb0\\\\x00\\\\x00\\\\x00\\\\x08\\\\x00\\\\x14\\\\x00my_a.npy\\\\x01\\\\x00\\\\x10\\\\x00\\\\xb0\\\\x00\\\\x00\\\\x00\\\\x00\\\\x00\\\\x00\\\\x00\\\\xb0\\\\x00\\\\x00\\\\x00\\\\[...]'"
            ]
          },
          "metadata": {
            "tags": []
          },
          "execution_count": 179
        }
      ]
    },
    {
      "cell_type": "markdown",
      "metadata": {
        "id": "fuy92VTg2RC9",
        "colab_type": "text"
      },
      "source": [
        "You then load this file like so:"
      ]
    },
    {
      "cell_type": "code",
      "metadata": {
        "id": "3ZknRc5R2RC-",
        "colab_type": "code",
        "colab": {
          "base_uri": "https://localhost:8080/",
          "height": 35
        },
        "outputId": "00a89d65-d3c4-4fe2-d563-2d2275a3f004"
      },
      "source": [
        "my_arrays = np.load(\"my_arrays.npz\")\n",
        "my_arrays"
      ],
      "execution_count": 180,
      "outputs": [
        {
          "output_type": "execute_result",
          "data": {
            "text/plain": [
              "<numpy.lib.npyio.NpzFile at 0x7fefaf6688d0>"
            ]
          },
          "metadata": {
            "tags": []
          },
          "execution_count": 180
        }
      ]
    },
    {
      "cell_type": "markdown",
      "metadata": {
        "id": "AEyh1UXp2RC-",
        "colab_type": "text"
      },
      "source": [
        "This is a dict-like object which loads the arrays lazily:"
      ]
    },
    {
      "cell_type": "code",
      "metadata": {
        "id": "Kc1QRn4k2RC_",
        "colab_type": "code",
        "colab": {
          "base_uri": "https://localhost:8080/",
          "height": 35
        },
        "outputId": "12e69cc0-4b5b-4f7f-fe74-88c378686c7b"
      },
      "source": [
        "my_arrays.keys()"
      ],
      "execution_count": 181,
      "outputs": [
        {
          "output_type": "execute_result",
          "data": {
            "text/plain": [
              "KeysView(<numpy.lib.npyio.NpzFile object at 0x7fefaf6688d0>)"
            ]
          },
          "metadata": {
            "tags": []
          },
          "execution_count": 181
        }
      ]
    },
    {
      "cell_type": "code",
      "metadata": {
        "id": "A89sqAEJ2RC_",
        "colab_type": "code",
        "colab": {
          "base_uri": "https://localhost:8080/",
          "height": 52
        },
        "outputId": "7e78c33d-8dc5-4839-d6a4-2ca9ff53ba2d"
      },
      "source": [
        "my_arrays[\"my_a\"]"
      ],
      "execution_count": 182,
      "outputs": [
        {
          "output_type": "execute_result",
          "data": {
            "text/plain": [
              "array([[0.3768568 , 0.1721227 , 0.22539115],\n",
              "       [0.78802942, 0.74108847, 0.63506857]])"
            ]
          },
          "metadata": {
            "tags": []
          },
          "execution_count": 182
        }
      ]
    },
    {
      "cell_type": "markdown",
      "metadata": {
        "id": "mfqFd46u2RDA",
        "colab_type": "text"
      },
      "source": [
        "# What next?\n",
        "Now you know all the fundamentals of NumPy, but there are many more options available. The best way to learn more is to experiment with NumPy, and go through the excellent [reference documentation](http://docs.scipy.org/doc/numpy/reference/index.html) to find more functions and features you may be interested in."
      ]
    }
  ]
}