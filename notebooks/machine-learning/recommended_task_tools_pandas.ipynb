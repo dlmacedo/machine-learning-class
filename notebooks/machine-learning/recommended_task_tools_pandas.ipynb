{
  "nbformat": 4,
  "nbformat_minor": 0,
  "metadata": {
    "kernelspec": {
      "display_name": "Python 3",
      "language": "python",
      "name": "python3"
    },
    "language_info": {
      "codemirror_mode": {
        "name": "ipython",
        "version": 3
      },
      "file_extension": ".py",
      "mimetype": "text/x-python",
      "name": "python",
      "nbconvert_exporter": "python",
      "pygments_lexer": "ipython3",
      "version": "3.6.3"
    },
    "toc": {
      "toc_cell": false,
      "toc_number_sections": true,
      "toc_section_display": "none",
      "toc_threshold": 6,
      "toc_window_display": true
    },
    "colab": {
      "name": "recommended_task_tools_pandas.ipynb",
      "provenance": [],
      "include_colab_link": true
    }
  },
  "cells": [
    {
      "cell_type": "markdown",
      "metadata": {
        "id": "view-in-github",
        "colab_type": "text"
      },
      "source": [
        "<a href=\"https://colab.research.google.com/github/dlmacedo/maxtrack/blob/master/notebooks/machine-learning/recommended_task_tools_pandas.ipynb\" target=\"_parent\"><img src=\"https://colab.research.google.com/assets/colab-badge.svg\" alt=\"Open In Colab\"/></a>"
      ]
    },
    {
      "cell_type": "markdown",
      "metadata": {
        "id": "u4UctD2U3GlT",
        "colab_type": "text"
      },
      "source": [
        "**Tools - pandas**\n",
        "\n",
        "*The `pandas` library provides high-performance, easy-to-use data structures and data analysis tools. The main data structure is the `DataFrame`, which you can think of as an in-memory 2D table (like a spreadsheet, with column names and row labels). Many features available in Excel are available programmatically, such as creating pivot tables, computing columns based on other columns, plotting graphs, etc. You can also group rows by column value, or join tables much like in SQL. Pandas is also great at handling time series.*\n",
        "\n",
        "Prerequisites:\n",
        "* NumPy – if you are not familiar with NumPy, we recommend that you go through the [NumPy tutorial](tools_numpy.ipynb) now."
      ]
    },
    {
      "cell_type": "markdown",
      "metadata": {
        "id": "Wse19ax-3GlW",
        "colab_type": "text"
      },
      "source": [
        "# Setup\n",
        "First, let's make sure this notebook works well in both python 2 and 3:"
      ]
    },
    {
      "cell_type": "code",
      "metadata": {
        "id": "cpE8C3gc3GlX",
        "colab_type": "code",
        "colab": {}
      },
      "source": [
        "from __future__ import division, print_function, unicode_literals"
      ],
      "execution_count": 0,
      "outputs": []
    },
    {
      "cell_type": "markdown",
      "metadata": {
        "id": "EnPhaS6R3Glb",
        "colab_type": "text"
      },
      "source": [
        "Now let's import `pandas`. People usually import it as `pd`:"
      ]
    },
    {
      "cell_type": "code",
      "metadata": {
        "id": "istLFT0m3Glc",
        "colab_type": "code",
        "colab": {}
      },
      "source": [
        "import pandas as pd"
      ],
      "execution_count": 0,
      "outputs": []
    },
    {
      "cell_type": "markdown",
      "metadata": {
        "id": "v8lLY8i53Glf",
        "colab_type": "text"
      },
      "source": [
        "# `Series` objects\n",
        "The `pandas` library contains these useful data structures:\n",
        "* `Series` objects, that we will discuss now. A `Series` object is 1D array, similar to a column in a spreadsheet (with a column name and row labels).\n",
        "* `DataFrame` objects. This is a 2D table, similar to a spreadsheet (with column names and row labels).\n",
        "* `Panel` objects. You can see a `Panel` as a dictionary of `DataFrame`s. These are less used, so we will not discuss them here."
      ]
    },
    {
      "cell_type": "markdown",
      "metadata": {
        "id": "MQ0onYfN3Glg",
        "colab_type": "text"
      },
      "source": [
        "## Creating a `Series`\n",
        "Let's start by creating our first `Series` object!"
      ]
    },
    {
      "cell_type": "code",
      "metadata": {
        "id": "R52kpuc93Glh",
        "colab_type": "code",
        "colab": {}
      },
      "source": [
        "s = pd.Series([2,-1,3,5])\n",
        "s"
      ],
      "execution_count": 0,
      "outputs": []
    },
    {
      "cell_type": "markdown",
      "metadata": {
        "id": "4tQFmfu53Gll",
        "colab_type": "text"
      },
      "source": [
        "## Similar to a 1D `ndarray`\n",
        "`Series` objects behave much like one-dimensional NumPy `ndarray`s, and you can often pass them as parameters to NumPy functions:"
      ]
    },
    {
      "cell_type": "code",
      "metadata": {
        "id": "ubPTzp2m3Glm",
        "colab_type": "code",
        "colab": {}
      },
      "source": [
        "import numpy as np\n",
        "np.exp(s)"
      ],
      "execution_count": 0,
      "outputs": []
    },
    {
      "cell_type": "markdown",
      "metadata": {
        "id": "sG1tKSWc3Glp",
        "colab_type": "text"
      },
      "source": [
        "Arithmetic operations on `Series` are also possible, and they apply *elementwise*, just like for `ndarray`s:"
      ]
    },
    {
      "cell_type": "code",
      "metadata": {
        "id": "vVBchA4H3Glq",
        "colab_type": "code",
        "colab": {}
      },
      "source": [
        "s + [1000,2000,3000,4000]"
      ],
      "execution_count": 0,
      "outputs": []
    },
    {
      "cell_type": "markdown",
      "metadata": {
        "id": "wYZdD5RQ3Glt",
        "colab_type": "text"
      },
      "source": [
        "Similar to NumPy, if you add a single number to a `Series`, that number is added to all items in the `Series`. This is called * broadcasting*:"
      ]
    },
    {
      "cell_type": "code",
      "metadata": {
        "id": "Dzs6zVqI3Glu",
        "colab_type": "code",
        "colab": {}
      },
      "source": [
        "s + 1000"
      ],
      "execution_count": 0,
      "outputs": []
    },
    {
      "cell_type": "markdown",
      "metadata": {
        "id": "Ru5rB-Gv3Glx",
        "colab_type": "text"
      },
      "source": [
        "The same is true for all binary operations such as `*` or `/`, and even conditional operations:"
      ]
    },
    {
      "cell_type": "code",
      "metadata": {
        "id": "NJ_ffksG3Gly",
        "colab_type": "code",
        "colab": {}
      },
      "source": [
        "s < 0"
      ],
      "execution_count": 0,
      "outputs": []
    },
    {
      "cell_type": "markdown",
      "metadata": {
        "id": "H4ri1SrB3Gl1",
        "colab_type": "text"
      },
      "source": [
        "## Index labels\n",
        "Each item in a `Series` object has a unique identifier called the *index label*. By default, it is simply the rank of the item in the `Series` (starting at `0`) but you can also set the index labels manually:"
      ]
    },
    {
      "cell_type": "code",
      "metadata": {
        "id": "puwWx5Yd3Gl2",
        "colab_type": "code",
        "colab": {}
      },
      "source": [
        "s2 = pd.Series([68, 83, 112, 68], index=[\"alice\", \"bob\", \"charles\", \"darwin\"])\n",
        "s2"
      ],
      "execution_count": 0,
      "outputs": []
    },
    {
      "cell_type": "markdown",
      "metadata": {
        "id": "nE0zmxRf3Gl4",
        "colab_type": "text"
      },
      "source": [
        "You can then use the `Series` just like a `dict`:"
      ]
    },
    {
      "cell_type": "code",
      "metadata": {
        "id": "RztQ4Pva3Gl5",
        "colab_type": "code",
        "colab": {}
      },
      "source": [
        "s2[\"bob\"]"
      ],
      "execution_count": 0,
      "outputs": []
    },
    {
      "cell_type": "markdown",
      "metadata": {
        "id": "sQ66BzyY3Gl8",
        "colab_type": "text"
      },
      "source": [
        "You can still access the items by integer location, like in a regular array:"
      ]
    },
    {
      "cell_type": "code",
      "metadata": {
        "id": "bsBGya-L3Gl9",
        "colab_type": "code",
        "colab": {}
      },
      "source": [
        "s2[1]"
      ],
      "execution_count": 0,
      "outputs": []
    },
    {
      "cell_type": "markdown",
      "metadata": {
        "id": "1Ss2cxZL3GmA",
        "colab_type": "text"
      },
      "source": [
        "To make it clear when you are accessing by label or by integer location, it is recommended to always use the `loc` attribute when accessing by label, and the `iloc` attribute when accessing by integer location:"
      ]
    },
    {
      "cell_type": "code",
      "metadata": {
        "id": "vrMHRMz73GmB",
        "colab_type": "code",
        "colab": {}
      },
      "source": [
        "s2.loc[\"bob\"]"
      ],
      "execution_count": 0,
      "outputs": []
    },
    {
      "cell_type": "code",
      "metadata": {
        "id": "Dg53oM8Y3GmE",
        "colab_type": "code",
        "colab": {}
      },
      "source": [
        "s2.iloc[1]"
      ],
      "execution_count": 0,
      "outputs": []
    },
    {
      "cell_type": "markdown",
      "metadata": {
        "id": "udB3kamQ3GmH",
        "colab_type": "text"
      },
      "source": [
        "Slicing a `Series` also slices the index labels:"
      ]
    },
    {
      "cell_type": "code",
      "metadata": {
        "id": "KS0OEIP83GmI",
        "colab_type": "code",
        "colab": {}
      },
      "source": [
        "s2.iloc[1:3]"
      ],
      "execution_count": 0,
      "outputs": []
    },
    {
      "cell_type": "markdown",
      "metadata": {
        "id": "3BGjBOzX3GmK",
        "colab_type": "text"
      },
      "source": [
        "This can lead to unexpected results when using the default numeric labels, so be careful:"
      ]
    },
    {
      "cell_type": "code",
      "metadata": {
        "id": "MYxjwM933GmL",
        "colab_type": "code",
        "colab": {}
      },
      "source": [
        "surprise = pd.Series([1000, 1001, 1002, 1003])\n",
        "surprise"
      ],
      "execution_count": 0,
      "outputs": []
    },
    {
      "cell_type": "code",
      "metadata": {
        "id": "QIPoXcDy3GmO",
        "colab_type": "code",
        "colab": {}
      },
      "source": [
        "surprise_slice = surprise[2:]\n",
        "surprise_slice"
      ],
      "execution_count": 0,
      "outputs": []
    },
    {
      "cell_type": "markdown",
      "metadata": {
        "id": "dGqFgsKu3GmR",
        "colab_type": "text"
      },
      "source": [
        "Oh look! The first element has index label `2`. The element with index label `0` is absent from the slice:"
      ]
    },
    {
      "cell_type": "code",
      "metadata": {
        "id": "d6YT1JTL3GmS",
        "colab_type": "code",
        "colab": {}
      },
      "source": [
        "try:\n",
        "    surprise_slice[0]\n",
        "except KeyError as e:\n",
        "    print(\"Key error:\", e)"
      ],
      "execution_count": 0,
      "outputs": []
    },
    {
      "cell_type": "markdown",
      "metadata": {
        "id": "iroQyvfC3GmY",
        "colab_type": "text"
      },
      "source": [
        "But remember that you can access elements by integer location using the `iloc` attribute. This illustrates another reason why it's always better to use `loc` and `iloc` to access `Series` objects:"
      ]
    },
    {
      "cell_type": "code",
      "metadata": {
        "id": "nvBaEu8V3GmZ",
        "colab_type": "code",
        "colab": {}
      },
      "source": [
        "surprise_slice.iloc[0]"
      ],
      "execution_count": 0,
      "outputs": []
    },
    {
      "cell_type": "markdown",
      "metadata": {
        "id": "erpK4xqq3Gmc",
        "colab_type": "text"
      },
      "source": [
        "## Init from `dict`\n",
        "You can create a `Series` object from a `dict`. The keys will be used as index labels:"
      ]
    },
    {
      "cell_type": "code",
      "metadata": {
        "id": "FkQBdNvO3Gmd",
        "colab_type": "code",
        "colab": {}
      },
      "source": [
        "weights = {\"alice\": 68, \"bob\": 83, \"colin\": 86, \"darwin\": 68}\n",
        "s3 = pd.Series(weights)\n",
        "s3"
      ],
      "execution_count": 0,
      "outputs": []
    },
    {
      "cell_type": "markdown",
      "metadata": {
        "id": "j_Tm1_4D3Gmg",
        "colab_type": "text"
      },
      "source": [
        "You can control which elements you want to include in the `Series` and in what order by explicitly specifying the desired `index`:"
      ]
    },
    {
      "cell_type": "code",
      "metadata": {
        "id": "RiuTZ0Um3Gmh",
        "colab_type": "code",
        "colab": {}
      },
      "source": [
        "s4 = pd.Series(weights, index = [\"colin\", \"alice\"])\n",
        "s4"
      ],
      "execution_count": 0,
      "outputs": []
    },
    {
      "cell_type": "markdown",
      "metadata": {
        "id": "A8CdRJIB3Gmk",
        "colab_type": "text"
      },
      "source": [
        "## Automatic alignment\n",
        "When an operation involves multiple `Series` objects, `pandas` automatically aligns items by matching index labels."
      ]
    },
    {
      "cell_type": "code",
      "metadata": {
        "id": "gbPwnyD93Gml",
        "colab_type": "code",
        "colab": {}
      },
      "source": [
        "print(s2.keys())\n",
        "print(s3.keys())\n",
        "\n",
        "s2 + s3"
      ],
      "execution_count": 0,
      "outputs": []
    },
    {
      "cell_type": "markdown",
      "metadata": {
        "id": "Za8rzw9w3Gmn",
        "colab_type": "text"
      },
      "source": [
        "The resulting `Series` contains the union of index labels from `s2` and `s3`. Since `\"colin\"` is missing from `s2` and `\"charles\"` is missing from `s3`, these items have a `NaN` result value. (ie. Not-a-Number means *missing*).\n",
        "\n",
        "Automatic alignment is very handy when working with data that may come from various sources with varying structure and missing items. But if you forget to set the right index labels, you can have surprising results:"
      ]
    },
    {
      "cell_type": "code",
      "metadata": {
        "id": "pR37_TW23Gmo",
        "colab_type": "code",
        "colab": {}
      },
      "source": [
        "s5 = pd.Series([1000,1000,1000,1000])\n",
        "print(\"s2 =\", s2.values)\n",
        "print(\"s5 =\", s5.values)\n",
        "\n",
        "s2 + s5"
      ],
      "execution_count": 0,
      "outputs": []
    },
    {
      "cell_type": "markdown",
      "metadata": {
        "id": "z1JdJ-kn3Gmr",
        "colab_type": "text"
      },
      "source": [
        "Pandas could not align the `Series`, since their labels do not match at all, hence the full `NaN` result."
      ]
    },
    {
      "cell_type": "markdown",
      "metadata": {
        "id": "u38oqleR3Gms",
        "colab_type": "text"
      },
      "source": [
        "## Init with a scalar\n",
        "You can also initialize a `Series` object using a scalar and a list of index labels: all items will be set to the scalar."
      ]
    },
    {
      "cell_type": "code",
      "metadata": {
        "id": "tOvzow5I3Gmt",
        "colab_type": "code",
        "colab": {}
      },
      "source": [
        "meaning = pd.Series(42, [\"life\", \"universe\", \"everything\"])\n",
        "meaning"
      ],
      "execution_count": 0,
      "outputs": []
    },
    {
      "cell_type": "markdown",
      "metadata": {
        "id": "I9QyDV5c3Gmw",
        "colab_type": "text"
      },
      "source": [
        "## `Series` name\n",
        "A `Series` can have a `name`:"
      ]
    },
    {
      "cell_type": "code",
      "metadata": {
        "id": "IZ2JZ7QB3Gmx",
        "colab_type": "code",
        "colab": {}
      },
      "source": [
        "s6 = pd.Series([83, 68], index=[\"bob\", \"alice\"], name=\"weights\")\n",
        "s6"
      ],
      "execution_count": 0,
      "outputs": []
    },
    {
      "cell_type": "markdown",
      "metadata": {
        "id": "-A9vLyrA3Gm0",
        "colab_type": "text"
      },
      "source": [
        "## Plotting a `Series`\n",
        "Pandas makes it easy to plot `Series` data using matplotlib (for more details on matplotlib, check out the [matplotlib tutorial](tools_matplotlib.ipynb)). Just import matplotlib and call the `plot()` method:"
      ]
    },
    {
      "cell_type": "code",
      "metadata": {
        "scrolled": true,
        "id": "bfetPhEs3Gm3",
        "colab_type": "code",
        "colab": {}
      },
      "source": [
        "%matplotlib inline\n",
        "import matplotlib.pyplot as plt\n",
        "temperatures = [4.4,5.1,6.1,6.2,6.1,6.1,5.7,5.2,4.7,4.1,3.9,3.5]\n",
        "s7 = pd.Series(temperatures, name=\"Temperature\")\n",
        "s7.plot()\n",
        "plt.show()"
      ],
      "execution_count": 0,
      "outputs": []
    },
    {
      "cell_type": "markdown",
      "metadata": {
        "id": "6m4dRsxj3Gm7",
        "colab_type": "text"
      },
      "source": [
        "There are *many* options for plotting your data. It is not necessary to list them all here: if you need a particular type of plot (histograms, pie charts, etc.), just look for it in the excellent [Visualization](http://pandas.pydata.org/pandas-docs/stable/visualization.html) section of pandas' documentation, and look at the example code."
      ]
    },
    {
      "cell_type": "markdown",
      "metadata": {
        "id": "h8inKcUq3Gm8",
        "colab_type": "text"
      },
      "source": [
        "# Handling time\n",
        "Many datasets have timestamps, and pandas is awesome at manipulating such data:\n",
        "* it can represent periods (such as 2016Q3) and frequencies (such as \"monthly\"),\n",
        "* it can convert periods to actual timestamps, and *vice versa*,\n",
        "* it can resample data and aggregate values any way you like,\n",
        "* it can handle timezones.\n",
        "\n",
        "## Time range\n",
        "Let's start by creating a time series using `pd.date_range()`. This returns a `DatetimeIndex` containing one datetime per hour for 12 hours starting on October 29th 2016 at 5:30pm."
      ]
    },
    {
      "cell_type": "code",
      "metadata": {
        "id": "sU0iMG6h3Gm9",
        "colab_type": "code",
        "colab": {}
      },
      "source": [
        "dates = pd.date_range('2016/10/29 5:30pm', periods=12, freq='H')\n",
        "dates"
      ],
      "execution_count": 0,
      "outputs": []
    },
    {
      "cell_type": "markdown",
      "metadata": {
        "id": "E76m0dO03GnA",
        "colab_type": "text"
      },
      "source": [
        "This `DatetimeIndex` may be used as an index in a `Series`:"
      ]
    },
    {
      "cell_type": "code",
      "metadata": {
        "id": "aBJrxDpt3GnB",
        "colab_type": "code",
        "colab": {}
      },
      "source": [
        "temp_series = pd.Series(temperatures, dates)\n",
        "temp_series"
      ],
      "execution_count": 0,
      "outputs": []
    },
    {
      "cell_type": "markdown",
      "metadata": {
        "id": "TE5VTUV53GnD",
        "colab_type": "text"
      },
      "source": [
        "Let's plot this series:"
      ]
    },
    {
      "cell_type": "code",
      "metadata": {
        "id": "6UKQNI4-3GnE",
        "colab_type": "code",
        "colab": {}
      },
      "source": [
        "temp_series.plot(kind=\"bar\")\n",
        "\n",
        "plt.grid(True)\n",
        "plt.show()"
      ],
      "execution_count": 0,
      "outputs": []
    },
    {
      "cell_type": "markdown",
      "metadata": {
        "id": "N80DmoPM3GnG",
        "colab_type": "text"
      },
      "source": [
        "## Resampling\n",
        "Pandas lets us resample a time series very simply. Just call the `resample()` method and specify a new frequency:"
      ]
    },
    {
      "cell_type": "code",
      "metadata": {
        "id": "6MTuC8ic3GnH",
        "colab_type": "code",
        "colab": {}
      },
      "source": [
        "temp_series_freq_2H = temp_series.resample(\"2H\")\n",
        "temp_series_freq_2H"
      ],
      "execution_count": 0,
      "outputs": []
    },
    {
      "cell_type": "markdown",
      "metadata": {
        "id": "ErZp1jG23GnJ",
        "colab_type": "text"
      },
      "source": [
        "The resampling operation is actually a deferred operation, which is why we did not get a `Series` object, but a `DatetimeIndexResampler` object instead. To actually perform the resampling operation, we can simply call the `mean()` method: Pandas will compute the mean of every pair of consecutive hours:"
      ]
    },
    {
      "cell_type": "code",
      "metadata": {
        "id": "Xh3lS-dw3GnK",
        "colab_type": "code",
        "colab": {}
      },
      "source": [
        "temp_series_freq_2H = temp_series_freq_2H.mean()"
      ],
      "execution_count": 0,
      "outputs": []
    },
    {
      "cell_type": "markdown",
      "metadata": {
        "id": "6ETEahDg3GnN",
        "colab_type": "text"
      },
      "source": [
        "Let's plot the result:"
      ]
    },
    {
      "cell_type": "code",
      "metadata": {
        "id": "e6dMuHBh3GnO",
        "colab_type": "code",
        "colab": {}
      },
      "source": [
        "temp_series_freq_2H.plot(kind=\"bar\")\n",
        "plt.show()"
      ],
      "execution_count": 0,
      "outputs": []
    },
    {
      "cell_type": "markdown",
      "metadata": {
        "id": "yz5CjKX13GnR",
        "colab_type": "text"
      },
      "source": [
        "Note how the values have automatically been aggregated into 2-hour periods. If we look at the 6-8pm period, for example, we had a value of `5.1` at 6:30pm, and `6.1` at 7:30pm. After resampling, we just have one value of `5.6`, which is the mean of `5.1` and `6.1`. Rather than computing the mean, we could have used any other aggregation function, for example we can decide to keep the minimum value of each period:"
      ]
    },
    {
      "cell_type": "code",
      "metadata": {
        "id": "gZoVcg3J3GnR",
        "colab_type": "code",
        "colab": {}
      },
      "source": [
        "temp_series_freq_2H = temp_series.resample(\"2H\").min()\n",
        "temp_series_freq_2H"
      ],
      "execution_count": 0,
      "outputs": []
    },
    {
      "cell_type": "markdown",
      "metadata": {
        "id": "pp7w04973GnU",
        "colab_type": "text"
      },
      "source": [
        "Or, equivalently, we could use the `apply()` method instead:"
      ]
    },
    {
      "cell_type": "code",
      "metadata": {
        "id": "FBqqvIv93GnU",
        "colab_type": "code",
        "colab": {}
      },
      "source": [
        "temp_series_freq_2H = temp_series.resample(\"2H\").apply(np.min)\n",
        "temp_series_freq_2H"
      ],
      "execution_count": 0,
      "outputs": []
    },
    {
      "cell_type": "markdown",
      "metadata": {
        "id": "hk64XzUB3GnY",
        "colab_type": "text"
      },
      "source": [
        "## Upsampling and interpolation\n",
        "This was an example of downsampling. We can also upsample (ie. increase the frequency), but this creates holes in our data:"
      ]
    },
    {
      "cell_type": "code",
      "metadata": {
        "id": "qmP9h9HK3GnY",
        "colab_type": "code",
        "colab": {}
      },
      "source": [
        "temp_series_freq_15min = temp_series.resample(\"15Min\").mean()\n",
        "temp_series_freq_15min.head(n=10) # `head` displays the top n values"
      ],
      "execution_count": 0,
      "outputs": []
    },
    {
      "cell_type": "markdown",
      "metadata": {
        "id": "4WQ1wHuz3Gnh",
        "colab_type": "text"
      },
      "source": [
        "One solution is to fill the gaps by interpolating. We just call the `interpolate()` method. The default is to use linear interpolation, but we can also select another method, such as cubic interpolation:"
      ]
    },
    {
      "cell_type": "code",
      "metadata": {
        "scrolled": true,
        "id": "x9ZbMdzC3Gni",
        "colab_type": "code",
        "colab": {}
      },
      "source": [
        "temp_series_freq_15min = temp_series.resample(\"15Min\").interpolate(method=\"cubic\")\n",
        "temp_series_freq_15min.head(n=10)"
      ],
      "execution_count": 0,
      "outputs": []
    },
    {
      "cell_type": "code",
      "metadata": {
        "id": "u7DzJx0x3Gnl",
        "colab_type": "code",
        "colab": {}
      },
      "source": [
        "temp_series.plot(label=\"Period: 1 hour\")\n",
        "temp_series_freq_15min.plot(label=\"Period: 15 minutes\")\n",
        "plt.legend()\n",
        "plt.show()"
      ],
      "execution_count": 0,
      "outputs": []
    },
    {
      "cell_type": "markdown",
      "metadata": {
        "id": "tw4kjj513Gno",
        "colab_type": "text"
      },
      "source": [
        "## Timezones\n",
        "By default datetimes are *naive*: they are not aware of timezones, so 2016-10-30 02:30 might mean October 30th 2016 at 2:30am in Paris or in New York. We can make datetimes timezone *aware* by calling the `tz_localize()` method:"
      ]
    },
    {
      "cell_type": "code",
      "metadata": {
        "id": "clVR_HgM3Gno",
        "colab_type": "code",
        "colab": {}
      },
      "source": [
        "temp_series_ny = temp_series.tz_localize(\"America/New_York\")\n",
        "temp_series_ny"
      ],
      "execution_count": 0,
      "outputs": []
    },
    {
      "cell_type": "markdown",
      "metadata": {
        "id": "HAEXCEbx3Gnr",
        "colab_type": "text"
      },
      "source": [
        "Note that `-04:00` is now appended to all the datetimes. This means that these datetimes refer to [UTC](https://en.wikipedia.org/wiki/Coordinated_Universal_Time) - 4 hours.\n",
        "\n",
        "We can convert these datetimes to Paris time like this:"
      ]
    },
    {
      "cell_type": "code",
      "metadata": {
        "id": "KP6s3NOj3Gns",
        "colab_type": "code",
        "colab": {}
      },
      "source": [
        "temp_series_paris = temp_series_ny.tz_convert(\"Europe/Paris\")\n",
        "temp_series_paris"
      ],
      "execution_count": 0,
      "outputs": []
    },
    {
      "cell_type": "markdown",
      "metadata": {
        "id": "sHBXhvIA3Gnx",
        "colab_type": "text"
      },
      "source": [
        "You may have noticed that the UTC offset changes from `+02:00` to `+01:00`: this is because France switches to winter time at 3am that particular night (time goes back to 2am). Notice that 2:30am occurs twice! Let's go back to a naive representation (if you log some data hourly using local time, without storing the timezone, you might get something like this):"
      ]
    },
    {
      "cell_type": "code",
      "metadata": {
        "id": "o7TzXxql3Gny",
        "colab_type": "code",
        "colab": {}
      },
      "source": [
        "temp_series_paris_naive = temp_series_paris.tz_localize(None)\n",
        "temp_series_paris_naive"
      ],
      "execution_count": 0,
      "outputs": []
    },
    {
      "cell_type": "markdown",
      "metadata": {
        "id": "PbLhkZcI3Gn2",
        "colab_type": "text"
      },
      "source": [
        "Now `02:30` is really ambiguous. If we try to localize these naive datetimes to the Paris timezone, we get an error:"
      ]
    },
    {
      "cell_type": "code",
      "metadata": {
        "id": "ZL7JR8O53Gn3",
        "colab_type": "code",
        "colab": {}
      },
      "source": [
        "try:\n",
        "    temp_series_paris_naive.tz_localize(\"Europe/Paris\")\n",
        "except Exception as e:\n",
        "    print(type(e))\n",
        "    print(e)"
      ],
      "execution_count": 0,
      "outputs": []
    },
    {
      "cell_type": "markdown",
      "metadata": {
        "id": "Skna_qnq3Gn7",
        "colab_type": "text"
      },
      "source": [
        "Fortunately using the `ambiguous` argument we can tell pandas to infer the right DST (Daylight Saving Time) based on the order of the ambiguous timestamps:"
      ]
    },
    {
      "cell_type": "code",
      "metadata": {
        "id": "Rg-s-ubl3Gn8",
        "colab_type": "code",
        "colab": {}
      },
      "source": [
        "temp_series_paris_naive.tz_localize(\"Europe/Paris\", ambiguous=\"infer\")"
      ],
      "execution_count": 0,
      "outputs": []
    },
    {
      "cell_type": "markdown",
      "metadata": {
        "id": "qSvu-nBY3Gn_",
        "colab_type": "text"
      },
      "source": [
        "## Periods\n",
        "The `pd.period_range()` function returns a `PeriodIndex` instead of a `DatetimeIndex`. For example, let's get all quarters in 2016 and 2017:"
      ]
    },
    {
      "cell_type": "code",
      "metadata": {
        "id": "_vTdBGMe3Gn_",
        "colab_type": "code",
        "colab": {}
      },
      "source": [
        "quarters = pd.period_range('2016Q1', periods=8, freq='Q')\n",
        "quarters"
      ],
      "execution_count": 0,
      "outputs": []
    },
    {
      "cell_type": "markdown",
      "metadata": {
        "id": "L4B1hyi-3GoC",
        "colab_type": "text"
      },
      "source": [
        "Adding a number `N` to a `PeriodIndex` shifts the periods by `N` times the `PeriodIndex`'s frequency:"
      ]
    },
    {
      "cell_type": "code",
      "metadata": {
        "id": "5FhBABZi3GoC",
        "colab_type": "code",
        "colab": {}
      },
      "source": [
        "quarters + 3"
      ],
      "execution_count": 0,
      "outputs": []
    },
    {
      "cell_type": "markdown",
      "metadata": {
        "id": "wCulGp3o3GoE",
        "colab_type": "text"
      },
      "source": [
        "The `asfreq()` method lets us change the frequency of the `PeriodIndex`. All periods are lengthened or shortened accordingly. For example, let's convert all the quarterly periods to monthly periods (zooming in):"
      ]
    },
    {
      "cell_type": "code",
      "metadata": {
        "id": "FSEmaI5G3GoF",
        "colab_type": "code",
        "colab": {}
      },
      "source": [
        "quarters.asfreq(\"M\")"
      ],
      "execution_count": 0,
      "outputs": []
    },
    {
      "cell_type": "markdown",
      "metadata": {
        "id": "VlnyMEEH3GoI",
        "colab_type": "text"
      },
      "source": [
        "By default, the `asfreq` zooms on the end of each period. We can tell it to zoom on the start of each period instead:"
      ]
    },
    {
      "cell_type": "code",
      "metadata": {
        "id": "1X6I5JSX3GoI",
        "colab_type": "code",
        "colab": {}
      },
      "source": [
        "quarters.asfreq(\"M\", how=\"start\")"
      ],
      "execution_count": 0,
      "outputs": []
    },
    {
      "cell_type": "markdown",
      "metadata": {
        "id": "05L2vaA53GoL",
        "colab_type": "text"
      },
      "source": [
        "And we can zoom out:"
      ]
    },
    {
      "cell_type": "code",
      "metadata": {
        "id": "AohU3vj-3GoM",
        "colab_type": "code",
        "colab": {}
      },
      "source": [
        "quarters.asfreq(\"A\")"
      ],
      "execution_count": 0,
      "outputs": []
    },
    {
      "cell_type": "markdown",
      "metadata": {
        "id": "B7DwJZrN3GoO",
        "colab_type": "text"
      },
      "source": [
        "Of course we can create a `Series` with a `PeriodIndex`:"
      ]
    },
    {
      "cell_type": "code",
      "metadata": {
        "id": "rCIVGbb-3GoO",
        "colab_type": "code",
        "colab": {}
      },
      "source": [
        "quarterly_revenue = pd.Series([300, 320, 290, 390, 320, 360, 310, 410], index = quarters)\n",
        "quarterly_revenue"
      ],
      "execution_count": 0,
      "outputs": []
    },
    {
      "cell_type": "code",
      "metadata": {
        "id": "6JJA9ITX3GoR",
        "colab_type": "code",
        "colab": {}
      },
      "source": [
        "quarterly_revenue.plot(kind=\"line\")\n",
        "plt.show()"
      ],
      "execution_count": 0,
      "outputs": []
    },
    {
      "cell_type": "markdown",
      "metadata": {
        "id": "Q8SdDovE3GoU",
        "colab_type": "text"
      },
      "source": [
        "We can convert periods to timestamps by calling `to_timestamp`. By default this will give us the first day of each period, but by setting `how` and `freq`, we can get the last hour of each period:"
      ]
    },
    {
      "cell_type": "code",
      "metadata": {
        "id": "0s_sU_if3GoV",
        "colab_type": "code",
        "colab": {}
      },
      "source": [
        "last_hours = quarterly_revenue.to_timestamp(how=\"end\", freq=\"H\")\n",
        "last_hours"
      ],
      "execution_count": 0,
      "outputs": []
    },
    {
      "cell_type": "markdown",
      "metadata": {
        "id": "3mJIWuSg3GoX",
        "colab_type": "text"
      },
      "source": [
        "And back to periods by calling `to_period`:"
      ]
    },
    {
      "cell_type": "code",
      "metadata": {
        "id": "0J4l6QeA3GoY",
        "colab_type": "code",
        "colab": {}
      },
      "source": [
        "last_hours.to_period()"
      ],
      "execution_count": 0,
      "outputs": []
    },
    {
      "cell_type": "markdown",
      "metadata": {
        "id": "kPsCEqkY3Gob",
        "colab_type": "text"
      },
      "source": [
        "Pandas also provides many other time-related functions that we recommend you check out in the [documentation](http://pandas.pydata.org/pandas-docs/stable/timeseries.html). To whet your appetite, here is one way to get the last business day of each month in 2016, at 9am:"
      ]
    },
    {
      "cell_type": "code",
      "metadata": {
        "id": "0CGil6xY3God",
        "colab_type": "code",
        "colab": {}
      },
      "source": [
        "months_2016 = pd.period_range(\"2016\", periods=12, freq=\"M\")\n",
        "one_day_after_last_days = months_2016.asfreq(\"D\") + 1\n",
        "last_bdays = one_day_after_last_days.to_timestamp() - pd.tseries.offsets.BDay()\n",
        "last_bdays.to_period(\"H\") + 9"
      ],
      "execution_count": 0,
      "outputs": []
    },
    {
      "cell_type": "markdown",
      "metadata": {
        "id": "XRS8ZQeP3Goh",
        "colab_type": "text"
      },
      "source": [
        "# `DataFrame` objects\n",
        "A DataFrame object represents a spreadsheet, with cell values, column names and row index labels. You can define expressions to compute columns based on other columns, create pivot-tables, group rows, draw graphs, etc. You can see `DataFrame`s as dictionaries of `Series`.\n",
        "\n",
        "## Creating a `DataFrame`\n",
        "You can create a DataFrame by passing a dictionary of `Series` objects:"
      ]
    },
    {
      "cell_type": "code",
      "metadata": {
        "id": "k_wMO73V3Goi",
        "colab_type": "code",
        "colab": {}
      },
      "source": [
        "people_dict = {\n",
        "    \"weight\": pd.Series([68, 83, 112], index=[\"alice\", \"bob\", \"charles\"]),\n",
        "    \"birthyear\": pd.Series([1984, 1985, 1992], index=[\"bob\", \"alice\", \"charles\"], name=\"year\"),\n",
        "    \"children\": pd.Series([0, 3], index=[\"charles\", \"bob\"]),\n",
        "    \"hobby\": pd.Series([\"Biking\", \"Dancing\"], index=[\"alice\", \"bob\"]),\n",
        "}\n",
        "people = pd.DataFrame(people_dict)\n",
        "people"
      ],
      "execution_count": 0,
      "outputs": []
    },
    {
      "cell_type": "markdown",
      "metadata": {
        "id": "koi7vOvo3Gok",
        "colab_type": "text"
      },
      "source": [
        "A few things to note:\n",
        "* the `Series` were automatically aligned based on their index,\n",
        "* missing values are represented as `NaN`,\n",
        "* `Series` names are ignored (the name `\"year\"` was dropped),\n",
        "* `DataFrame`s are displayed nicely in Jupyter notebooks, woohoo!"
      ]
    },
    {
      "cell_type": "markdown",
      "metadata": {
        "id": "nJPgY6WE3Gom",
        "colab_type": "text"
      },
      "source": [
        "You can access columns pretty much as you would expect. They are returned as `Series` objects:"
      ]
    },
    {
      "cell_type": "code",
      "metadata": {
        "id": "F8FR0W6L3Goo",
        "colab_type": "code",
        "colab": {}
      },
      "source": [
        "people[\"birthyear\"]"
      ],
      "execution_count": 0,
      "outputs": []
    },
    {
      "cell_type": "markdown",
      "metadata": {
        "id": "G4Jea4YQ3Goq",
        "colab_type": "text"
      },
      "source": [
        "You can also get multiple columns at once:"
      ]
    },
    {
      "cell_type": "code",
      "metadata": {
        "id": "2DkbHJGw3Goq",
        "colab_type": "code",
        "colab": {}
      },
      "source": [
        "people[[\"birthyear\", \"hobby\"]]"
      ],
      "execution_count": 0,
      "outputs": []
    },
    {
      "cell_type": "markdown",
      "metadata": {
        "id": "kAJ7KdtA3Gos",
        "colab_type": "text"
      },
      "source": [
        "If you pass a list of columns and/or index row labels to the `DataFrame` constructor, it will guarantee that these columns and/or rows will exist, in that order, and no other column/row will exist. For example:"
      ]
    },
    {
      "cell_type": "code",
      "metadata": {
        "id": "8TEXSjjx3Got",
        "colab_type": "code",
        "colab": {}
      },
      "source": [
        "d2 = pd.DataFrame(\n",
        "        people_dict,\n",
        "        columns=[\"birthyear\", \"weight\", \"height\"],\n",
        "        index=[\"bob\", \"alice\", \"eugene\"]\n",
        "     )\n",
        "d2"
      ],
      "execution_count": 0,
      "outputs": []
    },
    {
      "cell_type": "markdown",
      "metadata": {
        "id": "sV7JNuLO3Gov",
        "colab_type": "text"
      },
      "source": [
        "Another convenient way to create a `DataFrame` is to pass all the values to the constructor as an `ndarray`, or a list of lists, and specify the column names and row index labels separately:"
      ]
    },
    {
      "cell_type": "code",
      "metadata": {
        "id": "reQJ-Iub3Gow",
        "colab_type": "code",
        "colab": {}
      },
      "source": [
        "values = [\n",
        "            [1985, np.nan, \"Biking\",   68],\n",
        "            [1984, 3,      \"Dancing\",  83],\n",
        "            [1992, 0,      np.nan,    112]\n",
        "         ]\n",
        "d3 = pd.DataFrame(\n",
        "        values,\n",
        "        columns=[\"birthyear\", \"children\", \"hobby\", \"weight\"],\n",
        "        index=[\"alice\", \"bob\", \"charles\"]\n",
        "     )\n",
        "d3"
      ],
      "execution_count": 0,
      "outputs": []
    },
    {
      "cell_type": "markdown",
      "metadata": {
        "id": "okOUAM523Go2",
        "colab_type": "text"
      },
      "source": [
        "To specify missing values, you can either use `np.nan` or NumPy's masked arrays:"
      ]
    },
    {
      "cell_type": "code",
      "metadata": {
        "id": "k99WFSfy3Go2",
        "colab_type": "code",
        "colab": {}
      },
      "source": [
        "masked_array = np.ma.asarray(values, dtype=np.object)\n",
        "masked_array[(0, 2), (1, 2)] = np.ma.masked\n",
        "d3 = pd.DataFrame(\n",
        "        masked_array,\n",
        "        columns=[\"birthyear\", \"children\", \"hobby\", \"weight\"],\n",
        "        index=[\"alice\", \"bob\", \"charles\"]\n",
        "     )\n",
        "d3"
      ],
      "execution_count": 0,
      "outputs": []
    },
    {
      "cell_type": "markdown",
      "metadata": {
        "id": "OaG5yBoQ3Go4",
        "colab_type": "text"
      },
      "source": [
        "Instead of an `ndarray`, you can also pass a `DataFrame` object:"
      ]
    },
    {
      "cell_type": "code",
      "metadata": {
        "id": "kma2tvIv3Go4",
        "colab_type": "code",
        "colab": {}
      },
      "source": [
        "d4 = pd.DataFrame(\n",
        "         d3,\n",
        "         columns=[\"hobby\", \"children\"],\n",
        "         index=[\"alice\", \"bob\"]\n",
        "     )\n",
        "d4"
      ],
      "execution_count": 0,
      "outputs": []
    },
    {
      "cell_type": "markdown",
      "metadata": {
        "id": "83-w2zH-3Go6",
        "colab_type": "text"
      },
      "source": [
        "It is also possible to create a `DataFrame` with a dictionary (or list) of dictionaries (or list):"
      ]
    },
    {
      "cell_type": "code",
      "metadata": {
        "id": "BbtJc0gy3Go6",
        "colab_type": "code",
        "colab": {}
      },
      "source": [
        "people = pd.DataFrame({\n",
        "    \"birthyear\": {\"alice\":1985, \"bob\": 1984, \"charles\": 1992},\n",
        "    \"hobby\": {\"alice\":\"Biking\", \"bob\": \"Dancing\"},\n",
        "    \"weight\": {\"alice\":68, \"bob\": 83, \"charles\": 112},\n",
        "    \"children\": {\"bob\": 3, \"charles\": 0}\n",
        "})\n",
        "people"
      ],
      "execution_count": 0,
      "outputs": []
    },
    {
      "cell_type": "markdown",
      "metadata": {
        "id": "qvSmhY423Go8",
        "colab_type": "text"
      },
      "source": [
        "## Multi-indexing\n",
        "If all columns are tuples of the same size, then they are understood as a multi-index. The same goes for row index labels. For example:"
      ]
    },
    {
      "cell_type": "code",
      "metadata": {
        "id": "TNqV6xpz3Go9",
        "colab_type": "code",
        "colab": {}
      },
      "source": [
        "d5 = pd.DataFrame(\n",
        "  {\n",
        "    (\"public\", \"birthyear\"):\n",
        "        {(\"Paris\",\"alice\"):1985, (\"Paris\",\"bob\"): 1984, (\"London\",\"charles\"): 1992},\n",
        "    (\"public\", \"hobby\"):\n",
        "        {(\"Paris\",\"alice\"):\"Biking\", (\"Paris\",\"bob\"): \"Dancing\"},\n",
        "    (\"private\", \"weight\"):\n",
        "        {(\"Paris\",\"alice\"):68, (\"Paris\",\"bob\"): 83, (\"London\",\"charles\"): 112},\n",
        "    (\"private\", \"children\"):\n",
        "        {(\"Paris\", \"alice\"):np.nan, (\"Paris\",\"bob\"): 3, (\"London\",\"charles\"): 0}\n",
        "  }\n",
        ")\n",
        "d5"
      ],
      "execution_count": 0,
      "outputs": []
    },
    {
      "cell_type": "markdown",
      "metadata": {
        "id": "dr07Eec23Go-",
        "colab_type": "text"
      },
      "source": [
        "You can now get a `DataFrame` containing all the `\"public\"` columns very simply:"
      ]
    },
    {
      "cell_type": "code",
      "metadata": {
        "id": "k7hHKaJB3Go_",
        "colab_type": "code",
        "colab": {}
      },
      "source": [
        "d5[\"public\"]"
      ],
      "execution_count": 0,
      "outputs": []
    },
    {
      "cell_type": "code",
      "metadata": {
        "id": "Nc9pFhBV3GpB",
        "colab_type": "code",
        "colab": {}
      },
      "source": [
        "d5[\"public\", \"hobby\"]  # Same result as d5[\"public\"][\"hobby\"]"
      ],
      "execution_count": 0,
      "outputs": []
    },
    {
      "cell_type": "markdown",
      "metadata": {
        "id": "dxzXmr3f3GpD",
        "colab_type": "text"
      },
      "source": [
        "## Dropping a level\n",
        "Let's look at `d5` again:"
      ]
    },
    {
      "cell_type": "code",
      "metadata": {
        "id": "JDShFMZg3GpD",
        "colab_type": "code",
        "colab": {}
      },
      "source": [
        "d5"
      ],
      "execution_count": 0,
      "outputs": []
    },
    {
      "cell_type": "markdown",
      "metadata": {
        "id": "t01PkevO3GpI",
        "colab_type": "text"
      },
      "source": [
        "There are two levels of columns, and two levels of indices. We can drop a column level by calling `droplevel()` (the same goes for indices):"
      ]
    },
    {
      "cell_type": "code",
      "metadata": {
        "id": "mSbWZ8Sw3GpI",
        "colab_type": "code",
        "colab": {}
      },
      "source": [
        "d5.columns = d5.columns.droplevel(level = 0)\n",
        "d5"
      ],
      "execution_count": 0,
      "outputs": []
    },
    {
      "cell_type": "markdown",
      "metadata": {
        "id": "lI5GOCm03GpK",
        "colab_type": "text"
      },
      "source": [
        "## Transposing\n",
        "You can swap columns and indices using the `T` attribute:"
      ]
    },
    {
      "cell_type": "code",
      "metadata": {
        "id": "d9wX5Zni3GpK",
        "colab_type": "code",
        "colab": {}
      },
      "source": [
        "d6 = d5.T\n",
        "d6"
      ],
      "execution_count": 0,
      "outputs": []
    },
    {
      "cell_type": "markdown",
      "metadata": {
        "id": "zIoCfn8o3GpO",
        "colab_type": "text"
      },
      "source": [
        "## Stacking and unstacking levels\n",
        "Calling the `stack()` method will push the lowest column level after the lowest index:"
      ]
    },
    {
      "cell_type": "code",
      "metadata": {
        "id": "3d24K-oa3GpQ",
        "colab_type": "code",
        "colab": {}
      },
      "source": [
        "d7 = d6.stack()\n",
        "d7"
      ],
      "execution_count": 0,
      "outputs": []
    },
    {
      "cell_type": "markdown",
      "metadata": {
        "id": "RACqaRCi3GpS",
        "colab_type": "text"
      },
      "source": [
        "Note that many `NaN` values appeared. This makes sense because many new combinations did not exist before (eg. there was no `bob` in `London`).\n",
        "\n",
        "Calling `unstack()` will do the reverse, once again creating many `NaN` values."
      ]
    },
    {
      "cell_type": "code",
      "metadata": {
        "id": "upLB11dO3GpS",
        "colab_type": "code",
        "colab": {}
      },
      "source": [
        "d8 = d7.unstack()\n",
        "d8"
      ],
      "execution_count": 0,
      "outputs": []
    },
    {
      "cell_type": "markdown",
      "metadata": {
        "id": "Aq8VacsW3GpU",
        "colab_type": "text"
      },
      "source": [
        "If we call `unstack` again, we end up with a `Series` object:"
      ]
    },
    {
      "cell_type": "code",
      "metadata": {
        "id": "qqcCKSih3GpU",
        "colab_type": "code",
        "colab": {}
      },
      "source": [
        "d9 = d8.unstack()\n",
        "d9"
      ],
      "execution_count": 0,
      "outputs": []
    },
    {
      "cell_type": "markdown",
      "metadata": {
        "id": "8zy7pBVK3GpV",
        "colab_type": "text"
      },
      "source": [
        "The `stack()` and `unstack()` methods let you select the `level` to stack/unstack. You can even stack/unstack multiple levels at once:"
      ]
    },
    {
      "cell_type": "code",
      "metadata": {
        "scrolled": true,
        "id": "kafiB0sM3GpW",
        "colab_type": "code",
        "colab": {}
      },
      "source": [
        "d10 = d9.unstack(level = (0,1))\n",
        "d10"
      ],
      "execution_count": 0,
      "outputs": []
    },
    {
      "cell_type": "markdown",
      "metadata": {
        "id": "8nE0gAVA3GpX",
        "colab_type": "text"
      },
      "source": [
        "## Most methods return modified copies\n",
        "As you may have noticed, the `stack()` and `unstack()` methods do not modify the object they apply to. Instead, they work on a copy and return that copy. This is true of most methods in pandas."
      ]
    },
    {
      "cell_type": "markdown",
      "metadata": {
        "id": "mCy1nona3GpY",
        "colab_type": "text"
      },
      "source": [
        "## Accessing rows\n",
        "Let's go back to the `people` `DataFrame`:"
      ]
    },
    {
      "cell_type": "code",
      "metadata": {
        "id": "_6QoOP0M3GpY",
        "colab_type": "code",
        "colab": {}
      },
      "source": [
        "people"
      ],
      "execution_count": 0,
      "outputs": []
    },
    {
      "cell_type": "markdown",
      "metadata": {
        "id": "goSSCa9Y3Gpd",
        "colab_type": "text"
      },
      "source": [
        "The `loc` attribute lets you access rows instead of columns. The result is a `Series` object in which the `DataFrame`'s column names are mapped to row index labels:"
      ]
    },
    {
      "cell_type": "code",
      "metadata": {
        "id": "0i2GE78l3Gpd",
        "colab_type": "code",
        "colab": {}
      },
      "source": [
        "people.loc[\"charles\"]"
      ],
      "execution_count": 0,
      "outputs": []
    },
    {
      "cell_type": "markdown",
      "metadata": {
        "id": "3AwC82W33Gph",
        "colab_type": "text"
      },
      "source": [
        "You can also access rows by integer location using the `iloc` attribute:"
      ]
    },
    {
      "cell_type": "code",
      "metadata": {
        "id": "P_V4iQ3L3Gpi",
        "colab_type": "code",
        "colab": {}
      },
      "source": [
        "people.iloc[2]"
      ],
      "execution_count": 0,
      "outputs": []
    },
    {
      "cell_type": "markdown",
      "metadata": {
        "id": "3jYfmWfy3Gpm",
        "colab_type": "text"
      },
      "source": [
        "You can also get a slice of rows, and this returns a `DataFrame` object:"
      ]
    },
    {
      "cell_type": "code",
      "metadata": {
        "id": "0qf-cPx93Gpm",
        "colab_type": "code",
        "colab": {}
      },
      "source": [
        "people.iloc[1:3]"
      ],
      "execution_count": 0,
      "outputs": []
    },
    {
      "cell_type": "markdown",
      "metadata": {
        "id": "CDpi-4Sn3Gpn",
        "colab_type": "text"
      },
      "source": [
        "Finally, you can pass a boolean array to get the matching rows:"
      ]
    },
    {
      "cell_type": "code",
      "metadata": {
        "id": "VS-xuR8X3Gpn",
        "colab_type": "code",
        "colab": {}
      },
      "source": [
        "people[np.array([True, False, True])]"
      ],
      "execution_count": 0,
      "outputs": []
    },
    {
      "cell_type": "markdown",
      "metadata": {
        "id": "MogZXDsk3Gpp",
        "colab_type": "text"
      },
      "source": [
        "This is most useful when combined with boolean expressions:"
      ]
    },
    {
      "cell_type": "code",
      "metadata": {
        "id": "c2Ms71FQ3Gpp",
        "colab_type": "code",
        "colab": {}
      },
      "source": [
        "people[people[\"birthyear\"] < 1990]"
      ],
      "execution_count": 0,
      "outputs": []
    },
    {
      "cell_type": "markdown",
      "metadata": {
        "id": "jVaISL4d3Gpr",
        "colab_type": "text"
      },
      "source": [
        "## Adding and removing columns\n",
        "You can generally treat `DataFrame` objects like dictionaries of `Series`, so the following work fine:"
      ]
    },
    {
      "cell_type": "code",
      "metadata": {
        "id": "ZncWDH6D3Gps",
        "colab_type": "code",
        "colab": {}
      },
      "source": [
        "people"
      ],
      "execution_count": 0,
      "outputs": []
    },
    {
      "cell_type": "code",
      "metadata": {
        "id": "KfRDheP43Gpt",
        "colab_type": "code",
        "colab": {}
      },
      "source": [
        "people[\"age\"] = 2018 - people[\"birthyear\"]  # adds a new column \"age\"\n",
        "people[\"over 30\"] = people[\"age\"] > 30      # adds another column \"over 30\"\n",
        "birthyears = people.pop(\"birthyear\")\n",
        "del people[\"children\"]\n",
        "\n",
        "people"
      ],
      "execution_count": 0,
      "outputs": []
    },
    {
      "cell_type": "code",
      "metadata": {
        "id": "VUyRYZ_53Gpv",
        "colab_type": "code",
        "colab": {}
      },
      "source": [
        "birthyears"
      ],
      "execution_count": 0,
      "outputs": []
    },
    {
      "cell_type": "markdown",
      "metadata": {
        "id": "iJtmSpqq3Gpw",
        "colab_type": "text"
      },
      "source": [
        "When you add a new colum, it must have the same number of rows. Missing rows are filled with NaN, and extra rows are ignored:"
      ]
    },
    {
      "cell_type": "code",
      "metadata": {
        "id": "XTUXGT4X3Gpw",
        "colab_type": "code",
        "colab": {}
      },
      "source": [
        "people[\"pets\"] = pd.Series({\"bob\": 0, \"charles\": 5, \"eugene\":1})  # alice is missing, eugene is ignored\n",
        "people"
      ],
      "execution_count": 0,
      "outputs": []
    },
    {
      "cell_type": "markdown",
      "metadata": {
        "id": "xmE-oPNm3Gpx",
        "colab_type": "text"
      },
      "source": [
        "When adding a new column, it is added at the end (on the right) by default. You can also insert a column anywhere else using the `insert()` method:"
      ]
    },
    {
      "cell_type": "code",
      "metadata": {
        "id": "_euf7DgX3Gpy",
        "colab_type": "code",
        "colab": {}
      },
      "source": [
        "people.insert(1, \"height\", [172, 181, 185])\n",
        "people"
      ],
      "execution_count": 0,
      "outputs": []
    },
    {
      "cell_type": "markdown",
      "metadata": {
        "id": "d9h2InRI3Gp0",
        "colab_type": "text"
      },
      "source": [
        "## Assigning new columns\n",
        "You can also create new columns by calling the `assign()` method. Note that this returns a new `DataFrame` object, the original is not modified:"
      ]
    },
    {
      "cell_type": "code",
      "metadata": {
        "id": "6Znp-6Eu3Gp1",
        "colab_type": "code",
        "colab": {}
      },
      "source": [
        "people.assign(\n",
        "    body_mass_index = people[\"weight\"] / (people[\"height\"] / 100) ** 2,\n",
        "    has_pets = people[\"pets\"] > 0\n",
        ")"
      ],
      "execution_count": 0,
      "outputs": []
    },
    {
      "cell_type": "markdown",
      "metadata": {
        "id": "M9fsNHSv3Gp2",
        "colab_type": "text"
      },
      "source": [
        "Note that you cannot access columns created within the same assignment:"
      ]
    },
    {
      "cell_type": "code",
      "metadata": {
        "id": "7WNTPniN3Gp3",
        "colab_type": "code",
        "colab": {}
      },
      "source": [
        "try:\n",
        "    people.assign(\n",
        "        body_mass_index = people[\"weight\"] / (people[\"height\"] / 100) ** 2,\n",
        "        overweight = people[\"body_mass_index\"] > 25\n",
        "    )\n",
        "except KeyError as e:\n",
        "    print(\"Key error:\", e)"
      ],
      "execution_count": 0,
      "outputs": []
    },
    {
      "cell_type": "markdown",
      "metadata": {
        "id": "gnfqICdc3Gp4",
        "colab_type": "text"
      },
      "source": [
        "The solution is to split this assignment in two consecutive assignments:"
      ]
    },
    {
      "cell_type": "code",
      "metadata": {
        "id": "oxPdlCfx3Gp4",
        "colab_type": "code",
        "colab": {}
      },
      "source": [
        "d6 = people.assign(body_mass_index = people[\"weight\"] / (people[\"height\"] / 100) ** 2)\n",
        "d6.assign(overweight = d6[\"body_mass_index\"] > 25)"
      ],
      "execution_count": 0,
      "outputs": []
    },
    {
      "cell_type": "markdown",
      "metadata": {
        "id": "fgQL-2Md3Gp5",
        "colab_type": "text"
      },
      "source": [
        "Having to create a temporary variable `d6` is not very convenient. You may want to just chain the assigment calls, but it does not work because the `people` object is not actually modified by the first assignment:"
      ]
    },
    {
      "cell_type": "code",
      "metadata": {
        "id": "PWaVj-ai3Gp6",
        "colab_type": "code",
        "colab": {}
      },
      "source": [
        "try:\n",
        "    (people\n",
        "         .assign(body_mass_index = people[\"weight\"] / (people[\"height\"] / 100) ** 2)\n",
        "         .assign(overweight = people[\"body_mass_index\"] > 25)\n",
        "    )\n",
        "except KeyError as e:\n",
        "    print(\"Key error:\", e)"
      ],
      "execution_count": 0,
      "outputs": []
    },
    {
      "cell_type": "markdown",
      "metadata": {
        "id": "8pgQ9pPg3Gp7",
        "colab_type": "text"
      },
      "source": [
        "But fear not, there is a simple solution. You can pass a function to the `assign()` method (typically a `lambda` function), and this function will be called with the `DataFrame` as a parameter:"
      ]
    },
    {
      "cell_type": "code",
      "metadata": {
        "id": "euHjbrlP3Gp8",
        "colab_type": "code",
        "colab": {}
      },
      "source": [
        "(people\n",
        "     .assign(body_mass_index = lambda df: df[\"weight\"] / (df[\"height\"] / 100) ** 2)\n",
        "     .assign(overweight = lambda df: df[\"body_mass_index\"] > 25)\n",
        ")"
      ],
      "execution_count": 0,
      "outputs": []
    },
    {
      "cell_type": "markdown",
      "metadata": {
        "id": "Glu9HvwX3Gp9",
        "colab_type": "text"
      },
      "source": [
        "Problem solved!"
      ]
    },
    {
      "cell_type": "markdown",
      "metadata": {
        "id": "sEwPy1Om3Gp9",
        "colab_type": "text"
      },
      "source": [
        "## Evaluating an expression\n",
        "A great feature supported by pandas is expression evaluation. This relies on the `numexpr` library which must be installed."
      ]
    },
    {
      "cell_type": "code",
      "metadata": {
        "id": "rle9Z0a23Gp-",
        "colab_type": "code",
        "colab": {}
      },
      "source": [
        "people.eval(\"weight / (height/100) ** 2 > 25\")"
      ],
      "execution_count": 0,
      "outputs": []
    },
    {
      "cell_type": "markdown",
      "metadata": {
        "id": "8V4RsrC03Gp_",
        "colab_type": "text"
      },
      "source": [
        "Assignment expressions are also supported. Let's set `inplace=True` to directly modify the `DataFrame` rather than getting a modified copy:"
      ]
    },
    {
      "cell_type": "code",
      "metadata": {
        "id": "cykBqVXl3GqA",
        "colab_type": "code",
        "colab": {}
      },
      "source": [
        "people.eval(\"body_mass_index = weight / (height/100) ** 2\", inplace=True)\n",
        "people"
      ],
      "execution_count": 0,
      "outputs": []
    },
    {
      "cell_type": "markdown",
      "metadata": {
        "id": "2bdCULOX3GqB",
        "colab_type": "text"
      },
      "source": [
        "You can use a local or global variable in an expression by prefixing it with `'@'`:"
      ]
    },
    {
      "cell_type": "code",
      "metadata": {
        "id": "BzRztWnf3GqC",
        "colab_type": "code",
        "colab": {}
      },
      "source": [
        "overweight_threshold = 30\n",
        "people.eval(\"overweight = body_mass_index > @overweight_threshold\", inplace=True)\n",
        "people"
      ],
      "execution_count": 0,
      "outputs": []
    },
    {
      "cell_type": "markdown",
      "metadata": {
        "id": "PHModxBV3GqE",
        "colab_type": "text"
      },
      "source": [
        "## Querying a `DataFrame`\n",
        "The `query()` method lets you filter a `DataFrame` based on a query expression:"
      ]
    },
    {
      "cell_type": "code",
      "metadata": {
        "id": "1uu_voPX3GqF",
        "colab_type": "code",
        "colab": {}
      },
      "source": [
        "people.query(\"age > 30 and pets == 0\")"
      ],
      "execution_count": 0,
      "outputs": []
    },
    {
      "cell_type": "markdown",
      "metadata": {
        "id": "hGjpz4G83GqG",
        "colab_type": "text"
      },
      "source": [
        "## Sorting a `DataFrame`\n",
        "You can sort a `DataFrame` by calling its `sort_index` method. By default it sorts the rows by their index label, in ascending order, but let's reverse the order:"
      ]
    },
    {
      "cell_type": "code",
      "metadata": {
        "id": "3mTXhbz_3GqG",
        "colab_type": "code",
        "colab": {}
      },
      "source": [
        "people.sort_index(ascending=False)"
      ],
      "execution_count": 0,
      "outputs": []
    },
    {
      "cell_type": "markdown",
      "metadata": {
        "id": "ZYrIHg2X3GqI",
        "colab_type": "text"
      },
      "source": [
        "Note that `sort_index` returned a sorted *copy* of the `DataFrame`. To modify `people` directly, we can set the `inplace` argument to `True`. Also, we can sort the columns instead of the rows by setting `axis=1`:"
      ]
    },
    {
      "cell_type": "code",
      "metadata": {
        "id": "DLEbFH_f3GqJ",
        "colab_type": "code",
        "colab": {}
      },
      "source": [
        "people.sort_index(axis=1, inplace=True)\n",
        "people"
      ],
      "execution_count": 0,
      "outputs": []
    },
    {
      "cell_type": "markdown",
      "metadata": {
        "id": "nRLW9jgI3GqK",
        "colab_type": "text"
      },
      "source": [
        "To sort the `DataFrame` by the values instead of the labels, we can use `sort_values` and specify the column to sort by:"
      ]
    },
    {
      "cell_type": "code",
      "metadata": {
        "id": "GyJb-5kA3GqK",
        "colab_type": "code",
        "colab": {}
      },
      "source": [
        "people.sort_values(by=\"age\", inplace=True)\n",
        "people"
      ],
      "execution_count": 0,
      "outputs": []
    },
    {
      "cell_type": "markdown",
      "metadata": {
        "id": "X2Go6akB3GqN",
        "colab_type": "text"
      },
      "source": [
        "## Plotting a `DataFrame`\n",
        "Just like for `Series`, pandas makes it easy to draw nice graphs based on a `DataFrame`.\n",
        "\n",
        "For example, it is trivial to create a line plot from a `DataFrame`'s data by calling its `plot` method:"
      ]
    },
    {
      "cell_type": "code",
      "metadata": {
        "id": "57fFJNxM3GqN",
        "colab_type": "code",
        "colab": {}
      },
      "source": [
        "people.plot(kind = \"line\", x = \"body_mass_index\", y = [\"height\", \"weight\"])\n",
        "plt.show()"
      ],
      "execution_count": 0,
      "outputs": []
    },
    {
      "cell_type": "markdown",
      "metadata": {
        "id": "5lGJvBcB3GqP",
        "colab_type": "text"
      },
      "source": [
        "You can pass extra arguments supported by matplotlib's functions. For example, we can create scatterplot and pass it a list of sizes using the `s` argument of matplotlib's `scatter()` function:"
      ]
    },
    {
      "cell_type": "code",
      "metadata": {
        "scrolled": true,
        "id": "W0p2qhgp3GqP",
        "colab_type": "code",
        "colab": {}
      },
      "source": [
        "people.plot(kind = \"scatter\", x = \"height\", y = \"weight\", s=[40, 120, 200])\n",
        "plt.show()"
      ],
      "execution_count": 0,
      "outputs": []
    },
    {
      "cell_type": "markdown",
      "metadata": {
        "id": "A4i1JfqS3GqR",
        "colab_type": "text"
      },
      "source": [
        "Again, there are way too many options to list here: the best option is to scroll through the [Visualization](http://pandas.pydata.org/pandas-docs/stable/visualization.html) page in pandas' documentation, find the plot you are interested in and look at the example code."
      ]
    },
    {
      "cell_type": "markdown",
      "metadata": {
        "id": "UR9eHxZe3GqR",
        "colab_type": "text"
      },
      "source": [
        "## Operations on `DataFrame`s\n",
        "Although `DataFrame`s do not try to mimick NumPy arrays, there are a few similarities. Let's create a `DataFrame` to demonstrate this:"
      ]
    },
    {
      "cell_type": "code",
      "metadata": {
        "id": "NygpPNTP3GqR",
        "colab_type": "code",
        "colab": {}
      },
      "source": [
        "grades_array = np.array([[8,8,9],[10,9,9],[4, 8, 2], [9, 10, 10]])\n",
        "grades = pd.DataFrame(grades_array, columns=[\"sep\", \"oct\", \"nov\"], index=[\"alice\",\"bob\",\"charles\",\"darwin\"])\n",
        "grades"
      ],
      "execution_count": 0,
      "outputs": []
    },
    {
      "cell_type": "markdown",
      "metadata": {
        "id": "YG5ZBoZ53GqU",
        "colab_type": "text"
      },
      "source": [
        "You can apply NumPy mathematical functions on a `DataFrame`: the function is applied to all values:"
      ]
    },
    {
      "cell_type": "code",
      "metadata": {
        "id": "hLamsN9T3GqU",
        "colab_type": "code",
        "colab": {}
      },
      "source": [
        "np.sqrt(grades)"
      ],
      "execution_count": 0,
      "outputs": []
    },
    {
      "cell_type": "markdown",
      "metadata": {
        "id": "JjH_n8sP3GqW",
        "colab_type": "text"
      },
      "source": [
        "Similarly, adding a single value to a `DataFrame` will add that value to all elements in the `DataFrame`. This is called *broadcasting*:"
      ]
    },
    {
      "cell_type": "code",
      "metadata": {
        "id": "X9uU8DMt3GqW",
        "colab_type": "code",
        "colab": {}
      },
      "source": [
        "grades + 1"
      ],
      "execution_count": 0,
      "outputs": []
    },
    {
      "cell_type": "markdown",
      "metadata": {
        "id": "6BRWRJnQ3GqY",
        "colab_type": "text"
      },
      "source": [
        "Of course, the same is true for all other binary operations, including arithmetic (`*`,`/`,`**`...) and conditional (`>`, `==`...) operations:"
      ]
    },
    {
      "cell_type": "code",
      "metadata": {
        "scrolled": false,
        "id": "6XMzcYIC3GqY",
        "colab_type": "code",
        "colab": {}
      },
      "source": [
        "grades >= 5"
      ],
      "execution_count": 0,
      "outputs": []
    },
    {
      "cell_type": "markdown",
      "metadata": {
        "id": "wUUYQd6U3GqZ",
        "colab_type": "text"
      },
      "source": [
        "Aggregation operations, such as computing the `max`, the `sum` or the `mean` of a `DataFrame`, apply to each column, and you get back a `Series` object:"
      ]
    },
    {
      "cell_type": "code",
      "metadata": {
        "id": "2RcSGktG3GqZ",
        "colab_type": "code",
        "colab": {}
      },
      "source": [
        "grades.mean()"
      ],
      "execution_count": 0,
      "outputs": []
    },
    {
      "cell_type": "markdown",
      "metadata": {
        "id": "6G_3B5Gh3Gqb",
        "colab_type": "text"
      },
      "source": [
        "The `all` method is also an aggregation operation: it checks whether all values are `True` or not. Let's see during which months all students got a grade greater than `5`:"
      ]
    },
    {
      "cell_type": "code",
      "metadata": {
        "id": "MtJBxHC23Gqb",
        "colab_type": "code",
        "colab": {}
      },
      "source": [
        "(grades > 5).all()"
      ],
      "execution_count": 0,
      "outputs": []
    },
    {
      "cell_type": "markdown",
      "metadata": {
        "id": "vYPn0BQY3Gqc",
        "colab_type": "text"
      },
      "source": [
        "Most of these functions take an optional `axis` parameter which lets you specify along which axis of the `DataFrame` you want the operation executed. The default is `axis=0`, meaning that the operation is executed vertically (on each column). You can set `axis=1` to execute the operation horizontally (on each row). For example, let's find out which students had all grades greater than `5`:"
      ]
    },
    {
      "cell_type": "code",
      "metadata": {
        "id": "iLjxHseY3Gqd",
        "colab_type": "code",
        "colab": {}
      },
      "source": [
        "(grades > 5).all(axis = 1)"
      ],
      "execution_count": 0,
      "outputs": []
    },
    {
      "cell_type": "markdown",
      "metadata": {
        "id": "FyKzPT2U3Gqe",
        "colab_type": "text"
      },
      "source": [
        "The `any` method returns `True` if any value is True. Let's see who got at least one grade 10:"
      ]
    },
    {
      "cell_type": "code",
      "metadata": {
        "id": "GHzvV_Wc3Gqe",
        "colab_type": "code",
        "colab": {}
      },
      "source": [
        "(grades == 10).any(axis = 1)"
      ],
      "execution_count": 0,
      "outputs": []
    },
    {
      "cell_type": "markdown",
      "metadata": {
        "id": "Nunxnt4q3Gqf",
        "colab_type": "text"
      },
      "source": [
        "If you add a `Series` object to a `DataFrame` (or execute any other binary operation), pandas attempts to broadcast the operation to all *rows* in the `DataFrame`. This only works if the `Series` has the same size as the `DataFrame`s rows. For example, let's substract the `mean` of the `DataFrame` (a `Series` object) from the `DataFrame`:"
      ]
    },
    {
      "cell_type": "code",
      "metadata": {
        "id": "n8Nsiq2M3Gqg",
        "colab_type": "code",
        "colab": {}
      },
      "source": [
        "grades - grades.mean()  # equivalent to: grades - [7.75, 8.75, 7.50]"
      ],
      "execution_count": 0,
      "outputs": []
    },
    {
      "cell_type": "markdown",
      "metadata": {
        "id": "HbNasx3H3Gqh",
        "colab_type": "text"
      },
      "source": [
        "We substracted `7.75` from all September grades, `8.75` from October grades and `7.50` from November grades. It is equivalent to substracting this `DataFrame`:"
      ]
    },
    {
      "cell_type": "code",
      "metadata": {
        "id": "z-pmZyfz3Gqh",
        "colab_type": "code",
        "colab": {}
      },
      "source": [
        "pd.DataFrame([[7.75, 8.75, 7.50]]*4, index=grades.index, columns=grades.columns)"
      ],
      "execution_count": 0,
      "outputs": []
    },
    {
      "cell_type": "markdown",
      "metadata": {
        "id": "Kyo_JvYY3Gqj",
        "colab_type": "text"
      },
      "source": [
        "If you want to substract the global mean from every grade, here is one way to do it:"
      ]
    },
    {
      "cell_type": "code",
      "metadata": {
        "scrolled": true,
        "id": "-266Zrp13Gqj",
        "colab_type": "code",
        "colab": {}
      },
      "source": [
        "grades - grades.values.mean() # substracts the global mean (8.00) from all grades"
      ],
      "execution_count": 0,
      "outputs": []
    },
    {
      "cell_type": "markdown",
      "metadata": {
        "id": "dlahAx-03Gql",
        "colab_type": "text"
      },
      "source": [
        "## Automatic alignment\n",
        "Similar to `Series`, when operating on multiple `DataFrame`s, pandas automatically aligns them by row index label, but also by column names. Let's create a `DataFrame` with bonus points for each person from October to December:"
      ]
    },
    {
      "cell_type": "code",
      "metadata": {
        "id": "6tdjEQ8h3Gql",
        "colab_type": "code",
        "colab": {}
      },
      "source": [
        "bonus_array = np.array([[0,np.nan,2],[np.nan,1,0],[0, 1, 0], [3, 3, 0]])\n",
        "bonus_points = pd.DataFrame(bonus_array, columns=[\"oct\", \"nov\", \"dec\"], index=[\"bob\",\"colin\", \"darwin\", \"charles\"])\n",
        "bonus_points"
      ],
      "execution_count": 0,
      "outputs": []
    },
    {
      "cell_type": "code",
      "metadata": {
        "scrolled": true,
        "id": "AKSsRO_A3Gqn",
        "colab_type": "code",
        "colab": {}
      },
      "source": [
        "grades + bonus_points"
      ],
      "execution_count": 0,
      "outputs": []
    },
    {
      "cell_type": "markdown",
      "metadata": {
        "id": "33ti2SHY3Gqo",
        "colab_type": "text"
      },
      "source": [
        "Looks like the addition worked in some cases but way too many elements are now empty. That's because when aligning the `DataFrame`s, some columns and rows were only present on one side, and thus they were considered missing on the other side (`NaN`). Then adding `NaN` to a number results in `NaN`, hence the result.\n",
        "\n",
        "## Handling missing data\n",
        "Dealing with missing data is a frequent task when working with real life data. Pandas offers a few tools to handle missing data.\n",
        " \n",
        "Let's try to fix the problem above. For example, we can decide that missing data should result in a zero, instead of `NaN`. We can replace all `NaN` values by a any value using the `fillna()` method:"
      ]
    },
    {
      "cell_type": "code",
      "metadata": {
        "scrolled": true,
        "id": "ksFYy_Op3Gqp",
        "colab_type": "code",
        "colab": {}
      },
      "source": [
        "(grades + bonus_points).fillna(0)"
      ],
      "execution_count": 0,
      "outputs": []
    },
    {
      "cell_type": "markdown",
      "metadata": {
        "id": "9atJXRiP3Gqq",
        "colab_type": "text"
      },
      "source": [
        "It's a bit unfair that we're setting grades to zero in September, though. Perhaps we should decide that missing grades are missing grades, but missing bonus points should be replaced by zeros:"
      ]
    },
    {
      "cell_type": "code",
      "metadata": {
        "id": "NzGDUgNm3Gqr",
        "colab_type": "code",
        "colab": {}
      },
      "source": [
        "fixed_bonus_points = bonus_points.fillna(0)\n",
        "fixed_bonus_points.insert(0, \"sep\", 0)\n",
        "fixed_bonus_points.loc[\"alice\"] = 0\n",
        "grades + fixed_bonus_points"
      ],
      "execution_count": 0,
      "outputs": []
    },
    {
      "cell_type": "markdown",
      "metadata": {
        "id": "l7DYnIyz3Gqs",
        "colab_type": "text"
      },
      "source": [
        "That's much better: although we made up some data, we have not been too unfair.\n",
        "\n",
        "Another way to handle missing data is to interpolate. Let's look at the `bonus_points` `DataFrame` again:"
      ]
    },
    {
      "cell_type": "code",
      "metadata": {
        "id": "yYUP-0FT3Gqt",
        "colab_type": "code",
        "colab": {}
      },
      "source": [
        "bonus_points"
      ],
      "execution_count": 0,
      "outputs": []
    },
    {
      "cell_type": "markdown",
      "metadata": {
        "id": "lSDw958G3Gqu",
        "colab_type": "text"
      },
      "source": [
        "Now let's call the `interpolate` method. By default, it interpolates vertically (`axis=0`), so let's tell it to interpolate horizontally (`axis=1`)."
      ]
    },
    {
      "cell_type": "code",
      "metadata": {
        "scrolled": false,
        "id": "tSECo2uX3Gqu",
        "colab_type": "code",
        "colab": {}
      },
      "source": [
        "bonus_points.interpolate(axis=1)"
      ],
      "execution_count": 0,
      "outputs": []
    },
    {
      "cell_type": "markdown",
      "metadata": {
        "id": "FAZolZbz3Gqv",
        "colab_type": "text"
      },
      "source": [
        "Bob had 0 bonus points in October, and 2 in December. When we interpolate for November, we get the mean: 1 bonus point. Colin had 1 bonus point in November, but we do not know how many bonus points he had in September, so we cannot interpolate, this is why there is still a missing value in October after interpolation. To fix this, we can set the September bonus points to 0 before interpolation."
      ]
    },
    {
      "cell_type": "code",
      "metadata": {
        "id": "iyvmBQV_3Gqv",
        "colab_type": "code",
        "colab": {}
      },
      "source": [
        "better_bonus_points = bonus_points.copy()\n",
        "better_bonus_points.insert(0, \"sep\", 0)\n",
        "better_bonus_points.loc[\"alice\"] = 0\n",
        "better_bonus_points = better_bonus_points.interpolate(axis=1)\n",
        "better_bonus_points"
      ],
      "execution_count": 0,
      "outputs": []
    },
    {
      "cell_type": "markdown",
      "metadata": {
        "id": "cPiiEQl23Gq1",
        "colab_type": "text"
      },
      "source": [
        "Great, now we have reasonable bonus points everywhere. Let's find out the final grades:"
      ]
    },
    {
      "cell_type": "code",
      "metadata": {
        "id": "TkB8RDyx3Gq8",
        "colab_type": "code",
        "colab": {}
      },
      "source": [
        "grades + better_bonus_points"
      ],
      "execution_count": 0,
      "outputs": []
    },
    {
      "cell_type": "markdown",
      "metadata": {
        "id": "H-F6RaNN3Gq9",
        "colab_type": "text"
      },
      "source": [
        "It is slightly annoying that the September column ends up on the right. This is because the `DataFrame`s we are adding do not have the exact same columns (the `grades` `DataFrame` is missing the `\"dec\"` column), so to make things predictable, pandas orders the final columns alphabetically. To fix this, we can simply add the missing column before adding:"
      ]
    },
    {
      "cell_type": "code",
      "metadata": {
        "scrolled": true,
        "id": "K0Mw_Fgo3GrA",
        "colab_type": "code",
        "colab": {}
      },
      "source": [
        "grades[\"dec\"] = np.nan\n",
        "final_grades = grades + better_bonus_points\n",
        "final_grades"
      ],
      "execution_count": 0,
      "outputs": []
    },
    {
      "cell_type": "markdown",
      "metadata": {
        "id": "TkA5ucCr3GrD",
        "colab_type": "text"
      },
      "source": [
        "There's not much we can do about December and Colin: it's bad enough that we are making up bonus points, but we can't reasonably make up grades (well I guess some teachers probably do). So let's call the `dropna()` method to get rid of rows that are full of `NaN`s:"
      ]
    },
    {
      "cell_type": "code",
      "metadata": {
        "id": "iLrPCNgR3GrD",
        "colab_type": "code",
        "colab": {}
      },
      "source": [
        "final_grades_clean = final_grades.dropna(how=\"all\")\n",
        "final_grades_clean"
      ],
      "execution_count": 0,
      "outputs": []
    },
    {
      "cell_type": "markdown",
      "metadata": {
        "id": "Botk6bUW3GrI",
        "colab_type": "text"
      },
      "source": [
        "Now let's remove columns that are full of `NaN`s by setting the `axis` argument to `1`:"
      ]
    },
    {
      "cell_type": "code",
      "metadata": {
        "id": "wnZW19Yb3GrI",
        "colab_type": "code",
        "colab": {}
      },
      "source": [
        "final_grades_clean = final_grades_clean.dropna(axis=1, how=\"all\")\n",
        "final_grades_clean"
      ],
      "execution_count": 0,
      "outputs": []
    },
    {
      "cell_type": "markdown",
      "metadata": {
        "id": "5OmoLAvV3GrK",
        "colab_type": "text"
      },
      "source": [
        "## Aggregating with `groupby`\n",
        "Similar to the SQL language, pandas allows grouping your data into groups to run calculations over each group.\n",
        "\n",
        "First, let's add some extra data about each person so we can group them, and let's go back to the `final_grades` `DataFrame` so we can see how `NaN` values are handled:"
      ]
    },
    {
      "cell_type": "code",
      "metadata": {
        "scrolled": true,
        "id": "8qrWYBNq3GrL",
        "colab_type": "code",
        "colab": {}
      },
      "source": [
        "final_grades[\"hobby\"] = [\"Biking\", \"Dancing\", np.nan, \"Dancing\", \"Biking\"]\n",
        "final_grades"
      ],
      "execution_count": 0,
      "outputs": []
    },
    {
      "cell_type": "markdown",
      "metadata": {
        "id": "b69LyG703GrM",
        "colab_type": "text"
      },
      "source": [
        "Now let's group data in this `DataFrame` by hobby:"
      ]
    },
    {
      "cell_type": "code",
      "metadata": {
        "id": "Sfa7sEgB3GrM",
        "colab_type": "code",
        "colab": {}
      },
      "source": [
        "grouped_grades = final_grades.groupby(\"hobby\")\n",
        "grouped_grades"
      ],
      "execution_count": 0,
      "outputs": []
    },
    {
      "cell_type": "markdown",
      "metadata": {
        "id": "1XswoLNw3GrO",
        "colab_type": "text"
      },
      "source": [
        "We are ready to compute the average grade per hobby:"
      ]
    },
    {
      "cell_type": "code",
      "metadata": {
        "id": "KDo0aoJq3GrP",
        "colab_type": "code",
        "colab": {}
      },
      "source": [
        "grouped_grades.mean()"
      ],
      "execution_count": 0,
      "outputs": []
    },
    {
      "cell_type": "markdown",
      "metadata": {
        "id": "jxFIA8RE3GrS",
        "colab_type": "text"
      },
      "source": [
        "That was easy! Note that the `NaN` values have simply been skipped when computing the means."
      ]
    },
    {
      "cell_type": "markdown",
      "metadata": {
        "id": "b-EH2xH63GrS",
        "colab_type": "text"
      },
      "source": [
        "## Pivot tables\n",
        "Pandas supports spreadsheet-like [pivot tables](https://en.wikipedia.org/wiki/Pivot_table) that allow quick data summarization. To illustrate this, let's create a simple `DataFrame`:"
      ]
    },
    {
      "cell_type": "code",
      "metadata": {
        "id": "MBnEPfB03GrT",
        "colab_type": "code",
        "colab": {}
      },
      "source": [
        "bonus_points"
      ],
      "execution_count": 0,
      "outputs": []
    },
    {
      "cell_type": "code",
      "metadata": {
        "id": "e069xmHj3GrV",
        "colab_type": "code",
        "colab": {}
      },
      "source": [
        "more_grades = final_grades_clean.stack().reset_index()\n",
        "more_grades.columns = [\"name\", \"month\", \"grade\"]\n",
        "more_grades[\"bonus\"] = [np.nan, np.nan, np.nan, 0, np.nan, 2, 3, 3, 0, 0, 1, 0]\n",
        "more_grades"
      ],
      "execution_count": 0,
      "outputs": []
    },
    {
      "cell_type": "markdown",
      "metadata": {
        "id": "DtxOry2X3GrW",
        "colab_type": "text"
      },
      "source": [
        "Now we can call the `pd.pivot_table()` function for this `DataFrame`, asking to group by the `name` column. By default, `pivot_table()` computes the mean of each numeric column:"
      ]
    },
    {
      "cell_type": "code",
      "metadata": {
        "id": "h8tCwpwv3GrY",
        "colab_type": "code",
        "colab": {}
      },
      "source": [
        "pd.pivot_table(more_grades, index=\"name\")"
      ],
      "execution_count": 0,
      "outputs": []
    },
    {
      "cell_type": "markdown",
      "metadata": {
        "id": "RZAqZOih3GrZ",
        "colab_type": "text"
      },
      "source": [
        "We can change the aggregation function by setting the `aggfunc` argument, and we can also specify the list of columns whose values will be aggregated:"
      ]
    },
    {
      "cell_type": "code",
      "metadata": {
        "id": "-3TuHtX33Gra",
        "colab_type": "code",
        "colab": {}
      },
      "source": [
        "pd.pivot_table(more_grades, index=\"name\", values=[\"grade\",\"bonus\"], aggfunc=np.max)"
      ],
      "execution_count": 0,
      "outputs": []
    },
    {
      "cell_type": "markdown",
      "metadata": {
        "id": "QISz9JxZ3Grb",
        "colab_type": "text"
      },
      "source": [
        "We can also specify the `columns` to aggregate over horizontally, and request the grand totals for each row and column by setting `margins=True`:"
      ]
    },
    {
      "cell_type": "code",
      "metadata": {
        "id": "AXVg264I3Grb",
        "colab_type": "code",
        "colab": {}
      },
      "source": [
        "pd.pivot_table(more_grades, index=\"name\", values=\"grade\", columns=\"month\", margins=True)"
      ],
      "execution_count": 0,
      "outputs": []
    },
    {
      "cell_type": "markdown",
      "metadata": {
        "id": "5_tTaW1a3Grc",
        "colab_type": "text"
      },
      "source": [
        "Finally, we can specify multiple index or column names, and pandas will create multi-level indices:"
      ]
    },
    {
      "cell_type": "code",
      "metadata": {
        "id": "VzRI6mRC3Grc",
        "colab_type": "code",
        "colab": {}
      },
      "source": [
        "pd.pivot_table(more_grades, index=(\"name\", \"month\"), margins=True)"
      ],
      "execution_count": 0,
      "outputs": []
    },
    {
      "cell_type": "markdown",
      "metadata": {
        "id": "2QUiVXMv3Grd",
        "colab_type": "text"
      },
      "source": [
        "## Overview functions\n",
        "When dealing with large `DataFrames`, it is useful to get a quick overview of its content. Pandas offers a few functions for this. First, let's create a large `DataFrame` with a mix of numeric values, missing values and text values. Notice how Jupyter displays only the corners of the `DataFrame`:"
      ]
    },
    {
      "cell_type": "code",
      "metadata": {
        "scrolled": false,
        "id": "eXzes0vf3Gre",
        "colab_type": "code",
        "colab": {}
      },
      "source": [
        "much_data = np.fromfunction(lambda x,y: (x+y*y)%17*11, (10000, 26))\n",
        "large_df = pd.DataFrame(much_data, columns=list(\"ABCDEFGHIJKLMNOPQRSTUVWXYZ\"))\n",
        "large_df[large_df % 16 == 0] = np.nan\n",
        "large_df.insert(3,\"some_text\", \"Blabla\")\n",
        "large_df"
      ],
      "execution_count": 0,
      "outputs": []
    },
    {
      "cell_type": "markdown",
      "metadata": {
        "id": "XjKU9F9C3Grf",
        "colab_type": "text"
      },
      "source": [
        "The `head()` method returns the top 5 rows:"
      ]
    },
    {
      "cell_type": "code",
      "metadata": {
        "scrolled": false,
        "id": "RVbU4nDR3Grf",
        "colab_type": "code",
        "colab": {}
      },
      "source": [
        "large_df.head()"
      ],
      "execution_count": 0,
      "outputs": []
    },
    {
      "cell_type": "markdown",
      "metadata": {
        "id": "RDnRZkbi3Grg",
        "colab_type": "text"
      },
      "source": [
        "Of course there's also a `tail()` function to view the bottom 5 rows. You can pass the number of rows you want:"
      ]
    },
    {
      "cell_type": "code",
      "metadata": {
        "id": "NTs2WUrY3Grg",
        "colab_type": "code",
        "colab": {}
      },
      "source": [
        "large_df.tail(n=2)"
      ],
      "execution_count": 0,
      "outputs": []
    },
    {
      "cell_type": "markdown",
      "metadata": {
        "id": "n2X42lR13Grh",
        "colab_type": "text"
      },
      "source": [
        "The `info()` method prints out a summary of each columns contents:"
      ]
    },
    {
      "cell_type": "code",
      "metadata": {
        "scrolled": false,
        "id": "ZNeYsKFJ3Grh",
        "colab_type": "code",
        "colab": {}
      },
      "source": [
        "large_df.info()"
      ],
      "execution_count": 0,
      "outputs": []
    },
    {
      "cell_type": "markdown",
      "metadata": {
        "id": "88SPVN8I3Gri",
        "colab_type": "text"
      },
      "source": [
        "Finally, the `describe()` method gives a nice overview of the main aggregated values over each column:\n",
        "* `count`: number of non-null (not NaN) values\n",
        "* `mean`: mean of non-null values\n",
        "* `std`: [standard deviation](https://en.wikipedia.org/wiki/Standard_deviation) of non-null values\n",
        "* `min`: minimum of non-null values\n",
        "* `25%`, `50%`, `75%`: 25th, 50th and 75th [percentile](https://en.wikipedia.org/wiki/Percentile) of non-null values\n",
        "* `max`: maximum of non-null values"
      ]
    },
    {
      "cell_type": "code",
      "metadata": {
        "scrolled": false,
        "id": "0nFa1Ra93Grk",
        "colab_type": "code",
        "colab": {}
      },
      "source": [
        "large_df.describe()"
      ],
      "execution_count": 0,
      "outputs": []
    },
    {
      "cell_type": "markdown",
      "metadata": {
        "id": "BBJZdY5v3Grl",
        "colab_type": "text"
      },
      "source": [
        "# Saving & loading\n",
        "Pandas can save `DataFrame`s to various backends, including file formats such as CSV, Excel, JSON, HTML and HDF5, or to a SQL database. Let's create a `DataFrame` to demonstrate this:"
      ]
    },
    {
      "cell_type": "code",
      "metadata": {
        "id": "c1GaL7fD3Grm",
        "colab_type": "code",
        "colab": {}
      },
      "source": [
        "my_df = pd.DataFrame(\n",
        "    [[\"Biking\", 68.5, 1985, np.nan], [\"Dancing\", 83.1, 1984, 3]], \n",
        "    columns=[\"hobby\",\"weight\",\"birthyear\",\"children\"],\n",
        "    index=[\"alice\", \"bob\"]\n",
        ")\n",
        "my_df"
      ],
      "execution_count": 0,
      "outputs": []
    },
    {
      "cell_type": "markdown",
      "metadata": {
        "id": "ilGDn_V03Gro",
        "colab_type": "text"
      },
      "source": [
        "## Saving\n",
        "Let's save it to CSV, HTML and JSON:"
      ]
    },
    {
      "cell_type": "code",
      "metadata": {
        "id": "_vksyYyt3Gro",
        "colab_type": "code",
        "colab": {}
      },
      "source": [
        "my_df.to_csv(\"my_df.csv\")\n",
        "my_df.to_html(\"my_df.html\")\n",
        "my_df.to_json(\"my_df.json\")"
      ],
      "execution_count": 0,
      "outputs": []
    },
    {
      "cell_type": "markdown",
      "metadata": {
        "id": "c251V_-A3Grp",
        "colab_type": "text"
      },
      "source": [
        "Done! Let's take a peek at what was saved:"
      ]
    },
    {
      "cell_type": "code",
      "metadata": {
        "id": "-8vOE_mM3Grp",
        "colab_type": "code",
        "colab": {}
      },
      "source": [
        "for filename in (\"my_df.csv\", \"my_df.html\", \"my_df.json\"):\n",
        "    print(\"#\", filename)\n",
        "    with open(filename, \"rt\") as f:\n",
        "        print(f.read())\n",
        "        print()\n"
      ],
      "execution_count": 0,
      "outputs": []
    },
    {
      "cell_type": "markdown",
      "metadata": {
        "id": "RS6OGUjO3Grr",
        "colab_type": "text"
      },
      "source": [
        "Note that the index is saved as the first column (with no name) in a CSV file, as `<th>` tags in HTML and as keys in JSON.\n",
        "\n",
        "Saving to other formats works very similarly, but some formats require extra libraries to be installed. For example, saving to Excel requires the openpyxl library:"
      ]
    },
    {
      "cell_type": "code",
      "metadata": {
        "id": "QBaEbRgN3Grs",
        "colab_type": "code",
        "colab": {}
      },
      "source": [
        "try:\n",
        "    my_df.to_excel(\"my_df.xlsx\", sheet_name='People')\n",
        "except ImportError as e:\n",
        "    print(e)"
      ],
      "execution_count": 0,
      "outputs": []
    },
    {
      "cell_type": "markdown",
      "metadata": {
        "id": "-5KzvVpW3Grv",
        "colab_type": "text"
      },
      "source": [
        "## Loading\n",
        "Now let's load our CSV file back into a `DataFrame`:"
      ]
    },
    {
      "cell_type": "code",
      "metadata": {
        "id": "-PJ6lYj53Grv",
        "colab_type": "code",
        "colab": {}
      },
      "source": [
        "my_df_loaded = pd.read_csv(\"my_df.csv\", index_col=0)\n",
        "my_df_loaded"
      ],
      "execution_count": 0,
      "outputs": []
    },
    {
      "cell_type": "markdown",
      "metadata": {
        "id": "6c4tqlhB3Grw",
        "colab_type": "text"
      },
      "source": [
        "As you might guess, there are similar `read_json`, `read_html`, `read_excel` functions as well.  We can also read data straight from the Internet. For example, let's load all U.S. cities from [simplemaps.com](http://simplemaps.com/):"
      ]
    },
    {
      "cell_type": "code",
      "metadata": {
        "id": "ijwFYH7f3Grw",
        "colab_type": "code",
        "colab": {}
      },
      "source": [
        "cities = None\n",
        "try:\n",
        "    #csv_url = \"http://simplemaps.com/files/cities.csv\" \n",
        "    csv_url = \"https://raw.githubusercontent.com/datasets/world-cities/master/data/world-cities.csv\" \n",
        "    cities = pd.read_csv(csv_url, index_col=0)\n",
        "    cities = cities.head()\n",
        "except IOError as e:\n",
        "    print(e)\n",
        "cities"
      ],
      "execution_count": 0,
      "outputs": []
    },
    {
      "cell_type": "markdown",
      "metadata": {
        "id": "casCWBCy3Grx",
        "colab_type": "text"
      },
      "source": [
        "There are more options available, in particular regarding datetime format. Check out the [documentation](http://pandas.pydata.org/pandas-docs/stable/io.html) for more details."
      ]
    },
    {
      "cell_type": "markdown",
      "metadata": {
        "id": "sDxriLFX3Grx",
        "colab_type": "text"
      },
      "source": [
        "# Combining `DataFrame`s\n",
        "\n",
        "## SQL-like joins\n",
        "One powerful feature of pandas is it's ability to perform SQL-like joins on `DataFrame`s. Various types of joins are supported: inner joins, left/right outer joins and full joins. To illustrate this, let's start by creating a couple simple `DataFrame`s:"
      ]
    },
    {
      "cell_type": "code",
      "metadata": {
        "id": "ZBk__2CP3Gry",
        "colab_type": "code",
        "colab": {}
      },
      "source": [
        "city_loc = pd.DataFrame(\n",
        "    [\n",
        "        [\"CA\", \"San Francisco\", 37.781334, -122.416728],\n",
        "        [\"NY\", \"New York\", 40.705649, -74.008344],\n",
        "        [\"FL\", \"Miami\", 25.791100, -80.320733],\n",
        "        [\"OH\", \"Cleveland\", 41.473508, -81.739791],\n",
        "        [\"UT\", \"Salt Lake City\", 40.755851, -111.896657]\n",
        "    ], columns=[\"state\", \"city\", \"lat\", \"lng\"])\n",
        "city_loc"
      ],
      "execution_count": 0,
      "outputs": []
    },
    {
      "cell_type": "code",
      "metadata": {
        "id": "_YsFaVit3Grz",
        "colab_type": "code",
        "colab": {}
      },
      "source": [
        "city_pop = pd.DataFrame(\n",
        "    [\n",
        "        [808976, \"San Francisco\", \"California\"],\n",
        "        [8363710, \"New York\", \"New-York\"],\n",
        "        [413201, \"Miami\", \"Florida\"],\n",
        "        [2242193, \"Houston\", \"Texas\"]\n",
        "    ], index=[3,4,5,6], columns=[\"population\", \"city\", \"state\"])\n",
        "city_pop"
      ],
      "execution_count": 0,
      "outputs": []
    },
    {
      "cell_type": "markdown",
      "metadata": {
        "id": "pcZJXj6x3Gr0",
        "colab_type": "text"
      },
      "source": [
        "Now let's join these `DataFrame`s using the `merge()` function:"
      ]
    },
    {
      "cell_type": "code",
      "metadata": {
        "id": "7IYJygo23Gr0",
        "colab_type": "code",
        "colab": {}
      },
      "source": [
        "pd.merge(left=city_loc, right=city_pop, on=\"city\")"
      ],
      "execution_count": 0,
      "outputs": []
    },
    {
      "cell_type": "markdown",
      "metadata": {
        "id": "S6S1Jmfk3Gr1",
        "colab_type": "text"
      },
      "source": [
        "Note that both `DataFrame`s have a column named `state`, so in the result they got renamed to `state_x` and `state_y`.\n",
        "\n",
        "Also, note that Cleveland, Salt Lake City and Houston were dropped because they don't exist in *both* `DataFrame`s. This is the equivalent of a SQL `INNER JOIN`. If you want a `FULL OUTER JOIN`, where no city gets dropped and `NaN` values are added, you must specify `how=\"outer\"`:"
      ]
    },
    {
      "cell_type": "code",
      "metadata": {
        "id": "F22w_C4s3Gr1",
        "colab_type": "code",
        "colab": {}
      },
      "source": [
        "all_cities = pd.merge(left=city_loc, right=city_pop, on=\"city\", how=\"outer\")\n",
        "all_cities"
      ],
      "execution_count": 0,
      "outputs": []
    },
    {
      "cell_type": "markdown",
      "metadata": {
        "id": "qU7KN-_c3Gr3",
        "colab_type": "text"
      },
      "source": [
        "Of course `LEFT OUTER JOIN` is also available by setting `how=\"left\"`: only the cities present in the left `DataFrame` end up in the result. Similarly, with `how=\"right\"` only cities in the right `DataFrame` appear in the result. For example:"
      ]
    },
    {
      "cell_type": "code",
      "metadata": {
        "id": "pvJLAl6t3Gr3",
        "colab_type": "code",
        "colab": {}
      },
      "source": [
        "pd.merge(left=city_loc, right=city_pop, on=\"city\", how=\"right\")"
      ],
      "execution_count": 0,
      "outputs": []
    },
    {
      "cell_type": "markdown",
      "metadata": {
        "id": "sBX6Kc883Gr4",
        "colab_type": "text"
      },
      "source": [
        "If the key to join on is actually in one (or both) `DataFrame`'s index, you must use `left_index=True` and/or `right_index=True`. If the key column names differ, you must use `left_on` and `right_on`. For example:"
      ]
    },
    {
      "cell_type": "code",
      "metadata": {
        "id": "nqKCsCzM3Gr4",
        "colab_type": "code",
        "colab": {}
      },
      "source": [
        "city_pop2 = city_pop.copy()\n",
        "city_pop2.columns = [\"population\", \"name\", \"state\"]\n",
        "pd.merge(left=city_loc, right=city_pop2, left_on=\"city\", right_on=\"name\")"
      ],
      "execution_count": 0,
      "outputs": []
    },
    {
      "cell_type": "markdown",
      "metadata": {
        "id": "-nYJWP863Gr5",
        "colab_type": "text"
      },
      "source": [
        "## Concatenation\n",
        "Rather than joining `DataFrame`s, we may just want to concatenate them. That's what `concat()` is for:"
      ]
    },
    {
      "cell_type": "code",
      "metadata": {
        "id": "QLbPJD8j3Gr5",
        "colab_type": "code",
        "colab": {}
      },
      "source": [
        "result_concat = pd.concat([city_loc, city_pop])\n",
        "result_concat"
      ],
      "execution_count": 0,
      "outputs": []
    },
    {
      "cell_type": "markdown",
      "metadata": {
        "id": "GHNd5C3t3Gr6",
        "colab_type": "text"
      },
      "source": [
        "Note that this operation aligned the data horizontally (by columns) but not vertically (by rows). In this example, we end up with multiple rows having the same index (eg. 3). Pandas handles this rather gracefully:"
      ]
    },
    {
      "cell_type": "code",
      "metadata": {
        "id": "-I1cGIha3Gr6",
        "colab_type": "code",
        "colab": {}
      },
      "source": [
        "result_concat.loc[3]"
      ],
      "execution_count": 0,
      "outputs": []
    },
    {
      "cell_type": "markdown",
      "metadata": {
        "id": "5Q18gm5T3Gr7",
        "colab_type": "text"
      },
      "source": [
        "Or you can tell pandas to just ignore the index:"
      ]
    },
    {
      "cell_type": "code",
      "metadata": {
        "id": "LlU0uSMk3Gr8",
        "colab_type": "code",
        "colab": {}
      },
      "source": [
        "pd.concat([city_loc, city_pop], ignore_index=True)"
      ],
      "execution_count": 0,
      "outputs": []
    },
    {
      "cell_type": "markdown",
      "metadata": {
        "id": "LHIBYcAb3Gr8",
        "colab_type": "text"
      },
      "source": [
        "Notice that when a column does not exist in a `DataFrame`, it acts as if it was filled with `NaN` values. If we set `join=\"inner\"`, then only columns that exist in *both* `DataFrame`s are returned:"
      ]
    },
    {
      "cell_type": "code",
      "metadata": {
        "id": "PtrQsoGH3Gr9",
        "colab_type": "code",
        "colab": {}
      },
      "source": [
        "pd.concat([city_loc, city_pop], join=\"inner\")"
      ],
      "execution_count": 0,
      "outputs": []
    },
    {
      "cell_type": "markdown",
      "metadata": {
        "id": "xlJdOh6U3Gr-",
        "colab_type": "text"
      },
      "source": [
        "You can concatenate `DataFrame`s horizontally instead of vertically by setting `axis=1`:"
      ]
    },
    {
      "cell_type": "code",
      "metadata": {
        "scrolled": true,
        "id": "JCy6NaPw3Gr-",
        "colab_type": "code",
        "colab": {}
      },
      "source": [
        "pd.concat([city_loc, city_pop], axis=1)"
      ],
      "execution_count": 0,
      "outputs": []
    },
    {
      "cell_type": "markdown",
      "metadata": {
        "id": "KG6D2BaV3Gr_",
        "colab_type": "text"
      },
      "source": [
        "In this case it really does not make much sense because the indices do not align well (eg. Cleveland and San Francisco end up on the same row, because they shared the index label `3`). So let's reindex the `DataFrame`s by city name before concatenating:"
      ]
    },
    {
      "cell_type": "code",
      "metadata": {
        "scrolled": true,
        "id": "rkjLUfvV3GsB",
        "colab_type": "code",
        "colab": {}
      },
      "source": [
        "pd.concat([city_loc.set_index(\"city\"), city_pop.set_index(\"city\")], axis=1)"
      ],
      "execution_count": 0,
      "outputs": []
    },
    {
      "cell_type": "markdown",
      "metadata": {
        "id": "mPVaXRj83GsC",
        "colab_type": "text"
      },
      "source": [
        "This looks a lot like a `FULL OUTER JOIN`, except that the `state` columns were not renamed to `state_x` and `state_y`, and the `city` column is now the index."
      ]
    },
    {
      "cell_type": "markdown",
      "metadata": {
        "id": "4VPCbLM83GsC",
        "colab_type": "text"
      },
      "source": [
        "The `append()` method is a useful shorthand for concatenating `DataFrame`s vertically:"
      ]
    },
    {
      "cell_type": "code",
      "metadata": {
        "id": "E8jL8bV_3GsC",
        "colab_type": "code",
        "colab": {}
      },
      "source": [
        "city_loc.append(city_pop)"
      ],
      "execution_count": 0,
      "outputs": []
    },
    {
      "cell_type": "markdown",
      "metadata": {
        "id": "-z1RfPF73GsD",
        "colab_type": "text"
      },
      "source": [
        "As always in pandas, the `append()` method does *not* actually modify `city_loc`: it works on a copy and returns the modified copy."
      ]
    },
    {
      "cell_type": "markdown",
      "metadata": {
        "id": "53coZQo83GsD",
        "colab_type": "text"
      },
      "source": [
        "# Categories\n",
        "It is quite frequent to have values that represent categories, for example `1` for female and `2` for male, or `\"A\"` for Good, `\"B\"` for Average, `\"C\"` for Bad. These categorical values can be hard to read and cumbersome to handle, but fortunately pandas makes it easy. To illustrate this, let's take the `city_pop` `DataFrame` we created earlier, and add a column that represents a category:"
      ]
    },
    {
      "cell_type": "code",
      "metadata": {
        "id": "Yo24ccrj3GsD",
        "colab_type": "code",
        "colab": {}
      },
      "source": [
        "city_eco = city_pop.copy()\n",
        "city_eco[\"eco_code\"] = [17, 17, 34, 20]\n",
        "city_eco"
      ],
      "execution_count": 0,
      "outputs": []
    },
    {
      "cell_type": "markdown",
      "metadata": {
        "id": "_1o8_lCE3GsF",
        "colab_type": "text"
      },
      "source": [
        "Right now the `eco_code` column is full of apparently meaningless codes. Let's fix that. First, we will create a new categorical column based on the `eco_code`s:"
      ]
    },
    {
      "cell_type": "code",
      "metadata": {
        "id": "IG_3hgnd3GsG",
        "colab_type": "code",
        "colab": {}
      },
      "source": [
        "city_eco[\"economy\"] = city_eco[\"eco_code\"].astype('category')\n",
        "city_eco[\"economy\"].cat.categories"
      ],
      "execution_count": 0,
      "outputs": []
    },
    {
      "cell_type": "markdown",
      "metadata": {
        "id": "QmqgykiQ3GsG",
        "colab_type": "text"
      },
      "source": [
        "Now we can give each category a meaningful name:"
      ]
    },
    {
      "cell_type": "code",
      "metadata": {
        "id": "iTeDZaXx3GsH",
        "colab_type": "code",
        "colab": {}
      },
      "source": [
        "city_eco[\"economy\"].cat.categories = [\"Finance\", \"Energy\", \"Tourism\"]\n",
        "city_eco"
      ],
      "execution_count": 0,
      "outputs": []
    },
    {
      "cell_type": "markdown",
      "metadata": {
        "id": "HmMwU4JV3GsH",
        "colab_type": "text"
      },
      "source": [
        "Note that categorical values are sorted according to their categorical order, *not* their alphabetical order:"
      ]
    },
    {
      "cell_type": "code",
      "metadata": {
        "id": "uIJrCToU3GsI",
        "colab_type": "code",
        "colab": {}
      },
      "source": [
        "city_eco.sort_values(by=\"economy\", ascending=False)"
      ],
      "execution_count": 0,
      "outputs": []
    },
    {
      "cell_type": "markdown",
      "metadata": {
        "collapsed": true,
        "id": "tBaDaVIt3GsI",
        "colab_type": "text"
      },
      "source": [
        "# What next?\n",
        "As you probably noticed by now, pandas is quite a large library with *many* features. Although we went through the most important features, there is still a lot to discover. Probably the best way to learn more is to get your hands dirty with some real-life data. It is also a good idea to go through pandas' excellent [documentation](http://pandas.pydata.org/pandas-docs/stable/index.html), in particular the [Cookbook](http://pandas.pydata.org/pandas-docs/stable/cookbook.html)."
      ]
    }
  ]
}