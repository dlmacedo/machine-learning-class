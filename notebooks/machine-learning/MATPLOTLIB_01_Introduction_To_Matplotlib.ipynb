{
  "nbformat": 4,
  "nbformat_minor": 0,
  "metadata": {
    "anaconda-cloud": {},
    "kernelspec": {
      "display_name": "Python 3",
      "language": "python",
      "name": "python3"
    },
    "language_info": {
      "codemirror_mode": {
        "name": "ipython",
        "version": 3
      },
      "file_extension": ".py",
      "mimetype": "text/x-python",
      "name": "python",
      "nbconvert_exporter": "python",
      "pygments_lexer": "ipython3",
      "version": "3.5.1"
    },
    "colab": {
      "name": "MATPLOTLIB_01_Introduction-To-Matplotlib.ipynb",
      "provenance": [],
      "include_colab_link": true
    }
  },
  "cells": [
    {
      "cell_type": "markdown",
      "metadata": {
        "id": "view-in-github",
        "colab_type": "text"
      },
      "source": [
        "<a href=\"https://colab.research.google.com/github/dlmacedo/maxtrack/blob/master/notebooks/machine-learning/MATPLOTLIB_01_Introduction_To_Matplotlib.ipynb\" target=\"_parent\"><img src=\"https://colab.research.google.com/assets/colab-badge.svg\" alt=\"Open In Colab\"/></a>"
      ]
    },
    {
      "cell_type": "markdown",
      "metadata": {
        "id": "yNYypOZRFxnz",
        "colab_type": "text"
      },
      "source": [
        "# Visualization with Matplotlib"
      ]
    },
    {
      "cell_type": "markdown",
      "metadata": {
        "id": "Mtgv4JDQFxn0",
        "colab_type": "text"
      },
      "source": [
        "Matplotlib is a multi-platform data visualization library built on NumPy arrays, and designed to work with the broader SciPy stack. This cross-platform, everything-to-everyone approach has been one of the great strengths of Matplotlib. It has led to a large user base, which in turn has led to an active developer base and Matplotlib’s powerful tools and ubiquity within the scientific Python world.\n"
      ]
    },
    {
      "cell_type": "markdown",
      "metadata": {
        "id": "k4sZT6SDFxn1",
        "colab_type": "text"
      },
      "source": [
        "## General Matplotlib Tips\n",
        "\n",
        "Before we dive into the details of creating visualizations with Matplotlib, there are a few useful things you should know about using the package."
      ]
    },
    {
      "cell_type": "markdown",
      "metadata": {
        "id": "IMBqJbyYFxn2",
        "colab_type": "text"
      },
      "source": [
        "### Importing Matplotlib\n",
        "\n",
        "Just as we use the ``np`` shorthand for NumPy and the ``pd`` shorthand for Pandas, we will use some standard shorthands for Matplotlib imports:"
      ]
    },
    {
      "cell_type": "code",
      "metadata": {
        "id": "l6sJnYDqFxn4",
        "colab_type": "code",
        "colab": {}
      },
      "source": [
        "import matplotlib as mpl\n",
        "import matplotlib.pyplot as plt"
      ],
      "execution_count": 0,
      "outputs": []
    },
    {
      "cell_type": "markdown",
      "metadata": {
        "id": "vnUq6oCaFxn8",
        "colab_type": "text"
      },
      "source": [
        "The ``plt`` interface is what we will use most often, as we shall see throughout this chapter."
      ]
    },
    {
      "cell_type": "markdown",
      "metadata": {
        "id": "eEUZT0hlFxn9",
        "colab_type": "text"
      },
      "source": [
        "### Setting Styles\n",
        "\n",
        "We will use the ``plt.style`` directive to choose appropriate aesthetic styles for our figures.\n",
        "Here we will set the ``classic`` style, which ensures that the plots we create use the classic Matplotlib style:"
      ]
    },
    {
      "cell_type": "code",
      "metadata": {
        "id": "88We9ItoFxn-",
        "colab_type": "code",
        "colab": {}
      },
      "source": [
        "plt.style.use('classic')"
      ],
      "execution_count": 0,
      "outputs": []
    },
    {
      "cell_type": "markdown",
      "metadata": {
        "id": "oZDRAN1-FxoB",
        "colab_type": "text"
      },
      "source": [
        "Throughout this section, we will adjust this style as needed.\n",
        "Note that the stylesheets used here are supported as of Matplotlib version 1.5; if you are using an earlier version of Matplotlib, only the default style is available."
      ]
    },
    {
      "cell_type": "markdown",
      "metadata": {
        "id": "ihPzqoB6FxoC",
        "colab_type": "text"
      },
      "source": [
        "### ``show()`` or No ``show()``? How to Display Your Plots"
      ]
    },
    {
      "cell_type": "markdown",
      "metadata": {
        "id": "1Yoa_58tFxoD",
        "colab_type": "text"
      },
      "source": [
        "A visualization you can't see won't be of much use, but just how you view your Matplotlib plots depends on the context.\n",
        "The best use of Matplotlib differs depending on how you are using it; roughly, the three applicable contexts are using Matplotlib in a script, in an IPython terminal, or in an IPython notebook."
      ]
    },
    {
      "cell_type": "markdown",
      "metadata": {
        "id": "VslhP43nFxoE",
        "colab_type": "text"
      },
      "source": [
        "#### Plotting from a script\n",
        "\n",
        "If you are using Matplotlib from within a script, the function ``plt.show()`` is your friend.\n",
        "``plt.show()`` starts an event loop, looks for all currently active figure objects, and opens one or more interactive windows that display your figure or figures.\n",
        "\n",
        "So, for example, you may have a file called *myplot.py* containing the following:\n",
        "\n",
        "```python\n",
        "# ------- file: myplot.py ------\n",
        "import matplotlib.pyplot as plt\n",
        "import numpy as np\n",
        "\n",
        "x = np.linspace(0, 10, 100)\n",
        "\n",
        "plt.plot(x, np.sin(x))\n",
        "plt.plot(x, np.cos(x))\n",
        "\n",
        "plt.show()\n",
        "```\n",
        "\n",
        "You can then run this script from the command-line prompt, which will result in a window opening with your figure displayed:\n",
        "\n",
        "```\n",
        "$ python myplot.py\n",
        "```\n",
        "\n",
        "The ``plt.show()`` command does a lot under the hood, as it must interact with your system's interactive graphical backend.\n",
        "The details of this operation can vary greatly from system to system and even installation to installation, but matplotlib does its best to hide all these details from you.\n",
        "\n",
        "One thing to be aware of: the ``plt.show()`` command should be used *only once* per Python session, and is most often seen at the very end of the script.\n",
        "Multiple ``show()`` commands can lead to unpredictable backend-dependent behavior, and should mostly be avoided."
      ]
    },
    {
      "cell_type": "markdown",
      "metadata": {
        "id": "mu-F0NhtFxoF",
        "colab_type": "text"
      },
      "source": [
        "#### Plotting from an IPython shell\n",
        "\n",
        "IPython is built to work well with Matplotlib if you specify Matplotlib mode.\n",
        "To enable this mode, you can use the ``%matplotlib`` magic command after starting ``ipython``:\n",
        "\n",
        "```ipython\n",
        "In [1]: %matplotlib\n",
        "Using matplotlib backend: TkAgg\n",
        "\n",
        "In [2]: import matplotlib.pyplot as plt\n",
        "```\n",
        "\n",
        "At this point, any ``plt`` plot command will cause a figure window to open, and further commands can be run to update the plot.\n",
        "Some changes (such as modifying properties of lines that are already drawn) will not draw automatically: to force an update, use ``plt.draw()``.\n",
        "Using ``plt.show()`` in Matplotlib mode is not required."
      ]
    },
    {
      "cell_type": "markdown",
      "metadata": {
        "id": "fzMWCXyvFxoG",
        "colab_type": "text"
      },
      "source": [
        "#### Plotting from an IPython notebook\n",
        "\n",
        "The IPython notebook is a browser-based interactive data analysis tool that can combine narrative, code, graphics, HTML elements, and much more into a single executable document.\n",
        "\n",
        "Plotting interactively within an IPython notebook can be done with the ``%matplotlib`` command, and works in a similar way to the IPython shell.\n",
        "In the IPython notebook, you also have the option of embedding graphics directly in the notebook, with two possible options:\n",
        "\n",
        "- ``%matplotlib notebook`` will lead to *interactive* plots embedded within the notebook\n",
        "- ``%matplotlib inline`` will lead to *static* images of your plot embedded in the notebook\n",
        "\n",
        "For this book, we will generally opt for ``%matplotlib inline``:"
      ]
    },
    {
      "cell_type": "code",
      "metadata": {
        "id": "FW3YvKEDFxoH",
        "colab_type": "code",
        "colab": {}
      },
      "source": [
        "%matplotlib inline"
      ],
      "execution_count": 0,
      "outputs": []
    },
    {
      "cell_type": "markdown",
      "metadata": {
        "id": "21i5Y4eGFxoK",
        "colab_type": "text"
      },
      "source": [
        "After running this command (it needs to be done only once per kernel/session), any cell within the notebook that creates a plot will embed a PNG image of the resulting graphic:"
      ]
    },
    {
      "cell_type": "code",
      "metadata": {
        "id": "BlQyaoznFxoL",
        "colab_type": "code",
        "colab": {}
      },
      "source": [
        "import numpy as np\n",
        "x = np.linspace(0, 10, 100)\n",
        "\n",
        "fig = plt.figure()\n",
        "plt.plot(x, np.sin(x), '-')\n",
        "plt.plot(x, np.cos(x), '--');"
      ],
      "execution_count": 0,
      "outputs": []
    },
    {
      "cell_type": "markdown",
      "metadata": {
        "id": "yhjbY1opFxoP",
        "colab_type": "text"
      },
      "source": [
        "### Saving Figures to File\n",
        "\n",
        "One nice feature of Matplotlib is the ability to save figures in a wide variety of formats.\n",
        "Saving a figure can be done using the ``savefig()`` command.\n",
        "For example, to save the previous figure as a PNG file, you can run this:"
      ]
    },
    {
      "cell_type": "code",
      "metadata": {
        "id": "Hqlpx5yWFxoQ",
        "colab_type": "code",
        "colab": {}
      },
      "source": [
        "fig.savefig('my_figure.png')"
      ],
      "execution_count": 0,
      "outputs": []
    },
    {
      "cell_type": "markdown",
      "metadata": {
        "id": "c0yIFgZmFxoT",
        "colab_type": "text"
      },
      "source": [
        "We now have a file called ``my_figure.png`` in the current working directory:"
      ]
    },
    {
      "cell_type": "code",
      "metadata": {
        "id": "ebqCDxyJFxoU",
        "colab_type": "code",
        "colab": {}
      },
      "source": [
        "!ls -lh my_figure.png"
      ],
      "execution_count": 0,
      "outputs": []
    },
    {
      "cell_type": "markdown",
      "metadata": {
        "id": "TmZxWhdFFxoX",
        "colab_type": "text"
      },
      "source": [
        "To confirm that it contains what we think it contains, let's use the IPython ``Image`` object to display the contents of this file:"
      ]
    },
    {
      "cell_type": "code",
      "metadata": {
        "id": "Ze2jENbdFxoY",
        "colab_type": "code",
        "colab": {}
      },
      "source": [
        "from IPython.display import Image\n",
        "Image('my_figure.png')"
      ],
      "execution_count": 0,
      "outputs": []
    },
    {
      "cell_type": "markdown",
      "metadata": {
        "id": "mVa6dwp_Fxob",
        "colab_type": "text"
      },
      "source": [
        "In ``savefig()``, the file format is inferred from the extension of the given filename.\n",
        "Depending on what backends you have installed, many different file formats are available.\n",
        "The list of supported file types can be found for your system by using the following method of the figure canvas object:"
      ]
    },
    {
      "cell_type": "code",
      "metadata": {
        "id": "JUGlX8zeFxoc",
        "colab_type": "code",
        "colab": {}
      },
      "source": [
        "fig.canvas.get_supported_filetypes()"
      ],
      "execution_count": 0,
      "outputs": []
    },
    {
      "cell_type": "markdown",
      "metadata": {
        "id": "UNtZOEfXFxog",
        "colab_type": "text"
      },
      "source": [
        "Note that when saving your figure, it's not necessary to use ``plt.show()`` or related commands discussed earlier."
      ]
    },
    {
      "cell_type": "markdown",
      "metadata": {
        "id": "CP9vZ3kqFxoh",
        "colab_type": "text"
      },
      "source": [
        "## Two Interfaces for the Price of One\n",
        "\n",
        "A potentially confusing feature of Matplotlib is its dual interfaces: a convenient MATLAB-style state-based interface, and a more powerful object-oriented interface. We'll quickly highlight the differences between the two here."
      ]
    },
    {
      "cell_type": "markdown",
      "metadata": {
        "id": "0DrVYMywFxoi",
        "colab_type": "text"
      },
      "source": [
        "#### MATLAB-style Interface\n",
        "\n",
        "Matplotlib was originally written as a Python alternative for MATLAB users, and much of its syntax reflects that fact.\n",
        "The MATLAB-style tools are contained in the pyplot (``plt``) interface.\n",
        "For example, the following code will probably look quite familiar to MATLAB users:"
      ]
    },
    {
      "cell_type": "code",
      "metadata": {
        "id": "2q1W27y1Fxoi",
        "colab_type": "code",
        "colab": {}
      },
      "source": [
        "plt.figure()  # create a plot figure\n",
        "\n",
        "# create the first of two panels and set current axis\n",
        "plt.subplot(2, 1, 1) # (rows, columns, panel number)\n",
        "plt.plot(x, np.sin(x))\n",
        "\n",
        "# create the second panel and set current axis\n",
        "plt.subplot(2, 1, 2)\n",
        "plt.plot(x, np.cos(x));"
      ],
      "execution_count": 0,
      "outputs": []
    },
    {
      "cell_type": "markdown",
      "metadata": {
        "id": "4IxcHK5uFxol",
        "colab_type": "text"
      },
      "source": [
        "It is important to note that this interface is *stateful*: it keeps track of the \"current\" figure and axes, which are where all ``plt`` commands are applied.\n",
        "You can get a reference to these using the ``plt.gcf()`` (get current figure) and ``plt.gca()`` (get current axes) routines.\n",
        "\n",
        "While this stateful interface is fast and convenient for simple plots, it is easy to run into problems.\n",
        "For example, once the second panel is created, how can we go back and add something to the first?\n",
        "This is possible within the MATLAB-style interface, but a bit clunky.\n",
        "Fortunately, there is a better way."
      ]
    },
    {
      "cell_type": "markdown",
      "metadata": {
        "id": "KyxM4W9fFxon",
        "colab_type": "text"
      },
      "source": [
        "#### Object-oriented interface\n",
        "\n",
        "The object-oriented interface is available for these more complicated situations, and for when you want more control over your figure.\n",
        "Rather than depending on some notion of an \"active\" figure or axes, in the object-oriented interface the plotting functions are *methods* of explicit ``Figure`` and ``Axes`` objects.\n",
        "To re-create the previous plot using this style of plotting, you might do the following:"
      ]
    },
    {
      "cell_type": "code",
      "metadata": {
        "id": "_xIKAvmAFxoo",
        "colab_type": "code",
        "colab": {}
      },
      "source": [
        "# First create a grid of plots\n",
        "# ax will be an array of two Axes objects\n",
        "fig, ax = plt.subplots(2)\n",
        "\n",
        "# Call plot() method on the appropriate object\n",
        "ax[0].plot(x, np.sin(x))\n",
        "ax[1].plot(x, np.cos(x));"
      ],
      "execution_count": 0,
      "outputs": []
    },
    {
      "cell_type": "markdown",
      "metadata": {
        "id": "PMAW_MQWFxor",
        "colab_type": "text"
      },
      "source": [
        "For more simple plots, the choice of which style to use is largely a matter of preference, but the object-oriented approach can become a necessity as plots become more complicated.\n",
        "Throughout this chapter, we will switch between the MATLAB-style and object-oriented interfaces, depending on what is most convenient.\n",
        "In most cases, the difference is as small as switching ``plt.plot()`` to ``ax.plot()``, but there are a few gotchas that we will highlight as they come up in the following sections."
      ]
    }
  ]
}