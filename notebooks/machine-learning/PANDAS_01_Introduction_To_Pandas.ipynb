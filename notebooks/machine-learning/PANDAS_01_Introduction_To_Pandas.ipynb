{
  "nbformat": 4,
  "nbformat_minor": 0,
  "metadata": {
    "anaconda-cloud": {},
    "kernelspec": {
      "display_name": "Python 3",
      "language": "python",
      "name": "python3"
    },
    "language_info": {
      "codemirror_mode": {
        "name": "ipython",
        "version": 3
      },
      "file_extension": ".py",
      "mimetype": "text/x-python",
      "name": "python",
      "nbconvert_exporter": "python",
      "pygments_lexer": "ipython3",
      "version": "3.5.1"
    },
    "colab": {
      "name": "PANDAS_01_Introduction-To-Pandas.ipynb",
      "provenance": [],
      "include_colab_link": true
    }
  },
  "cells": [
    {
      "cell_type": "markdown",
      "metadata": {
        "id": "view-in-github",
        "colab_type": "text"
      },
      "source": [
        "<a href=\"https://colab.research.google.com/github/dlmacedo/ml-dl-notebooks/blob/master/notebooks/machine-learning/PANDAS_01_Introduction_To_Pandas.ipynb\" target=\"_parent\"><img src=\"https://colab.research.google.com/assets/colab-badge.svg\" alt=\"Open In Colab\"/></a>"
      ]
    },
    {
      "cell_type": "markdown",
      "metadata": {
        "id": "WjkeuCBg3O3_",
        "colab_type": "text"
      },
      "source": [
        "# Data Manipulation with Pandas"
      ]
    },
    {
      "cell_type": "markdown",
      "metadata": {
        "id": "Kx-8wERd3O4B",
        "colab_type": "text"
      },
      "source": [
        "Pandas is a newer package built on top of NumPy, and provides an efficient implementation of a ``DataFrame``.\n",
        "``DataFrame``s are essentially multidimensional arrays with attached row and column labels, and often with heterogeneous types and/or missing data.\n",
        "As well as offering a convenient storage interface for labeled data, Pandas implements a number of powerful data operations familiar to users of both database frameworks and spreadsheet programs.\n",
        "\n",
        "We will focus on the mechanics of using ``Series``, ``DataFrame``, and related structures effectively.\n",
        "We will use examples drawn from real datasets where appropriate, but these examples are not necessarily the focus."
      ]
    },
    {
      "cell_type": "markdown",
      "metadata": {
        "id": "wLPo8f9m3O4C",
        "colab_type": "text"
      },
      "source": [
        "## Installing and Using Pandas\n",
        "\n",
        "Installation of Pandas on your system requires NumPy to be installed, and if building the library from source, requires the appropriate tools to compile the C and Cython sources on which Pandas is built.\n",
        "Details on this installation can be found in the [Pandas documentation](http://pandas.pydata.org/). Once Pandas is installed, you can import it and check the version:"
      ]
    },
    {
      "cell_type": "code",
      "metadata": {
        "id": "DNA-ogMb3O4D",
        "colab_type": "code",
        "colab": {
          "base_uri": "https://localhost:8080/",
          "height": 35
        },
        "outputId": "bcd94bf0-0a30-4808-d521-16ba7a504e2c"
      },
      "source": [
        "import pandas\n",
        "pandas.__version__"
      ],
      "execution_count": 1,
      "outputs": [
        {
          "output_type": "execute_result",
          "data": {
            "text/plain": [
              "'0.25.3'"
            ]
          },
          "metadata": {
            "tags": []
          },
          "execution_count": 1
        }
      ]
    },
    {
      "cell_type": "markdown",
      "metadata": {
        "id": "d_Rudv0S3O4I",
        "colab_type": "text"
      },
      "source": [
        "Just as we generally import NumPy under the alias ``np``, we will import Pandas under the alias ``pd``:"
      ]
    },
    {
      "cell_type": "code",
      "metadata": {
        "id": "UaQ_x3Ur3O4J",
        "colab_type": "code",
        "colab": {}
      },
      "source": [
        "import pandas as pd"
      ],
      "execution_count": 0,
      "outputs": []
    },
    {
      "cell_type": "markdown",
      "metadata": {
        "id": "9EjwOv6B3O4M",
        "colab_type": "text"
      },
      "source": [
        "This import convention will be used throughout the remainder of this book."
      ]
    },
    {
      "cell_type": "markdown",
      "metadata": {
        "id": "hqdPLcLz3O4N",
        "colab_type": "text"
      },
      "source": [
        "## Reminder about Built-In Documentation\n",
        "\n",
        "As you read through this chapter, don't forget that IPython gives you the ability to quickly explore the contents of a package (by using the tab-completion feature) as well as the documentation of various functions (using the ``?`` character).\n",
        "\n",
        "For example, to display all the contents of the pandas namespace, you can type\n",
        "\n",
        "```ipython\n",
        "In [3]: pd.<TAB>\n",
        "```\n",
        "\n",
        "And to display Pandas's built-in documentation, you can use this:\n",
        "\n",
        "```ipython\n",
        "In [4]: pd?\n",
        "```\n",
        "\n",
        "More detailed documentation, along with tutorials and other resources, can be found at http://pandas.pydata.org/."
      ]
    }
  ]
}