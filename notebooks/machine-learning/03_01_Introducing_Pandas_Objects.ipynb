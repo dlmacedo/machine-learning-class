{
  "nbformat": 4,
  "nbformat_minor": 0,
  "metadata": {
    "anaconda-cloud": {},
    "kernelspec": {
      "display_name": "Python 3",
      "language": "python",
      "name": "python3"
    },
    "language_info": {
      "codemirror_mode": {
        "name": "ipython",
        "version": 3
      },
      "file_extension": ".py",
      "mimetype": "text/x-python",
      "name": "python",
      "nbconvert_exporter": "python",
      "pygments_lexer": "ipython3",
      "version": "3.5.1"
    },
    "colab": {
      "name": "03.01-Introducing-Pandas-Objects.ipynb",
      "provenance": [],
      "include_colab_link": true
    }
  },
  "cells": [
    {
      "cell_type": "markdown",
      "metadata": {
        "id": "view-in-github",
        "colab_type": "text"
      },
      "source": [
        "<a href=\"https://colab.research.google.com/github/dlmacedo/maxtrack/blob/master/notebooks/machine-learning/03_01_Introducing_Pandas_Objects.ipynb\" target=\"_parent\"><img src=\"https://colab.research.google.com/assets/colab-badge.svg\" alt=\"Open In Colab\"/></a>"
      ]
    },
    {
      "cell_type": "markdown",
      "metadata": {
        "id": "aiqkvwv3-jpm",
        "colab_type": "text"
      },
      "source": [
        "# Introducing Pandas Objects"
      ]
    },
    {
      "cell_type": "markdown",
      "metadata": {
        "id": "3YlHR073-jpo",
        "colab_type": "text"
      },
      "source": [
        "At the very basic level, Pandas objects can be thought of as enhanced versions of NumPy structured arrays in which the rows and columns are identified with labels rather than simple integer indices.\n",
        "As we will see during the course of this chapter, Pandas provides a host of useful tools, methods, and functionality on top of the basic data structures, but nearly everything that follows will require an understanding of what these structures are.\n",
        "Thus, before we go any further, let's introduce these three fundamental Pandas data structures: the ``Series``, ``DataFrame``, and ``Index``.\n",
        "\n",
        "We will start our code sessions with the standard NumPy and Pandas imports:"
      ]
    },
    {
      "cell_type": "code",
      "metadata": {
        "id": "iCeDNovu-jpq",
        "colab_type": "code",
        "colab": {}
      },
      "source": [
        "import numpy as np\n",
        "import pandas as pd"
      ],
      "execution_count": 0,
      "outputs": []
    },
    {
      "cell_type": "markdown",
      "metadata": {
        "id": "DOUtQ18X-jpy",
        "colab_type": "text"
      },
      "source": [
        "## The Pandas Series Object\n",
        "\n",
        "A Pandas ``Series`` is a one-dimensional array of indexed data.\n",
        "It can be created from a list or array as follows:"
      ]
    },
    {
      "cell_type": "code",
      "metadata": {
        "id": "o9TXZU1T-jp0",
        "colab_type": "code",
        "colab": {}
      },
      "source": [
        "data = pd.Series([0.25, 0.5, 0.75, 1.0])\n",
        "data"
      ],
      "execution_count": 0,
      "outputs": []
    },
    {
      "cell_type": "markdown",
      "metadata": {
        "id": "Nj_tN6C9-jp7",
        "colab_type": "text"
      },
      "source": [
        "As we see in the output, the ``Series`` wraps both a sequence of values and a sequence of indices, which we can access with the ``values`` and ``index`` attributes.\n",
        "The ``values`` are simply a familiar NumPy array:"
      ]
    },
    {
      "cell_type": "code",
      "metadata": {
        "id": "yxtbT0qO-jp9",
        "colab_type": "code",
        "colab": {}
      },
      "source": [
        "data.values"
      ],
      "execution_count": 0,
      "outputs": []
    },
    {
      "cell_type": "markdown",
      "metadata": {
        "id": "GHaqO5L--jqD",
        "colab_type": "text"
      },
      "source": [
        "The ``index`` is an array-like object of type ``pd.Index``, which we'll discuss in more detail momentarily."
      ]
    },
    {
      "cell_type": "code",
      "metadata": {
        "id": "Z_cXnjuT-jqE",
        "colab_type": "code",
        "colab": {}
      },
      "source": [
        "data.index"
      ],
      "execution_count": 0,
      "outputs": []
    },
    {
      "cell_type": "markdown",
      "metadata": {
        "id": "lqzfeaku-jqK",
        "colab_type": "text"
      },
      "source": [
        "Like with a NumPy array, data can be accessed by the associated index via the familiar Python square-bracket notation:"
      ]
    },
    {
      "cell_type": "code",
      "metadata": {
        "id": "WnnkSkvl-jqM",
        "colab_type": "code",
        "colab": {}
      },
      "source": [
        "data[1]"
      ],
      "execution_count": 0,
      "outputs": []
    },
    {
      "cell_type": "code",
      "metadata": {
        "id": "3Ssr3X_L-jqQ",
        "colab_type": "code",
        "colab": {}
      },
      "source": [
        "data[1:3]"
      ],
      "execution_count": 0,
      "outputs": []
    },
    {
      "cell_type": "markdown",
      "metadata": {
        "id": "Drh6xW-x-jqU",
        "colab_type": "text"
      },
      "source": [
        "As we will see, though, the Pandas ``Series`` is much more general and flexible than the one-dimensional NumPy array that it emulates."
      ]
    },
    {
      "cell_type": "markdown",
      "metadata": {
        "id": "4RXxb5oC-jqV",
        "colab_type": "text"
      },
      "source": [
        "### ``Series`` as generalized NumPy array"
      ]
    },
    {
      "cell_type": "markdown",
      "metadata": {
        "id": "UsiltJV0-jqW",
        "colab_type": "text"
      },
      "source": [
        "From what we've seen so far, it may look like the ``Series`` object is basically interchangeable with a one-dimensional NumPy array.\n",
        "The essential difference is the presence of the index: while the Numpy Array has an *implicitly defined* integer index used to access the values, the Pandas ``Series`` has an *explicitly defined* index associated with the values.\n",
        "\n",
        "This explicit index definition gives the ``Series`` object additional capabilities. For example, the index need not be an integer, but can consist of values of any desired type.\n",
        "For example, if we wish, we can use strings as an index:"
      ]
    },
    {
      "cell_type": "code",
      "metadata": {
        "id": "VYDXIhC_-jqX",
        "colab_type": "code",
        "colab": {}
      },
      "source": [
        "data = pd.Series([0.25, 0.5, 0.75, 1.0],\n",
        "                 index=['a', 'b', 'c', 'd'])\n",
        "data"
      ],
      "execution_count": 0,
      "outputs": []
    },
    {
      "cell_type": "markdown",
      "metadata": {
        "id": "obyBaZ-A-jqb",
        "colab_type": "text"
      },
      "source": [
        "And the item access works as expected:"
      ]
    },
    {
      "cell_type": "code",
      "metadata": {
        "id": "87zPRmkM-jqc",
        "colab_type": "code",
        "colab": {}
      },
      "source": [
        "data['b']"
      ],
      "execution_count": 0,
      "outputs": []
    },
    {
      "cell_type": "markdown",
      "metadata": {
        "id": "rOy1ezG7-jqg",
        "colab_type": "text"
      },
      "source": [
        "We can even use non-contiguous or non-sequential indices:"
      ]
    },
    {
      "cell_type": "code",
      "metadata": {
        "id": "ExkZfIV4-jqh",
        "colab_type": "code",
        "colab": {}
      },
      "source": [
        "data = pd.Series([0.25, 0.5, 0.75, 1.0],\n",
        "                 index=[2, 5, 3, 7])\n",
        "data"
      ],
      "execution_count": 0,
      "outputs": []
    },
    {
      "cell_type": "code",
      "metadata": {
        "id": "gs6K7Zyk-jqk",
        "colab_type": "code",
        "colab": {}
      },
      "source": [
        "data[5]"
      ],
      "execution_count": 0,
      "outputs": []
    },
    {
      "cell_type": "markdown",
      "metadata": {
        "id": "oJz7WQsP-jqo",
        "colab_type": "text"
      },
      "source": [
        "### Series as specialized dictionary\n",
        "\n",
        "In this way, you can think of a Pandas ``Series`` a bit like a specialization of a Python dictionary.\n",
        "A dictionary is a structure that maps arbitrary keys to a set of arbitrary values, and a ``Series`` is a structure which maps typed keys to a set of typed values.\n",
        "This typing is important: just as the type-specific compiled code behind a NumPy array makes it more efficient than a Python list for certain operations, the type information of a Pandas ``Series`` makes it much more efficient than Python dictionaries for certain operations.\n",
        "\n",
        "The ``Series``-as-dictionary analogy can be made even more clear by constructing a ``Series`` object directly from a Python dictionary:"
      ]
    },
    {
      "cell_type": "code",
      "metadata": {
        "id": "IRlPYDMn-jqp",
        "colab_type": "code",
        "colab": {}
      },
      "source": [
        "population_dict = {'California': 38332521,\n",
        "                   'Texas': 26448193,\n",
        "                   'New York': 19651127,\n",
        "                   'Florida': 19552860,\n",
        "                   'Illinois': 12882135}\n",
        "population = pd.Series(population_dict)\n",
        "population"
      ],
      "execution_count": 0,
      "outputs": []
    },
    {
      "cell_type": "markdown",
      "metadata": {
        "id": "QH4_C5Ne-jqs",
        "colab_type": "text"
      },
      "source": [
        "By default, a ``Series`` will be created where the index is drawn from the sorted keys.\n",
        "From here, typical dictionary-style item access can be performed:"
      ]
    },
    {
      "cell_type": "code",
      "metadata": {
        "id": "1OhbsUZg-jqu",
        "colab_type": "code",
        "colab": {}
      },
      "source": [
        "population['California']"
      ],
      "execution_count": 0,
      "outputs": []
    },
    {
      "cell_type": "markdown",
      "metadata": {
        "id": "O48VkZjd-jqy",
        "colab_type": "text"
      },
      "source": [
        "Unlike a dictionary, though, the ``Series`` also supports array-style operations such as slicing:"
      ]
    },
    {
      "cell_type": "code",
      "metadata": {
        "id": "E4_-wewl-jqz",
        "colab_type": "code",
        "colab": {}
      },
      "source": [
        "population['California':'Illinois']"
      ],
      "execution_count": 0,
      "outputs": []
    },
    {
      "cell_type": "markdown",
      "metadata": {
        "id": "wQKN-z54-jq5",
        "colab_type": "text"
      },
      "source": [
        "We'll discuss some of the quirks of Pandas indexing and slicing in [Data Indexing and Selection](03.02-Data-Indexing-and-Selection.ipynb)."
      ]
    },
    {
      "cell_type": "markdown",
      "metadata": {
        "id": "eGosmxLx-jq6",
        "colab_type": "text"
      },
      "source": [
        "### Constructing Series objects\n",
        "\n",
        "We've already seen a few ways of constructing a Pandas ``Series`` from scratch; all of them are some version of the following:\n",
        "\n",
        "```python\n",
        ">>> pd.Series(data, index=index)\n",
        "```\n",
        "\n",
        "where ``index`` is an optional argument, and ``data`` can be one of many entities.\n",
        "\n",
        "For example, ``data`` can be a list or NumPy array, in which case ``index`` defaults to an integer sequence:"
      ]
    },
    {
      "cell_type": "code",
      "metadata": {
        "id": "N4wzaxSY-jq7",
        "colab_type": "code",
        "colab": {}
      },
      "source": [
        "pd.Series([2, 4, 6])"
      ],
      "execution_count": 0,
      "outputs": []
    },
    {
      "cell_type": "markdown",
      "metadata": {
        "id": "9ilptXoQ-jq-",
        "colab_type": "text"
      },
      "source": [
        "``data`` can be a scalar, which is repeated to fill the specified index:"
      ]
    },
    {
      "cell_type": "code",
      "metadata": {
        "id": "sdXVFifd-jrA",
        "colab_type": "code",
        "colab": {}
      },
      "source": [
        "pd.Series(5, index=[100, 200, 300])"
      ],
      "execution_count": 0,
      "outputs": []
    },
    {
      "cell_type": "markdown",
      "metadata": {
        "id": "LDWfN2Nq-jrJ",
        "colab_type": "text"
      },
      "source": [
        "``data`` can be a dictionary, in which ``index`` defaults to the sorted dictionary keys:"
      ]
    },
    {
      "cell_type": "code",
      "metadata": {
        "id": "7sxpf8I0-jrL",
        "colab_type": "code",
        "colab": {}
      },
      "source": [
        "pd.Series({2:'a', 1:'b', 3:'c'})"
      ],
      "execution_count": 0,
      "outputs": []
    },
    {
      "cell_type": "markdown",
      "metadata": {
        "id": "HSzr7Flr-jrR",
        "colab_type": "text"
      },
      "source": [
        "In each case, the index can be explicitly set if a different result is preferred:"
      ]
    },
    {
      "cell_type": "code",
      "metadata": {
        "id": "j9-CIjZa-jrS",
        "colab_type": "code",
        "colab": {}
      },
      "source": [
        "pd.Series({2:'a', 1:'b', 3:'c'}, index=[3, 2])"
      ],
      "execution_count": 0,
      "outputs": []
    },
    {
      "cell_type": "markdown",
      "metadata": {
        "id": "YDTRGWQz-jrV",
        "colab_type": "text"
      },
      "source": [
        "Notice that in this case, the ``Series`` is populated only with the explicitly identified keys."
      ]
    },
    {
      "cell_type": "markdown",
      "metadata": {
        "id": "3ZGiIRHN-jrW",
        "colab_type": "text"
      },
      "source": [
        "## The Pandas DataFrame Object\n",
        "\n",
        "The next fundamental structure in Pandas is the ``DataFrame``.\n",
        "Like the ``Series`` object discussed in the previous section, the ``DataFrame`` can be thought of either as a generalization of a NumPy array, or as a specialization of a Python dictionary.\n",
        "We'll now take a look at each of these perspectives."
      ]
    },
    {
      "cell_type": "markdown",
      "metadata": {
        "id": "Wa4Lxs5Z-jrX",
        "colab_type": "text"
      },
      "source": [
        "### DataFrame as a generalized NumPy array\n",
        "If a ``Series`` is an analog of a one-dimensional array with flexible indices, a ``DataFrame`` is an analog of a two-dimensional array with both flexible row indices and flexible column names.\n",
        "Just as you might think of a two-dimensional array as an ordered sequence of aligned one-dimensional columns, you can think of a ``DataFrame`` as a sequence of aligned ``Series`` objects.\n",
        "Here, by \"aligned\" we mean that they share the same index.\n",
        "\n",
        "To demonstrate this, let's first construct a new ``Series`` listing the area of each of the five states discussed in the previous section:"
      ]
    },
    {
      "cell_type": "code",
      "metadata": {
        "id": "Nn0_ltNJ-jrY",
        "colab_type": "code",
        "colab": {}
      },
      "source": [
        "area_dict = {'California': 423967, 'Texas': 695662, 'New York': 141297,\n",
        "             'Florida': 170312, 'Illinois': 149995}\n",
        "area = pd.Series(area_dict)\n",
        "area"
      ],
      "execution_count": 0,
      "outputs": []
    },
    {
      "cell_type": "markdown",
      "metadata": {
        "id": "ltAaY93c-jrb",
        "colab_type": "text"
      },
      "source": [
        "Now that we have this along with the ``population`` Series from before, we can use a dictionary to construct a single two-dimensional object containing this information:"
      ]
    },
    {
      "cell_type": "code",
      "metadata": {
        "id": "j1d4pZeL-jrc",
        "colab_type": "code",
        "colab": {}
      },
      "source": [
        "states = pd.DataFrame({'population': population,\n",
        "                       'area': area})\n",
        "states"
      ],
      "execution_count": 0,
      "outputs": []
    },
    {
      "cell_type": "markdown",
      "metadata": {
        "id": "FGbIP3e7-jrf",
        "colab_type": "text"
      },
      "source": [
        "Like the ``Series`` object, the ``DataFrame`` has an ``index`` attribute that gives access to the index labels:"
      ]
    },
    {
      "cell_type": "code",
      "metadata": {
        "id": "9XnNuwnV-jrg",
        "colab_type": "code",
        "colab": {}
      },
      "source": [
        "states.index"
      ],
      "execution_count": 0,
      "outputs": []
    },
    {
      "cell_type": "markdown",
      "metadata": {
        "id": "_7zUc57L-jrj",
        "colab_type": "text"
      },
      "source": [
        "Additionally, the ``DataFrame`` has a ``columns`` attribute, which is an ``Index`` object holding the column labels:"
      ]
    },
    {
      "cell_type": "code",
      "metadata": {
        "id": "p1fw0VEo-jrk",
        "colab_type": "code",
        "colab": {}
      },
      "source": [
        "states.columns"
      ],
      "execution_count": 0,
      "outputs": []
    },
    {
      "cell_type": "markdown",
      "metadata": {
        "id": "flD-Yi75-jrn",
        "colab_type": "text"
      },
      "source": [
        "Thus the ``DataFrame`` can be thought of as a generalization of a two-dimensional NumPy array, where both the rows and columns have a generalized index for accessing the data."
      ]
    },
    {
      "cell_type": "markdown",
      "metadata": {
        "id": "ptSAXq81-jro",
        "colab_type": "text"
      },
      "source": [
        "### DataFrame as specialized dictionary\n",
        "\n",
        "Similarly, we can also think of a ``DataFrame`` as a specialization of a dictionary.\n",
        "Where a dictionary maps a key to a value, a ``DataFrame`` maps a column name to a ``Series`` of column data.\n",
        "For example, asking for the ``'area'`` attribute returns the ``Series`` object containing the areas we saw earlier:"
      ]
    },
    {
      "cell_type": "code",
      "metadata": {
        "id": "a23G1McC-jrp",
        "colab_type": "code",
        "colab": {}
      },
      "source": [
        "states['area']"
      ],
      "execution_count": 0,
      "outputs": []
    },
    {
      "cell_type": "markdown",
      "metadata": {
        "id": "5f_10lbN-jru",
        "colab_type": "text"
      },
      "source": [
        "Notice the potential point of confusion here: in a two-dimesnional NumPy array, ``data[0]`` will return the first *row*. For a ``DataFrame``, ``data['col0']`` will return the first *column*.\n",
        "Because of this, it is probably better to think about ``DataFrame``s as generalized dictionaries rather than generalized arrays, though both ways of looking at the situation can be useful."
      ]
    },
    {
      "cell_type": "markdown",
      "metadata": {
        "id": "jbyaKGh1-jrv",
        "colab_type": "text"
      },
      "source": [
        "### Constructing DataFrame objects\n",
        "\n",
        "A Pandas ``DataFrame`` can be constructed in a variety of ways.\n",
        "Here we'll give several examples."
      ]
    },
    {
      "cell_type": "markdown",
      "metadata": {
        "id": "rgwt_B-8-jrw",
        "colab_type": "text"
      },
      "source": [
        "#### From a single Series object\n",
        "\n",
        "A ``DataFrame`` is a collection of ``Series`` objects, and a single-column ``DataFrame`` can be constructed from a single ``Series``:"
      ]
    },
    {
      "cell_type": "code",
      "metadata": {
        "id": "Ae11-3xA-jrw",
        "colab_type": "code",
        "colab": {}
      },
      "source": [
        "pd.DataFrame(population, columns=['population'])"
      ],
      "execution_count": 0,
      "outputs": []
    },
    {
      "cell_type": "markdown",
      "metadata": {
        "id": "3H0Yq7Tf-jr0",
        "colab_type": "text"
      },
      "source": [
        "#### From a list of dicts\n",
        "\n",
        "Any list of dictionaries can be made into a ``DataFrame``.\n",
        "We'll use a simple list comprehension to create some data:"
      ]
    },
    {
      "cell_type": "code",
      "metadata": {
        "id": "HQP4Ezbj-jr1",
        "colab_type": "code",
        "colab": {}
      },
      "source": [
        "data = [{'a': i, 'b': 2 * i}\n",
        "        for i in range(3)]\n",
        "pd.DataFrame(data)"
      ],
      "execution_count": 0,
      "outputs": []
    },
    {
      "cell_type": "markdown",
      "metadata": {
        "id": "7oo8hVl7-jr3",
        "colab_type": "text"
      },
      "source": [
        "Even if some keys in the dictionary are missing, Pandas will fill them in with ``NaN`` (i.e., \"not a number\") values:"
      ]
    },
    {
      "cell_type": "code",
      "metadata": {
        "id": "NJpalj6p-jr4",
        "colab_type": "code",
        "colab": {}
      },
      "source": [
        "pd.DataFrame([{'a': 1, 'b': 2}, {'b': 3, 'c': 4}])"
      ],
      "execution_count": 0,
      "outputs": []
    },
    {
      "cell_type": "markdown",
      "metadata": {
        "id": "uacME6Xw-jr7",
        "colab_type": "text"
      },
      "source": [
        "#### From a dictionary of Series objects\n",
        "\n",
        "As we saw before, a ``DataFrame`` can be constructed from a dictionary of ``Series`` objects as well:"
      ]
    },
    {
      "cell_type": "code",
      "metadata": {
        "id": "gkfUl1Qc-jr8",
        "colab_type": "code",
        "colab": {}
      },
      "source": [
        "pd.DataFrame({'population': population,\n",
        "              'area': area})"
      ],
      "execution_count": 0,
      "outputs": []
    },
    {
      "cell_type": "markdown",
      "metadata": {
        "id": "mslHNRim-jr_",
        "colab_type": "text"
      },
      "source": [
        "#### From a two-dimensional NumPy array\n",
        "\n",
        "Given a two-dimensional array of data, we can create a ``DataFrame`` with any specified column and index names.\n",
        "If omitted, an integer index will be used for each:"
      ]
    },
    {
      "cell_type": "code",
      "metadata": {
        "id": "ZG9Ge8zC-jsA",
        "colab_type": "code",
        "colab": {}
      },
      "source": [
        "pd.DataFrame(np.random.rand(3, 2),\n",
        "             columns=['foo', 'bar'],\n",
        "             index=['a', 'b', 'c'])"
      ],
      "execution_count": 0,
      "outputs": []
    },
    {
      "cell_type": "markdown",
      "metadata": {
        "id": "7yr-ZqeF-jsD",
        "colab_type": "text"
      },
      "source": [
        "#### From a NumPy structured array\n",
        "\n",
        "We covered structured arrays in [Structured Data: NumPy's Structured Arrays](02.09-Structured-Data-NumPy.ipynb).\n",
        "A Pandas ``DataFrame`` operates much like a structured array, and can be created directly from one:"
      ]
    },
    {
      "cell_type": "code",
      "metadata": {
        "id": "pY9mnDyq-jsE",
        "colab_type": "code",
        "colab": {}
      },
      "source": [
        "A = np.zeros(3, dtype=[('A', 'i8'), ('B', 'f8')])\n",
        "A"
      ],
      "execution_count": 0,
      "outputs": []
    },
    {
      "cell_type": "code",
      "metadata": {
        "id": "cPaW1wt_-jsJ",
        "colab_type": "code",
        "colab": {}
      },
      "source": [
        "pd.DataFrame(A)"
      ],
      "execution_count": 0,
      "outputs": []
    },
    {
      "cell_type": "markdown",
      "metadata": {
        "id": "zoo_ThpT-jsL",
        "colab_type": "text"
      },
      "source": [
        "## The Pandas Index Object\n",
        "\n",
        "We have seen here that both the ``Series`` and ``DataFrame`` objects contain an explicit *index* that lets you reference and modify data.\n",
        "This ``Index`` object is an interesting structure in itself, and it can be thought of either as an *immutable array* or as an *ordered set* (technically a multi-set, as ``Index`` objects may contain repeated values).\n",
        "Those views have some interesting consequences in the operations available on ``Index`` objects.\n",
        "As a simple example, let's construct an ``Index`` from a list of integers:"
      ]
    },
    {
      "cell_type": "code",
      "metadata": {
        "id": "3YP20D7e-jsM",
        "colab_type": "code",
        "colab": {}
      },
      "source": [
        "ind = pd.Index([2, 3, 5, 7, 11])\n",
        "ind"
      ],
      "execution_count": 0,
      "outputs": []
    },
    {
      "cell_type": "markdown",
      "metadata": {
        "id": "vNeXQMjG-jsP",
        "colab_type": "text"
      },
      "source": [
        "### Index as immutable array\n",
        "\n",
        "The ``Index`` in many ways operates like an array.\n",
        "For example, we can use standard Python indexing notation to retrieve values or slices:"
      ]
    },
    {
      "cell_type": "code",
      "metadata": {
        "id": "XfTuHPZ5-jsR",
        "colab_type": "code",
        "colab": {}
      },
      "source": [
        "ind[1]"
      ],
      "execution_count": 0,
      "outputs": []
    },
    {
      "cell_type": "code",
      "metadata": {
        "id": "mAbUDq-d-jsX",
        "colab_type": "code",
        "colab": {}
      },
      "source": [
        "ind[::2]"
      ],
      "execution_count": 0,
      "outputs": []
    },
    {
      "cell_type": "markdown",
      "metadata": {
        "id": "gfCd-UNs-jsb",
        "colab_type": "text"
      },
      "source": [
        "``Index`` objects also have many of the attributes familiar from NumPy arrays:"
      ]
    },
    {
      "cell_type": "code",
      "metadata": {
        "id": "JiF0Z9f2-jsc",
        "colab_type": "code",
        "colab": {}
      },
      "source": [
        "print(ind.size, ind.shape, ind.ndim, ind.dtype)"
      ],
      "execution_count": 0,
      "outputs": []
    },
    {
      "cell_type": "markdown",
      "metadata": {
        "id": "hd8b6V2D-jsf",
        "colab_type": "text"
      },
      "source": [
        "One difference between ``Index`` objects and NumPy arrays is that indices are immutable–that is, they cannot be modified via the normal means:"
      ]
    },
    {
      "cell_type": "code",
      "metadata": {
        "id": "Rsgt1QPJ-jsg",
        "colab_type": "code",
        "colab": {}
      },
      "source": [
        "ind[1] = 0"
      ],
      "execution_count": 0,
      "outputs": []
    },
    {
      "cell_type": "markdown",
      "metadata": {
        "id": "_JeYgfCz-jsi",
        "colab_type": "text"
      },
      "source": [
        "This immutability makes it safer to share indices between multiple ``DataFrame``s and arrays, without the potential for side effects from inadvertent index modification."
      ]
    },
    {
      "cell_type": "markdown",
      "metadata": {
        "id": "qlcEVv4T-jsk",
        "colab_type": "text"
      },
      "source": [
        "### Index as ordered set\n",
        "\n",
        "Pandas objects are designed to facilitate operations such as joins across datasets, which depend on many aspects of set arithmetic.\n",
        "The ``Index`` object follows many of the conventions used by Python's built-in ``set`` data structure, so that unions, intersections, differences, and other combinations can be computed in a familiar way:"
      ]
    },
    {
      "cell_type": "code",
      "metadata": {
        "id": "k1KbdrW7-jsk",
        "colab_type": "code",
        "colab": {}
      },
      "source": [
        "indA = pd.Index([1, 3, 5, 7, 9])\n",
        "indB = pd.Index([2, 3, 5, 7, 11])"
      ],
      "execution_count": 0,
      "outputs": []
    },
    {
      "cell_type": "code",
      "metadata": {
        "id": "zrG5WysY-jsn",
        "colab_type": "code",
        "colab": {}
      },
      "source": [
        "indA & indB  # intersection"
      ],
      "execution_count": 0,
      "outputs": []
    },
    {
      "cell_type": "code",
      "metadata": {
        "id": "5wsGWyss-jsr",
        "colab_type": "code",
        "colab": {}
      },
      "source": [
        "indA | indB  # union"
      ],
      "execution_count": 0,
      "outputs": []
    },
    {
      "cell_type": "code",
      "metadata": {
        "id": "hSe_lHRx-jst",
        "colab_type": "code",
        "colab": {}
      },
      "source": [
        "indA ^ indB  # symmetric difference"
      ],
      "execution_count": 0,
      "outputs": []
    },
    {
      "cell_type": "markdown",
      "metadata": {
        "id": "IG35V4---jsv",
        "colab_type": "text"
      },
      "source": [
        "These operations may also be accessed via object methods, for example ``indA.intersection(indB)``."
      ]
    }
  ]
}