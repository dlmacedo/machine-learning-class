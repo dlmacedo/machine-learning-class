{
  "nbformat": 4,
  "nbformat_minor": 0,
  "metadata": {
    "kernelspec": {
      "display_name": "Python 3",
      "language": "python",
      "name": "python3"
    },
    "language_info": {
      "codemirror_mode": {
        "name": "ipython",
        "version": 3
      },
      "file_extension": ".py",
      "mimetype": "text/x-python",
      "name": "python",
      "nbconvert_exporter": "python",
      "pygments_lexer": "ipython3",
      "version": "3.6.5"
    },
    "colab": {
      "name": "SCIKIT_LEARN_01_Model_Training.ipynb",
      "provenance": [],
      "include_colab_link": true
    }
  },
  "cells": [
    {
      "cell_type": "markdown",
      "metadata": {
        "id": "view-in-github",
        "colab_type": "text"
      },
      "source": [
        "<a href=\"https://colab.research.google.com/github/dlmacedo/ml-dl-notebooks/blob/master/notebooks/machine-learning/SCIKIT_LEARN_01_Model_Training.ipynb\" target=\"_parent\"><img src=\"https://colab.research.google.com/assets/colab-badge.svg\" alt=\"Open In Colab\"/></a>"
      ]
    },
    {
      "cell_type": "markdown",
      "metadata": {
        "id": "XmSQF_5AOEz7",
        "colab_type": "text"
      },
      "source": [
        "# Training a machine learning model with scikit-learn\n",
        "\n",
        "Created by [Data School](http://www.dataschool.io/). Modified by [David Macêdo](https://github.com/dlmacedo)."
      ]
    },
    {
      "cell_type": "markdown",
      "metadata": {
        "id": "S4fySYQPOEz-",
        "colab_type": "text"
      },
      "source": [
        "## Agenda\n",
        "\n",
        "- What is the **K-nearest neighbors** classification model?\n",
        "- What are the four steps for **model training and prediction** in scikit-learn?\n",
        "- How can I apply this pattern to **other machine learning models**?"
      ]
    },
    {
      "cell_type": "markdown",
      "metadata": {
        "id": "xocg1x9GOEz_",
        "colab_type": "text"
      },
      "source": [
        "## Reviewing the iris dataset"
      ]
    },
    {
      "cell_type": "markdown",
      "metadata": {
        "id": "bax9AbGPOE0E",
        "colab_type": "text"
      },
      "source": [
        "- 150 **observations**\n",
        "- 4 **features** (sepal length, sepal width, petal length, petal width)\n",
        "- **Response** variable is the iris species\n",
        "- **Classification** problem since response is categorical\n",
        "- More information in the [UCI Machine Learning Repository](http://archive.ics.uci.edu/ml/datasets/Iris)"
      ]
    },
    {
      "cell_type": "markdown",
      "metadata": {
        "id": "6KF217DhOE0F",
        "colab_type": "text"
      },
      "source": [
        "## K-nearest neighbors (KNN) classification"
      ]
    },
    {
      "cell_type": "markdown",
      "metadata": {
        "id": "pY7twsFyOE0G",
        "colab_type": "text"
      },
      "source": [
        "1. Pick a value for K.\n",
        "2. Search for the K observations in the training data that are \"nearest\" to the measurements of the unknown iris.\n",
        "3. Use the most popular response value from the K nearest neighbors as the predicted response value for the unknown iris."
      ]
    },
    {
      "cell_type": "markdown",
      "metadata": {
        "id": "IUOI9Vn2OE0J",
        "colab_type": "text"
      },
      "source": [
        "## Loading the data"
      ]
    },
    {
      "cell_type": "code",
      "metadata": {
        "id": "IWdUGOLmOE0K",
        "colab_type": "code",
        "colab": {}
      },
      "source": [
        "# import load_iris function from datasets module\n",
        "from sklearn.datasets import load_iris\n",
        "\n",
        "# save \"bunch\" object containing iris dataset and its attributes\n",
        "iris = load_iris()\n",
        "\n",
        "# store feature matrix in \"X\"\n",
        "X = iris.data\n",
        "\n",
        "# store response vector in \"y\"\n",
        "y = iris.target"
      ],
      "execution_count": 0,
      "outputs": []
    },
    {
      "cell_type": "code",
      "metadata": {
        "id": "n9eFFrATOE0M",
        "colab_type": "code",
        "colab": {
          "base_uri": "https://localhost:8080/",
          "height": 52
        },
        "outputId": "b6248f76-c942-42dd-ccfb-ce2ac25d33d1"
      },
      "source": [
        "# print the shapes of X and y\n",
        "print(X.shape)\n",
        "print(y.shape)"
      ],
      "execution_count": 2,
      "outputs": [
        {
          "output_type": "stream",
          "text": [
            "(150, 4)\n",
            "(150,)\n"
          ],
          "name": "stdout"
        }
      ]
    },
    {
      "cell_type": "markdown",
      "metadata": {
        "id": "yyxNLDtGOE0O",
        "colab_type": "text"
      },
      "source": [
        "## scikit-learn 4-step modeling pattern"
      ]
    },
    {
      "cell_type": "markdown",
      "metadata": {
        "id": "gfJnVyrYOE0O",
        "colab_type": "text"
      },
      "source": [
        "**Step 1:** Import the class you plan to use"
      ]
    },
    {
      "cell_type": "code",
      "metadata": {
        "id": "t8EA9OfUOE0P",
        "colab_type": "code",
        "colab": {}
      },
      "source": [
        "from sklearn.neighbors import KNeighborsClassifier"
      ],
      "execution_count": 0,
      "outputs": []
    },
    {
      "cell_type": "markdown",
      "metadata": {
        "id": "LiCJAySPOE0R",
        "colab_type": "text"
      },
      "source": [
        "**Step 2:** \"Instantiate\" the \"estimator\"\n",
        "\n",
        "- \"Estimator\" is scikit-learn's term for model\n",
        "- \"Instantiate\" means \"make an instance of\""
      ]
    },
    {
      "cell_type": "code",
      "metadata": {
        "id": "icD_VCp4OE0S",
        "colab_type": "code",
        "colab": {}
      },
      "source": [
        "knn = KNeighborsClassifier(n_neighbors=1)"
      ],
      "execution_count": 0,
      "outputs": []
    },
    {
      "cell_type": "markdown",
      "metadata": {
        "id": "CbdCJCsBOE0T",
        "colab_type": "text"
      },
      "source": [
        "- Name of the object does not matter\n",
        "- Can specify tuning parameters (aka \"hyperparameters\") during this step\n",
        "- All parameters not specified are set to their defaults"
      ]
    },
    {
      "cell_type": "code",
      "metadata": {
        "id": "7TDHFIwWOE0U",
        "colab_type": "code",
        "colab": {
          "base_uri": "https://localhost:8080/",
          "height": 69
        },
        "outputId": "a613e723-e5bf-4570-f42f-27f21dbbd362"
      },
      "source": [
        "print(knn)"
      ],
      "execution_count": 5,
      "outputs": [
        {
          "output_type": "stream",
          "text": [
            "KNeighborsClassifier(algorithm='auto', leaf_size=30, metric='minkowski',\n",
            "                     metric_params=None, n_jobs=None, n_neighbors=1, p=2,\n",
            "                     weights='uniform')\n"
          ],
          "name": "stdout"
        }
      ]
    },
    {
      "cell_type": "markdown",
      "metadata": {
        "id": "nYyJyQvHOE0W",
        "colab_type": "text"
      },
      "source": [
        "**Step 3:** Fit the model with data (aka \"model training\")\n",
        "\n",
        "- Model is learning the relationship between X and y\n",
        "- Occurs in-place"
      ]
    },
    {
      "cell_type": "code",
      "metadata": {
        "id": "2Hdl5NttOE0X",
        "colab_type": "code",
        "colab": {
          "base_uri": "https://localhost:8080/",
          "height": 69
        },
        "outputId": "8aaa2aa0-251e-4077-d646-6ee46733ad54"
      },
      "source": [
        "knn.fit(X, y)"
      ],
      "execution_count": 6,
      "outputs": [
        {
          "output_type": "execute_result",
          "data": {
            "text/plain": [
              "KNeighborsClassifier(algorithm='auto', leaf_size=30, metric='minkowski',\n",
              "                     metric_params=None, n_jobs=None, n_neighbors=1, p=2,\n",
              "                     weights='uniform')"
            ]
          },
          "metadata": {
            "tags": []
          },
          "execution_count": 6
        }
      ]
    },
    {
      "cell_type": "markdown",
      "metadata": {
        "id": "2GAAk-SROE0a",
        "colab_type": "text"
      },
      "source": [
        "**Step 4:** Predict the response for a new observation\n",
        "\n",
        "- New observations are called \"out-of-sample\" data\n",
        "- Uses the information it learned during the model training process"
      ]
    },
    {
      "cell_type": "code",
      "metadata": {
        "id": "I0EtOKHhOE0b",
        "colab_type": "code",
        "colab": {
          "base_uri": "https://localhost:8080/",
          "height": 35
        },
        "outputId": "4d5d7976-4908-4ba6-e476-be214c88370e"
      },
      "source": [
        "knn.predict([[3, 5, 4, 2]])"
      ],
      "execution_count": 7,
      "outputs": [
        {
          "output_type": "execute_result",
          "data": {
            "text/plain": [
              "array([2])"
            ]
          },
          "metadata": {
            "tags": []
          },
          "execution_count": 7
        }
      ]
    },
    {
      "cell_type": "markdown",
      "metadata": {
        "id": "cn0xjdOfOE0c",
        "colab_type": "text"
      },
      "source": [
        "- Returns a NumPy array\n",
        "- Can predict for multiple observations at once"
      ]
    },
    {
      "cell_type": "code",
      "metadata": {
        "id": "ipUe7D3IOE0d",
        "colab_type": "code",
        "colab": {
          "base_uri": "https://localhost:8080/",
          "height": 35
        },
        "outputId": "39baf317-1d37-4e3b-ff2b-f55306185d59"
      },
      "source": [
        "X_new = [[3, 5, 4, 2], [5, 4, 3, 2]]\n",
        "knn.predict(X_new)"
      ],
      "execution_count": 8,
      "outputs": [
        {
          "output_type": "execute_result",
          "data": {
            "text/plain": [
              "array([2, 1])"
            ]
          },
          "metadata": {
            "tags": []
          },
          "execution_count": 8
        }
      ]
    },
    {
      "cell_type": "markdown",
      "metadata": {
        "id": "k7Qb2K91OE0e",
        "colab_type": "text"
      },
      "source": [
        "## Using a different value for K"
      ]
    },
    {
      "cell_type": "code",
      "metadata": {
        "id": "wkUZfOHzOE0f",
        "colab_type": "code",
        "colab": {
          "base_uri": "https://localhost:8080/",
          "height": 35
        },
        "outputId": "b724b615-abb3-4144-879e-5b1165951c40"
      },
      "source": [
        "# instantiate the model (using the value K=5)\n",
        "knn = KNeighborsClassifier(n_neighbors=5)\n",
        "\n",
        "# fit the model with data\n",
        "knn.fit(X, y)\n",
        "\n",
        "# predict the response for new observations\n",
        "knn.predict(X_new)"
      ],
      "execution_count": 9,
      "outputs": [
        {
          "output_type": "execute_result",
          "data": {
            "text/plain": [
              "array([1, 1])"
            ]
          },
          "metadata": {
            "tags": []
          },
          "execution_count": 9
        }
      ]
    },
    {
      "cell_type": "markdown",
      "metadata": {
        "id": "dQ0OJfUAOE0h",
        "colab_type": "text"
      },
      "source": [
        "## Using a different classification model"
      ]
    },
    {
      "cell_type": "code",
      "metadata": {
        "id": "V7ozPlSJOE0h",
        "colab_type": "code",
        "colab": {
          "base_uri": "https://localhost:8080/",
          "height": 124
        },
        "outputId": "b265fc6b-656a-4c6a-b7ac-a84e74829cee"
      },
      "source": [
        "# import the class\n",
        "from sklearn.linear_model import LogisticRegression\n",
        "\n",
        "# instantiate the model (using the default parameters)\n",
        "logreg = LogisticRegression()\n",
        "\n",
        "# fit the model with data\n",
        "logreg.fit(X, y)\n",
        "\n",
        "# predict the response for new observations\n",
        "logreg.predict(X_new)"
      ],
      "execution_count": 10,
      "outputs": [
        {
          "output_type": "stream",
          "text": [
            "/usr/local/lib/python3.6/dist-packages/sklearn/linear_model/logistic.py:432: FutureWarning: Default solver will be changed to 'lbfgs' in 0.22. Specify a solver to silence this warning.\n",
            "  FutureWarning)\n",
            "/usr/local/lib/python3.6/dist-packages/sklearn/linear_model/logistic.py:469: FutureWarning: Default multi_class will be changed to 'auto' in 0.22. Specify the multi_class option to silence this warning.\n",
            "  \"this warning.\", FutureWarning)\n"
          ],
          "name": "stderr"
        },
        {
          "output_type": "execute_result",
          "data": {
            "text/plain": [
              "array([2, 0])"
            ]
          },
          "metadata": {
            "tags": []
          },
          "execution_count": 10
        }
      ]
    },
    {
      "cell_type": "markdown",
      "metadata": {
        "id": "HJ9qFkq1OE0j",
        "colab_type": "text"
      },
      "source": [
        "## Resources\n",
        "\n",
        "- scikit-learn documentation: [Dataset loading utilities](http://scikit-learn.org/stable/datasets/)\n",
        "- Jake VanderPlas: Fast Numerical Computing with NumPy ([slides](https://speakerdeck.com/jakevdp/losing-your-loops-fast-numerical-computing-with-numpy-pycon-2015), [video](https://www.youtube.com/watch?v=EEUXKG97YRw))\n",
        "- Scott Shell: [An Introduction to NumPy](http://www.engr.ucsb.edu/~shell/che210d/numpy.pdf) (PDF)\n",
        "- [Nearest Neighbors](http://scikit-learn.org/stable/modules/neighbors.html) (user guide), [KNeighborsClassifier](http://scikit-learn.org/stable/modules/generated/sklearn.neighbors.KNeighborsClassifier.html) (class documentation)\n",
        "- [Logistic Regression](http://scikit-learn.org/stable/modules/linear_model.html#logistic-regression) (user guide), [LogisticRegression](http://scikit-learn.org/stable/modules/generated/sklearn.linear_model.LogisticRegression.html) (class documentation)\n",
        "- [Videos from An Introduction to Statistical Learning](http://www.dataschool.io/15-hours-of-expert-machine-learning-videos/)\n",
        "    - Classification Problems and K-Nearest Neighbors (Chapter 2)\n",
        "    - Introduction to Classification (Chapter 4)\n",
        "    - Logistic Regression and Maximum Likelihood (Chapter 4)"
      ]
    }
  ]
}