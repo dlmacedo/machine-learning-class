{
  "nbformat": 4,
  "nbformat_minor": 0,
  "metadata": {
    "kernelspec": {
      "display_name": "Python 3",
      "language": "python",
      "name": "python3"
    },
    "language_info": {
      "codemirror_mode": {
        "name": "ipython",
        "version": 3
      },
      "file_extension": ".py",
      "mimetype": "text/x-python",
      "name": "python",
      "nbconvert_exporter": "python",
      "pygments_lexer": "ipython3",
      "version": "3.6.5"
    },
    "colab": {
      "name": "SCIKIT_LEARN_05_Grid_Search.ipynb",
      "provenance": [],
      "include_colab_link": true
    }
  },
  "cells": [
    {
      "cell_type": "markdown",
      "metadata": {
        "id": "view-in-github",
        "colab_type": "text"
      },
      "source": [
        "<a href=\"https://colab.research.google.com/github/dlmacedo/ml-dl-notebooks/blob/master/notebooks/machine-learning/SCIKIT_LEARN_05_Grid_Search.ipynb\" target=\"_parent\"><img src=\"https://colab.research.google.com/assets/colab-badge.svg\" alt=\"Open In Colab\"/></a>"
      ]
    },
    {
      "cell_type": "markdown",
      "metadata": {
        "id": "xel16X2VZ1ao",
        "colab_type": "text"
      },
      "source": [
        "# Efficiently searching for optimal tuning parameters\n",
        "\n",
        "Created by [Data School](http://www.dataschool.io/). Modified by [David Macêdo](https://github.com/dlmacedo)."
      ]
    },
    {
      "cell_type": "markdown",
      "metadata": {
        "id": "K85hNyI2Z1ar",
        "colab_type": "text"
      },
      "source": [
        "## Agenda\n",
        "\n",
        "- How can K-fold cross-validation be used to search for an **optimal tuning parameter**?\n",
        "- How can this process be made **more efficient**?\n",
        "- How do you search for **multiple tuning parameters** at once?\n",
        "- What do you do with those tuning parameters before making **real predictions**?\n",
        "- How can the **computational expense** of this process be reduced?"
      ]
    },
    {
      "cell_type": "markdown",
      "metadata": {
        "id": "Xnm9uuncZ1as",
        "colab_type": "text"
      },
      "source": [
        "## Review of K-fold cross-validation"
      ]
    },
    {
      "cell_type": "markdown",
      "metadata": {
        "id": "-S_dKeQZZ1at",
        "colab_type": "text"
      },
      "source": [
        "Steps for cross-validation:\n",
        "\n",
        "- Dataset is split into K \"folds\" of **equal size**\n",
        "- Each fold acts as the **testing set** 1 time, and acts as the **training set** K-1 times\n",
        "- **Average testing performance** is used as the estimate of out-of-sample performance\n",
        "\n",
        "Benefits of cross-validation:\n",
        "\n",
        "- More **reliable** estimate of out-of-sample performance than train/test split\n",
        "- Can be used for selecting **tuning parameters**, choosing between **models**, and selecting **features**\n",
        "\n",
        "Drawbacks of cross-validation:\n",
        "\n",
        "- Can be computationally **expensive**"
      ]
    },
    {
      "cell_type": "markdown",
      "metadata": {
        "id": "wZi_IeYeZ1au",
        "colab_type": "text"
      },
      "source": [
        "## Review of parameter tuning using `cross_val_score`"
      ]
    },
    {
      "cell_type": "markdown",
      "metadata": {
        "id": "LnxvXuGNZ1av",
        "colab_type": "text"
      },
      "source": [
        "**Goal:** Select the best tuning parameters (aka \"hyperparameters\") for KNN on the iris dataset"
      ]
    },
    {
      "cell_type": "code",
      "metadata": {
        "id": "JFbjk4S_Z1aw",
        "colab_type": "code",
        "colab": {}
      },
      "source": [
        "from sklearn.datasets import load_iris\n",
        "from sklearn.neighbors import KNeighborsClassifier\n",
        "from sklearn.model_selection import cross_val_score\n",
        "import matplotlib.pyplot as plt\n",
        "%matplotlib inline"
      ],
      "execution_count": 0,
      "outputs": []
    },
    {
      "cell_type": "code",
      "metadata": {
        "id": "Qp-0qjlqZ1az",
        "colab_type": "code",
        "colab": {}
      },
      "source": [
        "# read in the iris data\n",
        "iris = load_iris()\n",
        "\n",
        "# create X (features) and y (response)\n",
        "X = iris.data\n",
        "y = iris.target"
      ],
      "execution_count": 0,
      "outputs": []
    },
    {
      "cell_type": "code",
      "metadata": {
        "id": "etDVpKE4Z1a1",
        "colab_type": "code",
        "colab": {
          "base_uri": "https://localhost:8080/",
          "height": 52
        },
        "outputId": "4cc22b10-d92e-4f55-cd50-d6a081398a29"
      },
      "source": [
        "# 10-fold cross-validation with K=5 for KNN (the n_neighbors parameter)\n",
        "knn = KNeighborsClassifier(n_neighbors=5)\n",
        "scores = cross_val_score(knn, X, y, cv=10, scoring='accuracy')\n",
        "print(scores)"
      ],
      "execution_count": 3,
      "outputs": [
        {
          "output_type": "stream",
          "text": [
            "[1.         0.93333333 1.         1.         0.86666667 0.93333333\n",
            " 0.93333333 1.         1.         1.        ]\n"
          ],
          "name": "stdout"
        }
      ]
    },
    {
      "cell_type": "code",
      "metadata": {
        "id": "BNPYngZeZ1a4",
        "colab_type": "code",
        "colab": {
          "base_uri": "https://localhost:8080/",
          "height": 35
        },
        "outputId": "ec2078ab-e6ce-439e-a655-c129b75808eb"
      },
      "source": [
        "# use average accuracy as an estimate of out-of-sample accuracy\n",
        "print(scores.mean())"
      ],
      "execution_count": 4,
      "outputs": [
        {
          "output_type": "stream",
          "text": [
            "0.9666666666666668\n"
          ],
          "name": "stdout"
        }
      ]
    },
    {
      "cell_type": "code",
      "metadata": {
        "id": "D_OyUEYbZ1a6",
        "colab_type": "code",
        "colab": {
          "base_uri": "https://localhost:8080/",
          "height": 55
        },
        "outputId": "99d8e868-d14e-4940-9b15-965ddd9ab635"
      },
      "source": [
        "# search for an optimal value of K for KNN\n",
        "k_range = list(range(1, 31))\n",
        "k_scores = []\n",
        "for k in k_range:\n",
        "    knn = KNeighborsClassifier(n_neighbors=k)\n",
        "    scores = cross_val_score(knn, X, y, cv=10, scoring='accuracy')\n",
        "    k_scores.append(scores.mean())\n",
        "print(k_scores)"
      ],
      "execution_count": 5,
      "outputs": [
        {
          "output_type": "stream",
          "text": [
            "[0.96, 0.9533333333333334, 0.9666666666666666, 0.9666666666666666, 0.9666666666666668, 0.9666666666666668, 0.9666666666666668, 0.9666666666666668, 0.9733333333333334, 0.9666666666666668, 0.9666666666666668, 0.9733333333333334, 0.9800000000000001, 0.9733333333333334, 0.9733333333333334, 0.9733333333333334, 0.9733333333333334, 0.9800000000000001, 0.9733333333333334, 0.9800000000000001, 0.9666666666666666, 0.9666666666666666, 0.9733333333333334, 0.96, 0.9666666666666666, 0.96, 0.9666666666666666, 0.9533333333333334, 0.9533333333333334, 0.9533333333333334]\n"
          ],
          "name": "stdout"
        }
      ]
    },
    {
      "cell_type": "code",
      "metadata": {
        "id": "EDKUyvqzZ1a8",
        "colab_type": "code",
        "colab": {
          "base_uri": "https://localhost:8080/",
          "height": 297
        },
        "outputId": "aedc8b27-f2af-41e2-bee9-ac65b25446f4"
      },
      "source": [
        "# plot the value of K for KNN (x-axis) versus the cross-validated accuracy (y-axis)\n",
        "plt.plot(k_range, k_scores)\n",
        "plt.xlabel('Value of K for KNN')\n",
        "plt.ylabel('Cross-Validated Accuracy')"
      ],
      "execution_count": 6,
      "outputs": [
        {
          "output_type": "execute_result",
          "data": {
            "text/plain": [
              "Text(0, 0.5, 'Cross-Validated Accuracy')"
            ]
          },
          "metadata": {
            "tags": []
          },
          "execution_count": 6
        },
        {
          "output_type": "display_data",
          "data": {
            "image/png": "[encoded data removed]",
            "text/plain": [
              "<Figure size 432x288 with 1 Axes>"
            ]
          },
          "metadata": {
            "tags": []
          }
        }
      ]
    },
    {
      "cell_type": "markdown",
      "metadata": {
        "id": "piQ24CGrZ1a-",
        "colab_type": "text"
      },
      "source": [
        "## More efficient parameter tuning using `GridSearchCV`"
      ]
    },
    {
      "cell_type": "markdown",
      "metadata": {
        "id": "Ic-zLX09Z1a_",
        "colab_type": "text"
      },
      "source": [
        "Allows you to define a **grid of parameters** that will be **searched** using K-fold cross-validation"
      ]
    },
    {
      "cell_type": "code",
      "metadata": {
        "id": "5_VuLeDmZ1a_",
        "colab_type": "code",
        "colab": {}
      },
      "source": [
        "from sklearn.model_selection import GridSearchCV"
      ],
      "execution_count": 0,
      "outputs": []
    },
    {
      "cell_type": "code",
      "metadata": {
        "id": "QRWAp8DCZ1bB",
        "colab_type": "code",
        "colab": {
          "base_uri": "https://localhost:8080/",
          "height": 35
        },
        "outputId": "a07b010c-bac6-47fe-bc49-804b36cab9fb"
      },
      "source": [
        "# define the parameter values that should be searched\n",
        "k_range = list(range(1, 31))\n",
        "print(k_range)"
      ],
      "execution_count": 8,
      "outputs": [
        {
          "output_type": "stream",
          "text": [
            "[1, 2, 3, 4, 5, 6, 7, 8, 9, 10, 11, 12, 13, 14, 15, 16, 17, 18, 19, 20, 21, 22, 23, 24, 25, 26, 27, 28, 29, 30]\n"
          ],
          "name": "stdout"
        }
      ]
    },
    {
      "cell_type": "code",
      "metadata": {
        "id": "GNzFfWKvZ1bD",
        "colab_type": "code",
        "colab": {
          "base_uri": "https://localhost:8080/",
          "height": 35
        },
        "outputId": "d2fe21e7-c8ca-4b78-e944-a9c9ac93b157"
      },
      "source": [
        "# create a parameter grid: map the parameter names to the values that should be searched\n",
        "param_grid = dict(n_neighbors=k_range)\n",
        "print(param_grid)"
      ],
      "execution_count": 9,
      "outputs": [
        {
          "output_type": "stream",
          "text": [
            "{'n_neighbors': [1, 2, 3, 4, 5, 6, 7, 8, 9, 10, 11, 12, 13, 14, 15, 16, 17, 18, 19, 20, 21, 22, 23, 24, 25, 26, 27, 28, 29, 30]}\n"
          ],
          "name": "stdout"
        }
      ]
    },
    {
      "cell_type": "code",
      "metadata": {
        "id": "b9un4KnxZ1bG",
        "colab_type": "code",
        "colab": {}
      },
      "source": [
        "# instantiate the grid\n",
        "grid = GridSearchCV(knn, param_grid, cv=10, scoring='accuracy', return_train_score=False)"
      ],
      "execution_count": 0,
      "outputs": []
    },
    {
      "cell_type": "markdown",
      "metadata": {
        "id": "DkZZ8tROZ1bK",
        "colab_type": "text"
      },
      "source": [
        "- You can set **`n_jobs = -1`** to run computations in parallel (if supported by your computer and OS)"
      ]
    },
    {
      "cell_type": "code",
      "metadata": {
        "id": "YmcZ-1djZ1bK",
        "colab_type": "code",
        "colab": {
          "base_uri": "https://localhost:8080/",
          "height": 225
        },
        "outputId": "17c04c62-46f8-4d62-ecb6-0477cee077ad"
      },
      "source": [
        "# fit the grid with data\n",
        "grid.fit(X, y)"
      ],
      "execution_count": 11,
      "outputs": [
        {
          "output_type": "execute_result",
          "data": {
            "text/plain": [
              "GridSearchCV(cv=10, error_score='raise-deprecating',\n",
              "             estimator=KNeighborsClassifier(algorithm='auto', leaf_size=30,\n",
              "                                            metric='minkowski',\n",
              "                                            metric_params=None, n_jobs=None,\n",
              "                                            n_neighbors=30, p=2,\n",
              "                                            weights='uniform'),\n",
              "             iid='warn', n_jobs=None,\n",
              "             param_grid={'n_neighbors': [1, 2, 3, 4, 5, 6, 7, 8, 9, 10, 11, 12,\n",
              "                                         13, 14, 15, 16, 17, 18, 19, 20, 21, 22,\n",
              "                                         23, 24, 25, 26, 27, 28, 29, 30]},\n",
              "             pre_dispatch='2*n_jobs', refit=True, return_train_score=False,\n",
              "             scoring='accuracy', verbose=0)"
            ]
          },
          "metadata": {
            "tags": []
          },
          "execution_count": 11
        }
      ]
    },
    {
      "cell_type": "code",
      "metadata": {
        "id": "WzMMMZumZ1bM",
        "colab_type": "code",
        "colab": {
          "base_uri": "https://localhost:8080/",
          "height": 969
        },
        "outputId": "a012876b-bd1d-4a91-83f0-5a85e4715310"
      },
      "source": [
        "# view the results as a pandas DataFrame\n",
        "import pandas as pd\n",
        "pd.DataFrame(grid.cv_results_)[['mean_test_score', 'std_test_score', 'params']]"
      ],
      "execution_count": 12,
      "outputs": [
        {
          "output_type": "execute_result",
          "data": {
            "text/html": [
              "<div>\n",
              "<style scoped>\n",
              "    .dataframe tbody tr th:only-of-type {\n",
              "        vertical-align: middle;\n",
              "    }\n",
              "\n",
              "    .dataframe tbody tr th {\n",
              "        vertical-align: top;\n",
              "    }\n",
              "\n",
              "    .dataframe thead th {\n",
              "        text-align: right;\n",
              "    }\n",
              "</style>\n",
              "<table border=\"1\" class=\"dataframe\">\n",
              "  <thead>\n",
              "    <tr style=\"text-align: right;\">\n",
              "      <th></th>\n",
              "      <th>mean_test_score</th>\n",
              "      <th>std_test_score</th>\n",
              "      <th>params</th>\n",
              "    </tr>\n",
              "  </thead>\n",
              "  <tbody>\n",
              "    <tr>\n",
              "      <th>0</th>\n",
              "      <td>0.960000</td>\n",
              "      <td>0.053333</td>\n",
              "      <td>{'n_neighbors': 1}</td>\n",
              "    </tr>\n",
              "    <tr>\n",
              "      <th>1</th>\n",
              "      <td>0.953333</td>\n",
              "      <td>0.052068</td>\n",
              "      <td>{'n_neighbors': 2}</td>\n",
              "    </tr>\n",
              "    <tr>\n",
              "      <th>2</th>\n",
              "      <td>0.966667</td>\n",
              "      <td>0.044721</td>\n",
              "      <td>{'n_neighbors': 3}</td>\n",
              "    </tr>\n",
              "    <tr>\n",
              "      <th>3</th>\n",
              "      <td>0.966667</td>\n",
              "      <td>0.044721</td>\n",
              "      <td>{'n_neighbors': 4}</td>\n",
              "    </tr>\n",
              "    <tr>\n",
              "      <th>4</th>\n",
              "      <td>0.966667</td>\n",
              "      <td>0.044721</td>\n",
              "      <td>{'n_neighbors': 5}</td>\n",
              "    </tr>\n",
              "    <tr>\n",
              "      <th>5</th>\n",
              "      <td>0.966667</td>\n",
              "      <td>0.044721</td>\n",
              "      <td>{'n_neighbors': 6}</td>\n",
              "    </tr>\n",
              "    <tr>\n",
              "      <th>6</th>\n",
              "      <td>0.966667</td>\n",
              "      <td>0.044721</td>\n",
              "      <td>{'n_neighbors': 7}</td>\n",
              "    </tr>\n",
              "    <tr>\n",
              "      <th>7</th>\n",
              "      <td>0.966667</td>\n",
              "      <td>0.044721</td>\n",
              "      <td>{'n_neighbors': 8}</td>\n",
              "    </tr>\n",
              "    <tr>\n",
              "      <th>8</th>\n",
              "      <td>0.973333</td>\n",
              "      <td>0.032660</td>\n",
              "      <td>{'n_neighbors': 9}</td>\n",
              "    </tr>\n",
              "    <tr>\n",
              "      <th>9</th>\n",
              "      <td>0.966667</td>\n",
              "      <td>0.044721</td>\n",
              "      <td>{'n_neighbors': 10}</td>\n",
              "    </tr>\n",
              "    <tr>\n",
              "      <th>10</th>\n",
              "      <td>0.966667</td>\n",
              "      <td>0.044721</td>\n",
              "      <td>{'n_neighbors': 11}</td>\n",
              "    </tr>\n",
              "    <tr>\n",
              "      <th>11</th>\n",
              "      <td>0.973333</td>\n",
              "      <td>0.032660</td>\n",
              "      <td>{'n_neighbors': 12}</td>\n",
              "    </tr>\n",
              "    <tr>\n",
              "      <th>12</th>\n",
              "      <td>0.980000</td>\n",
              "      <td>0.030551</td>\n",
              "      <td>{'n_neighbors': 13}</td>\n",
              "    </tr>\n",
              "    <tr>\n",
              "      <th>13</th>\n",
              "      <td>0.973333</td>\n",
              "      <td>0.044222</td>\n",
              "      <td>{'n_neighbors': 14}</td>\n",
              "    </tr>\n",
              "    <tr>\n",
              "      <th>14</th>\n",
              "      <td>0.973333</td>\n",
              "      <td>0.032660</td>\n",
              "      <td>{'n_neighbors': 15}</td>\n",
              "    </tr>\n",
              "    <tr>\n",
              "      <th>15</th>\n",
              "      <td>0.973333</td>\n",
              "      <td>0.032660</td>\n",
              "      <td>{'n_neighbors': 16}</td>\n",
              "    </tr>\n",
              "    <tr>\n",
              "      <th>16</th>\n",
              "      <td>0.973333</td>\n",
              "      <td>0.032660</td>\n",
              "      <td>{'n_neighbors': 17}</td>\n",
              "    </tr>\n",
              "    <tr>\n",
              "      <th>17</th>\n",
              "      <td>0.980000</td>\n",
              "      <td>0.030551</td>\n",
              "      <td>{'n_neighbors': 18}</td>\n",
              "    </tr>\n",
              "    <tr>\n",
              "      <th>18</th>\n",
              "      <td>0.973333</td>\n",
              "      <td>0.032660</td>\n",
              "      <td>{'n_neighbors': 19}</td>\n",
              "    </tr>\n",
              "    <tr>\n",
              "      <th>19</th>\n",
              "      <td>0.980000</td>\n",
              "      <td>0.030551</td>\n",
              "      <td>{'n_neighbors': 20}</td>\n",
              "    </tr>\n",
              "    <tr>\n",
              "      <th>20</th>\n",
              "      <td>0.966667</td>\n",
              "      <td>0.033333</td>\n",
              "      <td>{'n_neighbors': 21}</td>\n",
              "    </tr>\n",
              "    <tr>\n",
              "      <th>21</th>\n",
              "      <td>0.966667</td>\n",
              "      <td>0.033333</td>\n",
              "      <td>{'n_neighbors': 22}</td>\n",
              "    </tr>\n",
              "    <tr>\n",
              "      <th>22</th>\n",
              "      <td>0.973333</td>\n",
              "      <td>0.032660</td>\n",
              "      <td>{'n_neighbors': 23}</td>\n",
              "    </tr>\n",
              "    <tr>\n",
              "      <th>23</th>\n",
              "      <td>0.960000</td>\n",
              "      <td>0.044222</td>\n",
              "      <td>{'n_neighbors': 24}</td>\n",
              "    </tr>\n",
              "    <tr>\n",
              "      <th>24</th>\n",
              "      <td>0.966667</td>\n",
              "      <td>0.033333</td>\n",
              "      <td>{'n_neighbors': 25}</td>\n",
              "    </tr>\n",
              "    <tr>\n",
              "      <th>25</th>\n",
              "      <td>0.960000</td>\n",
              "      <td>0.044222</td>\n",
              "      <td>{'n_neighbors': 26}</td>\n",
              "    </tr>\n",
              "    <tr>\n",
              "      <th>26</th>\n",
              "      <td>0.966667</td>\n",
              "      <td>0.044721</td>\n",
              "      <td>{'n_neighbors': 27}</td>\n",
              "    </tr>\n",
              "    <tr>\n",
              "      <th>27</th>\n",
              "      <td>0.953333</td>\n",
              "      <td>0.042687</td>\n",
              "      <td>{'n_neighbors': 28}</td>\n",
              "    </tr>\n",
              "    <tr>\n",
              "      <th>28</th>\n",
              "      <td>0.953333</td>\n",
              "      <td>0.042687</td>\n",
              "      <td>{'n_neighbors': 29}</td>\n",
              "    </tr>\n",
              "    <tr>\n",
              "      <th>29</th>\n",
              "      <td>0.953333</td>\n",
              "      <td>0.042687</td>\n",
              "      <td>{'n_neighbors': 30}</td>\n",
              "    </tr>\n",
              "  </tbody>\n",
              "</table>\n",
              "</div>"
            ],
            "text/plain": [
              "    mean_test_score  std_test_score               params\n",
              "0          0.960000        0.053333   {'n_neighbors': 1}\n",
              "1          0.953333        0.052068   {'n_neighbors': 2}\n",
              "2          0.966667        0.044721   {'n_neighbors': 3}\n",
              "3          0.966667        0.044721   {'n_neighbors': 4}\n",
              "4          0.966667        0.044721   {'n_neighbors': 5}\n",
              "5          0.966667        0.044721   {'n_neighbors': 6}\n",
              "6          0.966667        0.044721   {'n_neighbors': 7}\n",
              "7          0.966667        0.044721   {'n_neighbors': 8}\n",
              "8          0.973333        0.032660   {'n_neighbors': 9}\n",
              "9          0.966667        0.044721  {'n_neighbors': 10}\n",
              "10         0.966667        0.044721  {'n_neighbors': 11}\n",
              "11         0.973333        0.032660  {'n_neighbors': 12}\n",
              "12         0.980000        0.030551  {'n_neighbors': 13}\n",
              "13         0.973333        0.044222  {'n_neighbors': 14}\n",
              "14         0.973333        0.032660  {'n_neighbors': 15}\n",
              "15         0.973333        0.032660  {'n_neighbors': 16}\n",
              "16         0.973333        0.032660  {'n_neighbors': 17}\n",
              "17         0.980000        0.030551  {'n_neighbors': 18}\n",
              "18         0.973333        0.032660  {'n_neighbors': 19}\n",
              "19         0.980000        0.030551  {'n_neighbors': 20}\n",
              "20         0.966667        0.033333  {'n_neighbors': 21}\n",
              "21         0.966667        0.033333  {'n_neighbors': 22}\n",
              "22         0.973333        0.032660  {'n_neighbors': 23}\n",
              "23         0.960000        0.044222  {'n_neighbors': 24}\n",
              "24         0.966667        0.033333  {'n_neighbors': 25}\n",
              "25         0.960000        0.044222  {'n_neighbors': 26}\n",
              "26         0.966667        0.044721  {'n_neighbors': 27}\n",
              "27         0.953333        0.042687  {'n_neighbors': 28}\n",
              "28         0.953333        0.042687  {'n_neighbors': 29}\n",
              "29         0.953333        0.042687  {'n_neighbors': 30}"
            ]
          },
          "metadata": {
            "tags": []
          },
          "execution_count": 12
        }
      ]
    },
    {
      "cell_type": "code",
      "metadata": {
        "id": "ue70lQQoZ1bO",
        "colab_type": "code",
        "colab": {
          "base_uri": "https://localhost:8080/",
          "height": 52
        },
        "outputId": "251a97c3-1e77-4766-9d7b-fef627cc171f"
      },
      "source": [
        "# examine the first result\n",
        "print(grid.cv_results_['params'][0])\n",
        "print(grid.cv_results_['mean_test_score'][0])"
      ],
      "execution_count": 13,
      "outputs": [
        {
          "output_type": "stream",
          "text": [
            "{'n_neighbors': 1}\n",
            "0.96\n"
          ],
          "name": "stdout"
        }
      ]
    },
    {
      "cell_type": "code",
      "metadata": {
        "id": "Fmc2DTK5Z1bQ",
        "colab_type": "code",
        "colab": {
          "base_uri": "https://localhost:8080/",
          "height": 104
        },
        "outputId": "3de2a0f4-4044-4da5-e07d-3d4acbcca147"
      },
      "source": [
        "# print the array of mean scores only\n",
        "grid_mean_scores = grid.cv_results_['mean_test_score']\n",
        "print(grid_mean_scores)"
      ],
      "execution_count": 14,
      "outputs": [
        {
          "output_type": "stream",
          "text": [
            "[0.96       0.95333333 0.96666667 0.96666667 0.96666667 0.96666667\n",
            " 0.96666667 0.96666667 0.97333333 0.96666667 0.96666667 0.97333333\n",
            " 0.98       0.97333333 0.97333333 0.97333333 0.97333333 0.98\n",
            " 0.97333333 0.98       0.96666667 0.96666667 0.97333333 0.96\n",
            " 0.96666667 0.96       0.96666667 0.95333333 0.95333333 0.95333333]\n"
          ],
          "name": "stdout"
        }
      ]
    },
    {
      "cell_type": "code",
      "metadata": {
        "id": "suWdC8IWZ1bR",
        "colab_type": "code",
        "colab": {
          "base_uri": "https://localhost:8080/",
          "height": 297
        },
        "outputId": "2048e966-d924-4e5c-dd36-8741ef3d2da4"
      },
      "source": [
        "# plot the results\n",
        "plt.plot(k_range, grid_mean_scores)\n",
        "plt.xlabel('Value of K for KNN')\n",
        "plt.ylabel('Cross-Validated Accuracy')"
      ],
      "execution_count": 15,
      "outputs": [
        {
          "output_type": "execute_result",
          "data": {
            "text/plain": [
              "Text(0, 0.5, 'Cross-Validated Accuracy')"
            ]
          },
          "metadata": {
            "tags": []
          },
          "execution_count": 15
        },
        {
          "output_type": "display_data",
          "data": {
            "image/png": "[encoded data removed]",
            "text/plain": [
              "<Figure size 432x288 with 1 Axes>"
            ]
          },
          "metadata": {
            "tags": []
          }
        }
      ]
    },
    {
      "cell_type": "code",
      "metadata": {
        "id": "KE3oRmZyZ1bT",
        "colab_type": "code",
        "colab": {
          "base_uri": "https://localhost:8080/",
          "height": 104
        },
        "outputId": "f62a62d7-3576-476d-9f8b-bf21902eecae"
      },
      "source": [
        "# examine the best model\n",
        "print(grid.best_score_)\n",
        "print(grid.best_params_)\n",
        "print(grid.best_estimator_)"
      ],
      "execution_count": 16,
      "outputs": [
        {
          "output_type": "stream",
          "text": [
            "0.98\n",
            "{'n_neighbors': 13}\n",
            "KNeighborsClassifier(algorithm='auto', leaf_size=30, metric='minkowski',\n",
            "                     metric_params=None, n_jobs=None, n_neighbors=13, p=2,\n",
            "                     weights='uniform')\n"
          ],
          "name": "stdout"
        }
      ]
    },
    {
      "cell_type": "markdown",
      "metadata": {
        "id": "zIqzkK6rZ1bV",
        "colab_type": "text"
      },
      "source": [
        "## Searching multiple parameters simultaneously"
      ]
    },
    {
      "cell_type": "markdown",
      "metadata": {
        "id": "b3R4kPIhZ1bV",
        "colab_type": "text"
      },
      "source": [
        "- **Example:** tuning `max_depth` and `min_samples_leaf` for a `DecisionTreeClassifier`\n",
        "- Could tune parameters **independently**: change `max_depth` while leaving `min_samples_leaf` at its default value, and vice versa\n",
        "- But, best performance might be achieved when **neither parameter** is at its default value"
      ]
    },
    {
      "cell_type": "code",
      "metadata": {
        "id": "4-Gp-AzKZ1bW",
        "colab_type": "code",
        "colab": {}
      },
      "source": [
        "# define the parameter values that should be searched\n",
        "k_range = list(range(1, 31))\n",
        "weight_options = ['uniform', 'distance']"
      ],
      "execution_count": 0,
      "outputs": []
    },
    {
      "cell_type": "code",
      "metadata": {
        "id": "tcDICPU5Z1bZ",
        "colab_type": "code",
        "colab": {
          "base_uri": "https://localhost:8080/",
          "height": 55
        },
        "outputId": "6855eb69-8438-4c4f-e58a-1df51924b01d"
      },
      "source": [
        "# create a parameter grid: map the parameter names to the values that should be searched\n",
        "param_grid = dict(n_neighbors=k_range, weights=weight_options)\n",
        "print(param_grid)"
      ],
      "execution_count": 18,
      "outputs": [
        {
          "output_type": "stream",
          "text": [
            "{'n_neighbors': [1, 2, 3, 4, 5, 6, 7, 8, 9, 10, 11, 12, 13, 14, 15, 16, 17, 18, 19, 20, 21, 22, 23, 24, 25, 26, 27, 28, 29, 30], 'weights': ['uniform', 'distance']}\n"
          ],
          "name": "stdout"
        }
      ]
    },
    {
      "cell_type": "code",
      "metadata": {
        "id": "VtdUhba_Z1bb",
        "colab_type": "code",
        "colab": {
          "base_uri": "https://localhost:8080/",
          "height": 243
        },
        "outputId": "8405d632-b356-4ce0-edd5-22f83d681100"
      },
      "source": [
        "# instantiate and fit the grid\n",
        "grid = GridSearchCV(knn, param_grid, cv=10, scoring='accuracy', return_train_score=False)\n",
        "grid.fit(X, y)"
      ],
      "execution_count": 19,
      "outputs": [
        {
          "output_type": "execute_result",
          "data": {
            "text/plain": [
              "GridSearchCV(cv=10, error_score='raise-deprecating',\n",
              "             estimator=KNeighborsClassifier(algorithm='auto', leaf_size=30,\n",
              "                                            metric='minkowski',\n",
              "                                            metric_params=None, n_jobs=None,\n",
              "                                            n_neighbors=30, p=2,\n",
              "                                            weights='uniform'),\n",
              "             iid='warn', n_jobs=None,\n",
              "             param_grid={'n_neighbors': [1, 2, 3, 4, 5, 6, 7, 8, 9, 10, 11, 12,\n",
              "                                         13, 14, 15, 16, 17, 18, 19, 20, 21, 22,\n",
              "                                         23, 24, 25, 26, 27, 28, 29, 30],\n",
              "                         'weights': ['uniform', 'distance']},\n",
              "             pre_dispatch='2*n_jobs', refit=True, return_train_score=False,\n",
              "             scoring='accuracy', verbose=0)"
            ]
          },
          "metadata": {
            "tags": []
          },
          "execution_count": 19
        }
      ]
    },
    {
      "cell_type": "code",
      "metadata": {
        "id": "rNguqtD1Z1bd",
        "colab_type": "code",
        "colab": {
          "base_uri": "https://localhost:8080/",
          "height": 1000
        },
        "outputId": "ab34a9e0-d9b9-4d5e-eeb4-51d71c970d4b"
      },
      "source": [
        "# view the results\n",
        "pd.DataFrame(grid.cv_results_)[['mean_test_score', 'std_test_score', 'params']]"
      ],
      "execution_count": 20,
      "outputs": [
        {
          "output_type": "execute_result",
          "data": {
            "text/html": [
              "<div>\n",
              "<style scoped>\n",
              "    .dataframe tbody tr th:only-of-type {\n",
              "        vertical-align: middle;\n",
              "    }\n",
              "\n",
              "    .dataframe tbody tr th {\n",
              "        vertical-align: top;\n",
              "    }\n",
              "\n",
              "    .dataframe thead th {\n",
              "        text-align: right;\n",
              "    }\n",
              "</style>\n",
              "<table border=\"1\" class=\"dataframe\">\n",
              "  <thead>\n",
              "    <tr style=\"text-align: right;\">\n",
              "      <th></th>\n",
              "      <th>mean_test_score</th>\n",
              "      <th>std_test_score</th>\n",
              "      <th>params</th>\n",
              "    </tr>\n",
              "  </thead>\n",
              "  <tbody>\n",
              "    <tr>\n",
              "      <th>0</th>\n",
              "      <td>0.960000</td>\n",
              "      <td>0.053333</td>\n",
              "      <td>{'n_neighbors': 1, 'weights': 'uniform'}</td>\n",
              "    </tr>\n",
              "    <tr>\n",
              "      <th>1</th>\n",
              "      <td>0.960000</td>\n",
              "      <td>0.053333</td>\n",
              "      <td>{'n_neighbors': 1, 'weights': 'distance'}</td>\n",
              "    </tr>\n",
              "    <tr>\n",
              "      <th>2</th>\n",
              "      <td>0.953333</td>\n",
              "      <td>0.052068</td>\n",
              "      <td>{'n_neighbors': 2, 'weights': 'uniform'}</td>\n",
              "    </tr>\n",
              "    <tr>\n",
              "      <th>3</th>\n",
              "      <td>0.960000</td>\n",
              "      <td>0.053333</td>\n",
              "      <td>{'n_neighbors': 2, 'weights': 'distance'}</td>\n",
              "    </tr>\n",
              "    <tr>\n",
              "      <th>4</th>\n",
              "      <td>0.966667</td>\n",
              "      <td>0.044721</td>\n",
              "      <td>{'n_neighbors': 3, 'weights': 'uniform'}</td>\n",
              "    </tr>\n",
              "    <tr>\n",
              "      <th>5</th>\n",
              "      <td>0.966667</td>\n",
              "      <td>0.044721</td>\n",
              "      <td>{'n_neighbors': 3, 'weights': 'distance'}</td>\n",
              "    </tr>\n",
              "    <tr>\n",
              "      <th>6</th>\n",
              "      <td>0.966667</td>\n",
              "      <td>0.044721</td>\n",
              "      <td>{'n_neighbors': 4, 'weights': 'uniform'}</td>\n",
              "    </tr>\n",
              "    <tr>\n",
              "      <th>7</th>\n",
              "      <td>0.966667</td>\n",
              "      <td>0.044721</td>\n",
              "      <td>{'n_neighbors': 4, 'weights': 'distance'}</td>\n",
              "    </tr>\n",
              "    <tr>\n",
              "      <th>8</th>\n",
              "      <td>0.966667</td>\n",
              "      <td>0.044721</td>\n",
              "      <td>{'n_neighbors': 5, 'weights': 'uniform'}</td>\n",
              "    </tr>\n",
              "    <tr>\n",
              "      <th>9</th>\n",
              "      <td>0.966667</td>\n",
              "      <td>0.044721</td>\n",
              "      <td>{'n_neighbors': 5, 'weights': 'distance'}</td>\n",
              "    </tr>\n",
              "    <tr>\n",
              "      <th>10</th>\n",
              "      <td>0.966667</td>\n",
              "      <td>0.044721</td>\n",
              "      <td>{'n_neighbors': 6, 'weights': 'uniform'}</td>\n",
              "    </tr>\n",
              "    <tr>\n",
              "      <th>11</th>\n",
              "      <td>0.966667</td>\n",
              "      <td>0.044721</td>\n",
              "      <td>{'n_neighbors': 6, 'weights': 'distance'}</td>\n",
              "    </tr>\n",
              "    <tr>\n",
              "      <th>12</th>\n",
              "      <td>0.966667</td>\n",
              "      <td>0.044721</td>\n",
              "      <td>{'n_neighbors': 7, 'weights': 'uniform'}</td>\n",
              "    </tr>\n",
              "    <tr>\n",
              "      <th>13</th>\n",
              "      <td>0.966667</td>\n",
              "      <td>0.044721</td>\n",
              "      <td>{'n_neighbors': 7, 'weights': 'distance'}</td>\n",
              "    </tr>\n",
              "    <tr>\n",
              "      <th>14</th>\n",
              "      <td>0.966667</td>\n",
              "      <td>0.044721</td>\n",
              "      <td>{'n_neighbors': 8, 'weights': 'uniform'}</td>\n",
              "    </tr>\n",
              "    <tr>\n",
              "      <th>15</th>\n",
              "      <td>0.966667</td>\n",
              "      <td>0.044721</td>\n",
              "      <td>{'n_neighbors': 8, 'weights': 'distance'}</td>\n",
              "    </tr>\n",
              "    <tr>\n",
              "      <th>16</th>\n",
              "      <td>0.973333</td>\n",
              "      <td>0.032660</td>\n",
              "      <td>{'n_neighbors': 9, 'weights': 'uniform'}</td>\n",
              "    </tr>\n",
              "    <tr>\n",
              "      <th>17</th>\n",
              "      <td>0.973333</td>\n",
              "      <td>0.032660</td>\n",
              "      <td>{'n_neighbors': 9, 'weights': 'distance'}</td>\n",
              "    </tr>\n",
              "    <tr>\n",
              "      <th>18</th>\n",
              "      <td>0.966667</td>\n",
              "      <td>0.044721</td>\n",
              "      <td>{'n_neighbors': 10, 'weights': 'uniform'}</td>\n",
              "    </tr>\n",
              "    <tr>\n",
              "      <th>19</th>\n",
              "      <td>0.973333</td>\n",
              "      <td>0.032660</td>\n",
              "      <td>{'n_neighbors': 10, 'weights': 'distance'}</td>\n",
              "    </tr>\n",
              "    <tr>\n",
              "      <th>20</th>\n",
              "      <td>0.966667</td>\n",
              "      <td>0.044721</td>\n",
              "      <td>{'n_neighbors': 11, 'weights': 'uniform'}</td>\n",
              "    </tr>\n",
              "    <tr>\n",
              "      <th>21</th>\n",
              "      <td>0.973333</td>\n",
              "      <td>0.032660</td>\n",
              "      <td>{'n_neighbors': 11, 'weights': 'distance'}</td>\n",
              "    </tr>\n",
              "    <tr>\n",
              "      <th>22</th>\n",
              "      <td>0.973333</td>\n",
              "      <td>0.032660</td>\n",
              "      <td>{'n_neighbors': 12, 'weights': 'uniform'}</td>\n",
              "    </tr>\n",
              "    <tr>\n",
              "      <th>23</th>\n",
              "      <td>0.973333</td>\n",
              "      <td>0.044222</td>\n",
              "      <td>{'n_neighbors': 12, 'weights': 'distance'}</td>\n",
              "    </tr>\n",
              "    <tr>\n",
              "      <th>24</th>\n",
              "      <td>0.980000</td>\n",
              "      <td>0.030551</td>\n",
              "      <td>{'n_neighbors': 13, 'weights': 'uniform'}</td>\n",
              "    </tr>\n",
              "    <tr>\n",
              "      <th>25</th>\n",
              "      <td>0.973333</td>\n",
              "      <td>0.032660</td>\n",
              "      <td>{'n_neighbors': 13, 'weights': 'distance'}</td>\n",
              "    </tr>\n",
              "    <tr>\n",
              "      <th>26</th>\n",
              "      <td>0.973333</td>\n",
              "      <td>0.044222</td>\n",
              "      <td>{'n_neighbors': 14, 'weights': 'uniform'}</td>\n",
              "    </tr>\n",
              "    <tr>\n",
              "      <th>27</th>\n",
              "      <td>0.973333</td>\n",
              "      <td>0.032660</td>\n",
              "      <td>{'n_neighbors': 14, 'weights': 'distance'}</td>\n",
              "    </tr>\n",
              "    <tr>\n",
              "      <th>28</th>\n",
              "      <td>0.973333</td>\n",
              "      <td>0.032660</td>\n",
              "      <td>{'n_neighbors': 15, 'weights': 'uniform'}</td>\n",
              "    </tr>\n",
              "    <tr>\n",
              "      <th>29</th>\n",
              "      <td>0.980000</td>\n",
              "      <td>0.030551</td>\n",
              "      <td>{'n_neighbors': 15, 'weights': 'distance'}</td>\n",
              "    </tr>\n",
              "    <tr>\n",
              "      <th>30</th>\n",
              "      <td>0.973333</td>\n",
              "      <td>0.032660</td>\n",
              "      <td>{'n_neighbors': 16, 'weights': 'uniform'}</td>\n",
              "    </tr>\n",
              "    <tr>\n",
              "      <th>31</th>\n",
              "      <td>0.973333</td>\n",
              "      <td>0.032660</td>\n",
              "      <td>{'n_neighbors': 16, 'weights': 'distance'}</td>\n",
              "    </tr>\n",
              "    <tr>\n",
              "      <th>32</th>\n",
              "      <td>0.973333</td>\n",
              "      <td>0.032660</td>\n",
              "      <td>{'n_neighbors': 17, 'weights': 'uniform'}</td>\n",
              "    </tr>\n",
              "    <tr>\n",
              "      <th>33</th>\n",
              "      <td>0.980000</td>\n",
              "      <td>0.030551</td>\n",
              "      <td>{'n_neighbors': 17, 'weights': 'distance'}</td>\n",
              "    </tr>\n",
              "    <tr>\n",
              "      <th>34</th>\n",
              "      <td>0.980000</td>\n",
              "      <td>0.030551</td>\n",
              "      <td>{'n_neighbors': 18, 'weights': 'uniform'}</td>\n",
              "    </tr>\n",
              "    <tr>\n",
              "      <th>35</th>\n",
              "      <td>0.973333</td>\n",
              "      <td>0.032660</td>\n",
              "      <td>{'n_neighbors': 18, 'weights': 'distance'}</td>\n",
              "    </tr>\n",
              "    <tr>\n",
              "      <th>36</th>\n",
              "      <td>0.973333</td>\n",
              "      <td>0.032660</td>\n",
              "      <td>{'n_neighbors': 19, 'weights': 'uniform'}</td>\n",
              "    </tr>\n",
              "    <tr>\n",
              "      <th>37</th>\n",
              "      <td>0.980000</td>\n",
              "      <td>0.030551</td>\n",
              "      <td>{'n_neighbors': 19, 'weights': 'distance'}</td>\n",
              "    </tr>\n",
              "    <tr>\n",
              "      <th>38</th>\n",
              "      <td>0.980000</td>\n",
              "      <td>0.030551</td>\n",
              "      <td>{'n_neighbors': 20, 'weights': 'uniform'}</td>\n",
              "    </tr>\n",
              "    <tr>\n",
              "      <th>39</th>\n",
              "      <td>0.966667</td>\n",
              "      <td>0.044721</td>\n",
              "      <td>{'n_neighbors': 20, 'weights': 'distance'}</td>\n",
              "    </tr>\n",
              "    <tr>\n",
              "      <th>40</th>\n",
              "      <td>0.966667</td>\n",
              "      <td>0.033333</td>\n",
              "      <td>{'n_neighbors': 21, 'weights': 'uniform'}</td>\n",
              "    </tr>\n",
              "    <tr>\n",
              "      <th>41</th>\n",
              "      <td>0.966667</td>\n",
              "      <td>0.044721</td>\n",
              "      <td>{'n_neighbors': 21, 'weights': 'distance'}</td>\n",
              "    </tr>\n",
              "    <tr>\n",
              "      <th>42</th>\n",
              "      <td>0.966667</td>\n",
              "      <td>0.033333</td>\n",
              "      <td>{'n_neighbors': 22, 'weights': 'uniform'}</td>\n",
              "    </tr>\n",
              "    <tr>\n",
              "      <th>43</th>\n",
              "      <td>0.966667</td>\n",
              "      <td>0.044721</td>\n",
              "      <td>{'n_neighbors': 22, 'weights': 'distance'}</td>\n",
              "    </tr>\n",
              "    <tr>\n",
              "      <th>44</th>\n",
              "      <td>0.973333</td>\n",
              "      <td>0.032660</td>\n",
              "      <td>{'n_neighbors': 23, 'weights': 'uniform'}</td>\n",
              "    </tr>\n",
              "    <tr>\n",
              "      <th>45</th>\n",
              "      <td>0.973333</td>\n",
              "      <td>0.032660</td>\n",
              "      <td>{'n_neighbors': 23, 'weights': 'distance'}</td>\n",
              "    </tr>\n",
              "    <tr>\n",
              "      <th>46</th>\n",
              "      <td>0.960000</td>\n",
              "      <td>0.044222</td>\n",
              "      <td>{'n_neighbors': 24, 'weights': 'uniform'}</td>\n",
              "    </tr>\n",
              "    <tr>\n",
              "      <th>47</th>\n",
              "      <td>0.973333</td>\n",
              "      <td>0.032660</td>\n",
              "      <td>{'n_neighbors': 24, 'weights': 'distance'}</td>\n",
              "    </tr>\n",
              "    <tr>\n",
              "      <th>48</th>\n",
              "      <td>0.966667</td>\n",
              "      <td>0.033333</td>\n",
              "      <td>{'n_neighbors': 25, 'weights': 'uniform'}</td>\n",
              "    </tr>\n",
              "    <tr>\n",
              "      <th>49</th>\n",
              "      <td>0.973333</td>\n",
              "      <td>0.032660</td>\n",
              "      <td>{'n_neighbors': 25, 'weights': 'distance'}</td>\n",
              "    </tr>\n",
              "    <tr>\n",
              "      <th>50</th>\n",
              "      <td>0.960000</td>\n",
              "      <td>0.044222</td>\n",
              "      <td>{'n_neighbors': 26, 'weights': 'uniform'}</td>\n",
              "    </tr>\n",
              "    <tr>\n",
              "      <th>51</th>\n",
              "      <td>0.966667</td>\n",
              "      <td>0.044721</td>\n",
              "      <td>{'n_neighbors': 26, 'weights': 'distance'}</td>\n",
              "    </tr>\n",
              "    <tr>\n",
              "      <th>52</th>\n",
              "      <td>0.966667</td>\n",
              "      <td>0.044721</td>\n",
              "      <td>{'n_neighbors': 27, 'weights': 'uniform'}</td>\n",
              "    </tr>\n",
              "    <tr>\n",
              "      <th>53</th>\n",
              "      <td>0.980000</td>\n",
              "      <td>0.030551</td>\n",
              "      <td>{'n_neighbors': 27, 'weights': 'distance'}</td>\n",
              "    </tr>\n",
              "    <tr>\n",
              "      <th>54</th>\n",
              "      <td>0.953333</td>\n",
              "      <td>0.042687</td>\n",
              "      <td>{'n_neighbors': 28, 'weights': 'uniform'}</td>\n",
              "    </tr>\n",
              "    <tr>\n",
              "      <th>55</th>\n",
              "      <td>0.973333</td>\n",
              "      <td>0.032660</td>\n",
              "      <td>{'n_neighbors': 28, 'weights': 'distance'}</td>\n",
              "    </tr>\n",
              "    <tr>\n",
              "      <th>56</th>\n",
              "      <td>0.953333</td>\n",
              "      <td>0.042687</td>\n",
              "      <td>{'n_neighbors': 29, 'weights': 'uniform'}</td>\n",
              "    </tr>\n",
              "    <tr>\n",
              "      <th>57</th>\n",
              "      <td>0.973333</td>\n",
              "      <td>0.032660</td>\n",
              "      <td>{'n_neighbors': 29, 'weights': 'distance'}</td>\n",
              "    </tr>\n",
              "    <tr>\n",
              "      <th>58</th>\n",
              "      <td>0.953333</td>\n",
              "      <td>0.042687</td>\n",
              "      <td>{'n_neighbors': 30, 'weights': 'uniform'}</td>\n",
              "    </tr>\n",
              "    <tr>\n",
              "      <th>59</th>\n",
              "      <td>0.966667</td>\n",
              "      <td>0.033333</td>\n",
              "      <td>{'n_neighbors': 30, 'weights': 'distance'}</td>\n",
              "    </tr>\n",
              "  </tbody>\n",
              "</table>\n",
              "</div>"
            ],
            "text/plain": [
              "    mean_test_score  std_test_score                                      params\n",
              "0          0.960000        0.053333    {'n_neighbors': 1, 'weights': 'uniform'}\n",
              "1          0.960000        0.053333   {'n_neighbors': 1, 'weights': 'distance'}\n",
              "2          0.953333        0.052068    {'n_neighbors': 2, 'weights': 'uniform'}\n",
              "3          0.960000        0.053333   {'n_neighbors': 2, 'weights': 'distance'}\n",
              "4          0.966667        0.044721    {'n_neighbors': 3, 'weights': 'uniform'}\n",
              "5          0.966667        0.044721   {'n_neighbors': 3, 'weights': 'distance'}\n",
              "6          0.966667        0.044721    {'n_neighbors': 4, 'weights': 'uniform'}\n",
              "7          0.966667        0.044721   {'n_neighbors': 4, 'weights': 'distance'}\n",
              "8          0.966667        0.044721    {'n_neighbors': 5, 'weights': 'uniform'}\n",
              "9          0.966667        0.044721   {'n_neighbors': 5, 'weights': 'distance'}\n",
              "10         0.966667        0.044721    {'n_neighbors': 6, 'weights': 'uniform'}\n",
              "11         0.966667        0.044721   {'n_neighbors': 6, 'weights': 'distance'}\n",
              "12         0.966667        0.044721    {'n_neighbors': 7, 'weights': 'uniform'}\n",
              "13         0.966667        0.044721   {'n_neighbors': 7, 'weights': 'distance'}\n",
              "14         0.966667        0.044721    {'n_neighbors': 8, 'weights': 'uniform'}\n",
              "15         0.966667        0.044721   {'n_neighbors': 8, 'weights': 'distance'}\n",
              "16         0.973333        0.032660    {'n_neighbors': 9, 'weights': 'uniform'}\n",
              "17         0.973333        0.032660   {'n_neighbors': 9, 'weights': 'distance'}\n",
              "18         0.966667        0.044721   {'n_neighbors': 10, 'weights': 'uniform'}\n",
              "19         0.973333        0.032660  {'n_neighbors': 10, 'weights': 'distance'}\n",
              "20         0.966667        0.044721   {'n_neighbors': 11, 'weights': 'uniform'}\n",
              "21         0.973333        0.032660  {'n_neighbors': 11, 'weights': 'distance'}\n",
              "22         0.973333        0.032660   {'n_neighbors': 12, 'weights': 'uniform'}\n",
              "23         0.973333        0.044222  {'n_neighbors': 12, 'weights': 'distance'}\n",
              "24         0.980000        0.030551   {'n_neighbors': 13, 'weights': 'uniform'}\n",
              "25         0.973333        0.032660  {'n_neighbors': 13, 'weights': 'distance'}\n",
              "26         0.973333        0.044222   {'n_neighbors': 14, 'weights': 'uniform'}\n",
              "27         0.973333        0.032660  {'n_neighbors': 14, 'weights': 'distance'}\n",
              "28         0.973333        0.032660   {'n_neighbors': 15, 'weights': 'uniform'}\n",
              "29         0.980000        0.030551  {'n_neighbors': 15, 'weights': 'distance'}\n",
              "30         0.973333        0.032660   {'n_neighbors': 16, 'weights': 'uniform'}\n",
              "31         0.973333        0.032660  {'n_neighbors': 16, 'weights': 'distance'}\n",
              "32         0.973333        0.032660   {'n_neighbors': 17, 'weights': 'uniform'}\n",
              "33         0.980000        0.030551  {'n_neighbors': 17, 'weights': 'distance'}\n",
              "34         0.980000        0.030551   {'n_neighbors': 18, 'weights': 'uniform'}\n",
              "35         0.973333        0.032660  {'n_neighbors': 18, 'weights': 'distance'}\n",
              "36         0.973333        0.032660   {'n_neighbors': 19, 'weights': 'uniform'}\n",
              "37         0.980000        0.030551  {'n_neighbors': 19, 'weights': 'distance'}\n",
              "38         0.980000        0.030551   {'n_neighbors': 20, 'weights': 'uniform'}\n",
              "39         0.966667        0.044721  {'n_neighbors': 20, 'weights': 'distance'}\n",
              "40         0.966667        0.033333   {'n_neighbors': 21, 'weights': 'uniform'}\n",
              "41         0.966667        0.044721  {'n_neighbors': 21, 'weights': 'distance'}\n",
              "42         0.966667        0.033333   {'n_neighbors': 22, 'weights': 'uniform'}\n",
              "43         0.966667        0.044721  {'n_neighbors': 22, 'weights': 'distance'}\n",
              "44         0.973333        0.032660   {'n_neighbors': 23, 'weights': 'uniform'}\n",
              "45         0.973333        0.032660  {'n_neighbors': 23, 'weights': 'distance'}\n",
              "46         0.960000        0.044222   {'n_neighbors': 24, 'weights': 'uniform'}\n",
              "47         0.973333        0.032660  {'n_neighbors': 24, 'weights': 'distance'}\n",
              "48         0.966667        0.033333   {'n_neighbors': 25, 'weights': 'uniform'}\n",
              "49         0.973333        0.032660  {'n_neighbors': 25, 'weights': 'distance'}\n",
              "50         0.960000        0.044222   {'n_neighbors': 26, 'weights': 'uniform'}\n",
              "51         0.966667        0.044721  {'n_neighbors': 26, 'weights': 'distance'}\n",
              "52         0.966667        0.044721   {'n_neighbors': 27, 'weights': 'uniform'}\n",
              "53         0.980000        0.030551  {'n_neighbors': 27, 'weights': 'distance'}\n",
              "54         0.953333        0.042687   {'n_neighbors': 28, 'weights': 'uniform'}\n",
              "55         0.973333        0.032660  {'n_neighbors': 28, 'weights': 'distance'}\n",
              "56         0.953333        0.042687   {'n_neighbors': 29, 'weights': 'uniform'}\n",
              "57         0.973333        0.032660  {'n_neighbors': 29, 'weights': 'distance'}\n",
              "58         0.953333        0.042687   {'n_neighbors': 30, 'weights': 'uniform'}\n",
              "59         0.966667        0.033333  {'n_neighbors': 30, 'weights': 'distance'}"
            ]
          },
          "metadata": {
            "tags": []
          },
          "execution_count": 20
        }
      ]
    },
    {
      "cell_type": "code",
      "metadata": {
        "id": "OB2uRwvKZ1bf",
        "colab_type": "code",
        "colab": {
          "base_uri": "https://localhost:8080/",
          "height": 52
        },
        "outputId": "f7c181d7-ee0f-42b8-a301-3dc0a5b27044"
      },
      "source": [
        "# examine the best model\n",
        "print(grid.best_score_)\n",
        "print(grid.best_params_)"
      ],
      "execution_count": 21,
      "outputs": [
        {
          "output_type": "stream",
          "text": [
            "0.98\n",
            "{'n_neighbors': 13, 'weights': 'uniform'}\n"
          ],
          "name": "stdout"
        }
      ]
    },
    {
      "cell_type": "markdown",
      "metadata": {
        "id": "UWkAwYjaZ1bg",
        "colab_type": "text"
      },
      "source": [
        "## Using the best parameters to make predictions"
      ]
    },
    {
      "cell_type": "code",
      "metadata": {
        "id": "inJX_YLkZ1bh",
        "colab_type": "code",
        "colab": {
          "base_uri": "https://localhost:8080/",
          "height": 35
        },
        "outputId": "dacf96a2-6a4b-4dc7-9c84-a32b2805947a"
      },
      "source": [
        "# train your model using all data and the best known parameters\n",
        "knn = KNeighborsClassifier(n_neighbors=13, weights='uniform')\n",
        "knn.fit(X, y)\n",
        "\n",
        "# make a prediction on out-of-sample data\n",
        "knn.predict([[3, 5, 4, 2]])"
      ],
      "execution_count": 22,
      "outputs": [
        {
          "output_type": "execute_result",
          "data": {
            "text/plain": [
              "array([1])"
            ]
          },
          "metadata": {
            "tags": []
          },
          "execution_count": 22
        }
      ]
    },
    {
      "cell_type": "code",
      "metadata": {
        "id": "K8F5rHKOZ1bi",
        "colab_type": "code",
        "colab": {
          "base_uri": "https://localhost:8080/",
          "height": 35
        },
        "outputId": "4c81e5cb-7311-4088-d758-3014eeadf0ff"
      },
      "source": [
        "# shortcut: GridSearchCV automatically refits the best model using all of the data\n",
        "grid.predict([[3, 5, 4, 2]])"
      ],
      "execution_count": 23,
      "outputs": [
        {
          "output_type": "execute_result",
          "data": {
            "text/plain": [
              "array([1])"
            ]
          },
          "metadata": {
            "tags": []
          },
          "execution_count": 23
        }
      ]
    },
    {
      "cell_type": "markdown",
      "metadata": {
        "id": "ogobMqJGZ1bk",
        "colab_type": "text"
      },
      "source": [
        "## Reducing computational expense using `RandomizedSearchCV`"
      ]
    },
    {
      "cell_type": "markdown",
      "metadata": {
        "id": "t2X_oI0uZ1bk",
        "colab_type": "text"
      },
      "source": [
        "- Searching many different parameters at once may be computationally infeasible\n",
        "- `RandomizedSearchCV` searches a subset of the parameters, and you control the computational \"budget\""
      ]
    },
    {
      "cell_type": "code",
      "metadata": {
        "id": "2W7vn0EYZ1bl",
        "colab_type": "code",
        "colab": {}
      },
      "source": [
        "from sklearn.model_selection import RandomizedSearchCV"
      ],
      "execution_count": 0,
      "outputs": []
    },
    {
      "cell_type": "code",
      "metadata": {
        "id": "Dh2jR0N3Z1bn",
        "colab_type": "code",
        "colab": {}
      },
      "source": [
        "# specify \"parameter distributions\" rather than a \"parameter grid\"\n",
        "param_dist = dict(n_neighbors=k_range, weights=weight_options)"
      ],
      "execution_count": 0,
      "outputs": []
    },
    {
      "cell_type": "markdown",
      "metadata": {
        "id": "SGCjEBKNZ1bp",
        "colab_type": "text"
      },
      "source": [
        "- **Important:** Specify a continuous distribution (rather than a list of values) for any continous parameters"
      ]
    },
    {
      "cell_type": "code",
      "metadata": {
        "id": "GOwdBrrUZ1bp",
        "colab_type": "code",
        "colab": {
          "base_uri": "https://localhost:8080/",
          "height": 355
        },
        "outputId": "e7a9b6dc-c3c4-41dc-a4d0-d1f80766f664"
      },
      "source": [
        "# n_iter controls the number of searches\n",
        "rand = RandomizedSearchCV(knn, param_dist, cv=10, scoring='accuracy', n_iter=10, random_state=5, return_train_score=False)\n",
        "rand.fit(X, y)\n",
        "pd.DataFrame(rand.cv_results_)[['mean_test_score', 'std_test_score', 'params']]"
      ],
      "execution_count": 26,
      "outputs": [
        {
          "output_type": "execute_result",
          "data": {
            "text/html": [
              "<div>\n",
              "<style scoped>\n",
              "    .dataframe tbody tr th:only-of-type {\n",
              "        vertical-align: middle;\n",
              "    }\n",
              "\n",
              "    .dataframe tbody tr th {\n",
              "        vertical-align: top;\n",
              "    }\n",
              "\n",
              "    .dataframe thead th {\n",
              "        text-align: right;\n",
              "    }\n",
              "</style>\n",
              "<table border=\"1\" class=\"dataframe\">\n",
              "  <thead>\n",
              "    <tr style=\"text-align: right;\">\n",
              "      <th></th>\n",
              "      <th>mean_test_score</th>\n",
              "      <th>std_test_score</th>\n",
              "      <th>params</th>\n",
              "    </tr>\n",
              "  </thead>\n",
              "  <tbody>\n",
              "    <tr>\n",
              "      <th>0</th>\n",
              "      <td>0.973333</td>\n",
              "      <td>0.032660</td>\n",
              "      <td>{'weights': 'distance', 'n_neighbors': 16}</td>\n",
              "    </tr>\n",
              "    <tr>\n",
              "      <th>1</th>\n",
              "      <td>0.966667</td>\n",
              "      <td>0.033333</td>\n",
              "      <td>{'weights': 'uniform', 'n_neighbors': 22}</td>\n",
              "    </tr>\n",
              "    <tr>\n",
              "      <th>2</th>\n",
              "      <td>0.980000</td>\n",
              "      <td>0.030551</td>\n",
              "      <td>{'weights': 'uniform', 'n_neighbors': 18}</td>\n",
              "    </tr>\n",
              "    <tr>\n",
              "      <th>3</th>\n",
              "      <td>0.966667</td>\n",
              "      <td>0.044721</td>\n",
              "      <td>{'weights': 'uniform', 'n_neighbors': 27}</td>\n",
              "    </tr>\n",
              "    <tr>\n",
              "      <th>4</th>\n",
              "      <td>0.953333</td>\n",
              "      <td>0.042687</td>\n",
              "      <td>{'weights': 'uniform', 'n_neighbors': 29}</td>\n",
              "    </tr>\n",
              "    <tr>\n",
              "      <th>5</th>\n",
              "      <td>0.973333</td>\n",
              "      <td>0.032660</td>\n",
              "      <td>{'weights': 'distance', 'n_neighbors': 10}</td>\n",
              "    </tr>\n",
              "    <tr>\n",
              "      <th>6</th>\n",
              "      <td>0.966667</td>\n",
              "      <td>0.044721</td>\n",
              "      <td>{'weights': 'distance', 'n_neighbors': 22}</td>\n",
              "    </tr>\n",
              "    <tr>\n",
              "      <th>7</th>\n",
              "      <td>0.973333</td>\n",
              "      <td>0.044222</td>\n",
              "      <td>{'weights': 'uniform', 'n_neighbors': 14}</td>\n",
              "    </tr>\n",
              "    <tr>\n",
              "      <th>8</th>\n",
              "      <td>0.973333</td>\n",
              "      <td>0.044222</td>\n",
              "      <td>{'weights': 'distance', 'n_neighbors': 12}</td>\n",
              "    </tr>\n",
              "    <tr>\n",
              "      <th>9</th>\n",
              "      <td>0.973333</td>\n",
              "      <td>0.032660</td>\n",
              "      <td>{'weights': 'uniform', 'n_neighbors': 15}</td>\n",
              "    </tr>\n",
              "  </tbody>\n",
              "</table>\n",
              "</div>"
            ],
            "text/plain": [
              "   mean_test_score  std_test_score                                      params\n",
              "0         0.973333        0.032660  {'weights': 'distance', 'n_neighbors': 16}\n",
              "1         0.966667        0.033333   {'weights': 'uniform', 'n_neighbors': 22}\n",
              "2         0.980000        0.030551   {'weights': 'uniform', 'n_neighbors': 18}\n",
              "3         0.966667        0.044721   {'weights': 'uniform', 'n_neighbors': 27}\n",
              "4         0.953333        0.042687   {'weights': 'uniform', 'n_neighbors': 29}\n",
              "5         0.973333        0.032660  {'weights': 'distance', 'n_neighbors': 10}\n",
              "6         0.966667        0.044721  {'weights': 'distance', 'n_neighbors': 22}\n",
              "7         0.973333        0.044222   {'weights': 'uniform', 'n_neighbors': 14}\n",
              "8         0.973333        0.044222  {'weights': 'distance', 'n_neighbors': 12}\n",
              "9         0.973333        0.032660   {'weights': 'uniform', 'n_neighbors': 15}"
            ]
          },
          "metadata": {
            "tags": []
          },
          "execution_count": 26
        }
      ]
    },
    {
      "cell_type": "code",
      "metadata": {
        "id": "gb7OKmbPZ1bs",
        "colab_type": "code",
        "colab": {
          "base_uri": "https://localhost:8080/",
          "height": 52
        },
        "outputId": "f7a531b2-97a8-4331-ab4d-3c19306eb4c7"
      },
      "source": [
        "# examine the best model\n",
        "print(rand.best_score_)\n",
        "print(rand.best_params_)"
      ],
      "execution_count": 27,
      "outputs": [
        {
          "output_type": "stream",
          "text": [
            "0.98\n",
            "{'weights': 'uniform', 'n_neighbors': 18}\n"
          ],
          "name": "stdout"
        }
      ]
    },
    {
      "cell_type": "code",
      "metadata": {
        "id": "QfSVik-FZ1bu",
        "colab_type": "code",
        "colab": {
          "base_uri": "https://localhost:8080/",
          "height": 35
        },
        "outputId": "c74dee8e-bef3-4240-ec73-cbbc7081894e"
      },
      "source": [
        "# run RandomizedSearchCV 20 times (with n_iter=10) and record the best score\n",
        "best_scores = []\n",
        "for _ in range(20):\n",
        "    rand = RandomizedSearchCV(knn, param_dist, cv=10, scoring='accuracy', n_iter=10, return_train_score=False)\n",
        "    rand.fit(X, y)\n",
        "    best_scores.append(round(rand.best_score_, 3))\n",
        "print(best_scores)"
      ],
      "execution_count": 28,
      "outputs": [
        {
          "output_type": "stream",
          "text": [
            "[0.98, 0.98, 0.973, 0.973, 0.98, 0.98, 0.973, 0.98, 0.98, 0.98, 0.98, 0.98, 0.98, 0.98, 0.98, 0.98, 0.98, 0.98, 0.98, 0.98]\n"
          ],
          "name": "stdout"
        }
      ]
    },
    {
      "cell_type": "markdown",
      "metadata": {
        "id": "f2mBr_VMZ1bw",
        "colab_type": "text"
      },
      "source": [
        "## Resources\n",
        "\n",
        "- scikit-learn documentation: [Grid search](http://scikit-learn.org/stable/modules/grid_search.html), [GridSearchCV](http://scikit-learn.org/stable/modules/generated/sklearn.model_selection.GridSearchCV.html), [RandomizedSearchCV](http://scikit-learn.org/stable/modules/generated/sklearn.model_selection.RandomizedSearchCV.html)\n",
        "- Timed example: [Comparing randomized search and grid search](http://scikit-learn.org/stable/auto_examples/model_selection/plot_randomized_search.html)\n",
        "- scikit-learn workshop by Andreas Mueller: [Video segment on randomized search](https://youtu.be/0wUF_Ov8b0A?t=17m38s) (3 minutes), [related notebook](https://github.com/amueller/pydata-nyc-advanced-sklearn/blob/master/Chapter%203%20-%20Randomized%20Hyper%20Parameter%20Search.ipynb)\n",
        "- Paper by Yoshua Bengio: [Random Search for Hyper-Parameter Optimization](http://www.jmlr.org/papers/volume13/bergstra12a/bergstra12a.pdf)"
      ]
    }
  ]
}