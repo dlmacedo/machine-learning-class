{
  "nbformat": 4,
  "nbformat_minor": 0,
  "metadata": {
    "anaconda-cloud": {},
    "kernelspec": {
      "display_name": "Python 3",
      "language": "python",
      "name": "python3"
    },
    "language_info": {
      "codemirror_mode": {
        "name": "ipython",
        "version": 3
      },
      "file_extension": ".py",
      "mimetype": "text/x-python",
      "name": "python",
      "nbconvert_exporter": "python",
      "pygments_lexer": "ipython3",
      "version": "3.5.1"
    },
    "colab": {
      "name": "PANDAS_03_Data_Indexing_And_Selection.ipynb",
      "provenance": [],
      "include_colab_link": true
    }
  },
  "cells": [
    {
      "cell_type": "markdown",
      "metadata": {
        "id": "view-in-github",
        "colab_type": "text"
      },
      "source": [
        "<a href=\"https://colab.research.google.com/github/dlmacedo/maxtrack/blob/master/notebooks/machine-learning/PANDAS_03_Data_Indexing_And_Selection.ipynb\" target=\"_parent\"><img src=\"https://colab.research.google.com/assets/colab-badge.svg\" alt=\"Open In Colab\"/></a>"
      ]
    },
    {
      "cell_type": "markdown",
      "metadata": {
        "id": "chg5PS7lEINh",
        "colab_type": "text"
      },
      "source": [
        "# Data Indexing and Selection"
      ]
    },
    {
      "cell_type": "markdown",
      "metadata": {
        "id": "lOp8-SRdEINj",
        "colab_type": "text"
      },
      "source": [
        "We looked in detail at methods and tools to access, set, and modify values in NumPy arrays.\n",
        "These included indexing (e.g., ``arr[2, 1]``), slicing (e.g., ``arr[:, 1:5]``), masking (e.g., ``arr[arr > 0]``), fancy indexing (e.g., ``arr[0, [1, 5]]``), and combinations thereof (e.g., ``arr[:, [1, 5]]``).\n",
        "Here we'll look at similar means of accessing and modifying values in Pandas ``Series`` and ``DataFrame`` objects.\n",
        "If you have used the NumPy patterns, the corresponding patterns in Pandas will feel very familiar, though there are a few quirks to be aware of.\n",
        "\n",
        "We'll start with the simple case of the one-dimensional ``Series`` object, and then move on to the more complicated two-dimesnional ``DataFrame`` object."
      ]
    },
    {
      "cell_type": "markdown",
      "metadata": {
        "id": "JeIp2b_nEINk",
        "colab_type": "text"
      },
      "source": [
        "## Data Selection in Series\n",
        "\n",
        "As we saw in the previous section, a ``Series`` object acts in many ways like a one-dimensional NumPy array, and in many ways like a standard Python dictionary.\n",
        "If we keep these two overlapping analogies in mind, it will help us to understand the patterns of data indexing and selection in these arrays."
      ]
    },
    {
      "cell_type": "markdown",
      "metadata": {
        "id": "hgwf3o_6EINn",
        "colab_type": "text"
      },
      "source": [
        "### Series as dictionary\n",
        "\n",
        "Like a dictionary, the ``Series`` object provides a mapping from a collection of keys to a collection of values:"
      ]
    },
    {
      "cell_type": "code",
      "metadata": {
        "id": "Lj0KLaVlEINp",
        "colab_type": "code",
        "colab": {}
      },
      "source": [
        "import pandas as pd\n",
        "data = pd.Series([0.25, 0.5, 0.75, 1.0],\n",
        "                 index=['a', 'b', 'c', 'd'])\n",
        "data"
      ],
      "execution_count": 0,
      "outputs": []
    },
    {
      "cell_type": "code",
      "metadata": {
        "id": "N0PJEOL1EINv",
        "colab_type": "code",
        "colab": {}
      },
      "source": [
        "data['b']"
      ],
      "execution_count": 0,
      "outputs": []
    },
    {
      "cell_type": "markdown",
      "metadata": {
        "id": "emc-yAkyEINz",
        "colab_type": "text"
      },
      "source": [
        "We can also use dictionary-like Python expressions and methods to examine the keys/indices and values:"
      ]
    },
    {
      "cell_type": "code",
      "metadata": {
        "id": "vROtwNvQEIN0",
        "colab_type": "code",
        "colab": {}
      },
      "source": [
        "'a' in data"
      ],
      "execution_count": 0,
      "outputs": []
    },
    {
      "cell_type": "code",
      "metadata": {
        "id": "BvqQk3rxEIN4",
        "colab_type": "code",
        "colab": {}
      },
      "source": [
        "data.keys()"
      ],
      "execution_count": 0,
      "outputs": []
    },
    {
      "cell_type": "code",
      "metadata": {
        "id": "bL3hz7vSEIN8",
        "colab_type": "code",
        "colab": {}
      },
      "source": [
        "list(data.items())"
      ],
      "execution_count": 0,
      "outputs": []
    },
    {
      "cell_type": "markdown",
      "metadata": {
        "id": "1XX8ZqcwEIOB",
        "colab_type": "text"
      },
      "source": [
        "``Series`` objects can even be modified with a dictionary-like syntax.\n",
        "Just as you can extend a dictionary by assigning to a new key, you can extend a ``Series`` by assigning to a new index value:"
      ]
    },
    {
      "cell_type": "code",
      "metadata": {
        "id": "pL-_8kg6EIOC",
        "colab_type": "code",
        "colab": {}
      },
      "source": [
        "data['e'] = 1.25\n",
        "data"
      ],
      "execution_count": 0,
      "outputs": []
    },
    {
      "cell_type": "markdown",
      "metadata": {
        "id": "xSDMEOXBEIOG",
        "colab_type": "text"
      },
      "source": [
        "This easy mutability of the objects is a convenient feature: under the hood, Pandas is making decisions about memory layout and data copying that might need to take place; the user generally does not need to worry about these issues."
      ]
    },
    {
      "cell_type": "markdown",
      "metadata": {
        "id": "1qOOZ0CQEIOH",
        "colab_type": "text"
      },
      "source": [
        "### Series as one-dimensional array"
      ]
    },
    {
      "cell_type": "markdown",
      "metadata": {
        "id": "cDC0CVAOEIOI",
        "colab_type": "text"
      },
      "source": [
        "A ``Series`` builds on this dictionary-like interface and provides array-style item selection via the same basic mechanisms as NumPy arrays – that is, *slices*, *masking*, and *fancy indexing*.\n",
        "Examples of these are as follows:"
      ]
    },
    {
      "cell_type": "code",
      "metadata": {
        "id": "x3MyR8pSEIOK",
        "colab_type": "code",
        "colab": {}
      },
      "source": [
        "# slicing by explicit index\n",
        "data['a':'c']"
      ],
      "execution_count": 0,
      "outputs": []
    },
    {
      "cell_type": "code",
      "metadata": {
        "id": "54x4PHwuEIOO",
        "colab_type": "code",
        "colab": {}
      },
      "source": [
        "# slicing by implicit integer index\n",
        "data[0:2]"
      ],
      "execution_count": 0,
      "outputs": []
    },
    {
      "cell_type": "code",
      "metadata": {
        "id": "e2VuuqVlEIOR",
        "colab_type": "code",
        "colab": {}
      },
      "source": [
        "# masking\n",
        "data[(data > 0.3) & (data < 0.8)]"
      ],
      "execution_count": 0,
      "outputs": []
    },
    {
      "cell_type": "code",
      "metadata": {
        "id": "xdd5M0U_EIOV",
        "colab_type": "code",
        "colab": {}
      },
      "source": [
        "# fancy indexing\n",
        "data[['a', 'e']]"
      ],
      "execution_count": 0,
      "outputs": []
    },
    {
      "cell_type": "markdown",
      "metadata": {
        "id": "fBc2WlkiEIOa",
        "colab_type": "text"
      },
      "source": [
        "Among these, slicing may be the source of the most confusion.\n",
        "Notice that when slicing with an explicit index (i.e., ``data['a':'c']``), the final index is *included* in the slice, while when slicing with an implicit index (i.e., ``data[0:2]``), the final index is *excluded* from the slice."
      ]
    },
    {
      "cell_type": "markdown",
      "metadata": {
        "id": "_RpNQz1eEIOb",
        "colab_type": "text"
      },
      "source": [
        "### Indexers: loc, iloc, and ix\n",
        "\n",
        "These slicing and indexing conventions can be a source of confusion.\n",
        "For example, if your ``Series`` has an explicit integer index, an indexing operation such as ``data[1]`` will use the explicit indices, while a slicing operation like ``data[1:3]`` will use the implicit Python-style index."
      ]
    },
    {
      "cell_type": "code",
      "metadata": {
        "id": "6XIMeC_hEIOc",
        "colab_type": "code",
        "colab": {}
      },
      "source": [
        "data = pd.Series(['a', 'b', 'c'], index=[1, 3, 5])\n",
        "data"
      ],
      "execution_count": 0,
      "outputs": []
    },
    {
      "cell_type": "code",
      "metadata": {
        "id": "Aw2A1G6IEIOf",
        "colab_type": "code",
        "colab": {}
      },
      "source": [
        "# explicit index when indexing\n",
        "data[1]"
      ],
      "execution_count": 0,
      "outputs": []
    },
    {
      "cell_type": "code",
      "metadata": {
        "id": "WpFIX55VEIOj",
        "colab_type": "code",
        "colab": {}
      },
      "source": [
        "# implicit index when slicing\n",
        "data[1:3]"
      ],
      "execution_count": 0,
      "outputs": []
    },
    {
      "cell_type": "markdown",
      "metadata": {
        "id": "cVIy6SBHEIOm",
        "colab_type": "text"
      },
      "source": [
        "Because of this potential confusion in the case of integer indexes, Pandas provides some special *indexer* attributes that explicitly expose certain indexing schemes.\n",
        "These are not functional methods, but attributes that expose a particular slicing interface to the data in the ``Series``.\n",
        "\n",
        "First, the ``loc`` attribute allows indexing and slicing that always references the explicit index:"
      ]
    },
    {
      "cell_type": "code",
      "metadata": {
        "id": "xGIBVP65EIOn",
        "colab_type": "code",
        "colab": {}
      },
      "source": [
        "data.loc[1]"
      ],
      "execution_count": 0,
      "outputs": []
    },
    {
      "cell_type": "code",
      "metadata": {
        "id": "akRva7WDEIOr",
        "colab_type": "code",
        "colab": {}
      },
      "source": [
        "data.loc[1:3]"
      ],
      "execution_count": 0,
      "outputs": []
    },
    {
      "cell_type": "markdown",
      "metadata": {
        "id": "uAaGYfAXEIOv",
        "colab_type": "text"
      },
      "source": [
        "The ``iloc`` attribute allows indexing and slicing that always references the implicit Python-style index:"
      ]
    },
    {
      "cell_type": "code",
      "metadata": {
        "id": "H4s07MSMEIOw",
        "colab_type": "code",
        "colab": {}
      },
      "source": [
        "data.iloc[1]"
      ],
      "execution_count": 0,
      "outputs": []
    },
    {
      "cell_type": "code",
      "metadata": {
        "id": "JPlVwtbREIO1",
        "colab_type": "code",
        "colab": {}
      },
      "source": [
        "data.iloc[1:3]"
      ],
      "execution_count": 0,
      "outputs": []
    },
    {
      "cell_type": "markdown",
      "metadata": {
        "id": "wbpERurtEIO8",
        "colab_type": "text"
      },
      "source": [
        "A third indexing attribute, ``ix``, is a hybrid of the two, and for ``Series`` objects is equivalent to standard ``[]``-based indexing.\n",
        "The purpose of the ``ix`` indexer will become more apparent in the context of ``DataFrame`` objects, which we will discuss in a moment.\n",
        "\n",
        "One guiding principle of Python code is that \"explicit is better than implicit.\"\n",
        "The explicit nature of ``loc`` and ``iloc`` make them very useful in maintaining clean and readable code; especially in the case of integer indexes, I recommend using these both to make code easier to read and understand, and to prevent subtle bugs due to the mixed indexing/slicing convention."
      ]
    },
    {
      "cell_type": "markdown",
      "metadata": {
        "id": "KM-IWUYHEIO9",
        "colab_type": "text"
      },
      "source": [
        "## Data Selection in DataFrame\n",
        "\n",
        "Recall that a ``DataFrame`` acts in many ways like a two-dimensional or structured array, and in other ways like a dictionary of ``Series`` structures sharing the same index.\n",
        "These analogies can be helpful to keep in mind as we explore data selection within this structure."
      ]
    },
    {
      "cell_type": "markdown",
      "metadata": {
        "id": "P-QMB0vEEIO_",
        "colab_type": "text"
      },
      "source": [
        "### DataFrame as a dictionary\n",
        "\n",
        "The first analogy we will consider is the ``DataFrame`` as a dictionary of related ``Series`` objects.\n",
        "Let's return to our example of areas and populations of states:"
      ]
    },
    {
      "cell_type": "code",
      "metadata": {
        "id": "-W0AR5NSEIPA",
        "colab_type": "code",
        "colab": {}
      },
      "source": [
        "area = pd.Series({'California': 423967, 'Texas': 695662,\n",
        "                  'New York': 141297, 'Florida': 170312,\n",
        "                  'Illinois': 149995})\n",
        "pop = pd.Series({'California': 38332521, 'Texas': 26448193,\n",
        "                 'New York': 19651127, 'Florida': 19552860,\n",
        "                 'Illinois': 12882135})\n",
        "data = pd.DataFrame({'area':area, 'pop':pop})\n",
        "data"
      ],
      "execution_count": 0,
      "outputs": []
    },
    {
      "cell_type": "markdown",
      "metadata": {
        "id": "jIW9T_w8EIPF",
        "colab_type": "text"
      },
      "source": [
        "The individual ``Series`` that make up the columns of the ``DataFrame`` can be accessed via dictionary-style indexing of the column name:"
      ]
    },
    {
      "cell_type": "code",
      "metadata": {
        "id": "jJ7Lv-sUEIPG",
        "colab_type": "code",
        "colab": {}
      },
      "source": [
        "data['area']"
      ],
      "execution_count": 0,
      "outputs": []
    },
    {
      "cell_type": "markdown",
      "metadata": {
        "id": "kgYnlXCgEIPK",
        "colab_type": "text"
      },
      "source": [
        "Equivalently, we can use attribute-style access with column names that are strings:"
      ]
    },
    {
      "cell_type": "code",
      "metadata": {
        "id": "INJ0g5UmEIPL",
        "colab_type": "code",
        "colab": {}
      },
      "source": [
        "data.area"
      ],
      "execution_count": 0,
      "outputs": []
    },
    {
      "cell_type": "markdown",
      "metadata": {
        "id": "cGYIJjIuEIPO",
        "colab_type": "text"
      },
      "source": [
        "This attribute-style column access actually accesses the exact same object as the dictionary-style access:"
      ]
    },
    {
      "cell_type": "code",
      "metadata": {
        "id": "hvN9h7JoEIPP",
        "colab_type": "code",
        "colab": {}
      },
      "source": [
        "data.area is data['area']"
      ],
      "execution_count": 0,
      "outputs": []
    },
    {
      "cell_type": "markdown",
      "metadata": {
        "id": "9VVEAYOjEIPT",
        "colab_type": "text"
      },
      "source": [
        "Though this is a useful shorthand, keep in mind that it does not work for all cases!\n",
        "For example, if the column names are not strings, or if the column names conflict with methods of the ``DataFrame``, this attribute-style access is not possible.\n",
        "For example, the ``DataFrame`` has a ``pop()`` method, so ``data.pop`` will point to this rather than the ``\"pop\"`` column:"
      ]
    },
    {
      "cell_type": "code",
      "metadata": {
        "id": "nGAOm3qSEIPU",
        "colab_type": "code",
        "colab": {}
      },
      "source": [
        "data.pop is data['pop']"
      ],
      "execution_count": 0,
      "outputs": []
    },
    {
      "cell_type": "markdown",
      "metadata": {
        "id": "ErDK9b1PEIPX",
        "colab_type": "text"
      },
      "source": [
        "In particular, you should avoid the temptation to try column assignment via attribute (i.e., use ``data['pop'] = z`` rather than ``data.pop = z``).\n",
        "\n",
        "Like with the ``Series`` objects discussed earlier, this dictionary-style syntax can also be used to modify the object, in this case adding a new column:"
      ]
    },
    {
      "cell_type": "code",
      "metadata": {
        "id": "z1cY8jjfEIPY",
        "colab_type": "code",
        "colab": {}
      },
      "source": [
        "data['density'] = data['pop'] / data['area']\n",
        "data"
      ],
      "execution_count": 0,
      "outputs": []
    },
    {
      "cell_type": "markdown",
      "metadata": {
        "id": "UOIVRwh7EIPc",
        "colab_type": "text"
      },
      "source": [
        "### DataFrame as two-dimensional array\n",
        "\n",
        "As mentioned previously, we can also view the ``DataFrame`` as an enhanced two-dimensional array.\n",
        "We can examine the raw underlying data array using the ``values`` attribute:"
      ]
    },
    {
      "cell_type": "code",
      "metadata": {
        "id": "RWzbgiEBEIPe",
        "colab_type": "code",
        "colab": {}
      },
      "source": [
        "data.values"
      ],
      "execution_count": 0,
      "outputs": []
    },
    {
      "cell_type": "markdown",
      "metadata": {
        "id": "FA443GgDEIPk",
        "colab_type": "text"
      },
      "source": [
        "With this picture in mind, many familiar array-like observations can be done on the ``DataFrame`` itself.\n",
        "For example, we can transpose the full ``DataFrame`` to swap rows and columns:"
      ]
    },
    {
      "cell_type": "code",
      "metadata": {
        "id": "Gp4YNQSeEIPl",
        "colab_type": "code",
        "colab": {}
      },
      "source": [
        "data.T"
      ],
      "execution_count": 0,
      "outputs": []
    },
    {
      "cell_type": "markdown",
      "metadata": {
        "id": "brXsvTLAEIPn",
        "colab_type": "text"
      },
      "source": [
        "When it comes to indexing of ``DataFrame`` objects, however, it is clear that the dictionary-style indexing of columns precludes our ability to simply treat it as a NumPy array.\n",
        "In particular, passing a single index to an array accesses a row:"
      ]
    },
    {
      "cell_type": "code",
      "metadata": {
        "id": "6za0j52cEIPo",
        "colab_type": "code",
        "colab": {}
      },
      "source": [
        "data.values[0]"
      ],
      "execution_count": 0,
      "outputs": []
    },
    {
      "cell_type": "markdown",
      "metadata": {
        "id": "Kq-cDN6aEIPt",
        "colab_type": "text"
      },
      "source": [
        "and passing a single \"index\" to a ``DataFrame`` accesses a column:"
      ]
    },
    {
      "cell_type": "code",
      "metadata": {
        "id": "Q1qHboznEIPu",
        "colab_type": "code",
        "colab": {}
      },
      "source": [
        "data['area']"
      ],
      "execution_count": 0,
      "outputs": []
    },
    {
      "cell_type": "markdown",
      "metadata": {
        "collapsed": true,
        "id": "5xMzsJUMEIPx",
        "colab_type": "text"
      },
      "source": [
        "Thus for array-style indexing, we need another convention.\n",
        "Here Pandas again uses the ``loc``, ``iloc``, and ``ix`` indexers mentioned earlier.\n",
        "Using the ``iloc`` indexer, we can index the underlying array as if it is a simple NumPy array (using the implicit Python-style index), but the ``DataFrame`` index and column labels are maintained in the result:"
      ]
    },
    {
      "cell_type": "code",
      "metadata": {
        "id": "-DmxASiMEIPy",
        "colab_type": "code",
        "colab": {}
      },
      "source": [
        "data.iloc[:3, :2]"
      ],
      "execution_count": 0,
      "outputs": []
    },
    {
      "cell_type": "markdown",
      "metadata": {
        "id": "v7b1KqaFEIP2",
        "colab_type": "text"
      },
      "source": [
        "Similarly, using the ``loc`` indexer we can index the underlying data in an array-like style but using the explicit index and column names:"
      ]
    },
    {
      "cell_type": "code",
      "metadata": {
        "id": "x28V1vd7EIP3",
        "colab_type": "code",
        "colab": {}
      },
      "source": [
        "data.loc[:'Illinois', :'pop']"
      ],
      "execution_count": 0,
      "outputs": []
    },
    {
      "cell_type": "markdown",
      "metadata": {
        "collapsed": true,
        "id": "f90pjewuEIP7",
        "colab_type": "text"
      },
      "source": [
        "The ``ix`` indexer allows a hybrid of these two approaches:"
      ]
    },
    {
      "cell_type": "code",
      "metadata": {
        "id": "WnsyWj9-EIP8",
        "colab_type": "code",
        "colab": {}
      },
      "source": [
        "data.ix[:3, :'pop']"
      ],
      "execution_count": 0,
      "outputs": []
    },
    {
      "cell_type": "markdown",
      "metadata": {
        "id": "192FtPPhEIP_",
        "colab_type": "text"
      },
      "source": [
        "Keep in mind that for integer indices, the ``ix`` indexer is subject to the same potential sources of confusion as discussed for integer-indexed ``Series`` objects.\n",
        "\n",
        "Any of the familiar NumPy-style data access patterns can be used within these indexers.\n",
        "For example, in the ``loc`` indexer we can combine masking and fancy indexing as in the following:"
      ]
    },
    {
      "cell_type": "code",
      "metadata": {
        "id": "C55ujsmeEIQA",
        "colab_type": "code",
        "colab": {}
      },
      "source": [
        "data.loc[data.density > 100, ['pop', 'density']]"
      ],
      "execution_count": 0,
      "outputs": []
    },
    {
      "cell_type": "markdown",
      "metadata": {
        "id": "KSbV6mB6EIQC",
        "colab_type": "text"
      },
      "source": [
        "Any of these indexing conventions may also be used to set or modify values; this is done in the standard way that you might be accustomed to from working with NumPy:"
      ]
    },
    {
      "cell_type": "code",
      "metadata": {
        "id": "ZHQ3Vdm-EIQD",
        "colab_type": "code",
        "colab": {}
      },
      "source": [
        "data.iloc[0, 2] = 90\n",
        "data"
      ],
      "execution_count": 0,
      "outputs": []
    },
    {
      "cell_type": "markdown",
      "metadata": {
        "id": "Zxfn3Co3EIQI",
        "colab_type": "text"
      },
      "source": [
        "To build up your fluency in Pandas data manipulation, I suggest spending some time with a simple ``DataFrame`` and exploring the types of indexing, slicing, masking, and fancy indexing that are allowed by these various indexing approaches."
      ]
    },
    {
      "cell_type": "markdown",
      "metadata": {
        "id": "bTXZXu-nEIQI",
        "colab_type": "text"
      },
      "source": [
        "### Additional indexing conventions\n",
        "\n",
        "There are a couple extra indexing conventions that might seem at odds with the preceding discussion, but nevertheless can be very useful in practice.\n",
        "First, while *indexing* refers to columns, *slicing* refers to rows:"
      ]
    },
    {
      "cell_type": "code",
      "metadata": {
        "id": "_L53iIYaEIQJ",
        "colab_type": "code",
        "colab": {}
      },
      "source": [
        "data['Florida':'Illinois']"
      ],
      "execution_count": 0,
      "outputs": []
    },
    {
      "cell_type": "markdown",
      "metadata": {
        "id": "biEpoXryEIQP",
        "colab_type": "text"
      },
      "source": [
        "Such slices can also refer to rows by number rather than by index:"
      ]
    },
    {
      "cell_type": "code",
      "metadata": {
        "id": "UnwxXdiGEIQR",
        "colab_type": "code",
        "colab": {}
      },
      "source": [
        "data[1:3]"
      ],
      "execution_count": 0,
      "outputs": []
    },
    {
      "cell_type": "markdown",
      "metadata": {
        "id": "XP9eqRHpEIQV",
        "colab_type": "text"
      },
      "source": [
        "Similarly, direct masking operations are also interpreted row-wise rather than column-wise:"
      ]
    },
    {
      "cell_type": "code",
      "metadata": {
        "id": "1PQvwOn3EIQW",
        "colab_type": "code",
        "colab": {}
      },
      "source": [
        "data[data.density > 100]"
      ],
      "execution_count": 0,
      "outputs": []
    },
    {
      "cell_type": "markdown",
      "metadata": {
        "id": "Vl3YTshFEIQY",
        "colab_type": "text"
      },
      "source": [
        "These two conventions are syntactically similar to those on a NumPy array, and while these may not precisely fit the mold of the Pandas conventions, they are nevertheless quite useful in practice."
      ]
    }
  ]
}