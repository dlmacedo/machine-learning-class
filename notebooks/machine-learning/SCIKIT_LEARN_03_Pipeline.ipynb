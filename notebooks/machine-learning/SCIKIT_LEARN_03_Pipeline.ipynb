{
  "nbformat": 4,
  "nbformat_minor": 0,
  "metadata": {
    "kernelspec": {
      "display_name": "Python 3",
      "language": "python",
      "name": "python3"
    },
    "language_info": {
      "codemirror_mode": {
        "name": "ipython",
        "version": 3
      },
      "file_extension": ".py",
      "mimetype": "text/x-python",
      "name": "python",
      "nbconvert_exporter": "python",
      "pygments_lexer": "ipython3",
      "version": "3.6.5"
    },
    "colab": {
      "name": "SCIKIT_LEARN_03_Pipeline.ipynb",
      "provenance": [],
      "include_colab_link": true
    }
  },
  "cells": [
    {
      "cell_type": "markdown",
      "metadata": {
        "id": "view-in-github",
        "colab_type": "text"
      },
      "source": [
        "<a href=\"https://colab.research.google.com/github/dlmacedo/maxtrack/blob/master/notebooks/machine-learning/SCIKIT_LEARN_03_Pipeline.ipynb\" target=\"_parent\"><img src=\"https://colab.research.google.com/assets/colab-badge.svg\" alt=\"Open In Colab\"/></a>"
      ]
    },
    {
      "cell_type": "markdown",
      "metadata": {
        "id": "_-hQWCauTezY",
        "colab_type": "text"
      },
      "source": [
        "# Data science pipeline: pandas, seaborn, scikit-learn\n",
        "\n",
        "Created by [Data School](http://www.dataschool.io/). Modified by [David Macêdo](https://github.com/dlmacedo). **Note:** This notebook uses Python 3.6 and scikit-learn 0.19.1."
      ]
    },
    {
      "cell_type": "markdown",
      "metadata": {
        "id": "8V0lBjdvTeza",
        "colab_type": "text"
      },
      "source": [
        "## Agenda\n",
        "\n",
        "- How do I use the **pandas library** to read data into Python?\n",
        "- How do I use the **seaborn library** to visualize data?\n",
        "- What is **linear regression**, and how does it work?\n",
        "- How do I **train and interpret** a linear regression model in scikit-learn?\n",
        "- What are some **evaluation metrics** for regression problems?\n",
        "- How do I choose **which features to include** in my model?"
      ]
    },
    {
      "cell_type": "markdown",
      "metadata": {
        "id": "nFpgf9vQTezb",
        "colab_type": "text"
      },
      "source": [
        "## Types of supervised learning\n",
        "\n",
        "- **Classification:** Predict a categorical response\n",
        "- **Regression:** Predict a continuous response"
      ]
    },
    {
      "cell_type": "markdown",
      "metadata": {
        "id": "kZzWlPatTezc",
        "colab_type": "text"
      },
      "source": [
        "## Reading data using pandas\n",
        "\n",
        "**Pandas:** popular Python library for data exploration, manipulation, and analysis\n",
        "\n",
        "- Anaconda users: pandas is already installed\n",
        "- Other users: [installation instructions](http://pandas.pydata.org/pandas-docs/stable/install.html)"
      ]
    },
    {
      "cell_type": "code",
      "metadata": {
        "id": "wchYDMy-Tezd",
        "colab_type": "code",
        "colab": {}
      },
      "source": [
        "# conventional way to import pandas\n",
        "import pandas as pd"
      ],
      "execution_count": 0,
      "outputs": []
    },
    {
      "cell_type": "code",
      "metadata": {
        "id": "5cQn9t55Tezg",
        "colab_type": "code",
        "colab": {}
      },
      "source": [
        "# read CSV file from the 'data' subdirectory using a relative path\n",
        "data = pd.read_csv('https://raw.githubusercontent.com/justmarkham/\\\n",
        "scikit-learn-videos/master/data/Advertising.csv', index_col=0)\n",
        "\n",
        "# display the first 5 rows\n",
        "data.head()"
      ],
      "execution_count": 0,
      "outputs": []
    },
    {
      "cell_type": "markdown",
      "metadata": {
        "id": "n8CzzWqITezj",
        "colab_type": "text"
      },
      "source": [
        "Primary object types:\n",
        "\n",
        "- **DataFrame:** rows and columns (like a spreadsheet)\n",
        "- **Series:** a single column"
      ]
    },
    {
      "cell_type": "code",
      "metadata": {
        "id": "mr-2k3xHTezk",
        "colab_type": "code",
        "colab": {}
      },
      "source": [
        "# display the last 5 rows\n",
        "data.tail()"
      ],
      "execution_count": 0,
      "outputs": []
    },
    {
      "cell_type": "code",
      "metadata": {
        "id": "jP4tNXzgTezn",
        "colab_type": "code",
        "colab": {}
      },
      "source": [
        "# check the shape of the DataFrame (rows, columns)\n",
        "data.shape"
      ],
      "execution_count": 0,
      "outputs": []
    },
    {
      "cell_type": "markdown",
      "metadata": {
        "id": "BBtExrsWTezp",
        "colab_type": "text"
      },
      "source": [
        "What are the features?\n",
        "- **TV:** advertising dollars spent on TV for a single product in a given market (in thousands of dollars)\n",
        "- **Radio:** advertising dollars spent on Radio\n",
        "- **Newspaper:** advertising dollars spent on Newspaper\n",
        "\n",
        "What is the response?\n",
        "- **Sales:** sales of a single product in a given market (in thousands of items)\n",
        "\n",
        "What else do we know?\n",
        "- Because the response variable is continuous, this is a **regression** problem.\n",
        "- There are 200 **observations** (represented by the rows), and each observation is a single market."
      ]
    },
    {
      "cell_type": "markdown",
      "metadata": {
        "id": "DzZGE471Tezp",
        "colab_type": "text"
      },
      "source": [
        "## Visualizing data using seaborn\n",
        "\n",
        "**Seaborn:** Python library for statistical data visualization built on top of Matplotlib\n",
        "\n",
        "- Anaconda users: run **`conda install seaborn`** from the command line\n",
        "- Other users: [installation instructions](http://seaborn.pydata.org/installing.html)"
      ]
    },
    {
      "cell_type": "code",
      "metadata": {
        "id": "G-4BgwD6Tezq",
        "colab_type": "code",
        "colab": {}
      },
      "source": [
        "# conventional way to import seaborn\n",
        "import seaborn as sns\n",
        "\n",
        "# allow plots to appear within the notebook\n",
        "%matplotlib inline"
      ],
      "execution_count": 0,
      "outputs": []
    },
    {
      "cell_type": "code",
      "metadata": {
        "id": "zwi8AiKGTezs",
        "colab_type": "code",
        "colab": {}
      },
      "source": [
        "# visualize the relationship between the features and the response using scatterplots\n",
        "sns.pairplot(data, x_vars=['TV','Radio','Newspaper'], y_vars='Sales', size=7, aspect=0.7, kind='reg')"
      ],
      "execution_count": 0,
      "outputs": []
    },
    {
      "cell_type": "markdown",
      "metadata": {
        "id": "XwVWVRLUTezu",
        "colab_type": "text"
      },
      "source": [
        "## Linear regression\n",
        "\n",
        "**Pros:** fast, no tuning required, highly interpretable, well-understood\n",
        "\n",
        "**Cons:** unlikely to produce the best predictive accuracy (presumes a linear relationship between the features and response)"
      ]
    },
    {
      "cell_type": "markdown",
      "metadata": {
        "id": "sTWhQIYDTezu",
        "colab_type": "text"
      },
      "source": [
        "### Form of linear regression\n",
        "\n",
        "$y = \\beta_0 + \\beta_1x_1 + \\beta_2x_2 + ... + \\beta_nx_n$\n",
        "\n",
        "- $y$ is the response\n",
        "- $\\beta_0$ is the intercept\n",
        "- $\\beta_1$ is the coefficient for $x_1$ (the first feature)\n",
        "- $\\beta_n$ is the coefficient for $x_n$ (the nth feature)\n",
        "\n",
        "In this case:\n",
        "\n",
        "$y = \\beta_0 + \\beta_1 \\times TV + \\beta_2 \\times Radio + \\beta_3 \\times Newspaper$\n",
        "\n",
        "The $\\beta$ values are called the **model coefficients**. These values are \"learned\" during the model fitting step using the \"least squares\" criterion. Then, the fitted model can be used to make predictions!"
      ]
    },
    {
      "cell_type": "markdown",
      "metadata": {
        "id": "bM-1wDflTezv",
        "colab_type": "text"
      },
      "source": [
        "## Preparing X and y using pandas\n",
        "\n",
        "- scikit-learn expects X (feature matrix) and y (response vector) to be NumPy arrays.\n",
        "- However, pandas is built on top of NumPy.\n",
        "- Thus, X can be a pandas DataFrame and y can be a pandas Series!"
      ]
    },
    {
      "cell_type": "code",
      "metadata": {
        "id": "73o-nGaiTezv",
        "colab_type": "code",
        "colab": {}
      },
      "source": [
        "# create a Python list of feature names\n",
        "feature_cols = ['TV', 'Radio', 'Newspaper']\n",
        "\n",
        "# use the list to select a subset of the original DataFrame\n",
        "X = data[feature_cols]\n",
        "\n",
        "# equivalent command to do this in one line\n",
        "X = data[['TV', 'Radio', 'Newspaper']]\n",
        "\n",
        "# print the first 5 rows\n",
        "X.head()"
      ],
      "execution_count": 0,
      "outputs": []
    },
    {
      "cell_type": "code",
      "metadata": {
        "id": "P1LiUMw-Tezx",
        "colab_type": "code",
        "colab": {}
      },
      "source": [
        "# check the type and shape of X\n",
        "print(type(X))\n",
        "print(X.shape)"
      ],
      "execution_count": 0,
      "outputs": []
    },
    {
      "cell_type": "code",
      "metadata": {
        "id": "Kqq8qbq9Tezz",
        "colab_type": "code",
        "colab": {}
      },
      "source": [
        "# select a Series from the DataFrame\n",
        "y = data['Sales']\n",
        "\n",
        "# equivalent command that works if there are no spaces in the column name\n",
        "y = data.Sales\n",
        "\n",
        "# print the first 5 values\n",
        "y.head()"
      ],
      "execution_count": 0,
      "outputs": []
    },
    {
      "cell_type": "code",
      "metadata": {
        "id": "28NKdLe7Tez1",
        "colab_type": "code",
        "colab": {}
      },
      "source": [
        "# check the type and shape of y\n",
        "print(type(y))\n",
        "print(y.shape)"
      ],
      "execution_count": 0,
      "outputs": []
    },
    {
      "cell_type": "markdown",
      "metadata": {
        "id": "rlxAgDApTez3",
        "colab_type": "text"
      },
      "source": [
        "## Splitting X and y into training and testing sets"
      ]
    },
    {
      "cell_type": "code",
      "metadata": {
        "id": "Go2-VrN8Tez3",
        "colab_type": "code",
        "colab": {}
      },
      "source": [
        "from sklearn.model_selection import train_test_split\n",
        "X_train, X_test, y_train, y_test = train_test_split(X, y, random_state=1)"
      ],
      "execution_count": 0,
      "outputs": []
    },
    {
      "cell_type": "code",
      "metadata": {
        "id": "KNb7Aj8iTez5",
        "colab_type": "code",
        "colab": {}
      },
      "source": [
        "# default split is 75% for training and 25% for testing\n",
        "print(X_train.shape)\n",
        "print(y_train.shape)\n",
        "print(X_test.shape)\n",
        "print(y_test.shape)"
      ],
      "execution_count": 0,
      "outputs": []
    },
    {
      "cell_type": "markdown",
      "metadata": {
        "id": "v_hUhfLYTez6",
        "colab_type": "text"
      },
      "source": [
        "## Linear regression in scikit-learn"
      ]
    },
    {
      "cell_type": "code",
      "metadata": {
        "id": "SC3ReICUTez7",
        "colab_type": "code",
        "colab": {}
      },
      "source": [
        "# import model\n",
        "from sklearn.linear_model import LinearRegression\n",
        "\n",
        "# instantiate\n",
        "linreg = LinearRegression()\n",
        "\n",
        "# fit the model to the training data (learn the coefficients)\n",
        "linreg.fit(X_train, y_train)"
      ],
      "execution_count": 0,
      "outputs": []
    },
    {
      "cell_type": "markdown",
      "metadata": {
        "id": "6RvW3DXhTez9",
        "colab_type": "text"
      },
      "source": [
        "### Interpreting model coefficients"
      ]
    },
    {
      "cell_type": "code",
      "metadata": {
        "id": "kJ6c4SZdTez9",
        "colab_type": "code",
        "colab": {}
      },
      "source": [
        "# print the intercept and coefficients\n",
        "print(linreg.intercept_)\n",
        "print(linreg.coef_)"
      ],
      "execution_count": 0,
      "outputs": []
    },
    {
      "cell_type": "code",
      "metadata": {
        "id": "IebVGYtcTez_",
        "colab_type": "code",
        "colab": {}
      },
      "source": [
        "# pair the feature names with the coefficients\n",
        "list(zip(feature_cols, linreg.coef_))"
      ],
      "execution_count": 0,
      "outputs": []
    },
    {
      "cell_type": "markdown",
      "metadata": {
        "id": "BEA6k47OTe0B",
        "colab_type": "text"
      },
      "source": [
        "$$y = 2.88 + 0.0466 \\times TV + 0.179 \\times Radio + 0.00345 \\times Newspaper$$\n",
        "\n",
        "How do we interpret the **TV coefficient** (0.0466)?\n",
        "\n",
        "- For a given amount of Radio and Newspaper ad spending, **a \"unit\" increase in TV ad spending** is associated with a **0.0466 \"unit\" increase in Sales**.\n",
        "- Or more clearly: For a given amount of Radio and Newspaper ad spending, **an additional $1,000 spent on TV ads** is associated with an **increase in sales of 46.6 items**.\n",
        "\n",
        "Important notes:\n",
        "\n",
        "- This is a statement of **association**, not **causation**.\n",
        "- If an increase in TV ad spending was associated with a **decrease** in sales, $\\beta_1$ would be **negative**."
      ]
    },
    {
      "cell_type": "markdown",
      "metadata": {
        "id": "jjA3QrOQTe0B",
        "colab_type": "text"
      },
      "source": [
        "### Making predictions"
      ]
    },
    {
      "cell_type": "code",
      "metadata": {
        "id": "qORcxZroTe0C",
        "colab_type": "code",
        "colab": {}
      },
      "source": [
        "# make predictions on the testing set\n",
        "y_pred = linreg.predict(X_test)"
      ],
      "execution_count": 0,
      "outputs": []
    },
    {
      "cell_type": "markdown",
      "metadata": {
        "id": "mWTW9FVkTe0F",
        "colab_type": "text"
      },
      "source": [
        "We need an **evaluation metric** in order to compare our predictions with the actual values!"
      ]
    },
    {
      "cell_type": "markdown",
      "metadata": {
        "id": "uGnUSGl4Te0H",
        "colab_type": "text"
      },
      "source": [
        "## Model evaluation metrics for regression\n",
        "\n",
        "Evaluation metrics for classification problems, such as **accuracy**, are not useful for regression problems. Instead, we need evaluation metrics designed for comparing continuous values.\n",
        "\n",
        "Let's create some example numeric predictions, and calculate **three common evaluation metrics** for regression problems:"
      ]
    },
    {
      "cell_type": "code",
      "metadata": {
        "id": "I7GyEjYbTe0I",
        "colab_type": "code",
        "colab": {}
      },
      "source": [
        "# define true and predicted response values\n",
        "true = [100, 50, 30, 20]\n",
        "pred = [90, 50, 50, 30]"
      ],
      "execution_count": 0,
      "outputs": []
    },
    {
      "cell_type": "markdown",
      "metadata": {
        "id": "RJG6c4b4Te0K",
        "colab_type": "text"
      },
      "source": [
        "**Mean Absolute Error** (MAE) is the mean of the absolute value of the errors:\n",
        "\n",
        "$$\\frac 1n\\sum_{i=1}^n|y_i-\\hat{y}_i|$$"
      ]
    },
    {
      "cell_type": "code",
      "metadata": {
        "id": "AR1mp4BQTe0L",
        "colab_type": "code",
        "colab": {}
      },
      "source": [
        "# calculate MAE by hand\n",
        "print((10 + 0 + 20 + 10)/4.)\n",
        "\n",
        "# calculate MAE using scikit-learn\n",
        "from sklearn import metrics\n",
        "print(metrics.mean_absolute_error(true, pred))"
      ],
      "execution_count": 0,
      "outputs": []
    },
    {
      "cell_type": "markdown",
      "metadata": {
        "id": "MU5kQZb_Te0N",
        "colab_type": "text"
      },
      "source": [
        "**Mean Squared Error** (MSE) is the mean of the squared errors:\n",
        "\n",
        "$$\\frac 1n\\sum_{i=1}^n(y_i-\\hat{y}_i)^2$$"
      ]
    },
    {
      "cell_type": "code",
      "metadata": {
        "id": "yGtkV_3wTe0N",
        "colab_type": "code",
        "colab": {}
      },
      "source": [
        "# calculate MSE by hand\n",
        "print((10**2 + 0**2 + 20**2 + 10**2)/4.)\n",
        "\n",
        "# calculate MSE using scikit-learn\n",
        "print(metrics.mean_squared_error(true, pred))"
      ],
      "execution_count": 0,
      "outputs": []
    },
    {
      "cell_type": "markdown",
      "metadata": {
        "id": "c5gB6aeKTe0P",
        "colab_type": "text"
      },
      "source": [
        "**Root Mean Squared Error** (RMSE) is the square root of the mean of the squared errors:\n",
        "\n",
        "$$\\sqrt{\\frac 1n\\sum_{i=1}^n(y_i-\\hat{y}_i)^2}$$"
      ]
    },
    {
      "cell_type": "code",
      "metadata": {
        "id": "rbX_pYw-Te0Q",
        "colab_type": "code",
        "colab": {}
      },
      "source": [
        "# calculate RMSE by hand\n",
        "import numpy as np\n",
        "print(np.sqrt((10**2 + 0**2 + 20**2 + 10**2)/4.))\n",
        "\n",
        "# calculate RMSE using scikit-learn\n",
        "print(np.sqrt(metrics.mean_squared_error(true, pred)))"
      ],
      "execution_count": 0,
      "outputs": []
    },
    {
      "cell_type": "markdown",
      "metadata": {
        "id": "v3gjtlvjTe0R",
        "colab_type": "text"
      },
      "source": [
        "Comparing these metrics:\n",
        "\n",
        "- **MAE** is the easiest to understand, because it's the average error.\n",
        "- **MSE** is more popular than MAE, because MSE \"punishes\" larger errors.\n",
        "- **RMSE** is even more popular than MSE, because RMSE is interpretable in the \"y\" units."
      ]
    },
    {
      "cell_type": "markdown",
      "metadata": {
        "id": "3P4OLiPHTe0S",
        "colab_type": "text"
      },
      "source": [
        "### Computing the RMSE for our Sales predictions"
      ]
    },
    {
      "cell_type": "code",
      "metadata": {
        "id": "c3ljWM4xTe0S",
        "colab_type": "code",
        "colab": {}
      },
      "source": [
        "print(np.sqrt(metrics.mean_squared_error(y_test, y_pred)))"
      ],
      "execution_count": 0,
      "outputs": []
    },
    {
      "cell_type": "markdown",
      "metadata": {
        "id": "igkVgeJsTe0U",
        "colab_type": "text"
      },
      "source": [
        "## Feature selection\n",
        "\n",
        "Does **Newspaper** \"belong\" in our model? In other words, does it improve the quality of our predictions?\n",
        "\n",
        "Let's **remove it** from the model and check the RMSE!"
      ]
    },
    {
      "cell_type": "code",
      "metadata": {
        "id": "MK300SE1Te0U",
        "colab_type": "code",
        "colab": {}
      },
      "source": [
        "# create a Python list of feature names\n",
        "feature_cols = ['TV', 'Radio']\n",
        "\n",
        "# use the list to select a subset of the original DataFrame\n",
        "X = data[feature_cols]\n",
        "\n",
        "# select a Series from the DataFrame\n",
        "y = data.Sales\n",
        "\n",
        "# split into training and testing sets\n",
        "X_train, X_test, y_train, y_test = train_test_split(X, y, random_state=1)\n",
        "\n",
        "# fit the model to the training data (learn the coefficients)\n",
        "linreg.fit(X_train, y_train)\n",
        "\n",
        "# make predictions on the testing set\n",
        "y_pred = linreg.predict(X_test)\n",
        "\n",
        "# compute the RMSE of our predictions\n",
        "print(np.sqrt(metrics.mean_squared_error(y_test, y_pred)))"
      ],
      "execution_count": 0,
      "outputs": []
    },
    {
      "cell_type": "markdown",
      "metadata": {
        "id": "4IzfGli7Te0W",
        "colab_type": "text"
      },
      "source": [
        "The RMSE **decreased** when we removed Newspaper from the model. (Error is something we want to minimize, so **a lower number for RMSE is better**.) Thus, it is unlikely that this feature is useful for predicting Sales, and should be removed from the model."
      ]
    },
    {
      "cell_type": "markdown",
      "metadata": {
        "id": "YSaz7pJzTe0W",
        "colab_type": "text"
      },
      "source": [
        "## Resources\n",
        "\n",
        "Linear regression:\n",
        "\n",
        "- [Longer notebook on linear regression](https://github.com/justmarkham/DAT5/blob/master/notebooks/09_linear_regression.ipynb) by me\n",
        "- Chapter 3 of [An Introduction to Statistical Learning](http://www-bcf.usc.edu/~gareth/ISL/) and [related videos](http://www.dataschool.io/15-hours-of-expert-machine-learning-videos/) by Hastie and Tibshirani (Stanford)\n",
        "- [Quick reference guide to applying and interpreting linear regression](http://www.dataschool.io/applying-and-interpreting-linear-regression/) by me\n",
        "- [Introduction to linear regression](http://people.duke.edu/~rnau/regintro.htm) by Robert Nau (Duke)\n",
        "\n",
        "Pandas:\n",
        "\n",
        "- [pandas Q&A video series](https://www.dataschool.io/easier-data-analysis-with-pandas/) by me\n",
        "- [Three-part pandas tutorial](http://www.gregreda.com/2013/10/26/intro-to-pandas-data-structures/) by Greg Reda\n",
        "- [read_csv](http://pandas.pydata.org/pandas-docs/stable/generated/pandas.read_csv.html) and [read_table](http://pandas.pydata.org/pandas-docs/stable/generated/pandas.read_table.html) documentation\n",
        "\n",
        "Seaborn:\n",
        "\n",
        "- [Official seaborn tutorial](http://seaborn.pydata.org/tutorial.html)\n",
        "- [Example gallery](http://seaborn.pydata.org/examples/index.html)"
      ]
    }
  ]
}