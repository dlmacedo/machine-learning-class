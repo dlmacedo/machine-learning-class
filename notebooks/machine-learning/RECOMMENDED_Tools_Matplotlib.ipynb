{
  "nbformat": 4,
  "nbformat_minor": 0,
  "metadata": {
    "kernelspec": {
      "name": "python3",
      "display_name": "Python 3"
    },
    "toc": {
      "toc_cell": true,
      "toc_number_sections": true,
      "toc_section_display": "block",
      "toc_threshold": 6,
      "toc_window_display": false
    },
    "colab": {
      "name": "RECOMMENDED_Tools_Matplotlib.ipynb",
      "provenance": [],
      "include_colab_link": true
    }
  },
  "cells": [
    {
      "cell_type": "markdown",
      "metadata": {
        "id": "view-in-github",
        "colab_type": "text"
      },
      "source": [
        "<a href=\"https://colab.research.google.com/github/dlmacedo/maxtrack/blob/master/notebooks/machine-learning/RECOMMENDED_Tools_Matplotlib.ipynb\" target=\"_parent\"><img src=\"https://colab.research.google.com/assets/colab-badge.svg\" alt=\"Open In Colab\"/></a>"
      ]
    },
    {
      "cell_type": "markdown",
      "metadata": {
        "id": "igOWjRdPAg7E",
        "colab_type": "text"
      },
      "source": [
        "**Tools - matplotlib**\n",
        "\n",
        "*This notebook demonstrates how to use the matplotlib library to plot beautiful graphs.*"
      ]
    },
    {
      "cell_type": "markdown",
      "metadata": {
        "id": "E8xZW8g_Ag7I",
        "colab_type": "text"
      },
      "source": [
        "# Plotting your first graph"
      ]
    },
    {
      "cell_type": "markdown",
      "metadata": {
        "id": "pc28BTHiAg7J",
        "colab_type": "text"
      },
      "source": [
        "First let's make sure that this notebook works well in both python 2 and 3:"
      ]
    },
    {
      "cell_type": "code",
      "metadata": {
        "id": "s5EXup_kAg7K",
        "colab_type": "code",
        "colab": {}
      },
      "source": [
        "from __future__ import division, print_function, unicode_literals"
      ],
      "execution_count": 0,
      "outputs": []
    },
    {
      "cell_type": "markdown",
      "metadata": {
        "id": "9UICkdCxAg7O",
        "colab_type": "text"
      },
      "source": [
        "First we need to import the `matplotlib` library."
      ]
    },
    {
      "cell_type": "code",
      "metadata": {
        "id": "2yC6Z6VhAg7P",
        "colab_type": "code",
        "colab": {}
      },
      "source": [
        "import matplotlib"
      ],
      "execution_count": 0,
      "outputs": []
    },
    {
      "cell_type": "markdown",
      "metadata": {
        "id": "R3d_mZdnAg7S",
        "colab_type": "text"
      },
      "source": [
        "Matplotlib can output graphs using various backend graphics libraries, such as Tk, wxPython, etc.  When running python using the command line, the graphs are typically shown in a separate window. In a Jupyter notebook, we can simply output the graphs within the notebook itself by running the `%matplotlib inline` magic command."
      ]
    },
    {
      "cell_type": "code",
      "metadata": {
        "id": "2YxaAMPVAg7T",
        "colab_type": "code",
        "colab": {}
      },
      "source": [
        "%matplotlib inline\n",
        "# matplotlib.use(\"TKAgg\")  # use this instead in your program if you want to use Tk as your graphics backend."
      ],
      "execution_count": 0,
      "outputs": []
    },
    {
      "cell_type": "markdown",
      "metadata": {
        "id": "c1mk8tw6Ag7W",
        "colab_type": "text"
      },
      "source": [
        "Now let's plot our first graph! :)"
      ]
    },
    {
      "cell_type": "code",
      "metadata": {
        "id": "1wwAe6WFAg7X",
        "colab_type": "code",
        "colab": {}
      },
      "source": [
        "import matplotlib.pyplot as plt\n",
        "plt.plot([1, 2, 4, 9, 5, 3])\n",
        "plt.show()"
      ],
      "execution_count": 0,
      "outputs": []
    },
    {
      "cell_type": "markdown",
      "metadata": {
        "id": "oOkUtZcdAg7b",
        "colab_type": "text"
      },
      "source": [
        "Yep, it's as simple as calling the `plot` function with some data, and then calling the `show` function!\n",
        "\n",
        "If the `plot` function is given one array of data, it will use it as the coordinates on the vertical axis, and it will just use each data point's index in the array as the horizontal coordinate.\n",
        "You can also provide two arrays: one for the horizontal axis `x`, and the second for the vertical axis `y`:"
      ]
    },
    {
      "cell_type": "code",
      "metadata": {
        "scrolled": true,
        "id": "o1srXF6AAg7c",
        "colab_type": "code",
        "colab": {}
      },
      "source": [
        "plt.plot([-3, -2, 5, 0], [1, 6, 4, 3])\n",
        "plt.show()"
      ],
      "execution_count": 0,
      "outputs": []
    },
    {
      "cell_type": "markdown",
      "metadata": {
        "id": "HeSe880-Ag7f",
        "colab_type": "text"
      },
      "source": [
        "The axes automatically match the extent of the data.  We would like to give the graph a bit more room, so let's call the `axis` function to change the extent of each axis `[xmin, xmax, ymin, ymax]`."
      ]
    },
    {
      "cell_type": "code",
      "metadata": {
        "id": "bP1b36ZuAg7g",
        "colab_type": "code",
        "colab": {}
      },
      "source": [
        "plt.plot([-3, -2, 5, 0], [1, 6, 4, 3])\n",
        "plt.axis([-4, 6, 0, 7])\n",
        "plt.show()"
      ],
      "execution_count": 0,
      "outputs": []
    },
    {
      "cell_type": "markdown",
      "metadata": {
        "id": "iyTenoe4Ag7j",
        "colab_type": "text"
      },
      "source": [
        "Now, let's plot a mathematical function. We use NumPy's `linspace` function to create an array `x` containing 500 floats ranging from -2 to 2, then we create a second array `y` computed as the square of `x`."
      ]
    },
    {
      "cell_type": "code",
      "metadata": {
        "id": "ZaehVLhFAg7k",
        "colab_type": "code",
        "colab": {}
      },
      "source": [
        "import numpy as np\n",
        "x = np.linspace(-2, 2, 500)\n",
        "y = x**2\n",
        "\n",
        "plt.plot(x, y)\n",
        "plt.show()"
      ],
      "execution_count": 0,
      "outputs": []
    },
    {
      "cell_type": "markdown",
      "metadata": {
        "id": "Bl-MNjEPAg7n",
        "colab_type": "text"
      },
      "source": [
        "That's a bit dry, let's add a title, and x and y labels, and draw a grid."
      ]
    },
    {
      "cell_type": "code",
      "metadata": {
        "id": "bmx6J_mXAg7o",
        "colab_type": "code",
        "colab": {}
      },
      "source": [
        "plt.plot(x, y)\n",
        "plt.title(\"Square function\")\n",
        "plt.xlabel(\"x\")\n",
        "plt.ylabel(\"y = x**2\")\n",
        "plt.grid(True)\n",
        "plt.show()"
      ],
      "execution_count": 0,
      "outputs": []
    },
    {
      "cell_type": "markdown",
      "metadata": {
        "id": "5rYHmwMYAg7q",
        "colab_type": "text"
      },
      "source": [
        "# Line style and color"
      ]
    },
    {
      "cell_type": "markdown",
      "metadata": {
        "id": "tklcxdGpAg7r",
        "colab_type": "text"
      },
      "source": [
        "By default, matplotlib draws a line between consecutive points."
      ]
    },
    {
      "cell_type": "code",
      "metadata": {
        "id": "u7vFiPMrAg7s",
        "colab_type": "code",
        "colab": {}
      },
      "source": [
        "plt.plot([0, 100, 100, 0, 0, 100, 50, 0, 100], [0, 0, 100, 100, 0, 100, 130, 100, 0])\n",
        "plt.axis([-10, 110, -10, 140])\n",
        "plt.show()"
      ],
      "execution_count": 0,
      "outputs": []
    },
    {
      "cell_type": "markdown",
      "metadata": {
        "id": "mM5IDsIGAg7v",
        "colab_type": "text"
      },
      "source": [
        "You can pass a 3rd argument to change the line's style and color.\n",
        "For example `\"g--\"` means \"green dashed line\"."
      ]
    },
    {
      "cell_type": "code",
      "metadata": {
        "id": "xsF-IG7aAg7w",
        "colab_type": "code",
        "colab": {}
      },
      "source": [
        "plt.plot([0, 100, 100, 0, 0, 100, 50, 0, 100], [0, 0, 100, 100, 0, 100, 130, 100, 0], \"g--\")\n",
        "plt.axis([-10, 110, -10, 140])\n",
        "plt.show()"
      ],
      "execution_count": 0,
      "outputs": []
    },
    {
      "cell_type": "markdown",
      "metadata": {
        "id": "haiarnOvAg70",
        "colab_type": "text"
      },
      "source": [
        "You can plot multiple lines on one graph very simply: just pass `x1, y1, [style1], x2, y2, [style2], ...`\n",
        "\n",
        "For example:"
      ]
    },
    {
      "cell_type": "code",
      "metadata": {
        "id": "FwMVXqtsAg70",
        "colab_type": "code",
        "colab": {}
      },
      "source": [
        "plt.plot([0, 100, 100, 0, 0], [0, 0, 100, 100, 0], \"r-\", [0, 100, 50, 0, 100], [0, 100, 130, 100, 0], \"g--\")\n",
        "plt.axis([-10, 110, -10, 140])\n",
        "plt.show()"
      ],
      "execution_count": 0,
      "outputs": []
    },
    {
      "cell_type": "markdown",
      "metadata": {
        "id": "j7lgCzbMAg73",
        "colab_type": "text"
      },
      "source": [
        "Or simply call `plot` multiple times before calling `show`."
      ]
    },
    {
      "cell_type": "code",
      "metadata": {
        "id": "69vgI7rMAg74",
        "colab_type": "code",
        "colab": {}
      },
      "source": [
        "plt.plot([0, 100, 100, 0, 0], [0, 0, 100, 100, 0], \"r-\")\n",
        "plt.plot([0, 100, 50, 0, 100], [0, 100, 130, 100, 0], \"g--\")\n",
        "plt.axis([-10, 110, -10, 140])\n",
        "plt.show()"
      ],
      "execution_count": 0,
      "outputs": []
    },
    {
      "cell_type": "markdown",
      "metadata": {
        "id": "AmJX0T_ZAg77",
        "colab_type": "text"
      },
      "source": [
        "You can also draw simple points instead of lines. Here's an example with green dashes, red dotted line and blue triangles.\n",
        "Check out [the documentation](http://matplotlib.org/api/pyplot_api.html#matplotlib.pyplot.plot) for the full list of style & color options."
      ]
    },
    {
      "cell_type": "code",
      "metadata": {
        "id": "kOLY9TIzAg78",
        "colab_type": "code",
        "colab": {}
      },
      "source": [
        "x = np.linspace(-1.4, 1.4, 30)\n",
        "plt.plot(x, x, 'g--', x, x**2, 'r:', x, x**3, 'b^')\n",
        "plt.show()"
      ],
      "execution_count": 0,
      "outputs": []
    },
    {
      "cell_type": "markdown",
      "metadata": {
        "id": "ap0D2b4JAg7_",
        "colab_type": "text"
      },
      "source": [
        "The plot function returns a list of `Line2D` objects (one for each line).  You can set extra attributes on these lines, such as the line width, the dash style or the alpha level.  See the full list of attributes in [the documentation](http://matplotlib.org/users/pyplot_tutorial.html#controlling-line-properties)."
      ]
    },
    {
      "cell_type": "code",
      "metadata": {
        "scrolled": true,
        "id": "M1P9MnmGAg8A",
        "colab_type": "code",
        "colab": {}
      },
      "source": [
        "x = np.linspace(-1.4, 1.4, 30)\n",
        "line1, line2, line3 = plt.plot(x, x, 'g--', x, x**2, 'r:', x, x**3, 'b^')\n",
        "line1.set_linewidth(3.0)\n",
        "line1.set_dash_capstyle(\"round\")\n",
        "line3.set_alpha(0.2)\n",
        "plt.show()"
      ],
      "execution_count": 0,
      "outputs": []
    },
    {
      "cell_type": "markdown",
      "metadata": {
        "id": "FIRIBHwmAg8D",
        "colab_type": "text"
      },
      "source": [
        "# Saving a figure\n",
        "Saving a figure to disk is as simple as calling [`savefig`](http://matplotlib.org/api/pyplot_api.html#matplotlib.pyplot.savefig) with the name of the file (or a file object). The available image formats depend on the graphics backend you use."
      ]
    },
    {
      "cell_type": "code",
      "metadata": {
        "scrolled": true,
        "id": "rxsqMk4CAg8E",
        "colab_type": "code",
        "colab": {}
      },
      "source": [
        "x = np.linspace(-1.4, 1.4, 30)\n",
        "plt.plot(x, x**2)\n",
        "plt.savefig(\"my_square_function.png\", transparent=True)"
      ],
      "execution_count": 0,
      "outputs": []
    },
    {
      "cell_type": "markdown",
      "metadata": {
        "id": "-DOBW5X8Ag8K",
        "colab_type": "text"
      },
      "source": [
        "# Subplots\n",
        "A matplotlib figure may contain multiple subplots. These subplots are organized in a grid. To create a subplot, just call the `subplot` function, and specify the number of rows and columns in the figure, and the index of the subplot you want to draw on (starting from 1, then left to right, and top to bottom). Note that pyplot keeps track of the currently active subplot (which you can get a reference to by calling `plt.gca()`), so when you call the `plot` function, it draws on the *active* subplot.\n"
      ]
    },
    {
      "cell_type": "code",
      "metadata": {
        "scrolled": true,
        "id": "NY5HwlAWAg8L",
        "colab_type": "code",
        "colab": {}
      },
      "source": [
        "x = np.linspace(-1.4, 1.4, 30)\n",
        "plt.subplot(2, 2, 1)  # 2 rows, 2 columns, 1st subplot = top left\n",
        "plt.plot(x, x)\n",
        "plt.subplot(2, 2, 2)  # 2 rows, 2 columns, 2nd subplot = top right\n",
        "plt.plot(x, x**2)\n",
        "plt.subplot(2, 2, 3)  # 2 rows, 2 columns, 3rd subplot = bottow left\n",
        "plt.plot(x, x**3)\n",
        "plt.subplot(2, 2, 4)  # 2 rows, 2 columns, 4th subplot = bottom right\n",
        "plt.plot(x, x**4)\n",
        "plt.show()"
      ],
      "execution_count": 0,
      "outputs": []
    },
    {
      "cell_type": "markdown",
      "metadata": {
        "id": "JP5QMKz7Ag8P",
        "colab_type": "text"
      },
      "source": [
        "* Note that `subplot(223)` is a shorthand for `subplot(2, 2, 3)`."
      ]
    },
    {
      "cell_type": "markdown",
      "metadata": {
        "id": "5Q-x2addAg8Q",
        "colab_type": "text"
      },
      "source": [
        "It is easy to create subplots that span across multiple grid cells like so:"
      ]
    },
    {
      "cell_type": "code",
      "metadata": {
        "id": "ewt3urYzAg8R",
        "colab_type": "code",
        "colab": {}
      },
      "source": [
        "plt.subplot(2, 2, 1)  # 2 rows, 2 columns, 1st subplot = top left\n",
        "plt.plot(x, x)\n",
        "plt.subplot(2, 2, 2)  # 2 rows, 2 columns, 2nd subplot = top right\n",
        "plt.plot(x, x**2)\n",
        "plt.subplot(2, 1, 2)  # 2 rows, *1* column, 2nd subplot = bottom\n",
        "plt.plot(x, x**3)\n",
        "plt.show()"
      ],
      "execution_count": 0,
      "outputs": []
    },
    {
      "cell_type": "markdown",
      "metadata": {
        "id": "E0arKTOVAg8U",
        "colab_type": "text"
      },
      "source": [
        "If you need more complex subplot positionning, you can use `subplot2grid` instead of `subplot`. You specify the number of rows and columns in the grid, then your subplot's position in that grid (top-left = (0,0)), and optionally how many rows and/or columns it spans.  For example:"
      ]
    },
    {
      "cell_type": "code",
      "metadata": {
        "id": "h8Jhu8UlAg8U",
        "colab_type": "code",
        "colab": {}
      },
      "source": [
        "plt.subplot2grid((3,3), (0, 0), rowspan=2, colspan=2)\n",
        "plt.plot(x, x**2)\n",
        "plt.subplot2grid((3,3), (0, 2))\n",
        "plt.plot(x, x**3)\n",
        "plt.subplot2grid((3,3), (1, 2), rowspan=2)\n",
        "plt.plot(x, x**4)\n",
        "plt.subplot2grid((3,3), (2, 0), colspan=2)\n",
        "plt.plot(x, x**5)\n",
        "plt.show()"
      ],
      "execution_count": 0,
      "outputs": []
    },
    {
      "cell_type": "markdown",
      "metadata": {
        "id": "LiIfY3SjAg8Z",
        "colab_type": "text"
      },
      "source": [
        "If you need even more flexibility in subplot positioning, check out the [GridSpec documentation](http://matplotlib.org/users/gridspec.html)"
      ]
    },
    {
      "cell_type": "markdown",
      "metadata": {
        "id": "zFXkPqzcAg8Z",
        "colab_type": "text"
      },
      "source": [
        "# Multiple figures\n",
        "It is also possible to draw multiple figures. Each figure may contain one or more subplots. By default, matplotlib creates `figure(1)` automatically. When you switch figure, pyplot keeps track of the currently active figure (which you can get a reference to by calling `plt.gcf()`), and the active subplot of that figure becomes the current subplot."
      ]
    },
    {
      "cell_type": "code",
      "metadata": {
        "scrolled": true,
        "id": "zthEvzKPAg8a",
        "colab_type": "code",
        "colab": {}
      },
      "source": [
        "x = np.linspace(-1.4, 1.4, 30)\n",
        "\n",
        "plt.figure(1)\n",
        "plt.subplot(211)\n",
        "plt.plot(x, x**2)\n",
        "plt.title(\"Square and Cube\")\n",
        "plt.subplot(212)\n",
        "plt.plot(x, x**3)\n",
        "\n",
        "plt.figure(2, figsize=(10, 5))\n",
        "plt.subplot(121)\n",
        "plt.plot(x, x**4)\n",
        "plt.title(\"y = x**4\")\n",
        "plt.subplot(122)\n",
        "plt.plot(x, x**5)\n",
        "plt.title(\"y = x**5\")\n",
        "\n",
        "plt.figure(1)      # back to figure 1, current subplot is 212 (bottom)\n",
        "plt.plot(x, -x**3, \"r:\")\n",
        "\n",
        "plt.show()"
      ],
      "execution_count": 0,
      "outputs": []
    },
    {
      "cell_type": "markdown",
      "metadata": {
        "id": "VURYGMNlAg8d",
        "colab_type": "text"
      },
      "source": [
        "# Pyplot's state machine: implicit *vs* explicit\n",
        "So far we have used Pyplot's state machine which keeps track of the currently active subplot. Every time you call the `plot` function, pyplot just draws on the currently active subplot. It also does some more magic, such as automatically creating a figure and a subplot when you call `plot`, if they don't exist yet. This magic is convenient in an interactive environment (such as Jupyter).\n",
        "\n",
        "But when you are writing a program, *explicit is better than implicit*. Explicit code is usually easier to debug and maintain, and if you don't believe me just read the 2nd rule in the Zen of Python:"
      ]
    },
    {
      "cell_type": "code",
      "metadata": {
        "id": "d0MNl0azAg8e",
        "colab_type": "code",
        "colab": {}
      },
      "source": [
        "import this"
      ],
      "execution_count": 0,
      "outputs": []
    },
    {
      "cell_type": "markdown",
      "metadata": {
        "id": "vnM1ma6xAg8g",
        "colab_type": "text"
      },
      "source": [
        "Fortunately, Pyplot allows you to ignore the state machine entirely, so you can write beautifully explicit code. Simply call the `subplots` function and use the figure object and the list of axes objects that are returned. No more magic! For example:"
      ]
    },
    {
      "cell_type": "code",
      "metadata": {
        "scrolled": true,
        "id": "Pbwb_gqlAg8h",
        "colab_type": "code",
        "colab": {}
      },
      "source": [
        "x = np.linspace(-2, 2, 200)\n",
        "fig1, (ax_top, ax_bottom) = plt.subplots(2, 1, sharex=True)\n",
        "fig1.set_size_inches(10,5)\n",
        "line1, line2 = ax_top.plot(x, np.sin(3*x**2), \"r-\", x, np.cos(5*x**2), \"b-\")\n",
        "line3, = ax_bottom.plot(x, np.sin(3*x), \"r-\")\n",
        "ax_top.grid(True)\n",
        "\n",
        "fig2, ax = plt.subplots(1, 1)\n",
        "ax.plot(x, x**2)\n",
        "plt.show()"
      ],
      "execution_count": 0,
      "outputs": []
    },
    {
      "cell_type": "markdown",
      "metadata": {
        "id": "b2TV0y4dAg8k",
        "colab_type": "text"
      },
      "source": [
        "For consistency, we will continue to use pyplot's state machine in the rest of this tutorial, but we recommend using the object-oriented interface in your programs.\n",
        "\n",
        "# Pylab *vs* Pyplot *vs* Matplotlib\n",
        "\n",
        "There is some confusion around the relationship between pylab, pyplot and matplotlib. It's simple: matplotlib is the full library, it contains everything including pylab and pyplot.\n",
        "\n",
        "Pyplot provides a number of tools to plot graphs, including the state-machine interface to the underlying object-oriented plotting library.\n",
        "\n",
        "Pylab is a convenience module that imports matplotlib.pyplot and NumPy in a single name space. You will find many examples using pylab, but it is no longer recommended (because *explicit* imports are better than *implicit* ones)."
      ]
    },
    {
      "cell_type": "markdown",
      "metadata": {
        "id": "AHjhXo_2Ag8k",
        "colab_type": "text"
      },
      "source": [
        "# Drawing text\n",
        "You can call `text` to add text at any location in the graph. Just specify the horizontal and vertical coordinates and the text, and optionally some extra attributes.  Any text in matplotlib may contain TeX equation expressions, see [the documentation](http://matplotlib.org/users/mathtext.html) for more details."
      ]
    },
    {
      "cell_type": "code",
      "metadata": {
        "id": "oKv2mOlbAg8l",
        "colab_type": "code",
        "colab": {}
      },
      "source": [
        "x = np.linspace(-1.5, 1.5, 30)\n",
        "px = 0.8\n",
        "py = px**2\n",
        "\n",
        "plt.plot(x, x**2, \"b-\", px, py, \"ro\")\n",
        "\n",
        "plt.text(0, 1.5, \"Square function\\n$y = x^2$\", fontsize=20, color='blue', horizontalalignment=\"center\")\n",
        "plt.text(px - 0.08, py, \"Beautiful point\", ha=\"right\", weight=\"heavy\")\n",
        "plt.text(px, py, \"x = %0.2f\\ny = %0.2f\"%(px, py), rotation=50, color='gray')\n",
        "\n",
        "plt.show()"
      ],
      "execution_count": 0,
      "outputs": []
    },
    {
      "cell_type": "markdown",
      "metadata": {
        "id": "gwQ6whgrAg8p",
        "colab_type": "text"
      },
      "source": [
        "* Note: `ha` is an alias for `horizontalalignment`\n",
        "\n",
        "For more text properties, visit [the documentation](http://matplotlib.org/users/text_props.html#text-properties).\n",
        "\n",
        "It is quite frequent to annotate elements of a graph, such as the beautiful point above. The `annotate` function makes this easy: just indicate the location of the point of interest, and the position of the text, plus optionally some extra attributes for the text and the arrow."
      ]
    },
    {
      "cell_type": "code",
      "metadata": {
        "id": "I_68AxLjAg8q",
        "colab_type": "code",
        "colab": {}
      },
      "source": [
        "plt.plot(x, x**2, px, py, \"ro\")\n",
        "plt.annotate(\"Beautiful point\", xy=(px, py), xytext=(px-1.3,py+0.5),\n",
        "                           color=\"green\", weight=\"heavy\", fontsize=14,\n",
        "                           arrowprops={\"facecolor\": \"lightgreen\"})\n",
        "plt.show()"
      ],
      "execution_count": 0,
      "outputs": []
    },
    {
      "cell_type": "markdown",
      "metadata": {
        "id": "-TZ9NiJPAg8t",
        "colab_type": "text"
      },
      "source": [
        "You can also add a bounding box around your text by using the `bbox` attribute:"
      ]
    },
    {
      "cell_type": "code",
      "metadata": {
        "scrolled": false,
        "id": "9psYmzLJAg8u",
        "colab_type": "code",
        "colab": {}
      },
      "source": [
        "plt.plot(x, x**2, px, py, \"ro\")\n",
        "\n",
        "bbox_props = dict(boxstyle=\"rarrow,pad=0.3\", ec=\"b\", lw=2, fc=\"lightblue\")\n",
        "plt.text(px-0.2, py, \"Beautiful point\", bbox=bbox_props, ha=\"right\")\n",
        "\n",
        "bbox_props = dict(boxstyle=\"round4,pad=1,rounding_size=0.2\", ec=\"black\", fc=\"#EEEEFF\", lw=5)\n",
        "plt.text(0, 1.5, \"Square function\\n$y = x^2$\", fontsize=20, color='black', ha=\"center\", bbox=bbox_props)\n",
        "\n",
        "plt.show()"
      ],
      "execution_count": 0,
      "outputs": []
    },
    {
      "cell_type": "markdown",
      "metadata": {
        "id": "Qaou-QNRAg8x",
        "colab_type": "text"
      },
      "source": [
        "Just for fun, if you want an [xkcd](http://xkcd.com)-style plot, just draw within a `with plt.xkcd()` section:"
      ]
    },
    {
      "cell_type": "code",
      "metadata": {
        "id": "D5bnwqPeAg8y",
        "colab_type": "code",
        "colab": {}
      },
      "source": [
        "with plt.xkcd():\n",
        "    plt.plot(x, x**2, px, py, \"ro\")\n",
        "\n",
        "    bbox_props = dict(boxstyle=\"rarrow,pad=0.3\", ec=\"b\", lw=2, fc=\"lightblue\")\n",
        "    plt.text(px-0.2, py, \"Beautiful point\", bbox=bbox_props, ha=\"right\")\n",
        "\n",
        "    bbox_props = dict(boxstyle=\"round4,pad=1,rounding_size=0.2\", ec=\"black\", fc=\"#EEEEFF\", lw=5)\n",
        "    plt.text(0, 1.5, \"Square function\\n$y = x^2$\", fontsize=20, color='black', ha=\"center\", bbox=bbox_props)\n",
        "\n",
        "    plt.show()"
      ],
      "execution_count": 0,
      "outputs": []
    },
    {
      "cell_type": "markdown",
      "metadata": {
        "id": "1CTrYXMOAg80",
        "colab_type": "text"
      },
      "source": [
        "# Legends\n",
        "The simplest way to add a legend is to set a label on all lines, then just call the `legend` function."
      ]
    },
    {
      "cell_type": "code",
      "metadata": {
        "id": "lB257SMNAg81",
        "colab_type": "code",
        "colab": {}
      },
      "source": [
        "x = np.linspace(-1.4, 1.4, 50)\n",
        "plt.plot(x, x**2, \"r--\", label=\"Square function\")\n",
        "plt.plot(x, x**3, \"g-\", label=\"Cube function\")\n",
        "plt.legend(loc=\"best\")\n",
        "plt.grid(True)\n",
        "plt.show()"
      ],
      "execution_count": 0,
      "outputs": []
    },
    {
      "cell_type": "markdown",
      "metadata": {
        "id": "SgxdHBTDAg84",
        "colab_type": "text"
      },
      "source": [
        "# Non linear scales\n",
        "Matplotlib supports non linear scales, such as logarithmic or logit scales."
      ]
    },
    {
      "cell_type": "code",
      "metadata": {
        "scrolled": true,
        "id": "YlNKRefjAg85",
        "colab_type": "code",
        "colab": {}
      },
      "source": [
        "x = np.linspace(0.1, 15, 500)\n",
        "y = x**3/np.exp(2*x)\n",
        "\n",
        "plt.figure(1)\n",
        "plt.plot(x, y)\n",
        "plt.yscale('linear')\n",
        "plt.title('linear')\n",
        "plt.grid(True)\n",
        "\n",
        "plt.figure(2)\n",
        "plt.plot(x, y)\n",
        "plt.yscale('log')\n",
        "plt.title('log')\n",
        "plt.grid(True)\n",
        "\n",
        "plt.figure(3)\n",
        "plt.plot(x, y)\n",
        "plt.yscale('logit')\n",
        "plt.title('logit')\n",
        "plt.grid(True)\n",
        "\n",
        "plt.figure(4)\n",
        "plt.plot(x, y - y.mean())\n",
        "plt.yscale('symlog', linthreshy=0.05)\n",
        "plt.title('symlog')\n",
        "plt.grid(True)\n",
        "\n",
        "plt.show()"
      ],
      "execution_count": 0,
      "outputs": []
    },
    {
      "cell_type": "markdown",
      "metadata": {
        "id": "R_N73z7MAg88",
        "colab_type": "text"
      },
      "source": [
        "# Ticks and tickers\n",
        "The axes have little marks called \"ticks\".  To be precise, \"ticks\" are the *locations* of the marks (eg. (-1, 0, 1)), \"tick lines\" are the small lines drawn at those locations, \"tick labels\" are the labels drawn next to the tick lines, and \"tickers\" are objects that are capable of deciding where to place ticks. The default tickers typically do a pretty good job at placing ~5 to 8 ticks at a reasonable distance from one another.\n",
        "\n",
        "But sometimes you need more control (eg. there are too many tick labels on the logit graph above). Fortunately, matplotlib gives you full control over ticks.  You can even activate minor ticks.\n",
        "\n"
      ]
    },
    {
      "cell_type": "code",
      "metadata": {
        "id": "0jBZKnNdAg89",
        "colab_type": "code",
        "colab": {}
      },
      "source": [
        "x = np.linspace(-2, 2, 100)\n",
        "\n",
        "plt.figure(1, figsize=(15,10))\n",
        "plt.subplot(131)\n",
        "plt.plot(x, x**3)\n",
        "plt.grid(True)\n",
        "plt.title(\"Default ticks\")\n",
        "\n",
        "ax = plt.subplot(132)\n",
        "plt.plot(x, x**3)\n",
        "ax.xaxis.set_ticks(np.arange(-2, 2, 1))\n",
        "plt.grid(True)\n",
        "plt.title(\"Manual ticks on the x-axis\")\n",
        "\n",
        "ax = plt.subplot(133)\n",
        "plt.plot(x, x**3)\n",
        "plt.minorticks_on()\n",
        "ax.tick_params(axis='x', which='minor', bottom='off')\n",
        "ax.xaxis.set_ticks([-2, 0, 1, 2])\n",
        "ax.yaxis.set_ticks(np.arange(-5, 5, 1))\n",
        "ax.yaxis.set_ticklabels([\"min\", -4, -3, -2, -1, 0, 1, 2, 3, \"max\"])\n",
        "plt.title(\"Manual ticks and tick labels\\n(plus minor ticks) on the y-axis\")\n",
        "\n",
        "\n",
        "plt.grid(True)\n",
        "\n",
        "plt.show()"
      ],
      "execution_count": 0,
      "outputs": []
    },
    {
      "cell_type": "markdown",
      "metadata": {
        "id": "hMTuHW1-Ag9B",
        "colab_type": "text"
      },
      "source": [
        "# Polar projection\n",
        "Drawing a polar graph is as easy as setting the `projection` attribute to `\"polar\"` when creating the subplot."
      ]
    },
    {
      "cell_type": "code",
      "metadata": {
        "id": "l5vbNb6XAg9B",
        "colab_type": "code",
        "colab": {}
      },
      "source": [
        "radius = 1\n",
        "theta = np.linspace(0, 2*np.pi*radius, 1000)\n",
        "\n",
        "plt.subplot(111, projection='polar')\n",
        "plt.plot(theta, np.sin(5*theta), \"g-\")\n",
        "plt.plot(theta, 0.5*np.cos(20*theta), \"b-\")\n",
        "plt.show()"
      ],
      "execution_count": 0,
      "outputs": []
    },
    {
      "cell_type": "markdown",
      "metadata": {
        "id": "q4C2rdvWAg9E",
        "colab_type": "text"
      },
      "source": [
        "# 3D projection\n",
        "\n",
        "Plotting 3D graphs is quite straightforward. You need to import `Axes3D`, which registers the `\"3d\"` projection. Then create a subplot setting the `projection` to `\"3d\"`. This returns an `Axes3DSubplot` object, which you can use to call `plot_surface`, giving x, y, and z coordinates, plus optional attributes."
      ]
    },
    {
      "cell_type": "code",
      "metadata": {
        "scrolled": true,
        "id": "mTGXLeqsAg9E",
        "colab_type": "code",
        "colab": {}
      },
      "source": [
        "from mpl_toolkits.mplot3d import Axes3D\n",
        "\n",
        "x = np.linspace(-5, 5, 50)\n",
        "y = np.linspace(-5, 5, 50)\n",
        "X, Y = np.meshgrid(x, y)\n",
        "R = np.sqrt(X**2 + Y**2)\n",
        "Z = np.sin(R)\n",
        "\n",
        "figure = plt.figure(1, figsize = (12, 4))\n",
        "subplot3d = plt.subplot(111, projection='3d')\n",
        "surface = subplot3d.plot_surface(X, Y, Z, rstride=1, cstride=1, cmap=matplotlib.cm.coolwarm, linewidth=0.1)\n",
        "plt.show()\n"
      ],
      "execution_count": 0,
      "outputs": []
    },
    {
      "cell_type": "markdown",
      "metadata": {
        "id": "AjFo88NZAg9I",
        "colab_type": "text"
      },
      "source": [
        "Another way to display this same data is *via* a contour plot."
      ]
    },
    {
      "cell_type": "code",
      "metadata": {
        "id": "Urlrk9ALAg9J",
        "colab_type": "code",
        "colab": {}
      },
      "source": [
        "plt.contourf(X, Y, Z, cmap=matplotlib.cm.coolwarm)\n",
        "plt.colorbar()\n",
        "plt.show()"
      ],
      "execution_count": 0,
      "outputs": []
    },
    {
      "cell_type": "markdown",
      "metadata": {
        "id": "eUy9xuroAg9N",
        "colab_type": "text"
      },
      "source": [
        "# Scatter plot"
      ]
    },
    {
      "cell_type": "markdown",
      "metadata": {
        "id": "B-KdemfLAg9P",
        "colab_type": "text"
      },
      "source": [
        "To draw a scatter plot, simply provide the x and y coordinates of the points."
      ]
    },
    {
      "cell_type": "code",
      "metadata": {
        "id": "q_1G0jTNAg9T",
        "colab_type": "code",
        "colab": {}
      },
      "source": [
        "from numpy.random import rand\n",
        "x, y = rand(2, 100)\n",
        "plt.scatter(x, y)\n",
        "plt.show()"
      ],
      "execution_count": 0,
      "outputs": []
    },
    {
      "cell_type": "markdown",
      "metadata": {
        "id": "XZ5cxAG2Ag9Y",
        "colab_type": "text"
      },
      "source": [
        "You may also optionally provide the scale of each point."
      ]
    },
    {
      "cell_type": "code",
      "metadata": {
        "id": "4xZsLfpvAg9Z",
        "colab_type": "code",
        "colab": {}
      },
      "source": [
        "x, y, scale = rand(3, 100)\n",
        "scale = 500 * scale ** 5\n",
        "plt.scatter(x, y, s=scale)\n",
        "plt.show()"
      ],
      "execution_count": 0,
      "outputs": []
    },
    {
      "cell_type": "markdown",
      "metadata": {
        "id": "Ue7AlccyAg9c",
        "colab_type": "text"
      },
      "source": [
        "And as usual there are a number of other attributes you can set, such as the fill and edge colors and the alpha level."
      ]
    },
    {
      "cell_type": "code",
      "metadata": {
        "scrolled": true,
        "id": "GI6DF-5zAg9c",
        "colab_type": "code",
        "colab": {}
      },
      "source": [
        "for color in ['red', 'green', 'blue']:\n",
        "    n = 100\n",
        "    x, y = rand(2, n)\n",
        "    scale = 500.0 * rand(n) ** 5\n",
        "    plt.scatter(x, y, s=scale, c=color, alpha=0.3, edgecolors='blue')\n",
        "\n",
        "plt.grid(True)\n",
        "\n",
        "plt.show()\n"
      ],
      "execution_count": 0,
      "outputs": []
    },
    {
      "cell_type": "markdown",
      "metadata": {
        "id": "yh-2OyGyAg9f",
        "colab_type": "text"
      },
      "source": [
        "# Lines\n",
        "You can draw lines simply using the `plot` function, as we have done so far. However, it is often convenient to create a utility function that plots a (seemingly) infinite line across the graph, given a slope and an intercept. You can also use the `hlines` and `vlines` functions that plot horizontal and vertical line segments.\n",
        "For example:"
      ]
    },
    {
      "cell_type": "code",
      "metadata": {
        "id": "oJuS9WW3Ag9f",
        "colab_type": "code",
        "colab": {}
      },
      "source": [
        "from numpy.random import randn\n",
        "\n",
        "def plot_line(axis, slope, intercept, **kargs):\n",
        "    xmin, xmax = axis.get_xlim()\n",
        "    plt.plot([xmin, xmax], [xmin*slope+intercept, xmax*slope+intercept], **kargs)\n",
        "\n",
        "x = randn(1000)\n",
        "y = 0.5*x + 5 + randn(1000)*2\n",
        "plt.axis([-2.5, 2.5, -5, 15])\n",
        "plt.scatter(x, y, alpha=0.2)\n",
        "plt.plot(1, 0, \"ro\")\n",
        "plt.vlines(1, -5, 0, color=\"red\")\n",
        "plt.hlines(0, -2.5, 1, color=\"red\")\n",
        "plot_line(axis=plt.gca(), slope=0.5, intercept=5, color=\"magenta\")\n",
        "plt.grid(True)\n",
        "plt.show()"
      ],
      "execution_count": 0,
      "outputs": []
    },
    {
      "cell_type": "markdown",
      "metadata": {
        "id": "1KFf8z3-Ag9i",
        "colab_type": "text"
      },
      "source": [
        "# Histograms"
      ]
    },
    {
      "cell_type": "code",
      "metadata": {
        "id": "CZCL_6RJAg9i",
        "colab_type": "code",
        "colab": {}
      },
      "source": [
        "data = [1, 1.1, 1.8, 2, 2.1, 3.2, 3, 3, 3, 3]\n",
        "plt.subplot(211)\n",
        "plt.hist(data, bins = 10, rwidth=0.8)\n",
        "\n",
        "plt.subplot(212)\n",
        "plt.hist(data, bins = [1, 1.5, 2, 2.5, 3], rwidth=0.95)\n",
        "plt.xlabel(\"Value\")\n",
        "plt.ylabel(\"Frequency\")\n",
        "\n",
        "plt.show()"
      ],
      "execution_count": 0,
      "outputs": []
    },
    {
      "cell_type": "code",
      "metadata": {
        "scrolled": true,
        "id": "rwM1TDqwAg9m",
        "colab_type": "code",
        "colab": {}
      },
      "source": [
        "data1 = np.random.randn(400)\n",
        "data2 = np.random.randn(500) + 3\n",
        "data3 = np.random.randn(450) + 6\n",
        "data4a = np.random.randn(200) + 9\n",
        "data4b = np.random.randn(100) + 10\n",
        "\n",
        "plt.hist(data1, bins=5, color='g', alpha=0.75, label='bar hist') # default histtype='bar'\n",
        "plt.hist(data2, color='b', alpha=0.65, histtype='stepfilled', label='stepfilled hist')\n",
        "plt.hist(data3, color='r', histtype='step', label='step hist')\n",
        "plt.hist((data4a, data4b), color=('r','m'), alpha=0.55, histtype='barstacked', label=('barstacked a', 'barstacked b'))\n",
        "\n",
        "plt.xlabel(\"Value\")\n",
        "plt.ylabel(\"Frequency\")\n",
        "plt.legend()\n",
        "plt.grid(True)\n",
        "plt.show()"
      ],
      "execution_count": 0,
      "outputs": []
    },
    {
      "cell_type": "markdown",
      "metadata": {
        "id": "nubaF7s4Ag9p",
        "colab_type": "text"
      },
      "source": [
        "# Images\n",
        "Reading, generating and plotting images in matplotlib is quite straightforward.\n",
        "\n",
        "To read an image, just import the `matplotlib.image` module, and call its `imread` function, passing it the file name (or file object). This returns the image data, as a NumPy array. Let's try this with the `my_square_function.png` image we saved earlier."
      ]
    },
    {
      "cell_type": "code",
      "metadata": {
        "id": "Ta6mBpT7Ag9q",
        "colab_type": "code",
        "colab": {}
      },
      "source": [
        "import matplotlib.image as mpimg\n",
        "\n",
        "img = mpimg.imread('my_square_function.png')\n",
        "print(img.shape, img.dtype)"
      ],
      "execution_count": 0,
      "outputs": []
    },
    {
      "cell_type": "markdown",
      "metadata": {
        "id": "7IoUt4fNAg9s",
        "colab_type": "text"
      },
      "source": [
        "We have loaded a 288x432 image. Each pixel is represented by a 4-element array: red, green, blue, and alpha levels, stored as 32-bit floats between 0 and 1.  Now all we need to do is to call `imshow`:"
      ]
    },
    {
      "cell_type": "code",
      "metadata": {
        "id": "fh0qw6BxAg9s",
        "colab_type": "code",
        "colab": {}
      },
      "source": [
        "plt.imshow(img)\n",
        "plt.show()"
      ],
      "execution_count": 0,
      "outputs": []
    },
    {
      "cell_type": "markdown",
      "metadata": {
        "id": "YjneA0OyAg9u",
        "colab_type": "text"
      },
      "source": [
        "Tadaaa! You may want to hide the axes when you are displaying an image:"
      ]
    },
    {
      "cell_type": "code",
      "metadata": {
        "id": "C6L5YIQ2Ag9v",
        "colab_type": "code",
        "colab": {}
      },
      "source": [
        "plt.imshow(img)\n",
        "plt.axis('off')\n",
        "plt.show()"
      ],
      "execution_count": 0,
      "outputs": []
    },
    {
      "cell_type": "markdown",
      "metadata": {
        "id": "NrEifQu_Ag9x",
        "colab_type": "text"
      },
      "source": [
        "It's just as easy to generate your own image:"
      ]
    },
    {
      "cell_type": "code",
      "metadata": {
        "id": "h4OdaBXZAg9y",
        "colab_type": "code",
        "colab": {}
      },
      "source": [
        "img = np.arange(100*100).reshape(100, 100)\n",
        "print(img)\n",
        "plt.imshow(img)\n",
        "plt.show()"
      ],
      "execution_count": 0,
      "outputs": []
    },
    {
      "cell_type": "markdown",
      "metadata": {
        "id": "CCy8CPGGAg90",
        "colab_type": "text"
      },
      "source": [
        "As we did not provide RGB levels, the `imshow` function automatically maps values to a color gradient. By default, the color gradient goes from blue (for low values) to red (for high values), but you can select another color map.  For example:"
      ]
    },
    {
      "cell_type": "code",
      "metadata": {
        "scrolled": false,
        "id": "CBEeKfYjAg90",
        "colab_type": "code",
        "colab": {}
      },
      "source": [
        "plt.imshow(img, cmap=\"hot\")\n",
        "plt.show()"
      ],
      "execution_count": 0,
      "outputs": []
    },
    {
      "cell_type": "markdown",
      "metadata": {
        "id": "kUn9_mb_Ag92",
        "colab_type": "text"
      },
      "source": [
        "You can also generate an RGB image directly:"
      ]
    },
    {
      "cell_type": "code",
      "metadata": {
        "scrolled": true,
        "id": "8LmKkyQKAg93",
        "colab_type": "code",
        "colab": {}
      },
      "source": [
        "img = np.empty((20,30,3))\n",
        "img[:, :10] = [0, 0, 0.6]\n",
        "img[:, 10:20] = [1, 1, 1]\n",
        "img[:, 20:] = [0.6, 0, 0]\n",
        "plt.imshow(img)\n",
        "plt.show()"
      ],
      "execution_count": 0,
      "outputs": []
    },
    {
      "cell_type": "markdown",
      "metadata": {
        "id": "ZpOx-1TmAg94",
        "colab_type": "text"
      },
      "source": [
        "Since the `img` array is just quite small (20x30), when the `imshow` function displays it, it grows the image to the figure's size. By default it uses [bilinear interpolation](https://en.wikipedia.org/wiki/Bilinear_interpolation) to fill the added pixels. This is why the edges look blurry.\n",
        "You can select another interpolation algorithm, such as copying the color of the nearest pixel:"
      ]
    },
    {
      "cell_type": "code",
      "metadata": {
        "scrolled": false,
        "id": "X_Ut2whNAg95",
        "colab_type": "code",
        "colab": {}
      },
      "source": [
        "plt.imshow(img, interpolation=\"nearest\")\n",
        "plt.show()"
      ],
      "execution_count": 0,
      "outputs": []
    },
    {
      "cell_type": "markdown",
      "metadata": {
        "id": "V-wHfEEPAg-F",
        "colab_type": "text"
      },
      "source": [
        "# What next?\n",
        "Now you know all the basics of matplotlib, but there are many more options available. The best way to learn more, is to visit the [gallery](http://matplotlib.org/gallery.html), look at the images, choose a plot that you are interested in, then just copy the code in a Jupyter notebook and play around with it."
      ]
    }
  ]
}