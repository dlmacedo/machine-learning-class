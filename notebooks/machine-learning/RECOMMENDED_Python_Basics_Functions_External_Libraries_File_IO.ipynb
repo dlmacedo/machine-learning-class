{
  "nbformat": 4,
  "nbformat_minor": 0,
  "metadata": {
    "hide_input": false,
    "kernelspec": {
      "display_name": "Python 3",
      "language": "python",
      "name": "python3"
    },
    "language_info": {
      "codemirror_mode": {
        "name": "ipython",
        "version": 3
      },
      "file_extension": ".py",
      "mimetype": "text/x-python",
      "name": "python",
      "nbconvert_exporter": "python",
      "pygments_lexer": "ipython3",
      "version": "3.7.0"
    },
    "toc": {
      "base_numbering": 1,
      "nav_menu": {},
      "number_sections": true,
      "sideBar": true,
      "skip_h1_title": false,
      "title_cell": "Table of Contents",
      "title_sidebar": "Contents",
      "toc_cell": false,
      "toc_position": {
        "height": "840px",
        "left": "0px",
        "right": "1111px",
        "top": "113px",
        "width": "253px"
      },
      "toc_section_display": "block",
      "toc_window_display": true
    },
    "varInspector": {
      "cols": {
        "lenName": 16,
        "lenType": 16,
        "lenVar": 40
      },
      "kernels_config": {
        "python": {
          "delete_cmd_postfix": "",
          "delete_cmd_prefix": "del ",
          "library": "var_list.py",
          "varRefreshCmd": "print(var_dic_list())"
        },
        "r": {
          "delete_cmd_postfix": ") ",
          "delete_cmd_prefix": "rm(",
          "library": "var_list.r",
          "varRefreshCmd": "cat(var_dic_list()) "
        }
      },
      "types_to_exclude": [
        "module",
        "function",
        "builtin_function_or_method",
        "instance",
        "_Feature"
      ],
      "window_display": false
    },
    "colab": {
      "name": "RECOMMENDED_Python_Basics_Functions-External_Libraries-File_IO.ipynb",
      "provenance": [],
      "include_colab_link": true
    }
  },
  "cells": [
    {
      "cell_type": "markdown",
      "metadata": {
        "id": "view-in-github",
        "colab_type": "text"
      },
      "source": [
        "<a href=\"https://colab.research.google.com/github/dlmacedo/ml-dl-notebooks/blob/master/notebooks/machine-learning/RECOMMENDED_Python_Basics_Functions_External_Libraries_File_IO.ipynb\" target=\"_parent\"><img src=\"https://colab.research.google.com/assets/colab-badge.svg\" alt=\"Open In Colab\"/></a>"
      ]
    },
    {
      "cell_type": "markdown",
      "metadata": {
        "id": "dMVuuq3phNX5",
        "colab_type": "text"
      },
      "source": [
        "ISRC Python Workshop: Baiscs II\n",
        "\n",
        "__Functions, File I/O and External Libraries__"
      ]
    },
    {
      "cell_type": "markdown",
      "metadata": {
        "id": "MiuSrNN3hNX9",
        "colab_type": "text"
      },
      "source": [
        "<hr>"
      ]
    },
    {
      "cell_type": "markdown",
      "metadata": {
        "id": "TBVUQte6hNX-",
        "colab_type": "text"
      },
      "source": [
        "@author: Zhiya Zuo\n",
        "\n",
        "@email: zhiya-zuo@uiowa.edu"
      ]
    },
    {
      "cell_type": "markdown",
      "metadata": {
        "id": "IbQs9fu0hNYA",
        "colab_type": "text"
      },
      "source": [
        "---"
      ]
    },
    {
      "cell_type": "markdown",
      "metadata": {
        "id": "wb2WwA30hNYB",
        "colab_type": "text"
      },
      "source": [
        "### Functions"
      ]
    },
    {
      "cell_type": "markdown",
      "metadata": {
        "id": "e0rHvnp5hNYC",
        "colab_type": "text"
      },
      "source": [
        "#### Calling functions"
      ]
    },
    {
      "cell_type": "markdown",
      "metadata": {
        "id": "tgB9NE2bhNYE",
        "colab_type": "text"
      },
      "source": [
        "Previously, we have already made use of many built-in functions to facilitate programming. Function is a block of codes with input arguments (and, optionally, return values) for specific purposes. In Python ( and many other languages), a function call is as the following:\n",
        "\n",
        "```python\n",
        ">> output = function(input_argument)\n",
        "```"
      ]
    },
    {
      "cell_type": "markdown",
      "metadata": {
        "id": "J62w-HaEhNYF",
        "colab_type": "text"
      },
      "source": [
        "For example:"
      ]
    },
    {
      "cell_type": "code",
      "metadata": {
        "ExecuteTime": {
          "end_time": "2018-10-25T17:47:37.407545Z",
          "start_time": "2018-10-25T17:47:37.389644Z"
        },
        "id": "_R1SHYYthNYH",
        "colab_type": "code",
        "colab": {
          "base_uri": "https://localhost:8080/",
          "height": 35
        },
        "outputId": "1ffc9230-5cf7-404b-ea72-6dfeb1d99dfc"
      },
      "source": [
        "range(5)"
      ],
      "execution_count": 87,
      "outputs": [
        {
          "output_type": "execute_result",
          "data": {
            "text/plain": [
              "range(0, 5)"
            ]
          },
          "metadata": {
            "tags": []
          },
          "execution_count": 87
        }
      ]
    },
    {
      "cell_type": "markdown",
      "metadata": {
        "id": "FN8KxGQbhNYN",
        "colab_type": "text"
      },
      "source": [
        "Now that Python 3 use [`iterator`](https://stackoverflow.com/questions/25653996/what-is-the-difference-between-list-and-iterator-in-python) for 'range' function, we can manually convert the output into `list` so that we can see the output explicitly"
      ]
    },
    {
      "cell_type": "code",
      "metadata": {
        "ExecuteTime": {
          "end_time": "2018-10-25T17:48:25.160955Z",
          "start_time": "2018-10-25T17:48:25.155505Z"
        },
        "id": "IqjXUmWlhNYO",
        "colab_type": "code",
        "colab": {
          "base_uri": "https://localhost:8080/",
          "height": 35
        },
        "outputId": "3cfa17b3-a077-45ce-d736-f216c4bbd6d0"
      },
      "source": [
        "list(range(5))"
      ],
      "execution_count": 88,
      "outputs": [
        {
          "output_type": "execute_result",
          "data": {
            "text/plain": [
              "[0, 1, 2, 3, 4]"
            ]
          },
          "metadata": {
            "tags": []
          },
          "execution_count": 1
        },
        {
          "output_type": "execute_result",
          "data": {
            "text/plain": [
              "[0, 1, 2, 3, 4]"
            ]
          },
          "metadata": {
            "tags": []
          },
          "execution_count": 88
        }
      ]
    },
    {
      "cell_type": "markdown",
      "metadata": {
        "id": "cKTPC7h1hNYS",
        "colab_type": "text"
      },
      "source": [
        "As another example:"
      ]
    },
    {
      "cell_type": "code",
      "metadata": {
        "ExecuteTime": {
          "end_time": "2018-10-25T17:48:45.482719Z",
          "start_time": "2018-10-25T17:48:45.476899Z"
        },
        "id": "ape1pyrohNYT",
        "colab_type": "code",
        "colab": {
          "base_uri": "https://localhost:8080/",
          "height": 35
        },
        "outputId": "4e76505d-a195-4f34-cb21-eb66922922ad"
      },
      "source": [
        "abs(-3.5)"
      ],
      "execution_count": 89,
      "outputs": [
        {
          "output_type": "execute_result",
          "data": {
            "text/plain": [
              "3.5"
            ]
          },
          "metadata": {
            "tags": []
          },
          "execution_count": 2
        },
        {
          "output_type": "execute_result",
          "data": {
            "text/plain": [
              "3.5"
            ]
          },
          "metadata": {
            "tags": []
          },
          "execution_count": 89
        }
      ]
    },
    {
      "cell_type": "markdown",
      "metadata": {
        "id": "RNKx9zcDhNYW",
        "colab_type": "text"
      },
      "source": [
        "In many cases we need more sophisticated usage of functions, where we need to use more than one input arguments. For example:"
      ]
    },
    {
      "cell_type": "code",
      "metadata": {
        "ExecuteTime": {
          "end_time": "2018-10-25T17:20:29.734990Z",
          "start_time": "2018-10-25T17:20:29.729907Z"
        },
        "id": "FdXG5LkPhNYX",
        "colab_type": "code",
        "colab": {
          "base_uri": "https://localhost:8080/",
          "height": 35
        },
        "outputId": "d6eb2ea9-a21d-4a20-f8b4-189927d88feb"
      },
      "source": [
        "list(range(5, 0, -1))"
      ],
      "execution_count": 90,
      "outputs": [
        {
          "output_type": "execute_result",
          "data": {
            "text/plain": [
              "[5, 4, 3, 2, 1]"
            ]
          },
          "metadata": {
            "tags": []
          },
          "execution_count": 3
        },
        {
          "output_type": "execute_result",
          "data": {
            "text/plain": [
              "[5, 4, 3, 2, 1]"
            ]
          },
          "metadata": {
            "tags": []
          },
          "execution_count": 90
        }
      ]
    },
    {
      "cell_type": "markdown",
      "metadata": {
        "id": "2pkj8PCWhNYb",
        "colab_type": "text"
      },
      "source": [
        "A second example, sort a dictionary by values:"
      ]
    },
    {
      "cell_type": "code",
      "metadata": {
        "ExecuteTime": {
          "end_time": "2018-10-25T17:50:16.189583Z",
          "start_time": "2018-10-25T17:50:16.183753Z"
        },
        "id": "EkajABKVhNYc",
        "colab_type": "code",
        "colab": {
          "base_uri": "https://localhost:8080/",
          "height": 35
        },
        "outputId": "8e55bb89-e3cc-49b4-c800-ff64ae08dde5"
      },
      "source": [
        "d = {'a': 100, 'c': 50, 'b': 70}\n",
        "sorted(d)"
      ],
      "execution_count": 91,
      "outputs": [
        {
          "output_type": "execute_result",
          "data": {
            "text/plain": [
              "['a', 'b', 'c']"
            ]
          },
          "metadata": {
            "tags": []
          },
          "execution_count": 4
        },
        {
          "output_type": "execute_result",
          "data": {
            "text/plain": [
              "['a', 'b', 'c']"
            ]
          },
          "metadata": {
            "tags": []
          },
          "execution_count": 91
        }
      ]
    },
    {
      "cell_type": "code",
      "metadata": {
        "ExecuteTime": {
          "end_time": "2018-10-25T17:53:27.808548Z",
          "start_time": "2018-10-25T17:53:27.798150Z"
        },
        "id": "pTiVoh0thNYf",
        "colab_type": "code",
        "colab": {
          "base_uri": "https://localhost:8080/",
          "height": 35
        },
        "outputId": "5a786324-ab31-44d9-a49f-b146ea53455f"
      },
      "source": [
        "d"
      ],
      "execution_count": 92,
      "outputs": [
        {
          "output_type": "execute_result",
          "data": {
            "text/plain": [
              "{'a': 100, 'b': 70, 'c': 50}"
            ]
          },
          "metadata": {
            "tags": []
          },
          "execution_count": 5
        },
        {
          "output_type": "execute_result",
          "data": {
            "text/plain": [
              "{'a': 100, 'b': 70, 'c': 50}"
            ]
          },
          "metadata": {
            "tags": []
          },
          "execution_count": 92
        }
      ]
    },
    {
      "cell_type": "code",
      "metadata": {
        "ExecuteTime": {
          "end_time": "2018-10-25T17:53:33.866813Z",
          "start_time": "2018-10-25T17:53:33.861638Z"
        },
        "id": "pitx9Q-vhNYi",
        "colab_type": "code",
        "colab": {
          "base_uri": "https://localhost:8080/",
          "height": 35
        },
        "outputId": "ef0ebf8f-aaaf-4bbe-f645-ae42a9571d4a"
      },
      "source": [
        "d['a']"
      ],
      "execution_count": 93,
      "outputs": [
        {
          "output_type": "execute_result",
          "data": {
            "text/plain": [
              "100"
            ]
          },
          "metadata": {
            "tags": []
          },
          "execution_count": 6
        },
        {
          "output_type": "execute_result",
          "data": {
            "text/plain": [
              "100"
            ]
          },
          "metadata": {
            "tags": []
          },
          "execution_count": 93
        }
      ]
    },
    {
      "cell_type": "code",
      "metadata": {
        "ExecuteTime": {
          "end_time": "2018-10-25T17:51:39.294194Z",
          "start_time": "2018-10-25T17:51:39.286761Z"
        },
        "id": "IEOQr20uhNYm",
        "colab_type": "code",
        "colab": {
          "base_uri": "https://localhost:8080/",
          "height": 35
        },
        "outputId": "4734e0ca-f60b-4446-9518-5d0329509d16"
      },
      "source": [
        "sorted(d, key=lambda k: d[k])"
      ],
      "execution_count": 94,
      "outputs": [
        {
          "output_type": "execute_result",
          "data": {
            "text/plain": [
              "['c', 'b', 'a']"
            ]
          },
          "metadata": {
            "tags": []
          },
          "execution_count": 7
        },
        {
          "output_type": "execute_result",
          "data": {
            "text/plain": [
              "['c', 'b', 'a']"
            ]
          },
          "metadata": {
            "tags": []
          },
          "execution_count": 94
        }
      ]
    },
    {
      "cell_type": "markdown",
      "metadata": {
        "id": "Ctd1kKBlhNYp",
        "colab_type": "text"
      },
      "source": [
        "#### Lambda functions"
      ]
    },
    {
      "cell_type": "markdown",
      "metadata": {
        "id": "wRHKvotahNYq",
        "colab_type": "text"
      },
      "source": [
        "Aha, we just saw something different: `lambda`!"
      ]
    },
    {
      "cell_type": "markdown",
      "metadata": {
        "id": "0VVVPYoOhNYq",
        "colab_type": "text"
      },
      "source": [
        "Lambda functions are just functions, except that they are anonymous (literally). See [here](https://stackoverflow.com/questions/890128/why-are-python-lambdas-useful) for many good discussions. In short, you can use regular functions to achieve anything with `lambda`. Yet, it is handy because it is lightweight and anonymous."
      ]
    },
    {
      "cell_type": "markdown",
      "metadata": {
        "id": "gCFaH_2ZhNYr",
        "colab_type": "text"
      },
      "source": [
        "The example above is actually a good example of when to use `lambda`:"
      ]
    },
    {
      "cell_type": "code",
      "metadata": {
        "ExecuteTime": {
          "end_time": "2018-10-25T17:20:29.761643Z",
          "start_time": "2018-10-25T17:20:29.757012Z"
        },
        "id": "kjdV9jnmhNYs",
        "colab_type": "code",
        "colab": {
          "base_uri": "https://localhost:8080/",
          "height": 35
        },
        "outputId": "13cf8b7a-bebb-48f9-b64d-7a611a95a4b1"
      },
      "source": [
        "sorted(d, key=lambda k: d[k])"
      ],
      "execution_count": 95,
      "outputs": [
        {
          "output_type": "execute_result",
          "data": {
            "text/plain": [
              "['c', 'b', 'a']"
            ]
          },
          "metadata": {
            "tags": []
          },
          "execution_count": 8
        },
        {
          "output_type": "execute_result",
          "data": {
            "text/plain": [
              "['c', 'b', 'a']"
            ]
          },
          "metadata": {
            "tags": []
          },
          "execution_count": 95
        }
      ]
    },
    {
      "cell_type": "markdown",
      "metadata": {
        "id": "llXVSl2vhNYv",
        "colab_type": "text"
      },
      "source": [
        "There is one and only one expression within the `lambda` function. In this case, the input is `k`, a key inside the dictionary `d` and the output is `d[k]`, the value in `d` w.r.t. the key `k`. Therefore we are sorting our dictionary keys by their values instead of the keys themselves."
      ]
    },
    {
      "cell_type": "markdown",
      "metadata": {
        "id": "nyGmXvMVhNYw",
        "colab_type": "text"
      },
      "source": [
        "#### Define our own functions"
      ]
    },
    {
      "cell_type": "markdown",
      "metadata": {
        "id": "Z454zMYMhNYy",
        "colab_type": "text"
      },
      "source": [
        "Note that we are not limited to built-in functions only. Let's now try make our own functions. Before that, we need to be clear on the structure of a function\n",
        "```python\n",
        "def func_name(arg1, arg2, arg3, ...):\n",
        "    #####################\n",
        "    # Do something here #\n",
        "    #####################\n",
        "    return output\n",
        "```\n",
        "\n",
        "\\* *`return output` is NOT required*"
      ]
    },
    {
      "cell_type": "markdown",
      "metadata": {
        "id": "sRYaP66yhNYz",
        "colab_type": "text"
      },
      "source": [
        "In the following example, we make use of `sum`, a built-in function to sum up numeric iterables."
      ]
    },
    {
      "cell_type": "code",
      "metadata": {
        "ExecuteTime": {
          "end_time": "2018-10-25T18:00:12.954116Z",
          "start_time": "2018-10-25T18:00:12.950910Z"
        },
        "id": "7wTMdzCGhNYz",
        "colab_type": "code",
        "colab": {}
      },
      "source": [
        "def mySum(list_to_sum):\n",
        "    return sum(list_to_sum)"
      ],
      "execution_count": 0,
      "outputs": []
    },
    {
      "cell_type": "code",
      "metadata": {
        "ExecuteTime": {
          "end_time": "2018-10-25T18:00:13.219092Z",
          "start_time": "2018-10-25T18:00:13.214135Z"
        },
        "id": "MyzQJsrShNY2",
        "colab_type": "code",
        "colab": {
          "base_uri": "https://localhost:8080/",
          "height": 35
        },
        "outputId": "2419754f-3df7-482b-db31-4d22f634b786"
      },
      "source": [
        "mySum(range(5))"
      ],
      "execution_count": 97,
      "outputs": [
        {
          "output_type": "execute_result",
          "data": {
            "text/plain": [
              "10"
            ]
          },
          "metadata": {
            "tags": []
          },
          "execution_count": 10
        },
        {
          "output_type": "execute_result",
          "data": {
            "text/plain": [
              "10"
            ]
          },
          "metadata": {
            "tags": []
          },
          "execution_count": 97
        }
      ]
    },
    {
      "cell_type": "markdown",
      "metadata": {
        "id": "QtSX9TUKhNY5",
        "colab_type": "text"
      },
      "source": [
        "A more complicated one that does not use `sum` function.\n",
        "- Do not remember for loop? Check out [here](https://github.com/zhiyzuo/python-tutorial/blob/master/1-Variables-Data_Structures-Control_Logic.ipynb)"
      ]
    },
    {
      "cell_type": "code",
      "metadata": {
        "ExecuteTime": {
          "end_time": "2018-10-25T18:00:55.632800Z",
          "start_time": "2018-10-25T18:00:55.628985Z"
        },
        "id": "1pynUPc8hNY7",
        "colab_type": "code",
        "colab": {}
      },
      "source": [
        "def mySumUsingLoop(list_to_sum):\n",
        "    sum_ = list_to_sum[0]\n",
        "    for item in list_to_sum[1:]:\n",
        "        sum_ += item\n",
        "    return sum_"
      ],
      "execution_count": 0,
      "outputs": []
    },
    {
      "cell_type": "code",
      "metadata": {
        "ExecuteTime": {
          "end_time": "2018-10-25T18:00:55.894819Z",
          "start_time": "2018-10-25T18:00:55.887776Z"
        },
        "id": "WUKyyniyhNY9",
        "colab_type": "code",
        "colab": {
          "base_uri": "https://localhost:8080/",
          "height": 35
        },
        "outputId": "6862400e-0a5f-41d0-e156-c19f8cf664cc"
      },
      "source": [
        "mySumUsingLoop(range(5))"
      ],
      "execution_count": 99,
      "outputs": [
        {
          "output_type": "execute_result",
          "data": {
            "text/plain": [
              "10"
            ]
          },
          "metadata": {
            "tags": []
          },
          "execution_count": 12
        },
        {
          "output_type": "execute_result",
          "data": {
            "text/plain": [
              "10"
            ]
          },
          "metadata": {
            "tags": []
          },
          "execution_count": 99
        }
      ]
    },
    {
      "cell_type": "markdown",
      "metadata": {
        "id": "laJZ8TIyhNZA",
        "colab_type": "text"
      },
      "source": [
        "*The two example functions are not doing anything interesting but just served as illustrations to build customized functions.*"
      ]
    },
    {
      "cell_type": "markdown",
      "metadata": {
        "id": "05EWSqNAhNZB",
        "colab_type": "text"
      },
      "source": [
        "Finally, let's see how we can sort a dictionary by values using functions instead of `lambda`"
      ]
    },
    {
      "cell_type": "code",
      "metadata": {
        "ExecuteTime": {
          "end_time": "2018-10-25T18:01:10.928528Z",
          "start_time": "2018-10-25T18:01:10.923553Z"
        },
        "id": "l_-0JO3FhNZD",
        "colab_type": "code",
        "colab": {
          "base_uri": "https://localhost:8080/",
          "height": 35
        },
        "outputId": "e655d6f0-e72b-45ce-b6a5-a4a6ccee047d"
      },
      "source": [
        "d"
      ],
      "execution_count": 100,
      "outputs": [
        {
          "output_type": "execute_result",
          "data": {
            "text/plain": [
              "{'a': 100, 'b': 70, 'c': 50}"
            ]
          },
          "metadata": {
            "tags": []
          },
          "execution_count": 13
        },
        {
          "output_type": "execute_result",
          "data": {
            "text/plain": [
              "{'a': 100, 'b': 70, 'c': 50}"
            ]
          },
          "metadata": {
            "tags": []
          },
          "execution_count": 100
        }
      ]
    },
    {
      "cell_type": "code",
      "metadata": {
        "ExecuteTime": {
          "end_time": "2018-10-25T18:01:11.516168Z",
          "start_time": "2018-10-25T18:01:11.512844Z"
        },
        "id": "m7SNmd9YhNZI",
        "colab_type": "code",
        "colab": {}
      },
      "source": [
        "def my_key(key):\n",
        "    return d[key]"
      ],
      "execution_count": 0,
      "outputs": []
    },
    {
      "cell_type": "code",
      "metadata": {
        "ExecuteTime": {
          "end_time": "2018-10-25T18:01:30.640489Z",
          "start_time": "2018-10-25T18:01:30.634567Z"
        },
        "id": "_ivOJisIhNZN",
        "colab_type": "code",
        "colab": {
          "base_uri": "https://localhost:8080/",
          "height": 35
        },
        "outputId": "c261c15f-a6bf-42a1-a2c3-125979efc61d"
      },
      "source": [
        "sorted(d, key=my_key)"
      ],
      "execution_count": 102,
      "outputs": [
        {
          "output_type": "execute_result",
          "data": {
            "text/plain": [
              "['c', 'b', 'a']"
            ]
          },
          "metadata": {
            "tags": []
          },
          "execution_count": 15
        },
        {
          "output_type": "execute_result",
          "data": {
            "text/plain": [
              "['c', 'b', 'a']"
            ]
          },
          "metadata": {
            "tags": []
          },
          "execution_count": 102
        }
      ]
    },
    {
      "cell_type": "markdown",
      "metadata": {
        "id": "9s1gOAlChNZU",
        "colab_type": "text"
      },
      "source": [
        "See, `lambda` is way simpler than defining a function explicitly"
      ]
    },
    {
      "cell_type": "markdown",
      "metadata": {
        "id": "e-Q6CvskhNZV",
        "colab_type": "text"
      },
      "source": [
        "---"
      ]
    },
    {
      "cell_type": "markdown",
      "metadata": {
        "id": "FtBPxB_7hNZV",
        "colab_type": "text"
      },
      "source": [
        "### FIle I/O"
      ]
    },
    {
      "cell_type": "markdown",
      "metadata": {
        "id": "ObcD6WZPhNZW",
        "colab_type": "text"
      },
      "source": [
        "This section is about some basics on reading and writing data, in Python native style"
      ]
    },
    {
      "cell_type": "markdown",
      "metadata": {
        "id": "0YbG75zthNZX",
        "colab_type": "text"
      },
      "source": [
        "#### Write data to a file"
      ]
    },
    {
      "cell_type": "code",
      "metadata": {
        "ExecuteTime": {
          "end_time": "2018-10-25T18:04:05.330388Z",
          "start_time": "2018-10-25T18:04:05.317270Z"
        },
        "id": "yzCQeBLXhNZY",
        "colab_type": "code",
        "colab": {}
      },
      "source": [
        "f = open(\"tmp1.csv\", \"w\") # f is a file handler, while \"w\" is the mode (w for write)\n",
        "for item in range(6):\n",
        "    f.write(str(item))\n",
        "    # add newline character \n",
        "    f.write(\"\\n\") \n",
        "    # alternatively, we can do:\n",
        "    # f.write(str(item)+\"\\n\") because we can concat two strings by using `+`\n",
        "f.close() # close the filer handler for security reasons."
      ],
      "execution_count": 0,
      "outputs": []
    },
    {
      "cell_type": "markdown",
      "metadata": {
        "id": "XgnthlUXhNZb",
        "colab_type": "text"
      },
      "source": [
        "check out the file we just created `tmp.csv`"
      ]
    },
    {
      "cell_type": "code",
      "metadata": {
        "ExecuteTime": {
          "end_time": "2018-10-25T18:04:14.746566Z",
          "start_time": "2018-10-25T18:04:14.613060Z"
        },
        "id": "y_9jMNJzhNZc",
        "colab_type": "code",
        "colab": {
          "base_uri": "https://localhost:8080/",
          "height": 225
        },
        "outputId": "0dd404b4-30b0-4def-f3fd-42f404f1b382"
      },
      "source": [
        "cat tmp1.csv"
      ],
      "execution_count": 104,
      "outputs": [
        {
          "output_type": "stream",
          "text": [
            "0\n",
            "1\n",
            "2\n",
            "3\n",
            "4\n",
            "5\n",
            "0\n",
            "1\n",
            "2\n",
            "3\n",
            "4\n",
            "5\n"
          ],
          "name": "stdout"
        }
      ]
    },
    {
      "cell_type": "markdown",
      "metadata": {
        "id": "FQwsluMThNZe",
        "colab_type": "text"
      },
      "source": [
        "Note that without the typecasting from `int` to `str`, an error will be raised."
      ]
    },
    {
      "cell_type": "markdown",
      "metadata": {
        "id": "OkEsoD8RhNZf",
        "colab_type": "text"
      },
      "source": [
        "A more commonly used way:"
      ]
    },
    {
      "cell_type": "code",
      "metadata": {
        "ExecuteTime": {
          "end_time": "2018-10-25T18:05:39.217600Z",
          "start_time": "2018-10-25T18:05:39.211303Z"
        },
        "id": "zAi2ckH2hNZg",
        "colab_type": "code",
        "colab": {}
      },
      "source": [
        "with open(\"tmp2.csv\", \"w\") as f: # f is a file handler, while \"w\" is the mode (w for write)\n",
        "    for item in range(4):\n",
        "        f.write(str(item))\n",
        "        f.write(\"\\n\") # add newline character"
      ],
      "execution_count": 0,
      "outputs": []
    },
    {
      "cell_type": "code",
      "metadata": {
        "ExecuteTime": {
          "end_time": "2018-10-25T18:05:39.624751Z",
          "start_time": "2018-10-25T18:05:39.496854Z"
        },
        "id": "eduT_gOZhNZi",
        "colab_type": "code",
        "colab": {
          "base_uri": "https://localhost:8080/",
          "height": 156
        },
        "outputId": "e694abeb-0a27-4841-f824-fa3686140fe5"
      },
      "source": [
        "cat tmp2.csv"
      ],
      "execution_count": 106,
      "outputs": [
        {
          "output_type": "stream",
          "text": [
            "0\n",
            "1\n",
            "2\n",
            "3\n",
            "0\n",
            "1\n",
            "2\n",
            "3\n"
          ],
          "name": "stdout"
        }
      ]
    },
    {
      "cell_type": "markdown",
      "metadata": {
        "id": "G5HWzcwUhNZl",
        "colab_type": "text"
      },
      "source": [
        "No need to close because of `with`.\n",
        "\n",
        "See more here:\n",
        "1. https://stackoverflow.com/questions/3012488/what-is-the-python-with-statement-designed-for\n",
        "2. https://docs.python.org/3/whatsnew/2.6.html#pep-343-the-with-statement"
      ]
    },
    {
      "cell_type": "markdown",
      "metadata": {
        "id": "bHgTj7nphNZm",
        "colab_type": "text"
      },
      "source": [
        "Occasionally, we need to _append new elements_ instead of _overwriting_ existing files. In this case, we should use `a` mode in our `open` function:"
      ]
    },
    {
      "cell_type": "code",
      "metadata": {
        "ExecuteTime": {
          "end_time": "2018-10-25T18:06:09.439732Z",
          "start_time": "2018-10-25T18:06:09.434341Z"
        },
        "id": "HXgS-YnchNZm",
        "colab_type": "code",
        "colab": {}
      },
      "source": [
        "with open(\"tmp2.csv\", \"a\") as f:\n",
        "    for item in range(15, 19):\n",
        "        f.write(str(item)+\"\\n\")"
      ],
      "execution_count": 0,
      "outputs": []
    },
    {
      "cell_type": "code",
      "metadata": {
        "ExecuteTime": {
          "end_time": "2018-10-25T18:06:09.845265Z",
          "start_time": "2018-10-25T18:06:09.718758Z"
        },
        "id": "GETgJWkLhNZq",
        "colab_type": "code",
        "colab": {
          "base_uri": "https://localhost:8080/",
          "height": 295
        },
        "outputId": "7992910c-f833-44bd-b805-1a2bec7c229f"
      },
      "source": [
        "cat tmp2.csv"
      ],
      "execution_count": 108,
      "outputs": [
        {
          "output_type": "stream",
          "text": [
            "0\n",
            "1\n",
            "2\n",
            "3\n",
            "15\n",
            "16\n",
            "17\n",
            "18\n",
            "0\n",
            "1\n",
            "2\n",
            "3\n",
            "15\n",
            "16\n",
            "17\n",
            "18\n"
          ],
          "name": "stdout"
        }
      ]
    },
    {
      "cell_type": "markdown",
      "metadata": {
        "id": "6cZqT_tYhNZu",
        "colab_type": "text"
      },
      "source": [
        "#### Read data to a file"
      ]
    },
    {
      "cell_type": "markdown",
      "metadata": {
        "id": "pWC9hzZBhNZu",
        "colab_type": "text"
      },
      "source": [
        "To read a text file into Python, we use `r` mode (for _read_)"
      ]
    },
    {
      "cell_type": "code",
      "metadata": {
        "ExecuteTime": {
          "end_time": "2018-10-25T18:08:01.936428Z",
          "start_time": "2018-10-25T18:08:01.931565Z"
        },
        "id": "YuDcj-j9hNZv",
        "colab_type": "code",
        "colab": {
          "base_uri": "https://localhost:8080/",
          "height": 52
        },
        "outputId": "f783b0dd-8031-4e20-82ce-deb1b45014b6"
      },
      "source": [
        "f = open(\"tmp1.csv\", \"r\") # this time, use read mode\n",
        "contents = [item for item in f] # list comprehension. This is the same as for-loop but more concise\n",
        "print(contents)"
      ],
      "execution_count": 109,
      "outputs": [
        {
          "output_type": "stream",
          "text": [
            "['0\\n', '1\\n', '2\\n', '3\\n', '4\\n', '5\\n']\n",
            "['0\\n', '1\\n', '2\\n', '3\\n', '4\\n', '5\\n']\n"
          ],
          "name": "stdout"
        }
      ]
    },
    {
      "cell_type": "markdown",
      "metadata": {
        "id": "8K0c_Qb3hNZy",
        "colab_type": "text"
      },
      "source": [
        "Usually, we do not like trailing newlines. We can use `strip` to remove them."
      ]
    },
    {
      "cell_type": "code",
      "metadata": {
        "ExecuteTime": {
          "end_time": "2018-10-25T18:08:02.351111Z",
          "start_time": "2018-10-25T18:08:02.341732Z"
        },
        "id": "MFhXHFy-hNZy",
        "colab_type": "code",
        "colab": {
          "base_uri": "https://localhost:8080/",
          "height": 52
        },
        "outputId": "96bb5a95-db19-4d2f-c34e-48ae70f02e6b"
      },
      "source": [
        "contents = [item.strip(\"\\n\") for item in contents] # strip the newline\n",
        "print(contents)"
      ],
      "execution_count": 110,
      "outputs": [
        {
          "output_type": "stream",
          "text": [
            "['0', '1', '2', '3', '4', '5']\n",
            "['0', '1', '2', '3', '4', '5']\n"
          ],
          "name": "stdout"
        }
      ]
    },
    {
      "cell_type": "markdown",
      "metadata": {
        "id": "K6w0UjCVhNZ3",
        "colab_type": "text"
      },
      "source": [
        "`map` is a function to do similar things like _list comprehension_. See [here](https://stackoverflow.com/questions/10973766/understanding-the-map-function) for more discussions."
      ]
    },
    {
      "cell_type": "code",
      "metadata": {
        "ExecuteTime": {
          "end_time": "2018-10-25T18:08:45.960510Z",
          "start_time": "2018-10-25T18:08:45.956406Z"
        },
        "id": "ozu-lRzZhNZ3",
        "colab_type": "code",
        "colab": {
          "base_uri": "https://localhost:8080/",
          "height": 52
        },
        "outputId": "917bd346-6f83-4c42-bf04-de40ba40c898"
      },
      "source": [
        "int_values = list(map(int, contents)) # map the values into integer type\n",
        "print(int_values)\n",
        "f.close() # always remember to close the file handler"
      ],
      "execution_count": 111,
      "outputs": [
        {
          "output_type": "stream",
          "text": [
            "[0, 1, 2, 3, 4, 5]\n",
            "[0, 1, 2, 3, 4, 5]\n"
          ],
          "name": "stdout"
        }
      ]
    },
    {
      "cell_type": "markdown",
      "metadata": {
        "id": "jsC0xQz3hNZ6",
        "colab_type": "text"
      },
      "source": [
        "Also using with:"
      ]
    },
    {
      "cell_type": "code",
      "metadata": {
        "ExecuteTime": {
          "end_time": "2018-10-25T18:09:06.950061Z",
          "start_time": "2018-10-25T18:09:06.943884Z"
        },
        "id": "JjFNBl54hNZ7",
        "colab_type": "code",
        "colab": {
          "base_uri": "https://localhost:8080/",
          "height": 156
        },
        "outputId": "863e9358-0ba2-4b95-9772-a4d0259e282a"
      },
      "source": [
        "with open(\"tmp1.csv\", \"r\") as f:\n",
        "    contents = [item for item in f] # list comprehension. This is the same as for-loop but more concise\n",
        "    contents = [item.strip(\"\\n\") for item in contents] # strip the newline\n",
        "    print('Before converting to `int`')\n",
        "    print(contents)\n",
        "    int_values = list(map(int, contents)) # map the values into integer type\n",
        "    print('After...')\n",
        "    print(int_values)"
      ],
      "execution_count": 112,
      "outputs": [
        {
          "output_type": "stream",
          "text": [
            "Before converting to `int`\n",
            "['0', '1', '2', '3', '4', '5']\n",
            "After...\n",
            "[0, 1, 2, 3, 4, 5]\n",
            "Before converting to `int`\n",
            "['0', '1', '2', '3', '4', '5']\n",
            "After...\n",
            "[0, 1, 2, 3, 4, 5]\n"
          ],
          "name": "stdout"
        }
      ]
    },
    {
      "cell_type": "markdown",
      "metadata": {
        "id": "fXqw5Zn3hNZ-",
        "colab_type": "text"
      },
      "source": [
        "---"
      ]
    },
    {
      "cell_type": "markdown",
      "metadata": {
        "id": "yiVMT3kjhNZ_",
        "colab_type": "text"
      },
      "source": [
        "### Libraries"
      ]
    },
    {
      "cell_type": "markdown",
      "metadata": {
        "id": "jTLrzWykhNZ_",
        "colab_type": "text"
      },
      "source": [
        "Often times, we need either internal or external help for complicated computation tasks. In these occasions, we need to _import libraries_. "
      ]
    },
    {
      "cell_type": "markdown",
      "metadata": {
        "id": "ghUVCfANhNaA",
        "colab_type": "text"
      },
      "source": [
        "#### Built-in libraries"
      ]
    },
    {
      "cell_type": "markdown",
      "metadata": {
        "id": "a8o4QwD-hNaB",
        "colab_type": "text"
      },
      "source": [
        "Python provides many built-in packages to prevent extra work on some common and useful functions\n",
        "\n",
        "We will use __math__ as an example."
      ]
    },
    {
      "cell_type": "code",
      "metadata": {
        "ExecuteTime": {
          "end_time": "2018-10-25T18:11:30.413987Z",
          "start_time": "2018-10-25T18:11:30.411351Z"
        },
        "id": "rNcrSdaqhNaB",
        "colab_type": "code",
        "colab": {}
      },
      "source": [
        "import math # use import to load a library"
      ],
      "execution_count": 0,
      "outputs": []
    },
    {
      "cell_type": "markdown",
      "metadata": {
        "id": "DcF6CiQVhNaD",
        "colab_type": "text"
      },
      "source": [
        "To use functions from the library, do: `library_name.function_name`. For example, when we want to calculate the logarithm using a function from `math` library, we can do `math.log`"
      ]
    },
    {
      "cell_type": "code",
      "metadata": {
        "ExecuteTime": {
          "end_time": "2018-10-25T18:12:36.793378Z",
          "start_time": "2018-10-25T18:12:36.788201Z"
        },
        "id": "PmMN2td6hNaE",
        "colab_type": "code",
        "colab": {
          "base_uri": "https://localhost:8080/",
          "height": 87
        },
        "outputId": "f5d4473b-56b5-4420-a59f-822a451c0798"
      },
      "source": [
        "x = 3\n",
        "print(\"e^x = e^3 = %f\"%math.exp(x))\n",
        "print(\"log(x) = log(3) = %f\"%math.log(x))"
      ],
      "execution_count": 114,
      "outputs": [
        {
          "output_type": "stream",
          "text": [
            "e^x = e^3 = 20.085537\n",
            "log(x) = log(3) = 1.098612\n",
            "e^x = e^3 = 20.085537\n",
            "log(x) = log(3) = 1.098612\n"
          ],
          "name": "stdout"
        }
      ]
    },
    {
      "cell_type": "markdown",
      "metadata": {
        "id": "xZlmN_dLhNaH",
        "colab_type": "text"
      },
      "source": [
        "You can also import one specific function:"
      ]
    },
    {
      "cell_type": "code",
      "metadata": {
        "ExecuteTime": {
          "end_time": "2018-10-25T18:12:37.162731Z",
          "start_time": "2018-10-25T18:12:37.157103Z"
        },
        "id": "oFF0Vh34hNaK",
        "colab_type": "code",
        "colab": {
          "base_uri": "https://localhost:8080/",
          "height": 52
        },
        "outputId": "c64b4bc9-9b6b-47be-dfc2-86b0c61ed7b7"
      },
      "source": [
        "from math import exp # You can import a specific function\n",
        "print(exp(x)) # This way, you don't need to use math.exp but just exp"
      ],
      "execution_count": 115,
      "outputs": [
        {
          "output_type": "stream",
          "text": [
            "20.085536923187668\n",
            "20.085536923187668\n"
          ],
          "name": "stdout"
        }
      ]
    },
    {
      "cell_type": "markdown",
      "metadata": {
        "id": "7W2PNZLZhNaO",
        "colab_type": "text"
      },
      "source": [
        "Or all:"
      ]
    },
    {
      "cell_type": "code",
      "metadata": {
        "ExecuteTime": {
          "end_time": "2018-10-25T17:20:30.324507Z",
          "start_time": "2018-10-25T17:20:30.320936Z"
        },
        "id": "LvaIXdYbhNaS",
        "colab_type": "code",
        "colab": {}
      },
      "source": [
        "from math import * # Import all functions"
      ],
      "execution_count": 0,
      "outputs": []
    },
    {
      "cell_type": "code",
      "metadata": {
        "ExecuteTime": {
          "end_time": "2018-10-25T17:20:30.331795Z",
          "start_time": "2018-10-25T17:20:30.327483Z"
        },
        "id": "RzayyyHihNaU",
        "colab_type": "code",
        "colab": {
          "base_uri": "https://localhost:8080/",
          "height": 87
        },
        "outputId": "1251d595-d5cd-4b94-fa2a-e628646a368e"
      },
      "source": [
        "print(exp(x))\n",
        "print(log(x)) # Before importing math, calling `exp` or `log` will raise errors"
      ],
      "execution_count": 117,
      "outputs": [
        {
          "output_type": "stream",
          "text": [
            "20.085536923187668\n",
            "1.0986122886681098\n",
            "20.085536923187668\n",
            "1.0986122886681098\n"
          ],
          "name": "stdout"
        }
      ]
    },
    {
      "cell_type": "markdown",
      "metadata": {
        "id": "leR44qM5hNaW",
        "colab_type": "text"
      },
      "source": [
        "Depending on what you want to achieve, you may want to choose between importing a few or all (by `*`) functions within a package."
      ]
    },
    {
      "cell_type": "markdown",
      "metadata": {
        "id": "Cl5BLpnihNaX",
        "colab_type": "text"
      },
      "source": [
        "#### External libraries"
      ]
    },
    {
      "cell_type": "markdown",
      "metadata": {
        "ExecuteTime": {
          "end_time": "2017-10-21T16:45:05.266743Z",
          "start_time": "2017-10-21T16:45:05.260803Z"
        },
        "id": "cQkdvn3JhNaX",
        "colab_type": "text"
      },
      "source": [
        "There are times you'll want some advanced utility functions not provided by Python. There are many useful packages by developers.\n",
        "\n",
        "We'll use __numpy__ as an example. (__numpy__, __scipy__, __matplotlib__,and probably __pandas__ will be of the most importance to you for data analyses.\n",
        "\n",
        "Installation of packages for Python is the easiest using <a href=\"https://packaging.python.org/installing/\" target=\"_blank\">pip</a>:"
      ]
    },
    {
      "cell_type": "markdown",
      "metadata": {
        "id": "nuvcFYbshNaY",
        "colab_type": "text"
      },
      "source": [
        "```bash\n",
        "~$ pip install numpy scipy pandas\n",
        "```"
      ]
    },
    {
      "cell_type": "markdown",
      "metadata": {
        "id": "7o8RX-BShNaZ",
        "colab_type": "text"
      },
      "source": [
        "If you use Anaconda, I beleive all these are ready for your use."
      ]
    },
    {
      "cell_type": "markdown",
      "metadata": {
        "id": "GwIX3h1xhNaa",
        "colab_type": "text"
      },
      "source": [
        "Loading external libraries is just the same as built-in ones. To use _alias_ for easier access to the libraries, we can import a library by: `import library_long_name as short_name`. For example:"
      ]
    },
    {
      "cell_type": "code",
      "metadata": {
        "ExecuteTime": {
          "end_time": "2018-10-25T18:13:42.776598Z",
          "start_time": "2018-10-25T18:13:42.770831Z"
        },
        "id": "NNJdGViPhNab",
        "colab_type": "code",
        "colab": {}
      },
      "source": [
        "# After you install numpy, load it\n",
        "import numpy as np # you can use np instead of numpy to call the functions in numpy package"
      ],
      "execution_count": 0,
      "outputs": []
    },
    {
      "cell_type": "code",
      "metadata": {
        "ExecuteTime": {
          "end_time": "2018-10-25T18:15:33.255909Z",
          "start_time": "2018-10-25T18:15:33.250898Z"
        },
        "id": "qNiaQzWJhNad",
        "colab_type": "code",
        "colab": {
          "base_uri": "https://localhost:8080/",
          "height": 121
        },
        "outputId": "19ad5f22-1384-4a28-87ae-5fd0d0077170"
      },
      "source": [
        "x = np.array([[1,2,3], [4,5,7]], dtype=np.float) # create a numpy array object, specify the data type as float\n",
        "print(x)\n",
        "print(type(x))"
      ],
      "execution_count": 119,
      "outputs": [
        {
          "output_type": "stream",
          "text": [
            "[[1. 2. 3.]\n",
            " [4. 5. 7.]]\n",
            "<class 'numpy.ndarray'>\n",
            "[[1. 2. 3.]\n",
            " [4. 5. 7.]]\n",
            "<class 'numpy.ndarray'>\n"
          ],
          "name": "stdout"
        }
      ]
    },
    {
      "cell_type": "markdown",
      "metadata": {
        "id": "jr77f8tphNag",
        "colab_type": "text"
      },
      "source": [
        "We can call `shape` function designed for `numpy.ndarray` class to check the dimension"
      ]
    },
    {
      "cell_type": "code",
      "metadata": {
        "ExecuteTime": {
          "end_time": "2018-10-25T18:15:44.041903Z",
          "start_time": "2018-10-25T18:15:44.036465Z"
        },
        "id": "x4I9qN-AhNah",
        "colab_type": "code",
        "colab": {
          "base_uri": "https://localhost:8080/",
          "height": 35
        },
        "outputId": "87611ed3-eb1f-424a-d21c-bc4cb71f3f39"
      },
      "source": [
        "x.shape"
      ],
      "execution_count": 120,
      "outputs": [
        {
          "output_type": "execute_result",
          "data": {
            "text/plain": [
              "(2, 3)"
            ]
          },
          "metadata": {
            "tags": []
          },
          "execution_count": 33
        },
        {
          "output_type": "execute_result",
          "data": {
            "text/plain": [
              "(2, 3)"
            ]
          },
          "metadata": {
            "tags": []
          },
          "execution_count": 120
        }
      ]
    },
    {
      "cell_type": "markdown",
      "metadata": {
        "id": "0KiK60X1hNal",
        "colab_type": "text"
      },
      "source": [
        "Unlike `list`, we have to use one single data type for all elements in an array"
      ]
    },
    {
      "cell_type": "code",
      "metadata": {
        "ExecuteTime": {
          "end_time": "2018-10-25T18:16:19.660627Z",
          "start_time": "2018-10-25T18:16:19.655016Z"
        },
        "id": "XIagL4rzhNam",
        "colab_type": "code",
        "colab": {
          "base_uri": "https://localhost:8080/",
          "height": 35
        },
        "outputId": "a55983c6-23f7-4078-91f0-836cbb492b2a"
      },
      "source": [
        "y = np.array([1, 'yes'])\n",
        "y"
      ],
      "execution_count": 121,
      "outputs": [
        {
          "output_type": "execute_result",
          "data": {
            "text/plain": [
              "array(['1', 'yes'], dtype='<U21')"
            ]
          },
          "metadata": {
            "tags": []
          },
          "execution_count": 34
        },
        {
          "output_type": "execute_result",
          "data": {
            "text/plain": [
              "array(['1', 'yes'], dtype='<U21')"
            ]
          },
          "metadata": {
            "tags": []
          },
          "execution_count": 121
        }
      ]
    },
    {
      "cell_type": "code",
      "metadata": {
        "ExecuteTime": {
          "end_time": "2018-10-25T18:16:34.203322Z",
          "start_time": "2018-10-25T18:16:34.195223Z"
        },
        "id": "cIRYnoYKhNap",
        "colab_type": "code",
        "colab": {
          "base_uri": "https://localhost:8080/",
          "height": 35
        },
        "outputId": "9289773e-b6b9-4de2-f027-789bf6a4ae20"
      },
      "source": [
        "y[0], type(y[0])"
      ],
      "execution_count": 122,
      "outputs": [
        {
          "output_type": "execute_result",
          "data": {
            "text/plain": [
              "('1', numpy.str_)"
            ]
          },
          "metadata": {
            "tags": []
          },
          "execution_count": 35
        },
        {
          "output_type": "execute_result",
          "data": {
            "text/plain": [
              "('1', numpy.str_)"
            ]
          },
          "metadata": {
            "tags": []
          },
          "execution_count": 122
        }
      ]
    },
    {
      "cell_type": "code",
      "metadata": {
        "ExecuteTime": {
          "end_time": "2018-10-25T18:16:49.525338Z",
          "start_time": "2018-10-25T18:16:49.519782Z"
        },
        "id": "5xBm1SYvhNar",
        "colab_type": "code",
        "colab": {
          "base_uri": "https://localhost:8080/",
          "height": 35
        },
        "outputId": "17525718-bbd4-48b3-e470-7f49000a845a"
      },
      "source": [
        "y_list = [1, 'yes']\n",
        "y_list[0], type(y_list[0])"
      ],
      "execution_count": 123,
      "outputs": [
        {
          "output_type": "execute_result",
          "data": {
            "text/plain": [
              "(1, int)"
            ]
          },
          "metadata": {
            "tags": []
          },
          "execution_count": 36
        },
        {
          "output_type": "execute_result",
          "data": {
            "text/plain": [
              "(1, int)"
            ]
          },
          "metadata": {
            "tags": []
          },
          "execution_count": 123
        }
      ]
    },
    {
      "cell_type": "markdown",
      "metadata": {
        "id": "4GA4sWkehNav",
        "colab_type": "text"
      },
      "source": [
        "__Scipy/Numpy__ provides extensive utilities to manipulate data and simple analysis"
      ]
    },
    {
      "cell_type": "code",
      "metadata": {
        "ExecuteTime": {
          "end_time": "2018-10-25T18:17:50.704195Z",
          "start_time": "2018-10-25T18:17:50.701194Z"
        },
        "id": "ajwCiw8VhNaw",
        "colab_type": "code",
        "colab": {}
      },
      "source": [
        "from scipy.stats import pearsonr, spearmanr # correlation functions"
      ],
      "execution_count": 0,
      "outputs": []
    },
    {
      "cell_type": "code",
      "metadata": {
        "ExecuteTime": {
          "end_time": "2018-10-25T18:17:50.766246Z",
          "start_time": "2018-10-25T18:17:50.743057Z"
        },
        "id": "af7iKIYMhNay",
        "colab_type": "code",
        "colab": {
          "base_uri": "https://localhost:8080/",
          "height": 87
        },
        "outputId": "484857aa-fe82-4dbd-98ed-07802b7a4c05"
      },
      "source": [
        "print(pearsonr(x[1, :], x[0, :]))\n",
        "print(spearmanr(x[1, :], x[0, :]))"
      ],
      "execution_count": 125,
      "outputs": [
        {
          "output_type": "stream",
          "text": [
            "(0.9819805060619655, 0.1210377183236774)\n",
            "SpearmanrResult(correlation=1.0, pvalue=0.0)\n",
            "(0.9819805060619655, 0.1210377183236774)\n",
            "SpearmanrResult(correlation=1.0, pvalue=0.0)\n"
          ],
          "name": "stdout"
        }
      ]
    },
    {
      "cell_type": "markdown",
      "metadata": {
        "id": "RTW7tEfVhNa2",
        "colab_type": "text"
      },
      "source": [
        "__Pandas__ (Python Data Analysis Library) is a great package for data structures: `DataFrame`"
      ]
    },
    {
      "cell_type": "markdown",
      "metadata": {
        "id": "CrFGoxJ6hNa3",
        "colab_type": "text"
      },
      "source": [
        "If you're familar with `R`, then you must love `pandas.DataFrame` data structure."
      ]
    },
    {
      "cell_type": "code",
      "metadata": {
        "ExecuteTime": {
          "end_time": "2018-10-25T18:18:13.027876Z",
          "start_time": "2018-10-25T18:18:13.025121Z"
        },
        "id": "9sdG6eAwhNa3",
        "colab_type": "code",
        "colab": {}
      },
      "source": [
        "import pandas as pd"
      ],
      "execution_count": 0,
      "outputs": []
    },
    {
      "cell_type": "code",
      "metadata": {
        "ExecuteTime": {
          "end_time": "2018-10-25T18:18:55.978258Z",
          "start_time": "2018-10-25T18:18:55.969575Z"
        },
        "id": "J7WPg6hthNa5",
        "colab_type": "code",
        "colab": {
          "base_uri": "https://localhost:8080/",
          "height": 69
        },
        "outputId": "09f7e1e2-0c80-46ec-921e-0748ed9fac49"
      },
      "source": [
        "x"
      ],
      "execution_count": 127,
      "outputs": [
        {
          "output_type": "execute_result",
          "data": {
            "text/plain": [
              "array([[1., 2., 3.],\n",
              "       [4., 5., 7.]])"
            ]
          },
          "metadata": {
            "tags": []
          },
          "execution_count": 40
        },
        {
          "output_type": "execute_result",
          "data": {
            "text/plain": [
              "array([[1., 2., 3.],\n",
              "       [4., 5., 7.]])"
            ]
          },
          "metadata": {
            "tags": []
          },
          "execution_count": 127
        }
      ]
    },
    {
      "cell_type": "code",
      "metadata": {
        "ExecuteTime": {
          "end_time": "2018-10-25T18:19:06.351817Z",
          "start_time": "2018-10-25T18:19:06.337655Z"
        },
        "id": "kfp-DrDFhNa7",
        "colab_type": "code",
        "colab": {
          "base_uri": "https://localhost:8080/",
          "height": 203
        },
        "outputId": "c5410e0e-3b8b-4b53-fc8a-6ea12d82f90a"
      },
      "source": [
        "x_df = pd.DataFrame(x)\n",
        "x_df"
      ],
      "execution_count": 128,
      "outputs": [
        {
          "output_type": "execute_result",
          "data": {
            "text/html": [
              "<div>\n",
              "<style scoped>\n",
              "    .dataframe tbody tr th:only-of-type {\n",
              "        vertical-align: middle;\n",
              "    }\n",
              "\n",
              "    .dataframe tbody tr th {\n",
              "        vertical-align: top;\n",
              "    }\n",
              "\n",
              "    .dataframe thead th {\n",
              "        text-align: right;\n",
              "    }\n",
              "</style>\n",
              "<table border=\"1\" class=\"dataframe\">\n",
              "  <thead>\n",
              "    <tr style=\"text-align: right;\">\n",
              "      <th></th>\n",
              "      <th>0</th>\n",
              "      <th>1</th>\n",
              "      <th>2</th>\n",
              "    </tr>\n",
              "  </thead>\n",
              "  <tbody>\n",
              "    <tr>\n",
              "      <th>0</th>\n",
              "      <td>1.0</td>\n",
              "      <td>2.0</td>\n",
              "      <td>3.0</td>\n",
              "    </tr>\n",
              "    <tr>\n",
              "      <th>1</th>\n",
              "      <td>4.0</td>\n",
              "      <td>5.0</td>\n",
              "      <td>7.0</td>\n",
              "    </tr>\n",
              "  </tbody>\n",
              "</table>\n",
              "</div>"
            ],
            "text/plain": [
              "     0    1    2\n",
              "0  1.0  2.0  3.0\n",
              "1  4.0  5.0  7.0"
            ]
          },
          "metadata": {
            "tags": []
          },
          "execution_count": 41
        },
        {
          "output_type": "execute_result",
          "data": {
            "text/html": [
              "<div>\n",
              "<style scoped>\n",
              "    .dataframe tbody tr th:only-of-type {\n",
              "        vertical-align: middle;\n",
              "    }\n",
              "\n",
              "    .dataframe tbody tr th {\n",
              "        vertical-align: top;\n",
              "    }\n",
              "\n",
              "    .dataframe thead th {\n",
              "        text-align: right;\n",
              "    }\n",
              "</style>\n",
              "<table border=\"1\" class=\"dataframe\">\n",
              "  <thead>\n",
              "    <tr style=\"text-align: right;\">\n",
              "      <th></th>\n",
              "      <th>0</th>\n",
              "      <th>1</th>\n",
              "      <th>2</th>\n",
              "    </tr>\n",
              "  </thead>\n",
              "  <tbody>\n",
              "    <tr>\n",
              "      <th>0</th>\n",
              "      <td>1.0</td>\n",
              "      <td>2.0</td>\n",
              "      <td>3.0</td>\n",
              "    </tr>\n",
              "    <tr>\n",
              "      <th>1</th>\n",
              "      <td>4.0</td>\n",
              "      <td>5.0</td>\n",
              "      <td>7.0</td>\n",
              "    </tr>\n",
              "  </tbody>\n",
              "</table>\n",
              "</div>"
            ],
            "text/plain": [
              "     0    1    2\n",
              "0  1.0  2.0  3.0\n",
              "1  4.0  5.0  7.0"
            ]
          },
          "metadata": {
            "tags": []
          },
          "execution_count": 128
        }
      ]
    },
    {
      "cell_type": "markdown",
      "metadata": {
        "id": "u_Er9PBkhNa9",
        "colab_type": "text"
      },
      "source": [
        "Easy import/export"
      ]
    },
    {
      "cell_type": "code",
      "metadata": {
        "ExecuteTime": {
          "end_time": "2018-10-25T17:20:32.720410Z",
          "start_time": "2018-10-25T17:20:32.701648Z"
        },
        "id": "IJ5ohzOkhNa9",
        "colab_type": "code",
        "colab": {}
      },
      "source": [
        "x_df.to_csv('tmp_pd.csv', index=False) # `index=False`: do not write row indices to file"
      ],
      "execution_count": 0,
      "outputs": []
    },
    {
      "cell_type": "code",
      "metadata": {
        "ExecuteTime": {
          "end_time": "2018-10-25T17:20:32.774467Z",
          "start_time": "2018-10-25T17:20:32.755799Z"
        },
        "id": "FBHU_sULhNa_",
        "colab_type": "code",
        "colab": {}
      },
      "source": [
        "df = pd.read_csv('tmp_pd.csv')"
      ],
      "execution_count": 0,
      "outputs": []
    },
    {
      "cell_type": "code",
      "metadata": {
        "ExecuteTime": {
          "end_time": "2018-10-25T17:20:32.816525Z",
          "start_time": "2018-10-25T17:20:32.781308Z"
        },
        "id": "JMT2MxDUhNbD",
        "colab_type": "code",
        "colab": {
          "base_uri": "https://localhost:8080/",
          "height": 203
        },
        "outputId": "c8ad7cde-0b60-44eb-816c-74ecbf8270a2"
      },
      "source": [
        "df"
      ],
      "execution_count": 131,
      "outputs": [
        {
          "output_type": "execute_result",
          "data": {
            "text/html": [
              "<div>\n",
              "<style scoped>\n",
              "    .dataframe tbody tr th:only-of-type {\n",
              "        vertical-align: middle;\n",
              "    }\n",
              "\n",
              "    .dataframe tbody tr th {\n",
              "        vertical-align: top;\n",
              "    }\n",
              "\n",
              "    .dataframe thead th {\n",
              "        text-align: right;\n",
              "    }\n",
              "</style>\n",
              "<table border=\"1\" class=\"dataframe\">\n",
              "  <thead>\n",
              "    <tr style=\"text-align: right;\">\n",
              "      <th></th>\n",
              "      <th>0</th>\n",
              "      <th>1</th>\n",
              "      <th>2</th>\n",
              "    </tr>\n",
              "  </thead>\n",
              "  <tbody>\n",
              "    <tr>\n",
              "      <th>0</th>\n",
              "      <td>1.0</td>\n",
              "      <td>2.0</td>\n",
              "      <td>3.0</td>\n",
              "    </tr>\n",
              "    <tr>\n",
              "      <th>1</th>\n",
              "      <td>4.0</td>\n",
              "      <td>5.0</td>\n",
              "      <td>7.0</td>\n",
              "    </tr>\n",
              "  </tbody>\n",
              "</table>\n",
              "</div>"
            ],
            "text/plain": [
              "     0    1    2\n",
              "0  1.0  2.0  3.0\n",
              "1  4.0  5.0  7.0"
            ]
          },
          "metadata": {
            "tags": []
          },
          "execution_count": 44
        },
        {
          "output_type": "execute_result",
          "data": {
            "text/html": [
              "<div>\n",
              "<style scoped>\n",
              "    .dataframe tbody tr th:only-of-type {\n",
              "        vertical-align: middle;\n",
              "    }\n",
              "\n",
              "    .dataframe tbody tr th {\n",
              "        vertical-align: top;\n",
              "    }\n",
              "\n",
              "    .dataframe thead th {\n",
              "        text-align: right;\n",
              "    }\n",
              "</style>\n",
              "<table border=\"1\" class=\"dataframe\">\n",
              "  <thead>\n",
              "    <tr style=\"text-align: right;\">\n",
              "      <th></th>\n",
              "      <th>0</th>\n",
              "      <th>1</th>\n",
              "      <th>2</th>\n",
              "    </tr>\n",
              "  </thead>\n",
              "  <tbody>\n",
              "    <tr>\n",
              "      <th>0</th>\n",
              "      <td>1.0</td>\n",
              "      <td>2.0</td>\n",
              "      <td>3.0</td>\n",
              "    </tr>\n",
              "    <tr>\n",
              "      <th>1</th>\n",
              "      <td>4.0</td>\n",
              "      <td>5.0</td>\n",
              "      <td>7.0</td>\n",
              "    </tr>\n",
              "  </tbody>\n",
              "</table>\n",
              "</div>"
            ],
            "text/plain": [
              "     0    1    2\n",
              "0  1.0  2.0  3.0\n",
              "1  4.0  5.0  7.0"
            ]
          },
          "metadata": {
            "tags": []
          },
          "execution_count": 131
        }
      ]
    },
    {
      "cell_type": "markdown",
      "metadata": {
        "id": "78W-xnJ2hNbF",
        "colab_type": "text"
      },
      "source": [
        "---"
      ]
    },
    {
      "cell_type": "markdown",
      "metadata": {
        "id": "8Reg96w0hNbG",
        "colab_type": "text"
      },
      "source": [
        "### Quick Intro to Numpy"
      ]
    },
    {
      "cell_type": "markdown",
      "metadata": {
        "id": "ccWtMFZGhNbG",
        "colab_type": "text"
      },
      "source": [
        "Instead of using the native data structures, we use `numpy.ndarray` for data analytics most of the time. While they are not as \"flexible\" as lists, they are easy to use and have better performance. As Numpy's official documentation states:\n",
        "> NumPy’s main object is the homogeneous multidimensional array. It is a table of elements (usually numbers), all of the same type, indexed by a tuple of positive integers."
      ]
    },
    {
      "cell_type": "markdown",
      "metadata": {
        "id": "ykdAS8s7hNbH",
        "colab_type": "text"
      },
      "source": [
        "As we were using it just now, the most common alias for `numpy` is `np`:"
      ]
    },
    {
      "cell_type": "code",
      "metadata": {
        "ExecuteTime": {
          "end_time": "2018-10-25T18:20:55.886804Z",
          "start_time": "2018-10-25T18:20:55.883788Z"
        },
        "id": "kluNR6wRhNbH",
        "colab_type": "code",
        "colab": {}
      },
      "source": [
        "import numpy as np"
      ],
      "execution_count": 0,
      "outputs": []
    },
    {
      "cell_type": "markdown",
      "metadata": {
        "id": "cFDHf32uhNbJ",
        "colab_type": "text"
      },
      "source": [
        "#### Create arrays"
      ]
    },
    {
      "cell_type": "markdown",
      "metadata": {
        "id": "5DonzXnEhNbK",
        "colab_type": "text"
      },
      "source": [
        "Depending on what types of analyses we are going to work on later, the most appropriate array initialization methods can be choosed."
      ]
    },
    {
      "cell_type": "markdown",
      "metadata": {
        "id": "eLS1BjGChNbK",
        "colab_type": "text"
      },
      "source": [
        "##### By hand"
      ]
    },
    {
      "cell_type": "markdown",
      "metadata": {
        "id": "rrbxOdtThNbL",
        "colab_type": "text"
      },
      "source": [
        "This is very similar to creating a list of elements manually, except that we wrap the list around by `np.array()`."
      ]
    },
    {
      "cell_type": "code",
      "metadata": {
        "ExecuteTime": {
          "end_time": "2018-10-25T18:21:09.714465Z",
          "start_time": "2018-10-25T18:21:09.708143Z"
        },
        "id": "xeK_tgNahNbO",
        "colab_type": "code",
        "colab": {
          "base_uri": "https://localhost:8080/",
          "height": 35
        },
        "outputId": "ac5c66e9-93fe-451e-cef8-7298eda59b84"
      },
      "source": [
        "arr = np.array([1,2,3,8])\n",
        "arr"
      ],
      "execution_count": 133,
      "outputs": [
        {
          "output_type": "execute_result",
          "data": {
            "text/plain": [
              "array([1, 2, 3, 8])"
            ]
          },
          "metadata": {
            "tags": []
          },
          "execution_count": 46
        },
        {
          "output_type": "execute_result",
          "data": {
            "text/plain": [
              "array([1, 2, 3, 8])"
            ]
          },
          "metadata": {
            "tags": []
          },
          "execution_count": 133
        }
      ]
    },
    {
      "cell_type": "code",
      "metadata": {
        "ExecuteTime": {
          "end_time": "2018-10-25T18:21:10.376843Z",
          "start_time": "2018-10-25T18:21:10.372139Z"
        },
        "id": "ZjvlQTHwhNbS",
        "colab_type": "code",
        "colab": {
          "base_uri": "https://localhost:8080/",
          "height": 35
        },
        "outputId": "55123d7c-1836-49f9-87af-50c60c3f5b6d"
      },
      "source": [
        "arr.shape"
      ],
      "execution_count": 134,
      "outputs": [
        {
          "output_type": "execute_result",
          "data": {
            "text/plain": [
              "(4,)"
            ]
          },
          "metadata": {
            "tags": []
          },
          "execution_count": 47
        },
        {
          "output_type": "execute_result",
          "data": {
            "text/plain": [
              "(4,)"
            ]
          },
          "metadata": {
            "tags": []
          },
          "execution_count": 134
        }
      ]
    },
    {
      "cell_type": "markdown",
      "metadata": {
        "id": "vkwiFOtXhNbU",
        "colab_type": "text"
      },
      "source": [
        "Multidimensional arrays: seperated by comma"
      ]
    },
    {
      "cell_type": "markdown",
      "metadata": {
        "id": "-jHRR5IlhNbW",
        "colab_type": "text"
      },
      "source": [
        "1 by 4: 1 row and 4 columns"
      ]
    },
    {
      "cell_type": "code",
      "metadata": {
        "ExecuteTime": {
          "end_time": "2018-10-25T18:22:13.908319Z",
          "start_time": "2018-10-25T18:22:13.903647Z"
        },
        "id": "Ohtxi-2HhNbX",
        "colab_type": "code",
        "colab": {
          "base_uri": "https://localhost:8080/",
          "height": 35
        },
        "outputId": "95ebc1d5-fd32-48c6-d683-7f4ecc23b590"
      },
      "source": [
        "arr = np.array([[1,2,3,8]])\n",
        "arr.shape"
      ],
      "execution_count": 135,
      "outputs": [
        {
          "output_type": "execute_result",
          "data": {
            "text/plain": [
              "(1, 4)"
            ]
          },
          "metadata": {
            "tags": []
          },
          "execution_count": 48
        },
        {
          "output_type": "execute_result",
          "data": {
            "text/plain": [
              "(1, 4)"
            ]
          },
          "metadata": {
            "tags": []
          },
          "execution_count": 135
        }
      ]
    },
    {
      "cell_type": "code",
      "metadata": {
        "ExecuteTime": {
          "end_time": "2018-10-25T18:22:30.154253Z",
          "start_time": "2018-10-25T18:22:30.148702Z"
        },
        "id": "lOrPpQQUhNbZ",
        "colab_type": "code",
        "colab": {
          "base_uri": "https://localhost:8080/",
          "height": 35
        },
        "outputId": "9e861b4d-c7bf-4238-81cf-5739c322a632"
      },
      "source": [
        "arr"
      ],
      "execution_count": 136,
      "outputs": [
        {
          "output_type": "execute_result",
          "data": {
            "text/plain": [
              "array([[1, 2, 3, 8]])"
            ]
          },
          "metadata": {
            "tags": []
          },
          "execution_count": 49
        },
        {
          "output_type": "execute_result",
          "data": {
            "text/plain": [
              "array([[1, 2, 3, 8]])"
            ]
          },
          "metadata": {
            "tags": []
          },
          "execution_count": 136
        }
      ]
    },
    {
      "cell_type": "markdown",
      "metadata": {
        "id": "xAas52iOhNbb",
        "colab_type": "text"
      },
      "source": [
        "3 by 4: 3 row and 4 columns"
      ]
    },
    {
      "cell_type": "code",
      "metadata": {
        "ExecuteTime": {
          "end_time": "2018-10-25T18:22:47.168037Z",
          "start_time": "2018-10-25T18:22:47.162787Z"
        },
        "id": "3rda3tEjhNbc",
        "colab_type": "code",
        "colab": {
          "base_uri": "https://localhost:8080/",
          "height": 35
        },
        "outputId": "1ea5e871-f2bc-4612-bc58-28613f9d205e"
      },
      "source": [
        "arr = np.array([[1,2,3,8], [3,2,3,2], [4,5,0,8]])\n",
        "arr.shape"
      ],
      "execution_count": 137,
      "outputs": [
        {
          "output_type": "execute_result",
          "data": {
            "text/plain": [
              "(3, 4)"
            ]
          },
          "metadata": {
            "tags": []
          },
          "execution_count": 50
        },
        {
          "output_type": "execute_result",
          "data": {
            "text/plain": [
              "(3, 4)"
            ]
          },
          "metadata": {
            "tags": []
          },
          "execution_count": 137
        }
      ]
    },
    {
      "cell_type": "code",
      "metadata": {
        "ExecuteTime": {
          "end_time": "2018-10-25T18:22:47.618800Z",
          "start_time": "2018-10-25T18:22:47.613359Z"
        },
        "id": "ZVmqbXM1hNbe",
        "colab_type": "code",
        "colab": {
          "base_uri": "https://localhost:8080/",
          "height": 104
        },
        "outputId": "c44c0082-e322-4459-db92-b5d03c2f875a"
      },
      "source": [
        "arr"
      ],
      "execution_count": 138,
      "outputs": [
        {
          "output_type": "execute_result",
          "data": {
            "text/plain": [
              "array([[1, 2, 3, 8],\n",
              "       [3, 2, 3, 2],\n",
              "       [4, 5, 0, 8]])"
            ]
          },
          "metadata": {
            "tags": []
          },
          "execution_count": 51
        },
        {
          "output_type": "execute_result",
          "data": {
            "text/plain": [
              "array([[1, 2, 3, 8],\n",
              "       [3, 2, 3, 2],\n",
              "       [4, 5, 0, 8]])"
            ]
          },
          "metadata": {
            "tags": []
          },
          "execution_count": 138
        }
      ]
    },
    {
      "cell_type": "markdown",
      "metadata": {
        "id": "-LZrrxMVhNbg",
        "colab_type": "text"
      },
      "source": [
        "##### By functions"
      ]
    },
    {
      "cell_type": "markdown",
      "metadata": {
        "id": "NiKzLOSHhNbh",
        "colab_type": "text"
      },
      "source": [
        "There are many special array initialization methods to call:"
      ]
    },
    {
      "cell_type": "code",
      "metadata": {
        "ExecuteTime": {
          "end_time": "2018-10-25T18:23:26.355528Z",
          "start_time": "2018-10-25T18:23:26.350971Z"
        },
        "id": "Sqeuj14shNbh",
        "colab_type": "code",
        "colab": {
          "base_uri": "https://localhost:8080/",
          "height": 104
        },
        "outputId": "25557434-1da2-4a18-80ca-5bcb2657e33d"
      },
      "source": [
        "np.zeros([3,5], dtype=int)"
      ],
      "execution_count": 139,
      "outputs": [
        {
          "output_type": "execute_result",
          "data": {
            "text/plain": [
              "array([[0, 0, 0, 0, 0],\n",
              "       [0, 0, 0, 0, 0],\n",
              "       [0, 0, 0, 0, 0]])"
            ]
          },
          "metadata": {
            "tags": []
          },
          "execution_count": 52
        },
        {
          "output_type": "execute_result",
          "data": {
            "text/plain": [
              "array([[0, 0, 0, 0, 0],\n",
              "       [0, 0, 0, 0, 0],\n",
              "       [0, 0, 0, 0, 0]])"
            ]
          },
          "metadata": {
            "tags": []
          },
          "execution_count": 139
        }
      ]
    },
    {
      "cell_type": "code",
      "metadata": {
        "ExecuteTime": {
          "end_time": "2018-10-25T17:20:32.915771Z",
          "start_time": "2018-10-25T17:20:32.908663Z"
        },
        "id": "Z_YuEeA-hNbj",
        "colab_type": "code",
        "colab": {
          "base_uri": "https://localhost:8080/",
          "height": 104
        },
        "outputId": "3edddf3a-d025-4a63-ba45-cb9cc9a0efd4"
      },
      "source": [
        "np.ones([3,5])"
      ],
      "execution_count": 140,
      "outputs": [
        {
          "output_type": "execute_result",
          "data": {
            "text/plain": [
              "array([[1., 1., 1., 1., 1.],\n",
              "       [1., 1., 1., 1., 1.],\n",
              "       [1., 1., 1., 1., 1.]])"
            ]
          },
          "metadata": {
            "tags": []
          },
          "execution_count": 53
        },
        {
          "output_type": "execute_result",
          "data": {
            "text/plain": [
              "array([[1., 1., 1., 1., 1.],\n",
              "       [1., 1., 1., 1., 1.],\n",
              "       [1., 1., 1., 1., 1.]])"
            ]
          },
          "metadata": {
            "tags": []
          },
          "execution_count": 140
        }
      ]
    },
    {
      "cell_type": "code",
      "metadata": {
        "ExecuteTime": {
          "end_time": "2018-10-25T17:20:32.928709Z",
          "start_time": "2018-10-25T17:20:32.919025Z"
        },
        "id": "lofJ4NM9hNbm",
        "colab_type": "code",
        "colab": {
          "base_uri": "https://localhost:8080/",
          "height": 104
        },
        "outputId": "cada74e4-14aa-48e0-b7da-ae42b303e651"
      },
      "source": [
        "np.eye(3)"
      ],
      "execution_count": 141,
      "outputs": [
        {
          "output_type": "execute_result",
          "data": {
            "text/plain": [
              "array([[1., 0., 0.],\n",
              "       [0., 1., 0.],\n",
              "       [0., 0., 1.]])"
            ]
          },
          "metadata": {
            "tags": []
          },
          "execution_count": 54
        },
        {
          "output_type": "execute_result",
          "data": {
            "text/plain": [
              "array([[1., 0., 0.],\n",
              "       [0., 1., 0.],\n",
              "       [0., 0., 1.]])"
            ]
          },
          "metadata": {
            "tags": []
          },
          "execution_count": 141
        }
      ]
    },
    {
      "cell_type": "markdown",
      "metadata": {
        "id": "EConfp1DhNbp",
        "colab_type": "text"
      },
      "source": [
        "#### Arithmatic operations"
      ]
    },
    {
      "cell_type": "markdown",
      "metadata": {
        "id": "N9kguCTKhNbs",
        "colab_type": "text"
      },
      "source": [
        "The rules are very similar to R: they are generally element wise"
      ]
    },
    {
      "cell_type": "code",
      "metadata": {
        "ExecuteTime": {
          "end_time": "2018-10-25T18:24:37.986303Z",
          "start_time": "2018-10-25T18:24:37.981265Z"
        },
        "id": "Q6M-JPbrhNbs",
        "colab_type": "code",
        "colab": {
          "base_uri": "https://localhost:8080/",
          "height": 104
        },
        "outputId": "51c9cbeb-08ea-46cc-e8b8-6e55f454046c"
      },
      "source": [
        "arr"
      ],
      "execution_count": 142,
      "outputs": [
        {
          "output_type": "execute_result",
          "data": {
            "text/plain": [
              "array([[1, 2, 3, 8],\n",
              "       [3, 2, 3, 2],\n",
              "       [4, 5, 0, 8]])"
            ]
          },
          "metadata": {
            "tags": []
          },
          "execution_count": 55
        },
        {
          "output_type": "execute_result",
          "data": {
            "text/plain": [
              "array([[1, 2, 3, 8],\n",
              "       [3, 2, 3, 2],\n",
              "       [4, 5, 0, 8]])"
            ]
          },
          "metadata": {
            "tags": []
          },
          "execution_count": 142
        }
      ]
    },
    {
      "cell_type": "code",
      "metadata": {
        "ExecuteTime": {
          "end_time": "2018-10-25T18:24:38.430440Z",
          "start_time": "2018-10-25T18:24:38.411917Z"
        },
        "id": "GJVwyeJ5hNbu",
        "colab_type": "code",
        "colab": {
          "base_uri": "https://localhost:8080/",
          "height": 104
        },
        "outputId": "9004717c-96a0-4d16-ab84-7598d9a6dba5"
      },
      "source": [
        "arr * 6"
      ],
      "execution_count": 143,
      "outputs": [
        {
          "output_type": "execute_result",
          "data": {
            "text/plain": [
              "array([[ 6, 12, 18, 48],\n",
              "       [18, 12, 18, 12],\n",
              "       [24, 30,  0, 48]])"
            ]
          },
          "metadata": {
            "tags": []
          },
          "execution_count": 56
        },
        {
          "output_type": "execute_result",
          "data": {
            "text/plain": [
              "array([[ 6, 12, 18, 48],\n",
              "       [18, 12, 18, 12],\n",
              "       [24, 30,  0, 48]])"
            ]
          },
          "metadata": {
            "tags": []
          },
          "execution_count": 143
        }
      ]
    },
    {
      "cell_type": "code",
      "metadata": {
        "ExecuteTime": {
          "end_time": "2018-10-25T17:20:32.958899Z",
          "start_time": "2018-10-25T17:20:32.951229Z"
        },
        "id": "QiMYfcY7hNbw",
        "colab_type": "code",
        "colab": {
          "base_uri": "https://localhost:8080/",
          "height": 104
        },
        "outputId": "cf99efb6-dac4-415d-c1db-97916c7e221c"
      },
      "source": [
        "arr - 5"
      ],
      "execution_count": 144,
      "outputs": [
        {
          "output_type": "execute_result",
          "data": {
            "text/plain": [
              "array([[-4, -3, -2,  3],\n",
              "       [-2, -3, -2, -3],\n",
              "       [-1,  0, -5,  3]])"
            ]
          },
          "metadata": {
            "tags": []
          },
          "execution_count": 57
        },
        {
          "output_type": "execute_result",
          "data": {
            "text/plain": [
              "array([[-4, -3, -2,  3],\n",
              "       [-2, -3, -2, -3],\n",
              "       [-1,  0, -5,  3]])"
            ]
          },
          "metadata": {
            "tags": []
          },
          "execution_count": 144
        }
      ]
    },
    {
      "cell_type": "code",
      "metadata": {
        "ExecuteTime": {
          "end_time": "2018-10-25T17:20:32.970030Z",
          "start_time": "2018-10-25T17:20:32.963074Z"
        },
        "id": "22cMk5OthNb1",
        "colab_type": "code",
        "colab": {
          "base_uri": "https://localhost:8080/",
          "height": 124
        },
        "outputId": "398ebfb9-08a4-41f8-ce65-7a901fd3e67a"
      },
      "source": [
        "np.exp(arr)"
      ],
      "execution_count": 145,
      "outputs": [
        {
          "output_type": "execute_result",
          "data": {
            "text/plain": [
              "array([[2.71828183e+00, 7.38905610e+00, 2.00855369e+01, 2.98095799e+03],\n",
              "       [2.00855369e+01, 7.38905610e+00, 2.00855369e+01, 7.38905610e+00],\n",
              "       [5.45981500e+01, 1.48413159e+02, 1.00000000e+00, 2.98095799e+03]])"
            ]
          },
          "metadata": {
            "tags": []
          },
          "execution_count": 58
        },
        {
          "output_type": "execute_result",
          "data": {
            "text/plain": [
              "array([[2.71828183e+00, 7.38905610e+00, 2.00855369e+01, 2.98095799e+03],\n",
              "       [2.00855369e+01, 7.38905610e+00, 2.00855369e+01, 7.38905610e+00],\n",
              "       [5.45981500e+01, 1.48413159e+02, 1.00000000e+00, 2.98095799e+03]])"
            ]
          },
          "metadata": {
            "tags": []
          },
          "execution_count": 145
        }
      ]
    },
    {
      "cell_type": "markdown",
      "metadata": {
        "id": "2QhDzkq_hNb2",
        "colab_type": "text"
      },
      "source": [
        "Note that if we want conduct matrix multiplication, we need to use `@` or `.dot` function, since `*` still means element wise computation"
      ]
    },
    {
      "cell_type": "code",
      "metadata": {
        "ExecuteTime": {
          "end_time": "2018-10-25T17:20:32.981988Z",
          "start_time": "2018-10-25T17:20:32.973813Z"
        },
        "id": "TyiiwUIbhNb3",
        "colab_type": "code",
        "colab": {
          "base_uri": "https://localhost:8080/",
          "height": 139
        },
        "outputId": "991fcbef-0fae-4d66-cb3c-b45dce04eaa1"
      },
      "source": [
        "arr_2 = np.array([[1], [3], [2], [0]])\n",
        "arr_2"
      ],
      "execution_count": 146,
      "outputs": [
        {
          "output_type": "execute_result",
          "data": {
            "text/plain": [
              "array([[1],\n",
              "       [3],\n",
              "       [2],\n",
              "       [0]])"
            ]
          },
          "metadata": {
            "tags": []
          },
          "execution_count": 59
        },
        {
          "output_type": "execute_result",
          "data": {
            "text/plain": [
              "array([[1],\n",
              "       [3],\n",
              "       [2],\n",
              "       [0]])"
            ]
          },
          "metadata": {
            "tags": []
          },
          "execution_count": 146
        }
      ]
    },
    {
      "cell_type": "code",
      "metadata": {
        "ExecuteTime": {
          "end_time": "2018-10-25T17:20:33.001842Z",
          "start_time": "2018-10-25T17:20:32.985348Z"
        },
        "id": "U21kL24IhNb5",
        "colab_type": "code",
        "colab": {
          "base_uri": "https://localhost:8080/",
          "height": 104
        },
        "outputId": "dd7e345d-fc8d-4f01-d155-d77dfeb3a437"
      },
      "source": [
        "arr @ arr_2"
      ],
      "execution_count": 147,
      "outputs": [
        {
          "output_type": "execute_result",
          "data": {
            "text/plain": [
              "array([[13],\n",
              "       [15],\n",
              "       [19]])"
            ]
          },
          "metadata": {
            "tags": []
          },
          "execution_count": 60
        },
        {
          "output_type": "execute_result",
          "data": {
            "text/plain": [
              "array([[13],\n",
              "       [15],\n",
              "       [19]])"
            ]
          },
          "metadata": {
            "tags": []
          },
          "execution_count": 147
        }
      ]
    },
    {
      "cell_type": "code",
      "metadata": {
        "ExecuteTime": {
          "end_time": "2018-10-25T17:20:33.017275Z",
          "start_time": "2018-10-25T17:20:33.008780Z"
        },
        "id": "652GGlpmhNb6",
        "colab_type": "code",
        "colab": {
          "base_uri": "https://localhost:8080/",
          "height": 104
        },
        "outputId": "f3eda3b4-284e-4ef6-d8bf-a54f33dfcab9"
      },
      "source": [
        "arr.dot(arr_2)"
      ],
      "execution_count": 148,
      "outputs": [
        {
          "output_type": "execute_result",
          "data": {
            "text/plain": [
              "array([[13],\n",
              "       [15],\n",
              "       [19]])"
            ]
          },
          "metadata": {
            "tags": []
          },
          "execution_count": 61
        },
        {
          "output_type": "execute_result",
          "data": {
            "text/plain": [
              "array([[13],\n",
              "       [15],\n",
              "       [19]])"
            ]
          },
          "metadata": {
            "tags": []
          },
          "execution_count": 148
        }
      ]
    },
    {
      "cell_type": "markdown",
      "metadata": {
        "id": "UkAESeY5hNb9",
        "colab_type": "text"
      },
      "source": [
        "##### Operation based on itself"
      ]
    },
    {
      "cell_type": "markdown",
      "metadata": {
        "id": "TDVk5VeZhNb9",
        "colab_type": "text"
      },
      "source": [
        "There are many class methods to calculate some statistics of the array itself along some axis:\n",
        "- `axis=1` means row-wise\n",
        "- `axis=0` means column-wise"
      ]
    },
    {
      "cell_type": "code",
      "metadata": {
        "ExecuteTime": {
          "end_time": "2018-10-25T17:20:33.031146Z",
          "start_time": "2018-10-25T17:20:33.020661Z"
        },
        "id": "B3uIC1LahNb-",
        "colab_type": "code",
        "colab": {
          "base_uri": "https://localhost:8080/",
          "height": 104
        },
        "outputId": "a926d90e-bfbb-4975-de56-203a4ca356c0"
      },
      "source": [
        "arr"
      ],
      "execution_count": 149,
      "outputs": [
        {
          "output_type": "execute_result",
          "data": {
            "text/plain": [
              "array([[1, 2, 3, 8],\n",
              "       [3, 2, 3, 2],\n",
              "       [4, 5, 0, 8]])"
            ]
          },
          "metadata": {
            "tags": []
          },
          "execution_count": 62
        },
        {
          "output_type": "execute_result",
          "data": {
            "text/plain": [
              "array([[1, 2, 3, 8],\n",
              "       [3, 2, 3, 2],\n",
              "       [4, 5, 0, 8]])"
            ]
          },
          "metadata": {
            "tags": []
          },
          "execution_count": 149
        }
      ]
    },
    {
      "cell_type": "code",
      "metadata": {
        "ExecuteTime": {
          "end_time": "2018-10-25T17:20:33.048518Z",
          "start_time": "2018-10-25T17:20:33.033767Z"
        },
        "id": "8TW_zH_shNb_",
        "colab_type": "code",
        "colab": {
          "base_uri": "https://localhost:8080/",
          "height": 35
        },
        "outputId": "39d611db-831e-4e4a-f5a6-52bf2ccf54e1"
      },
      "source": [
        "arr.max()"
      ],
      "execution_count": 150,
      "outputs": [
        {
          "output_type": "execute_result",
          "data": {
            "text/plain": [
              "8"
            ]
          },
          "metadata": {
            "tags": []
          },
          "execution_count": 63
        },
        {
          "output_type": "execute_result",
          "data": {
            "text/plain": [
              "8"
            ]
          },
          "metadata": {
            "tags": []
          },
          "execution_count": 150
        }
      ]
    },
    {
      "cell_type": "code",
      "metadata": {
        "ExecuteTime": {
          "end_time": "2018-10-25T17:20:33.060765Z",
          "start_time": "2018-10-25T17:20:33.051750Z"
        },
        "id": "EUm4p6LIhNcB",
        "colab_type": "code",
        "colab": {
          "base_uri": "https://localhost:8080/",
          "height": 35
        },
        "outputId": "f5d58e0a-1265-4305-c2ef-aeaa5798e2c3"
      },
      "source": [
        "arr.max(axis=1)"
      ],
      "execution_count": 151,
      "outputs": [
        {
          "output_type": "execute_result",
          "data": {
            "text/plain": [
              "array([8, 3, 8])"
            ]
          },
          "metadata": {
            "tags": []
          },
          "execution_count": 64
        },
        {
          "output_type": "execute_result",
          "data": {
            "text/plain": [
              "array([8, 3, 8])"
            ]
          },
          "metadata": {
            "tags": []
          },
          "execution_count": 151
        }
      ]
    },
    {
      "cell_type": "code",
      "metadata": {
        "ExecuteTime": {
          "end_time": "2018-10-25T17:20:33.072580Z",
          "start_time": "2018-10-25T17:20:33.064562Z"
        },
        "id": "7wc42wyfhNcD",
        "colab_type": "code",
        "colab": {
          "base_uri": "https://localhost:8080/",
          "height": 35
        },
        "outputId": "811415ff-e86f-42b9-b97e-dc4a5eee0098"
      },
      "source": [
        "arr.max(axis=0)"
      ],
      "execution_count": 152,
      "outputs": [
        {
          "output_type": "execute_result",
          "data": {
            "text/plain": [
              "array([4, 5, 3, 8])"
            ]
          },
          "metadata": {
            "tags": []
          },
          "execution_count": 65
        },
        {
          "output_type": "execute_result",
          "data": {
            "text/plain": [
              "array([4, 5, 3, 8])"
            ]
          },
          "metadata": {
            "tags": []
          },
          "execution_count": 152
        }
      ]
    },
    {
      "cell_type": "code",
      "metadata": {
        "ExecuteTime": {
          "end_time": "2018-10-25T18:28:06.467191Z",
          "start_time": "2018-10-25T18:28:06.458802Z"
        },
        "id": "yue1AqaOhNcH",
        "colab_type": "code",
        "colab": {
          "base_uri": "https://localhost:8080/",
          "height": 35
        },
        "outputId": "acd9862b-ac4f-49df-9564-991cb7aeaae6"
      },
      "source": [
        "arr.cumsum()"
      ],
      "execution_count": 153,
      "outputs": [
        {
          "output_type": "execute_result",
          "data": {
            "text/plain": [
              "array([ 1,  3,  6, 14, 17, 19, 22, 24, 28, 33, 33, 41])"
            ]
          },
          "metadata": {
            "tags": []
          },
          "execution_count": 66
        },
        {
          "output_type": "execute_result",
          "data": {
            "text/plain": [
              "array([ 1,  3,  6, 14, 17, 19, 22, 24, 28, 33, 33, 41])"
            ]
          },
          "metadata": {
            "tags": []
          },
          "execution_count": 153
        }
      ]
    },
    {
      "cell_type": "code",
      "metadata": {
        "ExecuteTime": {
          "end_time": "2018-10-25T18:28:09.052626Z",
          "start_time": "2018-10-25T18:28:09.047583Z"
        },
        "id": "PoEJqoRlhNcI",
        "colab_type": "code",
        "colab": {
          "base_uri": "https://localhost:8080/",
          "height": 104
        },
        "outputId": "e9e33950-c1e6-4d81-b55b-33245ce7eb76"
      },
      "source": [
        "arr.cumsum(axis=1)"
      ],
      "execution_count": 154,
      "outputs": [
        {
          "output_type": "execute_result",
          "data": {
            "text/plain": [
              "array([[ 1,  3,  6, 14],\n",
              "       [ 3,  5,  8, 10],\n",
              "       [ 4,  9,  9, 17]])"
            ]
          },
          "metadata": {
            "tags": []
          },
          "execution_count": 67
        },
        {
          "output_type": "execute_result",
          "data": {
            "text/plain": [
              "array([[ 1,  3,  6, 14],\n",
              "       [ 3,  5,  8, 10],\n",
              "       [ 4,  9,  9, 17]])"
            ]
          },
          "metadata": {
            "tags": []
          },
          "execution_count": 154
        }
      ]
    },
    {
      "cell_type": "markdown",
      "metadata": {
        "id": "CNr-cmYAhNcM",
        "colab_type": "text"
      },
      "source": [
        "#### Indexing and slicing"
      ]
    },
    {
      "cell_type": "markdown",
      "metadata": {
        "id": "19128OYnhNcN",
        "colab_type": "text"
      },
      "source": [
        "The most important part is how to index and slice a `np.array`. It is actually very similar to `list`, except that we now may have more index elements because there are more than one dimension for most of the datasets in real life"
      ]
    },
    {
      "cell_type": "markdown",
      "metadata": {
        "id": "oxV7BocfhNcO",
        "colab_type": "text"
      },
      "source": [
        "##### 1 dimensional case"
      ]
    },
    {
      "cell_type": "code",
      "metadata": {
        "ExecuteTime": {
          "end_time": "2018-10-25T18:28:39.875850Z",
          "start_time": "2018-10-25T18:28:39.862936Z"
        },
        "id": "tgsqDz74hNcO",
        "colab_type": "code",
        "colab": {
          "base_uri": "https://localhost:8080/",
          "height": 35
        },
        "outputId": "223d9277-b77e-47a4-d2f2-47fce2094c91"
      },
      "source": [
        "a1 = np.array([1,2,8,100])\n",
        "a1"
      ],
      "execution_count": 155,
      "outputs": [
        {
          "output_type": "execute_result",
          "data": {
            "text/plain": [
              "array([  1,   2,   8, 100])"
            ]
          },
          "metadata": {
            "tags": []
          },
          "execution_count": 68
        },
        {
          "output_type": "execute_result",
          "data": {
            "text/plain": [
              "array([  1,   2,   8, 100])"
            ]
          },
          "metadata": {
            "tags": []
          },
          "execution_count": 155
        }
      ]
    },
    {
      "cell_type": "code",
      "metadata": {
        "ExecuteTime": {
          "end_time": "2018-10-25T18:28:40.194494Z",
          "start_time": "2018-10-25T18:28:40.187561Z"
        },
        "id": "PjYL1Va2hNcS",
        "colab_type": "code",
        "colab": {
          "base_uri": "https://localhost:8080/",
          "height": 35
        },
        "outputId": "93425f9e-c1a0-44cf-c5d5-dc8163946be7"
      },
      "source": [
        "a1[0]"
      ],
      "execution_count": 156,
      "outputs": [
        {
          "output_type": "execute_result",
          "data": {
            "text/plain": [
              "1"
            ]
          },
          "metadata": {
            "tags": []
          },
          "execution_count": 69
        },
        {
          "output_type": "execute_result",
          "data": {
            "text/plain": [
              "1"
            ]
          },
          "metadata": {
            "tags": []
          },
          "execution_count": 156
        }
      ]
    },
    {
      "cell_type": "code",
      "metadata": {
        "ExecuteTime": {
          "end_time": "2018-10-25T18:28:54.262749Z",
          "start_time": "2018-10-25T18:28:54.255392Z"
        },
        "id": "qMI79Vq2hNcU",
        "colab_type": "code",
        "colab": {
          "base_uri": "https://localhost:8080/",
          "height": 35
        },
        "outputId": "03437fbd-e732-433c-a40e-5e67ddf563a0"
      },
      "source": [
        "a1[-2]"
      ],
      "execution_count": 157,
      "outputs": [
        {
          "output_type": "execute_result",
          "data": {
            "text/plain": [
              "8"
            ]
          },
          "metadata": {
            "tags": []
          },
          "execution_count": 70
        },
        {
          "output_type": "execute_result",
          "data": {
            "text/plain": [
              "8"
            ]
          },
          "metadata": {
            "tags": []
          },
          "execution_count": 157
        }
      ]
    },
    {
      "cell_type": "code",
      "metadata": {
        "ExecuteTime": {
          "end_time": "2018-10-25T18:29:03.024941Z",
          "start_time": "2018-10-25T18:29:03.019955Z"
        },
        "id": "unvT0HB9hNcV",
        "colab_type": "code",
        "colab": {
          "base_uri": "https://localhost:8080/",
          "height": 35
        },
        "outputId": "c81c1354-a4c3-42f9-c788-b3a3a49dc1d0"
      },
      "source": [
        "a1[[0,1,3]]"
      ],
      "execution_count": 158,
      "outputs": [
        {
          "output_type": "execute_result",
          "data": {
            "text/plain": [
              "array([  1,   2, 100])"
            ]
          },
          "metadata": {
            "tags": []
          },
          "execution_count": 71
        },
        {
          "output_type": "execute_result",
          "data": {
            "text/plain": [
              "array([  1,   2, 100])"
            ]
          },
          "metadata": {
            "tags": []
          },
          "execution_count": 158
        }
      ]
    },
    {
      "cell_type": "markdown",
      "metadata": {
        "id": "H5YbFbUbhNca",
        "colab_type": "text"
      },
      "source": [
        "We can also use boolean values to index\n",
        "- `True` means we want this element"
      ]
    },
    {
      "cell_type": "code",
      "metadata": {
        "ExecuteTime": {
          "end_time": "2018-10-25T18:29:28.874057Z",
          "start_time": "2018-10-25T18:29:28.869300Z"
        },
        "id": "KZrQaL5ShNcb",
        "colab_type": "code",
        "colab": {
          "base_uri": "https://localhost:8080/",
          "height": 35
        },
        "outputId": "82dfc2d3-a994-4ace-884f-8bce913af8e5"
      },
      "source": [
        "a1 > 3"
      ],
      "execution_count": 159,
      "outputs": [
        {
          "output_type": "execute_result",
          "data": {
            "text/plain": [
              "array([False, False,  True,  True])"
            ]
          },
          "metadata": {
            "tags": []
          },
          "execution_count": 72
        },
        {
          "output_type": "execute_result",
          "data": {
            "text/plain": [
              "array([False, False,  True,  True])"
            ]
          },
          "metadata": {
            "tags": []
          },
          "execution_count": 159
        }
      ]
    },
    {
      "cell_type": "code",
      "metadata": {
        "ExecuteTime": {
          "end_time": "2018-10-25T18:30:00.091948Z",
          "start_time": "2018-10-25T18:30:00.086799Z"
        },
        "id": "da9wPmkJhNcg",
        "colab_type": "code",
        "colab": {
          "base_uri": "https://localhost:8080/",
          "height": 35
        },
        "outputId": "e268a8bc-84cc-42a1-b011-1fb8f184d338"
      },
      "source": [
        "a1[a1 > 3]"
      ],
      "execution_count": 160,
      "outputs": [
        {
          "output_type": "execute_result",
          "data": {
            "text/plain": [
              "array([  8, 100])"
            ]
          },
          "metadata": {
            "tags": []
          },
          "execution_count": 73
        },
        {
          "output_type": "execute_result",
          "data": {
            "text/plain": [
              "array([  8, 100])"
            ]
          },
          "metadata": {
            "tags": []
          },
          "execution_count": 160
        }
      ]
    },
    {
      "cell_type": "markdown",
      "metadata": {
        "id": "6ncb17PThNci",
        "colab_type": "text"
      },
      "source": [
        "##### 2 dimensional case"
      ]
    },
    {
      "cell_type": "code",
      "metadata": {
        "ExecuteTime": {
          "end_time": "2018-10-25T18:30:01.277543Z",
          "start_time": "2018-10-25T18:30:01.270262Z"
        },
        "id": "ixbRc3C_hNci",
        "colab_type": "code",
        "colab": {
          "base_uri": "https://localhost:8080/",
          "height": 104
        },
        "outputId": "c98df74d-d1ba-40a5-ef23-8dbc211c73fe"
      },
      "source": [
        "arr"
      ],
      "execution_count": 161,
      "outputs": [
        {
          "output_type": "execute_result",
          "data": {
            "text/plain": [
              "array([[1, 2, 3, 8],\n",
              "       [3, 2, 3, 2],\n",
              "       [4, 5, 0, 8]])"
            ]
          },
          "metadata": {
            "tags": []
          },
          "execution_count": 74
        },
        {
          "output_type": "execute_result",
          "data": {
            "text/plain": [
              "array([[1, 2, 3, 8],\n",
              "       [3, 2, 3, 2],\n",
              "       [4, 5, 0, 8]])"
            ]
          },
          "metadata": {
            "tags": []
          },
          "execution_count": 161
        }
      ]
    },
    {
      "cell_type": "markdown",
      "metadata": {
        "id": "Ggzmm5MQhNcj",
        "colab_type": "text"
      },
      "source": [
        "Using only one number to index will lead to a subset of the original multidimenional array: also an array"
      ]
    },
    {
      "cell_type": "code",
      "metadata": {
        "ExecuteTime": {
          "end_time": "2018-10-25T18:30:15.881928Z",
          "start_time": "2018-10-25T18:30:15.877093Z"
        },
        "id": "xwDbXhRBhNck",
        "colab_type": "code",
        "colab": {
          "base_uri": "https://localhost:8080/",
          "height": 35
        },
        "outputId": "653e2fd7-6450-4e7c-cee2-395d4647794c"
      },
      "source": [
        "arr[0]"
      ],
      "execution_count": 162,
      "outputs": [
        {
          "output_type": "execute_result",
          "data": {
            "text/plain": [
              "array([1, 2, 3, 8])"
            ]
          },
          "metadata": {
            "tags": []
          },
          "execution_count": 75
        },
        {
          "output_type": "execute_result",
          "data": {
            "text/plain": [
              "array([1, 2, 3, 8])"
            ]
          },
          "metadata": {
            "tags": []
          },
          "execution_count": 162
        }
      ]
    },
    {
      "cell_type": "code",
      "metadata": {
        "ExecuteTime": {
          "end_time": "2018-10-25T18:30:21.305735Z",
          "start_time": "2018-10-25T18:30:21.299368Z"
        },
        "id": "7JIiWyzuhNcl",
        "colab_type": "code",
        "colab": {
          "base_uri": "https://localhost:8080/",
          "height": 35
        },
        "outputId": "a8f437b3-3e76-4e9a-9676-0883c7cd0d9c"
      },
      "source": [
        "type(arr[0])"
      ],
      "execution_count": 163,
      "outputs": [
        {
          "output_type": "execute_result",
          "data": {
            "text/plain": [
              "numpy.ndarray"
            ]
          },
          "metadata": {
            "tags": []
          },
          "execution_count": 76
        },
        {
          "output_type": "execute_result",
          "data": {
            "text/plain": [
              "numpy.ndarray"
            ]
          },
          "metadata": {
            "tags": []
          },
          "execution_count": 163
        }
      ]
    },
    {
      "cell_type": "markdown",
      "metadata": {
        "id": "HU9uML7shNcm",
        "colab_type": "text"
      },
      "source": [
        "Since we have 2 dimensions now, there are 2 indices we can use for indexing the 2 dimensions respectively"
      ]
    },
    {
      "cell_type": "code",
      "metadata": {
        "ExecuteTime": {
          "end_time": "2018-10-25T18:35:00.665066Z",
          "start_time": "2018-10-25T18:35:00.661163Z"
        },
        "id": "-nFe8o1JhNcn",
        "colab_type": "code",
        "colab": {
          "base_uri": "https://localhost:8080/",
          "height": 35
        },
        "outputId": "3c87cb7b-2e00-4599-b4db-d428bbf8af8c"
      },
      "source": [
        "arr[0,0]"
      ],
      "execution_count": 164,
      "outputs": [
        {
          "output_type": "execute_result",
          "data": {
            "text/plain": [
              "1"
            ]
          },
          "metadata": {
            "tags": []
          },
          "execution_count": 77
        },
        {
          "output_type": "execute_result",
          "data": {
            "text/plain": [
              "1"
            ]
          },
          "metadata": {
            "tags": []
          },
          "execution_count": 164
        }
      ]
    },
    {
      "cell_type": "markdown",
      "metadata": {
        "id": "-aA5tuf0hNco",
        "colab_type": "text"
      },
      "source": [
        "We can use `:` to indicate everything along that axis"
      ]
    },
    {
      "cell_type": "code",
      "metadata": {
        "ExecuteTime": {
          "end_time": "2018-10-25T18:35:01.023310Z",
          "start_time": "2018-10-25T18:35:01.012994Z"
        },
        "id": "0pyfgZxlhNco",
        "colab_type": "code",
        "colab": {
          "base_uri": "https://localhost:8080/",
          "height": 35
        },
        "outputId": "f162652e-6f9b-470b-bd4e-85bea11c4e66"
      },
      "source": [
        "arr[1]"
      ],
      "execution_count": 165,
      "outputs": [
        {
          "output_type": "execute_result",
          "data": {
            "text/plain": [
              "array([3, 2, 3, 2])"
            ]
          },
          "metadata": {
            "tags": []
          },
          "execution_count": 78
        },
        {
          "output_type": "execute_result",
          "data": {
            "text/plain": [
              "array([3, 2, 3, 2])"
            ]
          },
          "metadata": {
            "tags": []
          },
          "execution_count": 165
        }
      ]
    },
    {
      "cell_type": "code",
      "metadata": {
        "ExecuteTime": {
          "end_time": "2018-10-25T18:35:01.286832Z",
          "start_time": "2018-10-25T18:35:01.277934Z"
        },
        "id": "4pyO_gaxhNcp",
        "colab_type": "code",
        "colab": {
          "base_uri": "https://localhost:8080/",
          "height": 35
        },
        "outputId": "58bf78cb-0881-4c8c-dc37-ab5b36900759"
      },
      "source": [
        "arr[1, :]"
      ],
      "execution_count": 166,
      "outputs": [
        {
          "output_type": "execute_result",
          "data": {
            "text/plain": [
              "array([3, 2, 3, 2])"
            ]
          },
          "metadata": {
            "tags": []
          },
          "execution_count": 79
        },
        {
          "output_type": "execute_result",
          "data": {
            "text/plain": [
              "array([3, 2, 3, 2])"
            ]
          },
          "metadata": {
            "tags": []
          },
          "execution_count": 166
        }
      ]
    },
    {
      "cell_type": "code",
      "metadata": {
        "ExecuteTime": {
          "end_time": "2018-10-25T18:35:01.415490Z",
          "start_time": "2018-10-25T18:35:01.405283Z"
        },
        "id": "tZuwAk_shNcr",
        "colab_type": "code",
        "colab": {
          "base_uri": "https://localhost:8080/",
          "height": 35
        },
        "outputId": "2529d162-aa97-4e86-fba5-5fb74ebd6ab7"
      },
      "source": [
        "arr[1,:] == arr[1]"
      ],
      "execution_count": 167,
      "outputs": [
        {
          "output_type": "execute_result",
          "data": {
            "text/plain": [
              "array([ True,  True,  True,  True])"
            ]
          },
          "metadata": {
            "tags": []
          },
          "execution_count": 80
        },
        {
          "output_type": "execute_result",
          "data": {
            "text/plain": [
              "array([ True,  True,  True,  True])"
            ]
          },
          "metadata": {
            "tags": []
          },
          "execution_count": 167
        }
      ]
    },
    {
      "cell_type": "code",
      "metadata": {
        "ExecuteTime": {
          "end_time": "2018-10-25T18:35:01.582330Z",
          "start_time": "2018-10-25T18:35:01.573495Z"
        },
        "id": "At5nhrcXhNcu",
        "colab_type": "code",
        "colab": {
          "base_uri": "https://localhost:8080/",
          "height": 35
        },
        "outputId": "bcb42fc5-7f32-417b-9a37-e4f823449e27"
      },
      "source": [
        "arr[:, 1]"
      ],
      "execution_count": 168,
      "outputs": [
        {
          "output_type": "execute_result",
          "data": {
            "text/plain": [
              "array([2, 2, 5])"
            ]
          },
          "metadata": {
            "tags": []
          },
          "execution_count": 81
        },
        {
          "output_type": "execute_result",
          "data": {
            "text/plain": [
              "array([2, 2, 5])"
            ]
          },
          "metadata": {
            "tags": []
          },
          "execution_count": 168
        }
      ]
    },
    {
      "cell_type": "markdown",
      "metadata": {
        "id": "rEMWRdsMhNcw",
        "colab_type": "text"
      },
      "source": [
        "##### 3 dimensional case"
      ]
    },
    {
      "cell_type": "markdown",
      "metadata": {
        "id": "hmr3KePmhNcy",
        "colab_type": "text"
      },
      "source": [
        "As a final example, we look at a 3d array:"
      ]
    },
    {
      "cell_type": "code",
      "metadata": {
        "ExecuteTime": {
          "end_time": "2018-10-25T18:35:02.101149Z",
          "start_time": "2018-10-25T18:35:02.092391Z"
        },
        "id": "Lm8cI347hNcz",
        "colab_type": "code",
        "colab": {
          "base_uri": "https://localhost:8080/",
          "height": 69
        },
        "outputId": "99fd1b19-403c-46f1-a2f5-f10cbfe5d932"
      },
      "source": [
        "arr_3 = np.random.randint(low=0, high=100, size=24)\n",
        "arr_3"
      ],
      "execution_count": 169,
      "outputs": [
        {
          "output_type": "execute_result",
          "data": {
            "text/plain": [
              "array([26, 99, 41, 43, 20,  8, 40, 35, 43, 17, 64, 26, 89, 10, 44, 58, 18,\n",
              "        5, 53, 92, 17, 64, 55, 67])"
            ]
          },
          "metadata": {
            "tags": []
          },
          "execution_count": 82
        },
        {
          "output_type": "execute_result",
          "data": {
            "text/plain": [
              "array([46, 36, 65, 18, 66, 74, 71, 79, 55, 77,  3, 81, 63, 26, 58, 17, 89,\n",
              "       23,  1, 36, 64, 19, 27, 74])"
            ]
          },
          "metadata": {
            "tags": []
          },
          "execution_count": 169
        }
      ]
    },
    {
      "cell_type": "markdown",
      "metadata": {
        "id": "PACPnOZkhNc1",
        "colab_type": "text"
      },
      "source": [
        "We can use [`reshape`](https://docs.scipy.org/doc/numpy-1.15.1/reference/generated/numpy.reshape.html) to manipulate the shape of an array"
      ]
    },
    {
      "cell_type": "code",
      "metadata": {
        "ExecuteTime": {
          "end_time": "2018-10-25T18:35:02.489922Z",
          "start_time": "2018-10-25T18:35:02.478082Z"
        },
        "id": "fdbyR6F0hNc2",
        "colab_type": "code",
        "colab": {
          "base_uri": "https://localhost:8080/",
          "height": 485
        },
        "outputId": "33716142-7c90-43b3-f874-89aac88f6571"
      },
      "source": [
        "arr_3 = arr_3.reshape(3,4,2)\n",
        "arr_3"
      ],
      "execution_count": 170,
      "outputs": [
        {
          "output_type": "execute_result",
          "data": {
            "text/plain": [
              "array([[[26, 99],\n",
              "        [41, 43],\n",
              "        [20,  8],\n",
              "        [40, 35]],\n",
              "\n",
              "       [[43, 17],\n",
              "        [64, 26],\n",
              "        [89, 10],\n",
              "        [44, 58]],\n",
              "\n",
              "       [[18,  5],\n",
              "        [53, 92],\n",
              "        [17, 64],\n",
              "        [55, 67]]])"
            ]
          },
          "metadata": {
            "tags": []
          },
          "execution_count": 83
        },
        {
          "output_type": "execute_result",
          "data": {
            "text/plain": [
              "array([[[46, 36],\n",
              "        [65, 18],\n",
              "        [66, 74],\n",
              "        [71, 79]],\n",
              "\n",
              "       [[55, 77],\n",
              "        [ 3, 81],\n",
              "        [63, 26],\n",
              "        [58, 17]],\n",
              "\n",
              "       [[89, 23],\n",
              "        [ 1, 36],\n",
              "        [64, 19],\n",
              "        [27, 74]]])"
            ]
          },
          "metadata": {
            "tags": []
          },
          "execution_count": 170
        }
      ]
    },
    {
      "cell_type": "code",
      "metadata": {
        "ExecuteTime": {
          "end_time": "2018-10-25T18:35:02.729883Z",
          "start_time": "2018-10-25T18:35:02.725296Z"
        },
        "id": "SPnBnTcPhNc3",
        "colab_type": "code",
        "colab": {
          "base_uri": "https://localhost:8080/",
          "height": 139
        },
        "outputId": "b3f8086b-3721-4fed-9f03-837d7a94b549"
      },
      "source": [
        "arr_3[0]"
      ],
      "execution_count": 171,
      "outputs": [
        {
          "output_type": "execute_result",
          "data": {
            "text/plain": [
              "array([[26, 99],\n",
              "       [41, 43],\n",
              "       [20,  8],\n",
              "       [40, 35]])"
            ]
          },
          "metadata": {
            "tags": []
          },
          "execution_count": 84
        },
        {
          "output_type": "execute_result",
          "data": {
            "text/plain": [
              "array([[46, 36],\n",
              "       [65, 18],\n",
              "       [66, 74],\n",
              "       [71, 79]])"
            ]
          },
          "metadata": {
            "tags": []
          },
          "execution_count": 171
        }
      ]
    },
    {
      "cell_type": "code",
      "metadata": {
        "ExecuteTime": {
          "end_time": "2018-10-25T18:35:02.850093Z",
          "start_time": "2018-10-25T18:35:02.843697Z"
        },
        "id": "DwZHRhnqhNc5",
        "colab_type": "code",
        "colab": {
          "base_uri": "https://localhost:8080/",
          "height": 35
        },
        "outputId": "9ebb4cb9-7197-48c6-f79c-47fe04715d94"
      },
      "source": [
        "arr_3[:, 3, 1]"
      ],
      "execution_count": 172,
      "outputs": [
        {
          "output_type": "execute_result",
          "data": {
            "text/plain": [
              "array([35, 58, 67])"
            ]
          },
          "metadata": {
            "tags": []
          },
          "execution_count": 85
        },
        {
          "output_type": "execute_result",
          "data": {
            "text/plain": [
              "array([79, 17, 74])"
            ]
          },
          "metadata": {
            "tags": []
          },
          "execution_count": 172
        }
      ]
    },
    {
      "cell_type": "code",
      "metadata": {
        "ExecuteTime": {
          "end_time": "2018-10-25T18:35:03.048599Z",
          "start_time": "2018-10-25T18:35:03.040467Z"
        },
        "id": "e-ZVqHUwhNc6",
        "colab_type": "code",
        "colab": {
          "base_uri": "https://localhost:8080/",
          "height": 35
        },
        "outputId": "92397c73-aff0-4dfd-a790-304d00e678a6"
      },
      "source": [
        "arr_3[2, 3, 1]"
      ],
      "execution_count": 173,
      "outputs": [
        {
          "output_type": "execute_result",
          "data": {
            "text/plain": [
              "67"
            ]
          },
          "metadata": {
            "tags": []
          },
          "execution_count": 86
        },
        {
          "output_type": "execute_result",
          "data": {
            "text/plain": [
              "74"
            ]
          },
          "metadata": {
            "tags": []
          },
          "execution_count": 173
        }
      ]
    }
  ]
}