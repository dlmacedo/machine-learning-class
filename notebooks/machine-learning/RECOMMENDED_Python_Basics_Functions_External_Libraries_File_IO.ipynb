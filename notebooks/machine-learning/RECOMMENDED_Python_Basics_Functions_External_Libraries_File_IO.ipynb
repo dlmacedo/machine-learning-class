{
  "nbformat": 4,
  "nbformat_minor": 0,
  "metadata": {
    "hide_input": false,
    "kernelspec": {
      "display_name": "Python 3",
      "language": "python",
      "name": "python3"
    },
    "language_info": {
      "codemirror_mode": {
        "name": "ipython",
        "version": 3
      },
      "file_extension": ".py",
      "mimetype": "text/x-python",
      "name": "python",
      "nbconvert_exporter": "python",
      "pygments_lexer": "ipython3",
      "version": "3.7.0"
    },
    "toc": {
      "base_numbering": 1,
      "nav_menu": {},
      "number_sections": true,
      "sideBar": true,
      "skip_h1_title": false,
      "title_cell": "Table of Contents",
      "title_sidebar": "Contents",
      "toc_cell": false,
      "toc_position": {
        "height": "840px",
        "left": "0px",
        "right": "1111px",
        "top": "113px",
        "width": "253px"
      },
      "toc_section_display": "block",
      "toc_window_display": true
    },
    "varInspector": {
      "cols": {
        "lenName": 16,
        "lenType": 16,
        "lenVar": 40
      },
      "kernels_config": {
        "python": {
          "delete_cmd_postfix": "",
          "delete_cmd_prefix": "del ",
          "library": "var_list.py",
          "varRefreshCmd": "print(var_dic_list())"
        },
        "r": {
          "delete_cmd_postfix": ") ",
          "delete_cmd_prefix": "rm(",
          "library": "var_list.r",
          "varRefreshCmd": "cat(var_dic_list()) "
        }
      },
      "types_to_exclude": [
        "module",
        "function",
        "builtin_function_or_method",
        "instance",
        "_Feature"
      ],
      "window_display": false
    },
    "colab": {
      "name": "RECOMMENDED_Python_Basics_Functions-External_Libraries-File_IO.ipynb",
      "provenance": [],
      "include_colab_link": true
    }
  },
  "cells": [
    {
      "cell_type": "markdown",
      "metadata": {
        "id": "view-in-github",
        "colab_type": "text"
      },
      "source": [
        "<a href=\"https://colab.research.google.com/github/dlmacedo/maxtrack/blob/master/notebooks/machine-learning/RECOMMENDED_Python_Basics_Functions_External_Libraries_File_IO.ipynb\" target=\"_parent\"><img src=\"https://colab.research.google.com/assets/colab-badge.svg\" alt=\"Open In Colab\"/></a>"
      ]
    },
    {
      "cell_type": "markdown",
      "metadata": {
        "id": "dMVuuq3phNX5",
        "colab_type": "text"
      },
      "source": [
        "ISRC Python Workshop: Baiscs II\n",
        "\n",
        "__Functions, File I/O and External Libraries__"
      ]
    },
    {
      "cell_type": "markdown",
      "metadata": {
        "id": "MiuSrNN3hNX9",
        "colab_type": "text"
      },
      "source": [
        "<hr>"
      ]
    },
    {
      "cell_type": "markdown",
      "metadata": {
        "id": "TBVUQte6hNX-",
        "colab_type": "text"
      },
      "source": [
        "@author: Zhiya Zuo\n",
        "\n",
        "@email: zhiya-zuo@uiowa.edu"
      ]
    },
    {
      "cell_type": "markdown",
      "metadata": {
        "id": "IbQs9fu0hNYA",
        "colab_type": "text"
      },
      "source": [
        "---"
      ]
    },
    {
      "cell_type": "markdown",
      "metadata": {
        "id": "wb2WwA30hNYB",
        "colab_type": "text"
      },
      "source": [
        "### Functions"
      ]
    },
    {
      "cell_type": "markdown",
      "metadata": {
        "id": "e0rHvnp5hNYC",
        "colab_type": "text"
      },
      "source": [
        "#### Calling functions"
      ]
    },
    {
      "cell_type": "markdown",
      "metadata": {
        "id": "tgB9NE2bhNYE",
        "colab_type": "text"
      },
      "source": [
        "Previously, we have already made use of many built-in functions to facilitate programming. Function is a block of codes with input arguments (and, optionally, return values) for specific purposes. In Python ( and many other languages), a function call is as the following:\n",
        "\n",
        "```python\n",
        ">> output = function(input_argument)\n",
        "```"
      ]
    },
    {
      "cell_type": "markdown",
      "metadata": {
        "id": "J62w-HaEhNYF",
        "colab_type": "text"
      },
      "source": [
        "For example:"
      ]
    },
    {
      "cell_type": "code",
      "metadata": {
        "ExecuteTime": {
          "end_time": "2018-10-25T17:47:37.407545Z",
          "start_time": "2018-10-25T17:47:37.389644Z"
        },
        "id": "_R1SHYYthNYH",
        "colab_type": "code",
        "colab": {}
      },
      "source": [
        "range(5)"
      ],
      "execution_count": 0,
      "outputs": []
    },
    {
      "cell_type": "markdown",
      "metadata": {
        "id": "FN8KxGQbhNYN",
        "colab_type": "text"
      },
      "source": [
        "Now that Python 3 use [`iterator`](https://stackoverflow.com/questions/25653996/what-is-the-difference-between-list-and-iterator-in-python) for 'range' function, we can manually convert the output into `list` so that we can see the output explicitly"
      ]
    },
    {
      "cell_type": "code",
      "metadata": {
        "ExecuteTime": {
          "end_time": "2018-10-25T17:48:25.160955Z",
          "start_time": "2018-10-25T17:48:25.155505Z"
        },
        "id": "IqjXUmWlhNYO",
        "colab_type": "code",
        "colab": {}
      },
      "source": [
        "list(range(5))"
      ],
      "execution_count": 0,
      "outputs": []
    },
    {
      "cell_type": "markdown",
      "metadata": {
        "id": "cKTPC7h1hNYS",
        "colab_type": "text"
      },
      "source": [
        "As another example:"
      ]
    },
    {
      "cell_type": "code",
      "metadata": {
        "ExecuteTime": {
          "end_time": "2018-10-25T17:48:45.482719Z",
          "start_time": "2018-10-25T17:48:45.476899Z"
        },
        "id": "ape1pyrohNYT",
        "colab_type": "code",
        "colab": {}
      },
      "source": [
        "abs(-3.5)"
      ],
      "execution_count": 0,
      "outputs": []
    },
    {
      "cell_type": "markdown",
      "metadata": {
        "id": "RNKx9zcDhNYW",
        "colab_type": "text"
      },
      "source": [
        "In many cases we need more sophisticated usage of functions, where we need to use more than one input arguments. For example:"
      ]
    },
    {
      "cell_type": "code",
      "metadata": {
        "ExecuteTime": {
          "end_time": "2018-10-25T17:20:29.734990Z",
          "start_time": "2018-10-25T17:20:29.729907Z"
        },
        "id": "FdXG5LkPhNYX",
        "colab_type": "code",
        "colab": {}
      },
      "source": [
        "list(range(5, 0, -1))"
      ],
      "execution_count": 0,
      "outputs": []
    },
    {
      "cell_type": "markdown",
      "metadata": {
        "id": "2pkj8PCWhNYb",
        "colab_type": "text"
      },
      "source": [
        "A second example, sort a dictionary by values:"
      ]
    },
    {
      "cell_type": "code",
      "metadata": {
        "ExecuteTime": {
          "end_time": "2018-10-25T17:50:16.189583Z",
          "start_time": "2018-10-25T17:50:16.183753Z"
        },
        "id": "EkajABKVhNYc",
        "colab_type": "code",
        "colab": {}
      },
      "source": [
        "d = {'a': 100, 'c': 50, 'b': 70}\n",
        "sorted(d)"
      ],
      "execution_count": 0,
      "outputs": []
    },
    {
      "cell_type": "code",
      "metadata": {
        "ExecuteTime": {
          "end_time": "2018-10-25T17:53:27.808548Z",
          "start_time": "2018-10-25T17:53:27.798150Z"
        },
        "id": "pTiVoh0thNYf",
        "colab_type": "code",
        "colab": {}
      },
      "source": [
        "d"
      ],
      "execution_count": 0,
      "outputs": []
    },
    {
      "cell_type": "code",
      "metadata": {
        "ExecuteTime": {
          "end_time": "2018-10-25T17:53:33.866813Z",
          "start_time": "2018-10-25T17:53:33.861638Z"
        },
        "id": "pitx9Q-vhNYi",
        "colab_type": "code",
        "colab": {}
      },
      "source": [
        "d['a']"
      ],
      "execution_count": 0,
      "outputs": []
    },
    {
      "cell_type": "code",
      "metadata": {
        "ExecuteTime": {
          "end_time": "2018-10-25T17:51:39.294194Z",
          "start_time": "2018-10-25T17:51:39.286761Z"
        },
        "id": "IEOQr20uhNYm",
        "colab_type": "code",
        "colab": {}
      },
      "source": [
        "sorted(d, key=lambda k: d[k])"
      ],
      "execution_count": 0,
      "outputs": []
    },
    {
      "cell_type": "markdown",
      "metadata": {
        "id": "Ctd1kKBlhNYp",
        "colab_type": "text"
      },
      "source": [
        "#### Lambda functions"
      ]
    },
    {
      "cell_type": "markdown",
      "metadata": {
        "id": "wRHKvotahNYq",
        "colab_type": "text"
      },
      "source": [
        "Aha, we just saw something different: `lambda`!"
      ]
    },
    {
      "cell_type": "markdown",
      "metadata": {
        "id": "0VVVPYoOhNYq",
        "colab_type": "text"
      },
      "source": [
        "Lambda functions are just functions, except that they are anonymous (literally). See [here](https://stackoverflow.com/questions/890128/why-are-python-lambdas-useful) for many good discussions. In short, you can use regular functions to achieve anything with `lambda`. Yet, it is handy because it is lightweight and anonymous."
      ]
    },
    {
      "cell_type": "markdown",
      "metadata": {
        "id": "gCFaH_2ZhNYr",
        "colab_type": "text"
      },
      "source": [
        "The example above is actually a good example of when to use `lambda`:"
      ]
    },
    {
      "cell_type": "code",
      "metadata": {
        "ExecuteTime": {
          "end_time": "2018-10-25T17:20:29.761643Z",
          "start_time": "2018-10-25T17:20:29.757012Z"
        },
        "id": "kjdV9jnmhNYs",
        "colab_type": "code",
        "colab": {}
      },
      "source": [
        "sorted(d, key=lambda k: d[k])"
      ],
      "execution_count": 0,
      "outputs": []
    },
    {
      "cell_type": "markdown",
      "metadata": {
        "id": "llXVSl2vhNYv",
        "colab_type": "text"
      },
      "source": [
        "There is one and only one expression within the `lambda` function. In this case, the input is `k`, a key inside the dictionary `d` and the output is `d[k]`, the value in `d` w.r.t. the key `k`. Therefore we are sorting our dictionary keys by their values instead of the keys themselves."
      ]
    },
    {
      "cell_type": "markdown",
      "metadata": {
        "id": "nyGmXvMVhNYw",
        "colab_type": "text"
      },
      "source": [
        "#### Define our own functions"
      ]
    },
    {
      "cell_type": "markdown",
      "metadata": {
        "id": "Z454zMYMhNYy",
        "colab_type": "text"
      },
      "source": [
        "Note that we are not limited to built-in functions only. Let's now try make our own functions. Before that, we need to be clear on the structure of a function\n",
        "```python\n",
        "def func_name(arg1, arg2, arg3, ...):\n",
        "    #####################\n",
        "    # Do something here #\n",
        "    #####################\n",
        "    return output\n",
        "```\n",
        "\n",
        "\\* *`return output` is NOT required*"
      ]
    },
    {
      "cell_type": "markdown",
      "metadata": {
        "id": "sRYaP66yhNYz",
        "colab_type": "text"
      },
      "source": [
        "In the following example, we make use of `sum`, a built-in function to sum up numeric iterables."
      ]
    },
    {
      "cell_type": "code",
      "metadata": {
        "ExecuteTime": {
          "end_time": "2018-10-25T18:00:12.954116Z",
          "start_time": "2018-10-25T18:00:12.950910Z"
        },
        "id": "7wTMdzCGhNYz",
        "colab_type": "code",
        "colab": {}
      },
      "source": [
        "def mySum(list_to_sum):\n",
        "    return sum(list_to_sum)"
      ],
      "execution_count": 0,
      "outputs": []
    },
    {
      "cell_type": "code",
      "metadata": {
        "ExecuteTime": {
          "end_time": "2018-10-25T18:00:13.219092Z",
          "start_time": "2018-10-25T18:00:13.214135Z"
        },
        "id": "MyzQJsrShNY2",
        "colab_type": "code",
        "colab": {}
      },
      "source": [
        "mySum(range(5))"
      ],
      "execution_count": 0,
      "outputs": []
    },
    {
      "cell_type": "markdown",
      "metadata": {
        "id": "QtSX9TUKhNY5",
        "colab_type": "text"
      },
      "source": [
        "A more complicated one that does not use `sum` function.\n",
        "- Do not remember for loop? Check out [here](https://github.com/zhiyzuo/python-tutorial/blob/master/1-Variables-Data_Structures-Control_Logic.ipynb)"
      ]
    },
    {
      "cell_type": "code",
      "metadata": {
        "ExecuteTime": {
          "end_time": "2018-10-25T18:00:55.632800Z",
          "start_time": "2018-10-25T18:00:55.628985Z"
        },
        "id": "1pynUPc8hNY7",
        "colab_type": "code",
        "colab": {}
      },
      "source": [
        "def mySumUsingLoop(list_to_sum):\n",
        "    sum_ = list_to_sum[0]\n",
        "    for item in list_to_sum[1:]:\n",
        "        sum_ += item\n",
        "    return sum_"
      ],
      "execution_count": 0,
      "outputs": []
    },
    {
      "cell_type": "code",
      "metadata": {
        "ExecuteTime": {
          "end_time": "2018-10-25T18:00:55.894819Z",
          "start_time": "2018-10-25T18:00:55.887776Z"
        },
        "id": "WUKyyniyhNY9",
        "colab_type": "code",
        "colab": {}
      },
      "source": [
        "mySumUsingLoop(range(5))"
      ],
      "execution_count": 0,
      "outputs": []
    },
    {
      "cell_type": "markdown",
      "metadata": {
        "id": "laJZ8TIyhNZA",
        "colab_type": "text"
      },
      "source": [
        "*The two example functions are not doing anything interesting but just served as illustrations to build customized functions.*"
      ]
    },
    {
      "cell_type": "markdown",
      "metadata": {
        "id": "05EWSqNAhNZB",
        "colab_type": "text"
      },
      "source": [
        "Finally, let's see how we can sort a dictionary by values using functions instead of `lambda`"
      ]
    },
    {
      "cell_type": "code",
      "metadata": {
        "ExecuteTime": {
          "end_time": "2018-10-25T18:01:10.928528Z",
          "start_time": "2018-10-25T18:01:10.923553Z"
        },
        "id": "l_-0JO3FhNZD",
        "colab_type": "code",
        "colab": {}
      },
      "source": [
        "d"
      ],
      "execution_count": 0,
      "outputs": []
    },
    {
      "cell_type": "code",
      "metadata": {
        "ExecuteTime": {
          "end_time": "2018-10-25T18:01:11.516168Z",
          "start_time": "2018-10-25T18:01:11.512844Z"
        },
        "id": "m7SNmd9YhNZI",
        "colab_type": "code",
        "colab": {}
      },
      "source": [
        "def my_key(key):\n",
        "    return d[key]"
      ],
      "execution_count": 0,
      "outputs": []
    },
    {
      "cell_type": "code",
      "metadata": {
        "ExecuteTime": {
          "end_time": "2018-10-25T18:01:30.640489Z",
          "start_time": "2018-10-25T18:01:30.634567Z"
        },
        "id": "_ivOJisIhNZN",
        "colab_type": "code",
        "colab": {}
      },
      "source": [
        "sorted(d, key=my_key)"
      ],
      "execution_count": 0,
      "outputs": []
    },
    {
      "cell_type": "markdown",
      "metadata": {
        "id": "9s1gOAlChNZU",
        "colab_type": "text"
      },
      "source": [
        "See, `lambda` is way simpler than defining a function explicitly"
      ]
    },
    {
      "cell_type": "markdown",
      "metadata": {
        "id": "e-Q6CvskhNZV",
        "colab_type": "text"
      },
      "source": [
        "---"
      ]
    },
    {
      "cell_type": "markdown",
      "metadata": {
        "id": "FtBPxB_7hNZV",
        "colab_type": "text"
      },
      "source": [
        "### FIle I/O"
      ]
    },
    {
      "cell_type": "markdown",
      "metadata": {
        "id": "ObcD6WZPhNZW",
        "colab_type": "text"
      },
      "source": [
        "This section is about some basics on reading and writing data, in Python native style"
      ]
    },
    {
      "cell_type": "markdown",
      "metadata": {
        "id": "0YbG75zthNZX",
        "colab_type": "text"
      },
      "source": [
        "#### Write data to a file"
      ]
    },
    {
      "cell_type": "code",
      "metadata": {
        "ExecuteTime": {
          "end_time": "2018-10-25T18:04:05.330388Z",
          "start_time": "2018-10-25T18:04:05.317270Z"
        },
        "id": "yzCQeBLXhNZY",
        "colab_type": "code",
        "colab": {}
      },
      "source": [
        "f = open(\"tmp1.csv\", \"w\") # f is a file handler, while \"w\" is the mode (w for write)\n",
        "for item in range(6):\n",
        "    f.write(str(item))\n",
        "    # add newline character \n",
        "    f.write(\"\\n\") \n",
        "    # alternatively, we can do:\n",
        "    # f.write(str(item)+\"\\n\") because we can concat two strings by using `+`\n",
        "f.close() # close the filer handler for security reasons."
      ],
      "execution_count": 0,
      "outputs": []
    },
    {
      "cell_type": "markdown",
      "metadata": {
        "id": "XgnthlUXhNZb",
        "colab_type": "text"
      },
      "source": [
        "check out the file we just created `tmp.csv`"
      ]
    },
    {
      "cell_type": "code",
      "metadata": {
        "ExecuteTime": {
          "end_time": "2018-10-25T18:04:14.746566Z",
          "start_time": "2018-10-25T18:04:14.613060Z"
        },
        "id": "y_9jMNJzhNZc",
        "colab_type": "code",
        "colab": {}
      },
      "source": [
        "cat tmp1.csv"
      ],
      "execution_count": 0,
      "outputs": []
    },
    {
      "cell_type": "markdown",
      "metadata": {
        "id": "FQwsluMThNZe",
        "colab_type": "text"
      },
      "source": [
        "Note that without the typecasting from `int` to `str`, an error will be raised."
      ]
    },
    {
      "cell_type": "markdown",
      "metadata": {
        "id": "OkEsoD8RhNZf",
        "colab_type": "text"
      },
      "source": [
        "A more commonly used way:"
      ]
    },
    {
      "cell_type": "code",
      "metadata": {
        "ExecuteTime": {
          "end_time": "2018-10-25T18:05:39.217600Z",
          "start_time": "2018-10-25T18:05:39.211303Z"
        },
        "id": "zAi2ckH2hNZg",
        "colab_type": "code",
        "colab": {}
      },
      "source": [
        "with open(\"tmp2.csv\", \"w\") as f: # f is a file handler, while \"w\" is the mode (w for write)\n",
        "    for item in range(4):\n",
        "        f.write(str(item))\n",
        "        f.write(\"\\n\") # add newline character"
      ],
      "execution_count": 0,
      "outputs": []
    },
    {
      "cell_type": "code",
      "metadata": {
        "ExecuteTime": {
          "end_time": "2018-10-25T18:05:39.624751Z",
          "start_time": "2018-10-25T18:05:39.496854Z"
        },
        "id": "eduT_gOZhNZi",
        "colab_type": "code",
        "colab": {}
      },
      "source": [
        "cat tmp2.csv"
      ],
      "execution_count": 0,
      "outputs": []
    },
    {
      "cell_type": "markdown",
      "metadata": {
        "id": "G5HWzcwUhNZl",
        "colab_type": "text"
      },
      "source": [
        "No need to close because of `with`.\n",
        "\n",
        "See more here:\n",
        "1. https://stackoverflow.com/questions/3012488/what-is-the-python-with-statement-designed-for\n",
        "2. https://docs.python.org/3/whatsnew/2.6.html#pep-343-the-with-statement"
      ]
    },
    {
      "cell_type": "markdown",
      "metadata": {
        "id": "bHgTj7nphNZm",
        "colab_type": "text"
      },
      "source": [
        "Occasionally, we need to _append new elements_ instead of _overwriting_ existing files. In this case, we should use `a` mode in our `open` function:"
      ]
    },
    {
      "cell_type": "code",
      "metadata": {
        "ExecuteTime": {
          "end_time": "2018-10-25T18:06:09.439732Z",
          "start_time": "2018-10-25T18:06:09.434341Z"
        },
        "id": "HXgS-YnchNZm",
        "colab_type": "code",
        "colab": {}
      },
      "source": [
        "with open(\"tmp2.csv\", \"a\") as f:\n",
        "    for item in range(15, 19):\n",
        "        f.write(str(item)+\"\\n\")"
      ],
      "execution_count": 0,
      "outputs": []
    },
    {
      "cell_type": "code",
      "metadata": {
        "ExecuteTime": {
          "end_time": "2018-10-25T18:06:09.845265Z",
          "start_time": "2018-10-25T18:06:09.718758Z"
        },
        "id": "GETgJWkLhNZq",
        "colab_type": "code",
        "colab": {}
      },
      "source": [
        "cat tmp2.csv"
      ],
      "execution_count": 0,
      "outputs": []
    },
    {
      "cell_type": "markdown",
      "metadata": {
        "id": "6cZqT_tYhNZu",
        "colab_type": "text"
      },
      "source": [
        "#### Read data to a file"
      ]
    },
    {
      "cell_type": "markdown",
      "metadata": {
        "id": "pWC9hzZBhNZu",
        "colab_type": "text"
      },
      "source": [
        "To read a text file into Python, we use `r` mode (for _read_)"
      ]
    },
    {
      "cell_type": "code",
      "metadata": {
        "ExecuteTime": {
          "end_time": "2018-10-25T18:08:01.936428Z",
          "start_time": "2018-10-25T18:08:01.931565Z"
        },
        "id": "YuDcj-j9hNZv",
        "colab_type": "code",
        "colab": {}
      },
      "source": [
        "f = open(\"tmp1.csv\", \"r\") # this time, use read mode\n",
        "contents = [item for item in f] # list comprehension. This is the same as for-loop but more concise\n",
        "print(contents)"
      ],
      "execution_count": 0,
      "outputs": []
    },
    {
      "cell_type": "markdown",
      "metadata": {
        "id": "8K0c_Qb3hNZy",
        "colab_type": "text"
      },
      "source": [
        "Usually, we do not like trailing newlines. We can use `strip` to remove them."
      ]
    },
    {
      "cell_type": "code",
      "metadata": {
        "ExecuteTime": {
          "end_time": "2018-10-25T18:08:02.351111Z",
          "start_time": "2018-10-25T18:08:02.341732Z"
        },
        "id": "MFhXHFy-hNZy",
        "colab_type": "code",
        "colab": {}
      },
      "source": [
        "contents = [item.strip(\"\\n\") for item in contents] # strip the newline\n",
        "print(contents)"
      ],
      "execution_count": 0,
      "outputs": []
    },
    {
      "cell_type": "markdown",
      "metadata": {
        "id": "K6w0UjCVhNZ3",
        "colab_type": "text"
      },
      "source": [
        "`map` is a function to do similar things like _list comprehension_. See [here](https://stackoverflow.com/questions/10973766/understanding-the-map-function) for more discussions."
      ]
    },
    {
      "cell_type": "code",
      "metadata": {
        "ExecuteTime": {
          "end_time": "2018-10-25T18:08:45.960510Z",
          "start_time": "2018-10-25T18:08:45.956406Z"
        },
        "id": "ozu-lRzZhNZ3",
        "colab_type": "code",
        "colab": {}
      },
      "source": [
        "int_values = list(map(int, contents)) # map the values into integer type\n",
        "print(int_values)\n",
        "f.close() # always remember to close the file handler"
      ],
      "execution_count": 0,
      "outputs": []
    },
    {
      "cell_type": "markdown",
      "metadata": {
        "id": "jsC0xQz3hNZ6",
        "colab_type": "text"
      },
      "source": [
        "Also using with:"
      ]
    },
    {
      "cell_type": "code",
      "metadata": {
        "ExecuteTime": {
          "end_time": "2018-10-25T18:09:06.950061Z",
          "start_time": "2018-10-25T18:09:06.943884Z"
        },
        "id": "JjFNBl54hNZ7",
        "colab_type": "code",
        "colab": {}
      },
      "source": [
        "with open(\"tmp1.csv\", \"r\") as f:\n",
        "    contents = [item for item in f] # list comprehension. This is the same as for-loop but more concise\n",
        "    contents = [item.strip(\"\\n\") for item in contents] # strip the newline\n",
        "    print('Before converting to `int`')\n",
        "    print(contents)\n",
        "    int_values = list(map(int, contents)) # map the values into integer type\n",
        "    print('After...')\n",
        "    print(int_values)"
      ],
      "execution_count": 0,
      "outputs": []
    },
    {
      "cell_type": "markdown",
      "metadata": {
        "id": "fXqw5Zn3hNZ-",
        "colab_type": "text"
      },
      "source": [
        "---"
      ]
    },
    {
      "cell_type": "markdown",
      "metadata": {
        "id": "yiVMT3kjhNZ_",
        "colab_type": "text"
      },
      "source": [
        "### Libraries"
      ]
    },
    {
      "cell_type": "markdown",
      "metadata": {
        "id": "jTLrzWykhNZ_",
        "colab_type": "text"
      },
      "source": [
        "Often times, we need either internal or external help for complicated computation tasks. In these occasions, we need to _import libraries_. "
      ]
    },
    {
      "cell_type": "markdown",
      "metadata": {
        "id": "ghUVCfANhNaA",
        "colab_type": "text"
      },
      "source": [
        "#### Built-in libraries"
      ]
    },
    {
      "cell_type": "markdown",
      "metadata": {
        "id": "a8o4QwD-hNaB",
        "colab_type": "text"
      },
      "source": [
        "Python provides many built-in packages to prevent extra work on some common and useful functions\n",
        "\n",
        "We will use __math__ as an example."
      ]
    },
    {
      "cell_type": "code",
      "metadata": {
        "ExecuteTime": {
          "end_time": "2018-10-25T18:11:30.413987Z",
          "start_time": "2018-10-25T18:11:30.411351Z"
        },
        "id": "rNcrSdaqhNaB",
        "colab_type": "code",
        "colab": {}
      },
      "source": [
        "import math # use import to load a library"
      ],
      "execution_count": 0,
      "outputs": []
    },
    {
      "cell_type": "markdown",
      "metadata": {
        "id": "DcF6CiQVhNaD",
        "colab_type": "text"
      },
      "source": [
        "To use functions from the library, do: `library_name.function_name`. For example, when we want to calculate the logarithm using a function from `math` library, we can do `math.log`"
      ]
    },
    {
      "cell_type": "code",
      "metadata": {
        "ExecuteTime": {
          "end_time": "2018-10-25T18:12:36.793378Z",
          "start_time": "2018-10-25T18:12:36.788201Z"
        },
        "id": "PmMN2td6hNaE",
        "colab_type": "code",
        "colab": {}
      },
      "source": [
        "x = 3\n",
        "print(\"e^x = e^3 = %f\"%math.exp(x))\n",
        "print(\"log(x) = log(3) = %f\"%math.log(x))"
      ],
      "execution_count": 0,
      "outputs": []
    },
    {
      "cell_type": "markdown",
      "metadata": {
        "id": "xZlmN_dLhNaH",
        "colab_type": "text"
      },
      "source": [
        "You can also import one specific function:"
      ]
    },
    {
      "cell_type": "code",
      "metadata": {
        "ExecuteTime": {
          "end_time": "2018-10-25T18:12:37.162731Z",
          "start_time": "2018-10-25T18:12:37.157103Z"
        },
        "id": "oFF0Vh34hNaK",
        "colab_type": "code",
        "colab": {}
      },
      "source": [
        "from math import exp # You can import a specific function\n",
        "print(exp(x)) # This way, you don't need to use math.exp but just exp"
      ],
      "execution_count": 0,
      "outputs": []
    },
    {
      "cell_type": "markdown",
      "metadata": {
        "id": "7W2PNZLZhNaO",
        "colab_type": "text"
      },
      "source": [
        "Or all:"
      ]
    },
    {
      "cell_type": "code",
      "metadata": {
        "ExecuteTime": {
          "end_time": "2018-10-25T17:20:30.324507Z",
          "start_time": "2018-10-25T17:20:30.320936Z"
        },
        "id": "LvaIXdYbhNaS",
        "colab_type": "code",
        "colab": {}
      },
      "source": [
        "from math import * # Import all functions"
      ],
      "execution_count": 0,
      "outputs": []
    },
    {
      "cell_type": "code",
      "metadata": {
        "ExecuteTime": {
          "end_time": "2018-10-25T17:20:30.331795Z",
          "start_time": "2018-10-25T17:20:30.327483Z"
        },
        "id": "RzayyyHihNaU",
        "colab_type": "code",
        "colab": {}
      },
      "source": [
        "print(exp(x))\n",
        "print(log(x)) # Before importing math, calling `exp` or `log` will raise errors"
      ],
      "execution_count": 0,
      "outputs": []
    },
    {
      "cell_type": "markdown",
      "metadata": {
        "id": "leR44qM5hNaW",
        "colab_type": "text"
      },
      "source": [
        "Depending on what you want to achieve, you may want to choose between importing a few or all (by `*`) functions within a package."
      ]
    },
    {
      "cell_type": "markdown",
      "metadata": {
        "id": "Cl5BLpnihNaX",
        "colab_type": "text"
      },
      "source": [
        "#### External libraries"
      ]
    },
    {
      "cell_type": "markdown",
      "metadata": {
        "ExecuteTime": {
          "end_time": "2017-10-21T16:45:05.266743Z",
          "start_time": "2017-10-21T16:45:05.260803Z"
        },
        "id": "cQkdvn3JhNaX",
        "colab_type": "text"
      },
      "source": [
        "There are times you'll want some advanced utility functions not provided by Python. There are many useful packages by developers.\n",
        "\n",
        "We'll use __numpy__ as an example. (__numpy__, __scipy__, __matplotlib__,and probably __pandas__ will be of the most importance to you for data analyses.\n",
        "\n",
        "Installation of packages for Python is the easiest using <a href=\"https://packaging.python.org/installing/\" target=\"_blank\">pip</a>:"
      ]
    },
    {
      "cell_type": "markdown",
      "metadata": {
        "id": "nuvcFYbshNaY",
        "colab_type": "text"
      },
      "source": [
        "```bash\n",
        "~$ pip install numpy scipy pandas\n",
        "```"
      ]
    },
    {
      "cell_type": "markdown",
      "metadata": {
        "id": "7o8RX-BShNaZ",
        "colab_type": "text"
      },
      "source": [
        "If you use Anaconda, I beleive all these are ready for your use."
      ]
    },
    {
      "cell_type": "markdown",
      "metadata": {
        "id": "GwIX3h1xhNaa",
        "colab_type": "text"
      },
      "source": [
        "Loading external libraries is just the same as built-in ones. To use _alias_ for easier access to the libraries, we can import a library by: `import library_long_name as short_name`. For example:"
      ]
    },
    {
      "cell_type": "code",
      "metadata": {
        "ExecuteTime": {
          "end_time": "2018-10-25T18:13:42.776598Z",
          "start_time": "2018-10-25T18:13:42.770831Z"
        },
        "id": "NNJdGViPhNab",
        "colab_type": "code",
        "colab": {}
      },
      "source": [
        "# After you install numpy, load it\n",
        "import numpy as np # you can use np instead of numpy to call the functions in numpy package"
      ],
      "execution_count": 0,
      "outputs": []
    },
    {
      "cell_type": "code",
      "metadata": {
        "ExecuteTime": {
          "end_time": "2018-10-25T18:15:33.255909Z",
          "start_time": "2018-10-25T18:15:33.250898Z"
        },
        "id": "qNiaQzWJhNad",
        "colab_type": "code",
        "colab": {}
      },
      "source": [
        "x = np.array([[1,2,3], [4,5,7]], dtype=np.float) # create a numpy array object, specify the data type as float\n",
        "print(x)\n",
        "print(type(x))"
      ],
      "execution_count": 0,
      "outputs": []
    },
    {
      "cell_type": "markdown",
      "metadata": {
        "id": "jr77f8tphNag",
        "colab_type": "text"
      },
      "source": [
        "We can call `shape` function designed for `numpy.ndarray` class to check the dimension"
      ]
    },
    {
      "cell_type": "code",
      "metadata": {
        "ExecuteTime": {
          "end_time": "2018-10-25T18:15:44.041903Z",
          "start_time": "2018-10-25T18:15:44.036465Z"
        },
        "id": "x4I9qN-AhNah",
        "colab_type": "code",
        "colab": {}
      },
      "source": [
        "x.shape"
      ],
      "execution_count": 0,
      "outputs": []
    },
    {
      "cell_type": "markdown",
      "metadata": {
        "id": "0KiK60X1hNal",
        "colab_type": "text"
      },
      "source": [
        "Unlike `list`, we have to use one single data type for all elements in an array"
      ]
    },
    {
      "cell_type": "code",
      "metadata": {
        "ExecuteTime": {
          "end_time": "2018-10-25T18:16:19.660627Z",
          "start_time": "2018-10-25T18:16:19.655016Z"
        },
        "id": "XIagL4rzhNam",
        "colab_type": "code",
        "colab": {}
      },
      "source": [
        "y = np.array([1, 'yes'])\n",
        "y"
      ],
      "execution_count": 0,
      "outputs": []
    },
    {
      "cell_type": "code",
      "metadata": {
        "ExecuteTime": {
          "end_time": "2018-10-25T18:16:34.203322Z",
          "start_time": "2018-10-25T18:16:34.195223Z"
        },
        "id": "cIRYnoYKhNap",
        "colab_type": "code",
        "colab": {}
      },
      "source": [
        "y[0], type(y[0])"
      ],
      "execution_count": 0,
      "outputs": []
    },
    {
      "cell_type": "code",
      "metadata": {
        "ExecuteTime": {
          "end_time": "2018-10-25T18:16:49.525338Z",
          "start_time": "2018-10-25T18:16:49.519782Z"
        },
        "id": "5xBm1SYvhNar",
        "colab_type": "code",
        "colab": {}
      },
      "source": [
        "y_list = [1, 'yes']\n",
        "y_list[0], type(y_list[0])"
      ],
      "execution_count": 0,
      "outputs": []
    },
    {
      "cell_type": "markdown",
      "metadata": {
        "id": "4GA4sWkehNav",
        "colab_type": "text"
      },
      "source": [
        "__Scipy/Numpy__ provides extensive utilities to manipulate data and simple analysis"
      ]
    },
    {
      "cell_type": "code",
      "metadata": {
        "ExecuteTime": {
          "end_time": "2018-10-25T18:17:50.704195Z",
          "start_time": "2018-10-25T18:17:50.701194Z"
        },
        "id": "ajwCiw8VhNaw",
        "colab_type": "code",
        "colab": {}
      },
      "source": [
        "from scipy.stats import pearsonr, spearmanr # correlation functions"
      ],
      "execution_count": 0,
      "outputs": []
    },
    {
      "cell_type": "code",
      "metadata": {
        "ExecuteTime": {
          "end_time": "2018-10-25T18:17:50.766246Z",
          "start_time": "2018-10-25T18:17:50.743057Z"
        },
        "id": "af7iKIYMhNay",
        "colab_type": "code",
        "colab": {}
      },
      "source": [
        "print(pearsonr(x[1, :], x[0, :]))\n",
        "print(spearmanr(x[1, :], x[0, :]))"
      ],
      "execution_count": 0,
      "outputs": []
    },
    {
      "cell_type": "markdown",
      "metadata": {
        "id": "RTW7tEfVhNa2",
        "colab_type": "text"
      },
      "source": [
        "__Pandas__ (Python Data Analysis Library) is a great package for data structures: `DataFrame`"
      ]
    },
    {
      "cell_type": "markdown",
      "metadata": {
        "id": "CrFGoxJ6hNa3",
        "colab_type": "text"
      },
      "source": [
        "If you're familar with `R`, then you must love `pandas.DataFrame` data structure."
      ]
    },
    {
      "cell_type": "code",
      "metadata": {
        "ExecuteTime": {
          "end_time": "2018-10-25T18:18:13.027876Z",
          "start_time": "2018-10-25T18:18:13.025121Z"
        },
        "id": "9sdG6eAwhNa3",
        "colab_type": "code",
        "colab": {}
      },
      "source": [
        "import pandas as pd"
      ],
      "execution_count": 0,
      "outputs": []
    },
    {
      "cell_type": "code",
      "metadata": {
        "ExecuteTime": {
          "end_time": "2018-10-25T18:18:55.978258Z",
          "start_time": "2018-10-25T18:18:55.969575Z"
        },
        "id": "J7WPg6hthNa5",
        "colab_type": "code",
        "colab": {}
      },
      "source": [
        "x"
      ],
      "execution_count": 0,
      "outputs": []
    },
    {
      "cell_type": "code",
      "metadata": {
        "ExecuteTime": {
          "end_time": "2018-10-25T18:19:06.351817Z",
          "start_time": "2018-10-25T18:19:06.337655Z"
        },
        "id": "kfp-DrDFhNa7",
        "colab_type": "code",
        "colab": {}
      },
      "source": [
        "x_df = pd.DataFrame(x)\n",
        "x_df"
      ],
      "execution_count": 0,
      "outputs": []
    },
    {
      "cell_type": "markdown",
      "metadata": {
        "id": "u_Er9PBkhNa9",
        "colab_type": "text"
      },
      "source": [
        "Easy import/export"
      ]
    },
    {
      "cell_type": "code",
      "metadata": {
        "ExecuteTime": {
          "end_time": "2018-10-25T17:20:32.720410Z",
          "start_time": "2018-10-25T17:20:32.701648Z"
        },
        "id": "IJ5ohzOkhNa9",
        "colab_type": "code",
        "colab": {}
      },
      "source": [
        "x_df.to_csv('tmp_pd.csv', index=False) # `index=False`: do not write row indices to file"
      ],
      "execution_count": 0,
      "outputs": []
    },
    {
      "cell_type": "code",
      "metadata": {
        "ExecuteTime": {
          "end_time": "2018-10-25T17:20:32.774467Z",
          "start_time": "2018-10-25T17:20:32.755799Z"
        },
        "id": "FBHU_sULhNa_",
        "colab_type": "code",
        "colab": {}
      },
      "source": [
        "df = pd.read_csv('tmp_pd.csv')"
      ],
      "execution_count": 0,
      "outputs": []
    },
    {
      "cell_type": "code",
      "metadata": {
        "ExecuteTime": {
          "end_time": "2018-10-25T17:20:32.816525Z",
          "start_time": "2018-10-25T17:20:32.781308Z"
        },
        "id": "JMT2MxDUhNbD",
        "colab_type": "code",
        "colab": {}
      },
      "source": [
        "df"
      ],
      "execution_count": 0,
      "outputs": []
    },
    {
      "cell_type": "markdown",
      "metadata": {
        "id": "78W-xnJ2hNbF",
        "colab_type": "text"
      },
      "source": [
        "---"
      ]
    },
    {
      "cell_type": "markdown",
      "metadata": {
        "id": "8Reg96w0hNbG",
        "colab_type": "text"
      },
      "source": [
        "### Quick Intro to Numpy"
      ]
    },
    {
      "cell_type": "markdown",
      "metadata": {
        "id": "ccWtMFZGhNbG",
        "colab_type": "text"
      },
      "source": [
        "Instead of using the native data structures, we use `numpy.ndarray` for data analytics most of the time. While they are not as \"flexible\" as lists, they are easy to use and have better performance. As Numpy's official documentation states:\n",
        "> NumPy’s main object is the homogeneous multidimensional array. It is a table of elements (usually numbers), all of the same type, indexed by a tuple of positive integers."
      ]
    },
    {
      "cell_type": "markdown",
      "metadata": {
        "id": "ykdAS8s7hNbH",
        "colab_type": "text"
      },
      "source": [
        "As we were using it just now, the most common alias for `numpy` is `np`:"
      ]
    },
    {
      "cell_type": "code",
      "metadata": {
        "ExecuteTime": {
          "end_time": "2018-10-25T18:20:55.886804Z",
          "start_time": "2018-10-25T18:20:55.883788Z"
        },
        "id": "kluNR6wRhNbH",
        "colab_type": "code",
        "colab": {}
      },
      "source": [
        "import numpy as np"
      ],
      "execution_count": 0,
      "outputs": []
    },
    {
      "cell_type": "markdown",
      "metadata": {
        "id": "cFDHf32uhNbJ",
        "colab_type": "text"
      },
      "source": [
        "#### Create arrays"
      ]
    },
    {
      "cell_type": "markdown",
      "metadata": {
        "id": "5DonzXnEhNbK",
        "colab_type": "text"
      },
      "source": [
        "Depending on what types of analyses we are going to work on later, the most appropriate array initialization methods can be choosed."
      ]
    },
    {
      "cell_type": "markdown",
      "metadata": {
        "id": "eLS1BjGChNbK",
        "colab_type": "text"
      },
      "source": [
        "##### By hand"
      ]
    },
    {
      "cell_type": "markdown",
      "metadata": {
        "id": "rrbxOdtThNbL",
        "colab_type": "text"
      },
      "source": [
        "This is very similar to creating a list of elements manually, except that we wrap the list around by `np.array()`."
      ]
    },
    {
      "cell_type": "code",
      "metadata": {
        "ExecuteTime": {
          "end_time": "2018-10-25T18:21:09.714465Z",
          "start_time": "2018-10-25T18:21:09.708143Z"
        },
        "id": "xeK_tgNahNbO",
        "colab_type": "code",
        "colab": {}
      },
      "source": [
        "arr = np.array([1,2,3,8])\n",
        "arr"
      ],
      "execution_count": 0,
      "outputs": []
    },
    {
      "cell_type": "code",
      "metadata": {
        "ExecuteTime": {
          "end_time": "2018-10-25T18:21:10.376843Z",
          "start_time": "2018-10-25T18:21:10.372139Z"
        },
        "id": "ZjvlQTHwhNbS",
        "colab_type": "code",
        "colab": {}
      },
      "source": [
        "arr.shape"
      ],
      "execution_count": 0,
      "outputs": []
    },
    {
      "cell_type": "markdown",
      "metadata": {
        "id": "vkwiFOtXhNbU",
        "colab_type": "text"
      },
      "source": [
        "Multidimensional arrays: seperated by comma"
      ]
    },
    {
      "cell_type": "markdown",
      "metadata": {
        "id": "-jHRR5IlhNbW",
        "colab_type": "text"
      },
      "source": [
        "1 by 4: 1 row and 4 columns"
      ]
    },
    {
      "cell_type": "code",
      "metadata": {
        "ExecuteTime": {
          "end_time": "2018-10-25T18:22:13.908319Z",
          "start_time": "2018-10-25T18:22:13.903647Z"
        },
        "id": "Ohtxi-2HhNbX",
        "colab_type": "code",
        "colab": {}
      },
      "source": [
        "arr = np.array([[1,2,3,8]])\n",
        "arr.shape"
      ],
      "execution_count": 0,
      "outputs": []
    },
    {
      "cell_type": "code",
      "metadata": {
        "ExecuteTime": {
          "end_time": "2018-10-25T18:22:30.154253Z",
          "start_time": "2018-10-25T18:22:30.148702Z"
        },
        "id": "lOrPpQQUhNbZ",
        "colab_type": "code",
        "colab": {}
      },
      "source": [
        "arr"
      ],
      "execution_count": 0,
      "outputs": []
    },
    {
      "cell_type": "markdown",
      "metadata": {
        "id": "xAas52iOhNbb",
        "colab_type": "text"
      },
      "source": [
        "3 by 4: 3 row and 4 columns"
      ]
    },
    {
      "cell_type": "code",
      "metadata": {
        "ExecuteTime": {
          "end_time": "2018-10-25T18:22:47.168037Z",
          "start_time": "2018-10-25T18:22:47.162787Z"
        },
        "id": "3rda3tEjhNbc",
        "colab_type": "code",
        "colab": {}
      },
      "source": [
        "arr = np.array([[1,2,3,8], [3,2,3,2], [4,5,0,8]])\n",
        "arr.shape"
      ],
      "execution_count": 0,
      "outputs": []
    },
    {
      "cell_type": "code",
      "metadata": {
        "ExecuteTime": {
          "end_time": "2018-10-25T18:22:47.618800Z",
          "start_time": "2018-10-25T18:22:47.613359Z"
        },
        "id": "ZVmqbXM1hNbe",
        "colab_type": "code",
        "colab": {}
      },
      "source": [
        "arr"
      ],
      "execution_count": 0,
      "outputs": []
    },
    {
      "cell_type": "markdown",
      "metadata": {
        "id": "-LZrrxMVhNbg",
        "colab_type": "text"
      },
      "source": [
        "##### By functions"
      ]
    },
    {
      "cell_type": "markdown",
      "metadata": {
        "id": "NiKzLOSHhNbh",
        "colab_type": "text"
      },
      "source": [
        "There are many special array initialization methods to call:"
      ]
    },
    {
      "cell_type": "code",
      "metadata": {
        "ExecuteTime": {
          "end_time": "2018-10-25T18:23:26.355528Z",
          "start_time": "2018-10-25T18:23:26.350971Z"
        },
        "id": "Sqeuj14shNbh",
        "colab_type": "code",
        "colab": {}
      },
      "source": [
        "np.zeros([3,5], dtype=int)"
      ],
      "execution_count": 0,
      "outputs": []
    },
    {
      "cell_type": "code",
      "metadata": {
        "ExecuteTime": {
          "end_time": "2018-10-25T17:20:32.915771Z",
          "start_time": "2018-10-25T17:20:32.908663Z"
        },
        "id": "Z_YuEeA-hNbj",
        "colab_type": "code",
        "colab": {}
      },
      "source": [
        "np.ones([3,5])"
      ],
      "execution_count": 0,
      "outputs": []
    },
    {
      "cell_type": "code",
      "metadata": {
        "ExecuteTime": {
          "end_time": "2018-10-25T17:20:32.928709Z",
          "start_time": "2018-10-25T17:20:32.919025Z"
        },
        "id": "lofJ4NM9hNbm",
        "colab_type": "code",
        "colab": {}
      },
      "source": [
        "np.eye(3)"
      ],
      "execution_count": 0,
      "outputs": []
    },
    {
      "cell_type": "markdown",
      "metadata": {
        "id": "EConfp1DhNbp",
        "colab_type": "text"
      },
      "source": [
        "#### Arithmatic operations"
      ]
    },
    {
      "cell_type": "markdown",
      "metadata": {
        "id": "N9kguCTKhNbs",
        "colab_type": "text"
      },
      "source": [
        "The rules are very similar to R: they are generally element wise"
      ]
    },
    {
      "cell_type": "code",
      "metadata": {
        "ExecuteTime": {
          "end_time": "2018-10-25T18:24:37.986303Z",
          "start_time": "2018-10-25T18:24:37.981265Z"
        },
        "id": "Q6M-JPbrhNbs",
        "colab_type": "code",
        "colab": {}
      },
      "source": [
        "arr"
      ],
      "execution_count": 0,
      "outputs": []
    },
    {
      "cell_type": "code",
      "metadata": {
        "ExecuteTime": {
          "end_time": "2018-10-25T18:24:38.430440Z",
          "start_time": "2018-10-25T18:24:38.411917Z"
        },
        "id": "GJVwyeJ5hNbu",
        "colab_type": "code",
        "colab": {}
      },
      "source": [
        "arr * 6"
      ],
      "execution_count": 0,
      "outputs": []
    },
    {
      "cell_type": "code",
      "metadata": {
        "ExecuteTime": {
          "end_time": "2018-10-25T17:20:32.958899Z",
          "start_time": "2018-10-25T17:20:32.951229Z"
        },
        "id": "QiMYfcY7hNbw",
        "colab_type": "code",
        "colab": {}
      },
      "source": [
        "arr - 5"
      ],
      "execution_count": 0,
      "outputs": []
    },
    {
      "cell_type": "code",
      "metadata": {
        "ExecuteTime": {
          "end_time": "2018-10-25T17:20:32.970030Z",
          "start_time": "2018-10-25T17:20:32.963074Z"
        },
        "id": "22cMk5OthNb1",
        "colab_type": "code",
        "colab": {}
      },
      "source": [
        "np.exp(arr)"
      ],
      "execution_count": 0,
      "outputs": []
    },
    {
      "cell_type": "markdown",
      "metadata": {
        "id": "2QhDzkq_hNb2",
        "colab_type": "text"
      },
      "source": [
        "Note that if we want conduct matrix multiplication, we need to use `@` or `.dot` function, since `*` still means element wise computation"
      ]
    },
    {
      "cell_type": "code",
      "metadata": {
        "ExecuteTime": {
          "end_time": "2018-10-25T17:20:32.981988Z",
          "start_time": "2018-10-25T17:20:32.973813Z"
        },
        "id": "TyiiwUIbhNb3",
        "colab_type": "code",
        "colab": {}
      },
      "source": [
        "arr_2 = np.array([[1], [3], [2], [0]])\n",
        "arr_2"
      ],
      "execution_count": 0,
      "outputs": []
    },
    {
      "cell_type": "code",
      "metadata": {
        "ExecuteTime": {
          "end_time": "2018-10-25T17:20:33.001842Z",
          "start_time": "2018-10-25T17:20:32.985348Z"
        },
        "id": "U21kL24IhNb5",
        "colab_type": "code",
        "colab": {}
      },
      "source": [
        "arr @ arr_2"
      ],
      "execution_count": 0,
      "outputs": []
    },
    {
      "cell_type": "code",
      "metadata": {
        "ExecuteTime": {
          "end_time": "2018-10-25T17:20:33.017275Z",
          "start_time": "2018-10-25T17:20:33.008780Z"
        },
        "id": "652GGlpmhNb6",
        "colab_type": "code",
        "colab": {}
      },
      "source": [
        "arr.dot(arr_2)"
      ],
      "execution_count": 0,
      "outputs": []
    },
    {
      "cell_type": "markdown",
      "metadata": {
        "id": "UkAESeY5hNb9",
        "colab_type": "text"
      },
      "source": [
        "##### Operation based on itself"
      ]
    },
    {
      "cell_type": "markdown",
      "metadata": {
        "id": "TDVk5VeZhNb9",
        "colab_type": "text"
      },
      "source": [
        "There are many class methods to calculate some statistics of the array itself along some axis:\n",
        "- `axis=1` means row-wise\n",
        "- `axis=0` means column-wise"
      ]
    },
    {
      "cell_type": "code",
      "metadata": {
        "ExecuteTime": {
          "end_time": "2018-10-25T17:20:33.031146Z",
          "start_time": "2018-10-25T17:20:33.020661Z"
        },
        "id": "B3uIC1LahNb-",
        "colab_type": "code",
        "colab": {}
      },
      "source": [
        "arr"
      ],
      "execution_count": 0,
      "outputs": []
    },
    {
      "cell_type": "code",
      "metadata": {
        "ExecuteTime": {
          "end_time": "2018-10-25T17:20:33.048518Z",
          "start_time": "2018-10-25T17:20:33.033767Z"
        },
        "id": "8TW_zH_shNb_",
        "colab_type": "code",
        "colab": {}
      },
      "source": [
        "arr.max()"
      ],
      "execution_count": 0,
      "outputs": []
    },
    {
      "cell_type": "code",
      "metadata": {
        "ExecuteTime": {
          "end_time": "2018-10-25T17:20:33.060765Z",
          "start_time": "2018-10-25T17:20:33.051750Z"
        },
        "id": "EUm4p6LIhNcB",
        "colab_type": "code",
        "colab": {}
      },
      "source": [
        "arr.max(axis=1)"
      ],
      "execution_count": 0,
      "outputs": []
    },
    {
      "cell_type": "code",
      "metadata": {
        "ExecuteTime": {
          "end_time": "2018-10-25T17:20:33.072580Z",
          "start_time": "2018-10-25T17:20:33.064562Z"
        },
        "id": "7wc42wyfhNcD",
        "colab_type": "code",
        "colab": {}
      },
      "source": [
        "arr.max(axis=0)"
      ],
      "execution_count": 0,
      "outputs": []
    },
    {
      "cell_type": "code",
      "metadata": {
        "ExecuteTime": {
          "end_time": "2018-10-25T18:28:06.467191Z",
          "start_time": "2018-10-25T18:28:06.458802Z"
        },
        "id": "yue1AqaOhNcH",
        "colab_type": "code",
        "colab": {}
      },
      "source": [
        "arr.cumsum()"
      ],
      "execution_count": 0,
      "outputs": []
    },
    {
      "cell_type": "code",
      "metadata": {
        "ExecuteTime": {
          "end_time": "2018-10-25T18:28:09.052626Z",
          "start_time": "2018-10-25T18:28:09.047583Z"
        },
        "id": "PoEJqoRlhNcI",
        "colab_type": "code",
        "colab": {}
      },
      "source": [
        "arr.cumsum(axis=1)"
      ],
      "execution_count": 0,
      "outputs": []
    },
    {
      "cell_type": "markdown",
      "metadata": {
        "id": "CNr-cmYAhNcM",
        "colab_type": "text"
      },
      "source": [
        "#### Indexing and slicing"
      ]
    },
    {
      "cell_type": "markdown",
      "metadata": {
        "id": "19128OYnhNcN",
        "colab_type": "text"
      },
      "source": [
        "The most important part is how to index and slice a `np.array`. It is actually very similar to `list`, except that we now may have more index elements because there are more than one dimension for most of the datasets in real life"
      ]
    },
    {
      "cell_type": "markdown",
      "metadata": {
        "id": "oxV7BocfhNcO",
        "colab_type": "text"
      },
      "source": [
        "##### 1 dimensional case"
      ]
    },
    {
      "cell_type": "code",
      "metadata": {
        "ExecuteTime": {
          "end_time": "2018-10-25T18:28:39.875850Z",
          "start_time": "2018-10-25T18:28:39.862936Z"
        },
        "id": "tgsqDz74hNcO",
        "colab_type": "code",
        "colab": {}
      },
      "source": [
        "a1 = np.array([1,2,8,100])\n",
        "a1"
      ],
      "execution_count": 0,
      "outputs": []
    },
    {
      "cell_type": "code",
      "metadata": {
        "ExecuteTime": {
          "end_time": "2018-10-25T18:28:40.194494Z",
          "start_time": "2018-10-25T18:28:40.187561Z"
        },
        "id": "PjYL1Va2hNcS",
        "colab_type": "code",
        "colab": {}
      },
      "source": [
        "a1[0]"
      ],
      "execution_count": 0,
      "outputs": []
    },
    {
      "cell_type": "code",
      "metadata": {
        "ExecuteTime": {
          "end_time": "2018-10-25T18:28:54.262749Z",
          "start_time": "2018-10-25T18:28:54.255392Z"
        },
        "id": "qMI79Vq2hNcU",
        "colab_type": "code",
        "colab": {}
      },
      "source": [
        "a1[-2]"
      ],
      "execution_count": 0,
      "outputs": []
    },
    {
      "cell_type": "code",
      "metadata": {
        "ExecuteTime": {
          "end_time": "2018-10-25T18:29:03.024941Z",
          "start_time": "2018-10-25T18:29:03.019955Z"
        },
        "id": "unvT0HB9hNcV",
        "colab_type": "code",
        "colab": {}
      },
      "source": [
        "a1[[0,1,3]]"
      ],
      "execution_count": 0,
      "outputs": []
    },
    {
      "cell_type": "markdown",
      "metadata": {
        "id": "H5YbFbUbhNca",
        "colab_type": "text"
      },
      "source": [
        "We can also use boolean values to index\n",
        "- `True` means we want this element"
      ]
    },
    {
      "cell_type": "code",
      "metadata": {
        "ExecuteTime": {
          "end_time": "2018-10-25T18:29:28.874057Z",
          "start_time": "2018-10-25T18:29:28.869300Z"
        },
        "id": "KZrQaL5ShNcb",
        "colab_type": "code",
        "colab": {}
      },
      "source": [
        "a1 > 3"
      ],
      "execution_count": 0,
      "outputs": []
    },
    {
      "cell_type": "code",
      "metadata": {
        "ExecuteTime": {
          "end_time": "2018-10-25T18:30:00.091948Z",
          "start_time": "2018-10-25T18:30:00.086799Z"
        },
        "id": "da9wPmkJhNcg",
        "colab_type": "code",
        "colab": {}
      },
      "source": [
        "a1[a1 > 3]"
      ],
      "execution_count": 0,
      "outputs": []
    },
    {
      "cell_type": "markdown",
      "metadata": {
        "id": "6ncb17PThNci",
        "colab_type": "text"
      },
      "source": [
        "##### 2 dimensional case"
      ]
    },
    {
      "cell_type": "code",
      "metadata": {
        "ExecuteTime": {
          "end_time": "2018-10-25T18:30:01.277543Z",
          "start_time": "2018-10-25T18:30:01.270262Z"
        },
        "id": "ixbRc3C_hNci",
        "colab_type": "code",
        "colab": {}
      },
      "source": [
        "arr"
      ],
      "execution_count": 0,
      "outputs": []
    },
    {
      "cell_type": "markdown",
      "metadata": {
        "id": "Ggzmm5MQhNcj",
        "colab_type": "text"
      },
      "source": [
        "Using only one number to index will lead to a subset of the original multidimenional array: also an array"
      ]
    },
    {
      "cell_type": "code",
      "metadata": {
        "ExecuteTime": {
          "end_time": "2018-10-25T18:30:15.881928Z",
          "start_time": "2018-10-25T18:30:15.877093Z"
        },
        "id": "xwDbXhRBhNck",
        "colab_type": "code",
        "colab": {}
      },
      "source": [
        "arr[0]"
      ],
      "execution_count": 0,
      "outputs": []
    },
    {
      "cell_type": "code",
      "metadata": {
        "ExecuteTime": {
          "end_time": "2018-10-25T18:30:21.305735Z",
          "start_time": "2018-10-25T18:30:21.299368Z"
        },
        "id": "7JIiWyzuhNcl",
        "colab_type": "code",
        "colab": {}
      },
      "source": [
        "type(arr[0])"
      ],
      "execution_count": 0,
      "outputs": []
    },
    {
      "cell_type": "markdown",
      "metadata": {
        "id": "HU9uML7shNcm",
        "colab_type": "text"
      },
      "source": [
        "Since we have 2 dimensions now, there are 2 indices we can use for indexing the 2 dimensions respectively"
      ]
    },
    {
      "cell_type": "code",
      "metadata": {
        "ExecuteTime": {
          "end_time": "2018-10-25T18:35:00.665066Z",
          "start_time": "2018-10-25T18:35:00.661163Z"
        },
        "id": "-nFe8o1JhNcn",
        "colab_type": "code",
        "colab": {}
      },
      "source": [
        "arr[0,0]"
      ],
      "execution_count": 0,
      "outputs": []
    },
    {
      "cell_type": "markdown",
      "metadata": {
        "id": "-aA5tuf0hNco",
        "colab_type": "text"
      },
      "source": [
        "We can use `:` to indicate everything along that axis"
      ]
    },
    {
      "cell_type": "code",
      "metadata": {
        "ExecuteTime": {
          "end_time": "2018-10-25T18:35:01.023310Z",
          "start_time": "2018-10-25T18:35:01.012994Z"
        },
        "id": "0pyfgZxlhNco",
        "colab_type": "code",
        "colab": {}
      },
      "source": [
        "arr[1]"
      ],
      "execution_count": 0,
      "outputs": []
    },
    {
      "cell_type": "code",
      "metadata": {
        "ExecuteTime": {
          "end_time": "2018-10-25T18:35:01.286832Z",
          "start_time": "2018-10-25T18:35:01.277934Z"
        },
        "id": "4pyO_gaxhNcp",
        "colab_type": "code",
        "colab": {}
      },
      "source": [
        "arr[1, :]"
      ],
      "execution_count": 0,
      "outputs": []
    },
    {
      "cell_type": "code",
      "metadata": {
        "ExecuteTime": {
          "end_time": "2018-10-25T18:35:01.415490Z",
          "start_time": "2018-10-25T18:35:01.405283Z"
        },
        "id": "tZuwAk_shNcr",
        "colab_type": "code",
        "colab": {}
      },
      "source": [
        "arr[1,:] == arr[1]"
      ],
      "execution_count": 0,
      "outputs": []
    },
    {
      "cell_type": "code",
      "metadata": {
        "ExecuteTime": {
          "end_time": "2018-10-25T18:35:01.582330Z",
          "start_time": "2018-10-25T18:35:01.573495Z"
        },
        "id": "At5nhrcXhNcu",
        "colab_type": "code",
        "colab": {}
      },
      "source": [
        "arr[:, 1]"
      ],
      "execution_count": 0,
      "outputs": []
    },
    {
      "cell_type": "markdown",
      "metadata": {
        "id": "rEMWRdsMhNcw",
        "colab_type": "text"
      },
      "source": [
        "##### 3 dimensional case"
      ]
    },
    {
      "cell_type": "markdown",
      "metadata": {
        "id": "hmr3KePmhNcy",
        "colab_type": "text"
      },
      "source": [
        "As a final example, we look at a 3d array:"
      ]
    },
    {
      "cell_type": "code",
      "metadata": {
        "ExecuteTime": {
          "end_time": "2018-10-25T18:35:02.101149Z",
          "start_time": "2018-10-25T18:35:02.092391Z"
        },
        "id": "Lm8cI347hNcz",
        "colab_type": "code",
        "colab": {}
      },
      "source": [
        "arr_3 = np.random.randint(low=0, high=100, size=24)\n",
        "arr_3"
      ],
      "execution_count": 0,
      "outputs": []
    },
    {
      "cell_type": "markdown",
      "metadata": {
        "id": "PACPnOZkhNc1",
        "colab_type": "text"
      },
      "source": [
        "We can use [`reshape`](https://docs.scipy.org/doc/numpy-1.15.1/reference/generated/numpy.reshape.html) to manipulate the shape of an array"
      ]
    },
    {
      "cell_type": "code",
      "metadata": {
        "ExecuteTime": {
          "end_time": "2018-10-25T18:35:02.489922Z",
          "start_time": "2018-10-25T18:35:02.478082Z"
        },
        "id": "fdbyR6F0hNc2",
        "colab_type": "code",
        "colab": {}
      },
      "source": [
        "arr_3 = arr_3.reshape(3,4,2)\n",
        "arr_3"
      ],
      "execution_count": 0,
      "outputs": []
    },
    {
      "cell_type": "code",
      "metadata": {
        "ExecuteTime": {
          "end_time": "2018-10-25T18:35:02.729883Z",
          "start_time": "2018-10-25T18:35:02.725296Z"
        },
        "id": "SPnBnTcPhNc3",
        "colab_type": "code",
        "colab": {}
      },
      "source": [
        "arr_3[0]"
      ],
      "execution_count": 0,
      "outputs": []
    },
    {
      "cell_type": "code",
      "metadata": {
        "ExecuteTime": {
          "end_time": "2018-10-25T18:35:02.850093Z",
          "start_time": "2018-10-25T18:35:02.843697Z"
        },
        "id": "DwZHRhnqhNc5",
        "colab_type": "code",
        "colab": {}
      },
      "source": [
        "arr_3[:, 3, 1]"
      ],
      "execution_count": 0,
      "outputs": []
    },
    {
      "cell_type": "code",
      "metadata": {
        "ExecuteTime": {
          "end_time": "2018-10-25T18:35:03.048599Z",
          "start_time": "2018-10-25T18:35:03.040467Z"
        },
        "id": "e-ZVqHUwhNc6",
        "colab_type": "code",
        "colab": {}
      },
      "source": [
        "arr_3[2, 3, 1]"
      ],
      "execution_count": 0,
      "outputs": []
    }
  ]
}