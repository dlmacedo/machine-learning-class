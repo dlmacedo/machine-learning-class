{
  "nbformat": 4,
  "nbformat_minor": 0,
  "metadata": {
    "kernelspec": {
      "display_name": "Python 3",
      "language": "python",
      "name": "python3"
    },
    "language_info": {
      "codemirror_mode": {
        "name": "ipython",
        "version": 3
      },
      "file_extension": ".py",
      "mimetype": "text/x-python",
      "name": "python",
      "nbconvert_exporter": "python",
      "pygments_lexer": "ipython3",
      "version": "3.5.1"
    },
    "colab": {
      "name": "RECOMMENDED_Gaussian_Mixtures.ipynb",
      "provenance": [],
      "include_colab_link": true
    }
  },
  "cells": [
    {
      "cell_type": "markdown",
      "metadata": {
        "id": "view-in-github",
        "colab_type": "text"
      },
      "source": [
        "<a href=\"https://colab.research.google.com/github/dlmacedo/maxtrack/blob/master/notebooks/machine-learning/RECOMMENDED_Gaussian_Mixtures.ipynb\" target=\"_parent\"><img src=\"https://colab.research.google.com/assets/colab-badge.svg\" alt=\"Open In Colab\"/></a>"
      ]
    },
    {
      "cell_type": "markdown",
      "metadata": {
        "id": "3wLG__DxRF6M",
        "colab_type": "text"
      },
      "source": [
        "# In Depth: Gaussian Mixture Models"
      ]
    },
    {
      "cell_type": "markdown",
      "metadata": {
        "deletable": true,
        "editable": true,
        "id": "znra-_ysRF6N",
        "colab_type": "text"
      },
      "source": [
        "The *k*-means clustering model explored in the previous section is simple and relatively easy to understand, but its simplicity leads to practical challenges in its application.\n",
        "In particular, the non-probabilistic nature of *k*-means and its use of simple distance-from-cluster-center to assign cluster membership leads to poor performance for many real-world situations.\n",
        "In this section we will take a look at Gaussian mixture models (GMMs), which can be viewed as an extension of the ideas behind *k*-means, but can also be a powerful tool for estimation beyond simple clustering.\n",
        "\n",
        "We begin with the standard imports:"
      ]
    },
    {
      "cell_type": "code",
      "metadata": {
        "deletable": true,
        "editable": true,
        "id": "p7jwJzgMRF6O",
        "colab_type": "code",
        "colab": {}
      },
      "source": [
        "%matplotlib inline\n",
        "import matplotlib.pyplot as plt\n",
        "import seaborn as sns; sns.set()\n",
        "import numpy as np"
      ],
      "execution_count": 0,
      "outputs": []
    },
    {
      "cell_type": "markdown",
      "metadata": {
        "deletable": true,
        "editable": true,
        "id": "QKxfTDRXRF6U",
        "colab_type": "text"
      },
      "source": [
        "## Motivating GMM: Weaknesses of k-Means\n",
        "\n",
        "Let's take a look at some of the weaknesses of *k*-means and think about how we might improve the cluster model.\n",
        "As we saw in the previous section, given simple, well-separated data, *k*-means finds suitable clustering results.\n",
        "\n",
        "For example, if we have simple blobs of data, the *k*-means algorithm can quickly label those clusters in a way that closely matches what we might do by eye:"
      ]
    },
    {
      "cell_type": "code",
      "metadata": {
        "deletable": true,
        "editable": true,
        "id": "2PdTHkErRF6V",
        "colab_type": "code",
        "colab": {}
      },
      "source": [
        "# Generate some data\n",
        "from sklearn.datasets.samples_generator import make_blobs\n",
        "X, y_true = make_blobs(n_samples=400, centers=4,\n",
        "                       cluster_std=0.60, random_state=0)\n",
        "X = X[:, ::-1] # flip axes for better plotting"
      ],
      "execution_count": 0,
      "outputs": []
    },
    {
      "cell_type": "code",
      "metadata": {
        "deletable": true,
        "editable": true,
        "id": "5FN6m7VERF6X",
        "colab_type": "code",
        "colab": {}
      },
      "source": [
        "# Plot the data with K Means Labels\n",
        "from sklearn.cluster import KMeans\n",
        "kmeans = KMeans(4, random_state=0)\n",
        "labels = kmeans.fit(X).predict(X)\n",
        "plt.scatter(X[:, 0], X[:, 1], c=labels, s=40, cmap='viridis');"
      ],
      "execution_count": 0,
      "outputs": []
    },
    {
      "cell_type": "markdown",
      "metadata": {
        "deletable": true,
        "editable": true,
        "id": "OoaVr9ueRF6a",
        "colab_type": "text"
      },
      "source": [
        "From an intuitive standpoint, we might expect that the clustering assignment for some points is more certain than others: for example, there appears to be a very slight overlap between the two middle clusters, such that we might not have complete confidence in the cluster assigment of points between them.\n",
        "Unfortunately, the *k*-means model has no intrinsic measure of probability or uncertainty of cluster assignments (although it may be possible to use a bootstrap approach to estimate this uncertainty).\n",
        "For this, we must think about generalizing the model.\n",
        "\n",
        "One way to think about the *k*-means model is that it places a circle (or, in higher dimensions, a hyper-sphere) at the center of each cluster, with a radius defined by the most distant point in the cluster.\n",
        "This radius acts as a hard cutoff for cluster assignment within the training set: any point outside this circle is not considered a member of the cluster.\n",
        "We can visualize this cluster model with the following function:"
      ]
    },
    {
      "cell_type": "code",
      "metadata": {
        "deletable": true,
        "editable": true,
        "id": "OfxGEbyBRF6a",
        "colab_type": "code",
        "colab": {}
      },
      "source": [
        "from sklearn.cluster import KMeans\n",
        "from scipy.spatial.distance import cdist\n",
        "\n",
        "def plot_kmeans(kmeans, X, n_clusters=4, rseed=0, ax=None):\n",
        "    labels = kmeans.fit_predict(X)\n",
        "\n",
        "    # plot the input data\n",
        "    ax = ax or plt.gca()\n",
        "    ax.axis('equal')\n",
        "    ax.scatter(X[:, 0], X[:, 1], c=labels, s=40, cmap='viridis', zorder=2)\n",
        "\n",
        "    # plot the representation of the KMeans model\n",
        "    centers = kmeans.cluster_centers_\n",
        "    radii = [cdist(X[labels == i], [center]).max()\n",
        "             for i, center in enumerate(centers)]\n",
        "    for c, r in zip(centers, radii):\n",
        "        ax.add_patch(plt.Circle(c, r, fc='#CCCCCC', lw=3, alpha=0.5, zorder=1))"
      ],
      "execution_count": 0,
      "outputs": []
    },
    {
      "cell_type": "code",
      "metadata": {
        "deletable": true,
        "editable": true,
        "id": "OCDou95FRF6c",
        "colab_type": "code",
        "colab": {}
      },
      "source": [
        "kmeans = KMeans(n_clusters=4, random_state=0)\n",
        "plot_kmeans(kmeans, X)"
      ],
      "execution_count": 0,
      "outputs": []
    },
    {
      "cell_type": "markdown",
      "metadata": {
        "deletable": true,
        "editable": true,
        "id": "nK6VTCpbRF6e",
        "colab_type": "text"
      },
      "source": [
        "An important observation for *k*-means is that these cluster models *must be circular*: *k*-means has no built-in way of accounting for oblong or elliptical clusters.\n",
        "So, for example, if we take the same data and transform it, the cluster assignments end up becoming muddled:"
      ]
    },
    {
      "cell_type": "code",
      "metadata": {
        "deletable": true,
        "editable": true,
        "id": "CDZUlwJkRF6f",
        "colab_type": "code",
        "colab": {}
      },
      "source": [
        "rng = np.random.RandomState(13)\n",
        "X_stretched = np.dot(X, rng.randn(2, 2))\n",
        "\n",
        "kmeans = KMeans(n_clusters=4, random_state=0)\n",
        "plot_kmeans(kmeans, X_stretched)"
      ],
      "execution_count": 0,
      "outputs": []
    },
    {
      "cell_type": "markdown",
      "metadata": {
        "deletable": true,
        "editable": true,
        "id": "kPkkwe4HRF6j",
        "colab_type": "text"
      },
      "source": [
        "By eye, we recognize that these transformed clusters are non-circular, and thus circular clusters would be a poor fit.\n",
        "Nevertheless, *k*-means is not flexible enough to account for this, and tries to force-fit the data into four circular clusters.\n",
        "This results in a mixing of cluster assignments where the resulting circles overlap: see especially the bottom-right of this plot.\n",
        "One might imagine addressing this particular situation by preprocessing the data with PCA, but in practice there is no guarantee that such a global operation will circularize the individual data.\n",
        "\n",
        "These two disadvantages of *k*-means—its lack of flexibility in cluster shape and lack of probabilistic cluster assignment—mean that for many datasets (especially low-dimensional datasets) it may not perform as well as you might hope.\n",
        "\n",
        "You might imagine addressing these weaknesses by generalizing the *k*-means model: for example, you could measure uncertainty in cluster assignment by comparing the distances of each point to *all* cluster centers, rather than focusing on just the closest.\n",
        "You might also imagine allowing the cluster boundaries to be ellipses rather than circles, so as to account for non-circular clusters.\n",
        "It turns out these are two essential components of a different type of clustering model, Gaussian mixture models."
      ]
    },
    {
      "cell_type": "markdown",
      "metadata": {
        "deletable": true,
        "editable": true,
        "id": "7Ml3HEkJRF6j",
        "colab_type": "text"
      },
      "source": [
        "## Generalizing E–M: Gaussian Mixture Models\n",
        "\n",
        "A Gaussian mixture model (GMM) attempts to find a mixture of multi-dimensional Gaussian probability distributions that best model any input dataset.\n",
        "In the simplest case, GMMs can be used for finding clusters in the same manner as *k*-means:"
      ]
    },
    {
      "cell_type": "code",
      "metadata": {
        "deletable": true,
        "editable": true,
        "id": "q9RGN6YIRF6k",
        "colab_type": "code",
        "colab": {}
      },
      "source": [
        "from sklearn.mixture import GaussianMixture as GMM\n",
        "gmm = GMM(n_components=4).fit(X)\n",
        "labels = gmm.predict(X)\n",
        "plt.scatter(X[:, 0], X[:, 1], c=labels, s=40, cmap='viridis');"
      ],
      "execution_count": 0,
      "outputs": []
    },
    {
      "cell_type": "markdown",
      "metadata": {
        "deletable": true,
        "editable": true,
        "id": "G47jDP4NRF6m",
        "colab_type": "text"
      },
      "source": [
        "But because GMM contains a probabilistic model under the hood, it is also possible to find probabilistic cluster assignments—in Scikit-Learn this is done using the ``predict_proba`` method.\n",
        "This returns a matrix of size ``[n_samples, n_clusters]`` which measures the probability that any point belongs to the given cluster:"
      ]
    },
    {
      "cell_type": "code",
      "metadata": {
        "deletable": true,
        "editable": true,
        "id": "jQ8cedHERF6m",
        "colab_type": "code",
        "colab": {}
      },
      "source": [
        "probs = gmm.predict_proba(X)\n",
        "print(probs[:5].round(3))"
      ],
      "execution_count": 0,
      "outputs": []
    },
    {
      "cell_type": "markdown",
      "metadata": {
        "deletable": true,
        "editable": true,
        "id": "1y98YXznRF6p",
        "colab_type": "text"
      },
      "source": [
        "We can visualize this uncertainty by, for example, making the size of each point proportional to the certainty of its prediction; looking at the following figure, we can see that it is precisely the points at the boundaries between clusters that reflect this uncertainty of cluster assignment:"
      ]
    },
    {
      "cell_type": "code",
      "metadata": {
        "deletable": true,
        "editable": true,
        "id": "3yD1q7_IRF6q",
        "colab_type": "code",
        "colab": {}
      },
      "source": [
        "size = 50 * probs.max(1) ** 2  # square emphasizes differences\n",
        "plt.scatter(X[:, 0], X[:, 1], c=labels, cmap='viridis', s=size);"
      ],
      "execution_count": 0,
      "outputs": []
    },
    {
      "cell_type": "markdown",
      "metadata": {
        "deletable": true,
        "editable": true,
        "id": "CZSktvGVRF6r",
        "colab_type": "text"
      },
      "source": [
        "Under the hood, a Gaussian mixture model is very similar to *k*-means: it uses an expectation–maximization approach which qualitatively does the following:\n",
        "\n",
        "1. Choose starting guesses for the location and shape\n",
        "\n",
        "2. Repeat until converged:\n",
        "\n",
        "   1. *E-step*: for each point, find weights encoding the probability of membership in each cluster\n",
        "   2. *M-step*: for each cluster, update its location, normalization, and shape based on *all* data points, making use of the weights\n",
        "\n",
        "The result of this is that each cluster is associated not with a hard-edged sphere, but with a smooth Gaussian model.\n",
        "Just as in the *k*-means expectation–maximization approach, this algorithm can sometimes miss the globally optimal solution, and thus in practice multiple random initializations are used.\n",
        "\n",
        "Let's create a function that will help us visualize the locations and shapes of the GMM clusters by drawing ellipses based on the GMM output:"
      ]
    },
    {
      "cell_type": "code",
      "metadata": {
        "deletable": true,
        "editable": true,
        "id": "v5So8K4HRF6s",
        "colab_type": "code",
        "colab": {}
      },
      "source": [
        "from matplotlib.patches import Ellipse\n",
        "\n",
        "def draw_ellipse(position, covariance, ax=None, **kwargs):\n",
        "    \"\"\"Draw an ellipse with a given position and covariance\"\"\"\n",
        "    ax = ax or plt.gca()\n",
        "    \n",
        "    # Convert covariance to principal axes\n",
        "    if covariance.shape == (2, 2):\n",
        "        U, s, Vt = np.linalg.svd(covariance)\n",
        "        angle = np.degrees(np.arctan2(U[1, 0], U[0, 0]))\n",
        "        width, height = 2 * np.sqrt(s)\n",
        "    else:\n",
        "        angle = 0\n",
        "        width, height = 2 * np.sqrt(covariance)\n",
        "    \n",
        "    # Draw the Ellipse\n",
        "    for nsig in range(1, 4):\n",
        "        ax.add_patch(Ellipse(position, nsig * width, nsig * height,\n",
        "                             angle, **kwargs))\n",
        "        \n",
        "def plot_gmm(gmm, X, label=True, ax=None):\n",
        "    ax = ax or plt.gca()\n",
        "    labels = gmm.fit(X).predict(X)\n",
        "    if label:\n",
        "        ax.scatter(X[:, 0], X[:, 1], c=labels, s=40, cmap='viridis', zorder=2)\n",
        "    else:\n",
        "        ax.scatter(X[:, 0], X[:, 1], s=40, zorder=2)\n",
        "    ax.axis('equal')\n",
        "    \n",
        "    w_factor = 0.2 / gmm.weights_.max()\n",
        "    for pos, covar, w in zip(gmm.means_, gmm.covariances_, gmm.weights_):\n",
        "        draw_ellipse(pos, covar, alpha=w * w_factor)"
      ],
      "execution_count": 0,
      "outputs": []
    },
    {
      "cell_type": "markdown",
      "metadata": {
        "deletable": true,
        "editable": true,
        "id": "uLvwQSNERF6u",
        "colab_type": "text"
      },
      "source": [
        "With this in place, we can take a look at what the four-component GMM gives us for our initial data:"
      ]
    },
    {
      "cell_type": "code",
      "metadata": {
        "deletable": true,
        "editable": true,
        "id": "QlJANHEXRF6u",
        "colab_type": "code",
        "colab": {}
      },
      "source": [
        "gmm = GMM(n_components=4, random_state=42)\n",
        "plot_gmm(gmm, X)"
      ],
      "execution_count": 0,
      "outputs": []
    },
    {
      "cell_type": "markdown",
      "metadata": {
        "deletable": true,
        "editable": true,
        "id": "laBbop1JRF6w",
        "colab_type": "text"
      },
      "source": [
        "Similarly, we can use the GMM approach to fit our stretched dataset; allowing for a full covariance the model will fit even very oblong, stretched-out clusters:"
      ]
    },
    {
      "cell_type": "code",
      "metadata": {
        "deletable": true,
        "editable": true,
        "id": "jvh6HfG5RF6x",
        "colab_type": "code",
        "colab": {}
      },
      "source": [
        "gmm = GMM(n_components=4, covariance_type='full', random_state=42)\n",
        "plot_gmm(gmm, X_stretched)"
      ],
      "execution_count": 0,
      "outputs": []
    },
    {
      "cell_type": "markdown",
      "metadata": {
        "deletable": true,
        "editable": true,
        "id": "SlmSDQpbRF6z",
        "colab_type": "text"
      },
      "source": [
        "This makes clear that GMM addresses the two main practical issues with *k*-means encountered before."
      ]
    },
    {
      "cell_type": "markdown",
      "metadata": {
        "deletable": true,
        "editable": true,
        "id": "_IZWdUHpRF6z",
        "colab_type": "text"
      },
      "source": [
        "### Choosing the covariance type\n",
        "\n",
        "If you look at the details of the preceding fits, you will see that the ``covariance_type`` option was set differently within each.\n",
        "This hyperparameter controls the degrees of freedom in the shape of each cluster; it is essential to set this carefully for any given problem.\n",
        "The default is ``covariance_type=\"diag\"``, which means that the size of the cluster along each dimension can be set independently, with the resulting ellipse constrained to align with the axes.\n",
        "A slightly simpler and faster model is ``covariance_type=\"spherical\"``, which constrains the shape of the cluster such that all dimensions are equal. The resulting clustering will have similar characteristics to that of *k*-means, though it is not entirely equivalent.\n",
        "A more complicated and computationally expensive model (especially as the number of dimensions grows) is to use ``covariance_type=\"full\"``, which allows each cluster to be modeled as an ellipse with arbitrary orientation.\n",
        "\n",
        "We can see a visual representation of these three choices for a single cluster within the following figure:"
      ]
    },
    {
      "cell_type": "markdown",
      "metadata": {
        "deletable": true,
        "editable": true,
        "id": "z6oZrzUIRF60",
        "colab_type": "text"
      },
      "source": [
        "![(Covariance Type)](https://github.com/jakevdp/PythonDataScienceHandbook/blob/master/notebooks/figures/05.12-covariance-type.png?raw=1)"
      ]
    },
    {
      "cell_type": "markdown",
      "metadata": {
        "deletable": true,
        "editable": true,
        "id": "5Ua6hmXVRF61",
        "colab_type": "text"
      },
      "source": [
        "## GMM as *Density Estimation*\n",
        "\n",
        "Though GMM is often categorized as a clustering algorithm, fundamentally it is an algorithm for *density estimation*.\n",
        "That is to say, the result of a GMM fit to some data is technically not a clustering model, but a generative probabilistic model describing the distribution of the data.\n",
        "\n",
        "As an example, consider some data generated from Scikit-Learn's ``make_moons`` function:"
      ]
    },
    {
      "cell_type": "code",
      "metadata": {
        "deletable": true,
        "editable": true,
        "id": "MwA44s0ORF62",
        "colab_type": "code",
        "colab": {}
      },
      "source": [
        "from sklearn.datasets import make_moons\n",
        "Xmoon, ymoon = make_moons(200, noise=.05, random_state=0)\n",
        "plt.scatter(Xmoon[:, 0], Xmoon[:, 1]);"
      ],
      "execution_count": 0,
      "outputs": []
    },
    {
      "cell_type": "markdown",
      "metadata": {
        "deletable": true,
        "editable": true,
        "id": "OPuRBP67RF64",
        "colab_type": "text"
      },
      "source": [
        "If we try to fit this with a two-component GMM viewed as a clustering model, the results are not particularly useful:"
      ]
    },
    {
      "cell_type": "code",
      "metadata": {
        "deletable": true,
        "editable": true,
        "id": "OZoiWGoPRF65",
        "colab_type": "code",
        "colab": {}
      },
      "source": [
        "gmm2 = GMM(n_components=2, covariance_type='full', random_state=0)\n",
        "plot_gmm(gmm2, Xmoon)"
      ],
      "execution_count": 0,
      "outputs": []
    },
    {
      "cell_type": "markdown",
      "metadata": {
        "deletable": true,
        "editable": true,
        "id": "Sf9Bd2OARF68",
        "colab_type": "text"
      },
      "source": [
        "But if we instead use many more components and ignore the cluster labels, we find a fit that is much closer to the input data:"
      ]
    },
    {
      "cell_type": "code",
      "metadata": {
        "deletable": true,
        "editable": true,
        "id": "padH68tlRF69",
        "colab_type": "code",
        "colab": {}
      },
      "source": [
        "gmm16 = GMM(n_components=16, covariance_type='full', random_state=0)\n",
        "plot_gmm(gmm16, Xmoon, label=False)"
      ],
      "execution_count": 0,
      "outputs": []
    },
    {
      "cell_type": "markdown",
      "metadata": {
        "deletable": true,
        "editable": true,
        "id": "oasywOYKRF7D",
        "colab_type": "text"
      },
      "source": [
        "GMM is convenient as a flexible means of modeling an arbitrary multi-dimensional distribution of data."
      ]
    },
    {
      "cell_type": "markdown",
      "metadata": {
        "deletable": true,
        "editable": true,
        "id": "tbzP972BRF7D",
        "colab_type": "text"
      },
      "source": [
        "### How many components?\n",
        "\n",
        "The fact that GMM is a generative model gives us a natural means of determining the optimal number of components for a given dataset.\n",
        "A generative model is inherently a probability distribution for the dataset, and so we can simply evaluate the *likelihood* of the data under the model, using cross-validation to avoid over-fitting.\n",
        "Another means of correcting for over-fitting is to adjust the model likelihoods using some analytic criterion such as the [Akaike information criterion (AIC)](https://en.wikipedia.org/wiki/Akaike_information_criterion) or the [Bayesian information criterion (BIC)](https://en.wikipedia.org/wiki/Bayesian_information_criterion).\n",
        "Scikit-Learn's ``GMM`` estimator actually includes built-in methods that compute both of these, and so it is very easy to operate on this approach.\n",
        "\n",
        "Let's look at the AIC and BIC as a function as the number of GMM components for our moon dataset:"
      ]
    },
    {
      "cell_type": "code",
      "metadata": {
        "deletable": true,
        "editable": true,
        "id": "zi14Pc4VRF7E",
        "colab_type": "code",
        "colab": {}
      },
      "source": [
        "n_components = np.arange(1, 21)\n",
        "models = [GMM(n, covariance_type='full', random_state=0).fit(Xmoon)\n",
        "          for n in n_components]\n",
        "\n",
        "plt.plot(n_components, [m.bic(Xmoon) for m in models], label='BIC')\n",
        "plt.plot(n_components, [m.aic(Xmoon) for m in models], label='AIC')\n",
        "plt.legend(loc='best')\n",
        "plt.xlabel('n_components');"
      ],
      "execution_count": 0,
      "outputs": []
    },
    {
      "cell_type": "markdown",
      "metadata": {
        "deletable": true,
        "editable": true,
        "id": "uJphmO6mRF7F",
        "colab_type": "text"
      },
      "source": [
        "The optimal number of clusters is the value that minimizes the AIC or BIC, depending on which approximation we wish to use. The AIC tells us that our choice of 16 components above was probably too many: around 8-12 components would have been a better choice.\n",
        "As is typical with this sort of problem, the BIC recommends a simpler model.\n",
        "\n",
        "Notice the important point: this choice of number of components measures how well GMM works *as a density estimator*, not how well it works *as a clustering algorithm*.\n",
        "I'd encourage you to think of GMM primarily as a density estimator, and use it for clustering only when warranted within simple datasets."
      ]
    },
    {
      "cell_type": "markdown",
      "metadata": {
        "deletable": true,
        "editable": true,
        "id": "qxriTncQRF7G",
        "colab_type": "text"
      },
      "source": [
        "## Example: GMM for Generating New Data\n",
        "\n",
        "We just saw a simple example of using GMM as a generative model of data in order to create new samples from the distribution defined by the input data.\n",
        "Here we will run with this idea and generate *new handwritten digits* from the standard digits corpus that we have used before.\n",
        "\n",
        "To start with, let's load the digits data using Scikit-Learn's data tools:"
      ]
    },
    {
      "cell_type": "code",
      "metadata": {
        "deletable": true,
        "editable": true,
        "id": "9YDgJvUzRF7H",
        "colab_type": "code",
        "colab": {}
      },
      "source": [
        "from sklearn.datasets import load_digits\n",
        "digits = load_digits()\n",
        "digits.data.shape"
      ],
      "execution_count": 0,
      "outputs": []
    },
    {
      "cell_type": "markdown",
      "metadata": {
        "deletable": true,
        "editable": true,
        "id": "xaKXPmvMRF7J",
        "colab_type": "text"
      },
      "source": [
        "Next let's plot the first 100 of these to recall exactly what we're looking at:"
      ]
    },
    {
      "cell_type": "code",
      "metadata": {
        "deletable": true,
        "editable": true,
        "id": "gy7cTpKKRF7J",
        "colab_type": "code",
        "colab": {}
      },
      "source": [
        "def plot_digits(data):\n",
        "    fig, ax = plt.subplots(10, 10, figsize=(8, 8),\n",
        "                           subplot_kw=dict(xticks=[], yticks=[]))\n",
        "    fig.subplots_adjust(hspace=0.05, wspace=0.05)\n",
        "    for i, axi in enumerate(ax.flat):\n",
        "        im = axi.imshow(data[i].reshape(8, 8), cmap='binary')\n",
        "        im.set_clim(0, 16)\n",
        "plot_digits(digits.data)"
      ],
      "execution_count": 0,
      "outputs": []
    },
    {
      "cell_type": "markdown",
      "metadata": {
        "deletable": true,
        "editable": true,
        "id": "7NpZRSXYRF7L",
        "colab_type": "text"
      },
      "source": [
        "We have nearly 1,800 digits in 64 dimensions, and we can build a GMM on top of these to generate more.\n",
        "GMMs can have difficulty converging in such a high dimensional space, so we will start with an invertible dimensionality reduction algorithm on the data.\n",
        "Here we will use a straightforward PCA, asking it to preserve 99% of the variance in the projected data:"
      ]
    },
    {
      "cell_type": "code",
      "metadata": {
        "deletable": true,
        "editable": true,
        "id": "g_4y3jjwRF7M",
        "colab_type": "code",
        "colab": {}
      },
      "source": [
        "from sklearn.decomposition import PCA\n",
        "pca = PCA(0.99, whiten=True)\n",
        "data = pca.fit_transform(digits.data)\n",
        "data.shape"
      ],
      "execution_count": 0,
      "outputs": []
    },
    {
      "cell_type": "markdown",
      "metadata": {
        "deletable": true,
        "editable": true,
        "id": "DEp15OQBRF7N",
        "colab_type": "text"
      },
      "source": [
        "The result is 41 dimensions, a reduction of nearly 1/3 with almost no information loss.\n",
        "Given this projected data, let's use the AIC to get a gauge for the number of GMM components we should use:"
      ]
    },
    {
      "cell_type": "code",
      "metadata": {
        "deletable": true,
        "editable": true,
        "id": "fshw-HaxRF7P",
        "colab_type": "code",
        "colab": {}
      },
      "source": [
        "n_components = np.arange(50, 210, 10)\n",
        "models = [GMM(n, covariance_type='full', random_state=0)\n",
        "          for n in n_components]\n",
        "aics = [model.fit(data).aic(data) for model in models]\n",
        "plt.plot(n_components, aics);"
      ],
      "execution_count": 0,
      "outputs": []
    },
    {
      "cell_type": "markdown",
      "metadata": {
        "deletable": true,
        "editable": true,
        "id": "uOZtpusuRF7Q",
        "colab_type": "text"
      },
      "source": [
        "It appears that around 110 components minimizes the AIC; we will use this model.\n",
        "Let's quickly fit this to the data and confirm that it has converged:"
      ]
    },
    {
      "cell_type": "code",
      "metadata": {
        "deletable": true,
        "editable": true,
        "id": "5np795tWRF7R",
        "colab_type": "code",
        "colab": {}
      },
      "source": [
        "gmm = GMM(110, covariance_type='full', random_state=0)\n",
        "gmm.fit(data)\n",
        "print(gmm.converged_)"
      ],
      "execution_count": 0,
      "outputs": []
    }
  ]
}