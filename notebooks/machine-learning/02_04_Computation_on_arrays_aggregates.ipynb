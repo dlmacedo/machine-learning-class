{
  "nbformat": 4,
  "nbformat_minor": 0,
  "metadata": {
    "anaconda-cloud": {},
    "kernelspec": {
      "display_name": "Python 3",
      "language": "python",
      "name": "python3"
    },
    "language_info": {
      "codemirror_mode": {
        "name": "ipython",
        "version": 3
      },
      "file_extension": ".py",
      "mimetype": "text/x-python",
      "name": "python",
      "nbconvert_exporter": "python",
      "pygments_lexer": "ipython3",
      "version": "3.5.1"
    },
    "colab": {
      "name": "02.04-Computation-on-arrays-aggregates.ipynb",
      "provenance": [],
      "include_colab_link": true
    }
  },
  "cells": [
    {
      "cell_type": "markdown",
      "metadata": {
        "id": "view-in-github",
        "colab_type": "text"
      },
      "source": [
        "<a href=\"https://colab.research.google.com/github/dlmacedo/maxtrack/blob/master/notebooks/machine-learning/02_04_Computation_on_arrays_aggregates.ipynb\" target=\"_parent\"><img src=\"https://colab.research.google.com/assets/colab-badge.svg\" alt=\"Open In Colab\"/></a>"
      ]
    },
    {
      "cell_type": "markdown",
      "metadata": {
        "id": "cWn4KYt14nCz",
        "colab_type": "text"
      },
      "source": [
        "# Aggregations: Min, Max, and Everything In Between"
      ]
    },
    {
      "cell_type": "markdown",
      "metadata": {
        "id": "msnGnOTm4nC0",
        "colab_type": "text"
      },
      "source": [
        "Often when faced with a large amount of data, a first step is to compute summary statistics for the data in question.\n",
        "Perhaps the most common summary statistics are the mean and standard deviation, which allow you to summarize the \"typical\" values in a dataset, but other aggregates are useful as well (the sum, product, median, minimum and maximum, quantiles, etc.).\n",
        "\n",
        "NumPy has fast built-in aggregation functions for working on arrays; we'll discuss and demonstrate some of them here."
      ]
    },
    {
      "cell_type": "markdown",
      "metadata": {
        "id": "xN84X_y84nC1",
        "colab_type": "text"
      },
      "source": [
        "## Summing the Values in an Array\n",
        "\n",
        "As a quick example, consider computing the sum of all values in an array.\n",
        "Python itself can do this using the built-in ``sum`` function:"
      ]
    },
    {
      "cell_type": "code",
      "metadata": {
        "id": "drGXnfid4nC2",
        "colab_type": "code",
        "colab": {}
      },
      "source": [
        "import numpy as np"
      ],
      "execution_count": 0,
      "outputs": []
    },
    {
      "cell_type": "code",
      "metadata": {
        "id": "3I4j-P4Z4nC7",
        "colab_type": "code",
        "colab": {}
      },
      "source": [
        "L = np.random.random(100)\n",
        "sum(L)"
      ],
      "execution_count": 0,
      "outputs": []
    },
    {
      "cell_type": "markdown",
      "metadata": {
        "id": "GapZbr3l4nC_",
        "colab_type": "text"
      },
      "source": [
        "The syntax is quite similar to that of NumPy's ``sum`` function, and the result is the same in the simplest case:"
      ]
    },
    {
      "cell_type": "code",
      "metadata": {
        "id": "sIpYNO-Z4nDA",
        "colab_type": "code",
        "colab": {}
      },
      "source": [
        "np.sum(L)"
      ],
      "execution_count": 0,
      "outputs": []
    },
    {
      "cell_type": "markdown",
      "metadata": {
        "id": "aX8iqh2-4nDE",
        "colab_type": "text"
      },
      "source": [
        "However, because it executes the operation in compiled code, NumPy's version of the operation is computed much more quickly:"
      ]
    },
    {
      "cell_type": "code",
      "metadata": {
        "id": "OEpEZkvs4nDF",
        "colab_type": "code",
        "colab": {}
      },
      "source": [
        "big_array = np.random.rand(1000000)\n",
        "%timeit sum(big_array)\n",
        "%timeit np.sum(big_array)"
      ],
      "execution_count": 0,
      "outputs": []
    },
    {
      "cell_type": "markdown",
      "metadata": {
        "id": "Qena3bpE4nDI",
        "colab_type": "text"
      },
      "source": [
        "Be careful, though: the ``sum`` function and the ``np.sum`` function are not identical, which can sometimes lead to confusion!\n",
        "In particular, their optional arguments have different meanings, and ``np.sum`` is aware of multiple array dimensions, as we will see in the following section."
      ]
    },
    {
      "cell_type": "markdown",
      "metadata": {
        "id": "rgIdS8oN4nDJ",
        "colab_type": "text"
      },
      "source": [
        "## Minimum and Maximum\n",
        "\n",
        "Similarly, Python has built-in ``min`` and ``max`` functions, used to find the minimum value and maximum value of any given array:"
      ]
    },
    {
      "cell_type": "code",
      "metadata": {
        "id": "US5oYNQE4nDL",
        "colab_type": "code",
        "colab": {}
      },
      "source": [
        "min(big_array), max(big_array)"
      ],
      "execution_count": 0,
      "outputs": []
    },
    {
      "cell_type": "markdown",
      "metadata": {
        "id": "mxzfI3TX4nDO",
        "colab_type": "text"
      },
      "source": [
        "NumPy's corresponding functions have similar syntax, and again operate much more quickly:"
      ]
    },
    {
      "cell_type": "code",
      "metadata": {
        "id": "4l-1vwKm4nDP",
        "colab_type": "code",
        "colab": {}
      },
      "source": [
        "np.min(big_array), np.max(big_array)"
      ],
      "execution_count": 0,
      "outputs": []
    },
    {
      "cell_type": "code",
      "metadata": {
        "id": "uYIvXgkq4nDS",
        "colab_type": "code",
        "colab": {}
      },
      "source": [
        "%timeit min(big_array)\n",
        "%timeit np.min(big_array)"
      ],
      "execution_count": 0,
      "outputs": []
    },
    {
      "cell_type": "markdown",
      "metadata": {
        "id": "pE03em4-4nDW",
        "colab_type": "text"
      },
      "source": [
        "For ``min``, ``max``, ``sum``, and several other NumPy aggregates, a shorter syntax is to use methods of the array object itself:"
      ]
    },
    {
      "cell_type": "code",
      "metadata": {
        "id": "-bpuDK4r4nDX",
        "colab_type": "code",
        "colab": {}
      },
      "source": [
        "print(big_array.min(), big_array.max(), big_array.sum())"
      ],
      "execution_count": 0,
      "outputs": []
    },
    {
      "cell_type": "markdown",
      "metadata": {
        "id": "bGYaO9yF4nDa",
        "colab_type": "text"
      },
      "source": [
        "Whenever possible, make sure that you are using the NumPy version of these aggregates when operating on NumPy arrays!"
      ]
    },
    {
      "cell_type": "markdown",
      "metadata": {
        "id": "vWQN1KB44nDb",
        "colab_type": "text"
      },
      "source": [
        "### Multi dimensional aggregates\n",
        "\n",
        "One common type of aggregation operation is an aggregate along a row or column.\n",
        "Say you have some data stored in a two-dimensional array:"
      ]
    },
    {
      "cell_type": "code",
      "metadata": {
        "id": "2J7JT46T4nDc",
        "colab_type": "code",
        "colab": {}
      },
      "source": [
        "M = np.random.random((3, 4))\n",
        "print(M)"
      ],
      "execution_count": 0,
      "outputs": []
    },
    {
      "cell_type": "markdown",
      "metadata": {
        "id": "uItvc2Oh4nDg",
        "colab_type": "text"
      },
      "source": [
        "By default, each NumPy aggregation function will return the aggregate over the entire array:"
      ]
    },
    {
      "cell_type": "code",
      "metadata": {
        "id": "2Dl9Uy9I4nDh",
        "colab_type": "code",
        "colab": {}
      },
      "source": [
        "M.sum()"
      ],
      "execution_count": 0,
      "outputs": []
    },
    {
      "cell_type": "markdown",
      "metadata": {
        "id": "H7tFF-nK4nDk",
        "colab_type": "text"
      },
      "source": [
        "Aggregation functions take an additional argument specifying the *axis* along which the aggregate is computed. For example, we can find the minimum value within each column by specifying ``axis=0``:"
      ]
    },
    {
      "cell_type": "code",
      "metadata": {
        "id": "N045pypC4nDl",
        "colab_type": "code",
        "colab": {}
      },
      "source": [
        "M.min(axis=0)"
      ],
      "execution_count": 0,
      "outputs": []
    },
    {
      "cell_type": "markdown",
      "metadata": {
        "id": "hljStccv4nDp",
        "colab_type": "text"
      },
      "source": [
        "The function returns four values, corresponding to the four columns of numbers.\n",
        "\n",
        "Similarly, we can find the maximum value within each row:"
      ]
    },
    {
      "cell_type": "code",
      "metadata": {
        "id": "x4dPSjEk4nDq",
        "colab_type": "code",
        "colab": {}
      },
      "source": [
        "M.max(axis=1)"
      ],
      "execution_count": 0,
      "outputs": []
    },
    {
      "cell_type": "markdown",
      "metadata": {
        "id": "hSyDcG8a4nDt",
        "colab_type": "text"
      },
      "source": [
        "The way the axis is specified here can be confusing to users coming from other languages.\n",
        "The ``axis`` keyword specifies the *dimension of the array that will be collapsed*, rather than the dimension that will be returned.\n",
        "So specifying ``axis=0`` means that the first axis will be collapsed: for two-dimensional arrays, this means that values within each column will be aggregated."
      ]
    },
    {
      "cell_type": "markdown",
      "metadata": {
        "id": "412Xnzi94nDu",
        "colab_type": "text"
      },
      "source": [
        "### Other aggregation functions\n",
        "\n",
        "NumPy provides many other aggregation functions, but we won't discuss them in detail here.\n",
        "Additionally, most aggregates have a ``NaN``-safe counterpart that computes the result while ignoring missing values, which are marked by the special IEEE floating-point ``NaN`` value.\n",
        "Some of these ``NaN``-safe functions were not added until NumPy 1.8, so they will not be available in older NumPy versions.\n",
        "\n",
        "The following table provides a list of useful aggregation functions available in NumPy:\n",
        "\n",
        "|Function Name      |   NaN-safe Version  | Description                                   |\n",
        "|-------------------|---------------------|-----------------------------------------------|\n",
        "| ``np.sum``        | ``np.nansum``       | Compute sum of elements                       |\n",
        "| ``np.prod``       | ``np.nanprod``      | Compute product of elements                   |\n",
        "| ``np.mean``       | ``np.nanmean``      | Compute mean of elements                      |\n",
        "| ``np.std``        | ``np.nanstd``       | Compute standard deviation                    |\n",
        "| ``np.var``        | ``np.nanvar``       | Compute variance                              |\n",
        "| ``np.min``        | ``np.nanmin``       | Find minimum value                            |\n",
        "| ``np.max``        | ``np.nanmax``       | Find maximum value                            |\n",
        "| ``np.argmin``     | ``np.nanargmin``    | Find index of minimum value                   |\n",
        "| ``np.argmax``     | ``np.nanargmax``    | Find index of maximum value                   |\n",
        "| ``np.median``     | ``np.nanmedian``    | Compute median of elements                    |\n",
        "| ``np.percentile`` | ``np.nanpercentile``| Compute rank-based statistics of elements     |\n",
        "| ``np.any``        | N/A                 | Evaluate whether any elements are true        |\n",
        "| ``np.all``        | N/A                 | Evaluate whether all elements are true        |\n",
        "\n",
        "We will see these aggregates often throughout the rest of the book."
      ]
    },
    {
      "cell_type": "markdown",
      "metadata": {
        "id": "Ma-63a8T4nDv",
        "colab_type": "text"
      },
      "source": [
        "## Example: What is the Average Height of US Presidents?"
      ]
    },
    {
      "cell_type": "markdown",
      "metadata": {
        "id": "hOzYCZDo4nDw",
        "colab_type": "text"
      },
      "source": [
        "Aggregates available in NumPy can be extremely useful for summarizing a set of values.\n",
        "As a simple example, let's consider the heights of all US presidents.\n",
        "This data is available in the file *president_heights.csv*, which is a simple comma-separated list of labels and values:"
      ]
    },
    {
      "cell_type": "code",
      "metadata": {
        "id": "4eHYHX-D4nDx",
        "colab_type": "code",
        "colab": {}
      },
      "source": [
        "!wget \"https://raw.githubusercontent.com/jakevdp/PythonDataScienceHandbook/master/notebooks/data/president_heights.csv\""
      ],
      "execution_count": 0,
      "outputs": []
    },
    {
      "cell_type": "markdown",
      "metadata": {
        "id": "7mXYu9vF4nD1",
        "colab_type": "text"
      },
      "source": [
        "We'll use the Pandas package, which we'll explore more fully later, to read the file and extract this information (note that the heights are measured in centimeters)."
      ]
    },
    {
      "cell_type": "code",
      "metadata": {
        "id": "G2XVH9Dh4nD2",
        "colab_type": "code",
        "colab": {}
      },
      "source": [
        "import pandas as pd\n",
        "data = pd.read_csv('president_heights.csv')\n",
        "print(data.head())\n",
        "heights = np.array(data['height(cm)'])\n",
        "print()\n",
        "print(heights)"
      ],
      "execution_count": 0,
      "outputs": []
    },
    {
      "cell_type": "markdown",
      "metadata": {
        "id": "BYFHt9BM4nD6",
        "colab_type": "text"
      },
      "source": [
        "Now that we have this data array, we can compute a variety of summary statistics:"
      ]
    },
    {
      "cell_type": "code",
      "metadata": {
        "id": "1Lk_80-54nD9",
        "colab_type": "code",
        "colab": {}
      },
      "source": [
        "print(\"Mean height:       \", heights.mean())\n",
        "print(\"Standard deviation:\", heights.std())\n",
        "print(\"Minimum height:    \", heights.min())\n",
        "print(\"Maximum height:    \", heights.max())"
      ],
      "execution_count": 0,
      "outputs": []
    },
    {
      "cell_type": "markdown",
      "metadata": {
        "id": "MhFhkjlo4nEB",
        "colab_type": "text"
      },
      "source": [
        "Note that in each case, the aggregation operation reduced the entire array to a single summarizing value, which gives us information about the distribution of values.\n",
        "We may also wish to compute quantiles:"
      ]
    },
    {
      "cell_type": "code",
      "metadata": {
        "id": "GtTvhrVj4nEC",
        "colab_type": "code",
        "colab": {}
      },
      "source": [
        "print(\"25th percentile:   \", np.percentile(heights, 25))\n",
        "print(\"Median:            \", np.median(heights))\n",
        "print(\"75th percentile:   \", np.percentile(heights, 75))"
      ],
      "execution_count": 0,
      "outputs": []
    },
    {
      "cell_type": "markdown",
      "metadata": {
        "id": "-GivHS2r4nEF",
        "colab_type": "text"
      },
      "source": [
        "We see that the median height of US presidents is 182 cm, or just shy of six feet.\n",
        "\n",
        "Of course, sometimes it's more useful to see a visual representation of this data, which we can accomplish using tools in Matplotlib. For example, this code generates the following chart:"
      ]
    },
    {
      "cell_type": "code",
      "metadata": {
        "id": "TZfdmMGv4nEG",
        "colab_type": "code",
        "colab": {}
      },
      "source": [
        "%matplotlib inline\n",
        "import matplotlib.pyplot as plt\n",
        "import seaborn; seaborn.set()  # set plot style"
      ],
      "execution_count": 0,
      "outputs": []
    },
    {
      "cell_type": "code",
      "metadata": {
        "id": "iYbAfbeI4nEJ",
        "colab_type": "code",
        "colab": {}
      },
      "source": [
        "plt.hist(heights)\n",
        "plt.title('Height Distribution of US Presidents')\n",
        "plt.xlabel('height (cm)')\n",
        "plt.ylabel('number');"
      ],
      "execution_count": 0,
      "outputs": []
    },
    {
      "cell_type": "markdown",
      "metadata": {
        "id": "nqDm43vY4nEO",
        "colab_type": "text"
      },
      "source": [
        "These aggregates are some of the fundamental pieces of exploratory data analysis that we'll explore in more depth later."
      ]
    }
  ]
}