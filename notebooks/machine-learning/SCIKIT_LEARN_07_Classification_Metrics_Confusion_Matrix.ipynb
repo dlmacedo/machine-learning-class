{
  "nbformat": 4,
  "nbformat_minor": 0,
  "metadata": {
    "kernelspec": {
      "display_name": "Python 3",
      "language": "python",
      "name": "python3"
    },
    "language_info": {
      "codemirror_mode": {
        "name": "ipython",
        "version": 3
      },
      "file_extension": ".py",
      "mimetype": "text/x-python",
      "name": "python",
      "nbconvert_exporter": "python",
      "pygments_lexer": "ipython3",
      "version": "3.6.5"
    },
    "colab": {
      "name": "SCIKIT_LEARN_07_Classification_Metrics_Confusion_Matrix.ipynb",
      "provenance": [],
      "include_colab_link": true
    }
  },
  "cells": [
    {
      "cell_type": "markdown",
      "metadata": {
        "id": "view-in-github",
        "colab_type": "text"
      },
      "source": [
        "<a href=\"https://colab.research.google.com/github/dlmacedo/maxtrack/blob/master/notebooks/machine-learning/SCIKIT_LEARN_07_Classification_Metrics_Confusion_Matrix.ipynb\" target=\"_parent\"><img src=\"https://colab.research.google.com/assets/colab-badge.svg\" alt=\"Open In Colab\"/></a>"
      ]
    },
    {
      "cell_type": "markdown",
      "metadata": {
        "id": "uVP4mX7zbOm5",
        "colab_type": "text"
      },
      "source": [
        "# Evaluating a classification model: Confusion matrix\n",
        "\n",
        "Created by [Data School](http://www.dataschool.io/). Modified by [David Macêdo](https://github.com/dlmacedo). **Note:** This notebook uses Python 3.6 and scikit-learn 0.19.1."
      ]
    },
    {
      "cell_type": "markdown",
      "metadata": {
        "id": "D2cJpnpzbOm8",
        "colab_type": "text"
      },
      "source": [
        "## Agenda\n",
        "\n",
        "- How does a **confusion matrix** describe the performance of a classifier?\n",
        "- What **metrics** can be computed from a confusion matrix?\n"
      ]
    },
    {
      "cell_type": "markdown",
      "metadata": {
        "id": "NpGwVpmLbOm9",
        "colab_type": "text"
      },
      "source": [
        "## Review of model evaluation\n",
        "\n",
        "- Need a way to choose between models: different model types, tuning parameters, and features\n",
        "- Use a **model evaluation procedure** to estimate how well a model will generalize to out-of-sample data\n",
        "- Requires a **model evaluation metric** to quantify the model performance"
      ]
    },
    {
      "cell_type": "markdown",
      "metadata": {
        "id": "H2ppIyM4bOm-",
        "colab_type": "text"
      },
      "source": [
        "### Model evaluation procedures\n",
        "\n",
        "1. **Training and testing on the same data**\n",
        "    - Rewards overly complex models that \"overfit\" the training data and won't necessarily generalize\n",
        "2. **Train/test split**\n",
        "    - Split the dataset into two pieces, so that the model can be trained and tested on different data\n",
        "    - Better estimate of out-of-sample performance, but still a \"high variance\" estimate\n",
        "    - Useful due to its speed, simplicity, and flexibility\n",
        "3. **K-fold cross-validation**\n",
        "    - Systematically create \"K\" train/test splits and average the results together\n",
        "    - Even better estimate of out-of-sample performance\n",
        "    - Runs \"K\" times slower than train/test split"
      ]
    },
    {
      "cell_type": "markdown",
      "metadata": {
        "id": "OvjhEtJobOnf",
        "colab_type": "text"
      },
      "source": [
        "## Confusion matrix\n",
        "\n",
        "Table that describes the performance of a classification model"
      ]
    },
    {
      "cell_type": "code",
      "metadata": {
        "id": "FdItD0F5bOnf",
        "colab_type": "code",
        "colab": {}
      },
      "source": [
        "# IMPORTANT: first argument is true values, second argument is predicted values\n",
        "print(metrics.confusion_matrix(y_test, y_pred_class))"
      ],
      "execution_count": 0,
      "outputs": []
    },
    {
      "cell_type": "markdown",
      "metadata": {
        "id": "J52HZhoWbOnj",
        "colab_type": "text"
      },
      "source": [
        "![Small confusion matrix](https://github.com/justmarkham/scikit-learn-videos/blob/master/images/09_confusion_matrix_1.png?raw=1)"
      ]
    },
    {
      "cell_type": "markdown",
      "metadata": {
        "id": "GvmQYzfRbOnk",
        "colab_type": "text"
      },
      "source": [
        "- Every observation in the testing set is represented in **exactly one box**\n",
        "- It's a 2x2 matrix because there are **2 response classes**\n",
        "- The format shown here is **not** universal"
      ]
    },
    {
      "cell_type": "markdown",
      "metadata": {
        "id": "Xu7qmxw6bOnk",
        "colab_type": "text"
      },
      "source": [
        "**Basic terminology**\n",
        "\n",
        "- **True Positives (TP):** we *correctly* predicted that they *do* have diabetes\n",
        "- **True Negatives (TN):** we *correctly* predicted that they *don't* have diabetes\n",
        "- **False Positives (FP):** we *incorrectly* predicted that they *do* have diabetes (a \"Type I error\")\n",
        "- **False Negatives (FN):** we *incorrectly* predicted that they *don't* have diabetes (a \"Type II error\")"
      ]
    },
    {
      "cell_type": "code",
      "metadata": {
        "id": "9YDwKevXbOnl",
        "colab_type": "code",
        "colab": {}
      },
      "source": [
        "# print the first 25 true and predicted responses\n",
        "print('True:', y_test.values[0:25])\n",
        "print('Pred:', y_pred_class[0:25])"
      ],
      "execution_count": 0,
      "outputs": []
    },
    {
      "cell_type": "code",
      "metadata": {
        "id": "fdTlkGVGbOnm",
        "colab_type": "code",
        "colab": {}
      },
      "source": [
        "# save confusion matrix and slice into four pieces\n",
        "confusion = metrics.confusion_matrix(y_test, y_pred_class)\n",
        "TP = confusion[1, 1]\n",
        "TN = confusion[0, 0]\n",
        "FP = confusion[0, 1]\n",
        "FN = confusion[1, 0]"
      ],
      "execution_count": 0,
      "outputs": []
    },
    {
      "cell_type": "markdown",
      "metadata": {
        "id": "BaLCc5s-bOnq",
        "colab_type": "text"
      },
      "source": [
        "![Large confusion matrix](https://github.com/justmarkham/scikit-learn-videos/blob/master/images/09_confusion_matrix_2.png?raw=1)"
      ]
    },
    {
      "cell_type": "markdown",
      "metadata": {
        "id": "2n3sD2JKbOnq",
        "colab_type": "text"
      },
      "source": [
        "## Metrics computed from a confusion matrix"
      ]
    },
    {
      "cell_type": "markdown",
      "metadata": {
        "id": "3Sdrz8yCbOnr",
        "colab_type": "text"
      },
      "source": [
        "**Classification Accuracy:** Overall, how often is the classifier correct?"
      ]
    },
    {
      "cell_type": "code",
      "metadata": {
        "id": "hsBzR7R9bOns",
        "colab_type": "code",
        "colab": {}
      },
      "source": [
        "print((TP + TN) / float(TP + TN + FP + FN))\n",
        "print(metrics.accuracy_score(y_test, y_pred_class))"
      ],
      "execution_count": 0,
      "outputs": []
    },
    {
      "cell_type": "markdown",
      "metadata": {
        "id": "Q2MFiowObOnt",
        "colab_type": "text"
      },
      "source": [
        "**Classification Error:** Overall, how often is the classifier incorrect?\n",
        "\n",
        "- Also known as \"Misclassification Rate\""
      ]
    },
    {
      "cell_type": "code",
      "metadata": {
        "id": "luDzq_DqbOnu",
        "colab_type": "code",
        "colab": {}
      },
      "source": [
        "print((FP + FN) / float(TP + TN + FP + FN))\n",
        "print(1 - metrics.accuracy_score(y_test, y_pred_class))"
      ],
      "execution_count": 0,
      "outputs": []
    },
    {
      "cell_type": "markdown",
      "metadata": {
        "id": "Fvz27hidbOnv",
        "colab_type": "text"
      },
      "source": [
        "**Sensitivity:** When the actual value is positive, how often is the prediction correct?\n",
        "\n",
        "- How \"sensitive\" is the classifier to detecting positive instances?\n",
        "- Also known as \"True Positive Rate\" or \"Recall\""
      ]
    },
    {
      "cell_type": "code",
      "metadata": {
        "id": "s5Oiw-MCbOnw",
        "colab_type": "code",
        "colab": {}
      },
      "source": [
        "print(TP / float(TP + FN))\n",
        "print(metrics.recall_score(y_test, y_pred_class))"
      ],
      "execution_count": 0,
      "outputs": []
    },
    {
      "cell_type": "markdown",
      "metadata": {
        "id": "LSW_Yhk6bOnx",
        "colab_type": "text"
      },
      "source": [
        "**Specificity:** When the actual value is negative, how often is the prediction correct?\n",
        "\n",
        "- How \"specific\" (or \"selective\") is the classifier in predicting positive instances?"
      ]
    },
    {
      "cell_type": "code",
      "metadata": {
        "id": "HgpwmJf2bOny",
        "colab_type": "code",
        "colab": {}
      },
      "source": [
        "print(TN / float(TN + FP))"
      ],
      "execution_count": 0,
      "outputs": []
    },
    {
      "cell_type": "markdown",
      "metadata": {
        "id": "0mZyJGdsbOnz",
        "colab_type": "text"
      },
      "source": [
        "**False Positive Rate:** When the actual value is negative, how often is the prediction incorrect?"
      ]
    },
    {
      "cell_type": "code",
      "metadata": {
        "id": "x3vwj0CNbOn0",
        "colab_type": "code",
        "colab": {}
      },
      "source": [
        "print(FP / float(TN + FP))"
      ],
      "execution_count": 0,
      "outputs": []
    },
    {
      "cell_type": "markdown",
      "metadata": {
        "id": "n8LvTLnCbOn1",
        "colab_type": "text"
      },
      "source": [
        "**Precision:** When a positive value is predicted, how often is the prediction correct?\n",
        "\n",
        "- How \"precise\" is the classifier when predicting positive instances?"
      ]
    },
    {
      "cell_type": "code",
      "metadata": {
        "id": "eu6f_g9zbOn2",
        "colab_type": "code",
        "colab": {}
      },
      "source": [
        "print(TP / float(TP + FP))\n",
        "print(metrics.precision_score(y_test, y_pred_class))"
      ],
      "execution_count": 0,
      "outputs": []
    },
    {
      "cell_type": "markdown",
      "metadata": {
        "id": "ZkI4hojlbOn3",
        "colab_type": "text"
      },
      "source": [
        "Many other metrics can be computed: F1 score, Matthews correlation coefficient, etc."
      ]
    },
    {
      "cell_type": "markdown",
      "metadata": {
        "id": "1OkJLHsxbOn4",
        "colab_type": "text"
      },
      "source": [
        "**Conclusion:**\n",
        "\n",
        "- Confusion matrix gives you a **more complete picture** of how your classifier is performing\n",
        "- Also allows you to compute various **classification metrics**, and these metrics can guide your model selection\n",
        "\n",
        "**Which metrics should you focus on?**\n",
        "\n",
        "- Choice of metric depends on your **business objective**\n",
        "- **Spam filter** (positive class is \"spam\"): Optimize for **precision or specificity** because false negatives (spam goes to the inbox) are more acceptable than false positives (non-spam is caught by the spam filter)\n",
        "- **Fraudulent transaction detector** (positive class is \"fraud\"): Optimize for **sensitivity** because false positives (normal transactions that are flagged as possible fraud) are more acceptable than false negatives (fraudulent transactions that are not detected)"
      ]
    },
    {
      "cell_type": "markdown",
      "metadata": {
        "id": "7a_nxH55bOoe",
        "colab_type": "text"
      },
      "source": [
        "## Confusion Matrix Resources\n",
        "\n",
        "- Blog post: [Simple guide to confusion matrix terminology](http://www.dataschool.io/simple-guide-to-confusion-matrix-terminology/)\n",
        "- Videos: [Intuitive sensitivity and specificity](https://www.youtube.com/watch?v=U4_3fditnWg) (9 minutes) and [The tradeoff between sensitivity and specificity](https://www.youtube.com/watch?v=vtYDyGGeQyo) (13 minutes) by Rahul Patwari\n",
        "- Notebook: [How to calculate \"expected value\"](https://github.com/podopie/DAT18NYC/blob/master/classes/13-expected_value_cost_benefit_analysis.ipynb) from a confusion matrix by treating it as a cost-benefit matrix (by Ed Podojil)\n",
        "\n"
      ]
    }
  ]
}