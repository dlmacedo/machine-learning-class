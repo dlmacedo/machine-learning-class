{
  "nbformat": 4,
  "nbformat_minor": 0,
  "metadata": {
    "hide_input": false,
    "kernelspec": {
      "display_name": "Python 3",
      "language": "python",
      "name": "python3"
    },
    "language_info": {
      "codemirror_mode": {
        "name": "ipython",
        "version": 3
      },
      "file_extension": ".py",
      "mimetype": "text/x-python",
      "name": "python",
      "nbconvert_exporter": "python",
      "pygments_lexer": "ipython3",
      "version": "3.7.0"
    },
    "toc": {
      "base_numbering": 1,
      "nav_menu": {},
      "number_sections": true,
      "sideBar": true,
      "skip_h1_title": false,
      "title_cell": "Table of Contents",
      "title_sidebar": "Contents",
      "toc_cell": false,
      "toc_position": {
        "height": "677px",
        "left": "0px",
        "right": "1111px",
        "top": "43px",
        "width": "340px"
      },
      "toc_section_display": "block",
      "toc_window_display": true
    },
    "varInspector": {
      "cols": {
        "lenName": 16,
        "lenType": 16,
        "lenVar": 40
      },
      "kernels_config": {
        "python": {
          "delete_cmd_postfix": "",
          "delete_cmd_prefix": "del ",
          "library": "var_list.py",
          "varRefreshCmd": "print(var_dic_list())"
        },
        "r": {
          "delete_cmd_postfix": ") ",
          "delete_cmd_prefix": "rm(",
          "library": "var_list.r",
          "varRefreshCmd": "cat(var_dic_list()) "
        }
      },
      "types_to_exclude": [
        "module",
        "function",
        "builtin_function_or_method",
        "instance",
        "_Feature"
      ],
      "window_display": false
    },
    "colab": {
      "name": "RECOMMENDED_Python_Variables-Data_Structures-Control_Logic.ipynb",
      "provenance": [],
      "include_colab_link": true
    }
  },
  "cells": [
    {
      "cell_type": "markdown",
      "metadata": {
        "id": "view-in-github",
        "colab_type": "text"
      },
      "source": [
        "<a href=\"https://colab.research.google.com/github/dlmacedo/maxtrack/blob/master/notebooks/machine-learning/RECOMMENDED_Python_Variables_Data_Structures_Control_Logic.ipynb\" target=\"_parent\"><img src=\"https://colab.research.google.com/assets/colab-badge.svg\" alt=\"Open In Colab\"/></a>"
      ]
    },
    {
      "cell_type": "markdown",
      "metadata": {
        "id": "ZW79sFLMg0jV",
        "colab_type": "text"
      },
      "source": [
        "ISRC Python Workshop: Baiscs I\n",
        "\n",
        "__Variables, Data Structures, and Control Logic__"
      ]
    },
    {
      "cell_type": "markdown",
      "metadata": {
        "id": "tMvVlQU3g0jZ",
        "colab_type": "text"
      },
      "source": [
        "<hr>"
      ]
    },
    {
      "cell_type": "markdown",
      "metadata": {
        "id": "Re99xmgag0jb",
        "colab_type": "text"
      },
      "source": [
        "@author: Zhiya Zuo\n",
        "\n",
        "@email: zhiya-zuo@uiowa.edu"
      ]
    },
    {
      "cell_type": "markdown",
      "metadata": {
        "id": "ahiuBfJzg0jc",
        "colab_type": "text"
      },
      "source": [
        "---"
      ]
    },
    {
      "cell_type": "markdown",
      "metadata": {
        "id": "E-oddgPTg0je",
        "colab_type": "text"
      },
      "source": [
        "### Introduction"
      ]
    },
    {
      "cell_type": "markdown",
      "metadata": {
        "id": "aG6mNyWfg0jf",
        "colab_type": "text"
      },
      "source": [
        "#### Interpreted Language"
      ]
    },
    {
      "cell_type": "markdown",
      "metadata": {
        "id": "bpKvhy8pg0jh",
        "colab_type": "text"
      },
      "source": [
        "If you type your command in the console, you will get the response instantly.\n",
        "\n",
        "Example: \n",
        "![Example of Python code](http://i.imgur.com/VMP3D0T.png)"
      ]
    },
    {
      "cell_type": "markdown",
      "metadata": {
        "id": "zdz1-7akg0ji",
        "colab_type": "text"
      },
      "source": [
        "#### Popular Language for Data Analysis"
      ]
    },
    {
      "cell_type": "markdown",
      "metadata": {
        "id": "pESYql0ig0jk",
        "colab_type": "text"
      },
      "source": [
        "Most of the time, you will need external packages to asist data analyses.\n",
        "\n",
        " ![Python Packages](http://i.imgur.com/Q8trGd1.png)"
      ]
    },
    {
      "cell_type": "markdown",
      "metadata": {
        "id": "0jZc84Lzg0jm",
        "colab_type": "text"
      },
      "source": [
        "---"
      ]
    },
    {
      "cell_type": "markdown",
      "metadata": {
        "id": "RKjZKmT4g0jn",
        "colab_type": "text"
      },
      "source": [
        "### Variables"
      ]
    },
    {
      "cell_type": "markdown",
      "metadata": {
        "id": "G6gTMoPWg0jp",
        "colab_type": "text"
      },
      "source": [
        "Vairables can be considered __containers__. You can put anything inside a container, __without specifying the size or type__, which will be needed in Java or C. Note that Python is case-sensitive. Be careful about using letters in different cases."
      ]
    },
    {
      "cell_type": "markdown",
      "metadata": {
        "id": "xsHlj-8xg0jq",
        "colab_type": "text"
      },
      "source": [
        "When assigning values, we put the variable to be assigned to on the left hand side (LHS), while the value to plug in on the RHS. LHS and RHS are connected by an equal sign (`=`), meaning assignment."
      ]
    },
    {
      "cell_type": "code",
      "metadata": {
        "ExecuteTime": {
          "end_time": "2017-10-04T18:38:12.552928Z",
          "start_time": "2017-10-04T18:38:12.543725Z"
        },
        "id": "AutBVNcfg0js",
        "colab_type": "code",
        "colab": {}
      },
      "source": [
        "x = 3 # integer\n",
        "y = 3. # floating point number\n",
        "z = \"Hello!\" # strings\n",
        "Z = \"Wonderful!\" # another string, stored in a variable big z.\n",
        "print(x)\n",
        "print(y)\n",
        "print(z)\n",
        "print(Z)"
      ],
      "execution_count": 0,
      "outputs": []
    },
    {
      "cell_type": "markdown",
      "metadata": {
        "id": "awxTSSEKg0jz",
        "colab_type": "text"
      },
      "source": [
        "You can do operations on numeric values as well as strings."
      ]
    },
    {
      "cell_type": "code",
      "metadata": {
        "ExecuteTime": {
          "end_time": "2018-10-09T01:38:17.443096Z",
          "start_time": "2018-10-09T01:38:17.439036Z"
        },
        "id": "NzniO6rvg0j0",
        "colab_type": "code",
        "colab": {}
      },
      "source": [
        "sum_ = x + y # int + float = float\n",
        "print(sum_)"
      ],
      "execution_count": 0,
      "outputs": []
    },
    {
      "cell_type": "code",
      "metadata": {
        "ExecuteTime": {
          "end_time": "2017-10-04T18:38:13.972732Z",
          "start_time": "2017-10-04T18:38:13.967236Z"
        },
        "id": "LGq6vVjDg0j5",
        "colab_type": "code",
        "colab": {}
      },
      "source": [
        "v = \"World!\"\n",
        "sum_string = z + \" \" + v # concatenate strings\n",
        "print(sum_string)"
      ],
      "execution_count": 0,
      "outputs": []
    },
    {
      "cell_type": "markdown",
      "metadata": {
        "id": "juc53ti0g0j9",
        "colab_type": "text"
      },
      "source": [
        "Print with formating with `%`"
      ]
    },
    {
      "cell_type": "code",
      "metadata": {
        "ExecuteTime": {
          "end_time": "2017-10-04T18:38:15.178277Z",
          "start_time": "2017-10-04T18:38:15.173368Z"
        },
        "id": "AFCWA-Dvg0j_",
        "colab_type": "code",
        "colab": {}
      },
      "source": [
        "print(\"The sum of x and y is %.2f\"%sum_) # %f for floating point number"
      ],
      "execution_count": 0,
      "outputs": []
    },
    {
      "cell_type": "code",
      "metadata": {
        "ExecuteTime": {
          "end_time": "2017-10-04T18:38:15.472965Z",
          "start_time": "2017-10-04T18:38:15.467306Z"
        },
        "id": "vWo1tTPcg0kF",
        "colab_type": "code",
        "colab": {}
      },
      "source": [
        "print(\"The string `sum_string` is '%s'\"%sum_string) # %s for string"
      ],
      "execution_count": 0,
      "outputs": []
    },
    {
      "cell_type": "markdown",
      "metadata": {
        "id": "IifDAuGMg0kJ",
        "colab_type": "text"
      },
      "source": [
        "#### Naming convention"
      ]
    },
    {
      "cell_type": "markdown",
      "metadata": {
        "id": "qbXIsXYvg0kK",
        "colab_type": "text"
      },
      "source": [
        "There are two commonly used style in programming:\n",
        "\n",
        "1. __camelCase__\n",
        "2. __snake_case__ or __lower_case_with_underscore__"
      ]
    },
    {
      "cell_type": "markdown",
      "metadata": {
        "id": "RMG387Ufg0kM",
        "colab_type": "text"
      },
      "source": [
        "All variable (function and class) names must start with a letter or underscore (\\_). You can include numbers."
      ]
    },
    {
      "cell_type": "code",
      "metadata": {
        "ExecuteTime": {
          "end_time": "2018-10-09T00:16:28.497486Z",
          "start_time": "2018-10-09T00:16:28.491966Z"
        },
        "id": "RPB5yfYig0kN",
        "colab_type": "code",
        "colab": {}
      },
      "source": [
        "myStringHere = 'my string'\n",
        "myStringHere"
      ],
      "execution_count": 0,
      "outputs": []
    },
    {
      "cell_type": "code",
      "metadata": {
        "ExecuteTime": {
          "end_time": "2018-10-09T00:16:28.879472Z",
          "start_time": "2018-10-09T00:16:28.875812Z"
        },
        "id": "8WToA4kUg0kS",
        "colab_type": "code",
        "colab": {}
      },
      "source": [
        "x = 3 # valid\n",
        "x_3 = \"xyz\" # valid"
      ],
      "execution_count": 0,
      "outputs": []
    },
    {
      "cell_type": "code",
      "metadata": {
        "ExecuteTime": {
          "end_time": "2018-10-09T00:16:29.096887Z",
          "start_time": "2018-10-09T00:16:29.091476Z"
        },
        "id": "wRkjXPWcg0kX",
        "colab_type": "code",
        "colab": {}
      },
      "source": [
        "3_x = \"456\" # invalid. Numbers cannot be in the first position."
      ],
      "execution_count": 0,
      "outputs": []
    },
    {
      "cell_type": "markdown",
      "metadata": {
        "id": "dNziRoQkg0kb",
        "colab_type": "text"
      },
      "source": [
        "You can choose either camel case or snake case. Always make sure you use one convention consistenly across one project."
      ]
    },
    {
      "cell_type": "markdown",
      "metadata": {
        "id": "xR_q6rHTg0kc",
        "colab_type": "text"
      },
      "source": [
        "See more here:\n",
        "\n",
        "[1] https://www.python.org/dev/peps/pep-0008/#descriptive-naming-styles\n",
        "\n",
        "[2] https://en.wikipedia.org/wiki/Naming_convention_(programming)"
      ]
    },
    {
      "cell_type": "markdown",
      "metadata": {
        "id": "CPDFEFYzg0kd",
        "colab_type": "text"
      },
      "source": [
        "#### Some notes on Strings"
      ]
    },
    {
      "cell_type": "markdown",
      "metadata": {
        "id": "KH754YNrg0ke",
        "colab_type": "text"
      },
      "source": [
        "To initialize a string variable, you can use either double or single quotes."
      ]
    },
    {
      "cell_type": "code",
      "metadata": {
        "ExecuteTime": {
          "end_time": "2018-10-09T00:16:32.520585Z",
          "start_time": "2018-10-09T00:16:32.516838Z"
        },
        "id": "AM1czhiSg0kf",
        "colab_type": "code",
        "colab": {}
      },
      "source": [
        "store_name = \"HyVee\""
      ],
      "execution_count": 0,
      "outputs": []
    },
    {
      "cell_type": "markdown",
      "metadata": {
        "id": "NUXKmfg3g0ki",
        "colab_type": "text"
      },
      "source": [
        "You can think of strings as a sequence of characters (or a __list__ of characters, see the next section). In this case, indices and bracket notations can be used to access specific ranges of characters."
      ]
    },
    {
      "cell_type": "code",
      "metadata": {
        "ExecuteTime": {
          "end_time": "2018-10-09T00:16:32.814921Z",
          "start_time": "2018-10-09T00:16:32.811324Z"
        },
        "id": "4TdnxQCrg0kj",
        "colab_type": "code",
        "colab": {}
      },
      "source": [
        "name_13 = store_name[1:4] # [start, end), end is exclusive; Python starts with 0 NOT 1\n",
        "print(name_13)"
      ],
      "execution_count": 0,
      "outputs": []
    },
    {
      "cell_type": "code",
      "metadata": {
        "ExecuteTime": {
          "end_time": "2018-10-09T00:16:33.080003Z",
          "start_time": "2018-10-09T00:16:33.075926Z"
        },
        "id": "Pu9Kb-gfg0kr",
        "colab_type": "code",
        "colab": {}
      },
      "source": [
        "last_letter = store_name[-1] # -1 means the last element\n",
        "print(last_letter)"
      ],
      "execution_count": 0,
      "outputs": []
    },
    {
      "cell_type": "markdown",
      "metadata": {
        "id": "XP_W0G0Sg0ku",
        "colab_type": "text"
      },
      "source": [
        "#### Variable Inspector in Jupyter"
      ]
    },
    {
      "cell_type": "markdown",
      "metadata": {
        "id": "_HwAyAa_g0kv",
        "colab_type": "text"
      },
      "source": [
        "If you are more comfortable with an IDE like RStudio or Rodeo where we can see all the variables, the [Variable Inpsector](https://jupyter-contrib-nbextensions.readthedocs.io/en/latest/nbextensions/varInspector/README.html) extension may be helpful"
      ]
    },
    {
      "cell_type": "markdown",
      "metadata": {
        "id": "zeotJjOUg0kw",
        "colab_type": "text"
      },
      "source": [
        "---"
      ]
    },
    {
      "cell_type": "markdown",
      "metadata": {
        "id": "8Tz_S_9Tg0kx",
        "colab_type": "text"
      },
      "source": [
        "### Simple Data Structures"
      ]
    },
    {
      "cell_type": "markdown",
      "metadata": {
        "id": "0V0tHXvGg0ky",
        "colab_type": "text"
      },
      "source": [
        "In this section, we go over some common [primitive](https://www.datacamp.com/community/tutorials/data-structures-python#adt) data types in Python. While the word _primitive_ looks obscure, we can think of it as the most basic data type that cannot be further decomposed into simpler ones.\n",
        "\n",
        "I categorize them into several subsections based on the values they represent."
      ]
    },
    {
      "cell_type": "markdown",
      "metadata": {
        "id": "-Di8sXzWg0k0",
        "colab_type": "text"
      },
      "source": [
        "#### Numbers"
      ]
    },
    {
      "cell_type": "markdown",
      "metadata": {
        "id": "Qvc7QYWFg0k2",
        "colab_type": "text"
      },
      "source": [
        "For numbers w/o fractional parts, we say they are ___integer___. In Python, they are called `int`"
      ]
    },
    {
      "cell_type": "code",
      "metadata": {
        "ExecuteTime": {
          "end_time": "2018-10-08T23:51:10.632494Z",
          "start_time": "2018-10-08T23:51:10.598421Z"
        },
        "id": "bcJdpRkog0k3",
        "colab_type": "code",
        "colab": {}
      },
      "source": [
        "x = 3\n",
        "type(x)"
      ],
      "execution_count": 0,
      "outputs": []
    },
    {
      "cell_type": "markdown",
      "metadata": {
        "id": "GB9DY477g0k9",
        "colab_type": "text"
      },
      "source": [
        "For numbers w/ fractional parts, they are floating point numbers. They are named `float` in Python."
      ]
    },
    {
      "cell_type": "code",
      "metadata": {
        "ExecuteTime": {
          "end_time": "2018-10-08T23:51:54.013974Z",
          "start_time": "2018-10-08T23:51:54.008407Z"
        },
        "id": "9J9uNjQwg0k_",
        "colab_type": "code",
        "colab": {}
      },
      "source": [
        "y = 3.0\n",
        "type(y)"
      ],
      "execution_count": 0,
      "outputs": []
    },
    {
      "cell_type": "markdown",
      "metadata": {
        "ExecuteTime": {
          "end_time": "2018-10-08T23:55:03.134594Z",
          "start_time": "2018-10-08T23:55:03.118103Z"
        },
        "id": "7LLDFoCqg0lD",
        "colab_type": "text"
      },
      "source": [
        "We can apply arithmetic to these numbers. However, one thing we need to be careful about is ___type conversion___. See the example below."
      ]
    },
    {
      "cell_type": "code",
      "metadata": {
        "ExecuteTime": {
          "end_time": "2018-10-08T23:55:31.855870Z",
          "start_time": "2018-10-08T23:55:31.847879Z"
        },
        "id": "bKTkicr8g0lE",
        "colab_type": "code",
        "colab": {}
      },
      "source": [
        "z = 2 * x\n",
        "type(z)"
      ],
      "execution_count": 0,
      "outputs": []
    },
    {
      "cell_type": "code",
      "metadata": {
        "ExecuteTime": {
          "end_time": "2018-10-08T23:55:36.207707Z",
          "start_time": "2018-10-08T23:55:36.202449Z"
        },
        "id": "IbntQkDGg0lH",
        "colab_type": "code",
        "colab": {}
      },
      "source": [
        "z = y + x\n",
        "type(z)"
      ],
      "execution_count": 0,
      "outputs": []
    },
    {
      "cell_type": "markdown",
      "metadata": {
        "id": "m4G63hh0g0lK",
        "colab_type": "text"
      },
      "source": [
        "#### Text/Characters/Strings"
      ]
    },
    {
      "cell_type": "markdown",
      "metadata": {
        "id": "3SfqIuMQg0lM",
        "colab_type": "text"
      },
      "source": [
        "In Python, we use `str` type for storing letters, words, and any other characters, as mentioned previously in Section 2.2"
      ]
    },
    {
      "cell_type": "code",
      "metadata": {
        "ExecuteTime": {
          "end_time": "2018-10-08T23:57:26.831211Z",
          "start_time": "2018-10-08T23:57:26.826020Z"
        },
        "id": "qYEp5DFgg0lN",
        "colab_type": "code",
        "colab": {}
      },
      "source": [
        "my_word = \"see you\"\n",
        "type(my_word)"
      ],
      "execution_count": 0,
      "outputs": []
    },
    {
      "cell_type": "markdown",
      "metadata": {
        "id": "w6XWcTFHg0lQ",
        "colab_type": "text"
      },
      "source": [
        "Unlike numbers, `str` is an iterable object, meaning that we can iterate through each individual character:"
      ]
    },
    {
      "cell_type": "code",
      "metadata": {
        "ExecuteTime": {
          "end_time": "2018-10-08T23:58:44.058368Z",
          "start_time": "2018-10-08T23:58:44.052694Z"
        },
        "id": "Yv_mQ9avg0lR",
        "colab_type": "code",
        "colab": {}
      },
      "source": [
        "my_word[0], my_word[2:6]"
      ],
      "execution_count": 0,
      "outputs": []
    },
    {
      "cell_type": "markdown",
      "metadata": {
        "id": "JtgIfvkWg0lU",
        "colab_type": "text"
      },
      "source": [
        "We can also use `+` to _concatenate_ different strings "
      ]
    },
    {
      "cell_type": "code",
      "metadata": {
        "ExecuteTime": {
          "end_time": "2018-10-08T23:59:16.399980Z",
          "start_time": "2018-10-08T23:59:16.395030Z"
        },
        "id": "xAYn2iqNg0lV",
        "colab_type": "code",
        "colab": {}
      },
      "source": [
        "my_word + ' tomorrow'"
      ],
      "execution_count": 0,
      "outputs": []
    },
    {
      "cell_type": "markdown",
      "metadata": {
        "id": "zcvhR7cdg0lY",
        "colab_type": "text"
      },
      "source": [
        "#### Boolean"
      ]
    },
    {
      "cell_type": "markdown",
      "metadata": {
        "id": "8v3WpUOLg0lY",
        "colab_type": "text"
      },
      "source": [
        "Boolean type comes in handy when we need to check conditions. For example:"
      ]
    },
    {
      "cell_type": "code",
      "metadata": {
        "ExecuteTime": {
          "end_time": "2018-10-09T00:00:33.751846Z",
          "start_time": "2018-10-09T00:00:33.746658Z"
        },
        "id": "V16ibdGtg0lZ",
        "colab_type": "code",
        "colab": {}
      },
      "source": [
        "my_error = 1.6\n",
        "compare_result = my_error < 0.1\n",
        "compare_result, type(compare_result)"
      ],
      "execution_count": 0,
      "outputs": []
    },
    {
      "cell_type": "markdown",
      "metadata": {
        "id": "jm__PZgCg0lc",
        "colab_type": "text"
      },
      "source": [
        "There are two and only two valid Boolean values: `True` and `False`. We can also think of them as `1` and `0`, respectively."
      ]
    },
    {
      "cell_type": "code",
      "metadata": {
        "ExecuteTime": {
          "end_time": "2018-10-09T00:02:30.834630Z",
          "start_time": "2018-10-09T00:02:30.830339Z"
        },
        "id": "wMZBZmZAg0ld",
        "colab_type": "code",
        "colab": {}
      },
      "source": [
        "my_error > 0"
      ],
      "execution_count": 0,
      "outputs": []
    },
    {
      "cell_type": "markdown",
      "metadata": {
        "id": "WwgvWq9Xg0lg",
        "colab_type": "text"
      },
      "source": [
        "When we use Boolean values for arithmetic operations, they will become `1/0` automatically"
      ]
    },
    {
      "cell_type": "code",
      "metadata": {
        "ExecuteTime": {
          "end_time": "2018-10-09T00:02:52.791120Z",
          "start_time": "2018-10-09T00:02:52.783315Z"
        },
        "id": "YsE1YX7tg0lh",
        "colab_type": "code",
        "colab": {}
      },
      "source": [
        "(my_error>0) + 2"
      ],
      "execution_count": 0,
      "outputs": []
    },
    {
      "cell_type": "markdown",
      "metadata": {
        "id": "0Pvvyc_pg0lk",
        "colab_type": "text"
      },
      "source": [
        "#### Type Conversion"
      ]
    },
    {
      "cell_type": "markdown",
      "metadata": {
        "id": "4Opv4qizg0ll",
        "colab_type": "text"
      },
      "source": [
        "Since variables in Python are dynamically typed, we need to be careful about type conversion."
      ]
    },
    {
      "cell_type": "markdown",
      "metadata": {
        "id": "vanEsVogg0ln",
        "colab_type": "text"
      },
      "source": [
        "When two variables share the same data type, there is not much to be worried about:"
      ]
    },
    {
      "cell_type": "code",
      "metadata": {
        "ExecuteTime": {
          "end_time": "2018-10-09T00:04:59.077234Z",
          "start_time": "2018-10-09T00:04:59.072252Z"
        },
        "id": "KyD85KAwg0lo",
        "colab_type": "code",
        "colab": {}
      },
      "source": [
        "s1 = \"no problem. \"\n",
        "s2 = \"talk to you later\"\n",
        "s1 + s2"
      ],
      "execution_count": 0,
      "outputs": []
    },
    {
      "cell_type": "markdown",
      "metadata": {
        "id": "JOfNIc_og0lr",
        "colab_type": "text"
      },
      "source": [
        "But be careful when we are mixing variables up:"
      ]
    },
    {
      "cell_type": "code",
      "metadata": {
        "ExecuteTime": {
          "end_time": "2018-10-09T00:06:03.221806Z",
          "start_time": "2018-10-09T00:06:03.217855Z"
        },
        "id": "rWLfDUs1g0ls",
        "colab_type": "code",
        "colab": {}
      },
      "source": [
        "a = 3 # recall that this is an ____?\n",
        "b = 2.7 # how about this?\n",
        "c = a + b # what is the type of `c`?"
      ],
      "execution_count": 0,
      "outputs": []
    },
    {
      "cell_type": "markdown",
      "metadata": {
        "id": "ZeFAi6LDg0lw",
        "colab_type": "text"
      },
      "source": [
        "To make things work between string and numbers, we can explicitly convert numbers into `str`:"
      ]
    },
    {
      "cell_type": "code",
      "metadata": {
        "ExecuteTime": {
          "end_time": "2018-10-09T00:07:59.974061Z",
          "start_time": "2018-10-09T00:07:59.964373Z"
        },
        "id": "uROX4arKg0lx",
        "colab_type": "code",
        "colab": {}
      },
      "source": [
        "s1 + 3"
      ],
      "execution_count": 0,
      "outputs": []
    },
    {
      "cell_type": "code",
      "metadata": {
        "ExecuteTime": {
          "end_time": "2018-10-09T00:08:04.034457Z",
          "start_time": "2018-10-09T00:08:04.027842Z"
        },
        "id": "z0Wpjidwg0l1",
        "colab_type": "code",
        "colab": {}
      },
      "source": [
        "s1 + str(3)"
      ],
      "execution_count": 0,
      "outputs": []
    },
    {
      "cell_type": "markdown",
      "metadata": {
        "id": "NsDx_JyZg0l4",
        "colab_type": "text"
      },
      "source": [
        "---"
      ]
    },
    {
      "cell_type": "markdown",
      "metadata": {
        "id": "siTcGqaXg0l5",
        "colab_type": "text"
      },
      "source": [
        "### Data Structures To Store Those in Section 3"
      ]
    },
    {
      "cell_type": "markdown",
      "metadata": {
        "id": "4EzqnaWkg0l6",
        "colab_type": "text"
      },
      "source": [
        "In this section, we discuss some ___nonprimitive___ data structures in Python.\n",
        "\n",
        "We can think of ___nonprimitive___ types as those who can store ___primitive___ data"
      ]
    },
    {
      "cell_type": "markdown",
      "metadata": {
        "id": "RkxYMqyag0l7",
        "colab_type": "text"
      },
      "source": [
        "#### List"
      ]
    },
    {
      "cell_type": "markdown",
      "metadata": {
        "id": "YGYxExoHg0l8",
        "colab_type": "text"
      },
      "source": [
        "Initialize a list with brackets. You can store anything in a list, even if they are different types\n",
        "- note that we use [___string formatting___](https://pyformat.info/) to display strings\n",
        "- `%i` is a placeholder for `int`\n",
        "- `%s` for `str`"
      ]
    },
    {
      "cell_type": "code",
      "metadata": {
        "ExecuteTime": {
          "end_time": "2018-10-09T00:10:24.538230Z",
          "start_time": "2018-10-09T00:10:24.528793Z"
        },
        "id": "ed3OrFyIg0l9",
        "colab_type": "code",
        "colab": {}
      },
      "source": [
        "a_list = [1, 2, 3] # commas to seperate elements\n",
        "print(\"Length of a_list is: %i\"%(len(a_list)))\n",
        "print(\"The 3rd element of a_list is: %s\" %(a_list[2])) # Remember Python starts with 0\n",
        "print(\"The last element of a_list is: %s\" %(a_list[-1])) # -1 means the end\n",
        "print(\"The sum of a_list is %.2f\"%(sum(a_list)))"
      ],
      "execution_count": 0,
      "outputs": []
    },
    {
      "cell_type": "markdown",
      "metadata": {
        "ExecuteTime": {
          "end_time": "2018-10-09T00:10:32.820098Z",
          "start_time": "2018-10-09T00:10:32.815341Z"
        },
        "id": "1JQGn12cg0mC",
        "colab_type": "text"
      },
      "source": [
        "We can put different types in a list"
      ]
    },
    {
      "cell_type": "code",
      "metadata": {
        "ExecuteTime": {
          "end_time": "2018-10-09T00:10:35.486742Z",
          "start_time": "2018-10-09T00:10:35.479281Z"
        },
        "id": "g-9dU2UKg0mE",
        "colab_type": "code",
        "colab": {}
      },
      "source": [
        "b_list = [20, True, \"good\", \"good\"] \n",
        "b_list"
      ],
      "execution_count": 0,
      "outputs": []
    },
    {
      "cell_type": "markdown",
      "metadata": {
        "id": "xPwoIiclg0mJ",
        "colab_type": "text"
      },
      "source": [
        "Update a list: __pop__, __remove__, __append__, __extend__"
      ]
    },
    {
      "cell_type": "code",
      "metadata": {
        "ExecuteTime": {
          "end_time": "2018-10-09T00:10:41.107486Z",
          "start_time": "2018-10-09T00:10:41.102493Z"
        },
        "id": "ppuczMyDg0mN",
        "colab_type": "code",
        "colab": {}
      },
      "source": [
        "print(a_list)\n",
        "print(\"Pop %i out of a_list\"%a_list.pop(1)) # pop the value of an index\n",
        "print(a_list)"
      ],
      "execution_count": 0,
      "outputs": []
    },
    {
      "cell_type": "code",
      "metadata": {
        "ExecuteTime": {
          "end_time": "2018-10-09T00:10:43.906572Z",
          "start_time": "2018-10-09T00:10:43.899877Z"
        },
        "id": "N1FjwoWEg0mR",
        "colab_type": "code",
        "colab": {}
      },
      "source": [
        "print(\"Remove the string good from b_list:\")\n",
        "b_list.remove(\"good\") # remove a specific value (the first one in the list)\n",
        "print(b_list)"
      ],
      "execution_count": 0,
      "outputs": []
    },
    {
      "cell_type": "code",
      "metadata": {
        "ExecuteTime": {
          "end_time": "2018-10-09T00:10:45.307563Z",
          "start_time": "2018-10-09T00:10:45.302951Z"
        },
        "id": "xUbQ8KFMg0mU",
        "colab_type": "code",
        "colab": {}
      },
      "source": [
        "a_list.append(10)\n",
        "print(\"After appending a new value, a_list is now: %s\"%(str(a_list)))"
      ],
      "execution_count": 0,
      "outputs": []
    },
    {
      "cell_type": "markdown",
      "metadata": {
        "ExecuteTime": {
          "end_time": "2018-10-09T00:10:45.952388Z",
          "start_time": "2018-10-09T00:10:45.943473Z"
        },
        "id": "txmBOftig0mX",
        "colab_type": "text"
      },
      "source": [
        "merge `a_list` and `b_list`: "
      ]
    },
    {
      "cell_type": "code",
      "metadata": {
        "ExecuteTime": {
          "end_time": "2018-10-09T00:12:02.249064Z",
          "start_time": "2018-10-09T00:12:02.241901Z"
        },
        "id": "rYwqUNEQg0mY",
        "colab_type": "code",
        "colab": {}
      },
      "source": [
        "a_list.extend(b_list)\n",
        "print(\"Merging a_list and b_list: %s\"%(str(a_list)))"
      ],
      "execution_count": 0,
      "outputs": []
    },
    {
      "cell_type": "markdown",
      "metadata": {
        "ExecuteTime": {
          "end_time": "2018-10-09T00:10:45.952388Z",
          "start_time": "2018-10-09T00:10:45.943473Z"
        },
        "id": "QqLDb9Pyg0mc",
        "colab_type": "text"
      },
      "source": [
        "We can also use `+` to concatenate two lists"
      ]
    },
    {
      "cell_type": "code",
      "metadata": {
        "ExecuteTime": {
          "end_time": "2018-10-09T00:12:03.301969Z",
          "start_time": "2018-10-09T00:12:03.295626Z"
        },
        "id": "-3R7NMf2g0md",
        "colab_type": "code",
        "colab": {}
      },
      "source": [
        "a_list + b_list "
      ],
      "execution_count": 0,
      "outputs": []
    },
    {
      "cell_type": "markdown",
      "metadata": {
        "id": "rR6Bchk8g0mi",
        "colab_type": "text"
      },
      "source": [
        "#### Tuple (A special case of list whose elements cannot be changed)"
      ]
    },
    {
      "cell_type": "markdown",
      "metadata": {
        "ExecuteTime": {
          "end_time": "2017-10-03T15:58:48.469747Z",
          "start_time": "2017-10-03T15:58:48.461327Z"
        },
        "id": "myeAthm7g0mj",
        "colab_type": "text"
      },
      "source": [
        "Initialize a tuple with paranthesis. The major difference between list and tuple is that you can alter list but not tuple."
      ]
    },
    {
      "cell_type": "code",
      "metadata": {
        "ExecuteTime": {
          "end_time": "2018-10-09T00:12:16.790034Z",
          "start_time": "2018-10-09T00:12:16.784149Z"
        },
        "id": "WWIM8Y-dg0ml",
        "colab_type": "code",
        "colab": {}
      },
      "source": [
        "a_tuple = (1, 2, 3, 10)\n",
        "print(a_tuple)\n",
        "print(\"First element of a_tuple: %i\"%a_tuple[0])"
      ],
      "execution_count": 0,
      "outputs": []
    },
    {
      "cell_type": "markdown",
      "metadata": {
        "ExecuteTime": {
          "end_time": "2018-10-09T00:12:17.683012Z",
          "start_time": "2018-10-09T00:12:17.672651Z"
        },
        "id": "lKiy_8mKg0mv",
        "colab_type": "text"
      },
      "source": [
        "You cannot change the values of a_tuple"
      ]
    },
    {
      "cell_type": "code",
      "metadata": {
        "ExecuteTime": {
          "end_time": "2018-10-09T00:12:24.288097Z",
          "start_time": "2018-10-09T00:12:24.278444Z"
        },
        "id": "f7vuDAFJg0mx",
        "colab_type": "code",
        "colab": {}
      },
      "source": [
        "a_tuple[0] = 5"
      ],
      "execution_count": 0,
      "outputs": []
    },
    {
      "cell_type": "markdown",
      "metadata": {
        "id": "nlHVaYi-g0m0",
        "colab_type": "text"
      },
      "source": [
        "In order to create a single value tuple, you need to add a ','"
      ]
    },
    {
      "cell_type": "code",
      "metadata": {
        "id": "E5z4uL49g0m1",
        "colab_type": "code",
        "colab": {}
      },
      "source": [
        "a_tuple = (1) # this would create a int type\n",
        "print(type(a_tuple))\n",
        "b_tuple = (1,) # this would create a tuple type, take note of the comma.\n",
        "print(type(b_tuple))"
      ],
      "execution_count": 0,
      "outputs": []
    },
    {
      "cell_type": "markdown",
      "metadata": {
        "id": "Sw3XMAApg0m5",
        "colab_type": "text"
      },
      "source": [
        "#### Dictionary: key-value pairs"
      ]
    },
    {
      "cell_type": "markdown",
      "metadata": {
        "id": "RAoUaghvg0m5",
        "colab_type": "text"
      },
      "source": [
        "Initialize a dict by curly brackets `{}`"
      ]
    },
    {
      "cell_type": "code",
      "metadata": {
        "ExecuteTime": {
          "end_time": "2018-10-09T00:12:58.821876Z",
          "start_time": "2018-10-09T00:12:58.817697Z"
        },
        "id": "B88EU3bkg0m6",
        "colab_type": "code",
        "colab": {}
      },
      "source": [
        "d = {} # empty dictionary\n",
        "d[1] = \"1 value\" # add a key-value by using bracket (key). You can put anything in key/value.\n",
        "print(d)"
      ],
      "execution_count": 0,
      "outputs": []
    },
    {
      "cell_type": "code",
      "metadata": {
        "ExecuteTime": {
          "end_time": "2018-10-09T00:12:59.006654Z",
          "start_time": "2018-10-09T00:12:59.002247Z"
        },
        "id": "MaBaJlQwg0m-",
        "colab_type": "code",
        "colab": {}
      },
      "source": [
        "# Use for loop to add values\n",
        "for index in range(2, 10):\n",
        "    d[index] = \"%i value\"%index\n",
        "print(d)\n",
        "print(\"All the keys: \" + str(d.keys()))\n",
        "print(\"All the values: \" + str(d.values()))"
      ],
      "execution_count": 0,
      "outputs": []
    },
    {
      "cell_type": "code",
      "metadata": {
        "ExecuteTime": {
          "end_time": "2018-10-09T00:13:11.439289Z",
          "start_time": "2018-10-09T00:13:11.434000Z"
        },
        "id": "e4niNRjtg0nB",
        "colab_type": "code",
        "colab": {}
      },
      "source": [
        "for key in d:\n",
        "    print(\"Key is: %i, Value is : %s\"%(key, d[key]))"
      ],
      "execution_count": 0,
      "outputs": []
    },
    {
      "cell_type": "markdown",
      "metadata": {
        "id": "IrpgnLVug0nF",
        "colab_type": "text"
      },
      "source": [
        "---"
      ]
    },
    {
      "cell_type": "markdown",
      "metadata": {
        "id": "Kzu8L71Gg0nG",
        "colab_type": "text"
      },
      "source": [
        "### Control Logics\n",
        "\n",
        "In the following examples, we show examples of comparison, `if-else` loop, `for` loop, and `while` loop."
      ]
    },
    {
      "cell_type": "markdown",
      "metadata": {
        "id": "2d0lQoaPg0nH",
        "colab_type": "text"
      },
      "source": [
        "#### Comparison"
      ]
    },
    {
      "cell_type": "markdown",
      "metadata": {
        "id": "tb9kKvOYg0nH",
        "colab_type": "text"
      },
      "source": [
        "Python syntax for comparison is the same as our hand-written convention: \n",
        "\n",
        "1. Larger (or equal): `>` (`>=`)\n",
        "2. Smaller (or equal): `<` (`<=`)\n",
        "3. Equal to: `==` (__Notie here that there are double equal signs__)\n",
        "4. Not equal to: `!=`"
      ]
    },
    {
      "cell_type": "code",
      "metadata": {
        "ExecuteTime": {
          "end_time": "2018-10-09T00:16:20.683160Z",
          "start_time": "2018-10-09T00:16:20.676171Z"
        },
        "id": "zF5o2iQAg0nI",
        "colab_type": "code",
        "colab": {}
      },
      "source": [
        "3 == 5 "
      ],
      "execution_count": 0,
      "outputs": []
    },
    {
      "cell_type": "code",
      "metadata": {
        "ExecuteTime": {
          "end_time": "2018-10-09T00:16:21.107023Z",
          "start_time": "2018-10-09T00:16:21.102607Z"
        },
        "id": "g58qkEwBg0nK",
        "colab_type": "code",
        "colab": {}
      },
      "source": [
        "72 >= 2"
      ],
      "execution_count": 0,
      "outputs": []
    },
    {
      "cell_type": "code",
      "metadata": {
        "ExecuteTime": {
          "end_time": "2018-10-09T00:16:49.169393Z",
          "start_time": "2018-10-09T00:16:49.164386Z"
        },
        "id": "Y7tLHLiag0nN",
        "colab_type": "code",
        "colab": {}
      },
      "source": [
        "store_name"
      ],
      "execution_count": 0,
      "outputs": []
    },
    {
      "cell_type": "code",
      "metadata": {
        "ExecuteTime": {
          "end_time": "2018-10-09T00:16:49.460268Z",
          "start_time": "2018-10-09T00:16:49.453590Z"
        },
        "id": "86Xq0nN3g0nP",
        "colab_type": "code",
        "colab": {}
      },
      "source": [
        "store_name == \"HyVee\" # Will return a boolean value True or False"
      ],
      "execution_count": 0,
      "outputs": []
    },
    {
      "cell_type": "markdown",
      "metadata": {
        "id": "m5PwEwkog0nR",
        "colab_type": "text"
      },
      "source": [
        "IMPORTANT: It is worth noting that comparisons between floating point numbers are tricky."
      ]
    },
    {
      "cell_type": "code",
      "metadata": {
        "ExecuteTime": {
          "end_time": "2018-10-09T00:17:16.577984Z",
          "start_time": "2018-10-09T00:17:16.571556Z"
        },
        "id": "cjpmSZoHg0nU",
        "colab_type": "code",
        "colab": {}
      },
      "source": [
        "print(2.2 * 3.0)\n",
        "2.2 * 3.0 == 6.6"
      ],
      "execution_count": 0,
      "outputs": []
    },
    {
      "cell_type": "code",
      "metadata": {
        "ExecuteTime": {
          "end_time": "2018-10-09T00:17:16.777940Z",
          "start_time": "2018-10-09T00:17:16.771796Z"
        },
        "id": "W2UcEqisg0nY",
        "colab_type": "code",
        "colab": {}
      },
      "source": [
        "3.3 * 2.0 == 6.6"
      ],
      "execution_count": 0,
      "outputs": []
    },
    {
      "cell_type": "markdown",
      "metadata": {
        "id": "UB7jt0_kg0nb",
        "colab_type": "text"
      },
      "source": [
        "From @Amandan from [Stack Overflow](https://stackoverflow.com/users/3346210/zhiya?tab=questions&sort=newest)"
      ]
    },
    {
      "cell_type": "code",
      "metadata": {
        "ExecuteTime": {
          "end_time": "2018-10-09T00:17:17.392986Z",
          "start_time": "2018-10-09T00:17:17.388888Z"
        },
        "id": "WnD5trIng0nc",
        "colab_type": "code",
        "colab": {}
      },
      "source": [
        "print(float.hex(2.2 * 3.0))\n",
        "print(float.hex(3.3 * 2.0))\n",
        "print(float.hex(6.6))"
      ],
      "execution_count": 0,
      "outputs": []
    },
    {
      "cell_type": "markdown",
      "metadata": {
        "id": "hlKufi0Wg0nh",
        "colab_type": "text"
      },
      "source": [
        "Therefore, be really careful when you have to do such comparison"
      ]
    },
    {
      "cell_type": "markdown",
      "metadata": {
        "id": "z1G4xCV5g0ni",
        "colab_type": "text"
      },
      "source": [
        "#### If-Else"
      ]
    },
    {
      "cell_type": "code",
      "metadata": {
        "ExecuteTime": {
          "end_time": "2018-10-09T01:38:46.027739Z",
          "start_time": "2018-10-09T01:38:46.023274Z"
        },
        "id": "gLoK9YCkg0nj",
        "colab_type": "code",
        "colab": {}
      },
      "source": [
        "sum_ "
      ],
      "execution_count": 0,
      "outputs": []
    },
    {
      "cell_type": "code",
      "metadata": {
        "ExecuteTime": {
          "end_time": "2018-10-09T01:38:47.709640Z",
          "start_time": "2018-10-09T01:38:47.704307Z"
        },
        "id": "YyxPlBbsg0nq",
        "colab_type": "code",
        "colab": {}
      },
      "source": [
        "if sum_ == 0:\n",
        "    print(\"sum_ is 0\")\n",
        "elif sum_ < 0:\n",
        "    print(\"sum_ is less than 0\")\n",
        "else:\n",
        "    print(\"sum_ is above 0 and its value is \" + str(sum_)) # Cast sum_ into string type."
      ],
      "execution_count": 0,
      "outputs": []
    },
    {
      "cell_type": "markdown",
      "metadata": {
        "id": "NMCqKfl_g0nw",
        "colab_type": "text"
      },
      "source": [
        "Note that you do not have to use `if-else` or `if-elif-...-else`. You can use `if` without other clauses following that."
      ]
    },
    {
      "cell_type": "code",
      "metadata": {
        "ExecuteTime": {
          "end_time": "2018-10-09T01:38:49.218876Z",
          "start_time": "2018-10-09T01:38:49.214871Z"
        },
        "id": "XiIhrBZWg0nx",
        "colab_type": "code",
        "colab": {}
      },
      "source": [
        "if sum_ > 5:\n",
        "    print('sum_ is above 5')"
      ],
      "execution_count": 0,
      "outputs": []
    },
    {
      "cell_type": "markdown",
      "metadata": {
        "id": "Byvmcexeg0nz",
        "colab_type": "text"
      },
      "source": [
        "Comparing strings are similar"
      ]
    },
    {
      "cell_type": "code",
      "metadata": {
        "ExecuteTime": {
          "end_time": "2018-10-09T01:38:50.755605Z",
          "start_time": "2018-10-09T01:38:50.751523Z"
        },
        "id": "SX9g2Flmg0n0",
        "colab_type": "code",
        "colab": {}
      },
      "source": [
        "store_name = 'Walmart'\n",
        "#store_name = 'Hyvee'"
      ],
      "execution_count": 0,
      "outputs": []
    },
    {
      "cell_type": "code",
      "metadata": {
        "ExecuteTime": {
          "end_time": "2018-10-09T01:38:57.568568Z",
          "start_time": "2018-10-09T01:38:57.563726Z"
        },
        "id": "Dun_NZuGg0n2",
        "colab_type": "code",
        "colab": {}
      },
      "source": [
        "if 'Wal' in store_name:\n",
        "    print(\"The store is not Walmart. It's \" + store_name + \".\")\n",
        "else:\n",
        "    print(\"The store is Walmart.\")"
      ],
      "execution_count": 0,
      "outputs": []
    },
    {
      "cell_type": "markdown",
      "metadata": {
        "id": "xrGBKP3Dg0n3",
        "colab_type": "text"
      },
      "source": [
        "#### For loop: Iterating thru a sequence"
      ]
    },
    {
      "cell_type": "code",
      "metadata": {
        "ExecuteTime": {
          "end_time": "2018-10-09T01:39:07.309307Z",
          "start_time": "2018-10-09T01:39:07.305696Z"
        },
        "id": "g2es_xfYg0n4",
        "colab_type": "code",
        "colab": {}
      },
      "source": [
        "for letter in store_name:\n",
        "    print(letter)"
      ],
      "execution_count": 0,
      "outputs": []
    },
    {
      "cell_type": "markdown",
      "metadata": {
        "ExecuteTime": {
          "end_time": "2017-10-04T18:38:51.792543Z",
          "start_time": "2017-10-04T18:38:51.786228Z"
        },
        "id": "Cv3WTtdHg0n7",
        "colab_type": "text"
      },
      "source": [
        "`range()` is a function to create interger sequences:\n",
        "- Note that Python 3 now returns an `iterator` instead of actual `list` with `range` function\n",
        "- See [link](https://stackoverflow.com/questions/44571718/python-3-range-vs-python-2-range)"
      ]
    },
    {
      "cell_type": "code",
      "metadata": {
        "ExecuteTime": {
          "end_time": "2018-10-09T01:41:03.662280Z",
          "start_time": "2018-10-09T01:41:03.657790Z"
        },
        "id": "pSqsupdTg0n7",
        "colab_type": "code",
        "colab": {}
      },
      "source": [
        "print(\"range(5) gives\" + str(list(range(5)))) # By default starts from 0\n",
        "print(\"range(1,9) gives: \" + str(list(range(1, 9)))) # From 1 to 9-1 (Again the end index is exclusive.)"
      ],
      "execution_count": 0,
      "outputs": []
    },
    {
      "cell_type": "code",
      "metadata": {
        "ExecuteTime": {
          "end_time": "2018-10-09T01:41:05.935416Z",
          "start_time": "2018-10-09T01:41:05.930030Z"
        },
        "id": "7MbAhq6Zg0n-",
        "colab_type": "code",
        "colab": {}
      },
      "source": [
        "for index in range(len(store_name)): # length of a sequence\n",
        "    print(\"The %ith letter in store_name is: %s\"%(index, store_name[index]))"
      ],
      "execution_count": 0,
      "outputs": []
    },
    {
      "cell_type": "markdown",
      "metadata": {
        "id": "2nStljDJg0oA",
        "colab_type": "text"
      },
      "source": [
        "#### While loop: Keep doing until condition no longer holds."
      ]
    },
    {
      "cell_type": "markdown",
      "metadata": {
        "id": "Kls19fY4g0oB",
        "colab_type": "text"
      },
      "source": [
        "Use `for` when you know __the exact number of iterations__; use `while` when you __do not (e.g., checking convergence)__."
      ]
    },
    {
      "cell_type": "code",
      "metadata": {
        "ExecuteTime": {
          "end_time": "2018-10-09T01:41:12.053207Z",
          "start_time": "2018-10-09T01:41:12.049347Z"
        },
        "id": "Gm0jJaQhg0oB",
        "colab_type": "code",
        "colab": {}
      },
      "source": [
        "x = 2"
      ],
      "execution_count": 0,
      "outputs": []
    },
    {
      "cell_type": "code",
      "metadata": {
        "ExecuteTime": {
          "end_time": "2018-10-09T01:41:12.294825Z",
          "start_time": "2018-10-09T01:41:12.290846Z"
        },
        "id": "_x1EMv_ig0oE",
        "colab_type": "code",
        "colab": {}
      },
      "source": [
        "while x < 10:\n",
        "    print(x)\n",
        "    x = x + (x-1)\n",
        "    #x += x-1"
      ],
      "execution_count": 0,
      "outputs": []
    },
    {
      "cell_type": "markdown",
      "metadata": {
        "id": "_J1_f1Dpg0oG",
        "colab_type": "text"
      },
      "source": [
        "#### Notes on `break` and `continue`"
      ]
    },
    {
      "cell_type": "markdown",
      "metadata": {
        "id": "FxUdfSCFg0oH",
        "colab_type": "text"
      },
      "source": [
        "`break` means get out of the loop immediately. Any code after the `break` will NOT be executed."
      ]
    },
    {
      "cell_type": "code",
      "metadata": {
        "ExecuteTime": {
          "end_time": "2018-10-09T01:41:21.493159Z",
          "start_time": "2018-10-09T01:41:21.489747Z"
        },
        "id": "lbUkDZRjg0oH",
        "colab_type": "code",
        "colab": {}
      },
      "source": [
        "store_name = 'Walmart'"
      ],
      "execution_count": 0,
      "outputs": []
    },
    {
      "cell_type": "code",
      "metadata": {
        "ExecuteTime": {
          "end_time": "2018-10-09T01:41:22.084338Z",
          "start_time": "2018-10-09T01:41:22.076857Z"
        },
        "id": "yoPwDVW_g0oJ",
        "colab_type": "code",
        "colab": {}
      },
      "source": [
        "index = 0\n",
        "while True:\n",
        "    print(store_name[index])\n",
        "    index += 1 # a += b means a = a + b\n",
        "    if store_name[index] == \"a\":\n",
        "        print(\"End at a\")\n",
        "        break # instead of setting flag to False, we can directly break out of the loop\n",
        "        print(\"Hello!\") # This will NOT be run"
      ],
      "execution_count": 0,
      "outputs": []
    },
    {
      "cell_type": "markdown",
      "metadata": {
        "id": "uUtylW4Lg0oO",
        "colab_type": "text"
      },
      "source": [
        "`continue` means get to the next iteration of loop. It will __break__ the current iteration and __continue__ to the next."
      ]
    },
    {
      "cell_type": "code",
      "metadata": {
        "ExecuteTime": {
          "end_time": "2018-10-09T01:41:23.822603Z",
          "start_time": "2018-10-09T01:41:23.818257Z"
        },
        "id": "9zsc30olg0oP",
        "colab_type": "code",
        "colab": {}
      },
      "source": [
        "for letter in store_name:\n",
        "    if letter == \"a\":\n",
        "        continue # Not printing V\n",
        "    else:\n",
        "        print(letter)"
      ],
      "execution_count": 0,
      "outputs": []
    },
    {
      "cell_type": "code",
      "metadata": {
        "ExecuteTime": {
          "end_time": "2018-10-09T01:41:24.791324Z",
          "start_time": "2018-10-09T01:41:24.780078Z"
        },
        "id": "ewGPlI2fg0oR",
        "colab_type": "code",
        "colab": {}
      },
      "source": [
        "index = 0\n",
        "while index <= len(store_name)-1:\n",
        "    print(store_name[index])\n",
        "    if store_name[index] == \"a\":\n",
        "        print(\"This is an `a`\")\n",
        "        index += 1 # a += b means a = a + b\n",
        "        continue\n",
        "    print(\"Hello!\") # This will NOT be run\n",
        "    index += 1 # a += b means a = a + b"
      ],
      "execution_count": 0,
      "outputs": []
    }
  ]
}